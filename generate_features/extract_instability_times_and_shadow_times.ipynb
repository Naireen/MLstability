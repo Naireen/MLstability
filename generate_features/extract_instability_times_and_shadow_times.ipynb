{
 "cells": [
  {
   "cell_type": "code",
   "execution_count": 39,
   "metadata": {},
   "outputs": [
    {
     "data": {
      "text/html": [
       "<div>\n",
       "<table border=\"1\" class=\"dataframe\">\n",
       "  <thead>\n",
       "    <tr style=\"text-align: right;\">\n",
       "      <th></th>\n",
       "      <th>runstring</th>\n",
       "    </tr>\n",
       "  </thead>\n",
       "  <tbody>\n",
       "    <tr>\n",
       "      <th>24995</th>\n",
       "      <td>0024995.bin</td>\n",
       "    </tr>\n",
       "    <tr>\n",
       "      <th>24996</th>\n",
       "      <td>0024996.bin</td>\n",
       "    </tr>\n",
       "    <tr>\n",
       "      <th>24997</th>\n",
       "      <td>0024997.bin</td>\n",
       "    </tr>\n",
       "    <tr>\n",
       "      <th>24998</th>\n",
       "      <td>0024998.bin</td>\n",
       "    </tr>\n",
       "    <tr>\n",
       "      <th>24999</th>\n",
       "      <td>0024999.bin</td>\n",
       "    </tr>\n",
       "  </tbody>\n",
       "</table>\n",
       "</div>"
      ],
      "text/plain": [
       "         runstring\n",
       "24995  0024995.bin\n",
       "24996  0024996.bin\n",
       "24997  0024997.bin\n",
       "24998  0024998.bin\n",
       "24999  0024999.bin"
      ]
     },
     "execution_count": 39,
     "metadata": {},
     "output_type": "execute_result"
    }
   ],
   "source": [
    "import pandas as pd\n",
    "import numpy as np\n",
    "import os\n",
    "import rebound\n",
    "\n",
    "path = '/scratch/dtamayo/'\n",
    "fcpath = path +'random/final_conditions/runs/fc'\n",
    "shadowfcpath = path +'random/final_conditions/shadowruns/fc'\n",
    "df = pd.read_csv(path+'random/random.csv', index_col=0)\n",
    "df.tail()"
   ]
  },
  {
   "cell_type": "code",
   "execution_count": 8,
   "metadata": {
    "collapsed": true
   },
   "outputs": [],
   "source": [
    "def get_times(row):   \n",
    "    sim = rebound.Simulation.from_file(fcpath+row[\"runstring\"])\n",
    "    shadow = rebound.Simulation.from_file(shadowfcpath+row[\"runstring\"])\n",
    "    columns = ['t', 't_shadow']\n",
    "    features = [sim.t, shadow.t]\n",
    "    return pd.Series(features, index=columns)    "
   ]
  },
  {
   "cell_type": "code",
   "execution_count": 9,
   "metadata": {},
   "outputs": [
    {
     "name": "stderr",
     "output_type": "stream",
     "text": [
      "/mnt/raid-cita/dtamayo/stability2/lib/python2.7/site-packages/rebound/simulation.py:374: RuntimeWarning: You have to reset function pointers after creating a reb_simulation struct with a binary file.\n",
      "  warnings.warn(message, RuntimeWarning)\n"
     ]
    },
    {
     "name": "stdout",
     "output_type": "stream",
     "text": [
      "CPU times: user 11.9 s, sys: 802 ms, total: 12.7 s\n",
      "Wall time: 14.6 s\n"
     ]
    }
   ],
   "source": [
    "%%time\n",
    "df = pd.concat([df, df.apply(get_times, axis=1)], axis=1)"
   ]
  },
  {
   "cell_type": "code",
   "execution_count": 10,
   "metadata": {},
   "outputs": [
    {
     "data": {
      "text/html": [
       "<div>\n",
       "<table border=\"1\" class=\"dataframe\">\n",
       "  <thead>\n",
       "    <tr style=\"text-align: right;\">\n",
       "      <th></th>\n",
       "      <th>runstring</th>\n",
       "      <th>t</th>\n",
       "      <th>t_shadow</th>\n",
       "    </tr>\n",
       "  </thead>\n",
       "  <tbody>\n",
       "    <tr>\n",
       "      <th>0</th>\n",
       "      <td>0000000.bin</td>\n",
       "      <td>1.235644e+07</td>\n",
       "      <td>8.315081e+07</td>\n",
       "    </tr>\n",
       "    <tr>\n",
       "      <th>1</th>\n",
       "      <td>0000001.bin</td>\n",
       "      <td>1.348749e+05</td>\n",
       "      <td>2.133072e+05</td>\n",
       "    </tr>\n",
       "    <tr>\n",
       "      <th>2</th>\n",
       "      <td>0000002.bin</td>\n",
       "      <td>1.276381e+04</td>\n",
       "      <td>9.321519e+03</td>\n",
       "    </tr>\n",
       "    <tr>\n",
       "      <th>3</th>\n",
       "      <td>0000003.bin</td>\n",
       "      <td>1.000000e+09</td>\n",
       "      <td>1.000000e+09</td>\n",
       "    </tr>\n",
       "    <tr>\n",
       "      <th>4</th>\n",
       "      <td>0000004.bin</td>\n",
       "      <td>8.791888e+01</td>\n",
       "      <td>8.791888e+01</td>\n",
       "    </tr>\n",
       "  </tbody>\n",
       "</table>\n",
       "</div>"
      ],
      "text/plain": [
       "     runstring             t      t_shadow\n",
       "0  0000000.bin  1.235644e+07  8.315081e+07\n",
       "1  0000001.bin  1.348749e+05  2.133072e+05\n",
       "2  0000002.bin  1.276381e+04  9.321519e+03\n",
       "3  0000003.bin  1.000000e+09  1.000000e+09\n",
       "4  0000004.bin  8.791888e+01  8.791888e+01"
      ]
     },
     "execution_count": 10,
     "metadata": {},
     "output_type": "execute_result"
    }
   ],
   "source": [
    "df.head()"
   ]
  },
  {
   "cell_type": "code",
   "execution_count": 11,
   "metadata": {
    "collapsed": true
   },
   "outputs": [],
   "source": [
    "df.to_csv('../csvs/deltatimes.csv', encoding='ascii')"
   ]
  },
  {
   "cell_type": "code",
   "execution_count": 13,
   "metadata": {},
   "outputs": [
    {
     "data": {
      "text/html": [
       "<div>\n",
       "<table border=\"1\" class=\"dataframe\">\n",
       "  <thead>\n",
       "    <tr style=\"text-align: right;\">\n",
       "      <th></th>\n",
       "      <th>runstring</th>\n",
       "      <th>t</th>\n",
       "      <th>t_shadow</th>\n",
       "    </tr>\n",
       "  </thead>\n",
       "  <tbody>\n",
       "    <tr>\n",
       "      <th>0</th>\n",
       "      <td>0000000.bin</td>\n",
       "      <td>1.235644e+07</td>\n",
       "      <td>8.315081e+07</td>\n",
       "    </tr>\n",
       "    <tr>\n",
       "      <th>1</th>\n",
       "      <td>0000001.bin</td>\n",
       "      <td>1.348749e+05</td>\n",
       "      <td>2.133072e+05</td>\n",
       "    </tr>\n",
       "    <tr>\n",
       "      <th>2</th>\n",
       "      <td>0000002.bin</td>\n",
       "      <td>1.276381e+04</td>\n",
       "      <td>9.321519e+03</td>\n",
       "    </tr>\n",
       "    <tr>\n",
       "      <th>3</th>\n",
       "      <td>0000003.bin</td>\n",
       "      <td>1.000000e+09</td>\n",
       "      <td>1.000000e+09</td>\n",
       "    </tr>\n",
       "    <tr>\n",
       "      <th>4</th>\n",
       "      <td>0000004.bin</td>\n",
       "      <td>8.791888e+01</td>\n",
       "      <td>8.791888e+01</td>\n",
       "    </tr>\n",
       "  </tbody>\n",
       "</table>\n",
       "</div>"
      ],
      "text/plain": [
       "     runstring             t      t_shadow\n",
       "0  0000000.bin  1.235644e+07  8.315081e+07\n",
       "1  0000001.bin  1.348749e+05  2.133072e+05\n",
       "2  0000002.bin  1.276381e+04  9.321519e+03\n",
       "3  0000003.bin  1.000000e+09  1.000000e+09\n",
       "4  0000004.bin  8.791888e+01  8.791888e+01"
      ]
     },
     "execution_count": 13,
     "metadata": {},
     "output_type": "execute_result"
    }
   ],
   "source": [
    "df = pd.read_csv('../csvs/deltatimes.csv', index_col=0)\n",
    "df.head()"
   ]
  },
  {
   "cell_type": "code",
   "execution_count": 18,
   "metadata": {},
   "outputs": [
    {
     "data": {
      "text/plain": [
       "runstring    0000004.bin\n",
       "t                87.9189\n",
       "t_shadow         87.9189\n",
       "Name: 4, dtype: object"
      ]
     },
     "execution_count": 18,
     "metadata": {},
     "output_type": "execute_result"
    }
   ],
   "source": [
    "df.loc[4]"
   ]
  },
  {
   "cell_type": "code",
   "execution_count": 21,
   "metadata": {},
   "outputs": [],
   "source": [
    "same = df[(df['t']==df['t_shadow']) & (df['t'] < 1.e9)]"
   ]
  },
  {
   "cell_type": "code",
   "execution_count": 22,
   "metadata": {},
   "outputs": [
    {
     "data": {
      "text/plain": [
       "(3848, 3)"
      ]
     },
     "execution_count": 22,
     "metadata": {},
     "output_type": "execute_result"
    }
   ],
   "source": [
    "same.shape"
   ]
  },
  {
   "cell_type": "code",
   "execution_count": 28,
   "metadata": {},
   "outputs": [
    {
     "name": "stderr",
     "output_type": "stream",
     "text": [
      "/mnt/raid-cita/dtamayo/stability2/lib/python2.7/site-packages/ipykernel_launcher.py:2: SettingWithCopyWarning: \n",
      "A value is trying to be set on a copy of a slice from a DataFrame.\n",
      "Try using .loc[row_indexer,col_indexer] = value instead\n",
      "\n",
      "See the caveats in the documentation: http://pandas.pydata.org/pandas-docs/stable/indexing.html#indexing-view-versus-copy\n",
      "  \n"
     ]
    },
    {
     "data": {
      "text/plain": [
       "array([[<matplotlib.axes._subplots.AxesSubplot object at 0x7f47fe69ce90>]], dtype=object)"
      ]
     },
     "execution_count": 28,
     "metadata": {},
     "output_type": "execute_result"
    },
    {
     "data": {
      "image/png": "[encoded data removed]",
      "text/plain": [
       "<matplotlib.figure.Figure at 0x7f47fe808ad0>"
      ]
     },
     "metadata": {},
     "output_type": "display_data"
    }
   ],
   "source": [
    "%matplotlib inline\n",
    "same['log'] = np.log10(same['t'])\n",
    "same.hist('log')"
   ]
  },
  {
   "cell_type": "code",
   "execution_count": 14,
   "metadata": {},
   "outputs": [
    {
     "data": {
      "text/html": [
       "<div>\n",
       "<table border=\"1\" class=\"dataframe\">\n",
       "  <thead>\n",
       "    <tr style=\"text-align: right;\">\n",
       "      <th></th>\n",
       "      <th>runstring</th>\n",
       "      <th>Stable</th>\n",
       "      <th>instability_time</th>\n",
       "      <th>Rel_Eerr</th>\n",
       "      <th>RHill12</th>\n",
       "      <th>RHill23</th>\n",
       "      <th>beta12</th>\n",
       "      <th>beta23</th>\n",
       "      <th>m1</th>\n",
       "      <th>a1</th>\n",
       "      <th>...</th>\n",
       "      <th>Omega2</th>\n",
       "      <th>f2</th>\n",
       "      <th>m3</th>\n",
       "      <th>a3</th>\n",
       "      <th>P3</th>\n",
       "      <th>e3</th>\n",
       "      <th>pomega3</th>\n",
       "      <th>inc3</th>\n",
       "      <th>Omega3</th>\n",
       "      <th>f3</th>\n",
       "    </tr>\n",
       "  </thead>\n",
       "  <tbody>\n",
       "    <tr>\n",
       "      <th>0</th>\n",
       "      <td>0000000.bin</td>\n",
       "      <td>0</td>\n",
       "      <td>1.235644e+07</td>\n",
       "      <td>1.099985e-04</td>\n",
       "      <td>0.026033</td>\n",
       "      <td>0.023222</td>\n",
       "      <td>8.508586</td>\n",
       "      <td>15.826967</td>\n",
       "      <td>3.414016e-05</td>\n",
       "      <td>1.0</td>\n",
       "      <td>...</td>\n",
       "      <td>1.573978</td>\n",
       "      <td>-0.567081</td>\n",
       "      <td>1.826900e-06</td>\n",
       "      <td>1.589043</td>\n",
       "      <td>2.003050</td>\n",
       "      <td>0.002515</td>\n",
       "      <td>-0.108162</td>\n",
       "      <td>0.065498</td>\n",
       "      <td>-1.192440</td>\n",
       "      <td>-0.614709</td>\n",
       "    </tr>\n",
       "    <tr>\n",
       "      <th>1</th>\n",
       "      <td>0000001.bin</td>\n",
       "      <td>0</td>\n",
       "      <td>1.348749e+05</td>\n",
       "      <td>1.388587e-08</td>\n",
       "      <td>0.022704</td>\n",
       "      <td>0.031284</td>\n",
       "      <td>8.397002</td>\n",
       "      <td>15.367618</td>\n",
       "      <td>2.529838e-07</td>\n",
       "      <td>1.0</td>\n",
       "      <td>...</td>\n",
       "      <td>-1.749616</td>\n",
       "      <td>1.437355</td>\n",
       "      <td>1.955797e-05</td>\n",
       "      <td>1.671403</td>\n",
       "      <td>2.160777</td>\n",
       "      <td>0.072450</td>\n",
       "      <td>-0.343874</td>\n",
       "      <td>0.046939</td>\n",
       "      <td>-0.619350</td>\n",
       "      <td>0.192203</td>\n",
       "    </tr>\n",
       "    <tr>\n",
       "      <th>2</th>\n",
       "      <td>0000002.bin</td>\n",
       "      <td>0</td>\n",
       "      <td>1.276381e+04</td>\n",
       "      <td>3.048261e-04</td>\n",
       "      <td>0.036304</td>\n",
       "      <td>0.032149</td>\n",
       "      <td>3.461288</td>\n",
       "      <td>25.229467</td>\n",
       "      <td>7.380789e-05</td>\n",
       "      <td>1.0</td>\n",
       "      <td>...</td>\n",
       "      <td>-0.032550</td>\n",
       "      <td>-0.317958</td>\n",
       "      <td>1.477931e-07</td>\n",
       "      <td>1.936762</td>\n",
       "      <td>2.695151</td>\n",
       "      <td>0.003395</td>\n",
       "      <td>3.419165</td>\n",
       "      <td>0.014535</td>\n",
       "      <td>2.795101</td>\n",
       "      <td>1.685406</td>\n",
       "    </tr>\n",
       "    <tr>\n",
       "      <th>3</th>\n",
       "      <td>0000003.bin</td>\n",
       "      <td>1</td>\n",
       "      <td>1.000000e+09</td>\n",
       "      <td>6.492574e-10</td>\n",
       "      <td>0.011704</td>\n",
       "      <td>0.014963</td>\n",
       "      <td>18.513681</td>\n",
       "      <td>19.145889</td>\n",
       "      <td>5.174804e-07</td>\n",
       "      <td>1.0</td>\n",
       "      <td>...</td>\n",
       "      <td>0.946351</td>\n",
       "      <td>-2.294238</td>\n",
       "      <td>1.287851e-06</td>\n",
       "      <td>1.503164</td>\n",
       "      <td>1.842927</td>\n",
       "      <td>0.057380</td>\n",
       "      <td>-0.829096</td>\n",
       "      <td>0.098014</td>\n",
       "      <td>-2.995941</td>\n",
       "      <td>-1.625763</td>\n",
       "    </tr>\n",
       "    <tr>\n",
       "      <th>4</th>\n",
       "      <td>0000004.bin</td>\n",
       "      <td>0</td>\n",
       "      <td>8.791888e+01</td>\n",
       "      <td>9.336734e-07</td>\n",
       "      <td>0.006199</td>\n",
       "      <td>0.008634</td>\n",
       "      <td>5.494196</td>\n",
       "      <td>2.928938</td>\n",
       "      <td>5.106746e-07</td>\n",
       "      <td>1.0</td>\n",
       "      <td>...</td>\n",
       "      <td>-0.455684</td>\n",
       "      <td>-1.074927</td>\n",
       "      <td>1.542321e-06</td>\n",
       "      <td>1.059346</td>\n",
       "      <td>1.090326</td>\n",
       "      <td>0.010325</td>\n",
       "      <td>-1.214839</td>\n",
       "      <td>0.011840</td>\n",
       "      <td>-1.253823</td>\n",
       "      <td>1.215392</td>\n",
       "    </tr>\n",
       "  </tbody>\n",
       "</table>\n",
       "<p>5 rows × 32 columns</p>\n",
       "</div>"
      ],
      "text/plain": [
       "     runstring  Stable  instability_time      Rel_Eerr   RHill12   RHill23  \\\n",
       "0  0000000.bin       0      1.235644e+07  1.099985e-04  0.026033  0.023222   \n",
       "1  0000001.bin       0      1.348749e+05  1.388587e-08  0.022704  0.031284   \n",
       "2  0000002.bin       0      1.276381e+04  3.048261e-04  0.036304  0.032149   \n",
       "3  0000003.bin       1      1.000000e+09  6.492574e-10  0.011704  0.014963   \n",
       "4  0000004.bin       0      8.791888e+01  9.336734e-07  0.006199  0.008634   \n",
       "\n",
       "      beta12     beta23            m1   a1    ...       Omega2        f2  \\\n",
       "0   8.508586  15.826967  3.414016e-05  1.0    ...     1.573978 -0.567081   \n",
       "1   8.397002  15.367618  2.529838e-07  1.0    ...    -1.749616  1.437355   \n",
       "2   3.461288  25.229467  7.380789e-05  1.0    ...    -0.032550 -0.317958   \n",
       "3  18.513681  19.145889  5.174804e-07  1.0    ...     0.946351 -2.294238   \n",
       "4   5.494196   2.928938  5.106746e-07  1.0    ...    -0.455684 -1.074927   \n",
       "\n",
       "             m3        a3        P3        e3   pomega3      inc3    Omega3  \\\n",
       "0  1.826900e-06  1.589043  2.003050  0.002515 -0.108162  0.065498 -1.192440   \n",
       "1  1.955797e-05  1.671403  2.160777  0.072450 -0.343874  0.046939 -0.619350   \n",
       "2  1.477931e-07  1.936762  2.695151  0.003395  3.419165  0.014535  2.795101   \n",
       "3  1.287851e-06  1.503164  1.842927  0.057380 -0.829096  0.098014 -2.995941   \n",
       "4  1.542321e-06  1.059346  1.090326  0.010325 -1.214839  0.011840 -1.253823   \n",
       "\n",
       "         f3  \n",
       "0 -0.614709  \n",
       "1  0.192203  \n",
       "2  1.685406  \n",
       "3 -1.625763  \n",
       "4  1.215392  \n",
       "\n",
       "[5 rows x 32 columns]"
      ]
     },
     "execution_count": 14,
     "metadata": {},
     "output_type": "execute_result"
    }
   ],
   "source": [
    "dfic = pd.read_csv('../csvs/initial_orbital_elements.csv', index_col=0)\n",
    "dfic.head()"
   ]
  },
  {
   "cell_type": "code",
   "execution_count": 36,
   "metadata": {},
   "outputs": [
    {
     "data": {
      "text/plain": [
       "False"
      ]
     },
     "execution_count": 36,
     "metadata": {},
     "output_type": "execute_result"
    }
   ],
   "source": [
    "df.loc[4, 't'] == dfic.loc[4, 'instability_time']"
   ]
  },
  {
   "cell_type": "code",
   "execution_count": 37,
   "metadata": {},
   "outputs": [
    {
     "name": "stdout",
     "output_type": "stream",
     "text": [
      "8.7918876543200000e+01\n"
     ]
    }
   ],
   "source": [
    "print(\"{0:.16e}\".format(df.loc[4, 't']))"
   ]
  },
  {
   "cell_type": "code",
   "execution_count": 38,
   "metadata": {},
   "outputs": [
    {
     "name": "stdout",
     "output_type": "stream",
     "text": [
      "8.7918876543234333e+01\n"
     ]
    }
   ],
   "source": [
    "print(\"{0:.16e}\".format(dfic.loc[4, 'instability_time']))"
   ]
  },
  {
   "cell_type": "code",
   "execution_count": 40,
   "metadata": {
    "collapsed": true
   },
   "outputs": [],
   "source": [
    "row=df.loc[4]\n",
    "simf = rebound.Simulation.from_file(fcpath+row[\"runstring\"])"
   ]
  },
  {
   "cell_type": "code",
   "execution_count": 41,
   "metadata": {},
   "outputs": [
    {
     "data": {
      "text/plain": [
       "87.91887654323433"
      ]
     },
     "execution_count": 41,
     "metadata": {},
     "output_type": "execute_result"
    }
   ],
   "source": [
    "simf.t"
   ]
  },
  {
   "cell_type": "code",
   "execution_count": null,
   "metadata": {
    "collapsed": true
   },
   "outputs": [],
   "source": []
  }
 ],
 "metadata": {
  "kernelspec": {
   "display_name": "Python 2",
   "language": "python",
   "name": "python2"
  },
  "language_info": {
   "codemirror_mode": {
    "name": "ipython",
    "version": 2
   },
   "file_extension": ".py",
   "mimetype": "text/x-python",
   "name": "python",
   "nbconvert_exporter": "python",
   "pygments_lexer": "ipython2",
   "version": "2.7.13"
  }
 },
 "nbformat": 4,
 "nbformat_minor": 2
}
