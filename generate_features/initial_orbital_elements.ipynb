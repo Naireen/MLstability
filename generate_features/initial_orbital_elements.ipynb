{
 "cells": [
  {
   "cell_type": "code",
   "execution_count": 89,
   "metadata": {},
   "outputs": [
    {
     "data": {
      "text/html": [
       "<div>\n",
       "<table border=\"1\" class=\"dataframe\">\n",
       "  <thead>\n",
       "    <tr style=\"text-align: right;\">\n",
       "      <th></th>\n",
       "      <th>runstring</th>\n",
       "    </tr>\n",
       "  </thead>\n",
       "  <tbody>\n",
       "    <tr>\n",
       "      <th>14995</th>\n",
       "      <td>0014995.bin</td>\n",
       "    </tr>\n",
       "    <tr>\n",
       "      <th>14996</th>\n",
       "      <td>0014996.bin</td>\n",
       "    </tr>\n",
       "    <tr>\n",
       "      <th>14997</th>\n",
       "      <td>0014997.bin</td>\n",
       "    </tr>\n",
       "    <tr>\n",
       "      <th>14998</th>\n",
       "      <td>0014998.bin</td>\n",
       "    </tr>\n",
       "    <tr>\n",
       "      <th>14999</th>\n",
       "      <td>0014999.bin</td>\n",
       "    </tr>\n",
       "  </tbody>\n",
       "</table>\n",
       "</div>"
      ],
      "text/plain": [
       "         runstring\n",
       "14995  0014995.bin\n",
       "14996  0014996.bin\n",
       "14997  0014997.bin\n",
       "14998  0014998.bin\n",
       "14999  0014999.bin"
      ]
     },
     "execution_count": 89,
     "metadata": {},
     "output_type": "execute_result"
    }
   ],
   "source": [
    "import pandas as pd\n",
    "import numpy as np\n",
    "import os\n",
    "import rebound\n",
    "\n",
    "path = '/scratch/dtamayo/'\n",
    "icpath = path +'random/initial_conditions/runs/ic'\n",
    "fcpath = path +'random/final_conditions/runs/fc'\n",
    "\n",
    "df = pd.read_csv(path+'random/random.csv', index_col=0)\n",
    "\n",
    "simIDmax = 15000\n",
    "df = df.head(simIDmax)\n",
    "df.tail()"
   ]
  },
  {
   "cell_type": "code",
   "execution_count": 90,
   "metadata": {
    "collapsed": true
   },
   "outputs": [],
   "source": [
    "columns = ['Stable','instability_time','Rel_Eerr','RHill12','RHill23','beta12', 'beta23']\n",
    "for i in ['1', '2', '3']:\n",
    "    columns += ['m'+i, 'a'+i, 'P'+i, 'e'+i, 'pomega'+i, 'inc'+i, 'Omega'+i, 'f'+i]"
   ]
  },
  {
   "cell_type": "code",
   "execution_count": 91,
   "metadata": {
    "collapsed": true
   },
   "outputs": [],
   "source": [
    "def get_initial_orbital_elements(row):\n",
    "    try:\n",
    "        sim = rebound.Simulation.from_file(icpath+row[\"runstring\"])\n",
    "        simf = rebound.Simulation.from_file(fcpath+row[\"runstring\"])\n",
    "        ps = sim.particles\n",
    "        stable = 1 if np.isclose(simf.t, 1.e9) else 0\n",
    "        instability_time = simf.t\n",
    "        Rel_Eerr = abs((simf.calculate_energy()-sim.calculate_energy())/sim.calculate_energy())\n",
    "        RHill12 = ((ps[1].m + ps[2].m)/(3.*ps[0].m))**(1./3.)\n",
    "        RHill23 = ((ps[2].m + ps[3].m)/(3.*ps[0].m))**(1./3.)\n",
    "        beta12 = (ps[2].a - ps[1].a)/RHill12\n",
    "        beta23 = (ps[3].a - ps[2].a)/RHill23\n",
    "        features = [stable,instability_time,Rel_Eerr,RHill12,RHill23,beta12,beta23]\n",
    "        for i in [1,2,3]:\n",
    "            features += [ps[i].m, ps[i].a, ps[i].P, ps[i].e, ps[i].pomega, ps[i].inc, ps[i].Omega, ps[i].f]\n",
    "        return pd.Series(features, index=columns)    \n",
    "    except:\n",
    "        return np.nan"
   ]
  },
  {
   "cell_type": "code",
   "execution_count": 92,
   "metadata": {},
   "outputs": [
    {
     "name": "stderr",
     "output_type": "stream",
     "text": [
      "/mnt/raid-cita/dtamayo/stability/lib/python3.4/site-packages/rebound/simulation.py:374: RuntimeWarning: You have to reset function pointers after creating a reb_simulation struct with a binary file.\n",
      "  warnings.warn(message, RuntimeWarning)\n"
     ]
    },
    {
     "name": "stdout",
     "output_type": "stream",
     "text": [
      "CPU times: user 15 s, sys: 513 ms, total: 15.5 s\n",
      "Wall time: 15.6 s\n"
     ]
    }
   ],
   "source": [
    "%%time\n",
    "df = pd.concat([df, df.apply(get_initial_orbital_elements, axis=1)], axis=1)\n"
   ]
  },
  {
   "cell_type": "code",
   "execution_count": 102,
   "metadata": {},
   "outputs": [],
   "source": [
    "df = df.drop([11003])\n",
    "df['Stable'] = df['Stable'].astype(int)"
   ]
  },
  {
   "cell_type": "code",
   "execution_count": 103,
   "metadata": {},
   "outputs": [],
   "source": [
    "df.to_csv('../csvs/initial_orbital_elements.csv', encoding='ascii')"
   ]
  },
  {
   "cell_type": "code",
   "execution_count": null,
   "metadata": {
    "collapsed": true
   },
   "outputs": [],
   "source": []
  }
 ],
 "metadata": {
  "kernelspec": {
   "display_name": "Python 3",
   "language": "python",
   "name": "python3"
  },
  "language_info": {
   "codemirror_mode": {
    "name": "ipython",
    "version": 3
   },
   "file_extension": ".py",
   "mimetype": "text/x-python",
   "name": "python",
   "nbconvert_exporter": "python",
   "pygments_lexer": "ipython3",
   "version": "3.4.3"
  }
 },
 "nbformat": 4,
 "nbformat_minor": 2
}
