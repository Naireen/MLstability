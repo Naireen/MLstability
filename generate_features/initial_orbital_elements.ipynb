{
 "cells": [
  {
   "cell_type": "code",
   "execution_count": 1,
   "metadata": {},
   "outputs": [
    {
     "data": {
      "text/html": [
       "<div>\n",
       "<table border=\"1\" class=\"dataframe\">\n",
       "  <thead>\n",
       "    <tr style=\"text-align: right;\">\n",
       "      <th></th>\n",
       "      <th>runstring</th>\n",
       "    </tr>\n",
       "  </thead>\n",
       "  <tbody>\n",
       "    <tr>\n",
       "      <th>24995</th>\n",
       "      <td>0024995.bin</td>\n",
       "    </tr>\n",
       "    <tr>\n",
       "      <th>24996</th>\n",
       "      <td>0024996.bin</td>\n",
       "    </tr>\n",
       "    <tr>\n",
       "      <th>24997</th>\n",
       "      <td>0024997.bin</td>\n",
       "    </tr>\n",
       "    <tr>\n",
       "      <th>24998</th>\n",
       "      <td>0024998.bin</td>\n",
       "    </tr>\n",
       "    <tr>\n",
       "      <th>24999</th>\n",
       "      <td>0024999.bin</td>\n",
       "    </tr>\n",
       "  </tbody>\n",
       "</table>\n",
       "</div>"
      ],
      "text/plain": [
       "         runstring\n",
       "24995  0024995.bin\n",
       "24996  0024996.bin\n",
       "24997  0024997.bin\n",
       "24998  0024998.bin\n",
       "24999  0024999.bin"
      ]
     },
     "execution_count": 1,
     "metadata": {},
     "output_type": "execute_result"
    }
   ],
   "source": [
    "import pandas as pd\n",
    "import numpy as np\n",
    "import os\n",
    "import rebound\n",
    "\n",
    "path = '/scratch/dtamayo/'\n",
    "icpath = path +'random/initial_conditions/runs/ic'\n",
    "fcpath = path +'random/final_conditions/runs/fc'\n",
    "\n",
    "df = pd.read_csv(path+'random/random.csv', index_col=0)\n",
    "\n",
    "simIDmax = 25000\n",
    "df = df.head(simIDmax)\n",
    "df.tail()"
   ]
  },
  {
   "cell_type": "code",
   "execution_count": 2,
   "metadata": {
    "collapsed": true
   },
   "outputs": [],
   "source": [
    "columns = ['Stable','instability_time','Rel_Eerr','RHill12','RHill23','beta12', 'beta23']\n",
    "for i in ['1', '2', '3']:\n",
    "    columns += ['m'+i, 'a'+i, 'P'+i, 'e'+i, 'pomega'+i, 'inc'+i, 'Omega'+i, 'f'+i]"
   ]
  },
  {
   "cell_type": "code",
   "execution_count": 3,
   "metadata": {
    "collapsed": true
   },
   "outputs": [],
   "source": [
    "def get_initial_orbital_elements(row):\n",
    "    try:\n",
    "        sim = rebound.Simulation.from_file(icpath+row[\"runstring\"])\n",
    "        simf = rebound.Simulation.from_file(fcpath+row[\"runstring\"])\n",
    "        ps = sim.particles\n",
    "        stable = 1 if np.isclose(simf.t, 1.e9) else 0\n",
    "        instability_time = simf.t\n",
    "        Rel_Eerr = abs((simf.calculate_energy()-sim.calculate_energy())/sim.calculate_energy())\n",
    "        RHill12 = ps[1].a*((ps[1].m + ps[2].m)/(3.*ps[0].m))**(1./3.)\n",
    "        RHill23 = ps[2].a*((ps[2].m + ps[3].m)/(3.*ps[0].m))**(1./3.)\n",
    "        beta12 = (ps[2].a - ps[1].a)/RHill12\n",
    "        beta23 = (ps[3].a - ps[2].a)/RHill23\n",
    "        features = [stable,instability_time,Rel_Eerr,RHill12,RHill23,beta12,beta23]\n",
    "        for i in [1,2,3]:\n",
    "            features += [ps[i].m, ps[i].a, ps[i].P, ps[i].e, ps[i].pomega, ps[i].inc, ps[i].Omega, ps[i].f]\n",
    "        return pd.Series(features, index=columns)    \n",
    "    except:\n",
    "        return np.nan"
   ]
  },
  {
   "cell_type": "code",
   "execution_count": 4,
   "metadata": {},
   "outputs": [
    {
     "name": "stderr",
     "output_type": "stream",
     "text": [
      "/mnt/raid-cita/dtamayo/stability2/lib/python2.7/site-packages/rebound/simulation.py:374: RuntimeWarning: You have to reset function pointers after creating a reb_simulation struct with a binary file.\n",
      "  warnings.warn(message, RuntimeWarning)\n"
     ]
    },
    {
     "name": "stdout",
     "output_type": "stream",
     "text": [
      "CPU times: user 25.1 s, sys: 1.02 s, total: 26.1 s\n",
      "Wall time: 26.8 s\n"
     ]
    }
   ],
   "source": [
    "%%time\n",
    "df = pd.concat([df, df.apply(get_initial_orbital_elements, axis=1)], axis=1)"
   ]
  },
  {
   "cell_type": "code",
   "execution_count": 5,
   "metadata": {
    "collapsed": true
   },
   "outputs": [],
   "source": [
    "df['Stable'] = df['Stable'].astype(int)"
   ]
  },
  {
   "cell_type": "code",
   "execution_count": null,
   "metadata": {
    "collapsed": true
   },
   "outputs": [],
   "source": [
    "df.to_csv('../csvs/initial_orbital_elements.csv', encoding='ascii')"
   ]
  },
  {
   "cell_type": "code",
   "execution_count": null,
   "metadata": {
    "collapsed": true
   },
   "outputs": [],
   "source": []
  }
 ],
 "metadata": {
  "kernelspec": {
   "display_name": "Python 2",
   "language": "python",
   "name": "python2"
  },
  "language_info": {
   "codemirror_mode": {
    "name": "ipython",
    "version": 2
   },
   "file_extension": ".py",
   "mimetype": "text/x-python",
   "name": "python",
   "nbconvert_exporter": "python",
   "pygments_lexer": "ipython2",
   "version": "2.7.13"
  }
 },
 "nbformat": 4,
 "nbformat_minor": 2
}
