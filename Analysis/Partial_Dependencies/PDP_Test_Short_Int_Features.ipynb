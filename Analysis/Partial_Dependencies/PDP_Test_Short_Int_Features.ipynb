{
 "cells": [
  {
   "cell_type": "code",
   "execution_count": 1,
   "metadata": {},
   "outputs": [
    {
     "name": "stderr",
     "output_type": "stream",
     "text": [
      "/mnt/raid-cita/nhussain/venv-2.7.13/lib/python2.7/site-packages/sklearn/cross_validation.py:44: DeprecationWarning: This module was deprecated in version 0.18 in favor of the model_selection module into which all the refactored classes and functions are moved. Also note that the interface of the new CV iterators are different from that of this module. This module will be removed in 0.20.\n",
      "  \"This module will be removed in 0.20.\", DeprecationWarning)\n"
     ]
    }
   ],
   "source": [
    "import numpy as np\n",
    "import sklearn\n",
    "import matplotlib\n",
    "from matplotlib import pyplot as plt\n",
    "%matplotlib inline\n",
    "import pandas as pd\n",
    "from sklearn import metrics\n",
    "from sklearn.model_selection import cross_val_score, train_test_split\n",
    "from matplotlib import rc\n",
    "from matplotlib import cm\n",
    "from mpl_toolkits.mplot3d import axes3d\n",
    "from matplotlib.ticker import MaxNLocator\n",
    "import scipy.signal\n",
    "from scipy import ndimage\n",
    "from random import random, uniform , seed\n",
    "#import rebound\n",
    "import xgboost as xgb\n",
    "from xgboost.sklearn import XGBClassifier\n",
    "from sklearn import cross_validation, metrics   #Additional scklearn functions\n",
    "from collections import OrderedDict\n",
    "import time"
   ]
  },
  {
   "cell_type": "code",
   "execution_count": 17,
   "metadata": {},
   "outputs": [
    {
     "name": "stdout",
     "output_type": "stream",
     "text": [
      "['runstring' 't_final_short' 'Rel_Eerr_short' 'avg_beta12' 'std_beta12'\n",
      " 'min_beta12' 'max_beta12' 'avg_beta23' 'std_beta23' 'min_beta23'\n",
      " 'max_beta23' 'avg_a1' 'std_a1' 'max_a1' 'min_a1' 'norm_std_a1'\n",
      " 'norm_max_a1' 'norm_std_window10_a1' 'norm_max_window10_a1' 'avg_e1'\n",
      " 'std_e1' 'max_e1' 'min_e1' 'norm_std_e1' 'norm_max_e1'\n",
      " 'norm_std_window10_e1' 'norm_max_window10_e1' 'avg_inc1' 'std_inc1'\n",
      " 'max_inc1' 'min_inc1' 'norm_std_inc1' 'norm_max_inc1'\n",
      " 'norm_std_window10_inc1' 'norm_max_window10_inc1' 'avg_eH1' 'std_eH1'\n",
      " 'max_eH1' 'min_eH1' 'avg_iH1' 'std_iH1' 'max_iH1' 'min_iH1' 'avg_ecross1'\n",
      " 'std_ecross1' 'max_ecross1' 'min_ecross1' 'norm_a1_slope' 'avg_a2'\n",
      " 'std_a2' 'max_a2' 'min_a2' 'norm_std_a2' 'norm_max_a2'\n",
      " 'norm_std_window10_a2' 'norm_max_window10_a2' 'avg_e2' 'std_e2' 'max_e2'\n",
      " 'min_e2' 'norm_std_e2' 'norm_max_e2' 'norm_std_window10_e2'\n",
      " 'norm_max_window10_e2' 'avg_inc2' 'std_inc2' 'max_inc2' 'min_inc2'\n",
      " 'norm_std_inc2' 'norm_max_inc2' 'norm_std_window10_inc2'\n",
      " 'norm_max_window10_inc2' 'avg_eH2' 'std_eH2' 'max_eH2' 'min_eH2' 'avg_iH2'\n",
      " 'std_iH2' 'max_iH2' 'min_iH2' 'avg_ecross2' 'std_ecross2' 'max_ecross2'\n",
      " 'min_ecross2' 'norm_a2_slope' 'avg_a3' 'std_a3' 'max_a3' 'min_a3'\n",
      " 'norm_std_a3' 'norm_max_a3' 'norm_std_window10_a3' 'norm_max_window10_a3'\n",
      " 'avg_e3' 'std_e3' 'max_e3' 'min_e3' 'norm_std_e3' 'norm_max_e3'\n",
      " 'norm_std_window10_e3' 'norm_max_window10_e3' 'avg_inc3' 'std_inc3'\n",
      " 'max_inc3' 'min_inc3' 'norm_std_inc3' 'norm_max_inc3'\n",
      " 'norm_std_window10_inc3' 'norm_max_window10_inc3' 'avg_eH3' 'std_eH3'\n",
      " 'max_eH3' 'min_eH3' 'avg_iH3' 'std_iH3' 'max_iH3' 'min_iH3' 'avg_ecross3'\n",
      " 'std_ecross3' 'max_ecross3' 'min_ecross3' 'norm_a3_slope' 'wall_time'\n",
      " 'Stable' 'instability_time' 'Rel_Eerr']\n",
      "37\n"
     ]
    }
   ],
   "source": [
    "df = pd.read_csv(\"../csvs/sifOrbsMore=10000.0Nout=100window=10.csv\", index_col = 0)\n",
    "print df.columns.values\n",
    "features = []\n",
    "features += ['avg_beta12', 'std_beta12', 'min_beta12', 'max_beta12']\n",
    "features += ['avg_beta23', 'std_beta23', 'min_beta23', 'max_beta23']\n",
    "features += ['avg_iH1', 'avg_iH2']\n",
    "features += ['norm_std_a1', 'norm_max_a1', 'norm_std_window10_a1', 'norm_max_window10_a1']\n",
    "features += ['norm_std_a2', 'norm_max_a2', 'norm_std_window10_a2', 'norm_max_window10_a2']\n",
    "features += ['norm_std_a3', 'norm_max_a3', 'norm_std_window10_a3', 'norm_max_window10_a3']\n",
    "features += ['avg_ecross1', 'std_ecross1', 'max_ecross1', 'min_ecross1']\n",
    "features += ['avg_ecross2', 'std_ecross2', 'max_ecross2', 'min_ecross2']\n",
    "features += ['avg_ecross3', 'std_ecross3', 'max_ecross3', 'min_ecross3']\n",
    "features += ['norm_a1_slope', 'norm_a2_slope', 'norm_a3_slope']\n",
    "print len(features)"
   ]
  },
  {
   "cell_type": "code",
   "execution_count": 18,
   "metadata": {},
   "outputs": [],
   "source": [
    "X = df[features]\n",
    "Y = df[\"Stable\"]\n",
    "\n",
    "trainX, testX, trainY, testY = train_test_split(X, Y, random_state = 0, test_size = 0.6)"
   ]
  },
  {
   "cell_type": "code",
   "execution_count": 64,
   "metadata": {
    "scrolled": true
   },
   "outputs": [
    {
     "name": "stdout",
     "output_type": "stream",
     "text": [
      "0.0015525846466 85.3046170811 0.0012512570306 30.1339872732\n"
     ]
    },
    {
     "data": {
      "text/html": [
       "<div>\n",
       "<table border=\"1\" class=\"dataframe\">\n",
       "  <thead>\n",
       "    <tr style=\"text-align: right;\">\n",
       "      <th></th>\n",
       "      <th>avg_beta12</th>\n",
       "      <th>std_beta12</th>\n",
       "      <th>min_beta12</th>\n",
       "      <th>max_beta12</th>\n",
       "      <th>avg_beta23</th>\n",
       "      <th>std_beta23</th>\n",
       "      <th>min_beta23</th>\n",
       "      <th>max_beta23</th>\n",
       "      <th>avg_iH1</th>\n",
       "      <th>avg_iH2</th>\n",
       "      <th>...</th>\n",
       "      <th>std_ecross2</th>\n",
       "      <th>max_ecross2</th>\n",
       "      <th>min_ecross2</th>\n",
       "      <th>avg_ecross3</th>\n",
       "      <th>std_ecross3</th>\n",
       "      <th>max_ecross3</th>\n",
       "      <th>min_ecross3</th>\n",
       "      <th>norm_a1_slope</th>\n",
       "      <th>norm_a2_slope</th>\n",
       "      <th>norm_a3_slope</th>\n",
       "    </tr>\n",
       "  </thead>\n",
       "  <tbody>\n",
       "    <tr>\n",
       "      <th>11000</th>\n",
       "      <td>2.226405</td>\n",
       "      <td>1.590427</td>\n",
       "      <td>-1.425888</td>\n",
       "      <td>5.382064</td>\n",
       "      <td>7.116848</td>\n",
       "      <td>0.831238</td>\n",
       "      <td>6.093583</td>\n",
       "      <td>9.424820</td>\n",
       "      <td>12.918515</td>\n",
       "      <td>6.586618</td>\n",
       "      <td>...</td>\n",
       "      <td>0.231260</td>\n",
       "      <td>9.127416</td>\n",
       "      <td>0.177621</td>\n",
       "      <td>0.783406</td>\n",
       "      <td>0.014893</td>\n",
       "      <td>0.708635</td>\n",
       "      <td>0.332568</td>\n",
       "      <td>1.727405e-08</td>\n",
       "      <td>1.335806e-08</td>\n",
       "      <td>-5.499480e-09</td>\n",
       "    </tr>\n",
       "    <tr>\n",
       "      <th>11001</th>\n",
       "      <td>6.571784</td>\n",
       "      <td>1.390159</td>\n",
       "      <td>4.032006</td>\n",
       "      <td>8.938953</td>\n",
       "      <td>24.019576</td>\n",
       "      <td>0.313744</td>\n",
       "      <td>23.486594</td>\n",
       "      <td>24.598436</td>\n",
       "      <td>1.103194</td>\n",
       "      <td>0.310044</td>\n",
       "      <td>...</td>\n",
       "      <td>0.103584</td>\n",
       "      <td>0.863551</td>\n",
       "      <td>0.026989</td>\n",
       "      <td>0.019690</td>\n",
       "      <td>0.000134</td>\n",
       "      <td>0.000132</td>\n",
       "      <td>0.000019</td>\n",
       "      <td>-8.631184e-09</td>\n",
       "      <td>8.338639e-09</td>\n",
       "      <td>1.922596e-12</td>\n",
       "    </tr>\n",
       "    <tr>\n",
       "      <th>11002</th>\n",
       "      <td>20.734483</td>\n",
       "      <td>0.003443</td>\n",
       "      <td>20.725052</td>\n",
       "      <td>20.745188</td>\n",
       "      <td>8.522262</td>\n",
       "      <td>0.016498</td>\n",
       "      <td>8.464447</td>\n",
       "      <td>8.548464</td>\n",
       "      <td>1.137960</td>\n",
       "      <td>0.793826</td>\n",
       "      <td>...</td>\n",
       "      <td>0.048369</td>\n",
       "      <td>0.065181</td>\n",
       "      <td>0.012378</td>\n",
       "      <td>0.158535</td>\n",
       "      <td>0.057838</td>\n",
       "      <td>0.161686</td>\n",
       "      <td>0.069039</td>\n",
       "      <td>1.246863e-14</td>\n",
       "      <td>-3.221063e-12</td>\n",
       "      <td>1.509653e-11</td>\n",
       "    </tr>\n",
       "    <tr>\n",
       "      <th>11004</th>\n",
       "      <td>82.326638</td>\n",
       "      <td>34.494461</td>\n",
       "      <td>2.383498</td>\n",
       "      <td>114.796396</td>\n",
       "      <td>-25.465466</td>\n",
       "      <td>11.644055</td>\n",
       "      <td>-33.345200</td>\n",
       "      <td>5.795006</td>\n",
       "      <td>0.404757</td>\n",
       "      <td>1.111951</td>\n",
       "      <td>...</td>\n",
       "      <td>0.386909</td>\n",
       "      <td>17.549762</td>\n",
       "      <td>0.409412</td>\n",
       "      <td>0.037548</td>\n",
       "      <td>0.015991</td>\n",
       "      <td>0.422624</td>\n",
       "      <td>0.032714</td>\n",
       "      <td>-1.488619e-09</td>\n",
       "      <td>5.349984e-07</td>\n",
       "      <td>-1.092438e-08</td>\n",
       "    </tr>\n",
       "    <tr>\n",
       "      <th>11005</th>\n",
       "      <td>-20.128498</td>\n",
       "      <td>9.626219</td>\n",
       "      <td>-29.238861</td>\n",
       "      <td>2.744503</td>\n",
       "      <td>28.797683</td>\n",
       "      <td>2.925573</td>\n",
       "      <td>21.365899</td>\n",
       "      <td>32.618227</td>\n",
       "      <td>10.376861</td>\n",
       "      <td>8.338942</td>\n",
       "      <td>...</td>\n",
       "      <td>1.201957</td>\n",
       "      <td>2.723097</td>\n",
       "      <td>0.081829</td>\n",
       "      <td>0.294220</td>\n",
       "      <td>0.030600</td>\n",
       "      <td>0.442976</td>\n",
       "      <td>0.044603</td>\n",
       "      <td>2.753801e-07</td>\n",
       "      <td>-6.045572e-08</td>\n",
       "      <td>-4.156846e-09</td>\n",
       "    </tr>\n",
       "  </tbody>\n",
       "</table>\n",
       "<p>5 rows × 37 columns</p>\n",
       "</div>"
      ],
      "text/plain": [
       "       avg_beta12  std_beta12  min_beta12  max_beta12  avg_beta23  std_beta23  \\\n",
       "11000    2.226405    1.590427   -1.425888    5.382064    7.116848    0.831238   \n",
       "11001    6.571784    1.390159    4.032006    8.938953   24.019576    0.313744   \n",
       "11002   20.734483    0.003443   20.725052   20.745188    8.522262    0.016498   \n",
       "11004   82.326638   34.494461    2.383498  114.796396  -25.465466   11.644055   \n",
       "11005  -20.128498    9.626219  -29.238861    2.744503   28.797683    2.925573   \n",
       "\n",
       "       min_beta23  max_beta23    avg_iH1   avg_iH2      ...        \\\n",
       "11000    6.093583    9.424820  12.918515  6.586618      ...         \n",
       "11001   23.486594   24.598436   1.103194  0.310044      ...         \n",
       "11002    8.464447    8.548464   1.137960  0.793826      ...         \n",
       "11004  -33.345200    5.795006   0.404757  1.111951      ...         \n",
       "11005   21.365899   32.618227  10.376861  8.338942      ...         \n",
       "\n",
       "       std_ecross2  max_ecross2  min_ecross2  avg_ecross3  std_ecross3  \\\n",
       "11000     0.231260     9.127416     0.177621     0.783406     0.014893   \n",
       "11001     0.103584     0.863551     0.026989     0.019690     0.000134   \n",
       "11002     0.048369     0.065181     0.012378     0.158535     0.057838   \n",
       "11004     0.386909    17.549762     0.409412     0.037548     0.015991   \n",
       "11005     1.201957     2.723097     0.081829     0.294220     0.030600   \n",
       "\n",
       "       max_ecross3  min_ecross3  norm_a1_slope  norm_a2_slope  norm_a3_slope  \n",
       "11000     0.708635     0.332568   1.727405e-08   1.335806e-08  -5.499480e-09  \n",
       "11001     0.000132     0.000019  -8.631184e-09   8.338639e-09   1.922596e-12  \n",
       "11002     0.161686     0.069039   1.246863e-14  -3.221063e-12   1.509653e-11  \n",
       "11004     0.422624     0.032714  -1.488619e-09   5.349984e-07  -1.092438e-08  \n",
       "11005     0.442976     0.044603   2.753801e-07  -6.045572e-08  -4.156846e-09  \n",
       "\n",
       "[5 rows x 37 columns]"
      ]
     },
     "execution_count": 64,
     "metadata": {},
     "output_type": "execute_result"
    }
   ],
   "source": [
    "param1 = \"avg_ecross2\"\n",
    "param2 = \"avg_ecross3\"\n",
    "\n",
    "int_size = 20\n",
    "print  np.min(df[param1]), np.max(df[param1]) , np.min(df[param2]), np.max(df[param2])\n",
    "val1 = np.linspace(np.min(df[param1]), np.max(df[param1]), int_size)\n",
    "val2 = np.linspace(np.min(df[param2]), np.max(df[param2]), int_size)\n",
    "X.iloc[11000:11005, :]"
   ]
  },
  {
   "cell_type": "code",
   "execution_count": 65,
   "metadata": {},
   "outputs": [
    {
     "name": "stdout",
     "output_type": "stream",
     "text": [
      "(0, 126)\n",
      "nan nan\n"
     ]
    },
    {
     "name": "stderr",
     "output_type": "stream",
     "text": [
      "/mnt/raid-cita/nhussain/venv-2.7.13/lib/python2.7/site-packages/numpy/lib/function_base.py:1110: RuntimeWarning: Mean of empty slice.\n",
      "  avg = a.mean(axis)\n",
      "/mnt/raid-cita/nhussain/venv-2.7.13/lib/python2.7/site-packages/numpy/core/_methods.py:80: RuntimeWarning: invalid value encountered in double_scalars\n",
      "  ret = ret.dtype.type(ret / rcount)\n",
      "/mnt/raid-cita/nhussain/venv-2.7.13/lib/python2.7/site-packages/numpy/core/fromnumeric.py:2909: RuntimeWarning: Mean of empty slice.\n",
      "  out=out, **kwargs)\n"
     ]
    },
    {
     "data": {
      "text/html": [
       "<div>\n",
       "<table border=\"1\" class=\"dataframe\">\n",
       "  <thead>\n",
       "    <tr style=\"text-align: right;\">\n",
       "      <th></th>\n",
       "      <th>runstring</th>\n",
       "      <th>t_final_short</th>\n",
       "      <th>Rel_Eerr_short</th>\n",
       "      <th>avg_beta12</th>\n",
       "      <th>std_beta12</th>\n",
       "      <th>min_beta12</th>\n",
       "      <th>max_beta12</th>\n",
       "      <th>avg_beta23</th>\n",
       "      <th>std_beta23</th>\n",
       "      <th>min_beta23</th>\n",
       "      <th>...</th>\n",
       "      <th>min_iH3</th>\n",
       "      <th>avg_ecross3</th>\n",
       "      <th>std_ecross3</th>\n",
       "      <th>max_ecross3</th>\n",
       "      <th>min_ecross3</th>\n",
       "      <th>norm_a3_slope</th>\n",
       "      <th>wall_time</th>\n",
       "      <th>Stable</th>\n",
       "      <th>instability_time</th>\n",
       "      <th>Rel_Eerr</th>\n",
       "    </tr>\n",
       "  </thead>\n",
       "  <tbody>\n",
       "    <tr>\n",
       "      <th>14542</th>\n",
       "      <td>0014542.bin</td>\n",
       "      <td>10000.0</td>\n",
       "      <td>2.711205e-08</td>\n",
       "      <td>27.383337</td>\n",
       "      <td>0.002189</td>\n",
       "      <td>27.376461</td>\n",
       "      <td>27.386086</td>\n",
       "      <td>23.042487</td>\n",
       "      <td>0.062041</td>\n",
       "      <td>22.936388</td>\n",
       "      <td>...</td>\n",
       "      <td>2.948872</td>\n",
       "      <td>0.129519</td>\n",
       "      <td>0.001007</td>\n",
       "      <td>0.1279</td>\n",
       "      <td>0.009694</td>\n",
       "      <td>-2.596929e-09</td>\n",
       "      <td>0.376941</td>\n",
       "      <td>1.0</td>\n",
       "      <td>1.000000e+09</td>\n",
       "      <td>9.206451e-09</td>\n",
       "    </tr>\n",
       "  </tbody>\n",
       "</table>\n",
       "<p>1 rows × 126 columns</p>\n",
       "</div>"
      ],
      "text/plain": [
       "         runstring  t_final_short  Rel_Eerr_short  avg_beta12  std_beta12  \\\n",
       "14542  0014542.bin        10000.0    2.711205e-08   27.383337    0.002189   \n",
       "\n",
       "       min_beta12  max_beta12  avg_beta23  std_beta23  min_beta23  \\\n",
       "14542   27.376461   27.386086   23.042487    0.062041   22.936388   \n",
       "\n",
       "           ...        min_iH3  avg_ecross3  std_ecross3  max_ecross3  \\\n",
       "14542      ...       2.948872     0.129519     0.001007       0.1279   \n",
       "\n",
       "       min_ecross3  norm_a3_slope  wall_time  Stable  instability_time  \\\n",
       "14542     0.009694  -2.596929e-09   0.376941     1.0      1.000000e+09   \n",
       "\n",
       "           Rel_Eerr  \n",
       "14542  9.206451e-09  \n",
       "\n",
       "[1 rows x 126 columns]"
      ]
     },
     "execution_count": 65,
     "metadata": {},
     "output_type": "execute_result"
    }
   ],
   "source": [
    "print df[df[param1]<0].shape # 1524 / 25000 that has beta less than 1\n",
    "negative = df[df[param1]<0]\n",
    "print np.average(negative[\"instability_time\"]) , np.median(negative[\"instability_time\"])            \n",
    "           \n",
    "df[df[param1] ==df[param1].min()]"
   ]
  },
  {
   "cell_type": "code",
   "execution_count": 66,
   "metadata": {},
   "outputs": [
    {
     "name": "stdout",
     "output_type": "stream",
     "text": [
      "(24999, 37)\n"
     ]
    }
   ],
   "source": [
    "print X.shape\n",
    "iterations = [0]*(int_size**2)\n",
    "for i in range (0,int_size):\n",
    "      for j in range(0,int_size):\n",
    "            iterations[(i*int_size)+j] = (val1[i], val2[j])\n",
    "#print iterations"
   ]
  },
  {
   "cell_type": "code",
   "execution_count": 67,
   "metadata": {},
   "outputs": [
    {
     "name": "stdout",
     "output_type": "stream",
     "text": [
      "(15000, 37, 400)\n"
     ]
    }
   ],
   "source": [
    "# new data set with the varying parameters of interest\n",
    "new_data = np.zeros((testX.shape[0], testX.shape[1],int_size**2)) \n",
    "print new_data.shape\n"
   ]
  },
  {
   "cell_type": "code",
   "execution_count": 68,
   "metadata": {},
   "outputs": [
    {
     "name": "stderr",
     "output_type": "stream",
     "text": [
      "/mnt/raid-cita/nhussain/venv-2.7.13/lib/python2.7/site-packages/ipykernel_launcher.py:4: SettingWithCopyWarning: \n",
      "A value is trying to be set on a copy of a slice from a DataFrame.\n",
      "Try using .loc[row_indexer,col_indexer] = value instead\n",
      "\n",
      "See the caveats in the documentation: http://pandas.pydata.org/pandas-docs/stable/indexing.html#indexing-view-versus-copy\n",
      "  after removing the cwd from sys.path.\n",
      "/mnt/raid-cita/nhussain/venv-2.7.13/lib/python2.7/site-packages/ipykernel_launcher.py:5: SettingWithCopyWarning: \n",
      "A value is trying to be set on a copy of a slice from a DataFrame.\n",
      "Try using .loc[row_indexer,col_indexer] = value instead\n",
      "\n",
      "See the caveats in the documentation: http://pandas.pydata.org/pandas-docs/stable/indexing.html#indexing-view-versus-copy\n",
      "  \"\"\"\n"
     ]
    },
    {
     "name": "stdout",
     "output_type": "stream",
     "text": [
      "56.2865800858\n"
     ]
    }
   ],
   "source": [
    "#change all the values in the data to the one you are interested in\n",
    "start = time.time()\n",
    "for i, val in enumerate(iterations):\n",
    "    testX[param1] = val[0]\n",
    "    testX[param2] = val[1]\n",
    "    new_data[:,:,i]= testX.values\n",
    "end  = time.time()\n",
    "print end - start"
   ]
  },
  {
   "cell_type": "code",
   "execution_count": 52,
   "metadata": {},
   "outputs": [
    {
     "name": "stdout",
     "output_type": "stream",
     "text": [
      "[[ -2.66336717e+04   2.28780662e+04   1.65485517e+01   1.76682540e+01\n",
      "   -4.08813039e+04   2.17808815e+05   2.02196389e+00   4.80033713e+00\n",
      "    1.10272480e+00   4.82059485e+00   7.88956486e-05   1.75918016e-04\n",
      "    4.55412757e-05   8.26079918e-05   1.85698683e-03   6.35012994e-03\n",
      "    9.64474200e-04   1.32860449e-03   2.90423698e-03   9.74457148e-03\n",
      "    1.53958627e-03   2.15621730e-03   6.62601380e-02   2.94811823e-02\n",
      "    3.45006235e-02   1.12608885e-02   1.02296432e+00   4.05353642e-01\n",
      "    4.15965057e-01   1.30344311e-02   1.68653478e+00   3.66891959e-01\n",
      "    7.36534564e-01   1.34030397e-02   2.54127209e-10   1.16820832e-09\n",
      "   -2.31717153e-09]\n",
      " [ -2.66336717e+04   2.28780662e+04   7.39209340e+00   6.52280664e+01\n",
      "   -4.08813039e+04   2.17808815e+05  -2.55403815e+01   9.93665760e+00\n",
      "    5.30199637e-01   3.10711342e+00   2.01474038e-03   2.65847518e-03\n",
      "    6.81025501e-05   1.20114728e-04   1.95904469e-01   4.00323953e-01\n",
      "    9.39388461e-04   1.75130735e-03   1.67740038e-02   3.04042904e-02\n",
      "    1.24332019e-04   2.99162793e-04   6.82953946e-02   4.63005936e-02\n",
      "    8.35033509e-01   1.04743298e-02   4.54972159e-01   5.07754438e-01\n",
      "    3.23944630e+00   1.06751253e-02   5.44976829e-02   4.32469623e-02\n",
      "    6.88853324e-01   1.31867786e-01  -6.30678542e-09   6.01690693e-07\n",
      "   -5.16532938e-08]]\n"
     ]
    }
   ],
   "source": [
    "# ensure that you altered the values properly \n",
    "print new_data[:2,:,3] # only the first and second of each entry should be the same"
   ]
  },
  {
   "cell_type": "code",
   "execution_count": 56,
   "metadata": {},
   "outputs": [
    {
     "name": "stdout",
     "output_type": "stream",
     "text": [
      "(15000, 400)\n",
      "(15000, 37, 400) (15000, 400)\n"
     ]
    }
   ],
   "source": [
    "varying_pred = np.zeros((new_data.shape[0], new_data.shape[2]))\n",
    "print varying_pred.shape\n",
    "varyin_pred_mean = np.zeros(400)\n",
    "model = xgb.XGBClassifier(n_estimators=200, subsample= 0.938, colsample_bytree= 0.745, max_depth=7, seed =  0, learning_rate=0.085)\n",
    "xgb_params = model.get_xgb_params()\n",
    "model.fit(trainX.as_matrix(), trainY.as_matrix())\n",
    "#dtrain = xgb.DMatrix(trainX , trainY)\n",
    "#bst = xgb.train(xgb_params, dtrain)\n",
    "\n",
    "print new_data.shape, varying_pred.shape"
   ]
  },
  {
   "cell_type": "code",
   "execution_count": 57,
   "metadata": {},
   "outputs": [
    {
     "name": "stdout",
     "output_type": "stream",
     "text": [
      "<type 'numpy.ndarray'> (15000, 37, 400)\n",
      "52.344440937\n"
     ]
    }
   ],
   "source": [
    "start = time.time()\n",
    "print type(new_data[:,:,i]), new_data.shape\n",
    "for i in range (len(iterations)):\n",
    "    #print varying_pred[:,:,i].shape, new_data[:,:,i].shape\n",
    "    #dtest = xgb.DMatrix(new_data[:,:,i])\n",
    "\n",
    "    #varying_pred[:,i] = bst.predict(dtest)\n",
    "    varying_pred[:,i] =model.predict_proba(new_data[:,:,i])[:,1] # i = 400\n",
    "    varyin_pred_mean[i] = np.mean(varying_pred[:,i])\n",
    "end = time.time()\n",
    "print end - start"
   ]
  },
  {
   "cell_type": "code",
   "execution_count": 26,
   "metadata": {},
   "outputs": [
    {
     "data": {
      "text/plain": [
       "'\\nstart = time.time()\\nthread_count = 5\\nchunks = int(varying_pred.shape[0]//thread_count)\\nprint thread_count\\n#sections = np.linspace(0,varying_pred.shape[0]-1 , 11, dtype=\\'int\\')\\nsections = [[i*chunks, (i+1)*chunks] for i in range(5)]\\nsections[-1][1] = varying_pred.shape[0]\\nprint sections\\n\\nimport thread\\nfrom multiprocessing import Pool\\n# do above cell in parallel\\n#sections = np.linspace(0,varying_pred.shape[0], 11).dtype(int)\\n\\ndef thread_pred(params):\\n    varying = varying_pred[params[0]: param[1], i] # sectino o total preds\\n    for i in range (varying.shape[0]):\\n        varying_pred[:,i]=model.predict_proba(new_data[:,:,i])[:,1] # i = 400\\n        varyin_pred_mean[i] = np.mean(varying_pred[:,i])\\n\\n\\n        \\n#Initialize the threads\\ntry:\\n    p = Pool(10)\\n    p.map(thread_pred, varying_pred[sections])\\nexcept Exception as e:\\n    print e\\nend = time.time()\\nprint \"Making parallel preds\",  end - start\\n'"
      ]
     },
     "execution_count": 26,
     "metadata": {},
     "output_type": "execute_result"
    }
   ],
   "source": [
    "## ALREADY DONE IN THE CELL ABOVE< THIS WAS JUST TO TRY TO MULTI THREAD THE ABOVE PREDICTIOS \n",
    "## IF YOU ARE DOING LOTS OF THEM FOR A MORE REFINED GRID\n",
    "'''\n",
    "start = time.time()\n",
    "thread_count = 5\n",
    "chunks = int(varying_pred.shape[0]//thread_count)\n",
    "print thread_count\n",
    "#sections = np.linspace(0,varying_pred.shape[0]-1 , 11, dtype='int')\n",
    "sections = [[i*chunks, (i+1)*chunks] for i in range(5)]\n",
    "sections[-1][1] = varying_pred.shape[0]\n",
    "print sections\n",
    "\n",
    "import thread\n",
    "from multiprocessing import Pool\n",
    "# do above cell in parallel\n",
    "#sections = np.linspace(0,varying_pred.shape[0], 11).dtype(int)\n",
    "\n",
    "def thread_pred(params):\n",
    "    varying = varying_pred[params[0]: param[1], i] # sectino o total preds\n",
    "    for i in range (varying.shape[0]):\n",
    "        varying_pred[:,i]=model.predict_proba(new_data[:,:,i])[:,1] # i = 400\n",
    "        varyin_pred_mean[i] = np.mean(varying_pred[:,i])\n",
    "\n",
    "\n",
    "        \n",
    "#Initialize the threads\n",
    "try:\n",
    "    p = Pool(10)\n",
    "    p.map(thread_pred, varying_pred[sections])\n",
    "except Exception as e:\n",
    "    print e\n",
    "end = time.time()\n",
    "print \"Making parallel preds\",  end - start\n",
    "'''"
   ]
  },
  {
   "cell_type": "code",
   "execution_count": 58,
   "metadata": {
    "collapsed": true
   },
   "outputs": [],
   "source": [
    "x_list = [x[0] for x in iterations]\n",
    "y_list = [x[1] for x in iterations]"
   ]
  },
  {
   "cell_type": "code",
   "execution_count": 59,
   "metadata": {},
   "outputs": [
    {
     "name": "stdout",
     "output_type": "stream",
     "text": [
      "Partial Dependency on avg_beta12 and avg_beta23 for Orbital Stability\n"
     ]
    },
    {
     "data": {
      "image/png": "[encoded data removed]",
      "text/plain": [
       "<matplotlib.figure.Figure at 0x7f0bf4a28c90>"
      ]
     },
     "metadata": {},
     "output_type": "display_data"
    }
   ],
   "source": [
    "from matplotlib import rc, cm\n",
    "from mpl_toolkits.mplot3d import axes3d\n",
    "from matplotlib.ticker import MaxNLocator\n",
    "\n",
    "#rc('text',usetex=False)\n",
    "#rc('font',family='serif')\n",
    "#rc('font',serif='cm')\n",
    "#rc('font',size=15,weight='black',stretch='extra-expanded',style='oblique')\n",
    "#rc('axes',linewidth=2)\n",
    "\n",
    "fig = plt.figure(figsize = (12,6))\n",
    "ax = fig.add_subplot(111, projection='3d')\n",
    "\n",
    "surf = ax.plot_trisurf(x_list, y_list, varyin_pred_mean, cmap=cm.jet, linewidth=0)\n",
    "#ax.scatter()\n",
    "fig.colorbar(surf)\n",
    "ax.tick_params(axis='both', which='major', pad=3)\n",
    "#ax.rcParams['ytick.major.pad']='8'\n",
    "\n",
    "ax.xaxis.set_major_locator(MaxNLocator(5))\n",
    "ax.yaxis.set_major_locator(MaxNLocator(6))\n",
    "ax.zaxis.set_major_locator(MaxNLocator(5))\n",
    "ax.set_xlabel(param1, labelpad=15)\n",
    "ax.set_ylabel(param2, labelpad=15)\n",
    "ax.set_zlabel('Probability', labelpad=15)\n",
    "title_string ='Partial Dependency on {0} and {1} for Orbital Stability'.format(param1, param2) \n",
    "print title_string\n",
    "ax.set_title(title_string)\n",
    "#ax.plot_surface(x_list, y_list, varyin_pred_mean)\n",
    "#ax.ad\n",
    "plt.show()"
   ]
  },
  {
   "cell_type": "code",
   "execution_count": 63,
   "metadata": {},
   "outputs": [
    {
     "name": "stdout",
     "output_type": "stream",
     "text": [
      "[ 0.10369901  0.15338612  0.16197912  0.21364615]\n"
     ]
    }
   ],
   "source": [
    "print np.unique(varyin_pred_mean)"
   ]
  },
  {
   "cell_type": "code",
   "execution_count": 16,
   "metadata": {},
   "outputs": [
    {
     "ename": "RuntimeError",
     "evalue": "node.js is needed to allow compilation of custom models (\"conda install -c bokeh nodejs\" or follow https://nodejs.org/en/download/)",
     "output_type": "error",
     "traceback": [
      "\u001b[0;31m---------------------------------------------------------------------------\u001b[0m",
      "\u001b[0;31mRuntimeError\u001b[0m                              Traceback (most recent call last)",
      "\u001b[0;32m<ipython-input-16-7ceb85f6d7e8>\u001b[0m in \u001b[0;36m<module>\u001b[0;34m()\u001b[0m\n\u001b[1;32m      5\u001b[0m \u001b[0;32mfrom\u001b[0m \u001b[0mbokeh\u001b[0m\u001b[0;34m.\u001b[0m\u001b[0mio\u001b[0m \u001b[0;32mimport\u001b[0m \u001b[0mpush_notebook\u001b[0m\u001b[0;34m,\u001b[0m \u001b[0moutput_notebook\u001b[0m\u001b[0;34m\u001b[0m\u001b[0m\n\u001b[1;32m      6\u001b[0m \u001b[0;31m#from surface3d import Surface3d\u001b[0m\u001b[0;34m\u001b[0m\u001b[0;34m\u001b[0m\u001b[0m\n\u001b[0;32m----> 7\u001b[0;31m \u001b[0moutput_notebook\u001b[0m\u001b[0;34m(\u001b[0m\u001b[0;34m)\u001b[0m\u001b[0;34m\u001b[0m\u001b[0m\n\u001b[0m",
      "\u001b[0;32m/mnt/raid-cita/nhussain/venv-2.7.13/lib/python2.7/site-packages/bokeh/io.pyc\u001b[0m in \u001b[0;36moutput_notebook\u001b[0;34m(resources, verbose, hide_banner, load_timeout)\u001b[0m\n\u001b[1;32m    162\u001b[0m \u001b[0;34m\u001b[0m\u001b[0m\n\u001b[1;32m    163\u001b[0m     '''\n\u001b[0;32m--> 164\u001b[0;31m     \u001b[0mload_notebook\u001b[0m\u001b[0;34m(\u001b[0m\u001b[0mresources\u001b[0m\u001b[0;34m,\u001b[0m \u001b[0mverbose\u001b[0m\u001b[0;34m,\u001b[0m \u001b[0mhide_banner\u001b[0m\u001b[0;34m,\u001b[0m \u001b[0mload_timeout\u001b[0m\u001b[0;34m)\u001b[0m\u001b[0;34m\u001b[0m\u001b[0m\n\u001b[0m\u001b[1;32m    165\u001b[0m     \u001b[0m_state\u001b[0m\u001b[0;34m.\u001b[0m\u001b[0moutput_notebook\u001b[0m\u001b[0;34m(\u001b[0m\u001b[0;34m)\u001b[0m\u001b[0;34m\u001b[0m\u001b[0m\n\u001b[1;32m    166\u001b[0m \u001b[0;34m\u001b[0m\u001b[0m\n",
      "\u001b[0;32m/mnt/raid-cita/nhussain/venv-2.7.13/lib/python2.7/site-packages/bokeh/util/notebook.pyc\u001b[0m in \u001b[0;36mload_notebook\u001b[0;34m(resources, verbose, hide_banner, load_timeout)\u001b[0m\n\u001b[1;32m     31\u001b[0m \u001b[0;34m\u001b[0m\u001b[0m\n\u001b[1;32m     32\u001b[0m     '''\n\u001b[0;32m---> 33\u001b[0;31m     \u001b[0mhtml\u001b[0m\u001b[0;34m,\u001b[0m \u001b[0mjs\u001b[0m \u001b[0;34m=\u001b[0m \u001b[0m_load_notebook_html\u001b[0m\u001b[0;34m(\u001b[0m\u001b[0mresources\u001b[0m\u001b[0;34m,\u001b[0m \u001b[0mverbose\u001b[0m\u001b[0;34m,\u001b[0m \u001b[0mhide_banner\u001b[0m\u001b[0;34m,\u001b[0m \u001b[0mload_timeout\u001b[0m\u001b[0;34m)\u001b[0m\u001b[0;34m\u001b[0m\u001b[0m\n\u001b[0m\u001b[1;32m     34\u001b[0m     \u001b[0mpublish_display_data\u001b[0m\u001b[0;34m(\u001b[0m\u001b[0;34m{\u001b[0m\u001b[0;34m'text/html'\u001b[0m\u001b[0;34m:\u001b[0m \u001b[0mhtml\u001b[0m\u001b[0;34m}\u001b[0m\u001b[0;34m)\u001b[0m\u001b[0;34m\u001b[0m\u001b[0m\n\u001b[1;32m     35\u001b[0m     \u001b[0mpublish_display_data\u001b[0m\u001b[0;34m(\u001b[0m\u001b[0;34m{\u001b[0m\u001b[0;34m'application/javascript'\u001b[0m\u001b[0;34m:\u001b[0m \u001b[0mjs\u001b[0m\u001b[0;34m}\u001b[0m\u001b[0;34m)\u001b[0m\u001b[0;34m\u001b[0m\u001b[0m\n",
      "\u001b[0;32m/mnt/raid-cita/nhussain/venv-2.7.13/lib/python2.7/site-packages/bokeh/util/notebook.pyc\u001b[0m in \u001b[0;36m_load_notebook_html\u001b[0;34m(resources, verbose, hide_banner, load_timeout)\u001b[0m\n\u001b[1;32m     78\u001b[0m     )\n\u001b[1;32m     79\u001b[0m \u001b[0;34m\u001b[0m\u001b[0m\n\u001b[0;32m---> 80\u001b[0;31m     \u001b[0mcustom_models_js\u001b[0m \u001b[0;34m=\u001b[0m \u001b[0mbundle_all_models\u001b[0m\u001b[0;34m(\u001b[0m\u001b[0;34m)\u001b[0m\u001b[0;34m\u001b[0m\u001b[0m\n\u001b[0m\u001b[1;32m     81\u001b[0m \u001b[0;34m\u001b[0m\u001b[0m\n\u001b[1;32m     82\u001b[0m     js = AUTOLOAD_NB_JS.render(\n",
      "\u001b[0;32m/mnt/raid-cita/nhussain/venv-2.7.13/lib/python2.7/site-packages/bokeh/util/compiler.pyc\u001b[0m in \u001b[0;36mbundle_all_models\u001b[0;34m()\u001b[0m\n\u001b[1;32m    397\u001b[0m \u001b[0;34m\u001b[0m\u001b[0m\n\u001b[1;32m    398\u001b[0m \u001b[0;32mdef\u001b[0m \u001b[0mbundle_all_models\u001b[0m\u001b[0;34m(\u001b[0m\u001b[0;34m)\u001b[0m\u001b[0;34m:\u001b[0m\u001b[0;34m\u001b[0m\u001b[0m\n\u001b[0;32m--> 399\u001b[0;31m     \u001b[0;32mreturn\u001b[0m \u001b[0mbundle_models\u001b[0m\u001b[0;34m(\u001b[0m\u001b[0mModel\u001b[0m\u001b[0;34m.\u001b[0m\u001b[0mmodel_class_reverse_map\u001b[0m\u001b[0;34m.\u001b[0m\u001b[0mvalues\u001b[0m\u001b[0;34m(\u001b[0m\u001b[0;34m)\u001b[0m\u001b[0;34m)\u001b[0m \u001b[0;32mor\u001b[0m \u001b[0;34m\"\"\u001b[0m\u001b[0;34m\u001b[0m\u001b[0m\n\u001b[0m",
      "\u001b[0;32m/mnt/raid-cita/nhussain/venv-2.7.13/lib/python2.7/site-packages/bokeh/util/compiler.pyc\u001b[0m in \u001b[0;36mbundle_models\u001b[0;34m(models)\u001b[0m\n\u001b[1;32m    319\u001b[0m     \u001b[0;32mfor\u001b[0m \u001b[0mmodel\u001b[0m \u001b[0;32min\u001b[0m \u001b[0mordered_models\u001b[0m\u001b[0;34m:\u001b[0m\u001b[0;34m\u001b[0m\u001b[0m\n\u001b[1;32m    320\u001b[0m         \u001b[0mimpl\u001b[0m \u001b[0;34m=\u001b[0m \u001b[0mmodel\u001b[0m\u001b[0;34m.\u001b[0m\u001b[0mimplementation\u001b[0m\u001b[0;34m\u001b[0m\u001b[0m\n\u001b[0;32m--> 321\u001b[0;31m         \u001b[0mcompiled\u001b[0m \u001b[0;34m=\u001b[0m \u001b[0mnodejs_compile\u001b[0m\u001b[0;34m(\u001b[0m\u001b[0mimpl\u001b[0m\u001b[0;34m.\u001b[0m\u001b[0mcode\u001b[0m\u001b[0;34m,\u001b[0m \u001b[0mlang\u001b[0m\u001b[0;34m=\u001b[0m\u001b[0mimpl\u001b[0m\u001b[0;34m.\u001b[0m\u001b[0mlang\u001b[0m\u001b[0;34m,\u001b[0m \u001b[0mfile\u001b[0m\u001b[0;34m=\u001b[0m\u001b[0mimpl\u001b[0m\u001b[0;34m.\u001b[0m\u001b[0mfile\u001b[0m\u001b[0;34m)\u001b[0m\u001b[0;34m\u001b[0m\u001b[0m\n\u001b[0m\u001b[1;32m    322\u001b[0m \u001b[0;34m\u001b[0m\u001b[0m\n\u001b[1;32m    323\u001b[0m         \u001b[0;32mif\u001b[0m \u001b[0;34m\"error\"\u001b[0m \u001b[0;32min\u001b[0m \u001b[0mcompiled\u001b[0m\u001b[0;34m:\u001b[0m\u001b[0;34m\u001b[0m\u001b[0m\n",
      "\u001b[0;32m/mnt/raid-cita/nhussain/venv-2.7.13/lib/python2.7/site-packages/bokeh/util/compiler.pyc\u001b[0m in \u001b[0;36mnodejs_compile\u001b[0;34m(code, lang, file)\u001b[0m\n\u001b[1;32m    170\u001b[0m \u001b[0;32mdef\u001b[0m \u001b[0mnodejs_compile\u001b[0m\u001b[0;34m(\u001b[0m\u001b[0mcode\u001b[0m\u001b[0;34m,\u001b[0m \u001b[0mlang\u001b[0m\u001b[0;34m=\u001b[0m\u001b[0;34m\"javascript\"\u001b[0m\u001b[0;34m,\u001b[0m \u001b[0mfile\u001b[0m\u001b[0;34m=\u001b[0m\u001b[0mNone\u001b[0m\u001b[0;34m)\u001b[0m\u001b[0;34m:\u001b[0m\u001b[0;34m\u001b[0m\u001b[0m\n\u001b[1;32m    171\u001b[0m     \u001b[0mcompilejs_script\u001b[0m \u001b[0;34m=\u001b[0m \u001b[0mjoin\u001b[0m\u001b[0;34m(\u001b[0m\u001b[0mbokehjs_dir\u001b[0m\u001b[0;34m,\u001b[0m \u001b[0;34m\"js\"\u001b[0m\u001b[0;34m,\u001b[0m \u001b[0;34m\"compile.js\"\u001b[0m\u001b[0;34m)\u001b[0m\u001b[0;34m\u001b[0m\u001b[0m\n\u001b[0;32m--> 172\u001b[0;31m     \u001b[0moutput\u001b[0m \u001b[0;34m=\u001b[0m \u001b[0m_run_nodejs\u001b[0m\u001b[0;34m(\u001b[0m\u001b[0;34m[\u001b[0m\u001b[0mcompilejs_script\u001b[0m\u001b[0;34m]\u001b[0m\u001b[0;34m,\u001b[0m \u001b[0mdict\u001b[0m\u001b[0;34m(\u001b[0m\u001b[0mcode\u001b[0m\u001b[0;34m=\u001b[0m\u001b[0mcode\u001b[0m\u001b[0;34m,\u001b[0m \u001b[0mlang\u001b[0m\u001b[0;34m=\u001b[0m\u001b[0mlang\u001b[0m\u001b[0;34m,\u001b[0m \u001b[0mfile\u001b[0m\u001b[0;34m=\u001b[0m\u001b[0mfile\u001b[0m\u001b[0;34m)\u001b[0m\u001b[0;34m)\u001b[0m\u001b[0;34m\u001b[0m\u001b[0m\n\u001b[0m\u001b[1;32m    173\u001b[0m     \u001b[0;32mreturn\u001b[0m \u001b[0mAttrDict\u001b[0m\u001b[0;34m(\u001b[0m\u001b[0mjson\u001b[0m\u001b[0;34m.\u001b[0m\u001b[0mloads\u001b[0m\u001b[0;34m(\u001b[0m\u001b[0moutput\u001b[0m\u001b[0;34m)\u001b[0m\u001b[0;34m)\u001b[0m\u001b[0;34m\u001b[0m\u001b[0m\n\u001b[1;32m    174\u001b[0m \u001b[0;34m\u001b[0m\u001b[0m\n",
      "\u001b[0;32m/mnt/raid-cita/nhussain/venv-2.7.13/lib/python2.7/site-packages/bokeh/util/compiler.pyc\u001b[0m in \u001b[0;36m_run_nodejs\u001b[0;34m(argv, input)\u001b[0m\n\u001b[1;32m    149\u001b[0m \u001b[0;34m\u001b[0m\u001b[0m\n\u001b[1;32m    150\u001b[0m \u001b[0;32mdef\u001b[0m \u001b[0m_run_nodejs\u001b[0m\u001b[0;34m(\u001b[0m\u001b[0margv\u001b[0m\u001b[0;34m,\u001b[0m \u001b[0minput\u001b[0m\u001b[0;34m=\u001b[0m\u001b[0mNone\u001b[0m\u001b[0;34m)\u001b[0m\u001b[0;34m:\u001b[0m\u001b[0;34m\u001b[0m\u001b[0m\n\u001b[0;32m--> 151\u001b[0;31m     \u001b[0;32mreturn\u001b[0m \u001b[0m_run\u001b[0m\u001b[0;34m(\u001b[0m\u001b[0m_nodejs_path\u001b[0m\u001b[0;34m(\u001b[0m\u001b[0;34m)\u001b[0m\u001b[0;34m,\u001b[0m \u001b[0margv\u001b[0m\u001b[0;34m,\u001b[0m \u001b[0minput\u001b[0m\u001b[0;34m)\u001b[0m\u001b[0;34m\u001b[0m\u001b[0m\n\u001b[0m\u001b[1;32m    152\u001b[0m \u001b[0;34m\u001b[0m\u001b[0m\n\u001b[1;32m    153\u001b[0m \u001b[0;32mdef\u001b[0m \u001b[0m_run_npmjs\u001b[0m\u001b[0;34m(\u001b[0m\u001b[0margv\u001b[0m\u001b[0;34m,\u001b[0m \u001b[0minput\u001b[0m\u001b[0;34m=\u001b[0m\u001b[0mNone\u001b[0m\u001b[0;34m)\u001b[0m\u001b[0;34m:\u001b[0m\u001b[0;34m\u001b[0m\u001b[0m\n",
      "\u001b[0;32m/mnt/raid-cita/nhussain/venv-2.7.13/lib/python2.7/site-packages/bokeh/util/compiler.pyc\u001b[0m in \u001b[0;36m_nodejs_path\u001b[0;34m()\u001b[0m\n\u001b[1;32m    130\u001b[0m     \u001b[0;32mglobal\u001b[0m \u001b[0m_nodejs\u001b[0m\u001b[0;34m\u001b[0m\u001b[0m\n\u001b[1;32m    131\u001b[0m     \u001b[0;32mif\u001b[0m \u001b[0m_nodejs\u001b[0m \u001b[0;32mis\u001b[0m \u001b[0mNone\u001b[0m\u001b[0;34m:\u001b[0m\u001b[0;34m\u001b[0m\u001b[0m\n\u001b[0;32m--> 132\u001b[0;31m         \u001b[0m_nodejs\u001b[0m \u001b[0;34m=\u001b[0m \u001b[0m_detect_nodejs\u001b[0m\u001b[0;34m(\u001b[0m\u001b[0;34m)\u001b[0m\u001b[0;34m\u001b[0m\u001b[0m\n\u001b[0m\u001b[1;32m    133\u001b[0m     \u001b[0;32mreturn\u001b[0m \u001b[0m_nodejs\u001b[0m\u001b[0;34m\u001b[0m\u001b[0m\n\u001b[1;32m    134\u001b[0m \u001b[0;34m\u001b[0m\u001b[0m\n",
      "\u001b[0;32m/mnt/raid-cita/nhussain/venv-2.7.13/lib/python2.7/site-packages/bokeh/util/compiler.pyc\u001b[0m in \u001b[0;36m_detect_nodejs\u001b[0;34m()\u001b[0m\n\u001b[1;32m    122\u001b[0m     \u001b[0;32melse\u001b[0m\u001b[0;34m:\u001b[0m\u001b[0;34m\u001b[0m\u001b[0m\n\u001b[1;32m    123\u001b[0m         raise RuntimeError('node.js is needed to allow compilation of custom models ' +\n\u001b[0;32m--> 124\u001b[0;31m                            '(\"conda install -c bokeh nodejs\" or follow https://nodejs.org/en/download/)')\n\u001b[0m\u001b[1;32m    125\u001b[0m \u001b[0;34m\u001b[0m\u001b[0m\n\u001b[1;32m    126\u001b[0m \u001b[0m_nodejs\u001b[0m \u001b[0;34m=\u001b[0m \u001b[0mNone\u001b[0m\u001b[0;34m\u001b[0m\u001b[0m\n",
      "\u001b[0;31mRuntimeError\u001b[0m: node.js is needed to allow compilation of custom models (\"conda install -c bokeh nodejs\" or follow https://nodejs.org/en/download/)"
     ]
    }
   ],
   "source": [
    "#use bokeh to plot seomthing you can move and drag around\n",
    "from bokeh.layouts import row, widgetbox\n",
    "from bokeh.models import CustomJS, Slider\n",
    "from bokeh.plotting import figure, output_file, show, ColumnDataSource\n",
    "from bokeh.io import push_notebook, output_notebook\n",
    "#from surface3d import Surface3d\n",
    "output_notebook()"
   ]
  },
  {
   "cell_type": "code",
   "execution_count": 2,
   "metadata": {
    "collapsed": true
   },
   "outputs": [],
   "source": [
    "from bokeh.core.properties import Any, Dict, Instance, String\n",
    "from bokeh.models import ColumnDataSource, LayoutDOM\n",
    "DEFAULTS = {\n",
    "    'width':          '600px',\n",
    "    'height':         '600px',\n",
    "    'style':          'surface',\n",
    "    'showPerspective': True,\n",
    "    'showGrid':        True,\n",
    "    'keepAspectRatio': True,\n",
    "    'verticalRatio':   1.0,\n",
    "    'legendLabel':     'stuff',\n",
    "    'cameraPosition':  {\n",
    "        'horizontal': -0.35,\n",
    "        'vertical':    0.22,\n",
    "        'distance':    1.8,\n",
    "    }\n",
    "}\n",
    "class Surface3d(LayoutDOM):\n",
    "    __implementation__ = \"surface3d.coffee\"\n",
    "    data_source = Instance(ColumnDataSource)\n",
    "    x = String\n",
    "    y = String\n",
    "    z = String\n",
    "    color = String\n",
    "    options = Dict(String, Any, default=DEFAULTS)\n"
   ]
  },
  {
   "cell_type": "code",
   "execution_count": 41,
   "metadata": {
    "collapsed": true
   },
   "outputs": [],
   "source": [
    "source = ColumnDataSource(data=dict(x = x_list, y = y_list, z = varyin_pred_mean, color = varyin_pred_mean))"
   ]
  },
  {
   "cell_type": "code",
   "execution_count": 45,
   "metadata": {
    "collapsed": true
   },
   "outputs": [],
   "source": [
    "#from surface3d import Surface3d\n",
    "surface = Surface3d(x=\"x\", y=\"y\", z=\"z\", color=\"color\", data_source=source)"
   ]
  },
  {
   "cell_type": "code",
   "execution_count": 46,
   "metadata": {},
   "outputs": [
    {
     "data": {
      "text/html": [
       "\n",
       "\n",
       "    <div class=\"bk-root\">\n",
       "        <div class=\"bk-plotdiv\" id=\"76f09f68-d93a-4f95-b1d4-94f827dcc76a\"></div>\n",
       "    </div>\n",
       "<script type=\"text/javascript\">\n",
       "  \n",
       "  (function(global) {\n",
       "    function now() {\n",
       "      return new Date();\n",
       "    }\n",
       "  \n",
       "    var force = false;\n",
       "  \n",
       "    if (typeof (window._bokeh_onload_callbacks) === \"undefined\" || force === true) {\n",
       "      window._bokeh_onload_callbacks = [];\n",
       "      window._bokeh_is_loading = undefined;\n",
       "    }\n",
       "  \n",
       "  \n",
       "    \n",
       "    if (typeof (window._bokeh_timeout) === \"undefined\" || force === true) {\n",
       "      window._bokeh_timeout = Date.now() + 0;\n",
       "      window._bokeh_failed_load = false;\n",
       "    }\n",
       "  \n",
       "    var NB_LOAD_WARNING = {'data': {'text/html':\n",
       "       \"<div style='background-color: #fdd'>\\n\"+\n",
       "       \"<p>\\n\"+\n",
       "       \"BokehJS does not appear to have successfully loaded. If loading BokehJS from CDN, this \\n\"+\n",
       "       \"may be due to a slow or bad network connection. Possible fixes:\\n\"+\n",
       "       \"</p>\\n\"+\n",
       "       \"<ul>\\n\"+\n",
       "       \"<li>re-rerun `output_notebook()` to attempt to load from CDN again, or</li>\\n\"+\n",
       "       \"<li>use INLINE resources instead, as so:</li>\\n\"+\n",
       "       \"</ul>\\n\"+\n",
       "       \"<code>\\n\"+\n",
       "       \"from bokeh.resources import INLINE\\n\"+\n",
       "       \"output_notebook(resources=INLINE)\\n\"+\n",
       "       \"</code>\\n\"+\n",
       "       \"</div>\"}};\n",
       "  \n",
       "    function display_loaded() {\n",
       "      if (window.Bokeh !== undefined) {\n",
       "        var el = document.getElementById(\"76f09f68-d93a-4f95-b1d4-94f827dcc76a\");\n",
       "        el.textContent = \"BokehJS \" + Bokeh.version + \" successfully loaded.\";\n",
       "      } else if (Date.now() < window._bokeh_timeout) {\n",
       "        setTimeout(display_loaded, 100)\n",
       "      }\n",
       "    }if ((window.Jupyter !== undefined) && Jupyter.notebook.kernel) {\n",
       "      comm_manager = Jupyter.notebook.kernel.comm_manager\n",
       "      comm_manager.register_target(\"a6ad3bf9-5bf1-4a12-9ae6-1041da0e6d57\", function () {});\n",
       "    }\n",
       "  \n",
       "    function run_callbacks() {\n",
       "      window._bokeh_onload_callbacks.forEach(function(callback) { callback() });\n",
       "      delete window._bokeh_onload_callbacks\n",
       "      console.info(\"Bokeh: all callbacks have finished\");\n",
       "    }\n",
       "  \n",
       "    function load_libs(js_urls, callback) {\n",
       "      window._bokeh_onload_callbacks.push(callback);\n",
       "      if (window._bokeh_is_loading > 0) {\n",
       "        console.log(\"Bokeh: BokehJS is being loaded, scheduling callback at\", now());\n",
       "        return null;\n",
       "      }\n",
       "      if (js_urls == null || js_urls.length === 0) {\n",
       "        run_callbacks();\n",
       "        return null;\n",
       "      }\n",
       "      console.log(\"Bokeh: BokehJS not loaded, scheduling load and callback at\", now());\n",
       "      window._bokeh_is_loading = js_urls.length;\n",
       "      for (var i = 0; i < js_urls.length; i++) {\n",
       "        var url = js_urls[i];\n",
       "        var s = document.createElement('script');\n",
       "        s.src = url;\n",
       "        s.async = false;\n",
       "        s.onreadystatechange = s.onload = function() {\n",
       "          window._bokeh_is_loading--;\n",
       "          if (window._bokeh_is_loading === 0) {\n",
       "            console.log(\"Bokeh: all BokehJS libraries loaded\");\n",
       "            run_callbacks()\n",
       "          }\n",
       "        };\n",
       "        s.onerror = function() {\n",
       "          console.warn(\"failed to load library \" + url);\n",
       "        };\n",
       "        console.log(\"Bokeh: injecting script tag for BokehJS library: \", url);\n",
       "        document.getElementsByTagName(\"head\")[0].appendChild(s);\n",
       "      }\n",
       "    };var element = document.getElementById(\"76f09f68-d93a-4f95-b1d4-94f827dcc76a\");\n",
       "    if (element == null) {\n",
       "      console.log(\"Bokeh: ERROR: autoload.js configured with elementid '76f09f68-d93a-4f95-b1d4-94f827dcc76a' but no matching script tag was found. \")\n",
       "      return false;\n",
       "    }\n",
       "  \n",
       "    var js_urls = [];\n",
       "  \n",
       "    var inline_js = [\n",
       "      function(Bokeh) {\n",
       "        (function() {\n",
       "          var fn = function() {\n",
       "            var docs_json = {\"215e0f7c-9f4a-4c2c-9b7a-939bc63c2d15\":{\"roots\":{\"references\":[{\"attributes\":{\"callback\":null,\"column_names\":[\"color\",\"y\",\"z\",\"x\"],\"data\":{\"color\":{\"__ndarray__\":\"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\",\"dtype\":\"float64\",\"shape\":[400]},\"x\":[5.3689920402e-07,5.3689920402e-07,5.3689920402e-07,5.3689920402e-07,5.3689920402e-07,5.3689920402e-07,5.3689920402e-07,5.3689920402e-07,5.3689920402e-07,5.3689920402e-07,5.3689920402e-07,5.3689920402e-07,5.3689920402e-07,5.3689920402e-07,5.3689920402e-07,5.3689920402e-07,5.3689920402e-07,5.3689920402e-07,5.3689920402e-07,5.3689920402e-07,1.6205304490676669,1.6205304490676669,1.6205304490676669,1.6205304490676669,1.6205304490676669,1.6205304490676669,1.6205304490676669,1.6205304490676669,1.6205304490676669,1.6205304490676669,1.6205304490676669,1.6205304490676669,1.6205304490676669,1.6205304490676669,1.6205304490676669,1.6205304490676669,1.6205304490676669,1.6205304490676669,1.6205304490676669,1.6205304490676669,3.24106036123613,3.24106036123613,3.24106036123613,3.24106036123613,3.24106036123613,3.24106036123613,3.24106036123613,3.24106036123613,3.24106036123613,3.24106036123613,3.24106036123613,3.24106036123613,3.24106036123613,3.24106036123613,3.24106036123613,3.24106036123613,3.24106036123613,3.24106036123613,3.24106036123613,3.24106036123613,4.861590273404593,4.861590273404593,4.861590273404593,4.861590273404593,4.861590273404593,4.861590273404593,4.861590273404593,4.861590273404593,4.861590273404593,4.861590273404593,4.861590273404593,4.861590273404593,4.861590273404593,4.861590273404593,4.861590273404593,4.861590273404593,4.861590273404593,4.861590273404593,4.861590273404593,4.861590273404593,6.482120185573056,6.482120185573056,6.482120185573056,6.482120185573056,6.482120185573056,6.482120185573056,6.482120185573056,6.482120185573056,6.482120185573056,6.482120185573056,6.482120185573056,6.482120185573056,6.482120185573056,6.482120185573056,6.482120185573056,6.482120185573056,6.482120185573056,6.482120185573056,6.482120185573056,6.482120185573056,8.102650097741519,8.102650097741519,8.102650097741519,8.102650097741519,8.102650097741519,8.102650097741519,8.102650097741519,8.102650097741519,8.102650097741519,8.102650097741519,8.102650097741519,8.102650097741519,8.102650097741519,8.102650097741519,8.102650097741519,8.102650097741519,8.102650097741519,8.102650097741519,8.102650097741519,8.102650097741519,9.723180009909981,9.723180009909981,9.723180009909981,9.723180009909981,9.723180009909981,9.723180009909981,9.723180009909981,9.723180009909981,9.723180009909981,9.723180009909981,9.723180009909981,9.723180009909981,9.723180009909981,9.723180009909981,9.723180009909981,9.723180009909981,9.723180009909981,9.723180009909981,9.723180009909981,9.723180009909981,11.343709922078444,11.343709922078444,11.343709922078444,11.343709922078444,11.343709922078444,11.343709922078444,11.343709922078444,11.343709922078444,11.343709922078444,11.343709922078444,11.343709922078444,11.343709922078444,11.343709922078444,11.343709922078444,11.343709922078444,11.343709922078444,11.343709922078444,11.343709922078444,11.343709922078444,11.343709922078444,12.964239834246907,12.964239834246907,12.964239834246907,12.964239834246907,12.964239834246907,12.964239834246907,12.964239834246907,12.964239834246907,12.964239834246907,12.964239834246907,12.964239834246907,12.964239834246907,12.964239834246907,12.964239834246907,12.964239834246907,12.964239834246907,12.964239834246907,12.964239834246907,12.964239834246907,12.964239834246907,14.58476974641537,14.58476974641537,14.58476974641537,14.58476974641537,14.58476974641537,14.58476974641537,14.58476974641537,14.58476974641537,14.58476974641537,14.58476974641537,14.58476974641537,14.58476974641537,14.58476974641537,14.58476974641537,14.58476974641537,14.58476974641537,14.58476974641537,14.58476974641537,14.58476974641537,14.58476974641537,16.205299658583833,16.205299658583833,16.205299658583833,16.205299658583833,16.205299658583833,16.205299658583833,16.205299658583833,16.205299658583833,16.205299658583833,16.205299658583833,16.205299658583833,16.205299658583833,16.205299658583833,16.205299658583833,16.205299658583833,16.205299658583833,16.205299658583833,16.205299658583833,16.205299658583833,16.205299658583833,17.825829570752294,17.825829570752294,17.825829570752294,17.825829570752294,17.825829570752294,17.825829570752294,17.825829570752294,17.825829570752294,17.825829570752294,17.825829570752294,17.825829570752294,17.825829570752294,17.825829570752294,17.825829570752294,17.825829570752294,17.825829570752294,17.825829570752294,17.825829570752294,17.825829570752294,17.825829570752294,19.44635948292076,19.44635948292076,19.44635948292076,19.44635948292076,19.44635948292076,19.44635948292076,19.44635948292076,19.44635948292076,19.44635948292076,19.44635948292076,19.44635948292076,19.44635948292076,19.44635948292076,19.44635948292076,19.44635948292076,19.44635948292076,19.44635948292076,19.44635948292076,19.44635948292076,19.44635948292076,21.066889395089223,21.066889395089223,21.066889395089223,21.066889395089223,21.066889395089223,21.066889395089223,21.066889395089223,21.066889395089223,21.066889395089223,21.066889395089223,21.066889395089223,21.066889395089223,21.066889395089223,21.066889395089223,21.066889395089223,21.066889395089223,21.066889395089223,21.066889395089223,21.066889395089223,21.066889395089223,22.687419307257684,22.687419307257684,22.687419307257684,22.687419307257684,22.687419307257684,22.687419307257684,22.687419307257684,22.687419307257684,22.687419307257684,22.687419307257684,22.687419307257684,22.687419307257684,22.687419307257684,22.687419307257684,22.687419307257684,22.687419307257684,22.687419307257684,22.687419307257684,22.687419307257684,22.687419307257684,24.307949219426146,24.307949219426146,24.307949219426146,24.307949219426146,24.307949219426146,24.307949219426146,24.307949219426146,24.307949219426146,24.307949219426146,24.307949219426146,24.307949219426146,24.307949219426146,24.307949219426146,24.307949219426146,24.307949219426146,24.307949219426146,24.307949219426146,24.307949219426146,24.307949219426146,24.307949219426146,25.92847913159461,25.92847913159461,25.92847913159461,25.92847913159461,25.92847913159461,25.92847913159461,25.92847913159461,25.92847913159461,25.92847913159461,25.92847913159461,25.92847913159461,25.92847913159461,25.92847913159461,25.92847913159461,25.92847913159461,25.92847913159461,25.92847913159461,25.92847913159461,25.92847913159461,25.92847913159461,27.549009043763075,27.549009043763075,27.549009043763075,27.549009043763075,27.549009043763075,27.549009043763075,27.549009043763075,27.549009043763075,27.549009043763075,27.549009043763075,27.549009043763075,27.549009043763075,27.549009043763075,27.549009043763075,27.549009043763075,27.549009043763075,27.549009043763075,27.549009043763075,27.549009043763075,27.549009043763075,29.169538955931536,29.169538955931536,29.169538955931536,29.169538955931536,29.169538955931536,29.169538955931536,29.169538955931536,29.169538955931536,29.169538955931536,29.169538955931536,29.169538955931536,29.169538955931536,29.169538955931536,29.169538955931536,29.169538955931536,29.169538955931536,29.169538955931536,29.169538955931536,29.169538955931536,29.169538955931536,30.7900688681,30.7900688681,30.7900688681,30.7900688681,30.7900688681,30.7900688681,30.7900688681,30.7900688681,30.7900688681,30.7900688681,30.7900688681,30.7900688681,30.7900688681,30.7900688681,30.7900688681,30.7900688681,30.7900688681,30.7900688681,30.7900688681,30.7900688681],\"y\":[5.41104347263e-06,3.463849966309606,6.927694521575739,10.391539076841871,13.855383632108005,17.319228187374136,20.783072742640268,24.246917297906403,27.710761853172535,31.174606408438667,34.638450963704805,38.10229551897094,41.56614007423707,45.029984629503204,48.49382918476934,51.95767374003547,55.4215182953016,58.88536285056774,62.349207405833866,65.8130519611,5.41104347263e-06,3.463849966309606,6.927694521575739,10.391539076841871,13.855383632108005,17.319228187374136,20.783072742640268,24.246917297906403,27.710761853172535,31.174606408438667,34.638450963704805,38.10229551897094,41.56614007423707,45.029984629503204,48.49382918476934,51.95767374003547,55.4215182953016,58.88536285056774,62.349207405833866,65.8130519611,5.41104347263e-06,3.463849966309606,6.927694521575739,10.391539076841871,13.855383632108005,17.319228187374136,20.783072742640268,24.246917297906403,27.710761853172535,31.174606408438667,34.638450963704805,38.10229551897094,41.56614007423707,45.029984629503204,48.49382918476934,51.95767374003547,55.4215182953016,58.88536285056774,62.349207405833866,65.8130519611,5.41104347263e-06,3.463849966309606,6.927694521575739,10.391539076841871,13.855383632108005,17.319228187374136,20.783072742640268,24.246917297906403,27.710761853172535,31.174606408438667,34.638450963704805,38.10229551897094,41.56614007423707,45.029984629503204,48.49382918476934,51.95767374003547,55.4215182953016,58.88536285056774,62.349207405833866,65.8130519611,5.41104347263e-06,3.463849966309606,6.927694521575739,10.391539076841871,13.855383632108005,17.319228187374136,20.783072742640268,24.246917297906403,27.710761853172535,31.174606408438667,34.638450963704805,38.10229551897094,41.56614007423707,45.029984629503204,48.49382918476934,51.95767374003547,55.4215182953016,58.88536285056774,62.349207405833866,65.8130519611,5.41104347263e-06,3.463849966309606,6.927694521575739,10.391539076841871,13.855383632108005,17.319228187374136,20.783072742640268,24.246917297906403,27.710761853172535,31.174606408438667,34.638450963704805,38.10229551897094,41.56614007423707,45.029984629503204,48.49382918476934,51.95767374003547,55.4215182953016,58.88536285056774,62.349207405833866,65.8130519611,5.41104347263e-06,3.463849966309606,6.927694521575739,10.391539076841871,13.855383632108005,17.319228187374136,20.783072742640268,24.246917297906403,27.710761853172535,31.174606408438667,34.638450963704805,38.10229551897094,41.56614007423707,45.029984629503204,48.49382918476934,51.95767374003547,55.4215182953016,58.88536285056774,62.349207405833866,65.8130519611,5.41104347263e-06,3.463849966309606,6.927694521575739,10.391539076841871,13.855383632108005,17.319228187374136,20.783072742640268,24.246917297906403,27.710761853172535,31.174606408438667,34.638450963704805,38.10229551897094,41.56614007423707,45.029984629503204,48.49382918476934,51.95767374003547,55.4215182953016,58.88536285056774,62.349207405833866,65.8130519611,5.41104347263e-06,3.463849966309606,6.927694521575739,10.391539076841871,13.855383632108005,17.319228187374136,20.783072742640268,24.246917297906403,27.710761853172535,31.174606408438667,34.638450963704805,38.10229551897094,41.56614007423707,45.029984629503204,48.49382918476934,51.95767374003547,55.4215182953016,58.88536285056774,62.349207405833866,65.8130519611,5.41104347263e-06,3.463849966309606,6.927694521575739,10.391539076841871,13.855383632108005,17.319228187374136,20.783072742640268,24.246917297906403,27.710761853172535,31.174606408438667,34.638450963704805,38.10229551897094,41.56614007423707,45.029984629503204,48.49382918476934,51.95767374003547,55.4215182953016,58.88536285056774,62.349207405833866,65.8130519611,5.41104347263e-06,3.463849966309606,6.927694521575739,10.391539076841871,13.855383632108005,17.319228187374136,20.783072742640268,24.246917297906403,27.710761853172535,31.174606408438667,34.638450963704805,38.10229551897094,41.56614007423707,45.029984629503204,48.49382918476934,51.95767374003547,55.4215182953016,58.88536285056774,62.349207405833866,65.8130519611,5.41104347263e-06,3.463849966309606,6.927694521575739,10.391539076841871,13.855383632108005,17.319228187374136,20.783072742640268,24.246917297906403,27.710761853172535,31.174606408438667,34.638450963704805,38.10229551897094,41.56614007423707,45.029984629503204,48.49382918476934,51.95767374003547,55.4215182953016,58.88536285056774,62.349207405833866,65.8130519611,5.41104347263e-06,3.463849966309606,6.927694521575739,10.391539076841871,13.855383632108005,17.319228187374136,20.783072742640268,24.246917297906403,27.710761853172535,31.174606408438667,34.638450963704805,38.10229551897094,41.56614007423707,45.029984629503204,48.49382918476934,51.95767374003547,55.4215182953016,58.88536285056774,62.349207405833866,65.8130519611,5.41104347263e-06,3.463849966309606,6.927694521575739,10.391539076841871,13.855383632108005,17.319228187374136,20.783072742640268,24.246917297906403,27.710761853172535,31.174606408438667,34.638450963704805,38.10229551897094,41.56614007423707,45.029984629503204,48.49382918476934,51.95767374003547,55.4215182953016,58.88536285056774,62.349207405833866,65.8130519611,5.41104347263e-06,3.463849966309606,6.927694521575739,10.391539076841871,13.855383632108005,17.319228187374136,20.783072742640268,24.246917297906403,27.710761853172535,31.174606408438667,34.638450963704805,38.10229551897094,41.56614007423707,45.029984629503204,48.49382918476934,51.95767374003547,55.4215182953016,58.88536285056774,62.349207405833866,65.8130519611,5.41104347263e-06,3.463849966309606,6.927694521575739,10.391539076841871,13.855383632108005,17.319228187374136,20.783072742640268,24.246917297906403,27.710761853172535,31.174606408438667,34.638450963704805,38.10229551897094,41.56614007423707,45.029984629503204,48.49382918476934,51.95767374003547,55.4215182953016,58.88536285056774,62.349207405833866,65.8130519611,5.41104347263e-06,3.463849966309606,6.927694521575739,10.391539076841871,13.855383632108005,17.319228187374136,20.783072742640268,24.246917297906403,27.710761853172535,31.174606408438667,34.638450963704805,38.10229551897094,41.56614007423707,45.029984629503204,48.49382918476934,51.95767374003547,55.4215182953016,58.88536285056774,62.349207405833866,65.8130519611,5.41104347263e-06,3.463849966309606,6.927694521575739,10.391539076841871,13.855383632108005,17.319228187374136,20.783072742640268,24.246917297906403,27.710761853172535,31.174606408438667,34.638450963704805,38.10229551897094,41.56614007423707,45.029984629503204,48.49382918476934,51.95767374003547,55.4215182953016,58.88536285056774,62.349207405833866,65.8130519611,5.41104347263e-06,3.463849966309606,6.927694521575739,10.391539076841871,13.855383632108005,17.319228187374136,20.783072742640268,24.246917297906403,27.710761853172535,31.174606408438667,34.638450963704805,38.10229551897094,41.56614007423707,45.029984629503204,48.49382918476934,51.95767374003547,55.4215182953016,58.88536285056774,62.349207405833866,65.8130519611,5.41104347263e-06,3.463849966309606,6.927694521575739,10.391539076841871,13.855383632108005,17.319228187374136,20.783072742640268,24.246917297906403,27.710761853172535,31.174606408438667,34.638450963704805,38.10229551897094,41.56614007423707,45.029984629503204,48.49382918476934,51.95767374003547,55.4215182953016,58.88536285056774,62.349207405833866,65.8130519611],\"z\":{\"__ndarray__\":\"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\",\"dtype\":\"float64\",\"shape\":[400]}}},\"id\":\"bf5334bb-b4eb-42a3-ab81-0caf121ec976\",\"type\":\"ColumnDataSource\"},{\"attributes\":{\"children\":[{\"id\":\"165d2821-5ca9-499a-aa6e-4fb422c6a5dc\",\"type\":\"Surface3d\"}]},\"id\":\"18aae011-03da-44ec-8e83-64303306fde5\",\"type\":\"Row\"},{\"attributes\":{\"color\":\"color\",\"data_source\":{\"id\":\"bf5334bb-b4eb-42a3-ab81-0caf121ec976\",\"type\":\"ColumnDataSource\"},\"x\":\"x\",\"y\":\"y\",\"z\":\"z\"},\"id\":\"165d2821-5ca9-499a-aa6e-4fb422c6a5dc\",\"type\":\"Surface3d\"}],\"root_ids\":[\"18aae011-03da-44ec-8e83-64303306fde5\"]},\"title\":\"Bokeh Application\",\"version\":\"0.12.5\"}};\n",
       "            var render_items = [{\"docid\":\"215e0f7c-9f4a-4c2c-9b7a-939bc63c2d15\",\"elementid\":\"76f09f68-d93a-4f95-b1d4-94f827dcc76a\",\"modelid\":\"18aae011-03da-44ec-8e83-64303306fde5\",\"notebook_comms_target\":\"a6ad3bf9-5bf1-4a12-9ae6-1041da0e6d57\"}];\n",
       "            \n",
       "            Bokeh.embed.embed_items(docs_json, render_items);\n",
       "          };\n",
       "          if (document.readyState != \"loading\") fn();\n",
       "          else document.addEventListener(\"DOMContentLoaded\", fn);\n",
       "        })();\n",
       "      },\n",
       "      function(Bokeh) {\n",
       "      }\n",
       "    ];\n",
       "  \n",
       "    function run_inline_js() {\n",
       "      \n",
       "      if ((window.Bokeh !== undefined) || (force === true)) {\n",
       "        for (var i = 0; i < inline_js.length; i++) {\n",
       "          inline_js[i](window.Bokeh);\n",
       "        }if (force === true) {\n",
       "          display_loaded();\n",
       "        }} else if (Date.now() < window._bokeh_timeout) {\n",
       "        setTimeout(run_inline_js, 100);\n",
       "      } else if (!window._bokeh_failed_load) {\n",
       "        console.log(\"Bokeh: BokehJS failed to load within specified timeout.\");\n",
       "        window._bokeh_failed_load = true;\n",
       "      } else if (force !== true) {\n",
       "        var cell = $(document.getElementById(\"76f09f68-d93a-4f95-b1d4-94f827dcc76a\")).parents('.cell').data().cell;\n",
       "        cell.output_area.append_execute_result(NB_LOAD_WARNING)\n",
       "      }\n",
       "  \n",
       "    }\n",
       "  \n",
       "    if (window._bokeh_is_loading === 0) {\n",
       "      console.log(\"Bokeh: BokehJS loaded, going straight to plotting\");\n",
       "      run_inline_js();\n",
       "    } else {\n",
       "      load_libs(js_urls, function() {\n",
       "        console.log(\"Bokeh: BokehJS plotting callback run at\", now());\n",
       "        run_inline_js();\n",
       "      });\n",
       "    }\n",
       "  }(this));\n",
       "</script>"
      ]
     },
     "metadata": {},
     "output_type": "display_data"
    },
    {
     "data": {
      "text/html": [
       "<p><code>&lt;Bokeh Notebook handle for <strong>In[46]</strong>&gt;</code></p>"
      ],
      "text/plain": [
       "<bokeh.io._CommsHandle at 0x7fc509fc61d0>"
      ]
     },
     "execution_count": 46,
     "metadata": {},
     "output_type": "execute_result"
    }
   ],
   "source": [
    "layout = row(surface)\n",
    "show(layout, notebook_handle=True)"
   ]
  },
  {
   "cell_type": "code",
   "execution_count": null,
   "metadata": {
    "collapsed": true
   },
   "outputs": [],
   "source": []
  }
 ],
 "metadata": {
  "kernelspec": {
   "display_name": "Python 2",
   "language": "python",
   "name": "python2"
  },
  "language_info": {
   "codemirror_mode": {
    "name": "ipython",
    "version": 2
   },
   "file_extension": ".py",
   "mimetype": "text/x-python",
   "name": "python",
   "nbconvert_exporter": "python",
   "pygments_lexer": "ipython2",
   "version": "2.7.13"
  }
 },
 "nbformat": 4,
 "nbformat_minor": 2
}
