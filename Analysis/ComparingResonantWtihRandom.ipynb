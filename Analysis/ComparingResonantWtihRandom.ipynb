{
 "cells": [
  {
   "cell_type": "markdown",
   "metadata": {},
   "source": [
    "This notebook looks at comparing the CDF's and determining how well the laplacian fit for the random systems performs on the resonant distribution"
   ]
  },
  {
   "cell_type": "code",
   "execution_count": 1,
   "metadata": {
    "collapsed": true
   },
   "outputs": [],
   "source": [
    "import numpy as np\n",
    "import pandas as pd\n",
    "import matplotlib\n",
    "from matplotlib import pyplot as plt\n",
    "import time\n",
    "from scipy.stats import laplace, norm, ks_2samp\n",
    "from scipy.optimize import curve_fit\n",
    "#from scipy.stats import norm\n",
    "\n",
    "%matplotlib inline"
   ]
  },
  {
   "cell_type": "markdown",
   "metadata": {},
   "source": [
    "This is for the random systems, output its list of sigmas"
   ]
  },
  {
   "cell_type": "code",
   "execution_count": 2,
   "metadata": {
    "collapsed": false
   },
   "outputs": [
    {
     "name": "stdout",
     "output_type": "stream",
     "text": [
      "(189, 8)\n",
      "1.078939098463822\n",
      "[0.46151888 0.33015733 0.38712247 0.43121741 0.3668993  0.42505205\n",
      " 0.41166663 0.45503812 0.67231015 0.32214622 0.6449042  0.8622681\n",
      " 0.35742141 0.23681775 0.9155178  0.35165693 0.35011032 0.3796505\n",
      " 0.62845752 0.52566243 0.42331347 0.15445875 0.30808857 0.49512725\n",
      " 0.5313544  0.46172148 0.52775346 0.32171409 0.38977113 0.61608462\n",
      " 0.49257999 0.46202806 0.48582747 0.43687545 0.86357803 0.46589641\n",
      " 0.40960749 0.37858134 0.36352759 0.46619523 0.49503706 0.4566153\n",
      " 0.31495032 0.46233931 0.3865212  0.32275829 0.4685723  0.39736274\n",
      " 0.36960433 0.4815207  0.32439069 0.38021166 0.2184015  0.28973225\n",
      " 0.54520962 0.33288155 0.32191856 0.43078825 0.35375352 0.48178119\n",
      " 0.46254918 0.46374164 0.72350204 0.38036609 0.52431156 0.35087489\n",
      " 0.38259536 0.62045785 0.25132004 0.3675336  0.40811828 0.26720517\n",
      " 0.36036495 0.5565069  0.62530469 0.39406892 0.38802977 0.33966745\n",
      " 0.48889066 0.79001466 0.52743976 0.73114414 0.60289589 0.5154032\n",
      " 0.50730723 0.66683195 0.68445213 0.33672593 0.40211134 0.43000482\n",
      " 0.38519312 0.62056138 0.32365225 0.49195502 0.3359444  0.24858607\n",
      " 0.35981423 0.43823388 0.42400521 0.46675604 0.50851209 0.38924193\n",
      " 0.63944008 0.55745586 0.39673319 0.6882617  0.30190344 0.43296738\n",
      " 0.36321198 0.57395225 0.36247096 0.47267051 0.31516561 0.48240822\n",
      " 0.43721013 0.28876109 0.33906516 0.46752121 0.34429289 0.33530975\n",
      " 0.37764233 0.41215271 0.35941524 0.49665677 0.38261906 0.68535311\n",
      " 0.34104486 0.4208654  0.48976857 1.0789391  0.46405986 0.56548154\n",
      " 0.39325456 0.51952393 0.5248101  0.56533419 0.38519597 0.26839478\n",
      " 0.32415701 0.44138585 0.4515695  0.27602401 0.36267508 0.52150764\n",
      " 0.74318062 0.34201916 0.41088718 0.33858445 0.29884141 0.25838978\n",
      " 0.7016241  0.57023191 0.28820746 0.34695034 0.29800125 0.79369807\n",
      " 0.6216219  0.54256872 0.86104791 0.39842609 0.45810135 0.44114308\n",
      " 0.72492767 0.3653994  0.30963622 0.25805421 0.37655798 0.37775342\n",
      " 0.28487216 0.63630914 0.38627997 0.34579013 0.33848466 0.39758123\n",
      " 0.5340691  0.66857789 0.39730268 0.34646846 0.33447689 0.25266879\n",
      " 0.52238175 0.5292914  0.46027619 0.31251465 0.49711077 0.39065127\n",
      " 0.52059002 0.52318139 0.47540227]\n"
     ]
    }
   ],
   "source": [
    "#pull up gaussian fits, and the P value significance, to take all systems with above 1-e6.\n",
    "#this is a reasonable threshold because higher than that removes many systems, and lower than that includes many odd systems\n",
    "\n",
    "random_distribution_parameters = pd.read_csv(\"../Figures/MCMCFigures/ProbabilityTable_Fixed_Covariences_266.csv\")\n",
    "significances = pd.read_csv(\"../csvs/significance_scores.csv\")\n",
    "\n",
    "good_fits = significances[significances[\"KS_P\"]>1e-6]\n",
    "valid_gaus_params = random_distribution_parameters[ random_distribution_parameters[\"ID\"].isin(good_fits[\"ID\"]) ]\n",
    "print(valid_gaus_params.shape)\n",
    "print(valid_gaus_params[\"Sigma\"].max())\n",
    "print(valid_gaus_params[\"Sigma\"].values)"
   ]
  },
  {
   "cell_type": "markdown",
   "metadata": {},
   "source": [
    "This is for the resonant data set"
   ]
  },
  {
   "cell_type": "code",
   "execution_count": 3,
   "metadata": {
    "collapsed": false
   },
   "outputs": [
    {
     "name": "stdout",
     "output_type": "stream",
     "text": [
      "(171, 7)\n",
      "0.045522005114765965\n"
     ]
    }
   ],
   "source": [
    "resonant_distribution_parameters= pd.read_csv(\"../csvs/Res_3_feats/Convolved_Params_239_IOU.csv\")\n",
    "significances = pd.read_csv(\"../csvs/Res_3_feats/res_signficance_scores.csv\")\n",
    "resonant_distribution_parameters[\"Sigma\"] = np.abs(resonant_distribution_parameters[\"Sigma\"])\n",
    "\n",
    "good_fits = significances[significances[\"KS_P\"]>1e-6]\n",
    "valid_res_gaus_params = resonant_distribution_parameters[ resonant_distribution_parameters[\"ID\"].isin(good_fits[\"ID\"]) ]\n",
    "print(valid_res_gaus_params.shape)\n",
    "print(valid_res_gaus_params[\"Sigma\"].min())"
   ]
  },
  {
   "cell_type": "code",
   "execution_count": 5,
   "metadata": {
    "collapsed": false
   },
   "outputs": [
    {
     "data": {
      "text/plain": [
       "Ks_2sampResult(statistic=0.4193817878028404, pvalue=1.5944118166273993e-14)"
      ]
     },
     "execution_count": 5,
     "metadata": {},
     "output_type": "execute_result"
    }
   ],
   "source": [
    "ks_2samp(valid_gaus_params[\"Sigma\"].values, valid_res_gaus_params[\"Sigma\"].values)"
   ]
  },
  {
   "cell_type": "markdown",
   "metadata": {},
   "source": [
    "Since the p value is very low, the two distributions can be said to be very different\n",
    "Can we show the cumulative distribution plot?"
   ]
  },
  {
   "cell_type": "code",
   "execution_count": 6,
   "metadata": {
    "collapsed": false
   },
   "outputs": [
    {
     "name": "stdout",
     "output_type": "stream",
     "text": [
      "189\n",
      "1.078939098463822\n"
     ]
    },
    {
     "data": {
      "image/png": "[encoded data removed]",
      "text/plain": [
       "<matplotlib.figure.Figure at 0x7fde9add62d0>"
      ]
     },
     "metadata": {},
     "output_type": "display_data"
    }
   ],
   "source": [
    "ordered_random_distribution = np.sort(valid_gaus_params[\"Sigma\"].values)\n",
    "\n",
    "N = ordered_random_distribution.shape[0]\n",
    "print N\n",
    "X2 = ordered_random_distribution\n",
    "print X2[-1]\n",
    "F2 = np.array(range(N))/float(N)\n",
    "plt.plot(X2, F2)\n",
    "plt.show()"
   ]
  },
  {
   "cell_type": "code",
   "execution_count": 7,
   "metadata": {
    "collapsed": false
   },
   "outputs": [
    {
     "data": {
      "image/png": "[encoded data removed]",
      "text/plain": [
       "<matplotlib.figure.Figure at 0x7fdec77f2e90>"
      ]
     },
     "metadata": {},
     "output_type": "display_data"
    }
   ],
   "source": [
    "ordered_resonant_distribution = np.sort(valid_res_gaus_params[\"Sigma\"].values)\n",
    "\n",
    "N = ordered_resonant_distribution.shape[0]\n",
    "X2 = ordered_resonant_distribution\n",
    "F2 = np.array(range(N))/float(N)\n",
    "plt.plot(X2, F2)\n",
    "plt.show()"
   ]
  },
  {
   "cell_type": "code",
   "execution_count": 8,
   "metadata": {
    "collapsed": false
   },
   "outputs": [
    {
     "data": {
      "text/plain": [
       "<matplotlib.legend.Legend at 0x7fde9740a110>"
      ]
     },
     "execution_count": 8,
     "metadata": {},
     "output_type": "execute_result"
    },
    {
     "data": {
      "image/png": "[encoded data removed]",
      "text/plain": [
       "<matplotlib.figure.Figure at 0x7fde9ae38090>"
      ]
     },
     "metadata": {},
     "output_type": "display_data"
    }
   ],
   "source": [
    "fig, ax = plt.subplots(figsize = (10,8))\n",
    "#fig\n",
    "\n",
    "ordered_random_distribution = np.sort(valid_gaus_params[\"Sigma\"].values)\n",
    "\n",
    "N = ordered_random_distribution.shape[0]\n",
    "X2 = ordered_random_distribution\n",
    "F2 = np.array(range(N))/float(N)\n",
    "ax.plot(X2, F2, label=\"random\")\n",
    "\n",
    "\n",
    "ordered_resonant_distribution = np.sort(valid_res_gaus_params[\"Sigma\"].values)\n",
    "\n",
    "N = ordered_resonant_distribution.shape[0]\n",
    "X2 = ordered_resonant_distribution\n",
    "F2 = np.array(range(N))/float(N)\n",
    "ax.plot(X2, F2, label=\"resonant\")\n",
    "\n",
    "# plt.show()\n",
    "ax.set_title(\"Empirical CDF\")\n",
    "ax.set_ylabel(\"F(x)\")\n",
    "ax.set_xlabel(\"x\")\n",
    "fig.legend(loc=2, bbox_to_anchor=(0.65, 0.2))"
   ]
  },
  {
   "cell_type": "markdown",
   "metadata": {},
   "source": [
    "Find the distribution where the sigma for the random sample is 3. That should be an interesting distribution."
   ]
  },
  {
   "cell_type": "code",
   "execution_count": 14,
   "metadata": {
    "collapsed": true
   },
   "outputs": [],
   "source": [
    "def laplace_fit(data, mean, spread):\n",
    "    #data is your data\n",
    "    #mean spread are the params you try to fit to the data\n",
    "    return np.exp(-np.abs(data-mean)/spread)/2./spread"
   ]
  },
  {
   "cell_type": "code",
   "execution_count": 25,
   "metadata": {
    "collapsed": false
   },
   "outputs": [
    {
     "data": {
      "text/plain": [
       "189"
      ]
     },
     "execution_count": 25,
     "metadata": {},
     "output_type": "execute_result"
    }
   ],
   "source": [
    "valid_gaus_params[\"Sigma\"].values.size"
   ]
  },
  {
   "cell_type": "code",
   "execution_count": 60,
   "metadata": {
    "collapsed": false
   },
   "outputs": [
    {
     "data": {
      "text/plain": [
       "[<matplotlib.lines.Line2D at 0x7fde92f56b50>]"
      ]
     },
     "execution_count": 60,
     "metadata": {},
     "output_type": "execute_result"
    },
    {
     "data": {
      "image/png": "[encoded data removed]",
      "text/plain": [
       "<matplotlib.figure.Figure at 0x7fde93217950>"
      ]
     },
     "metadata": {},
     "output_type": "display_data"
    }
   ],
   "source": [
    "# resonant graph\n",
    "\n",
    "# plot the laplace from the random system\n",
    "# range from about 0 to 1.5 catches the sigmas\n",
    "bins = np.linspace(-3,3, valid_gaus_params[\"Sigma\"].values.size)\n",
    "\n",
    "popt = [0.       , 0.5899713] # from Convolving Test notebook for random systems\n",
    "# Need to pull the associated error from that calculation as well\n",
    "\n",
    "# popt, pcov = curve_fit(laplace_fit, bins, valid_gaus_params[\"Sigma\"].values)\n",
    "\n",
    "# center the distribution\n",
    "\n",
    "plt.plot(bins, laplace_fit(bins, *popt), label = \"Laplace Fit\", linewidth = 4)\n"
   ]
  },
  {
   "cell_type": "code",
   "execution_count": 61,
   "metadata": {
    "collapsed": false
   },
   "outputs": [
    {
     "data": {
      "text/html": [
       "<div>\n",
       "<style>\n",
       "    .dataframe thead tr:only-child th {\n",
       "        text-align: right;\n",
       "    }\n",
       "\n",
       "    .dataframe thead th {\n",
       "        text-align: left;\n",
       "    }\n",
       "\n",
       "    .dataframe tbody tr th {\n",
       "        vertical-align: top;\n",
       "    }\n",
       "</style>\n",
       "<table border=\"1\" class=\"dataframe\">\n",
       "  <thead>\n",
       "    <tr style=\"text-align: right;\">\n",
       "      <th></th>\n",
       "      <th>runstring</th>\n",
       "      <th>seed</th>\n",
       "      <th>pairindex</th>\n",
       "      <th>j</th>\n",
       "      <th>k</th>\n",
       "      <th>Zstar</th>\n",
       "      <th>libfac</th>\n",
       "      <th>Zcom</th>\n",
       "      <th>instability_time</th>\n",
       "      <th>shadow_instability_time</th>\n",
       "    </tr>\n",
       "  </thead>\n",
       "  <tbody>\n",
       "    <tr>\n",
       "      <th>0</th>\n",
       "      <td>0000000.bin</td>\n",
       "      <td>3500000</td>\n",
       "      <td>1</td>\n",
       "      <td>12</td>\n",
       "      <td>1</td>\n",
       "      <td>0.021650</td>\n",
       "      <td>0.007181</td>\n",
       "      <td>0.041669</td>\n",
       "      <td>1.545872e+06</td>\n",
       "      <td>3.063700e+06</td>\n",
       "    </tr>\n",
       "    <tr>\n",
       "      <th>1</th>\n",
       "      <td>0000001.bin</td>\n",
       "      <td>700001</td>\n",
       "      <td>1</td>\n",
       "      <td>19</td>\n",
       "      <td>2</td>\n",
       "      <td>0.060291</td>\n",
       "      <td>0.523204</td>\n",
       "      <td>0.010656</td>\n",
       "      <td>9.990000e+08</td>\n",
       "      <td>9.990000e+08</td>\n",
       "    </tr>\n",
       "    <tr>\n",
       "      <th>2</th>\n",
       "      <td>0000002.bin</td>\n",
       "      <td>2</td>\n",
       "      <td>0</td>\n",
       "      <td>6</td>\n",
       "      <td>1</td>\n",
       "      <td>0.026353</td>\n",
       "      <td>0.012995</td>\n",
       "      <td>0.050319</td>\n",
       "      <td>9.990000e+08</td>\n",
       "      <td>9.990000e+08</td>\n",
       "    </tr>\n",
       "    <tr>\n",
       "      <th>3</th>\n",
       "      <td>0000003.bin</td>\n",
       "      <td>2100003</td>\n",
       "      <td>0</td>\n",
       "      <td>5</td>\n",
       "      <td>2</td>\n",
       "      <td>0.023511</td>\n",
       "      <td>0.713415</td>\n",
       "      <td>0.102200</td>\n",
       "      <td>2.287671e+06</td>\n",
       "      <td>8.392234e+06</td>\n",
       "    </tr>\n",
       "    <tr>\n",
       "      <th>4</th>\n",
       "      <td>0000004.bin</td>\n",
       "      <td>700004</td>\n",
       "      <td>0</td>\n",
       "      <td>12</td>\n",
       "      <td>1</td>\n",
       "      <td>0.017473</td>\n",
       "      <td>0.003612</td>\n",
       "      <td>0.039803</td>\n",
       "      <td>9.668931e+05</td>\n",
       "      <td>3.380350e+05</td>\n",
       "    </tr>\n",
       "  </tbody>\n",
       "</table>\n",
       "</div>"
      ],
      "text/plain": [
       "     runstring     seed  pairindex   j  k     Zstar    libfac      Zcom  \\\n",
       "0  0000000.bin  3500000          1  12  1  0.021650  0.007181  0.041669   \n",
       "1  0000001.bin   700001          1  19  2  0.060291  0.523204  0.010656   \n",
       "2  0000002.bin        2          0   6  1  0.026353  0.012995  0.050319   \n",
       "3  0000003.bin  2100003          0   5  2  0.023511  0.713415  0.102200   \n",
       "4  0000004.bin   700004          0  12  1  0.017473  0.003612  0.039803   \n",
       "\n",
       "   instability_time  shadow_instability_time  \n",
       "0      1.545872e+06             3.063700e+06  \n",
       "1      9.990000e+08             9.990000e+08  \n",
       "2      9.990000e+08             9.990000e+08  \n",
       "3      2.287671e+06             8.392234e+06  \n",
       "4      9.668931e+05             3.380350e+05  "
      ]
     },
     "execution_count": 61,
     "metadata": {},
     "output_type": "execute_result"
    }
   ],
   "source": [
    "# load the resonant time series dataset\n",
    "res_test = pd.read_csv(\"../csvs/resonant_data.csv\", index_col=0)\n",
    "res_test.head()"
   ]
  },
  {
   "cell_type": "code",
   "execution_count": 62,
   "metadata": {
    "collapsed": false
   },
   "outputs": [
    {
     "name": "stdout",
     "output_type": "stream",
     "text": [
      "(5039, 10)\n"
     ]
    },
    {
     "data": {
      "text/plain": [
       "[<matplotlib.lines.Line2D at 0x7fde9315b650>]"
      ]
     },
     "execution_count": 62,
     "metadata": {},
     "output_type": "execute_result"
    },
    {
     "data": {
      "image/png": "[encoded data removed]",
      "text/plain": [
       "<matplotlib.figure.Figure at 0x7fde935f4050>"
      ]
     },
     "metadata": {},
     "output_type": "display_data"
    }
   ],
   "source": [
    "test_samples = res_test[ (np.log10(res_test[\"instability_time\"])<7 ) &\n",
    "                       (np.log10(res_test[\"shadow_instability_time\"])<7 ) &\n",
    "                       (np.log10(res_test[\"instability_time\"])>4 ) &\n",
    "                       (np.log10(res_test[\"shadow_instability_time\"])>4 ) ]\n",
    "print(test_samples.shape)\n",
    "\n",
    "diff_data = np.log10(test_samples[\"instability_time\"]) - np.log10(test_samples[\"shadow_instability_time\"])\n",
    "plt.hist(diff_data, bins= 30, normed=1, alpha = 0.6)\n",
    "plt.plot(bins, laplace_fit(bins, *popt), label = \"Laplace Fit\", linewidth = 4)\n"
   ]
  },
  {
   "cell_type": "code",
   "execution_count": 64,
   "metadata": {
    "collapsed": false
   },
   "outputs": [
    {
     "data": {
      "text/plain": [
       "Ks_2sampResult(statistic=0.5320500099226037, pvalue=4.524122839980425e-46)"
      ]
     },
     "execution_count": 64,
     "metadata": {},
     "output_type": "execute_result"
    }
   ],
   "source": [
    "# quantify how well the two fit: \n",
    "ks_2samp(laplace_fit(bins, *popt), diff_data)"
   ]
  },
  {
   "cell_type": "code",
   "execution_count": null,
   "metadata": {
    "collapsed": true
   },
   "outputs": [],
   "source": []
  }
 ],
 "metadata": {
  "anaconda-cloud": {},
  "kernelspec": {
   "display_name": "Python [conda env:anaconda2]",
   "language": "python",
   "name": "conda-env-anaconda2-py"
  },
  "language_info": {
   "codemirror_mode": {
    "name": "ipython",
    "version": 2
   },
   "file_extension": ".py",
   "mimetype": "text/x-python",
   "name": "python",
   "nbconvert_exporter": "python",
   "pygments_lexer": "ipython2",
   "version": "2.7.12"
  }
 },
 "nbformat": 4,
 "nbformat_minor": 1
}
