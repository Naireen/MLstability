{
 "cells": [
  {
   "cell_type": "code",
   "execution_count": 10,
   "metadata": {},
   "outputs": [],
   "source": [
    "import numpy as np\n",
    "import matplotlib\n",
    "from matplotlib import pyplot as plt\n",
    "import matplotlib.mlab as mlab\n",
    "import pandas as pd\n",
    "from matplotlib import cm\n",
    "import scipy.stats as st\n",
    "\n",
    "\n",
    "# Choose the \"true\" parameters.\n",
    "m_true = -0.9594\n",
    "b_true = 4.294\n",
    "f_true = 0.534\n",
    "\n",
    "np.random.seed(0)\n",
    "\n",
    "# Generate some synthetic data from the model.\n",
    "N = 50\n",
    "x = np.sort(10*np.random.rand(N))\n",
    "yerr = 0.1+0.5*np.random.rand(N)\n",
    "y = m_true*x+b_true\n",
    "y += np.abs(f_true*y) * np.random.randn(N)\n",
    "y += yerr * np.random.randn(N)\n"
   ]
  },
  {
   "cell_type": "markdown",
   "metadata": {},
   "source": [
    "Try going over EMCEE example outlined in website"
   ]
  },
  {
   "cell_type": "code",
   "execution_count": 11,
   "metadata": {},
   "outputs": [
    {
     "data": {
      "image/png": "[encoded data removed]",
      "text/plain": [
       "<matplotlib.figure.Figure at 0x7f53c0c64550>"
      ]
     },
     "metadata": {},
     "output_type": "display_data"
    }
   ],
   "source": [
    "plt.errorbar(x, y, yerr=yerr, fmt= \"o\")\n",
    "plt.show()"
   ]
  },
  {
   "cell_type": "code",
   "execution_count": 12,
   "metadata": {},
   "outputs": [
    {
     "name": "stdout",
     "output_type": "stream",
     "text": [
      "3.89442288569 -0.777530675884\n"
     ]
    }
   ],
   "source": [
    "A = np.vstack((np.ones_like(x), x)).T\n",
    "C = np.diag(yerr * yerr)\n",
    "cov = np.linalg.inv(np.dot(A.T, np.linalg.solve(C, A)))\n",
    "b_ls, m_ls = np.dot(cov, np.dot(A.T, np.linalg.solve(C, y)))\n",
    "print b_ls, m_ls"
   ]
  },
  {
   "cell_type": "code",
   "execution_count": 13,
   "metadata": {
    "collapsed": true
   },
   "outputs": [],
   "source": [
    "def lnlike(theta, x, y, yerr):\n",
    "    m, b, lnf = theta\n",
    "    model = m * x + b\n",
    "    inv_sigma2 = 1.0/(yerr**2 + model**2*np.exp(2*lnf))\n",
    "    return -0.5*(np.sum((y-model)**2*inv_sigma2 - np.log(inv_sigma2)))"
   ]
  },
  {
   "cell_type": "code",
   "execution_count": 14,
   "metadata": {},
   "outputs": [
    {
     "name": "stdout",
     "output_type": "stream",
     "text": [
      "4.14088775891 -0.894762505549\n"
     ]
    }
   ],
   "source": [
    "import scipy.optimize as op\n",
    "nll = lambda *args: -lnlike(*args)\n",
    "result = op.minimize(nll, [m_true, b_true, np.log(f_true)], args=(x, y, yerr))\n",
    "m_ml, b_ml, lnf_ml = result[\"x\"]\n",
    "print b_ml, m_ml"
   ]
  },
  {
   "cell_type": "code",
   "execution_count": 15,
   "metadata": {
    "collapsed": true
   },
   "outputs": [],
   "source": [
    "def lnprior(theta):\n",
    "    m, b, lnf = theta\n",
    "    if -5.0 < m < 0.5 and 0.0 < b < 10.0 and -10.0 < lnf < 1.0:\n",
    "        return 0.0\n",
    "    return -np.inf\n"
   ]
  },
  {
   "cell_type": "code",
   "execution_count": 16,
   "metadata": {
    "collapsed": true
   },
   "outputs": [],
   "source": [
    "def lnprob(theta, x, y, yerr):\n",
    "    lp = lnprior(theta)\n",
    "    if not np.isfinite(lp):\n",
    "        return -np.inf\n",
    "    return lp + lnlike(theta, x, y, yerr)"
   ]
  },
  {
   "cell_type": "code",
   "execution_count": 17,
   "metadata": {},
   "outputs": [],
   "source": [
    "ndim, nwalkers = 3, 100\n",
    "#print result[\"x\"]\n"
   ]
  },
  {
   "cell_type": "code",
   "execution_count": 18,
   "metadata": {
    "scrolled": true
   },
   "outputs": [
    {
     "data": {
      "text/plain": [
       "(array([[ -6.83964077e-01,   3.06151316e+00,   4.39684490e-03],\n",
       "        [ -8.79519174e-01,   4.15767644e+00,  -3.22542705e-01],\n",
       "        [ -8.11732863e-01,   3.76792061e+00,  -3.52767016e-01],\n",
       "        [ -8.31587188e-01,   3.88567807e+00,  -5.62162441e-01],\n",
       "        [ -8.63171122e-01,   4.01346074e+00,  -4.33895796e-01],\n",
       "        [ -9.14926265e-01,   4.27608433e+00,  -4.76346562e-01],\n",
       "        [ -7.84266691e-01,   3.75120403e+00,  -3.89106130e-01],\n",
       "        [ -1.04014380e+00,   4.84013329e+00,  -6.80181554e-01],\n",
       "        [ -7.87197701e-01,   3.77136102e+00,  -5.25160630e-01],\n",
       "        [ -8.56812730e-01,   4.10326184e+00,  -6.03192103e-01],\n",
       "        [ -9.17103478e-01,   4.22951617e+00,  -2.83440769e-01],\n",
       "        [ -8.99029053e-01,   4.09170150e+00,  -6.35392679e-01],\n",
       "        [ -9.58925965e-01,   4.42889596e+00,  -5.97815587e-01],\n",
       "        [ -7.98025919e-01,   3.68719686e+00,  -3.04338484e-01],\n",
       "        [ -8.99506042e-01,   4.28039674e+00,  -4.25321826e-01],\n",
       "        [ -8.50057054e-01,   3.97654660e+00,  -3.54575733e-01],\n",
       "        [ -1.00108522e+00,   4.65669424e+00,  -4.04131024e-01],\n",
       "        [ -1.02267895e+00,   4.73233852e+00,  -7.47501102e-01],\n",
       "        [ -8.30695841e-01,   3.86929647e+00,  -5.20207134e-01],\n",
       "        [ -9.61144764e-01,   4.40767399e+00,  -6.04888268e-01],\n",
       "        [ -1.07675933e+00,   5.08626869e+00,  -8.00293394e-01],\n",
       "        [ -9.17335215e-01,   4.35206623e+00,  -5.83079639e-01],\n",
       "        [ -9.89598063e-01,   4.49791208e+00,  -4.82426295e-01],\n",
       "        [ -8.54041101e-01,   3.96019509e+00,  -3.68031712e-01],\n",
       "        [ -8.92979986e-01,   4.16238186e+00,  -5.15819076e-01],\n",
       "        [ -9.20691734e-01,   4.24126124e+00,  -2.98560302e-01],\n",
       "        [ -9.87605806e-01,   4.57880090e+00,  -7.22179313e-01],\n",
       "        [ -8.84158611e-01,   4.14279649e+00,  -6.22222303e-01],\n",
       "        [ -8.39325054e-01,   3.91403338e+00,  -6.03350910e-01],\n",
       "        [ -9.74902881e-01,   4.56739853e+00,  -7.92949065e-01],\n",
       "        [ -1.05862433e+00,   4.97764665e+00,  -4.65628336e-01],\n",
       "        [ -7.31535648e-01,   3.38984965e+00,  -3.18509269e-01],\n",
       "        [ -1.06036963e+00,   4.91313389e+00,  -5.98050499e-01],\n",
       "        [ -8.17861567e-01,   3.72364228e+00,  -4.71775210e-01],\n",
       "        [ -8.02114761e-01,   3.64875029e+00,  -3.96771419e-01],\n",
       "        [ -8.73957665e-01,   4.09181913e+00,  -6.09131525e-01],\n",
       "        [ -9.37354686e-01,   4.36147741e+00,  -6.36136153e-01],\n",
       "        [ -9.13142437e-01,   4.25222511e+00,  -4.94826878e-01],\n",
       "        [ -9.11760624e-01,   4.13289387e+00,  -4.31703521e-01],\n",
       "        [ -7.52139710e-01,   3.49077181e+00,  -1.85366730e-01],\n",
       "        [ -7.94453424e-01,   3.73162265e+00,  -4.80975622e-01],\n",
       "        [ -9.18442999e-01,   4.32067533e+00,  -3.80620606e-01],\n",
       "        [ -9.56596139e-01,   4.36545489e+00,  -6.87998145e-01],\n",
       "        [ -9.24140197e-01,   4.25982157e+00,  -5.56931007e-01],\n",
       "        [ -8.54926613e-01,   3.96727554e+00,  -5.71721451e-01],\n",
       "        [ -9.27288982e-01,   4.31351226e+00,  -3.83032907e-01],\n",
       "        [ -9.78875687e-01,   4.59532979e+00,  -6.98861400e-01],\n",
       "        [ -9.84892936e-01,   4.59342061e+00,  -8.71006326e-01],\n",
       "        [ -8.06076296e-01,   3.70227057e+00,  -1.18264225e-01],\n",
       "        [ -1.02076757e+00,   4.72087784e+00,  -4.20375258e-01],\n",
       "        [ -9.26314038e-01,   4.29182655e+00,  -5.84422407e-01],\n",
       "        [ -9.83199945e-01,   4.48052602e+00,  -5.91249882e-01],\n",
       "        [ -8.08224598e-01,   3.81025986e+00,  -4.49729126e-01],\n",
       "        [ -9.53311016e-01,   4.33147156e+00,  -6.85250312e-01],\n",
       "        [ -8.52641585e-01,   4.00564572e+00,  -4.57958428e-01],\n",
       "        [ -9.07159501e-01,   4.18723001e+00,  -4.45130231e-01],\n",
       "        [ -9.24026709e-01,   4.40684915e+00,  -6.29935360e-01],\n",
       "        [ -8.12616946e-01,   3.77900249e+00,  -6.72314006e-01],\n",
       "        [ -9.19489729e-01,   4.40442106e+00,  -5.55152104e-01],\n",
       "        [ -9.76037418e-01,   4.54216092e+00,  -5.66599862e-01],\n",
       "        [ -9.42131349e-01,   4.41211867e+00,  -3.87374957e-01],\n",
       "        [ -8.39472494e-01,   3.90622096e+00,  -6.31126687e-01],\n",
       "        [ -7.04811606e-01,   3.32219762e+00,  -3.86022281e-01],\n",
       "        [ -8.25432395e-01,   3.81942883e+00,  -3.29581871e-01],\n",
       "        [ -8.44060230e-01,   3.87423088e+00,  -1.57224813e-01],\n",
       "        [ -9.34162740e-01,   4.35723783e+00,  -5.89862305e-01],\n",
       "        [ -6.92038945e-01,   3.19869832e+00,  -4.22931181e-01],\n",
       "        [ -9.89779307e-01,   4.53888077e+00,  -5.23206584e-01],\n",
       "        [ -1.10889758e+00,   5.26984164e+00,  -6.27495062e-01],\n",
       "        [ -7.34484653e-01,   3.58660382e+00,  -2.86048830e-01],\n",
       "        [ -8.07326835e-01,   3.80830966e+00,  -3.33027497e-01],\n",
       "        [ -9.48929931e-01,   4.41513831e+00,  -5.67678976e-01],\n",
       "        [ -1.04460440e+00,   4.79698984e+00,  -7.07760877e-01],\n",
       "        [ -8.21549284e-01,   3.85186026e+00,  -4.95001013e-01],\n",
       "        [ -8.99940291e-01,   4.39828217e+00,  -5.94616303e-01],\n",
       "        [ -8.67161877e-01,   4.09220298e+00,  -5.42169610e-01],\n",
       "        [ -9.57498773e-01,   4.42148324e+00,  -5.50368227e-01],\n",
       "        [ -8.59769316e-01,   4.19209007e+00,  -6.27695614e-01],\n",
       "        [ -8.25913508e-01,   3.89918434e+00,  -4.23589939e-01],\n",
       "        [ -9.56340275e-01,   4.27561895e+00,  -6.77387905e-01],\n",
       "        [ -8.65977941e-01,   3.99954343e+00,  -3.50689799e-01],\n",
       "        [ -1.02085437e+00,   4.66747175e+00,  -4.65922210e-01],\n",
       "        [ -9.07372030e-01,   4.33013425e+00,  -3.94552920e-01],\n",
       "        [ -9.33851135e-01,   4.30466885e+00,  -7.42803768e-01],\n",
       "        [ -9.21699478e-01,   4.31106766e+00,  -5.68387724e-01],\n",
       "        [ -7.37405553e-01,   3.39668874e+00,  -2.14066934e-01],\n",
       "        [ -8.84437438e-01,   4.17030231e+00,  -7.34370522e-01],\n",
       "        [ -8.54801823e-01,   3.99098242e+00,  -5.57476991e-01],\n",
       "        [ -8.03158809e-01,   3.78519677e+00,  -2.33228592e-01],\n",
       "        [ -7.03243904e-01,   3.35797219e+00,  -2.74832523e-01],\n",
       "        [ -8.55666959e-01,   4.07171144e+00,  -5.47996054e-01],\n",
       "        [ -8.57154126e-01,   4.06879786e+00,  -5.73379133e-01],\n",
       "        [ -1.04052689e+00,   4.92837392e+00,  -5.89345145e-01],\n",
       "        [ -9.26281433e-01,   4.40678949e+00,  -4.40531028e-01],\n",
       "        [ -9.07475379e-01,   4.15912423e+00,  -4.30313375e-01],\n",
       "        [ -9.60893320e-01,   4.46489559e+00,  -5.61177214e-01],\n",
       "        [ -1.04660725e+00,   4.85633213e+00,  -7.45121495e-01],\n",
       "        [ -9.01127052e-01,   4.19693923e+00,  -5.18835838e-01],\n",
       "        [ -8.94015253e-01,   4.02653649e+00,  -4.65228020e-01],\n",
       "        [ -8.35192779e-01,   3.81938338e+00,  -4.81216770e-01]]),\n",
       " array([-36.99642555, -32.38847495, -31.18139126, -31.43234833,\n",
       "        -30.7452521 , -30.93189279, -32.62337522, -32.21145486,\n",
       "        -33.54648456, -32.75114744, -32.74436702, -31.79264679,\n",
       "        -30.84669677, -31.49951602, -32.03101237, -31.33923689,\n",
       "        -32.90066673, -32.33413453, -31.08455979, -31.0148514 ,\n",
       "        -34.70643715, -31.57667335, -32.06038562, -31.05816941,\n",
       "        -30.63284481, -32.57102678, -31.75962639, -31.23319555,\n",
       "        -31.65583057, -32.90537464, -34.11022246, -32.44086725,\n",
       "        -32.48201438, -31.75612486, -31.86732617, -31.20747452,\n",
       "        -30.93757191, -30.72953765, -31.6998499 , -32.59022608,\n",
       "        -31.77345962, -32.03583246, -31.79363972, -30.63009668,\n",
       "        -31.01629338, -31.70673713, -31.85886944, -34.37766537,\n",
       "        -33.77805703, -32.98166205, -30.65843041, -31.48511584,\n",
       "        -31.52263229, -32.12692689, -30.99597666, -30.82174622,\n",
       "        -32.17655356, -33.69836756, -32.26305375, -31.13504041,\n",
       "        -32.14988207, -31.99721799, -34.18730885, -31.27144525,\n",
       "        -33.64569941, -30.81170631, -35.35875546, -31.43067015,\n",
       "        -35.10908571, -35.14793472, -31.7596549 , -30.82932171,\n",
       "        -32.37389438, -31.25835725, -34.41018493, -31.21747518,\n",
       "        -30.84129107, -34.87306156, -31.39409975, -34.27497743,\n",
       "        -31.24186203, -32.48805778, -32.5557746 , -32.12945612,\n",
       "        -30.81651691, -32.5489116 , -33.01545633, -30.99369329,\n",
       "        -32.56542011, -34.05490967, -31.84974848, -31.82226172,\n",
       "        -33.17912531, -32.22720546, -31.03406788, -30.92360837,\n",
       "        -32.67408438, -30.62527069, -32.20800696, -31.20879872]),\n",
       " ('MT19937', array([ 514476404, 2249397444, 4265899188, 2392943964, 1343596576,\n",
       "         1979971105,  897693403, 2266254353, 2075910775,  608334056,\n",
       "         4186922563, 1597772474,  341509994, 1902660333,  288261455,\n",
       "          673802019, 3661718989, 4030953509, 3162672581, 3224729781,\n",
       "         4116132560, 1510574763, 3143272014, 3104139379, 2318714576,\n",
       "          515209190, 2604549676, 3908292484, 2735715369, 3314856238,\n",
       "         2969072668, 1312333708, 1987314719, 2356975246, 2755942507,\n",
       "         4214977712, 2657222271, 3926329016, 1300524995,  656705808,\n",
       "         1031924101,  850584272,  441659581, 3157914433, 1501130538,\n",
       "          138521400, 1207300269, 2937171457, 1687610264,  169479574,\n",
       "         3056107381, 4104041390, 4117082690, 1904236901, 2039573934,\n",
       "         1437733965, 1021200132, 1613717844, 3647610267, 3878217667,\n",
       "          633742723, 2484418255, 3573596505, 1480242647, 4121063520,\n",
       "         1488969022, 3037638548, 2626060739, 4052530634,  621405683,\n",
       "         1004604776, 3025657579, 3057202371,  378206157, 1632971200,\n",
       "         1410245000,  315523171, 2352965998, 1769027378,  906455486,\n",
       "         1777520615, 4223731170, 3401936793, 2056851808, 3009049216,\n",
       "         1843342430,   85465737, 1793917076,  805277796, 3195379493,\n",
       "         1703648026,  480759870, 1185267456,  981227437, 3851876058,\n",
       "         2606872698, 2317726450, 2132051062, 1084718965,  390850945,\n",
       "          768860925, 4088464397, 1676340243, 2859652603, 2406196902,\n",
       "         1138131752, 2146282477,  442967050, 1929932304,  497368664,\n",
       "         1826428974,  302321169, 3607663599, 3131175409, 1095595857,\n",
       "          703709497,  481401582, 1389076812, 3286165341, 2029475774,\n",
       "         3874036658, 2182755623,  555820995, 1883797272, 3799277103,\n",
       "         2477169205,  935126904,  840951256, 2604548012,  891182400,\n",
       "         4159970301, 2820001397, 3252867057,  229897990, 1964936843,\n",
       "         1694924792,  261007856, 2810046556, 2847497405, 3565466441,\n",
       "         3313835248, 2237925847, 2568728249,    1144918, 1209728151,\n",
       "          417149574, 1633484570,  959507587, 3709862278, 1249290757,\n",
       "         1062212369,  307805989, 1769656951, 2207120018, 1781768214,\n",
       "         3304426915,  454751355, 1080201614, 1017817097, 2479694352,\n",
       "         2708654788, 2744630425, 3486741899, 1918742148,   16271416,\n",
       "         1592402079, 3292654791, 1076649471, 3042404977,   61151560,\n",
       "         3635343892, 3263181210,  425966333, 1902390683, 2692234555,\n",
       "         3188174599, 1957887613, 4191475414, 4290952667,  231147628,\n",
       "         3178682098, 3833202911,  813703271, 2064717479, 1670106612,\n",
       "         2982933738, 2405259264,  700931536, 1328098053, 1641315195,\n",
       "         1441378429, 4081148835,  756181663, 3332585019, 4275948273,\n",
       "         3664010101, 1153722103, 1900650941,  404720140, 2177765493,\n",
       "         1115647228,  531967409, 2118820854, 3267293940, 1206905587,\n",
       "         2098036224, 2078529327, 2406116861, 3958841932,  447228850,\n",
       "          510177769, 2771994170, 2407683022,  202579203, 1098369269,\n",
       "         1775992035, 1858486969, 2263488130,  502020922, 3273631479,\n",
       "         2313227033,  484614461,  123435418,  861842119,  525146659,\n",
       "          131191253, 2106588192, 1184551881, 1016816464, 2625098758,\n",
       "         3392984310,  959012271, 2604078605, 2052215639, 3546513403,\n",
       "          964672028,  151602003, 3543214091, 3482208334,  693276429,\n",
       "         3357958467, 3250369603, 1827731332, 1205443388,  895189054,\n",
       "         3190124216, 3256573593, 1329702021,  130040127, 1115619305,\n",
       "         3280723050, 4252887256, 3456347697, 2950118685, 1314594625,\n",
       "          664808157, 3677362549, 3609412038, 3030751286, 3080478491,\n",
       "           90230793, 1924569371, 3443273802, 3297479551, 3183062940,\n",
       "         3096880001, 3179785300, 3265630067, 2746387480, 4151095827,\n",
       "          781897381, 1689764455, 2161584538, 2581158984, 4131092424,\n",
       "         2477765268, 4097703449, 3337483658,  886024733,  368334109,\n",
       "         1371891237, 2339442247, 1361521715, 2777100163,  210784209,\n",
       "         4225184310,  585747593,  346225312, 1643735645, 3062929655,\n",
       "         1712994281, 2064647472, 2925688662,  285046287, 2135879421,\n",
       "         1917153359, 3073233636, 1194138091, 2577155952, 2538887389,\n",
       "         4269251578, 3204014391, 1985197445, 3965193884,  401653088,\n",
       "         2741665783, 2556986788, 1394347812, 1762483852, 1822011273,\n",
       "         2324911672, 1025817060, 2744235424, 1273958923, 2106386505,\n",
       "          565928231, 1441871046, 1416171376, 2106842750, 1307432748,\n",
       "         1580291290, 1441039704,  126041988, 1709926803, 4243819940,\n",
       "         4073230431,  695980799, 1599038174, 3974251827, 4184183033,\n",
       "         3306686423,  959680072, 2726512945, 3465301293, 3215096161,\n",
       "          642017810,  319319084, 1122609435, 2686862493, 1245824343,\n",
       "         1666930599, 2156658700, 2344769095,  385664056, 1219632718,\n",
       "          990845748, 3251211405, 3568167853, 4280995723, 3230583220,\n",
       "         1883695922, 3433482252, 1019233480, 1087488425,  980006795,\n",
       "         3466496489, 1532984098, 3657554944, 2648671592, 1379000858,\n",
       "         3182870388, 4130784512,  238140603, 4042645563,    4695869,\n",
       "         3322196710, 1501649301, 1484930194, 1765302842, 4094807470,\n",
       "         2585863350, 2497496469, 3795337854, 2975072922,  417925954,\n",
       "         2767043692,   94446520, 2820447077, 1362587432, 2290146956,\n",
       "         4198207119, 1516452701, 1976029751, 1808641201, 3398493799,\n",
       "         3794095188,  133690859, 3484292518, 1282859236, 1245475489,\n",
       "         4068027945, 1790037387, 4089504935,  839329079, 3109299767,\n",
       "          439713650, 2873381639, 2546676028, 4283763367, 2102782387,\n",
       "         2805468825, 1004769990, 3180125069, 2886032374, 4258948368,\n",
       "         3472005926, 3101365323, 3881754688, 4212631113, 2629107660,\n",
       "         2530754325, 3833024477, 4243700338, 3482485722, 1724490666,\n",
       "         3247179398, 1429452655,  266007263, 2397708146, 4012825407,\n",
       "         1585740045, 2681288924, 3564200072, 3161512746,   62017710,\n",
       "          795535082, 2467402389,   81514982, 2230297845, 1847028333,\n",
       "         3504917131, 2585046903, 4105407419, 1032202510, 1620447615,\n",
       "         1697004671,  315595599, 1917179774, 3653604787,  829124810,\n",
       "         1930752517,  948921680,  530080232,  960065195,  202859014,\n",
       "          703103575,  652404946, 2514511253, 2226057705,  190884118,\n",
       "         1029145665, 2085876670, 3697170682, 1465522235, 1406195136,\n",
       "          133488208, 3347050687, 3701542715, 1403175034,  614095291,\n",
       "           31950492,  649278346, 1156565652,  420449987, 3286659437,\n",
       "         3846832897, 2205485484, 2645809945, 1387647856, 2271887201,\n",
       "         1236557460, 3559792917, 2295363471, 3086411711,  762529113,\n",
       "         1737344991, 1362026349,  461853647,  739777006, 2113888367,\n",
       "         1323968543, 1803477778, 3979098827,  588694865, 1830405038,\n",
       "           99977782,  834762468, 1122350098,  320837570,  443863813,\n",
       "         3414884146, 2025482711, 1434288920, 1385201597, 3964852152,\n",
       "          513039039, 2628609207, 3098352767, 1092525118, 3887255694,\n",
       "          465496252, 2807297561, 1741107494,  809591393,  966444874,\n",
       "         3851661265, 1290177743, 3976422435, 2877920176, 3366465301,\n",
       "         2434442462, 1537548168, 1358681165, 4048939396, 2553814103,\n",
       "         2921416119, 3034389933, 2529125839, 4203475338,  363119662,\n",
       "         3316944787, 2465435834, 3907660735,  936066384, 1128614331,\n",
       "         2133134396,  107743026, 2679021383, 2729029844, 2979286634,\n",
       "          255322518, 2379932340, 1914651893, 1746941813,  837736032,\n",
       "         1367600718, 2498020424, 1191292991, 1342442949,  836601287,\n",
       "          383341318, 1921288366,  803241323, 1562228530, 2826967455,\n",
       "         2870273156, 2955113901, 3818975433, 2857317268, 3002102632,\n",
       "         1535864984, 1098226978,  298682823, 2624893579, 1194952623,\n",
       "         1811375123, 1550451787,  989093243, 1593939868, 1636736534,\n",
       "         4237206854, 3285511787, 2722664657, 2717216765,  485174507,\n",
       "         3342458949,  269961963, 4071584656, 2023806204, 2312307340,\n",
       "         2450639112, 1081413802, 1244386714, 3681295150,  802166206,\n",
       "         3017633780,  543250259, 4248677305, 2611345829,  973175620,\n",
       "         3194786858, 2576000849, 4134205326, 3969473142, 2872331541,\n",
       "         2534379749, 3755273225, 2431679216, 1132126293, 2120520224,\n",
       "         3144506033, 3358546857,  444919359,  346382681,  427523133,\n",
       "         1234994248,  252374261, 2233732082,  483761490, 4108606047,\n",
       "         2248938572, 1347497470, 1063997604, 2234691491, 2621956154,\n",
       "         3144278604, 1430467572, 3425586021, 1039588545, 1290709038,\n",
       "         1739445680, 4232554697,  217241882,  916980493,  616600339,\n",
       "         1554166459, 4012142858, 3604338189, 1623351660, 3939433487,\n",
       "         2976321002,  760420750, 1560929179, 3826350013], dtype=uint32), 532, 0, 0.0))"
      ]
     },
     "execution_count": 18,
     "metadata": {},
     "output_type": "execute_result"
    }
   ],
   "source": [
    "import emcee\n",
    "sampler = emcee.EnsembleSampler(nwalkers, ndim, lnprob, args=(x, y, yerr))\n",
    "sampler.run_mcmc(pos, 500)"
   ]
  },
  {
   "cell_type": "code",
   "execution_count": 11,
   "metadata": {
    "collapsed": true
   },
   "outputs": [],
   "source": [
    "samples = sampler.chain[:, 50:, :].reshape((-1, ndim))"
   ]
  },
  {
   "cell_type": "code",
   "execution_count": 12,
   "metadata": {
    "collapsed": true
   },
   "outputs": [],
   "source": [
    "import corner\n",
    "fig = corner.corner(samples, labels=[\"$m$\", \"$b$\", \"$\\ln\\,f$\"],\n",
    "                      truths=[m_true, b_true, np.log(f_true)])\n",
    "fig.savefig(\"triangle.png\")"
   ]
  },
  {
   "cell_type": "code",
   "execution_count": 14,
   "metadata": {},
   "outputs": [
    {
     "data": {
      "image/png": "[encoded data removed]",
      "text/plain": [
       "<matplotlib.figure.Figure at 0x7f6d7d096c10>"
      ]
     },
     "metadata": {},
     "output_type": "display_data"
    }
   ],
   "source": [
    "plt.figure()\n",
    "xl = np.array([0, 10])\n",
    "for m, b, lnf in samples[np.random.randint(len(samples), size=100)]:\n",
    "    plt.plot(xl, m*xl+b, color=\"k\", alpha=0.1)\n",
    "plt.plot(xl, m_true*xl+b_true, color=\"r\", lw=2, alpha=0.8)\n",
    "plt.errorbar(x, y, yerr=yerr, fmt=\".k\")\n",
    "plt.show()"
   ]
  },
  {
   "cell_type": "code",
   "execution_count": 21,
   "metadata": {},
   "outputs": [
    {
     "data": {
      "image/png": "[encoded data removed]",
      "text/plain": [
       "<matplotlib.figure.Figure at 0x7f6d7d049490>"
      ]
     },
     "metadata": {},
     "output_type": "display_data"
    }
   ],
   "source": [
    "#can assume that the p(mu, sigma), and p(D) is a constant?\n",
    "#P(D| mu and sigma) --> create a 2 dim contour plot with probabilities\n",
    "#draw 100 points from a gaussain, and use the maximum likelihood estimator to estimate its parameters\n",
    "sample_size = 100\n",
    "np.random.seed(0)\n",
    "samp_100 = np.random.normal(1,2,sample_size)\n",
    "#samp_100 = samp_100.sort()\n",
    "plt.figure()\n",
    "plt.hist(samp_100)\n",
    "plt.show()"
   ]
  },
  {
   "cell_type": "code",
   "execution_count": 31,
   "metadata": {},
   "outputs": [
    {
     "name": "stdout",
     "output_type": "stream",
     "text": [
      "Mu MLE 1.11961603107\n",
      "Varience: 4.063306 and Standard Deviation: 2.015764\n"
     ]
    }
   ],
   "source": [
    "#calculating the most likely value for mu\n",
    "mu_mle = 1./sample_size *(samp_100.sum())\n",
    "print \"Mu MLE\", mu_mle\n",
    "#calculating the varience\n",
    "diff = 0\n",
    "for val in samp_100:\n",
    "    diff  += (val - mu_mle)**2\n",
    "\n",
    "varience = 1./sample_size * diff\n",
    "print (\"Varience: %f and Standard Deviation: %f\" % (varience, varience**0.5))"
   ]
  },
  {
   "cell_type": "code",
   "execution_count": 42,
   "metadata": {},
   "outputs": [
    {
     "data": {
      "image/png": "[encoded data removed]",
      "text/plain": [
       "<matplotlib.figure.Figure at 0x7f6d77056590>"
      ]
     },
     "metadata": {},
     "output_type": "display_data"
    }
   ],
   "source": [
    "plt.figure()\n",
    "plt.hist(samp_100, normed=1)\n",
    "\n",
    "x = np.linspace(mu_mle-3*varience,mu_mle+3*varience, 100)\n",
    "plt.plot(x, mlab.normpdf(x, mu_mle, varience**0.5))\n",
    "plt.show()"
   ]
  },
  {
   "cell_type": "markdown",
   "metadata": {},
   "source": [
    "Work with the delta times for the shadow systems"
   ]
  },
  {
   "cell_type": "code",
   "execution_count": 20,
   "metadata": {},
   "outputs": [
    {
     "name": "stdout",
     "output_type": "stream",
     "text": [
      "(25000, 2)\n",
      "1000000000.0\n",
      "1000000000.0\n"
     ]
    },
    {
     "data": {
      "text/html": [
       "<div>\n",
       "<table border=\"1\" class=\"dataframe\">\n",
       "  <thead>\n",
       "    <tr style=\"text-align: right;\">\n",
       "      <th></th>\n",
       "      <th>t</th>\n",
       "      <th>t_shadow</th>\n",
       "    </tr>\n",
       "  </thead>\n",
       "  <tbody>\n",
       "    <tr>\n",
       "      <th>0</th>\n",
       "      <td>1.235644e+07</td>\n",
       "      <td>8.315081e+07</td>\n",
       "    </tr>\n",
       "    <tr>\n",
       "      <th>1</th>\n",
       "      <td>1.348749e+05</td>\n",
       "      <td>2.133072e+05</td>\n",
       "    </tr>\n",
       "    <tr>\n",
       "      <th>2</th>\n",
       "      <td>1.276381e+04</td>\n",
       "      <td>9.321519e+03</td>\n",
       "    </tr>\n",
       "    <tr>\n",
       "      <th>3</th>\n",
       "      <td>1.000000e+09</td>\n",
       "      <td>1.000000e+09</td>\n",
       "    </tr>\n",
       "    <tr>\n",
       "      <th>4</th>\n",
       "      <td>8.791888e+01</td>\n",
       "      <td>8.791888e+01</td>\n",
       "    </tr>\n",
       "  </tbody>\n",
       "</table>\n",
       "</div>"
      ],
      "text/plain": [
       "              t      t_shadow\n",
       "0  1.235644e+07  8.315081e+07\n",
       "1  1.348749e+05  2.133072e+05\n",
       "2  1.276381e+04  9.321519e+03\n",
       "3  1.000000e+09  1.000000e+09\n",
       "4  8.791888e+01  8.791888e+01"
      ]
     },
     "execution_count": 20,
     "metadata": {},
     "output_type": "execute_result"
    }
   ],
   "source": [
    "df = pd.read_csv(\"../csvs/deltatimes.csv\")\n",
    "del df[\"runstring\"]\n",
    "del df[\"Unnamed: 0\"]\n",
    "print df.shape\n",
    "print df[\"t\"].max()\n",
    "print df[\"t_shadow\"].max()\n",
    "df.head()\n"
   ]
  },
  {
   "cell_type": "markdown",
   "metadata": {},
   "source": [
    "Assuming they are all one system, what is the mean and sigma?\n",
    "Calculate it using MLE to determine to most likely value for mu and sigma. "
   ]
  },
  {
   "cell_type": "code",
   "execution_count": 22,
   "metadata": {},
   "outputs": [
    {
     "name": "stdout",
     "output_type": "stream",
     "text": [
      "Mu MLE 411591847.603\n",
      "Varience: 233940766439135776.000000 and Standard Deviation: 483674235.864529\n"
     ]
    }
   ],
   "source": [
    "vals = df.values.flatten()\n",
    "mu_mle = 1./vals.shape[0] *(vals.sum())\n",
    "print \"Mu MLE\", mu_mle\n",
    "#calculating the varience\n",
    "diff = 0\n",
    "for val in vals:\n",
    "    diff  += (val - mu_mle)**2\n",
    "\n",
    "varience = 1./vals.shape[0] * diff\n",
    "print (\"Varience: %f and Standard Deviation: %f\" % (varience, varience**0.5))"
   ]
  },
  {
   "cell_type": "markdown",
   "metadata": {},
   "source": [
    "Create a grid of mu and sigma centered around those two values, and see how the probabilities vary around those parameters as you move away from them"
   ]
  },
  {
   "cell_type": "code",
   "execution_count": 73,
   "metadata": {
    "collapsed": true
   },
   "outputs": [],
   "source": [
    "def squared_diff(vals, val):\n",
    "    return np.sum(( vals - val) **2)"
   ]
  },
  {
   "cell_type": "code",
   "execution_count": 95,
   "metadata": {
    "scrolled": true
   },
   "outputs": [
    {
     "name": "stdout",
     "output_type": "stream",
     "text": [
      "[ 12356442.1217  83150808.6446]\n"
     ]
    },
    {
     "data": {
      "image/png": "[encoded data removed]",
      "text/plain": [
       "<matplotlib.figure.Figure at 0x7f53baae4890>"
      ]
     },
     "metadata": {},
     "output_type": "display_data"
    }
   ],
   "source": [
    "#for a given mu and sigma, whats the probability of getting those two values?\n",
    "two_vals = df.loc[0].as_matrix()\n",
    "size= 250\n",
    "print two_vals\n",
    "\n",
    "mu_start = 1e7\n",
    "mu_end = 9e7\n",
    "sig_start =1e7\n",
    "sig_end=9e7\n",
    "\n",
    "mus = np.linspace(mu_start,mu_end, size)\n",
    "sigmas = np.linspace(sig_start,sig_end, size)\n",
    "\n",
    "probs = np.zeros((size,size))\n",
    "\n",
    "\n",
    "#calculate probabilities\n",
    "for i in range (size):\n",
    "    for j in range(size):\n",
    "        probs[i][j] = -np.log(2*np.pi*sigmas[j]**2) -1./(2.*sigmas[j]**2) *squared_diff(two_vals, mus[i])\n",
    "        probs[i][j] = np.exp(probs[i][j])\n",
    "    \n",
    "plt.figure(figsize=(7,7))\n",
    "img = plt.imshow(probs, cmap = cm.jet, extent=[ sig_start,sig_end, mu_start, mu_end])\n",
    "plt.ylabel(\"mu\")\n",
    "plt.xlabel(\"sigma\")\n",
    "plt.colorbar(img)\n",
    "\n",
    "plt.show()"
   ]
  },
  {
   "cell_type": "code",
   "execution_count": 83,
   "metadata": {},
   "outputs": [
    {
     "name": "stdout",
     "output_type": "stream",
     "text": [
      "-37.6776486782 4.33316361697e-17\n"
     ]
    }
   ],
   "source": [
    "val = -np.log(2*np.pi*4e7**2) -1./(2.*4e7**2) *squared_diff(two_vals, 3.9e7)\n",
    "print val, np.exp(val)"
   ]
  },
  {
   "cell_type": "markdown",
   "metadata": {},
   "source": [
    "Try calculating the most likely mu and sigma for each set of two points"
   ]
  },
  {
   "cell_type": "code",
   "execution_count": 84,
   "metadata": {
    "collapsed": true
   },
   "outputs": [
    {
     "name": "stdout",
     "output_type": "stream",
     "text": [
      "999\n",
      "1999\n",
      "2999\n",
      "3999\n",
      "4999\n",
      "5999\n",
      "6999\n",
      "7999\n",
      "8999\n",
      "9999\n",
      "10999\n",
      "11999\n",
      "12999\n",
      "13999\n",
      "14999\n",
      "15999\n",
      "16999\n",
      "17999\n",
      "18999\n",
      "19999\n",
      "20999\n",
      "21999\n",
      "22999\n",
      "23999\n",
      "24999\n"
     ]
    }
   ],
   "source": [
    "estimates = np.zeros_like(df)\n",
    "df.tail()\n",
    "def squared_diff(vals, val):\n",
    "    return np.sum(( vals - val) **2)\n",
    "\n",
    "#Probability for any given mu and sigma given data using MLE\n",
    "for i in range( estimates.shape[0]):\n",
    "    estimates[i,0] = df.loc[i].sum()/2.\n",
    "    val1 = (estimates[i,0] - df.iloc[i,0])**2\n",
    "    val2 = (estimates[i,0] - df.iloc[i,1])**2\n",
    "    estimates[i,1] = ((val1 + val2)/2.)**0.5\n",
    "    if i%1000 ==999:\n",
    "        print i\n"
   ]
  },
  {
   "cell_type": "markdown",
   "metadata": {},
   "source": [
    "Get rid of the samples where the two times were the same, as not much can be inferred. Many are the same because there are both 1e9, which means they were stable. Some hsa stability times magnitudes smaller, but were still the same, so then the parameter perturbed did not affect its stability at all "
   ]
  },
  {
   "cell_type": "code",
   "execution_count": 85,
   "metadata": {},
   "outputs": [
    {
     "name": "stdout",
     "output_type": "stream",
     "text": [
      "                 Mu         Sigma\n",
      "24995  3.885358e+04  20422.725798\n",
      "24996  2.102411e+03    234.155436\n",
      "24997  4.405240e+04  25343.813636\n",
      "24998  3.057206e+04   1734.215453\n",
      "24999  1.000000e+09      0.000000\n",
      "(11498, 2)\n"
     ]
    }
   ],
   "source": [
    "estimates = pd.DataFrame(estimates, columns=[\"Mu\", \"Sigma\"])\n",
    "print estimates.tail()\n",
    "diff = estimates.loc[estimates[\"Sigma\"]!=0.]\n",
    "print diff.shape\n",
    "diff_linear = diff.values.flatten().tolist()"
   ]
  },
  {
   "cell_type": "markdown",
   "metadata": {},
   "source": [
    "Try using MCMC to find the most likely value of sigma and mu"
   ]
  },
  {
   "cell_type": "code",
   "execution_count": 97,
   "metadata": {
    "collapsed": true
   },
   "outputs": [
    {
     "data": {
      "text/plain": [
       "(array([[  3.95281699e+07,   8.40681274e+05],\n",
       "        [  3.95281701e+07,   1.22356238e+00],\n",
       "        [  3.95281695e+07,   4.22915076e+05],\n",
       "        [  3.95281698e+07,   4.31506349e+04],\n",
       "        [  3.95281700e+07,   5.04665797e+05],\n",
       "        [  3.95281693e+07,   1.90223446e+00],\n",
       "        [  3.95281702e+07,   3.44022850e+07],\n",
       "        [  3.95281697e+07,   1.63621478e+03],\n",
       "        [  3.95281695e+07,   3.10310465e+05],\n",
       "        [  3.95281696e+07,   5.94063558e+03],\n",
       "        [  3.95281697e+07,   9.14230525e+06],\n",
       "        [  3.95281702e+07,   4.76014364e+02],\n",
       "        [  3.95281702e+07,   1.42692479e+01],\n",
       "        [  3.95281698e+07,   9.50531404e+00],\n",
       "        [  3.95281697e+07,   3.32659027e+04],\n",
       "        [  3.95281699e+07,   1.40550674e+07],\n",
       "        [  3.95281698e+07,   1.83574896e+01],\n",
       "        [  3.95281697e+07,   8.34272267e+05],\n",
       "        [  3.95281705e+07,   4.60925618e+02],\n",
       "        [  3.95281700e+07,   8.42922544e+04],\n",
       "        [  3.95281710e+07,   1.18292705e+00],\n",
       "        [  3.95281696e+07,   3.27867397e+03],\n",
       "        [  3.95281696e+07,   1.91583239e+06],\n",
       "        [  3.95281695e+07,   2.37935361e+02],\n",
       "        [  3.95281689e+07,   9.20361581e-01],\n",
       "        [  3.95281690e+07,   7.69021089e+03],\n",
       "        [  3.95281696e+07,   1.40120449e+06],\n",
       "        [  3.95281696e+07,   2.49804300e+02],\n",
       "        [  3.95281694e+07,   2.83794775e+02],\n",
       "        [  3.95281697e+07,   1.07324841e+05],\n",
       "        [  3.95281694e+07,   2.06479271e+06],\n",
       "        [  3.95281692e+07,   8.55777410e+03],\n",
       "        [  3.95281695e+07,   1.74522346e+03],\n",
       "        [  3.95281700e+07,   2.95949254e+02],\n",
       "        [  3.95281699e+07,   4.57676589e+03],\n",
       "        [  3.95281697e+07,   1.85398390e+07],\n",
       "        [  3.95281698e+07,   2.73586688e+03],\n",
       "        [  3.95281703e+07,   2.25101358e+01],\n",
       "        [  3.95281693e+07,   4.42218039e+03],\n",
       "        [  3.95281702e+07,   4.90540410e+03],\n",
       "        [  3.95281694e+07,   4.83207187e+03],\n",
       "        [  3.95281692e+07,   2.38689587e+02],\n",
       "        [  3.95281689e+07,   2.43490546e+06],\n",
       "        [  3.95281697e+07,   7.01717121e+04],\n",
       "        [  3.95281696e+07,   2.82273703e+01],\n",
       "        [  3.95281698e+07,   2.74226478e+02],\n",
       "        [  3.95281690e+07,   1.76909197e+01],\n",
       "        [  3.95281694e+07,   2.68009355e+02],\n",
       "        [  3.95281694e+07,   4.14584512e+03],\n",
       "        [  3.95281697e+07,   8.65481316e+04],\n",
       "        [  3.95281693e+07,   2.22598785e+02],\n",
       "        [  3.95281702e+07,   5.70596597e+05],\n",
       "        [  3.95281694e+07,   8.18716779e+03],\n",
       "        [  3.95281694e+07,   5.91706628e+05],\n",
       "        [  3.95281697e+07,   1.21256232e+06],\n",
       "        [  3.95281709e+07,   1.31557821e+05],\n",
       "        [  3.95281689e+07,   5.10721554e+04],\n",
       "        [  3.95281698e+07,   1.81908327e+02],\n",
       "        [  3.95281693e+07,   3.91311310e+03],\n",
       "        [  3.95281698e+07,   1.04847322e+03],\n",
       "        [  3.95281693e+07,   1.47183218e+00],\n",
       "        [  3.95281694e+07,   1.36560092e+05],\n",
       "        [  3.95281693e+07,   7.97274947e+00],\n",
       "        [  3.95281701e+07,   6.85106190e+03],\n",
       "        [  3.95281703e+07,   2.33821921e+06],\n",
       "        [  3.95281702e+07,   3.74229020e+04],\n",
       "        [  3.95281699e+07,   1.13784530e+06],\n",
       "        [  3.95281693e+07,   8.62865874e+05],\n",
       "        [  3.95281689e+07,   4.04218325e+02],\n",
       "        [  3.95281702e+07,   4.46125341e+02],\n",
       "        [  3.95281698e+07,   2.83989851e+02],\n",
       "        [  3.95281701e+07,   2.55816565e+01],\n",
       "        [  3.95281692e+07,   1.66741984e+01],\n",
       "        [  3.95281701e+07,   3.96076510e+02],\n",
       "        [  3.95281692e+07,   2.34873870e+02],\n",
       "        [  3.95281691e+07,   1.60176181e+01],\n",
       "        [  3.95281689e+07,   3.07996455e+02],\n",
       "        [  3.95281705e+07,   2.49815537e+06],\n",
       "        [  3.95281705e+07,   4.34384224e+02],\n",
       "        [  3.95281693e+07,   3.66570490e+02],\n",
       "        [  3.95281700e+07,   4.09483762e+03],\n",
       "        [  3.95281691e+07,   3.23083211e+02],\n",
       "        [  3.95281699e+07,   2.58278775e+02],\n",
       "        [  3.95281697e+07,   2.57624049e+01],\n",
       "        [  3.95281696e+07,   2.15415631e+01],\n",
       "        [  3.95281696e+07,   3.42485660e+03],\n",
       "        [  3.95281696e+07,   2.43238886e+04],\n",
       "        [  3.95281699e+07,   2.44432114e+01],\n",
       "        [  3.95281693e+07,   3.94345979e+05],\n",
       "        [  3.95281693e+07,   1.19617604e+06],\n",
       "        [  3.95281710e+07,   1.32790272e+01],\n",
       "        [  3.95281692e+07,   2.09579855e+02],\n",
       "        [  3.95281701e+07,   1.69556942e+04],\n",
       "        [  3.95281698e+07,   3.14759672e+03],\n",
       "        [  3.95281692e+07,   8.11724889e+00],\n",
       "        [  3.95281696e+07,   7.85038440e+04],\n",
       "        [  3.95281699e+07,   1.24087674e+05],\n",
       "        [  3.95281701e+07,   3.22792814e+03],\n",
       "        [  3.95281694e+07,   3.95120195e+03],\n",
       "        [  3.95281696e+07,   8.19895671e+04]]),\n",
       " array([ -3.93784684e+20,  -3.93784684e+20,  -3.93784684e+20,\n",
       "         -3.93784684e+20,  -3.93784684e+20,  -3.93784684e+20,\n",
       "         -3.93784684e+20,  -3.93784684e+20,  -3.93784684e+20,\n",
       "         -3.93784684e+20,  -3.93784684e+20,  -3.93784684e+20,\n",
       "         -3.93784684e+20,  -3.93784684e+20,  -3.93784684e+20,\n",
       "         -3.93784684e+20,  -3.93784684e+20,  -3.93784684e+20,\n",
       "         -3.93784684e+20,  -3.93784684e+20,  -3.93784684e+20,\n",
       "         -3.93784684e+20,  -3.93784684e+20,  -3.93784684e+20,\n",
       "         -3.93784684e+20,  -3.93784684e+20,  -3.93784684e+20,\n",
       "         -3.93784684e+20,  -3.93784684e+20,  -3.93784684e+20,\n",
       "         -3.93784684e+20,  -3.93784684e+20,  -3.93784684e+20,\n",
       "         -3.93784684e+20,  -3.93784684e+20,  -3.93784684e+20,\n",
       "         -3.93784684e+20,  -3.93784684e+20,  -3.93784684e+20,\n",
       "         -3.93784684e+20,  -3.93784684e+20,  -3.93784684e+20,\n",
       "         -3.93784684e+20,  -3.93784684e+20,  -3.93784684e+20,\n",
       "         -3.93784684e+20,  -3.93784684e+20,  -3.93784684e+20,\n",
       "         -3.93784684e+20,  -3.93784684e+20,  -3.93784684e+20,\n",
       "         -3.93784684e+20,  -3.93784684e+20,  -3.93784684e+20,\n",
       "         -3.93784684e+20,  -3.93784684e+20,  -3.93784684e+20,\n",
       "         -3.93784684e+20,  -3.93784684e+20,  -3.93784684e+20,\n",
       "         -3.93784684e+20,  -3.93784684e+20,  -3.93784684e+20,\n",
       "         -3.93784684e+20,  -3.93784684e+20,  -3.93784684e+20,\n",
       "         -3.93784684e+20,  -3.93784684e+20,  -3.93784684e+20,\n",
       "         -3.93784684e+20,  -3.93784684e+20,  -3.93784684e+20,\n",
       "         -3.93784684e+20,  -3.93784684e+20,  -3.93784684e+20,\n",
       "         -3.93784684e+20,  -3.93784684e+20,  -3.93784684e+20,\n",
       "         -3.93784684e+20,  -3.93784684e+20,  -3.93784684e+20,\n",
       "         -3.93784684e+20,  -3.93784684e+20,  -3.93784684e+20,\n",
       "         -3.93784684e+20,  -3.93784684e+20,  -3.93784684e+20,\n",
       "         -3.93784684e+20,  -3.93784684e+20,  -3.93784684e+20,\n",
       "         -3.93784684e+20,  -3.93784684e+20,  -3.93784684e+20,\n",
       "         -3.93784684e+20,  -3.93784684e+20,  -3.93784684e+20,\n",
       "         -3.93784684e+20,  -3.93784684e+20,  -3.93784684e+20,\n",
       "         -3.93784684e+20]),\n",
       " ('MT19937', array([1786578204,  870334592, 2855474778, 1619900519, 1486506772,\n",
       "         3501237300, 2906003220,  538189492, 1036914662, 2186406192,\n",
       "         2778311086,  757056079,   82859380, 1636897881, 2081488036,\n",
       "         1176464607, 1180328946, 2606399364,  586227466,  460878771,\n",
       "         2656744845,  795895464, 3570134236, 2966939221, 1962142005,\n",
       "         1374476107, 1066512704, 1213267175, 3132470178,  975942209,\n",
       "         3461545797,  854605968, 2625926062, 4106384824, 3184302672,\n",
       "         2920151137, 2656608380, 3489188143, 3353886185, 2251864149,\n",
       "         1704983348, 3108994764,  469138437, 2650921578, 3941992542,\n",
       "          282557982, 2777565498, 1990111057,  579442490, 1026763174,\n",
       "         1068915216, 1763429974, 3737487585, 2273262687, 3132274436,\n",
       "           61739962, 1760238325, 1759505926, 3559601780, 1143856173,\n",
       "         1681767383, 2453281898, 3594569548,  749365751, 3552785291,\n",
       "         1469476357, 3117335082,  102659251, 1209245738, 2366709063,\n",
       "         3040282825, 3099065354, 3466007817, 2643272341,  689160670,\n",
       "         3474143744, 3390327371, 3177442879, 1075040464, 2576395442,\n",
       "         4147115577, 1436583689, 2287034504, 1851060863, 1739066366,\n",
       "         3822603886, 1495291087, 2170928623, 1069542261, 3235167843,\n",
       "         2044698031, 2054164000, 2927245307, 2459276969, 1059928161,\n",
       "         3166733724,  857333942, 1788603596, 2251815476, 2814847477,\n",
       "         1103182444, 2984186350,  537374167,  725731468,  978395942,\n",
       "         2215412989, 1447222548, 1648632804, 3303409972, 1503518680,\n",
       "         3370311363,  192276187, 2362662196,  346461700, 3290627522,\n",
       "         2830141830, 3375309752, 2572225414,  235469439,  995702370,\n",
       "         2251574623, 1396756274, 3078611175,  188186239,  883766013,\n",
       "         3831849756,  200079667, 1153360886, 2109407740, 3420083982,\n",
       "         3923099359, 1943788054, 3788773506,  891636618, 2561314115,\n",
       "         2552727741, 3445841001, 2294578110, 2280879117, 4059419339,\n",
       "         2557488716, 1943347216, 4065300694, 3705754967, 1020417340,\n",
       "          846361215, 3553995682, 1487619325, 3747230871,  146023840,\n",
       "         3997819632, 1451325088, 3140719881, 3875438922, 2220312804,\n",
       "         1245887317,  279708130, 3775051720, 3800432910, 3874718384,\n",
       "         4114737172,  141019510, 4032859074, 3119900653, 4137061004,\n",
       "          217625331,   44407849, 3810950347, 1808696896, 3702999477,\n",
       "          743498827, 1660475127, 4220180293, 2868110199, 1192819862,\n",
       "          996859481, 4241758039, 1239395456, 1010798200,  383593006,\n",
       "         3748075108, 1074922557, 1522902604,  609008263, 2418075836,\n",
       "         2237963629, 1241483829,  606364223, 2799893810, 2726088820,\n",
       "         3563042992, 3932449391, 2111428230,  220799762,  128399796,\n",
       "         3269523359, 2573668033, 3790436651, 3631233952, 3499335935,\n",
       "          538908331,  354954950, 3520511354, 3361328238, 3233912338,\n",
       "          988614222, 4089164067, 4147336143,  465528507, 1188650969,\n",
       "         3160908385, 3633090772, 3096195757, 3088042438, 1561482137,\n",
       "          385299887, 1818688142,  533295380, 2764172791, 2134253070,\n",
       "         1624755247, 2821404299, 1224940189, 1318598082,  956596146,\n",
       "         1855263341,  266444541, 1928087125, 1268174456, 1392052691,\n",
       "         1397992921, 2261247000, 1326642328,  716168502, 1120301386,\n",
       "         1923855598, 3841520647, 1918678049, 1885463646,  434593611,\n",
       "          954839618, 1842645297,  181622660,   49716600, 2018834191,\n",
       "         2632098537, 2648274801, 1257759235, 2507916017, 1932145669,\n",
       "         2635736328, 4266465244,  413007793, 1308858176,   31858049,\n",
       "         2441407634, 2096189207, 1414065847, 3347316960, 1492259094,\n",
       "         4206428203, 4061944112,  382320257, 1688703838,  166108605,\n",
       "          209257030,  699769937,  619554069, 4047806685, 1261613331,\n",
       "         4250485079, 3167473888, 4071042943, 2048526076, 1647496605,\n",
       "         3028830820, 1744927067, 2936995294, 1442884367, 1470862441,\n",
       "          583187338, 1936198419,  544567756,  695464248, 1471379146,\n",
       "         2310415642, 1149530328, 2708848508, 2303552530,  765127822,\n",
       "         3134011981, 1988856253, 3932716383, 1129819403, 2717981549,\n",
       "         2535515545, 4013139023,   26069250, 2131426648, 3641533583,\n",
       "         2493614720, 1933994471, 4067006299, 4221924196, 1766826345,\n",
       "         3947232310, 1698433231, 2836731530, 3583033573, 2845915880,\n",
       "         1503926896, 2015779365,  183981863, 3065647828, 1496484570,\n",
       "         1317466811,  514858651, 2186462071, 1807182154, 4121026260,\n",
       "         2134850534, 3650468892,  641203092, 1130613863,   85494897,\n",
       "         2288476615, 2695297814, 3334870659, 3482687315, 4007974057,\n",
       "         3900583125, 3609577990, 1932179316, 1655134694, 1827610968,\n",
       "         4100507599,  601997793, 4010962163, 1371550078, 1822509930,\n",
       "          803333878,  916201729, 4164591609, 3534238517, 1363363506,\n",
       "         2198890638,  218100738,  468983512, 3041911055,  300787985,\n",
       "          859673275, 4254752719,  101854574, 4117057686,   75071779,\n",
       "         2367642446, 3007556502, 2499856688, 2295172557, 2513613821,\n",
       "         2723443024,  416254583, 3106394876, 1860442994, 3587601788,\n",
       "         2901195916,  347884609, 2528277775,  570412316, 4256489148,\n",
       "         4037165604, 2588505846, 3105392447,  731598625, 1165447395,\n",
       "          555514795, 2239685716,  921845536,  538514961, 2705103616,\n",
       "         3742817667, 3783659411,  220381827,  957789121, 3549169733,\n",
       "         2839678527, 1036901532,  852078891, 3243876540, 2777499378,\n",
       "         1967878098, 1048735943,  229067795, 2426729228,  456434918,\n",
       "         1212408385,  918799644, 1399285771,  358463696, 2978687472,\n",
       "         2741325622, 1107846281, 3235883335, 1952405897,  837679752,\n",
       "         3238014826, 2922878320,  520625425, 1279408674, 3783677162,\n",
       "          346912881, 2677909603, 1240639929, 1208022754, 4237583254,\n",
       "         2408745669, 3062556812, 3560338060, 4280475191,   76998572,\n",
       "          235793785, 1858623814, 4082819798, 3729116137, 3905832641,\n",
       "         1622352558, 2682720625,  302542073, 2216201587, 3977135406,\n",
       "         4155138162,  195391098, 2214723694,   24734984,  145634568,\n",
       "         3145127535, 3643798838, 2742539791, 2437889866, 1045245279,\n",
       "         3237215972, 2499404454, 1475262855, 1974652449, 1026753310,\n",
       "         1110409432, 1506658064, 3690301160, 3838891553, 3594294238,\n",
       "         3656730977, 1389818774,  171351416, 1776778333, 4173722635,\n",
       "         2164939820, 2787591477,  475921899, 2997688510,  436839916,\n",
       "         3470064344, 4280117832, 3686710546, 3788162314, 1769172251,\n",
       "         3871405671, 1447736464,  615263928, 4202962939, 1624292373,\n",
       "          796587250,  237020294, 4041051753, 2607737539, 2796365115,\n",
       "         3062923160,  290829894, 1199574174, 1603085723,  416770953,\n",
       "         3684794056, 2997055478, 2731457055, 1733115010, 2999592109,\n",
       "         1298502794, 3729849824, 4205236388, 1515925310, 1182675989,\n",
       "         2008975176, 1150308678, 1445881105, 3979597260, 2659489104,\n",
       "         2889350382,  222486491,  938499685,  357708016,  630685213,\n",
       "          830048377, 1787915998,  550628856,  522052267, 1745263986,\n",
       "         3397853718,   55987304,   73798171,  279867802, 1002722197,\n",
       "         1675526541, 2363933728, 2468792150, 2492164547, 2324492426,\n",
       "         3986825102, 1863671047, 2631930842, 3040456320,  939554207,\n",
       "         2332463045, 1055345620, 2805563982, 3582003455,  505453854,\n",
       "         2884282109, 3033476216, 3548623314, 1271171432,  554722192,\n",
       "         2309173368, 1146553041, 3540365349,  396313416, 2667701432,\n",
       "          883269423, 3869838760,  944481893,  609038231, 2953918354,\n",
       "         3562796121, 3003835490, 1905804130,   22230051,  589291359,\n",
       "          830230797, 1590410098,  961820124, 1519489643,  425077582,\n",
       "         3113962473, 3508396986, 4278305421, 2051682051, 3188721716,\n",
       "          989996244, 3696596991, 1808835523,  212832442,   52242422,\n",
       "         3957618633, 2575695661, 1685652430,  839827074, 3951190414,\n",
       "          557120973, 2768922486, 4071138113,  816765849, 1846436305,\n",
       "         4005983638,  764858695, 4249419484, 3594482410, 1987014607,\n",
       "          272038338, 4041403167, 1584772497,  336272260,  803882268,\n",
       "         3312878393, 1946619317, 3581640715, 3356223856, 4046807077,\n",
       "         3642597944, 2853755859, 2134025791, 1040762273,  215698390,\n",
       "         2332264450,  266056297, 3585052369, 3501745584,  909150982,\n",
       "          766639688, 1425772731, 2291876458, 1232268410, 3401090805,\n",
       "         3753102233, 1133610955, 1966735321,  258984802, 1882021850,\n",
       "         1878834579, 2514391855, 1078275682, 4021078494, 3117495167,\n",
       "         1635492994, 2246303875, 4075767389, 3218976166, 1464398197,\n",
       "          198117652,  973209207,  471086682,  717833250, 1156184132,\n",
       "          192215202, 1533235882,  855160510, 1140672402], dtype=uint32), 587, 0, 0.0))"
      ]
     },
     "execution_count": 97,
     "metadata": {},
     "output_type": "execute_result"
    }
   ],
   "source": [
    "# Define the probability function as likelihood * prior.\n",
    "\n",
    "def lnprior(theta):\n",
    "    mu, sig = theta\n",
    "    if 0 < mu < 2e8 and 0 < sig < 2e8:\n",
    "        return 0.0\n",
    "    return -np.inf\n",
    "\n",
    "def lnlike ( theta, x):\n",
    "    mu,sig = theta\n",
    "    return -0.5* len(x)*np.log(2*np.pi*sig**2) - squared_diff(x, mu)\n",
    "\n",
    "def lnprob( theta, x):\n",
    "    lp = lnprior(theta)\n",
    "    if not np.isfinite(lp):\n",
    "        return -np.inf\n",
    "    return lp + lnlike(theta, x)\n",
    "\n",
    "\n",
    "ndim, nwalkers = 2, 100\n",
    "pos = [0.5 + 1e-4*np.random.randn(ndim) for i in range(nwalkers)]\n",
    "sampler = emcee.EnsembleSampler(nwalkers, ndim, lnprob, args=[diff_linear])\n",
    "\n",
    "#For burning in a few steps\n",
    "pos, prob, state = sampler.run_mcmc(pos, 100)\n",
    "sampler.reset()\n",
    "sampler.run_mcmc(pos, 1000)"
   ]
  },
  {
   "cell_type": "code",
   "execution_count": 98,
   "metadata": {},
   "outputs": [
    {
     "name": "stdout",
     "output_type": "stream",
     "text": [
      "0.14188\n"
     ]
    },
    {
     "data": {
      "image/png": "[encoded data removed]",
      "text/plain": [
       "<matplotlib.figure.Figure at 0x7f53bb609790>"
      ]
     },
     "metadata": {},
     "output_type": "display_data"
    }
   ],
   "source": [
    "print np.mean(sampler.acceptance_fraction)\n",
    "fig = plt.figure(figsize = (5,5))\n",
    "ax = fig.add_subplot(\"111\")\n",
    "ax.plot(sampler.chain[:,:,0].T, alpha = 0.4)\n",
    "#ax.set_ylim[(3.9e7, 4.1e7]\n",
    "plt.show()"
   ]
  },
  {
   "cell_type": "code",
   "execution_count": 99,
   "metadata": {},
   "outputs": [
    {
     "name": "stdout",
     "output_type": "stream",
     "text": [
      "0.14188\n"
     ]
    },
    {
     "data": {
      "image/png": "[encoded data removed]",
      "text/plain": [
       "<matplotlib.figure.Figure at 0x7f53bb61fc90>"
      ]
     },
     "metadata": {},
     "output_type": "display_data"
    }
   ],
   "source": [
    "print np.mean(sampler.acceptance_fraction)\n",
    "fig = plt.figure(figsize = (5,5))\n",
    "ax = fig.add_subplot(\"111\")\n",
    "ax.plot(sampler.chain[:,:,0].T, alpha = 0.4)\n",
    "ax.set_ylim(3.952816e7, 3.95282e7)\n",
    "plt.show()"
   ]
  },
  {
   "cell_type": "code",
   "execution_count": 101,
   "metadata": {},
   "outputs": [
    {
     "name": "stdout",
     "output_type": "stream",
     "text": [
      "Most number of samples in one bin 89275.0\n",
      "Left bin edge 39526834.9363\n",
      "Right bin edge 39531641.1422\n",
      "Most number of samples in one bin 23779.0\n",
      "Left bin edge 0.207340968387\n",
      "Right bin edge 19971.7804926\n"
     ]
    },
    {
     "data": {
      "image/png": "[encoded data removed]",
      "text/plain": [
       "<matplotlib.figure.Figure at 0x7f53bab776d0>"
      ]
     },
     "metadata": {},
     "output_type": "display_data"
    },
    {
     "data": {
      "image/png": "[encoded data removed]",
      "text/plain": [
       "<matplotlib.figure.Figure at 0x7f53bb283c50>"
      ]
     },
     "metadata": {},
     "output_type": "display_data"
    }
   ],
   "source": [
    "for i in range(ndim):\n",
    "    #i =1\n",
    "    plt.figure()\n",
    "    n, bins, patches = plt.hist(sampler.flatchain[:,i], 10000, color=\"k\", histtype=\"step\")\n",
    "    index = np.where(n.max()==n)[0][0]\n",
    "    print \"Most number of samples in one bin\", n.max()\n",
    "    print \"Left bin edge\", bins[index]\n",
    "    print \"Right bin edge\", bins[index +1]\n",
    "    plt.title(\"Dimension {0:d}\".format(i))\n",
    "    #break\n",
    "\n",
    "plt.show()"
   ]
  },
  {
   "cell_type": "markdown",
   "metadata": {},
   "source": [
    "From above, can we assume that the best value for mu is ~3.95e7, and for sigma its anywere from 0 to ~2e5. "
   ]
  },
  {
   "cell_type": "code",
   "execution_count": null,
   "metadata": {
    "collapsed": true
   },
   "outputs": [],
   "source": [
    "#From the data,"
   ]
  }
 ],
 "metadata": {
  "anaconda-cloud": {},
  "kernelspec": {
   "display_name": "Python 2",
   "language": "python",
   "name": "python2"
  },
  "language_info": {
   "codemirror_mode": {
    "name": "ipython",
    "version": 2
   },
   "file_extension": ".py",
   "mimetype": "text/x-python",
   "name": "python",
   "nbconvert_exporter": "python",
   "pygments_lexer": "ipython2",
   "version": "2.7.13"
  }
 },
 "nbformat": 4,
 "nbformat_minor": 2
}
