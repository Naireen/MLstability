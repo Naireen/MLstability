{
 "cells": [
  {
   "cell_type": "code",
   "execution_count": 1,
   "metadata": {
    "collapsed": true
   },
   "outputs": [],
   "source": [
    "import numpy as np\n",
    "import pandas as pd"
   ]
  },
  {
   "cell_type": "code",
   "execution_count": 2,
   "metadata": {},
   "outputs": [
    {
     "data": {
      "text/html": [
       "<div>\n",
       "<table border=\"1\" class=\"dataframe\">\n",
       "  <thead>\n",
       "    <tr style=\"text-align: right;\">\n",
       "      <th></th>\n",
       "      <th>runstring</th>\n",
       "      <th>t</th>\n",
       "      <th>t_shadow</th>\n",
       "    </tr>\n",
       "  </thead>\n",
       "  <tbody>\n",
       "    <tr>\n",
       "      <th>0</th>\n",
       "      <td>0000000.bin</td>\n",
       "      <td>1.235644e+07</td>\n",
       "      <td>8.315081e+07</td>\n",
       "    </tr>\n",
       "    <tr>\n",
       "      <th>1</th>\n",
       "      <td>0000001.bin</td>\n",
       "      <td>1.348749e+05</td>\n",
       "      <td>2.133072e+05</td>\n",
       "    </tr>\n",
       "    <tr>\n",
       "      <th>2</th>\n",
       "      <td>0000002.bin</td>\n",
       "      <td>1.276381e+04</td>\n",
       "      <td>9.321519e+03</td>\n",
       "    </tr>\n",
       "    <tr>\n",
       "      <th>3</th>\n",
       "      <td>0000003.bin</td>\n",
       "      <td>1.000000e+09</td>\n",
       "      <td>1.000000e+09</td>\n",
       "    </tr>\n",
       "    <tr>\n",
       "      <th>4</th>\n",
       "      <td>0000004.bin</td>\n",
       "      <td>8.791888e+01</td>\n",
       "      <td>8.791888e+01</td>\n",
       "    </tr>\n",
       "  </tbody>\n",
       "</table>\n",
       "</div>"
      ],
      "text/plain": [
       "     runstring             t      t_shadow\n",
       "0  0000000.bin  1.235644e+07  8.315081e+07\n",
       "1  0000001.bin  1.348749e+05  2.133072e+05\n",
       "2  0000002.bin  1.276381e+04  9.321519e+03\n",
       "3  0000003.bin  1.000000e+09  1.000000e+09\n",
       "4  0000004.bin  8.791888e+01  8.791888e+01"
      ]
     },
     "execution_count": 2,
     "metadata": {},
     "output_type": "execute_result"
    }
   ],
   "source": [
    "a = pd.read_csv(\"../csvs/deltatimes.csv\", index_col=0)\n",
    "a.head()"
   ]
  },
  {
   "cell_type": "code",
   "execution_count": 5,
   "metadata": {
    "scrolled": false
   },
   "outputs": [
    {
     "name": "stdout",
     "output_type": "stream",
     "text": [
      "(3202, 3)\n",
      "\n",
      "         runstring            t     t_shadow\n",
      "7      0000007.bin   521.139203   321.052787\n",
      "26     0000026.bin   406.300933   344.155492\n",
      "27     0000027.bin   236.112125   287.380603\n",
      "29     0000029.bin  1136.084261  1157.977335\n",
      "38     0000038.bin   192.395406   337.298177\n",
      "45     0000045.bin   404.433731   679.136900\n",
      "56     0000056.bin   385.435358   585.825719\n",
      "58     0000058.bin  5325.868318   350.531474\n",
      "71     0000071.bin   596.933711  1237.965415\n",
      "74     0000074.bin    87.085862   287.792102\n",
      "84     0000084.bin   156.645449   156.506886\n",
      "89     0000089.bin  1319.684036  1387.961473\n",
      "94     0000094.bin  1027.588858   450.678636\n",
      "113    0000113.bin   197.072729   157.374127\n",
      "114    0000114.bin   569.948488   652.394085\n",
      "115    0000115.bin  4762.400172  4897.739325\n",
      "128    0000128.bin  2182.935427   747.701628\n",
      "140    0000140.bin   853.822953  1605.317401\n",
      "143    0000143.bin  7170.364012  8105.612317\n",
      "151    0000151.bin   487.811576   579.748227\n",
      "168    0000168.bin  1223.821907  2146.685261\n",
      "171    0000171.bin  1372.912213   460.200811\n",
      "174    0000174.bin  2149.412640  2197.701592\n",
      "179    0000179.bin   174.309180   225.230184\n",
      "184    0000184.bin  8038.237249  5189.499602\n",
      "186    0000186.bin   355.347355   130.457997\n",
      "187    0000187.bin   743.776837   253.745300\n",
      "190    0000190.bin  3395.408196  2288.662464\n",
      "197    0000197.bin  9955.253053  2779.139015\n",
      "199    0000199.bin   717.622904   777.828957\n",
      "...            ...          ...          ...\n",
      "24809  0024809.bin   804.814536   866.960505\n",
      "24810  0024810.bin   540.633067   536.891901\n",
      "24829  0024829.bin   158.722087   153.837798\n",
      "24833  0024833.bin   336.017730   445.795069\n",
      "24837  0024837.bin   327.456211  1949.079782\n",
      "24838  0024838.bin   314.400624   174.763238\n",
      "24840  0024840.bin  6769.604025  3440.313285\n",
      "24842  0024842.bin   399.534316  2134.394481\n",
      "24848  0024848.bin  9371.925221  2996.037008\n",
      "24856  0024856.bin   435.912105   392.265470\n",
      "24867  0024867.bin  7478.806429  6813.042142\n",
      "24869  0024869.bin  1423.814956   428.717189\n",
      "24879  0024879.bin  1398.699677   434.155659\n",
      "24897  0024897.bin   380.219471   282.393324\n",
      "24898  0024898.bin   372.201951   390.872668\n",
      "24901  0024901.bin   663.964287  4910.502090\n",
      "24907  0024907.bin  3820.695356  1292.144246\n",
      "24928  0024928.bin  5203.183787  1283.068409\n",
      "24933  0024933.bin   165.722550   309.621269\n",
      "24934  0024934.bin  4156.994140  4303.107614\n",
      "24935  0024935.bin   114.592474   114.627115\n",
      "24942  0024942.bin   675.465128  1117.345900\n",
      "24961  0024961.bin   291.983682   355.721964\n",
      "24967  0024967.bin  7655.257552  9585.127342\n",
      "24973  0024973.bin  5174.480077  4541.569437\n",
      "24977  0024977.bin  2530.768220  4931.667297\n",
      "24986  0024986.bin   841.077937   886.457347\n",
      "24988  0024988.bin  1383.248212  1062.680759\n",
      "24989  0024989.bin  3619.358275  3619.254352\n",
      "24996  0024996.bin  1868.255189  2336.566060\n",
      "\n",
      "[3202 rows x 3 columns]\n"
     ]
    }
   ],
   "source": [
    "b = a[(a[\"t\"]<1e4) & (a[\"t_shadow\"]<1e4)  & (a[\"t\"]!= a[\"t_shadow\"])\n",
    "     ]# &( np.abs(a[\"t\"] - a[\"t_shadow\"]) <10)  ] \n",
    "print b.shape\n",
    "print \"\"\n",
    "\n",
    "#increments = np.logspace(1, 9, 9)\n",
    "\n",
    "#for i, val in enumerate(increments[:]):\n",
    "#    if i == 0:\n",
    "#        continue\n",
    "#    c = b[(b[\"t\"]<val) & (b[\"t_shadow\"]<val) & (b[\"t\"]>increments[i-1]) & (b[\"t_shadow\"]>increments[i-1])]\n",
    "# \n",
    "#    #print i\n",
    "#    print c.shape[0], \"samples in between\",\"{0:.3f}\".format(increments[i-1]), \"and\", val\n",
    "#    print \"\"\n",
    "\n",
    "#print b.head(b.shape[0])\n",
    "#print b.iloc[40:65,:]\n",
    "#print a.loc[19197]\n",
    "#print b.loc[2000:5000] #17641 #23967\n",
    "print b"
   ]
  },
  {
   "cell_type": "code",
   "execution_count": 107,
   "metadata": {},
   "outputs": [
    {
     "name": "stdout",
     "output_type": "stream",
     "text": [
      "['XGBTuningOnNewDataset.ipynb', 'MCMC.ipynb', \"Filter_Simt's.ipynb\", 'CustomObjectiveFunction.ipynb', 'PDP_2DProjection.ipynb', 'triangle.png', 'EMCEE Tutorial.ipynb', 'Trial_MCMC.ipynb', 'SaveAndLoadXGB.ipynb', 'TrainOnOrbitalElements.ipynb', 'Experimenting _with_HyperOpt.ipynb', 'PDP_MC.ipynb', '.ipynb_checkpoints', 'Testing', 'exploredataset.ipynb', 'OptimalXGBmodel_SepFile.pkl', 'PDP_Working.ipynb', 'DESCRIPTION', 'sample.png', 'XGBoostNewFeatures2PR.ipynb', 'McMc2.ipynb', 'HyperoptScript.py', 'OptimalXGBmodel.pkl', 'XGBoost_Tuning.ipynb', 'Bokeh']\n"
     ]
    }
   ],
   "source": [
    "#pd.read_csv(\"Sys_24771_r300_1e6.csv\")# Sys_24771_r300_1e6.csv\n",
    "import os\n",
    "print os.listdir(\".\")"
   ]
  },
  {
   "cell_type": "code",
   "execution_count": null,
   "metadata": {
    "collapsed": true
   },
   "outputs": [],
   "source": []
  }
 ],
 "metadata": {
  "kernelspec": {
   "display_name": "Python 2",
   "language": "python",
   "name": "python2"
  },
  "language_info": {
   "codemirror_mode": {
    "name": "ipython",
    "version": 2
   },
   "file_extension": ".py",
   "mimetype": "text/x-python",
   "name": "python",
   "nbconvert_exporter": "python",
   "pygments_lexer": "ipython2",
   "version": "2.7.13"
  }
 },
 "nbformat": 4,
 "nbformat_minor": 2
}
