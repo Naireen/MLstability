{
 "cells": [
  {
   "cell_type": "code",
   "execution_count": 1,
   "metadata": {
    "collapsed": true
   },
   "outputs": [],
   "source": [
    "import numpy as np\n",
    "import pandas as pd"
   ]
  },
  {
   "cell_type": "code",
   "execution_count": 2,
   "metadata": {},
   "outputs": [
    {
     "data": {
      "text/html": [
       "<div>\n",
       "<table border=\"1\" class=\"dataframe\">\n",
       "  <thead>\n",
       "    <tr style=\"text-align: right;\">\n",
       "      <th></th>\n",
       "      <th>runstring</th>\n",
       "      <th>t</th>\n",
       "      <th>t_shadow</th>\n",
       "    </tr>\n",
       "  </thead>\n",
       "  <tbody>\n",
       "    <tr>\n",
       "      <th>0</th>\n",
       "      <td>0000000.bin</td>\n",
       "      <td>1.235644e+07</td>\n",
       "      <td>8.315081e+07</td>\n",
       "    </tr>\n",
       "    <tr>\n",
       "      <th>1</th>\n",
       "      <td>0000001.bin</td>\n",
       "      <td>1.348749e+05</td>\n",
       "      <td>2.133072e+05</td>\n",
       "    </tr>\n",
       "    <tr>\n",
       "      <th>2</th>\n",
       "      <td>0000002.bin</td>\n",
       "      <td>1.276381e+04</td>\n",
       "      <td>9.321519e+03</td>\n",
       "    </tr>\n",
       "    <tr>\n",
       "      <th>3</th>\n",
       "      <td>0000003.bin</td>\n",
       "      <td>1.000000e+09</td>\n",
       "      <td>1.000000e+09</td>\n",
       "    </tr>\n",
       "    <tr>\n",
       "      <th>4</th>\n",
       "      <td>0000004.bin</td>\n",
       "      <td>8.791888e+01</td>\n",
       "      <td>8.791888e+01</td>\n",
       "    </tr>\n",
       "  </tbody>\n",
       "</table>\n",
       "</div>"
      ],
      "text/plain": [
       "     runstring             t      t_shadow\n",
       "0  0000000.bin  1.235644e+07  8.315081e+07\n",
       "1  0000001.bin  1.348749e+05  2.133072e+05\n",
       "2  0000002.bin  1.276381e+04  9.321519e+03\n",
       "3  0000003.bin  1.000000e+09  1.000000e+09\n",
       "4  0000004.bin  8.791888e+01  8.791888e+01"
      ]
     },
     "execution_count": 2,
     "metadata": {},
     "output_type": "execute_result"
    }
   ],
   "source": [
    "a = pd.read_csv(\"../csvs/deltatimes.csv\", index_col=0)\n",
    "a.head()"
   ]
  },
  {
   "cell_type": "code",
   "execution_count": 8,
   "metadata": {
    "scrolled": false
   },
   "outputs": [
    {
     "name": "stdout",
     "output_type": "stream",
     "text": [
      "(7415, 3)\n",
      "\n",
      "        runstring             t      t_shadow\n",
      "1601  0001601.bin  2.721504e+04  2.750304e+04\n",
      "1608  0001608.bin  1.106819e+05  4.232494e+04\n",
      "1613  0001613.bin  1.928631e+04  1.802153e+04\n",
      "1614  0001614.bin  1.816968e+07  1.667595e+07\n",
      "1616  0001616.bin  1.710091e+04  6.564547e+04\n",
      "1617  0001617.bin  1.159068e+05  7.691885e+04\n",
      "1624  0001624.bin  1.101754e+08  7.565686e+07\n",
      "1625  0001625.bin  1.176343e+04  1.980485e+04\n",
      "1626  0001626.bin  6.224480e+05  7.165879e+06\n",
      "1627  0001627.bin  1.628643e+04  6.558912e+04\n",
      "1635  0001635.bin  3.843630e+05  6.711352e+05\n",
      "1636  0001636.bin  1.247150e+05  3.664665e+04\n",
      "1640  0001640.bin  5.567347e+04  6.641878e+04\n",
      "1646  0001646.bin  6.740379e+05  3.990425e+06\n",
      "1648  0001648.bin  6.046845e+04  2.012283e+05\n",
      "1651  0001651.bin  1.281611e+07  1.791653e+08\n",
      "1652  0001652.bin  6.756935e+07  3.075438e+07\n",
      "1656  0001656.bin  4.607077e+04  3.519947e+04\n",
      "1657  0001657.bin  1.366475e+04  6.797318e+04\n",
      "1660  0001660.bin  1.115653e+08  3.025740e+07\n",
      "1661  0001661.bin  2.148311e+05  3.845287e+06\n",
      "1663  0001663.bin  5.884678e+05  1.521104e+06\n",
      "1667  0001667.bin  7.631994e+04  3.495049e+04\n",
      "1671  0001671.bin  2.249071e+05  1.458277e+06\n",
      "1673  0001673.bin  7.681629e+05  1.262934e+06\n",
      "1675  0001675.bin  4.199333e+05  7.933209e+04\n",
      "1677  0001677.bin  1.104754e+05  7.267159e+04\n",
      "1682  0001682.bin  3.916362e+08  8.556673e+08\n",
      "1683  0001683.bin  5.665931e+06  1.414850e+06\n",
      "1686  0001686.bin  2.801723e+06  2.376718e+06\n",
      "1689  0001689.bin  2.662869e+04  3.366956e+04\n",
      "1691  0001691.bin  1.748224e+05  7.334523e+04\n",
      "1711  0001711.bin  1.617430e+08  1.230653e+08\n",
      "1718  0001718.bin  3.678412e+07  2.328431e+07\n",
      "1720  0001720.bin  4.375461e+05  9.603049e+05\n",
      "1723  0001723.bin  8.118698e+06  3.394895e+06\n",
      "1726  0001726.bin  2.539742e+05  5.314936e+05\n",
      "1738  0001738.bin  5.976423e+08  2.831077e+07\n",
      "1741  0001741.bin  1.723005e+04  2.880849e+04\n",
      "1742  0001742.bin  1.909655e+04  5.598601e+04\n",
      "1753  0001753.bin  1.317536e+04  7.365285e+04\n",
      "1755  0001755.bin  1.544718e+06  4.578084e+04\n",
      "1764  0001764.bin  2.551227e+06  2.637999e+06\n",
      "1765  0001765.bin  1.086181e+06  5.978684e+05\n",
      "1766  0001766.bin  7.712786e+04  5.452193e+04\n",
      "1768  0001768.bin  2.061068e+04  1.701049e+04\n",
      "1774  0001774.bin  6.087973e+05  7.811292e+05\n",
      "1775  0001775.bin  4.147854e+04  3.201036e+05\n",
      "1780  0001780.bin  1.205817e+05  1.184311e+05\n",
      "1782  0001782.bin  8.378292e+07  8.043492e+05\n",
      "1785  0001785.bin  1.055000e+04  1.415644e+04\n",
      "1786  0001786.bin  9.552184e+08  1.000000e+09\n",
      "1791  0001791.bin  1.948563e+04  1.532717e+04\n",
      "1793  0001793.bin  7.389617e+08  6.083380e+08\n",
      "1796  0001796.bin  2.590664e+05  3.381295e+05\n",
      "1799  0001799.bin  3.096459e+04  1.840948e+04\n"
     ]
    }
   ],
   "source": [
    "b = a[(a[\"t\"]>1e4) & (a[\"t_shadow\"]>1e4)  & (a[\"t\"]!= a[\"t_shadow\"])\n",
    "     ]# &( np.abs(a[\"t\"] - a[\"t_shadow\"]) <10)  ] \n",
    "print b.shape\n",
    "print \"\"\n",
    "\n",
    "#increments = np.logspace(1, 9, 9)\n",
    "\n",
    "#for i, val in enumerate(increments[:]):\n",
    "#    if i == 0:\n",
    "#        continue\n",
    "#    c = b[(b[\"t\"]<val) & (b[\"t_shadow\"]<val) & (b[\"t\"]>increments[i-1]) & (b[\"t_shadow\"]>increments[i-1])]\n",
    "# \n",
    "#    #print i\n",
    "#    print c.shape[0], \"samples in between\",\"{0:.3f}\".format(increments[i-1]), \"and\", val\n",
    "#    print \"\"\n",
    "\n",
    "#print b.head(b.shape[0])\n",
    "#print b.iloc[40:65,:]\n",
    "#print a.loc[19197]\n",
    "#print b.loc[2000:5000] #17641 #23967\n",
    "print b.loc[1600:1800]"
   ]
  },
  {
   "cell_type": "code",
   "execution_count": 107,
   "metadata": {},
   "outputs": [
    {
     "name": "stdout",
     "output_type": "stream",
     "text": [
      "['XGBTuningOnNewDataset.ipynb', 'MCMC.ipynb', \"Filter_Simt's.ipynb\", 'CustomObjectiveFunction.ipynb', 'PDP_2DProjection.ipynb', 'triangle.png', 'EMCEE Tutorial.ipynb', 'Trial_MCMC.ipynb', 'SaveAndLoadXGB.ipynb', 'TrainOnOrbitalElements.ipynb', 'Experimenting _with_HyperOpt.ipynb', 'PDP_MC.ipynb', '.ipynb_checkpoints', 'Testing', 'exploredataset.ipynb', 'OptimalXGBmodel_SepFile.pkl', 'PDP_Working.ipynb', 'DESCRIPTION', 'sample.png', 'XGBoostNewFeatures2PR.ipynb', 'McMc2.ipynb', 'HyperoptScript.py', 'OptimalXGBmodel.pkl', 'XGBoost_Tuning.ipynb', 'Bokeh']\n"
     ]
    }
   ],
   "source": [
    "#pd.read_csv(\"Sys_24771_r300_1e6.csv\")# Sys_24771_r300_1e6.csv\n",
    "import os\n",
    "print os.listdir(\".\")"
   ]
  },
  {
   "cell_type": "code",
   "execution_count": null,
   "metadata": {
    "collapsed": true
   },
   "outputs": [],
   "source": []
  }
 ],
 "metadata": {
  "kernelspec": {
   "display_name": "Python 2",
   "language": "python",
   "name": "python2"
  },
  "language_info": {
   "codemirror_mode": {
    "name": "ipython",
    "version": 2
   },
   "file_extension": ".py",
   "mimetype": "text/x-python",
   "name": "python",
   "nbconvert_exporter": "python",
   "pygments_lexer": "ipython2",
   "version": "2.7.13"
  }
 },
 "nbformat": 4,
 "nbformat_minor": 2
}
