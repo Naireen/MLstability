{
 "cells": [
  {
   "cell_type": "code",
   "execution_count": 1,
   "metadata": {},
   "outputs": [
    {
     "name": "stderr",
     "output_type": "stream",
     "text": [
      "/mnt/raid-cita/nhussain/venv-2.7.13/lib/python2.7/site-packages/sklearn/cross_validation.py:44: DeprecationWarning: This module was deprecated in version 0.18 in favor of the model_selection module into which all the refactored classes and functions are moved. Also note that the interface of the new CV iterators are different from that of this module. This module will be removed in 0.20.\n",
      "  \"This module will be removed in 0.20.\", DeprecationWarning)\n"
     ]
    }
   ],
   "source": [
    "import numpy as np\n",
    "import pandas as pd\n",
    "import matplotlib \n",
    "from matplotlib import pyplot as plt\n",
    "%matplotlib inline\n",
    "import time\n",
    "import rebound\n",
    "import xgboost as xgb\n",
    "import sklearn\n",
    "import os\n",
    "from sklearn.model_selection import cross_val_score\n",
    "\n",
    "from sklearn import metrics"
   ]
  },
  {
   "cell_type": "markdown",
   "metadata": {},
   "source": [
    "Check if the feature importances change for short integrations vs longterm integrations\n"
   ]
  },
  {
   "cell_type": "code",
   "execution_count": 7,
   "metadata": {},
   "outputs": [
    {
     "data": {
      "text/plain": [
       "array(['sifOrbs=1000.0Nout=100window=10lyapwindow=10.csv',\n",
       "       'sifOrbs=100.0Nout=10window=10lyapwindow=10.csv',\n",
       "       'sifOrbs=10.0Nout=10window=10lyapwindow=10.csv',\n",
       "       'sifOrbs=32000.0Nout=1000window=10lyapwindow=10.csv',\n",
       "       'sifOrbs=3200.0Nout=100window=10lyapwindow=10.csv',\n",
       "       'sifOrbs=320.0Nout=10window=10lyapwindow=10.csv',\n",
       "       'sifOrbs=32.0Nout=10window=10lyapwindow=10.csv'],\n",
       "      dtype='|S50')"
      ]
     },
     "execution_count": 7,
     "metadata": {},
     "output_type": "execute_result"
    }
   ],
   "source": [
    "data_list = np.loadtxt(\"../csvs/LargeTimeScaleRange/Order.txt\", dtype=str)\n",
    "\n",
    "features = []\n",
    "features += ['avg_iH1', 'avg_iH2']\n",
    "#features += ['mindaOverRH', 'maxdaOverRH']\n",
    "features += ['norm_std_a1', 'norm_max_a1', 'norm_std_window10_a1', 'norm_max_window10_a1']\n",
    "features += ['norm_std_a2', 'norm_max_a2', 'norm_std_window10_a2', 'norm_max_window10_a2']\n",
    "features += ['norm_std_a3', 'norm_max_a3', 'norm_std_window10_a3', 'norm_max_window10_a3']\n",
    "features += ['avg_ecross1', 'std_ecross1', 'max_ecross1', 'min_ecross1']\n",
    "features += ['avg_ecross2', 'std_ecross2', 'max_ecross2', 'min_ecross2']\n",
    "features += ['avg_ecross3', 'std_ecross3', 'max_ecross3', 'min_ecross3']\n",
    "features += ['norm_a1_slope', 'norm_a2_slope', 'norm_a3_slope']\n",
    "features += [\"max_e2\", \"min_e2\", \"std_e2\", \"avg_e2\"]\n",
    "features += ['Lyapunov_time']\n",
    "#features += [\"\"]\n",
    "\n",
    "def make_splits(Ntrain, X, Y):\n",
    "    \n",
    "    Nrows = int(X.shape[0]*Ntrain)\n",
    "    trainX = X.loc[:Nrows-1]\n",
    "    testX = X.loc[Nrows:]\n",
    "    trainY = Y[:Nrows]\n",
    "    testY = Y[Nrows:]\n",
    "    #print trainX.shape, trainY.shape, testX.shape, testY.shape\n",
    "    return trainX, trainY, testX, testY\n",
    "\n",
    "data_list"
   ]
  },
  {
   "cell_type": "code",
   "execution_count": 3,
   "metadata": {
    "collapsed": true
   },
   "outputs": [],
   "source": [
    "def plot_feats_imps(model):\n",
    "    feats = pd.Series(model.booster().get_fscore()).sort_values(ascending = False)\n",
    "    total_imp = np.sum(feats)\n",
    "    feats = feats/float(total_imp)\n",
    "    feats.plot(kind = \"bar\", title = \"Feature Importances\", figsize = (12, 8))\n",
    "    plt.ylabel(\"Normalized Importance\")\n",
    "    return feats"
   ]
  },
  {
   "cell_type": "code",
   "execution_count": 4,
   "metadata": {
    "collapsed": true
   },
   "outputs": [],
   "source": [
    "#{'x_min_child': 4.0, 'x_tree_colsample': 0.7452992521028268,\n",
    "#'x_max_depth': 7.0, 'x_subsample': 0.938790987639708, 'x_learning_rate': 0.08584312332127479}\n",
    "\n",
    "min_child_w = 4\n",
    "n_est=100\n",
    "max_d = 7\n",
    "learning_r = 0.085\n",
    "subsample = 0.94\n",
    "weight = 2\n",
    "\n",
    "model = xgb.XGBClassifier(min_child_weight=min_child_w, n_estimators=n_est, max_depth=max_d, learning_rate=learning_r, scale_pos_weight=weight, subsample=subsample)\n"
   ]
  },
  {
   "cell_type": "code",
   "execution_count": 22,
   "metadata": {
    "scrolled": true
   },
   "outputs": [
    {
     "name": "stdout",
     "output_type": "stream",
     "text": [
      "115\n",
      "112\n",
      "(111,)\n",
      "0.914184008748\n",
      "115\n",
      "112\n",
      "(93,)\n",
      "0.90866851522\n",
      "115\n",
      "112\n",
      "(93,)\n",
      "0.900852007768\n",
      "115\n",
      "112\n",
      "(111,)\n",
      "0.932475823938\n",
      "115\n",
      "112\n",
      "(112,)\n",
      "0.915554198959\n",
      "115\n",
      "112\n",
      "(94,)\n",
      "0.907888477304\n",
      "115\n",
      "112\n",
      "(93,)\n",
      "0.905119784965\n",
      "[['Lyapunov_time', 'avg_a1', 'avg_a2', 'avg_a3', 'avg_e1', 'avg_e2', 'avg_e3', 'avg_eH1', 'avg_eH2', 'avg_eH3', 'avg_ecross1', 'avg_ecross2', 'avg_ecross3', 'avg_iH1', 'avg_iH2', 'avg_iH3', 'avg_inc1', 'avg_inc2', 'avg_inc3', 'max_a1', 'max_a2', 'max_a3', 'max_e1', 'max_e2', 'max_e3', 'max_eH1', 'max_eH2', 'max_eH3', 'max_ecross1', 'max_ecross2', 'max_ecross3', 'max_iH1', 'max_iH2', 'max_iH3', 'max_inc1', 'max_inc2', 'max_inc3', 'min_a1', 'min_a2', 'min_a3', 'min_e1', 'min_e2', 'min_e3', 'min_eH1', 'min_eH2', 'min_eH3', 'min_ecross1', 'min_ecross2', 'min_ecross3', 'min_iH1', 'min_iH2', 'min_iH3', 'min_inc1', 'min_inc2', 'min_inc3', 'norm_a1_slope', 'norm_a2_slope', 'norm_a3_slope', 'norm_max_a1', 'norm_max_a2', 'norm_max_a3', 'norm_max_e1', 'norm_max_e2', 'norm_max_e3', 'norm_max_inc1', 'norm_max_inc2', 'norm_max_inc3', 'norm_max_window10_a1', 'norm_max_window10_a2', 'norm_max_window10_a3', 'norm_max_window10_e1', 'norm_max_window10_e2', 'norm_max_window10_e3', 'norm_max_window10_inc1', 'norm_max_window10_inc2', 'norm_max_window10_inc3', 'norm_std_a2', 'norm_std_a3', 'norm_std_e1', 'norm_std_e2', 'norm_std_e3', 'norm_std_inc1', 'norm_std_inc2', 'norm_std_inc3', 'norm_std_window10_a1', 'norm_std_window10_a2', 'norm_std_window10_a3', 'norm_std_window10_e1', 'norm_std_window10_e2', 'norm_std_window10_e3', 'norm_std_window10_inc1', 'norm_std_window10_inc2', 'norm_std_window10_inc3', 'std_a1', 'std_a2', 'std_a3', 'std_e1', 'std_e2', 'std_e3', 'std_eH1', 'std_eH2', 'std_eH3', 'std_ecross1', 'std_ecross2', 'std_ecross3', 'std_iH1', 'std_iH2', 'std_iH3', 'std_inc1', 'std_inc2', 'std_inc3'], ['Lyapunov_time', 'avg_a1', 'avg_a2', 'avg_a3', 'avg_e1', 'avg_e2', 'avg_e3', 'avg_eH1', 'avg_eH2', 'avg_eH3', 'avg_ecross1', 'avg_ecross2', 'avg_ecross3', 'avg_iH1', 'avg_iH2', 'avg_iH3', 'avg_inc1', 'avg_inc2', 'avg_inc3', 'max_a1', 'max_a2', 'max_a3', 'max_e1', 'max_e2', 'max_e3', 'max_eH1', 'max_eH2', 'max_eH3', 'max_ecross1', 'max_ecross2', 'max_ecross3', 'max_iH1', 'max_iH2', 'max_iH3', 'max_inc1', 'max_inc2', 'max_inc3', 'min_a1', 'min_a2', 'min_a3', 'min_e1', 'min_e2', 'min_e3', 'min_eH1', 'min_eH2', 'min_eH3', 'min_ecross1', 'min_ecross2', 'min_ecross3', 'min_iH1', 'min_iH2', 'min_iH3', 'min_inc1', 'min_inc2', 'min_inc3', 'norm_a1_slope', 'norm_a2_slope', 'norm_a3_slope', 'norm_max_a1', 'norm_max_a2', 'norm_max_a3', 'norm_max_e1', 'norm_max_e2', 'norm_max_e3', 'norm_max_inc1', 'norm_max_inc2', 'norm_max_inc3', 'norm_std_a2', 'norm_std_a3', 'norm_std_e1', 'norm_std_e2', 'norm_std_e3', 'norm_std_inc1', 'norm_std_inc2', 'norm_std_inc3', 'std_a1', 'std_a2', 'std_a3', 'std_e1', 'std_e2', 'std_e3', 'std_eH1', 'std_eH2', 'std_eH3', 'std_ecross1', 'std_ecross2', 'std_ecross3', 'std_iH1', 'std_iH2', 'std_iH3', 'std_inc1', 'std_inc2', 'std_inc3'], ['Lyapunov_time', 'avg_a1', 'avg_a2', 'avg_a3', 'avg_e1', 'avg_e2', 'avg_e3', 'avg_eH1', 'avg_eH2', 'avg_eH3', 'avg_ecross1', 'avg_ecross2', 'avg_ecross3', 'avg_iH1', 'avg_iH2', 'avg_iH3', 'avg_inc1', 'avg_inc2', 'avg_inc3', 'max_a1', 'max_a2', 'max_a3', 'max_e1', 'max_e2', 'max_e3', 'max_eH1', 'max_eH2', 'max_eH3', 'max_ecross1', 'max_ecross2', 'max_ecross3', 'max_iH1', 'max_iH2', 'max_iH3', 'max_inc1', 'max_inc2', 'max_inc3', 'min_a1', 'min_a2', 'min_a3', 'min_e1', 'min_e2', 'min_e3', 'min_eH1', 'min_eH2', 'min_eH3', 'min_ecross1', 'min_ecross2', 'min_ecross3', 'min_iH1', 'min_iH2', 'min_iH3', 'min_inc1', 'min_inc2', 'min_inc3', 'norm_a1_slope', 'norm_a2_slope', 'norm_a3_slope', 'norm_max_a1', 'norm_max_a2', 'norm_max_a3', 'norm_max_e1', 'norm_max_e2', 'norm_max_e3', 'norm_max_inc1', 'norm_max_inc2', 'norm_max_inc3', 'norm_std_a2', 'norm_std_a3', 'norm_std_e1', 'norm_std_e2', 'norm_std_e3', 'norm_std_inc1', 'norm_std_inc2', 'norm_std_inc3', 'std_a1', 'std_a2', 'std_a3', 'std_e1', 'std_e2', 'std_e3', 'std_eH1', 'std_eH2', 'std_eH3', 'std_ecross1', 'std_ecross2', 'std_ecross3', 'std_iH1', 'std_iH2', 'std_iH3', 'std_inc1', 'std_inc2', 'std_inc3'], ['Lyapunov_time', 'avg_a1', 'avg_a2', 'avg_a3', 'avg_e1', 'avg_e2', 'avg_e3', 'avg_eH1', 'avg_eH2', 'avg_eH3', 'avg_ecross1', 'avg_ecross2', 'avg_ecross3', 'avg_iH1', 'avg_iH2', 'avg_iH3', 'avg_inc1', 'avg_inc2', 'avg_inc3', 'max_a1', 'max_a2', 'max_a3', 'max_e1', 'max_e2', 'max_e3', 'max_eH1', 'max_eH2', 'max_eH3', 'max_ecross1', 'max_ecross2', 'max_ecross3', 'max_iH1', 'max_iH2', 'max_iH3', 'max_inc1', 'max_inc2', 'max_inc3', 'min_a1', 'min_a2', 'min_a3', 'min_e1', 'min_e2', 'min_e3', 'min_eH1', 'min_eH2', 'min_eH3', 'min_ecross1', 'min_ecross2', 'min_ecross3', 'min_iH1', 'min_iH2', 'min_iH3', 'min_inc1', 'min_inc2', 'min_inc3', 'norm_a1_slope', 'norm_a2_slope', 'norm_a3_slope', 'norm_max_a1', 'norm_max_a2', 'norm_max_a3', 'norm_max_e1', 'norm_max_e2', 'norm_max_e3', 'norm_max_inc1', 'norm_max_inc2', 'norm_max_inc3', 'norm_max_window10_a1', 'norm_max_window10_a2', 'norm_max_window10_a3', 'norm_max_window10_e1', 'norm_max_window10_e2', 'norm_max_window10_e3', 'norm_max_window10_inc1', 'norm_max_window10_inc2', 'norm_max_window10_inc3', 'norm_std_a2', 'norm_std_a3', 'norm_std_e1', 'norm_std_e2', 'norm_std_e3', 'norm_std_inc1', 'norm_std_inc2', 'norm_std_inc3', 'norm_std_window10_a1', 'norm_std_window10_a2', 'norm_std_window10_a3', 'norm_std_window10_e1', 'norm_std_window10_e2', 'norm_std_window10_e3', 'norm_std_window10_inc1', 'norm_std_window10_inc2', 'norm_std_window10_inc3', 'std_a1', 'std_a2', 'std_a3', 'std_e1', 'std_e2', 'std_e3', 'std_eH1', 'std_eH2', 'std_eH3', 'std_ecross1', 'std_ecross2', 'std_ecross3', 'std_iH1', 'std_iH2', 'std_iH3', 'std_inc1', 'std_inc2', 'std_inc3'], ['Lyapunov_time', 'avg_a1', 'avg_a2', 'avg_a3', 'avg_e1', 'avg_e2', 'avg_e3', 'avg_eH1', 'avg_eH2', 'avg_eH3', 'avg_ecross1', 'avg_ecross2', 'avg_ecross3', 'avg_iH1', 'avg_iH2', 'avg_iH3', 'avg_inc1', 'avg_inc2', 'avg_inc3', 'max_a1', 'max_a2', 'max_a3', 'max_e1', 'max_e2', 'max_e3', 'max_eH1', 'max_eH2', 'max_eH3', 'max_ecross1', 'max_ecross2', 'max_ecross3', 'max_iH1', 'max_iH2', 'max_iH3', 'max_inc1', 'max_inc2', 'max_inc3', 'min_a1', 'min_a2', 'min_a3', 'min_e1', 'min_e2', 'min_e3', 'min_eH1', 'min_eH2', 'min_eH3', 'min_ecross1', 'min_ecross2', 'min_ecross3', 'min_iH1', 'min_iH2', 'min_iH3', 'min_inc1', 'min_inc2', 'min_inc3', 'norm_a1_slope', 'norm_a2_slope', 'norm_a3_slope', 'norm_max_a1', 'norm_max_a2', 'norm_max_a3', 'norm_max_e1', 'norm_max_e2', 'norm_max_e3', 'norm_max_inc1', 'norm_max_inc2', 'norm_max_inc3', 'norm_max_window10_a1', 'norm_max_window10_a2', 'norm_max_window10_a3', 'norm_max_window10_e1', 'norm_max_window10_e2', 'norm_max_window10_e3', 'norm_max_window10_inc1', 'norm_max_window10_inc2', 'norm_max_window10_inc3', 'norm_std_a1', 'norm_std_a2', 'norm_std_a3', 'norm_std_e1', 'norm_std_e2', 'norm_std_e3', 'norm_std_inc1', 'norm_std_inc2', 'norm_std_inc3', 'norm_std_window10_a1', 'norm_std_window10_a2', 'norm_std_window10_a3', 'norm_std_window10_e1', 'norm_std_window10_e2', 'norm_std_window10_e3', 'norm_std_window10_inc1', 'norm_std_window10_inc2', 'norm_std_window10_inc3', 'std_a1', 'std_a2', 'std_a3', 'std_e1', 'std_e2', 'std_e3', 'std_eH1', 'std_eH2', 'std_eH3', 'std_ecross1', 'std_ecross2', 'std_ecross3', 'std_iH1', 'std_iH2', 'std_iH3', 'std_inc1', 'std_inc2', 'std_inc3'], ['Lyapunov_time', 'avg_a1', 'avg_a2', 'avg_a3', 'avg_e1', 'avg_e2', 'avg_e3', 'avg_eH1', 'avg_eH2', 'avg_eH3', 'avg_ecross1', 'avg_ecross2', 'avg_ecross3', 'avg_iH1', 'avg_iH2', 'avg_iH3', 'avg_inc1', 'avg_inc2', 'avg_inc3', 'max_a1', 'max_a2', 'max_a3', 'max_e1', 'max_e2', 'max_e3', 'max_eH1', 'max_eH2', 'max_eH3', 'max_ecross1', 'max_ecross2', 'max_ecross3', 'max_iH1', 'max_iH2', 'max_iH3', 'max_inc1', 'max_inc2', 'max_inc3', 'min_a1', 'min_a2', 'min_a3', 'min_e1', 'min_e2', 'min_e3', 'min_eH1', 'min_eH2', 'min_eH3', 'min_ecross1', 'min_ecross2', 'min_ecross3', 'min_iH1', 'min_iH2', 'min_iH3', 'min_inc1', 'min_inc2', 'min_inc3', 'norm_a1_slope', 'norm_a2_slope', 'norm_a3_slope', 'norm_max_a1', 'norm_max_a2', 'norm_max_a3', 'norm_max_e1', 'norm_max_e2', 'norm_max_e3', 'norm_max_inc1', 'norm_max_inc2', 'norm_max_inc3', 'norm_std_a1', 'norm_std_a2', 'norm_std_a3', 'norm_std_e1', 'norm_std_e2', 'norm_std_e3', 'norm_std_inc1', 'norm_std_inc2', 'norm_std_inc3', 'std_a1', 'std_a2', 'std_a3', 'std_e1', 'std_e2', 'std_e3', 'std_eH1', 'std_eH2', 'std_eH3', 'std_ecross1', 'std_ecross2', 'std_ecross3', 'std_iH1', 'std_iH2', 'std_iH3', 'std_inc1', 'std_inc2', 'std_inc3'], ['Lyapunov_time', 'avg_a1', 'avg_a2', 'avg_a3', 'avg_e1', 'avg_e2', 'avg_e3', 'avg_eH1', 'avg_eH2', 'avg_eH3', 'avg_ecross1', 'avg_ecross2', 'avg_ecross3', 'avg_iH1', 'avg_iH2', 'avg_iH3', 'avg_inc1', 'avg_inc2', 'avg_inc3', 'max_a1', 'max_a2', 'max_a3', 'max_e1', 'max_e2', 'max_e3', 'max_eH1', 'max_eH2', 'max_eH3', 'max_ecross1', 'max_ecross2', 'max_ecross3', 'max_iH1', 'max_iH2', 'max_iH3', 'max_inc1', 'max_inc2', 'max_inc3', 'min_a1', 'min_a2', 'min_a3', 'min_e1', 'min_e2', 'min_e3', 'min_eH1', 'min_eH2', 'min_eH3', 'min_ecross1', 'min_ecross2', 'min_ecross3', 'min_iH1', 'min_iH2', 'min_iH3', 'min_inc1', 'min_inc2', 'min_inc3', 'norm_a1_slope', 'norm_a2_slope', 'norm_a3_slope', 'norm_max_a1', 'norm_max_a2', 'norm_max_a3', 'norm_max_e1', 'norm_max_e2', 'norm_max_e3', 'norm_max_inc1', 'norm_max_inc2', 'norm_max_inc3', 'norm_std_a2', 'norm_std_a3', 'norm_std_e1', 'norm_std_e2', 'norm_std_e3', 'norm_std_inc1', 'norm_std_inc2', 'norm_std_inc3', 'std_a1', 'std_a2', 'std_a3', 'std_e1', 'std_e2', 'std_e3', 'std_eH1', 'std_eH2', 'std_eH3', 'std_ecross1', 'std_ecross2', 'std_ecross3', 'std_iH1', 'std_iH2', 'std_iH3', 'std_inc1', 'std_inc2', 'std_inc3']]\n"
     ]
    }
   ],
   "source": [
    "#load one dataset to determine the number of features needed\n",
    "#info_data = pd.read_csv(\"../csvs/LargeTimeScaleRange/sifOrbs=10.0Nout=10window=10lyapwindow=10.csv\", index_col = 0)\n",
    "#del info_data[\"runstring\"]\n",
    "#del info_data[\"t_final_short\"]\n",
    "#del info_data[\"Rel_Eerr_short\"]\n",
    "#del info_data[\"Rel_Eerr\"]\n",
    "\n",
    "\n",
    "#all_feats = info_data.columns.values.tolist()\n",
    "#print all_feats\n",
    "#all_feats = all_feats[:-3]#get ridd of walltime, stable and instabilit time\n",
    "#print all_feats, len(all_feats)\n",
    "#print all_feats\n",
    "#score = np.zeros(len(all_feats))\n",
    "all_feats_len = 120 #?\n",
    "feat_scores = np.zeros((all_feats_len, data_list.shape[0])) #feats by total datasets\n",
    "feat_scores_labels = [] #feats by total datasets\n",
    "    \n",
    "#['norm_std_a1'] NOT IN ALL DATASETS?\n",
    "    \n",
    "    \n",
    "#model_scores = []\n",
    "    \n",
    "for i, name in enumerate(data_list):\n",
    "\n",
    "    data = pd.read_csv(\"../csvs/LargeTimeScaleRange/\" + name, index_col = 0)\n",
    "    del data[\"runstring\"]\n",
    "    del data[\"t_final_short\"]\n",
    "    del data[\"Rel_Eerr_short\"]\n",
    "    del data[\"Rel_Eerr\"]\n",
    "\n",
    "    Y = data[\"Stable\"]\n",
    "    all_feats = data.columns.values.tolist()\n",
    "    print len(all_feats)\n",
    "    all_feats= all_feats[: -3]\n",
    "    print len(all_feats)\n",
    "    X = data[all_feats]\n",
    "    trainX, trainY, testX, testY = make_splits(0.2, X, Y)\n",
    "    model.fit(trainX, trainY)\n",
    "    preds = model.predict(testX)\n",
    "    feats = pd.Series(model.booster().get_fscore()) #this shpuld be in the order of features passed?\n",
    "    print feats.shape\n",
    "    feat_scores[:feats.shape[0],i] = feats.values\n",
    "    feat_scores_labels.append(feats.index.values.tolist())\n",
    "    #model_scores.append(ranked_feats)\n",
    "    \n",
    "    \n",
    "    #create duplicate list and delete an element each time to see what is not consistent\n",
    "    #important_feats = ranked_feats[:]\n",
    "    #print important_feats, ranked_feats\n",
    "    #for feat in ranked_feats:#reference list\n",
    "    #    #print feat\n",
    "    #    try:\n",
    "    #        all_feats.remove(feat)\n",
    "    #        important_feats.remove(feat)\n",
    "    #    except Exception as e:\n",
    "    #        #print e\n",
    "    #        print \"Not in both lists\",  feat\n",
    "    #print all_feats, important_feats\n",
    "    \n",
    "    \n",
    "    \n",
    "    \n",
    "    \n",
    "    \n",
    "    \n",
    "    \n",
    "    \n",
    "    \n",
    "    #feat_scores[:,i] = feats.values\n",
    "    score = metrics.average_precision_score(testY, preds)\n",
    "    print score\n",
    "    #break\n",
    "    #important_features = plot_feats_imps(model)\n",
    "#print data.columns.values, data.shape\n",
    "#data.head()\n",
    "print feat_scores_labels"
   ]
  },
  {
   "cell_type": "code",
   "execution_count": null,
   "metadata": {},
   "outputs": [],
   "source": [
    "min_child_w = 10\n",
    "n_est=500\n",
    "max_d = 20\n",
    "learning_r = 0.02\n",
    "weight = 3\n",
    "col_sample = 0.8\n",
    "subsample = 0.95\n",
    "\n",
    "\n",
    "\n",
    "model = xgb.XGBClassifier(min_child_weight=min_child_w, n_estimators=n_est, max_depth=max_d,\n",
    "                          learning_rate=learning_r, scale_pos_weight=weight, subsample=subsample,\n",
    "                         colsample_bytree = col_sample, seed = 0)\n",
    "model.fit(trainX, trainY)\n",
    "preds = model.predict(testX)\n",
    "score = metrics.average_precision_score(testY, preds)\n",
    "print score\n",
    "important_feats = plot_feats_imps(model)\n",
    "\n",
    "print \"CROSS VALIDATION\"\n",
    "dtrain = xgb.DMatrix(X, label = Y)\n",
    "params = model.get_xgb_params()\n",
    "score = xgb.cv(params=params, dtrain=dtrain, nfold=5, metrics=\"auc\", early_stopping_rounds=10, verbose_eval=True, stratified=True)\n",
    "print score\n",
    "print np.mean(score[\"test-auc-mean\"])"
   ]
  },
  {
   "cell_type": "code",
   "execution_count": null,
   "metadata": {},
   "outputs": [],
   "source": [
    "#See how it changes if you take the top 25?\n",
    "top_feats = 25\n",
    "\n",
    "X = data[important_feats[:top_feats].index]\n",
    "trainX, trainY, testX, testY  = make_splits(0.2, X, Y)\n",
    "\n",
    "\n",
    "model = xgb.XGBClassifier(min_child_weight=min_child_w, n_estimators=n_est, max_depth=max_d,\n",
    "                          learning_rate=learning_r, scale_pos_weight=weight, subsample=subsample,\n",
    "                         colsample_bytree = col_sample, seed = 0)\n",
    "model.fit(trainX, trainY)\n",
    "preds = model.predict(testX)\n",
    "score = metrics.average_precision_score(testY, preds)\n",
    "print score\n",
    "important_feats = plot_feats_imps(model)\n",
    "\n",
    "print \"CROSS VALIDATION\"\n",
    "dtrain = xgb.DMatrix(X, label = Y)\n",
    "params = model.get_xgb_params()\n",
    "score = xgb.cv(params=params, dtrain=dtrain, nfold=5, metrics=\"auc\", early_stopping_rounds=10, verbose_eval=True, stratified=True)\n",
    "print score\n",
    "print np.mean(score[\"test-auc-mean\"])"
   ]
  },
  {
   "cell_type": "code",
   "execution_count": null,
   "metadata": {
    "collapsed": true
   },
   "outputs": [],
   "source": []
  },
  {
   "cell_type": "code",
   "execution_count": null,
   "metadata": {
    "collapsed": true
   },
   "outputs": [],
   "source": []
  }
 ],
 "metadata": {
  "kernelspec": {
   "display_name": "Python 2",
   "language": "python",
   "name": "python2"
  },
  "language_info": {
   "codemirror_mode": {
    "name": "ipython",
    "version": 2
   },
   "file_extension": ".py",
   "mimetype": "text/x-python",
   "name": "python",
   "nbconvert_exporter": "python",
   "pygments_lexer": "ipython2",
   "version": "2.7.13"
  }
 },
 "nbformat": 4,
 "nbformat_minor": 2
}
