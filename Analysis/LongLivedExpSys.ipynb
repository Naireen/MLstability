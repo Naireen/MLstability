{
 "cells": [
  {
   "cell_type": "code",
   "execution_count": 1,
   "metadata": {
    "collapsed": true
   },
   "outputs": [],
   "source": [
    "import pandas as pd\n",
    "import numpy as np\n",
    "import matplotlib \n",
    "import rebound\n",
    "from matplotlib import pyplot as plt\n",
    "import time\n",
    "%matplotlib inline"
   ]
  },
  {
   "cell_type": "code",
   "execution_count": 4,
   "metadata": {
    "collapsed": false
   },
   "outputs": [
    {
     "data": {
      "text/html": [
       "<div>\n",
       "<style>\n",
       "    .dataframe thead tr:only-child th {\n",
       "        text-align: right;\n",
       "    }\n",
       "\n",
       "    .dataframe thead th {\n",
       "        text-align: left;\n",
       "    }\n",
       "\n",
       "    .dataframe tbody tr th {\n",
       "        vertical-align: top;\n",
       "    }\n",
       "</style>\n",
       "<table border=\"1\" class=\"dataframe\">\n",
       "  <thead>\n",
       "    <tr style=\"text-align: right;\">\n",
       "      <th></th>\n",
       "      <th>ID</th>\n",
       "      <th>Gamma</th>\n",
       "      <th>Location</th>\n",
       "      <th>Alpha</th>\n",
       "    </tr>\n",
       "  </thead>\n",
       "  <tbody>\n",
       "    <tr>\n",
       "      <th>0</th>\n",
       "      <td>1007.0</td>\n",
       "      <td>2.614027</td>\n",
       "      <td>4.447527</td>\n",
       "      <td>1.283371</td>\n",
       "    </tr>\n",
       "    <tr>\n",
       "      <th>1</th>\n",
       "      <td>1021.0</td>\n",
       "      <td>3.269655</td>\n",
       "      <td>4.989150</td>\n",
       "      <td>1.129664</td>\n",
       "    </tr>\n",
       "    <tr>\n",
       "      <th>2</th>\n",
       "      <td>1025.0</td>\n",
       "      <td>2.249906</td>\n",
       "      <td>4.965337</td>\n",
       "      <td>0.938566</td>\n",
       "    </tr>\n",
       "    <tr>\n",
       "      <th>3</th>\n",
       "      <td>1041.0</td>\n",
       "      <td>1.856930</td>\n",
       "      <td>4.863439</td>\n",
       "      <td>0.972277</td>\n",
       "    </tr>\n",
       "    <tr>\n",
       "      <th>4</th>\n",
       "      <td>10518.0</td>\n",
       "      <td>1.596694</td>\n",
       "      <td>5.781111</td>\n",
       "      <td>0.761953</td>\n",
       "    </tr>\n",
       "  </tbody>\n",
       "</table>\n",
       "</div>"
      ],
      "text/plain": [
       "        ID     Gamma  Location     Alpha\n",
       "0   1007.0  2.614027  4.447527  1.283371\n",
       "1   1021.0  3.269655  4.989150  1.129664\n",
       "2   1025.0  2.249906  4.965337  0.938566\n",
       "3   1041.0  1.856930  4.863439  0.972277\n",
       "4  10518.0  1.596694  5.781111  0.761953"
      ]
     },
     "execution_count": 4,
     "metadata": {},
     "output_type": "execute_result"
    }
   ],
   "source": [
    "data = pd.read_csv(\"../Figures/MCMCFigures/Weibull_Parameters_266.csv\", index_col=0)\n",
    "data.head()"
   ]
  },
  {
   "cell_type": "code",
   "execution_count": 11,
   "metadata": {
    "collapsed": false
   },
   "outputs": [
    {
     "data": {
      "text/html": [
       "<div>\n",
       "<style>\n",
       "    .dataframe thead tr:only-child th {\n",
       "        text-align: right;\n",
       "    }\n",
       "\n",
       "    .dataframe thead th {\n",
       "        text-align: left;\n",
       "    }\n",
       "\n",
       "    .dataframe tbody tr th {\n",
       "        vertical-align: top;\n",
       "    }\n",
       "</style>\n",
       "<table border=\"1\" class=\"dataframe\">\n",
       "  <thead>\n",
       "    <tr style=\"text-align: right;\">\n",
       "      <th></th>\n",
       "      <th>ID</th>\n",
       "      <th>Gamma</th>\n",
       "      <th>Location</th>\n",
       "      <th>Alpha</th>\n",
       "    </tr>\n",
       "  </thead>\n",
       "  <tbody>\n",
       "    <tr>\n",
       "      <th>207</th>\n",
       "      <td>2288.0</td>\n",
       "      <td>0.983246</td>\n",
       "      <td>4.492616</td>\n",
       "      <td>2.604807e-01</td>\n",
       "    </tr>\n",
       "    <tr>\n",
       "      <th>240</th>\n",
       "      <td>24930.0</td>\n",
       "      <td>0.794645</td>\n",
       "      <td>4.664790</td>\n",
       "      <td>4.619831e-01</td>\n",
       "    </tr>\n",
       "    <tr>\n",
       "      <th>251</th>\n",
       "      <td>4753.0</td>\n",
       "      <td>0.864944</td>\n",
       "      <td>5.899501</td>\n",
       "      <td>3.470904e-01</td>\n",
       "    </tr>\n",
       "    <tr>\n",
       "      <th>263</th>\n",
       "      <td>8744.0</td>\n",
       "      <td>0.833252</td>\n",
       "      <td>4.705257</td>\n",
       "      <td>1.546389e-01</td>\n",
       "    </tr>\n",
       "    <tr>\n",
       "      <th>265</th>\n",
       "      <td>99.0</td>\n",
       "      <td>0.999930</td>\n",
       "      <td>7.983125</td>\n",
       "      <td>8.810369e-16</td>\n",
       "    </tr>\n",
       "  </tbody>\n",
       "</table>\n",
       "</div>"
      ],
      "text/plain": [
       "          ID     Gamma  Location         Alpha\n",
       "207   2288.0  0.983246  4.492616  2.604807e-01\n",
       "240  24930.0  0.794645  4.664790  4.619831e-01\n",
       "251   4753.0  0.864944  5.899501  3.470904e-01\n",
       "263   8744.0  0.833252  4.705257  1.546389e-01\n",
       "265     99.0  0.999930  7.983125  8.810369e-16"
      ]
     },
     "execution_count": 11,
     "metadata": {},
     "output_type": "execute_result"
    }
   ],
   "source": [
    "trimmed = data[(data['Location'] >4) & (data['Gamma'] <1)]\n",
    "trimmed.tail()"
   ]
  },
  {
   "cell_type": "code",
   "execution_count": 12,
   "metadata": {
    "collapsed": false
   },
   "outputs": [],
   "source": [
    "trimmed[trimmed[\"ID\"] != 99.0].to_csv(\"../csvs/oddballs.csv\", index = False)"
   ]
  },
  {
   "cell_type": "code",
   "execution_count": 13,
   "metadata": {
    "collapsed": false
   },
   "outputs": [
    {
     "data": {
      "text/html": [
       "<div>\n",
       "<style>\n",
       "    .dataframe thead tr:only-child th {\n",
       "        text-align: right;\n",
       "    }\n",
       "\n",
       "    .dataframe thead th {\n",
       "        text-align: left;\n",
       "    }\n",
       "\n",
       "    .dataframe tbody tr th {\n",
       "        vertical-align: top;\n",
       "    }\n",
       "</style>\n",
       "<table border=\"1\" class=\"dataframe\">\n",
       "  <thead>\n",
       "    <tr style=\"text-align: right;\">\n",
       "      <th></th>\n",
       "      <th>Unnamed: 0.1</th>\n",
       "      <th>runstring</th>\n",
       "      <th>t</th>\n",
       "    </tr>\n",
       "  </thead>\n",
       "  <tbody>\n",
       "    <tr>\n",
       "      <th>0</th>\n",
       "      <td>0</td>\n",
       "      <td>0000000.bin</td>\n",
       "      <td>100000000.0</td>\n",
       "    </tr>\n",
       "    <tr>\n",
       "      <th>1</th>\n",
       "      <td>1</td>\n",
       "      <td>0000001.bin</td>\n",
       "      <td>100000000.0</td>\n",
       "    </tr>\n",
       "    <tr>\n",
       "      <th>2</th>\n",
       "      <td>2</td>\n",
       "      <td>0000002.bin</td>\n",
       "      <td>100000000.0</td>\n",
       "    </tr>\n",
       "    <tr>\n",
       "      <th>3</th>\n",
       "      <td>3</td>\n",
       "      <td>0000003.bin</td>\n",
       "      <td>100000000.0</td>\n",
       "    </tr>\n",
       "    <tr>\n",
       "      <th>4</th>\n",
       "      <td>4</td>\n",
       "      <td>0000004.bin</td>\n",
       "      <td>100000000.0</td>\n",
       "    </tr>\n",
       "  </tbody>\n",
       "</table>\n",
       "</div>"
      ],
      "text/plain": [
       "   Unnamed: 0.1    runstring            t\n",
       "0             0  0000000.bin  100000000.0\n",
       "1             1  0000001.bin  100000000.0\n",
       "2             2  0000002.bin  100000000.0\n",
       "3             3  0000003.bin  100000000.0\n",
       "4             4  0000004.bin  100000000.0"
      ]
     },
     "execution_count": 13,
     "metadata": {},
     "output_type": "execute_result"
    }
   ],
   "source": [
    "times = pd.read_csv(\"../../Long300/Sys_99_1e8.csv\", index_col=0)\n",
    "times.head()"
   ]
  },
  {
   "cell_type": "code",
   "execution_count": 15,
   "metadata": {
    "collapsed": false
   },
   "outputs": [
    {
     "data": {
      "text/html": [
       "<div>\n",
       "<style>\n",
       "    .dataframe thead tr:only-child th {\n",
       "        text-align: right;\n",
       "    }\n",
       "\n",
       "    .dataframe thead th {\n",
       "        text-align: left;\n",
       "    }\n",
       "\n",
       "    .dataframe tbody tr th {\n",
       "        vertical-align: top;\n",
       "    }\n",
       "</style>\n",
       "<table border=\"1\" class=\"dataframe\">\n",
       "  <thead>\n",
       "    <tr style=\"text-align: right;\">\n",
       "      <th></th>\n",
       "      <th>Unnamed: 0.1</th>\n",
       "      <th>runstring</th>\n",
       "      <th>t</th>\n",
       "    </tr>\n",
       "  </thead>\n",
       "  <tbody>\n",
       "    <tr>\n",
       "      <th>164</th>\n",
       "      <td>164</td>\n",
       "      <td>0000164.bin</td>\n",
       "      <td>9.618883e+07</td>\n",
       "    </tr>\n",
       "  </tbody>\n",
       "</table>\n",
       "</div>"
      ],
      "text/plain": [
       "     Unnamed: 0.1    runstring             t\n",
       "164           164  0000164.bin  9.618883e+07"
      ]
     },
     "execution_count": 15,
     "metadata": {},
     "output_type": "execute_result"
    }
   ],
   "source": [
    "times[times[\"t\"] < 100000000.]"
   ]
  },
  {
   "cell_type": "code",
   "execution_count": 18,
   "metadata": {
    "collapsed": false
   },
   "outputs": [
    {
     "data": {
      "text/plain": [
       "runstring           0000164.bin\n",
       "Stable                        0\n",
       "instability_time    1.99695e+08\n",
       "Rel_Eerr            5.63444e-08\n",
       "RHill12              0.00691794\n",
       "RHill23               0.0312102\n",
       "beta12                  14.4268\n",
       "beta23                  18.5464\n",
       "m1                  1.93199e-07\n",
       "a1                            1\n",
       "P1                            1\n",
       "e1                  0.000190132\n",
       "pomega1                   1.988\n",
       "inc1                  0.0533739\n",
       "Omega1                 0.693574\n",
       "f1                     -3.45339\n",
       "m2                  8.00036e-07\n",
       "a2                       1.0998\n",
       "P2                      1.15338\n",
       "e2                   0.00284821\n",
       "pomega2               -0.349004\n",
       "inc2                 0.00238704\n",
       "Omega2                 -1.82626\n",
       "f2                    -0.976996\n",
       "m3                  6.77594e-05\n",
       "a3                      1.67864\n",
       "P3                      2.17482\n",
       "e3                  7.02296e-06\n",
       "pomega3                0.711998\n",
       "inc3                  0.0490256\n",
       "Omega3                 0.553572\n",
       "f3                      2.30495\n",
       "Name: 164, dtype: object"
      ]
     },
     "execution_count": 18,
     "metadata": {},
     "output_type": "execute_result"
    }
   ],
   "source": [
    "#come this time with the one discovered initially\n",
    "all_systems = pd.read_csv(\"../csvs/initial_orbital_elements.csv\", index_col=0)\n",
    "all_systems.loc[164]"
   ]
  },
  {
   "cell_type": "code",
   "execution_count": null,
   "metadata": {
    "collapsed": true
   },
   "outputs": [],
   "source": []
  }
 ],
 "metadata": {
  "anaconda-cloud": {},
  "kernelspec": {
   "display_name": "Python [default]",
   "language": "python",
   "name": "python2"
  },
  "language_info": {
   "codemirror_mode": {
    "name": "ipython",
    "version": 2
   },
   "file_extension": ".py",
   "mimetype": "text/x-python",
   "name": "python",
   "nbconvert_exporter": "python",
   "pygments_lexer": "ipython2",
   "version": "2.7.12"
  }
 },
 "nbformat": 4,
 "nbformat_minor": 1
}
