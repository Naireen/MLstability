{
 "cells": [
  {
   "cell_type": "code",
   "execution_count": 91,
   "metadata": {
    "collapsed": false
   },
   "outputs": [],
   "source": [
    "import scipy.stats as stats\n",
    "from scipy.integrate import quad\n",
    "import scipy\n",
    "import numpy as np\n",
    "import pandas as pd\n",
    "import time\n",
    "import matplotlib\n",
    "from matplotlib import pyplot as plt\n",
    "%matplotlib inline\n",
    "from scipy.optimize import curve_fit"
   ]
  },
  {
   "cell_type": "code",
   "execution_count": 92,
   "metadata": {
    "collapsed": false
   },
   "outputs": [
    {
     "name": "stdout",
     "output_type": "stream",
     "text": [
      "7.983124662889999\n"
     ]
    }
   ],
   "source": [
    "#load the parameters, and their short int feats?\n",
    "parameters = pd.read_csv(\"../../Figures/MCMCFigures/Weibull_Parameters_266.csv\", index_col =0 )\n",
    "#parameters.head(5)\n",
    "parameters[parameters[\"Gamma\"]<1][:10]\n",
    "print parameters[\"Location\"].max()"
   ]
  },
  {
   "cell_type": "code",
   "execution_count": 214,
   "metadata": {
    "collapsed": false
   },
   "outputs": [],
   "source": [
    "short_feats = pd.read_csv(\"../../csvs/BetaFeats/sifOrbsMore=10000.0Nout=100window=10.csv\", index_col =0 )\n",
    "#short_feats.head()"
   ]
  },
  {
   "cell_type": "code",
   "execution_count": 215,
   "metadata": {
    "collapsed": false
   },
   "outputs": [
    {
     "data": {
      "text/html": [
       "<div>\n",
       "<style>\n",
       "    .dataframe thead tr:only-child th {\n",
       "        text-align: right;\n",
       "    }\n",
       "\n",
       "    .dataframe thead th {\n",
       "        text-align: left;\n",
       "    }\n",
       "\n",
       "    .dataframe tbody tr th {\n",
       "        vertical-align: top;\n",
       "    }\n",
       "</style>\n",
       "<table border=\"1\" class=\"dataframe\">\n",
       "  <thead>\n",
       "    <tr style=\"text-align: right;\">\n",
       "      <th></th>\n",
       "      <th>runstring</th>\n",
       "      <th>t_final_short</th>\n",
       "      <th>Rel_Eerr_short</th>\n",
       "      <th>avg_beta12</th>\n",
       "      <th>std_beta12</th>\n",
       "      <th>min_beta12</th>\n",
       "      <th>max_beta12</th>\n",
       "      <th>avg_beta23</th>\n",
       "      <th>std_beta23</th>\n",
       "      <th>min_beta23</th>\n",
       "      <th>...</th>\n",
       "      <th>min_iH3</th>\n",
       "      <th>avg_ecross3</th>\n",
       "      <th>std_ecross3</th>\n",
       "      <th>max_ecross3</th>\n",
       "      <th>min_ecross3</th>\n",
       "      <th>norm_a3_slope</th>\n",
       "      <th>wall_time</th>\n",
       "      <th>Stable</th>\n",
       "      <th>instability_time</th>\n",
       "      <th>Rel_Eerr</th>\n",
       "    </tr>\n",
       "  </thead>\n",
       "  <tbody>\n",
       "    <tr>\n",
       "      <th>1007</th>\n",
       "      <td>0001007.bin</td>\n",
       "      <td>10000.0</td>\n",
       "      <td>5.206029e-08</td>\n",
       "      <td>26.732355</td>\n",
       "      <td>0.043882</td>\n",
       "      <td>26.638832</td>\n",
       "      <td>26.835809</td>\n",
       "      <td>22.424908</td>\n",
       "      <td>0.341923</td>\n",
       "      <td>21.606912</td>\n",
       "      <td>...</td>\n",
       "      <td>0.499930</td>\n",
       "      <td>0.039808</td>\n",
       "      <td>0.016937</td>\n",
       "      <td>0.857421</td>\n",
       "      <td>0.714777</td>\n",
       "      <td>-1.082651e-08</td>\n",
       "      <td>0.388264</td>\n",
       "      <td>0.0</td>\n",
       "      <td>1.740364e+05</td>\n",
       "      <td>1.526402e-06</td>\n",
       "    </tr>\n",
       "    <tr>\n",
       "      <th>1021</th>\n",
       "      <td>0001021.bin</td>\n",
       "      <td>10000.0</td>\n",
       "      <td>4.398308e-09</td>\n",
       "      <td>8.336482</td>\n",
       "      <td>0.024231</td>\n",
       "      <td>8.275415</td>\n",
       "      <td>8.384433</td>\n",
       "      <td>12.815548</td>\n",
       "      <td>0.038202</td>\n",
       "      <td>12.731072</td>\n",
       "      <td>...</td>\n",
       "      <td>1.145887</td>\n",
       "      <td>0.367925</td>\n",
       "      <td>0.174110</td>\n",
       "      <td>0.029881</td>\n",
       "      <td>0.001526</td>\n",
       "      <td>-3.842643e-12</td>\n",
       "      <td>0.383372</td>\n",
       "      <td>0.0</td>\n",
       "      <td>2.689650e+06</td>\n",
       "      <td>1.961156e-07</td>\n",
       "    </tr>\n",
       "    <tr>\n",
       "      <th>1025</th>\n",
       "      <td>0001025.bin</td>\n",
       "      <td>10000.0</td>\n",
       "      <td>7.781939e-09</td>\n",
       "      <td>7.685149</td>\n",
       "      <td>0.040514</td>\n",
       "      <td>7.621851</td>\n",
       "      <td>7.766875</td>\n",
       "      <td>20.608268</td>\n",
       "      <td>0.027135</td>\n",
       "      <td>20.550142</td>\n",
       "      <td>...</td>\n",
       "      <td>0.214459</td>\n",
       "      <td>0.010761</td>\n",
       "      <td>0.000136</td>\n",
       "      <td>0.375722</td>\n",
       "      <td>0.365670</td>\n",
       "      <td>2.354612e-12</td>\n",
       "      <td>0.382403</td>\n",
       "      <td>0.0</td>\n",
       "      <td>6.744500e+05</td>\n",
       "      <td>9.745464e-10</td>\n",
       "    </tr>\n",
       "    <tr>\n",
       "      <th>1041</th>\n",
       "      <td>0001041.bin</td>\n",
       "      <td>10000.0</td>\n",
       "      <td>1.961802e-09</td>\n",
       "      <td>23.388121</td>\n",
       "      <td>0.004581</td>\n",
       "      <td>23.377418</td>\n",
       "      <td>23.395434</td>\n",
       "      <td>7.072915</td>\n",
       "      <td>0.105877</td>\n",
       "      <td>6.906414</td>\n",
       "      <td>...</td>\n",
       "      <td>9.175108</td>\n",
       "      <td>1.434662</td>\n",
       "      <td>0.050702</td>\n",
       "      <td>0.712976</td>\n",
       "      <td>0.578283</td>\n",
       "      <td>2.174409e-12</td>\n",
       "      <td>0.393527</td>\n",
       "      <td>0.0</td>\n",
       "      <td>7.144115e+05</td>\n",
       "      <td>1.061513e-07</td>\n",
       "    </tr>\n",
       "    <tr>\n",
       "      <th>10518</th>\n",
       "      <td>0010518.bin</td>\n",
       "      <td>10000.0</td>\n",
       "      <td>8.140560e-09</td>\n",
       "      <td>17.738335</td>\n",
       "      <td>0.016146</td>\n",
       "      <td>17.683682</td>\n",
       "      <td>17.771795</td>\n",
       "      <td>21.168231</td>\n",
       "      <td>0.009907</td>\n",
       "      <td>21.148539</td>\n",
       "      <td>...</td>\n",
       "      <td>3.865721</td>\n",
       "      <td>0.184720</td>\n",
       "      <td>0.000841</td>\n",
       "      <td>0.379382</td>\n",
       "      <td>0.373758</td>\n",
       "      <td>1.147297e-12</td>\n",
       "      <td>0.314230</td>\n",
       "      <td>0.0</td>\n",
       "      <td>9.271272e+06</td>\n",
       "      <td>4.160501e-07</td>\n",
       "    </tr>\n",
       "  </tbody>\n",
       "</table>\n",
       "<p>5 rows × 126 columns</p>\n",
       "</div>"
      ],
      "text/plain": [
       "         runstring  t_final_short  Rel_Eerr_short  avg_beta12  std_beta12  \\\n",
       "1007   0001007.bin        10000.0    5.206029e-08   26.732355    0.043882   \n",
       "1021   0001021.bin        10000.0    4.398308e-09    8.336482    0.024231   \n",
       "1025   0001025.bin        10000.0    7.781939e-09    7.685149    0.040514   \n",
       "1041   0001041.bin        10000.0    1.961802e-09   23.388121    0.004581   \n",
       "10518  0010518.bin        10000.0    8.140560e-09   17.738335    0.016146   \n",
       "\n",
       "       min_beta12  max_beta12  avg_beta23  std_beta23  min_beta23  \\\n",
       "1007    26.638832   26.835809   22.424908    0.341923   21.606912   \n",
       "1021     8.275415    8.384433   12.815548    0.038202   12.731072   \n",
       "1025     7.621851    7.766875   20.608268    0.027135   20.550142   \n",
       "1041    23.377418   23.395434    7.072915    0.105877    6.906414   \n",
       "10518   17.683682   17.771795   21.168231    0.009907   21.148539   \n",
       "\n",
       "           ...        min_iH3  avg_ecross3  std_ecross3  max_ecross3  \\\n",
       "1007       ...       0.499930     0.039808     0.016937     0.857421   \n",
       "1021       ...       1.145887     0.367925     0.174110     0.029881   \n",
       "1025       ...       0.214459     0.010761     0.000136     0.375722   \n",
       "1041       ...       9.175108     1.434662     0.050702     0.712976   \n",
       "10518      ...       3.865721     0.184720     0.000841     0.379382   \n",
       "\n",
       "       min_ecross3  norm_a3_slope  wall_time  Stable  instability_time  \\\n",
       "1007      0.714777  -1.082651e-08   0.388264     0.0      1.740364e+05   \n",
       "1021      0.001526  -3.842643e-12   0.383372     0.0      2.689650e+06   \n",
       "1025      0.365670   2.354612e-12   0.382403     0.0      6.744500e+05   \n",
       "1041      0.578283   2.174409e-12   0.393527     0.0      7.144115e+05   \n",
       "10518     0.373758   1.147297e-12   0.314230     0.0      9.271272e+06   \n",
       "\n",
       "           Rel_Eerr  \n",
       "1007   1.526402e-06  \n",
       "1021   1.961156e-07  \n",
       "1025   9.745464e-10  \n",
       "1041   1.061513e-07  \n",
       "10518  4.160501e-07  \n",
       "\n",
       "[5 rows x 126 columns]"
      ]
     },
     "execution_count": 215,
     "metadata": {},
     "output_type": "execute_result"
    }
   ],
   "source": [
    "subsystem = parameters[\"ID\"].values.astype(int)\n",
    "sub_short = short_feats.loc[subsystem]\n",
    "sub_short.head()"
   ]
  },
  {
   "cell_type": "markdown",
   "metadata": {},
   "source": [
    "#do a check how manysytems are valid, as we are only considering systems with an instability time range between 10^4 to ~10^6 (<\\10^7), but there are some with lower time scales"
   ]
  },
  {
   "cell_type": "code",
   "execution_count": 216,
   "metadata": {
    "collapsed": false
   },
   "outputs": [
    {
     "name": "stdout",
     "output_type": "stream",
     "text": [
      "Int64Index([13362, 2008, 2105, 2128, 22032, 24013, 2612, 4641, 58, 7341, 8582], dtype='int64')\n",
      "(11, 126) (266, 126)\n"
     ]
    },
    {
     "data": {
      "text/html": [
       "<div>\n",
       "<style>\n",
       "    .dataframe thead tr:only-child th {\n",
       "        text-align: right;\n",
       "    }\n",
       "\n",
       "    .dataframe thead th {\n",
       "        text-align: left;\n",
       "    }\n",
       "\n",
       "    .dataframe tbody tr th {\n",
       "        vertical-align: top;\n",
       "    }\n",
       "</style>\n",
       "<table border=\"1\" class=\"dataframe\">\n",
       "  <thead>\n",
       "    <tr style=\"text-align: right;\">\n",
       "      <th></th>\n",
       "      <th>runstring</th>\n",
       "      <th>t_final_short</th>\n",
       "      <th>Rel_Eerr_short</th>\n",
       "      <th>avg_beta12</th>\n",
       "      <th>std_beta12</th>\n",
       "      <th>min_beta12</th>\n",
       "      <th>max_beta12</th>\n",
       "      <th>avg_beta23</th>\n",
       "      <th>std_beta23</th>\n",
       "      <th>min_beta23</th>\n",
       "      <th>...</th>\n",
       "      <th>min_iH3</th>\n",
       "      <th>avg_ecross3</th>\n",
       "      <th>std_ecross3</th>\n",
       "      <th>max_ecross3</th>\n",
       "      <th>min_ecross3</th>\n",
       "      <th>norm_a3_slope</th>\n",
       "      <th>wall_time</th>\n",
       "      <th>Stable</th>\n",
       "      <th>instability_time</th>\n",
       "      <th>Rel_Eerr</th>\n",
       "    </tr>\n",
       "  </thead>\n",
       "  <tbody>\n",
       "    <tr>\n",
       "      <th>13362</th>\n",
       "      <td>0013362.bin</td>\n",
       "      <td>10000.000000</td>\n",
       "      <td>0.000321</td>\n",
       "      <td>15.180236</td>\n",
       "      <td>11.189947</td>\n",
       "      <td>-6.526938</td>\n",
       "      <td>32.075308</td>\n",
       "      <td>-1.758383</td>\n",
       "      <td>17.267010</td>\n",
       "      <td>-23.963283</td>\n",
       "      <td>...</td>\n",
       "      <td>2.388276</td>\n",
       "      <td>0.157065</td>\n",
       "      <td>0.018752</td>\n",
       "      <td>0.211224</td>\n",
       "      <td>0.003627</td>\n",
       "      <td>-5.543712e-10</td>\n",
       "      <td>0.350045</td>\n",
       "      <td>0.0</td>\n",
       "      <td>74.822493</td>\n",
       "      <td>5.935752e-08</td>\n",
       "    </tr>\n",
       "    <tr>\n",
       "      <th>2008</th>\n",
       "      <td>0002008.bin</td>\n",
       "      <td>10000.000000</td>\n",
       "      <td>0.001348</td>\n",
       "      <td>9.648130</td>\n",
       "      <td>2.145408</td>\n",
       "      <td>1.289986</td>\n",
       "      <td>11.389790</td>\n",
       "      <td>6.914694</td>\n",
       "      <td>4.494719</td>\n",
       "      <td>4.653474</td>\n",
       "      <td>...</td>\n",
       "      <td>0.030574</td>\n",
       "      <td>0.640889</td>\n",
       "      <td>0.373052</td>\n",
       "      <td>0.227041</td>\n",
       "      <td>0.006782</td>\n",
       "      <td>-1.067556e-08</td>\n",
       "      <td>0.337121</td>\n",
       "      <td>0.0</td>\n",
       "      <td>195.093640</td>\n",
       "      <td>1.324071e-06</td>\n",
       "    </tr>\n",
       "    <tr>\n",
       "      <th>2105</th>\n",
       "      <td>0002105.bin</td>\n",
       "      <td>10000.000000</td>\n",
       "      <td>0.091443</td>\n",
       "      <td>19.063635</td>\n",
       "      <td>3.436111</td>\n",
       "      <td>15.067219</td>\n",
       "      <td>27.800055</td>\n",
       "      <td>30.988660</td>\n",
       "      <td>18.261569</td>\n",
       "      <td>-2.304971</td>\n",
       "      <td>...</td>\n",
       "      <td>0.514317</td>\n",
       "      <td>2.447895</td>\n",
       "      <td>1.042210</td>\n",
       "      <td>7.464887</td>\n",
       "      <td>0.097789</td>\n",
       "      <td>7.777267e-07</td>\n",
       "      <td>0.395936</td>\n",
       "      <td>0.0</td>\n",
       "      <td>142.928813</td>\n",
       "      <td>3.060674e-06</td>\n",
       "    </tr>\n",
       "    <tr>\n",
       "      <th>2128</th>\n",
       "      <td>0002128.bin</td>\n",
       "      <td>9899.755103</td>\n",
       "      <td>0.001129</td>\n",
       "      <td>9.928947</td>\n",
       "      <td>1.485805</td>\n",
       "      <td>7.374275</td>\n",
       "      <td>11.839157</td>\n",
       "      <td>3.357271</td>\n",
       "      <td>5.066631</td>\n",
       "      <td>-4.212845</td>\n",
       "      <td>...</td>\n",
       "      <td>0.945496</td>\n",
       "      <td>1.132426</td>\n",
       "      <td>0.423725</td>\n",
       "      <td>3.547770</td>\n",
       "      <td>0.118831</td>\n",
       "      <td>6.977274e-08</td>\n",
       "      <td>0.385283</td>\n",
       "      <td>0.0</td>\n",
       "      <td>169.325268</td>\n",
       "      <td>1.658549e-06</td>\n",
       "    </tr>\n",
       "    <tr>\n",
       "      <th>22032</th>\n",
       "      <td>0022032.bin</td>\n",
       "      <td>9768.838945</td>\n",
       "      <td>0.016778</td>\n",
       "      <td>8.166863</td>\n",
       "      <td>13.073396</td>\n",
       "      <td>-8.465782</td>\n",
       "      <td>50.110106</td>\n",
       "      <td>17.832222</td>\n",
       "      <td>8.185106</td>\n",
       "      <td>-4.642923</td>\n",
       "      <td>...</td>\n",
       "      <td>0.087702</td>\n",
       "      <td>0.113300</td>\n",
       "      <td>0.039438</td>\n",
       "      <td>0.375961</td>\n",
       "      <td>0.115814</td>\n",
       "      <td>-6.031261e-10</td>\n",
       "      <td>0.413043</td>\n",
       "      <td>0.0</td>\n",
       "      <td>79.465169</td>\n",
       "      <td>1.199905e-05</td>\n",
       "    </tr>\n",
       "    <tr>\n",
       "      <th>24013</th>\n",
       "      <td>0024013.bin</td>\n",
       "      <td>10000.000000</td>\n",
       "      <td>0.055335</td>\n",
       "      <td>-4.408785</td>\n",
       "      <td>11.108835</td>\n",
       "      <td>-19.456597</td>\n",
       "      <td>11.933935</td>\n",
       "      <td>35.467347</td>\n",
       "      <td>38.363735</td>\n",
       "      <td>-5.001899</td>\n",
       "      <td>...</td>\n",
       "      <td>0.253701</td>\n",
       "      <td>1.189934</td>\n",
       "      <td>0.825351</td>\n",
       "      <td>4.201093</td>\n",
       "      <td>0.150344</td>\n",
       "      <td>-4.184932e-08</td>\n",
       "      <td>0.380108</td>\n",
       "      <td>0.0</td>\n",
       "      <td>92.075319</td>\n",
       "      <td>1.584756e-06</td>\n",
       "    </tr>\n",
       "    <tr>\n",
       "      <th>2612</th>\n",
       "      <td>0002612.bin</td>\n",
       "      <td>10000.000000</td>\n",
       "      <td>0.000008</td>\n",
       "      <td>8.283632</td>\n",
       "      <td>1.799103</td>\n",
       "      <td>3.160358</td>\n",
       "      <td>12.522809</td>\n",
       "      <td>14.883222</td>\n",
       "      <td>0.167518</td>\n",
       "      <td>14.707546</td>\n",
       "      <td>...</td>\n",
       "      <td>1.883693</td>\n",
       "      <td>0.125546</td>\n",
       "      <td>0.001741</td>\n",
       "      <td>0.482498</td>\n",
       "      <td>0.468737</td>\n",
       "      <td>-1.786871e-10</td>\n",
       "      <td>0.403102</td>\n",
       "      <td>0.0</td>\n",
       "      <td>575.317901</td>\n",
       "      <td>1.885941e-08</td>\n",
       "    </tr>\n",
       "    <tr>\n",
       "      <th>4641</th>\n",
       "      <td>0004641.bin</td>\n",
       "      <td>10000.000000</td>\n",
       "      <td>0.001398</td>\n",
       "      <td>5.860893</td>\n",
       "      <td>2.747184</td>\n",
       "      <td>0.724268</td>\n",
       "      <td>13.474425</td>\n",
       "      <td>25.025117</td>\n",
       "      <td>0.329004</td>\n",
       "      <td>24.112284</td>\n",
       "      <td>...</td>\n",
       "      <td>0.173387</td>\n",
       "      <td>0.043891</td>\n",
       "      <td>0.034162</td>\n",
       "      <td>0.103647</td>\n",
       "      <td>0.003224</td>\n",
       "      <td>6.031947e-12</td>\n",
       "      <td>0.404600</td>\n",
       "      <td>0.0</td>\n",
       "      <td>283.917037</td>\n",
       "      <td>3.190056e-06</td>\n",
       "    </tr>\n",
       "    <tr>\n",
       "      <th>58</th>\n",
       "      <td>0000058.bin</td>\n",
       "      <td>9918.423509</td>\n",
       "      <td>0.000250</td>\n",
       "      <td>27.792111</td>\n",
       "      <td>6.878077</td>\n",
       "      <td>16.112694</td>\n",
       "      <td>49.326185</td>\n",
       "      <td>2.959052</td>\n",
       "      <td>4.440089</td>\n",
       "      <td>-9.942672</td>\n",
       "      <td>...</td>\n",
       "      <td>2.523245</td>\n",
       "      <td>1.318133</td>\n",
       "      <td>0.087513</td>\n",
       "      <td>0.265713</td>\n",
       "      <td>0.025384</td>\n",
       "      <td>5.318945e-09</td>\n",
       "      <td>0.385044</td>\n",
       "      <td>0.0</td>\n",
       "      <td>5325.868318</td>\n",
       "      <td>1.959029e-08</td>\n",
       "    </tr>\n",
       "    <tr>\n",
       "      <th>7341</th>\n",
       "      <td>0007341.bin</td>\n",
       "      <td>9763.030115</td>\n",
       "      <td>0.001757</td>\n",
       "      <td>5.670086</td>\n",
       "      <td>8.931890</td>\n",
       "      <td>-15.126648</td>\n",
       "      <td>13.668682</td>\n",
       "      <td>15.729751</td>\n",
       "      <td>11.317428</td>\n",
       "      <td>-2.511966</td>\n",
       "      <td>...</td>\n",
       "      <td>0.255632</td>\n",
       "      <td>0.366331</td>\n",
       "      <td>0.355547</td>\n",
       "      <td>2.392509</td>\n",
       "      <td>0.026282</td>\n",
       "      <td>1.341146e-07</td>\n",
       "      <td>0.362352</td>\n",
       "      <td>0.0</td>\n",
       "      <td>583.527458</td>\n",
       "      <td>5.372349e-08</td>\n",
       "    </tr>\n",
       "    <tr>\n",
       "      <th>8582</th>\n",
       "      <td>0008582.bin</td>\n",
       "      <td>10000.000000</td>\n",
       "      <td>0.497620</td>\n",
       "      <td>-18.834250</td>\n",
       "      <td>7.707634</td>\n",
       "      <td>-22.528494</td>\n",
       "      <td>5.464226</td>\n",
       "      <td>-23.802767</td>\n",
       "      <td>18.127286</td>\n",
       "      <td>-35.901423</td>\n",
       "      <td>...</td>\n",
       "      <td>1.463468</td>\n",
       "      <td>1.629409</td>\n",
       "      <td>0.956983</td>\n",
       "      <td>16.115651</td>\n",
       "      <td>0.147467</td>\n",
       "      <td>-6.938860e-06</td>\n",
       "      <td>0.385096</td>\n",
       "      <td>0.0</td>\n",
       "      <td>99.177176</td>\n",
       "      <td>4.704794e-07</td>\n",
       "    </tr>\n",
       "  </tbody>\n",
       "</table>\n",
       "<p>11 rows × 126 columns</p>\n",
       "</div>"
      ],
      "text/plain": [
       "         runstring  t_final_short  Rel_Eerr_short  avg_beta12  std_beta12  \\\n",
       "13362  0013362.bin   10000.000000        0.000321   15.180236   11.189947   \n",
       "2008   0002008.bin   10000.000000        0.001348    9.648130    2.145408   \n",
       "2105   0002105.bin   10000.000000        0.091443   19.063635    3.436111   \n",
       "2128   0002128.bin    9899.755103        0.001129    9.928947    1.485805   \n",
       "22032  0022032.bin    9768.838945        0.016778    8.166863   13.073396   \n",
       "24013  0024013.bin   10000.000000        0.055335   -4.408785   11.108835   \n",
       "2612   0002612.bin   10000.000000        0.000008    8.283632    1.799103   \n",
       "4641   0004641.bin   10000.000000        0.001398    5.860893    2.747184   \n",
       "58     0000058.bin    9918.423509        0.000250   27.792111    6.878077   \n",
       "7341   0007341.bin    9763.030115        0.001757    5.670086    8.931890   \n",
       "8582   0008582.bin   10000.000000        0.497620  -18.834250    7.707634   \n",
       "\n",
       "       min_beta12  max_beta12  avg_beta23  std_beta23  min_beta23  \\\n",
       "13362   -6.526938   32.075308   -1.758383   17.267010  -23.963283   \n",
       "2008     1.289986   11.389790    6.914694    4.494719    4.653474   \n",
       "2105    15.067219   27.800055   30.988660   18.261569   -2.304971   \n",
       "2128     7.374275   11.839157    3.357271    5.066631   -4.212845   \n",
       "22032   -8.465782   50.110106   17.832222    8.185106   -4.642923   \n",
       "24013  -19.456597   11.933935   35.467347   38.363735   -5.001899   \n",
       "2612     3.160358   12.522809   14.883222    0.167518   14.707546   \n",
       "4641     0.724268   13.474425   25.025117    0.329004   24.112284   \n",
       "58      16.112694   49.326185    2.959052    4.440089   -9.942672   \n",
       "7341   -15.126648   13.668682   15.729751   11.317428   -2.511966   \n",
       "8582   -22.528494    5.464226  -23.802767   18.127286  -35.901423   \n",
       "\n",
       "           ...        min_iH3  avg_ecross3  std_ecross3  max_ecross3  \\\n",
       "13362      ...       2.388276     0.157065     0.018752     0.211224   \n",
       "2008       ...       0.030574     0.640889     0.373052     0.227041   \n",
       "2105       ...       0.514317     2.447895     1.042210     7.464887   \n",
       "2128       ...       0.945496     1.132426     0.423725     3.547770   \n",
       "22032      ...       0.087702     0.113300     0.039438     0.375961   \n",
       "24013      ...       0.253701     1.189934     0.825351     4.201093   \n",
       "2612       ...       1.883693     0.125546     0.001741     0.482498   \n",
       "4641       ...       0.173387     0.043891     0.034162     0.103647   \n",
       "58         ...       2.523245     1.318133     0.087513     0.265713   \n",
       "7341       ...       0.255632     0.366331     0.355547     2.392509   \n",
       "8582       ...       1.463468     1.629409     0.956983    16.115651   \n",
       "\n",
       "       min_ecross3  norm_a3_slope  wall_time  Stable  instability_time  \\\n",
       "13362     0.003627  -5.543712e-10   0.350045     0.0         74.822493   \n",
       "2008      0.006782  -1.067556e-08   0.337121     0.0        195.093640   \n",
       "2105      0.097789   7.777267e-07   0.395936     0.0        142.928813   \n",
       "2128      0.118831   6.977274e-08   0.385283     0.0        169.325268   \n",
       "22032     0.115814  -6.031261e-10   0.413043     0.0         79.465169   \n",
       "24013     0.150344  -4.184932e-08   0.380108     0.0         92.075319   \n",
       "2612      0.468737  -1.786871e-10   0.403102     0.0        575.317901   \n",
       "4641      0.003224   6.031947e-12   0.404600     0.0        283.917037   \n",
       "58        0.025384   5.318945e-09   0.385044     0.0       5325.868318   \n",
       "7341      0.026282   1.341146e-07   0.362352     0.0        583.527458   \n",
       "8582      0.147467  -6.938860e-06   0.385096     0.0         99.177176   \n",
       "\n",
       "           Rel_Eerr  \n",
       "13362  5.935752e-08  \n",
       "2008   1.324071e-06  \n",
       "2105   3.060674e-06  \n",
       "2128   1.658549e-06  \n",
       "22032  1.199905e-05  \n",
       "24013  1.584756e-06  \n",
       "2612   1.885941e-08  \n",
       "4641   3.190056e-06  \n",
       "58     1.959029e-08  \n",
       "7341   5.372349e-08  \n",
       "8582   4.704794e-07  \n",
       "\n",
       "[11 rows x 126 columns]"
      ]
     },
     "execution_count": 216,
     "metadata": {},
     "output_type": "execute_result"
    }
   ],
   "source": [
    "discard = sub_short[sub_short[\"instability_time\"]<10000]\n",
    "print discard.index\n",
    "print discard.shape, sub_short.shape\n",
    "discard"
   ]
  },
  {
   "cell_type": "code",
   "execution_count": 96,
   "metadata": {
    "collapsed": false
   },
   "outputs": [],
   "source": [
    "def weib(loc, loc_fixed, gamma, alpha, x):\n",
    "    #assume x is log t\n",
    "    prob = (gamma/alpha)* ((loc-loc_fixed)/alpha)**(gamma-1.) * np.exp(-((loc-loc_fixed)/alpha)**gamma)\n",
    "    dist = (gamma/alpha)* ((x-loc)/alpha)**(gamma-1.) * np.exp(-((x-loc)/alpha)**gamma)\n",
    "    return prob*dist"
   ]
  },
  {
   "cell_type": "code",
   "execution_count": 217,
   "metadata": {
    "collapsed": false
   },
   "outputs": [],
   "source": [
    "#need to do a double integral\n",
    "#x must be an ARRAY\n",
    "def weib_pdf(x, loc,  gamma, alpha):\n",
    "    #assume x is log t\n",
    "    problematic = np.where(x<loc)[0]\n",
    "    fine = np.where(x>loc)[0]\n",
    "    prob = np.zeros_like(x)\n",
    "    prob[fine] = (gamma/alpha)* ((x[fine]-loc)/alpha)**(gamma-1.) * np.exp(-((x[fine]-loc)/alpha)**gamma)\n",
    "    prob[problematic]=0.\n",
    "    return prob"
   ]
  },
  {
   "cell_type": "code",
   "execution_count": 218,
   "metadata": {
    "collapsed": false
   },
   "outputs": [],
   "source": [
    "#need to do a double integral\n",
    "#x can be int or aray, but has poor error handling\n",
    "def weib_pdf_val(x, loc,  gamma, alpha):\n",
    "    #assume x is log t  \n",
    "    prob = (gamma/alpha)* ((x-loc)/alpha)**(gamma-1.) * np.exp(-((x-loc)/alpha)**gamma)\n",
    "    #print prob[fine]\n",
    "    return prob"
   ]
  },
  {
   "cell_type": "code",
   "execution_count": 219,
   "metadata": {
    "collapsed": false
   },
   "outputs": [
    {
     "data": {
      "text/plain": [
       "0.011692716127467438"
      ]
     },
     "execution_count": 219,
     "metadata": {},
     "output_type": "execute_result"
    }
   ],
   "source": [
    "#2.61402658322 1.28337089098 4.44752697372\n",
    "gamma = 2.61402658322\n",
    "alpha = 1.28337089098\n",
    "loc = 4.44752697372\n",
    "x = 4.5\n",
    "(gamma/alpha)* ((x-loc)/alpha)**(gamma-1.) * np.exp(-((x-loc)/alpha)**gamma)"
   ]
  },
  {
   "cell_type": "code",
   "execution_count": 220,
   "metadata": {
    "collapsed": true
   },
   "outputs": [],
   "source": [
    "# Define model function to be used to fit to the data above:\n",
    "def gauss(x, *p):\n",
    "    A, mu, sigma = p\n",
    "    return A*np.exp(-(x-mu)**2/(2.*sigma**2))"
   ]
  },
  {
   "cell_type": "code",
   "execution_count": 221,
   "metadata": {
    "collapsed": false
   },
   "outputs": [
    {
     "name": "stdout",
     "output_type": "stream",
     "text": [
      "Empty DataFrame\n",
      "Columns: [ID, Gamma, Location, Alpha]\n",
      "Index: []\n"
     ]
    }
   ],
   "source": [
    "print parameters[parameters[\"ID\"] ==1346.0]"
   ]
  },
  {
   "cell_type": "code",
   "execution_count": 222,
   "metadata": {
    "collapsed": false,
    "scrolled": true
   },
   "outputs": [
    {
     "name": "stdout",
     "output_type": "stream",
     "text": [
      "0.278281876623 0.08645099267470001 4.68683319613 4.726821129375294\n"
     ]
    },
    {
     "name": "stderr",
     "output_type": "stream",
     "text": [
      "/home/naireen/anaconda2/lib/python2.7/site-packages/ipykernel/__main__.py:5: RuntimeWarning: invalid value encountered in double_scalars\n"
     ]
    },
    {
     "name": "stdout",
     "output_type": "stream",
     "text": [
      "38.5391580626011\n",
      "15.45947118490553\n",
      "9.97052614084945\n",
      "7.426130004977072\n",
      "5.939672936809252\n",
      "4.958677845556246\n",
      "4.260156599166473\n",
      "3.7361772994481455\n",
      "3.3279001260333434\n",
      "3.000419169333623\n",
      "2.73167195563679\n",
      "2.5070076084046695\n",
      "2.3163036609657226\n",
      "2.1523351101061836\n",
      "2.0098028556969623\n",
      "1.8847295562962005\n",
      "1.7740700964021432\n",
      "1.6754525198754076\n",
      "1.5870010442221556\n",
      "1.5072122768490233\n",
      "1.4348668281974675\n",
      "1.3689650263159643\n",
      "1.3086793834870094\n",
      "1.2533189237635618\n",
      "1.20230204950967\n",
      "1.1551356490435312\n",
      "1.1113988291184218\n",
      "1.0707301180006452\n",
      "1.0328173032918226\n"
     ]
    },
    {
     "data": {
      "text/plain": [
       "<matplotlib.legend.Legend at 0x7fa10d95e510>"
      ]
     },
     "execution_count": 222,
     "metadata": {},
     "output_type": "execute_result"
    },
    {
     "data": {
      "image/png": "[encoded data removed]",
      "text/plain": [
       "<matplotlib.figure.Figure at 0x7fa10ddfa690>"
      ]
     },
     "metadata": {},
     "output_type": "display_data"
    },
    {
     "data": {
      "image/png": "[encoded data removed]",
      "text/plain": [
       "<matplotlib.figure.Figure at 0x7fa10d9d5a90>"
      ]
     },
     "metadata": {},
     "output_type": "display_data"
    }
   ],
   "source": [
    "\n",
    "index_val = 45\n",
    "#print \n",
    "label = parameters[\"ID\"][index_val]\n",
    "#print label\n",
    "gamma = parameters[\"Gamma\"][index_val]\n",
    "alpha = parameters[\"Alpha\"][index_val]\n",
    "loc = parameters[\"Location\"][index_val]\n",
    "x = np.log10(sub_short[\"instability_time\"].values[index_val])\n",
    "print gamma, alpha, loc, x \n",
    "from scipy.stats import norm\n",
    "#fig = plt.figure(figsize=(8,12))\n",
    "fig, (ax, ax2, ax3) = plt.subplots(3)\n",
    "fig.tight_layout()\n",
    "fig.set_size_inches((8, 12))\n",
    "fig.suptitle(\"System {0}\".format(int(label)))\n",
    "\n",
    "fig.subplots_adjust(hspace=0)\n",
    "#ax = fig.add_subplot(\"311\")\n",
    "width = 200\n",
    "\n",
    "sigma_width = 4\n",
    "\n",
    "vals= np.linspace(loc- sigma_width*alpha, loc+alpha*sigma_width, width)\n",
    "final_y  = np.zeros(width)\n",
    "for i in range(int(vals.shape[0])):\n",
    "    \n",
    "    #try manually adding three different functions\n",
    "    bins = np.linspace(loc - sigma_width*alpha , loc+sigma_width*alpha, width)\n",
    "    val1 = vals[i]\n",
    "    exp_val = loc + alpha*scipy.special.gamma(1+ 1./gamma)\n",
    "    prob = weib_pdf_val(val1, loc, gamma, alpha)\n",
    "    if prob>1:\n",
    "        print prob\n",
    "    #print prob\n",
    "    \n",
    "    y_normal = weib_pdf(bins, val1, gamma, alpha)\n",
    "    #fair to say that new distribtions shouldn't be more likely than the real distribution  \n",
    "    y = prob*weib_pdf(bins, val1,gamma, alpha)\n",
    "    ax.plot(bins, y)\n",
    "    \n",
    "    final_y = np.nansum(np.asarray([y, final_y]), axis = 0)  #np.nansum(a=[y, final_y], axis= 1)\n",
    "\n",
    "    \n",
    "ax2.plot(bins, weib_pdf(bins, loc,gamma, alpha))\n",
    "#ax3 = fig.add_subplot(\"313\")\n",
    "ax.plot(bins, weib_pdf(bins, loc,gamma, alpha), linewidth = 3)\n",
    "\n",
    "final_y \n",
    "#print final_y\n",
    "ax3.plot(bins, final_y)\n",
    "ax3.set_xlabel(\"Log Time\")\n",
    "\n",
    "\n",
    "#plot cdf of original distribution\n",
    "plt.figure(figsize=(8, 4))\n",
    "cumul_y = np.cumsum(final_y)\n",
    "cumul_w = np.cumsum(weib_pdf(bins, loc,gamma, alpha))\n",
    "plt.plot(bins, cumul_y/cumul_y[-1], label = \"Gaussian Fit\")\n",
    "plt.plot(bins, cumul_w/cumul_w[-1], label = \"Original Weibull Distribution\")\n",
    "plt.legend()"
   ]
  },
  {
   "cell_type": "code",
   "execution_count": 224,
   "metadata": {
    "collapsed": true
   },
   "outputs": [],
   "source": [
    "def rms_error(y_true, y_test):\n",
    "    #assume the two are the same size, do a rsm error\n",
    "    error = 1./2**0.5 *(y_true-y_test)\n",
    "    return np.nansum(error)\n"
   ]
  },
  {
   "cell_type": "code",
   "execution_count": 225,
   "metadata": {
    "collapsed": false
   },
   "outputs": [
    {
     "name": "stdout",
     "output_type": "stream",
     "text": [
      "[4.19853207e+02 4.73950334e+00 5.36065000e-02]\n",
      "36.708342520237565\n",
      "28.2081664458371\n"
     ]
    },
    {
     "data": {
      "text/plain": [
       "0.6288980781344516"
      ]
     },
     "execution_count": 225,
     "metadata": {},
     "output_type": "execute_result"
    },
    {
     "data": {
      "image/png": "[encoded data removed]",
      "text/plain": [
       "<matplotlib.figure.Figure at 0x7fa10dfc2bd0>"
      ]
     },
     "metadata": {},
     "output_type": "display_data"
    }
   ],
   "source": [
    "p0 = [1., loc+alpha*sigma_width, alpha] #norm, mean, sigma\n",
    "coeff, var_matrix = scipy.optimize.curve_fit(gauss, bins, final_y, p0=p0)\n",
    "gauss_bins = np.linspace(loc-5*sigma_width , loc+7*sigma_width, width)\n",
    "\n",
    "print coeff\n",
    "\n",
    "hist_fit = gauss(bins, *coeff)\n",
    "hist_fit2 = gauss(gauss_bins, *coeff)\n",
    "#incrementing step\n",
    "delta_t = (( loc+sigma_width*alpha) -loc)/(width-1)\n",
    "\n",
    "summed_fit_area_weib = 0\n",
    "for val in final_y:\n",
    "    summed_fit_area_weib+=  val*delta_t \n",
    "print summed_fit_area_weib\n",
    "\n",
    "\n",
    "summed_fit_area_gauss = 0\n",
    "for val in hist_fit:\n",
    "    summed_fit_area_gauss+=  val*delta_t \n",
    "print summed_fit_area_gauss\n",
    "\n",
    "#plot normalized curves for visual inspection\n",
    "plt.plot(bins, final_y/summed_fit_area_weib)\n",
    "test_bins = np.linspace(coeff[1] - sigma_width*coeff[2], coeff[1] + sigma_width*coeff[2], width)\n",
    "plt.plot(test_bins, gauss(test_bins, *coeff)/summed_fit_area_gauss, color = \"green\")\n",
    "\n",
    "\n",
    "overlapp = np.concatenate([(final_y/summed_fit_area_weib).reshape(width,1), \n",
    "                           (hist_fit/summed_fit_area_gauss).reshape(width, 1)], axis = 1)\n",
    "overlapp.min(axis = 1).sum()*delta_t\n"
   ]
  },
  {
   "cell_type": "markdown",
   "metadata": {
    "collapsed": true
   },
   "source": [
    "Try doing this for all 145 systems"
   ]
  },
  {
   "cell_type": "code",
   "execution_count": 226,
   "metadata": {
    "collapsed": true
   },
   "outputs": [],
   "source": [
    "import time"
   ]
  },
  {
   "cell_type": "code",
   "execution_count": 227,
   "metadata": {
    "collapsed": false,
    "scrolled": true
   },
   "outputs": [
    {
     "name": "stderr",
     "output_type": "stream",
     "text": [
      "/home/naireen/anaconda2/lib/python2.7/site-packages/ipykernel/__main__.py:5: RuntimeWarning: invalid value encountered in double_scalars\n"
     ]
    },
    {
     "name": "stdout",
     "output_type": "stream",
     "text": [
      "0.9786900191781284 1007\n",
      "0.9930413607090315 1021\n",
      "0.9660852310012353 1025\n",
      "0.947522138294498 1041\n",
      "0.9314072089410153 10518\n",
      "0.9938892637051883 1052\n",
      "0.93823784956958 1107\n",
      "0.9900286720899578 1120\n",
      "0.8895993550957781 1124\n",
      "0.9708688126355204 1128\n",
      "0.993179225010749 1136\n",
      "0.958964781267186 1137\n",
      "0.9381766719498789 1138\n",
      "0.9766314260384287 1169\n",
      "0.9936918341920006 1174\n",
      "0.9663199052949074 1190\n",
      "0.9288635004349661 1194\n",
      "0.9798107297700088 1197\n",
      "0.9924178053649342 1\n",
      "0.9795602258932962 1204\n",
      "0.9655584257603179 1206\n",
      "0.9239009398169551 12073\n",
      "0.9890449105629043 1208\n",
      "0.982804636032084 1217\n",
      "0.9151351725063542 1223\n",
      "0.91752006269664 1230\n",
      "0.9680392400915948 1235\n",
      "0.9573029877942804 1237\n",
      "0.9629418415816531 1241\n",
      "0.9526264724236836 1248\n",
      "0.979941633369677 1251\n",
      "0.9927577021819983 1261\n",
      "0.9457702107915877 1266\n",
      "0.9889362312292151 1270\n",
      "0.8880429308514763 1277\n",
      "0.9661674056585179 12840\n",
      "0.9047676123899752 1308\n",
      "0.9502131494495548 1313\n",
      "0.9905062282065816 1323\n",
      "0.9786915887191376 1324\n"
     ]
    },
    {
     "name": "stderr",
     "output_type": "stream",
     "text": [
      "/home/naireen/anaconda2/lib/python2.7/site-packages/ipykernel/__main__.py:59: RuntimeWarning: invalid value encountered in divide\n"
     ]
    },
    {
     "name": "stdout",
     "output_type": "stream",
     "text": [
      "nan 13362\n",
      "0.9780921863897626 1337\n",
      "0.9664464875395552 1344\n",
      "0.968175297445549 1350\n",
      "0.9074065054458891 1356\n",
      "0.05975164286321736 1364\n",
      "0.9078476245899008 1366\n",
      "0.9848005262932052 1375\n",
      "0.9733035656112283 1379\n",
      "0.9184041606483374 1396\n",
      "0.9793100397776284 1403\n",
      "0.970448410371769 1408\n",
      "0.9826431474240823 1412\n",
      "0.6805519239081225 1424\n",
      "0.950852527173317 1426\n",
      "0.9675360885457365 1438\n",
      "0.8481671301006268 1449\n",
      "0.965168808214763 1476\n",
      "0.9482718739915621 1488\n",
      "0.9665879809397817 15003\n",
      "0.9591935923637522 1504\n",
      "0.9391594683780308 1507\n",
      "0.8249997851924307 1508\n",
      "0.9934658328913956 1513\n",
      "0.9797055300059456 1514\n",
      "0.9823107755930734 15220\n",
      "0.9920573360741958 1590\n",
      "0.9319779232509855 1598\n",
      "0.8545873051039089 1601\n",
      "0.9607313719738687 1613\n",
      "0.9937854602983485 1616\n",
      "0.9464283197794677 1617\n",
      "0.9734694129860593 1625\n",
      "0.9746840470177854 1627\n",
      "0.9840038483171775 1635\n",
      "0.9621756107535085 1636\n",
      "0.8911615995957493 1640\n",
      "0.9842172099804624 1646\n",
      "0.984704253456523 1648\n",
      "0.9855859991168258 1657\n",
      "0.9783875132381252 16588\n",
      "0.9647815435554082 1667\n",
      "0.9304066754883702 1675\n",
      "0.9721845290446524 1689\n",
      "0.9650436915877363 1691\n",
      "0.9124793136709827 1720\n",
      "0.936211494694125 1742\n",
      "0.9671618575180189 1753\n",
      "0.9776159862865291 17641\n",
      "0.9614594978504079 1766\n",
      "0.9932953374404244 1768\n",
      "0.9537725543060602 1775\n",
      "0.9460495169658225 1785\n",
      "0.9846549895212539 1791\n",
      "0.9592707859319333 1796\n",
      "0.9683133896684043 1799\n",
      "0.937686672605715 1805\n",
      "0.9761816172604257 1806\n",
      "0.9929171293538664 1810\n",
      "0.9823845750048122 1815\n",
      "0.9191218011586239 1819\n",
      "0.9834123329657521 1821\n",
      "0.9913430094564328 1823\n",
      "0.9718448773335918 1827\n",
      "0.858628317730672 1829\n",
      "0.9634558312191054 1831\n",
      "0.9456192134903294 1832\n",
      "0.8998842263346785 1837\n",
      "0.9491538405617971 1838\n",
      "0.9583365756140847 1843\n",
      "0.7995138718793362 1848\n",
      "0.9632581838148645 1850\n",
      "0.9860592285111479 1852\n",
      "0.9868127054239658 18539\n",
      "0.9721938750696671 18651\n",
      "0.94201104210124 1875\n",
      "0.9650344244533074 1877\n",
      "0.9483718935128724 1879\n",
      "0.8156809243002922 1880\n",
      "0.6808300568558668 1886\n",
      "0.9688569291105439 1899\n",
      "0.9914687960915287 1900\n",
      "0.9814733222990769 1911\n",
      "0.9864020921262643 1913\n",
      "0.9939182048271145 1918\n",
      "0.98238606627598 19197\n",
      "0.9938047778853616 1922\n",
      "0.9664370695776926 1924\n",
      "0.8574009905697096 1928\n",
      "0.9937098579080714 1929\n",
      "0.924844919257129 1942\n",
      "0.9767392933282585 1943\n",
      "0.880046003643971 1946\n",
      "0.9778744065980708 1954\n",
      "0.9291081068597944 1957\n",
      "0.9879873322841516 19591\n",
      "0.914652608847275 1971\n",
      "0.9576223274950835 1979\n",
      "0.9355597523879686 19898\n",
      "0.9438107034908605 1992\n",
      "0.9561934929705695 1996\n",
      "0.9640313596325065 1999\n",
      "0.9778196843151282 20041\n",
      "0.9482047024240762 2008\n",
      "0.8717779859633348 2010\n",
      "0.9884481369235305 2018\n",
      "0.9879623631023132 2030\n",
      "0.9770027577786216 2032\n",
      "0.8934212509122206 2048\n",
      "0.773725070958123 2059\n",
      "0.9483475471747627 20620\n",
      "0.9884223548955781 2062\n",
      "0.9854816390352685 2063\n",
      "0.9741358891507996 2066\n",
      "0.868759810138429 2077\n",
      "0.9936232229751009 2081\n",
      "0.9880821268129653 2083\n",
      "0.9878534154501566 2087\n",
      "0.9120934196539915 2094\n",
      "0.9727101069214178 2095\n",
      "0.9790338393388925 20972\n",
      "0.9528252640420662 2103\n",
      "0.024141547908771797 2105\n",
      "0.957554471217486 2107\n",
      "0.9671996554521402 2110\n",
      "0.9902453546771943 2113\n",
      "0.9687159962716214 2116\n",
      "0.9259370906573423 2117\n",
      "0.9704614892872435 21\n",
      "0.9616879972807457 2125\n",
      "0.9926743682179465 2126\n",
      "nan 2128\n",
      "0.990938532835837 2135\n",
      "0.9293249255244714 2145\n",
      "0.9446176145629939 2147\n",
      "0.9443520030168313 2159\n",
      "0.962153170006021 2161\n",
      "0.9799900644279977 2170\n",
      "0.9622917013564142 2173\n",
      "0.9738200080275613 2176\n",
      "0.8757940268961367 2179\n",
      "0.9736093138999072 2185\n",
      "0.938750090316922 21872\n",
      "0.9697370215714447 2190\n",
      "0.981837773548819 2197\n",
      "0.9811275599354937 2198\n",
      "0.9331798484459206 2203\n",
      "0.6739183894339354 22032\n",
      "0.9770902748809464 2206\n",
      "0.9863111844326548 2214\n",
      "0.8714211049654512 2215\n",
      "0.9755795570415876 22\n",
      "0.9618328251703967 2220\n",
      "0.98154107083465 2222\n",
      "0.9273413562242583 2223\n",
      "0.9133272211514532 2232\n",
      "0.9786157027626136 2233\n",
      "0.95205552446511 2234\n",
      "0.9604864185935352 2241\n",
      "0.9532747940239491 2242\n",
      "0.9817023528117129 2248\n",
      "0.988638072320828 2256\n",
      "0.9858340252446584 2259\n",
      "0.991415040297668 2264\n",
      "0.8642618920498064 2274\n",
      "0.957112983015398 2278\n",
      "0.9701567308734033 2285\n",
      "0.8698992577065339 2288\n",
      "0.9435901740962362 2296\n",
      "0.9592005282681528 2299\n",
      "0.9574225111440671 22998\n",
      "0.9933512243918953 2300\n",
      "0.9916629585938316 23005\n",
      "0.9517326394430495 2301\n",
      "0.9742008289164941 2313\n",
      "0.9312806873343019 2329\n",
      "0.9055834859346167 2336\n",
      "0.9607129757558097 2340\n",
      "0.9203953836576951 2341\n",
      "0.9782808791261898 2344\n",
      "0.970772681765062 2359\n",
      "0.9429902583774141 2364\n",
      "0.9939121141903388 2370\n",
      "0.971031964747286 2372\n",
      "0.8730638459677877 2377\n",
      "0.9813974863667768 2383\n",
      "0.9118218942803608 23975\n",
      "0.8958458476032466 2399\n",
      "0.9788322322665147 24008\n",
      "nan 24013\n",
      "0.9577083769352743 24017\n",
      "0.9837273793406247 24248\n",
      "0.9801662207093117 24346\n",
      "0.9278300064494834 24453\n",
      "0.9441624651039605 24576\n",
      "0.9768539564518127 24631\n",
      "0.9601966193778992 24705\n",
      "0.9830942380611557 24763\n",
      "0.9690782354821376 24824\n",
      "0.9658737979286587 24923\n",
      "0.8356707981345173 24930\n",
      "0.9811004334731234 24937\n",
      "0.9682046027139873 24946\n",
      "0.9932271858605792 25\n",
      "1.9515786232169252 2612\n",
      "0.9854430252475243 28\n",
      "0.9396418592744936 3000\n",
      "0.9718337670233638 35\n",
      "0.961328763347678 3898\n",
      "0.9660262549115065 42\n",
      "0.6963498633576672 4641\n",
      "0.8498757979399513 4753\n",
      "0.9374133516111105 503\n",
      "0.9522510601704508 5505\n",
      "0.8551693630991737 58\n",
      "0.9739693249621655 5958\n",
      "0.9596055882215856 62\n",
      "0.9706150769368005 67\n",
      "0.6943228929511096 7341\n",
      "0.9664729031419157 7431\n"
     ]
    },
    {
     "name": "stderr",
     "output_type": "stream",
     "text": [
      "/home/naireen/anaconda2/lib/python2.7/site-packages/ipykernel/__main__.py:8: RuntimeWarning: overflow encountered in power\n",
      "/home/naireen/anaconda2/lib/python2.7/site-packages/ipykernel/__main__.py:8: RuntimeWarning: invalid value encountered in multiply\n",
      "/home/naireen/anaconda2/lib/python2.7/site-packages/ipykernel/__main__.py:5: RuntimeWarning: overflow encountered in double_scalars\n",
      "/home/naireen/anaconda2/lib/python2.7/site-packages/ipykernel/__main__.py:58: RuntimeWarning: invalid value encountered in divide\n"
     ]
    },
    {
     "name": "stdout",
     "output_type": "stream",
     "text": [
      "nan 787\n",
      "0.959539889735087 8462\n",
      "nan 8582\n",
      "0.8436632109656201 8744\n",
      "0.9339509547680519 91\n"
     ]
    },
    {
     "name": "stderr",
     "output_type": "stream",
     "text": [
      "/home/naireen/anaconda2/lib/python2.7/site-packages/ipykernel/__main__.py:5: RuntimeWarning: divide by zero encountered in double_scalars\n",
      "/home/naireen/anaconda2/lib/python2.7/site-packages/ipykernel/__main__.py:28: RuntimeWarning: invalid value encountered in multiply\n"
     ]
    },
    {
     "name": "stdout",
     "output_type": "stream",
     "text": [
      "array must not contain infs or NaNs\n",
      "227.343353033\n"
     ]
    }
   ],
   "source": [
    "start = time.time()\n",
    "info = np.zeros((parameters.shape[0], 7)) # add norm const, RMS\n",
    "corrupted = []\n",
    "for index_val in range(int(parameters.shape[0])):\n",
    "    width = 200 #incremental step\n",
    "\n",
    "    fig = plt.figure(figsize=(15, 5))\n",
    "    ax = fig.add_subplot(\"121\")\n",
    "    ax2 = fig.add_subplot(\"122\")\n",
    "    #print index_val, \n",
    "    gamma = parameters[\"Gamma\"][index_val]\n",
    "    alpha = parameters[\"Alpha\"][index_val]\n",
    "    loc = parameters[\"Location\"][index_val]\n",
    "    #print gamma, alpha, loc\n",
    "    x = np.log10(sub_short[\"instability_time\"].values[index_val])\n",
    "    #print \"Spread\", alpha\n",
    "    #print gamma, alpha, loc, x \n",
    "    vals= np.linspace(loc-alpha*sigma_width, loc+alpha*sigma_width, width)\n",
    "    exp_val = loc + alpha* scipy.special.gamma(1+1./gamma)\n",
    "    #print loc +exp_val\n",
    "    final_y  = np.zeros(width)\n",
    "    for i in range(int(vals.shape[0])):\n",
    "        bins = np.linspace(loc-alpha*sigma_width , loc+sigma_width*alpha, width)\n",
    "        val1 = vals[i]\n",
    "        #get the entire pdf\n",
    "        prob = weib_pdf_val(val1, loc, gamma, alpha)\n",
    "        #get the probability that time being drawn\n",
    "        y = prob*weib_pdf(bins, val1,gamma, alpha)\n",
    "        ax.plot(bins, y)#just to prevent any errors\n",
    "        final_y = np.nansum(np.asarray([y, final_y]), axis = 0)  #np.nansum(a=[y, final_y], axis= 1)\n",
    "    #plt.figure(figsize=(12, 8))\n",
    "    ax2.plot(bins, final_y)    \n",
    "    p0 = [1., loc+alpha*scipy.special.gamma(1+ 1./gamma), alpha] #norm, mean, sigma\n",
    "    #popt,pcov = curve_fit(gaus,x,y,p0=[1,mean,sigma])\n",
    "    try:\n",
    "        coeff, var_matrix = scipy.optimize.curve_fit(gauss, bins, final_y, p0=p0)\n",
    "        #print var_matrix\n",
    "        perr = np.sqrt(np.diag(var_matrix))\n",
    "        plt_title = 'Convolution Parameters For System {4}: Mean: {0:.5} E {2:.4}   Sigma: {1:.5} E: {3:.4}'.format(coeff[1], np.abs(coeff[2]), perr[1], perr[2], sub_short.index[index_val])\n",
    "        #print \"Coefs: Mean, Sigma\", coeff[1:], \"Error\", perr[1:]\n",
    "        #fit can cbe calculated\n",
    "        delta_t = (( loc+sigma_width*alpha) -loc - 0.0001)/(width-1)\n",
    "        summed_fit_area_weib=0\n",
    "        summed_fit_area_gauss = 0\n",
    "\n",
    "\n",
    "        ###########################Error calcualtion###############################\n",
    "    \n",
    "        # Get the fitted curve\n",
    "        hist_fit = gauss(bins, *coeff)\n",
    "\n",
    "\n",
    "        #find the total sum of final_y to find normalizing constant\n",
    "        summed_fit_area_weib = np.sum(final_y)*delta_t\n",
    "        summed_fit_area_gauss = np.sum(hist_fit)*delta_t\n",
    "\n",
    "\n",
    "        overlapp = np.concatenate([(final_y/summed_fit_area_weib).reshape(width,1), \n",
    "                                   (hist_fit/summed_fit_area_gauss).reshape(width, 1)], axis = 1)\n",
    "        #define IOU as the sum, of their overlap, so take the min of both and sum it multiplied by delta t \n",
    "        IOU = overlapp.min(axis = 1).sum()*delta_t\n",
    "        #overlapped area\n",
    "        print IOU, sub_short.index[index_val]\n",
    "\n",
    "        ###########################################################################   \n",
    "        info[index_val] = [sub_short.index[index_val], coeff[0], coeff[1], perr[1], coeff[2], perr[2], IOU]\n",
    "\n",
    "    except Exception as e:\n",
    "        print e\n",
    "        corrupted.append(sub_short.index[index_val] )\n",
    "        info[index_val] = [sub_short.index[index_val],np.inf, np.inf, np.inf, np.inf, np.inf, np.inf]\n",
    "        plt_title = 'Convolution Parameters For System {0}'.format(sub_short.index[index_val])\n",
    "    \n",
    "    \n",
    "    \n",
    "    \n",
    "    \n",
    "    plt.suptitle(plt_title)\n",
    "    #plt.show()\n",
    "    plt.savefig(\"../../Figures/ConvolutedFigures/{0}.png\".format(sub_short.index[index_val]))\n",
    "    plt.close()\n",
    "    #print sub_short.index[index_val]\n",
    "    #break\n",
    "    #hist_fit = gauss(bins, *coeff)\n",
    "    #plt.plot(bins, hist_fit/summed_fit_area_gauss)\n",
    "    #plt.plot(bins, final_y/summed_fit_area_weib)\n",
    "    #print info[index_val]\n",
    "    #break\n",
    "end = time.time()\n",
    "print end-start\n"
   ]
  },
  {
   "cell_type": "markdown",
   "metadata": {},
   "source": [
    "The ones that failed were the exp dists with very low values of gamma, because even after convoluting them, they remain an exponential (as expected)"
   ]
  },
  {
   "cell_type": "code",
   "execution_count": 229,
   "metadata": {
    "collapsed": false
   },
   "outputs": [
    {
     "name": "stdout",
     "output_type": "stream",
     "text": [
      "[99]\n",
      "[13362.  1364.  1424.  1508.  1886.  2059.  2105. 22032. 24013.  4641.\n",
      "  7341.  8582.]\n"
     ]
    }
   ],
   "source": [
    "np.savetxt(\"../../../Corrupted_small.txt\", corrupted)\n",
    "print corrupted\n",
    "print np.loadtxt(\"../../../Corrupted.txt\")"
   ]
  },
  {
   "cell_type": "code",
   "execution_count": 230,
   "metadata": {
    "collapsed": false
   },
   "outputs": [
    {
     "name": "stdout",
     "output_type": "stream",
     "text": [
      "(266, 7)\n"
     ]
    },
    {
     "data": {
      "text/html": [
       "<div>\n",
       "<style>\n",
       "    .dataframe thead tr:only-child th {\n",
       "        text-align: right;\n",
       "    }\n",
       "\n",
       "    .dataframe thead th {\n",
       "        text-align: left;\n",
       "    }\n",
       "\n",
       "    .dataframe tbody tr th {\n",
       "        vertical-align: top;\n",
       "    }\n",
       "</style>\n",
       "<table border=\"1\" class=\"dataframe\">\n",
       "  <thead>\n",
       "    <tr style=\"text-align: right;\">\n",
       "      <th></th>\n",
       "      <th>ID</th>\n",
       "      <th>Norm</th>\n",
       "      <th>Mean</th>\n",
       "      <th>Mean_Error</th>\n",
       "      <th>Sigma</th>\n",
       "      <th>Error</th>\n",
       "      <th>IOU</th>\n",
       "    </tr>\n",
       "  </thead>\n",
       "  <tbody>\n",
       "    <tr>\n",
       "      <th>0</th>\n",
       "      <td>1007.0</td>\n",
       "      <td>11.528693</td>\n",
       "      <td>6.690401</td>\n",
       "      <td>0.002360</td>\n",
       "      <td>0.673684</td>\n",
       "      <td>0.002360</td>\n",
       "      <td>0.978690</td>\n",
       "    </tr>\n",
       "    <tr>\n",
       "      <th>1</th>\n",
       "      <td>1021.0</td>\n",
       "      <td>17.966274</td>\n",
       "      <td>7.008166</td>\n",
       "      <td>0.000557</td>\n",
       "      <td>0.491397</td>\n",
       "      <td>0.000557</td>\n",
       "      <td>0.993041</td>\n",
       "    </tr>\n",
       "    <tr>\n",
       "      <th>2</th>\n",
       "      <td>1025.0</td>\n",
       "      <td>19.027997</td>\n",
       "      <td>6.578779</td>\n",
       "      <td>0.003104</td>\n",
       "      <td>0.557117</td>\n",
       "      <td>0.003104</td>\n",
       "      <td>0.966085</td>\n",
       "    </tr>\n",
       "    <tr>\n",
       "      <th>3</th>\n",
       "      <td>1041.0</td>\n",
       "      <td>15.137099</td>\n",
       "      <td>6.496920</td>\n",
       "      <td>0.005919</td>\n",
       "      <td>0.672513</td>\n",
       "      <td>0.005919</td>\n",
       "      <td>0.947522</td>\n",
       "    </tr>\n",
       "    <tr>\n",
       "      <th>4</th>\n",
       "      <td>10518.0</td>\n",
       "      <td>21.789219</td>\n",
       "      <td>7.035954</td>\n",
       "      <td>0.007016</td>\n",
       "      <td>0.591159</td>\n",
       "      <td>0.007020</td>\n",
       "      <td>0.931407</td>\n",
       "    </tr>\n",
       "  </tbody>\n",
       "</table>\n",
       "</div>"
      ],
      "text/plain": [
       "        ID       Norm      Mean  Mean_Error     Sigma     Error       IOU\n",
       "0   1007.0  11.528693  6.690401    0.002360  0.673684  0.002360  0.978690\n",
       "1   1021.0  17.966274  7.008166    0.000557  0.491397  0.000557  0.993041\n",
       "2   1025.0  19.027997  6.578779    0.003104  0.557117  0.003104  0.966085\n",
       "3   1041.0  15.137099  6.496920    0.005919  0.672513  0.005919  0.947522\n",
       "4  10518.0  21.789219  7.035954    0.007016  0.591159  0.007020  0.931407"
      ]
     },
     "execution_count": 230,
     "metadata": {},
     "output_type": "execute_result"
    }
   ],
   "source": [
    "info_frame = pd.DataFrame(info, columns=[\"ID\", \"Norm\",\"Mean\" , \"Mean_Error\", \"Sigma\", \"Error\", \"IOU\"])\n",
    "print info_frame.shape\n",
    "info_frame.to_csv(\"../../Figures/ConvolutedFigures/Convolved_Params_266_IOU.csv\", index=False)\n",
    "info_frame.head()"
   ]
  },
  {
   "cell_type": "markdown",
   "metadata": {},
   "source": [
    "One really weird system seen below that for some reason it is able to fit a guassian, but it clearly isn't and to it gets really weird values and a sigma of 10^7, this should be ignored. Thus, the total number of systems we have left that are valid are 249\n",
    "\n",
    "Edit: THis is because there is a very narror distribution there, and it seems to think it represents a really wide gaussian. (the distribution we have looks like it could be a tail of a gaussian). There was also an additional cut added to ensure that the mu was always positive, as it should be, because it otherwise doesn't make sense. "
   ]
  },
  {
   "cell_type": "code",
   "execution_count": 231,
   "metadata": {
    "collapsed": false
   },
   "outputs": [
    {
     "name": "stdout",
     "output_type": "stream",
     "text": [
      "(266, 7)\n",
      "\n",
      "(246, 7)\n"
     ]
    }
   ],
   "source": [
    "#reload csv\n",
    "info_frame = pd.read_csv(\"../../Figures/ConvolutedFigures/Convolved_Params_266_IOU.csv\")\n",
    "print info_frame.shape\n",
    "print \n",
    "valid_info_frame= info_frame[(info_frame[\"Mean\"]!=np.inf) & (np.abs(info_frame[\"Sigma\"]<10)) & (info_frame[\"Mean\"]>4) & (info_frame[\"Mean\"]<9)] #need to see what causes this\n",
    "valid_info_frame = valid_info_frame[valid_info_frame[\"ID\"]!=1364]\n",
    "#print valid_info_frame.max(axis = 0), valid_info_frame.min(axis = 0)\n",
    "#valid_info_frame.head()\n",
    "print valid_info_frame.shape\n",
    "#print valid_info_frame[\"Sigma\"].max()\n"
   ]
  },
  {
   "cell_type": "code",
   "execution_count": 232,
   "metadata": {
    "collapsed": false
   },
   "outputs": [
    {
     "name": "stdout",
     "output_type": "stream",
     "text": [
      "266\n",
      "(246, 7)\n",
      "(246, 7)\n",
      "Int64Index([13362, 2008, 2105, 2128, 22032, 24013, 2612, 4641, 58, 7341, 8582], dtype='int64')\n",
      "[99]\n"
     ]
    },
    {
     "name": "stderr",
     "output_type": "stream",
     "text": [
      "/home/naireen/anaconda2/lib/python2.7/site-packages/ipykernel/__main__.py:2: UserWarning: Boolean Series key will be reindexed to match DataFrame index.\n",
      "  from ipykernel import kernelapp as app\n"
     ]
    }
   ],
   "source": [
    "print info_frame.shape[0]\n",
    "valid_info_frame = valid_info_frame[~info_frame[\"ID\"].astype(int).isin(discard.index)]\n",
    "print valid_info_frame.shape\n",
    "valid_info_frame = valid_info_frame[~valid_info_frame[\"ID\"].astype(int).isin(corrupted)]\n",
    "print valid_info_frame.shape\n",
    "print discard.index\n",
    "print corrupted\n",
    "#print valid_info_frame.shape\n",
    "##print discard.index\n",
    "#print valid_info_frame.shape\n",
    "#print valid_info_frame[\"Sigma\"].max()\n",
    "#print valid_info_frame.shape[0], \"out of\", info_frame.shape[0]\n",
    "#ind =  np.where(valid_info_frame[\"Sigma\"] == valid_info_frame[\"Sigma\"].max())[0][0]\n",
    "#info_frame = pd.read_csv(\"../../Figures/ConvolutedFigures/Convolved_Params_266_IOU.csv\")\n",
    "#valid_info_frame.to_csv(\"../../Figures/ConvolutedFigures/Convolved_Params_247_IOU_valid.csv\")\n",
    "#print valid_info_frame[\"Mean\"].min()"
   ]
  },
  {
   "cell_type": "code",
   "execution_count": 233,
   "metadata": {
    "collapsed": false
   },
   "outputs": [
    {
     "name": "stdout",
     "output_type": "stream",
     "text": [
      "(246, 7)\n",
      "1.4909171641513759\n",
      "['ID' 'Norm' 'Mean' 'Mean_Error' 'Sigma' 'Error' 'IOU']\n"
     ]
    },
    {
     "data": {
      "image/png": "[encoded data removed]",
      "text/plain": [
       "<matplotlib.figure.Figure at 0x7fa10e90d490>"
      ]
     },
     "metadata": {},
     "output_type": "display_data"
    }
   ],
   "source": [
    "#valid_info_frame= pd.read_csv(\"../../Figures/ConvolutedFigures/Convolved_Params_247_IOU_valid.csv\", index_col=0)\n",
    "print valid_info_frame.shape\n",
    "valid_info_frame[\"Sigma\"] = np.abs(valid_info_frame[\"Sigma\"])\n",
    "bins = np.linspace(0, 1.5, 20)\n",
    "valid_info_frame.hist(\"Sigma\",  normed = 1, bins = bins)\n",
    "print valid_info_frame[\"Sigma\"].max()\n",
    "print valid_info_frame.columns.values"
   ]
  },
  {
   "cell_type": "code",
   "execution_count": 234,
   "metadata": {
    "collapsed": false
   },
   "outputs": [
    {
     "name": "stdout",
     "output_type": "stream",
     "text": [
      "Average Sigma 0.6080076715519274 Std in Sigma 0.2558534366263032\n",
      "(246, 7)\n"
     ]
    },
    {
     "data": {
      "image/png": "[encoded data removed]",
      "text/plain": [
       "<matplotlib.figure.Figure at 0x7fa11cb74210>"
      ]
     },
     "metadata": {},
     "output_type": "display_data"
    }
   ],
   "source": [
    "from scipy.stats import norm\n",
    "\n",
    "mu_fit, sig_fit =  norm.fit(valid_info_frame[\"Sigma\"].values)\n",
    "print \"Average Sigma\", mu_fit, \"Std in Sigma\", sig_fit\n",
    "#x, xmax = plt.xlim()\n",
    "fig = plt.figure()\n",
    "ax = fig.add_subplot(\"111\")\n",
    "x = np.linspace(0, 1.6, 100)\n",
    "p = norm.pdf(x, mu_fit, sig_fit)\n",
    "plt.plot(x, p)\n",
    "valid_info_frame.hist(\"Sigma\", normed = 1, ax = ax, bins = bins)\n",
    "print valid_info_frame.shape\n",
    "\n",
    "#with 249, including everything with positive mu\n",
    "#Average Sigma 0.60923291473 Std in Sigma 0.254849811744"
   ]
  },
  {
   "cell_type": "code",
   "execution_count": 235,
   "metadata": {
    "collapsed": false
   },
   "outputs": [
    {
     "name": "stdout",
     "output_type": "stream",
     "text": [
      "0.6805519239081225\n",
      "Empty DataFrame\n",
      "Columns: [ID, Norm, Mean, Mean_Error, Sigma, Error, IOU]\n",
      "Index: []\n"
     ]
    },
    {
     "data": {
      "text/plain": [
       "array([[<matplotlib.axes._subplots.AxesSubplot object at 0x7fa11cc305d0>]],\n",
       "      dtype=object)"
      ]
     },
     "execution_count": 235,
     "metadata": {},
     "output_type": "execute_result"
    },
    {
     "data": {
      "image/png": "[encoded data removed]",
      "text/plain": [
       "<matplotlib.figure.Figure at 0x7fa10d8f6910>"
      ]
     },
     "metadata": {},
     "output_type": "display_data"
    },
    {
     "data": {
      "image/png": "[encoded data removed]",
      "text/plain": [
       "<matplotlib.figure.Figure at 0x7fa11cb7e390>"
      ]
     },
     "metadata": {},
     "output_type": "display_data"
    }
   ],
   "source": [
    "bins = np.linspace(0.88,1.01, 14)\n",
    "#print valid_info_frame[valid_info_frame[\"IOU\"] < 0.9]\n",
    "valid_info_frame.hist(\"IOU\", edgecolor = \"black\", linewidth = 1)\n",
    "print valid_info_frame[\"IOU\"].min()\n",
    "print valid_info_frame[valid_info_frame[\"IOU\"] < .1]\n",
    "valid_info_frame.hist(\"IOU\", edgecolor = \"black\", linewidth = 1, bins = bins)"
   ]
  },
  {
   "cell_type": "code",
   "execution_count": 213,
   "metadata": {
    "collapsed": false
   },
   "outputs": [
    {
     "name": "stdout",
     "output_type": "stream",
     "text": [
      "(246, 7)\n"
     ]
    }
   ],
   "source": [
    "print valid_info_frame.shape"
   ]
  },
  {
   "cell_type": "code",
   "execution_count": null,
   "metadata": {
    "collapsed": true
   },
   "outputs": [],
   "source": []
  }
 ],
 "metadata": {
  "anaconda-cloud": {},
  "kernelspec": {
   "display_name": "Python [default]",
   "language": "python",
   "name": "python2"
  },
  "language_info": {
   "codemirror_mode": {
    "name": "ipython",
    "version": 2
   },
   "file_extension": ".py",
   "mimetype": "text/x-python",
   "name": "python",
   "nbconvert_exporter": "python",
   "pygments_lexer": "ipython2",
   "version": "2.7.12"
  }
 },
 "nbformat": 4,
 "nbformat_minor": 1
}
