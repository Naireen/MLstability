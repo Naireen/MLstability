{
 "cells": [
  {
   "cell_type": "markdown",
   "metadata": {},
   "source": [
    "Cleaned up version of the other MCMC notebooks where you try to fit an optimal sigma"
   ]
  },
  {
   "cell_type": "code",
   "execution_count": 7,
   "metadata": {
    "collapsed": true
   },
   "outputs": [],
   "source": [
    "import numpy as np\n",
    "import pandas as pd\n",
    "import matplotlib\n",
    "%matplotlib inline\n",
    "import scipy\n",
    "import scipy.stats as st\n",
    "import time\n",
    "import scipy.special as spec\n"
   ]
  },
  {
   "cell_type": "code",
   "execution_count": 40,
   "metadata": {
    "collapsed": true
   },
   "outputs": [],
   "source": [
    "np.random.seed(0)\n",
    "means = [2,6,6, 8,8,10, 2, 4, 6, 8, 5, 3, 7, 8, 3, 2,8,3,2,9,6,4,2,1,1, 6, 5, 9,3 ]\n",
    "sigma = 7\n",
    "#draw two samples from a guassian with the above means and sigma\n",
    "samples = np.zeros((len(means), 2))\n",
    "for i, mean in enumerate(means):\n",
    "    samples[i] = np.random.normal(mean, sigma, 2)\n",
    "\n",
    "#print samples"
   ]
  },
  {
   "cell_type": "code",
   "execution_count": 41,
   "metadata": {},
   "outputs": [
    {
     "name": "stdout",
     "output_type": "stream",
     "text": [
      "Time 0.084349155426\n"
     ]
    }
   ],
   "source": [
    "sigma_range = np.linspace(1, 10, 100)\n",
    "\n",
    "def fit_sigma(log_times, sigma_range):\n",
    "    prob = np.zeros(( sigma_range.shape[0], log_times.shape[0])) # include area for each gaussia\n",
    "    start = time.time()\n",
    "\n",
    "    for j, sigma in enumerate(sigma_range):\n",
    "        for i, val in enumerate(log_times):\n",
    "            #prob[j][i] =#-np.log(2*np.pi) - np.log(sigma**2) -1./(2*sigam**2)*np.sum() \n",
    "            prob[j][i]=-(val[0] - val[1])**2/(4. *sigma**2) +np.log(1+spec.erf(np.nansum(val)/(2.*sigma))) - np.log(4*np.pi**0.5*sigma)\n",
    "\n",
    "        #print j\n",
    "    end = time.time()\n",
    "    print \"Time\", (end -start)\n",
    "    return prob\n",
    "probs = fit_sigma(samples, sigma_range)\n",
    "#print probs"
   ]
  },
  {
   "cell_type": "code",
   "execution_count": 42,
   "metadata": {},
   "outputs": [
    {
     "name": "stdout",
     "output_type": "stream",
     "text": [
      "(100,) (100, 29)\n",
      "7.54545454545\n"
     ]
    }
   ],
   "source": [
    "#see how the areas change as sigma changes\n",
    "def sigma_prob_sum(prob):\n",
    "    summed_prob = np.zeros(prob.shape[0])\n",
    "    print summed_prob.shape, prob.shape\n",
    "    for  i, val in enumerate(prob):\n",
    "           summed_prob[i] = np.average(val)\n",
    "\n",
    "    return summed_prob\n",
    "    \n",
    "\n",
    "summed_Areas2= sigma_prob_sum(probs)\n",
    "#print summed_Areas2\n",
    "ind = np.where(summed_Areas2.max() == summed_Areas2)\n",
    "print sigma_range[ind[0][0]]"
   ]
  },
  {
   "cell_type": "code",
   "execution_count": 81,
   "metadata": {},
   "outputs": [
    {
     "name": "stdout",
     "output_type": "stream",
     "text": [
      "[[-10.70771288  -5.45334392]\n",
      " [ 23.93643549  18.57260407]\n",
      " [ -9.07150959   1.69753735]\n",
      " ..., \n",
      " [ 15.67077116  17.62659948]\n",
      " [ 15.546822    19.96846191]\n",
      " [ -0.6956955   -0.10012667]]\n"
     ]
    },
    {
     "name": "stderr",
     "output_type": "stream",
     "text": [
      "/mnt/raid-cita/nhussain/venv-2.7.13/lib/python2.7/site-packages/ipykernel_launcher.py:22: RuntimeWarning: divide by zero encountered in log\n"
     ]
    },
    {
     "name": "stdout",
     "output_type": "stream",
     "text": [
      "Time 115.429749966\n",
      "(200,) (200, 25000)\n",
      "5.02512562814\n"
     ]
    }
   ],
   "source": [
    "# try with a much larger samples set\n",
    "size = 25000#must be diviisble by 2\n",
    "mean_large = np.random.random(size)*20\n",
    "mean_large.reshape((size/2, 2))\n",
    "sigma = 5\n",
    "\n",
    "#draw two samples from a guassian with the above means and sigma\n",
    "samples_large = np.zeros((len(mean_large), 2))\n",
    "for i, mean in enumerate(mean_large):\n",
    "    samples_large[i] = np.random.normal(mean, sigma, 2)\n",
    "\n",
    "print samples_large\n",
    "sigma_range = np.linspace(1, 10, 200)\n",
    "\n",
    "def fit_sigma(log_times, sigma_range):\n",
    "    prob = np.zeros(( sigma_range.shape[0], log_times.shape[0])) # include area for each gaussia\n",
    "    start = time.time()\n",
    "\n",
    "    for j, sigma in enumerate(sigma_range):\n",
    "        for i, val in enumerate(log_times):\n",
    "            #prob[j][i] =#-np.log(2*np.pi) - np.log(sigma**2) -1./(2*sigam**2)*np.sum() \n",
    "            prob[j][i]=-(val[0] - val[1])**2/(4. *sigma**2) +np.log(1.0000000000+spec.erf(np.nansum(val)/(2.*sigma))) - np.log(4*np.pi**0.5*sigma)\n",
    "\n",
    "        #print j\n",
    "    end = time.time()\n",
    "    print \"Time\", (end -start)\n",
    "    return prob\n",
    "probs = fit_sigma(samples_large, sigma_range)\n",
    "\n",
    "\n",
    "def sigma_prob_sum(prob):\n",
    "    summed_prob = np.zeros(prob.shape[0])\n",
    "    print summed_prob.shape, prob.shape\n",
    "    for  i, val in enumerate(prob):\n",
    "           summed_prob[i] = np.average(val)\n",
    "\n",
    "    return summed_prob\n",
    "    \n",
    "\n",
    "summed_prob= sigma_prob_sum(probs)\n",
    "#print summed_Areas2\n",
    "ind = np.where(summed_prob.max() == summed_prob)\n",
    "print sigma_range[ind[0][0]]\n",
    "\n",
    "#print samples_large"
   ]
  },
  {
   "cell_type": "code",
   "execution_count": 82,
   "metadata": {},
   "outputs": [
    {
     "name": "stdout",
     "output_type": "stream",
     "text": [
      "(array([89]),)\n"
     ]
    }
   ],
   "source": [
    "print ind"
   ]
  },
  {
   "cell_type": "code",
   "execution_count": 85,
   "metadata": {},
   "outputs": [
    {
     "data": {
      "text/plain": [
       "<matplotlib.text.Text at 0x7fc123a60b90>"
      ]
     },
     "execution_count": 85,
     "metadata": {},
     "output_type": "execute_result"
    },
    {
     "data": {
      "image/png": "[encoded data removed]",
      "text/plain": [
       "<matplotlib.figure.Figure at 0x7fc126325e50>"
      ]
     },
     "metadata": {},
     "output_type": "display_data"
    }
   ],
   "source": [
    "from matplotlib import pyplot as plt\n",
    "truncate = 0\n",
    "plt.scatter(sigma_range[truncate:], summed_prob[truncate:])\n",
    "plt.ylabel(\"Log Likelhood\")\n",
    "plt.xlabel(\"Sigma\")\n",
    "plt.title(\"Test Determining P (Sigma | Data)\")"
   ]
  },
  {
   "cell_type": "code",
   "execution_count": null,
   "metadata": {
    "collapsed": true
   },
   "outputs": [],
   "source": []
  }
 ],
 "metadata": {
  "kernelspec": {
   "display_name": "Python 2",
   "language": "python",
   "name": "python2"
  },
  "language_info": {
   "codemirror_mode": {
    "name": "ipython",
    "version": 2
   },
   "file_extension": ".py",
   "mimetype": "text/x-python",
   "name": "python",
   "nbconvert_exporter": "python",
   "pygments_lexer": "ipython2",
   "version": "2.7.13"
  }
 },
 "nbformat": 4,
 "nbformat_minor": 2
}
