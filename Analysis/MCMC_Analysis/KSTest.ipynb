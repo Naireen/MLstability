{
 "cells": [
  {
   "cell_type": "code",
   "execution_count": 1,
   "metadata": {
    "collapsed": false
   },
   "outputs": [],
   "source": [
    "import scipy.stats as stats\n",
    "from scipy.integrate import quad\n",
    "import scipy\n",
    "import numpy as np\n",
    "import pandas as pd\n",
    "import time\n",
    "import matplotlib\n",
    "from matplotlib import pyplot as plt\n",
    "%matplotlib inline\n",
    "from scipy.optimize import curve_fit"
   ]
  },
  {
   "cell_type": "code",
   "execution_count": 2,
   "metadata": {
    "collapsed": true
   },
   "outputs": [
    {
     "data": {
      "text/html": [
       "<div>\n",
       "<style>\n",
       "    .dataframe thead tr:only-child th {\n",
       "        text-align: right;\n",
       "    }\n",
       "\n",
       "    .dataframe thead th {\n",
       "        text-align: left;\n",
       "    }\n",
       "\n",
       "    .dataframe tbody tr th {\n",
       "        vertical-align: top;\n",
       "    }\n",
       "</style>\n",
       "<table border=\"1\" class=\"dataframe\">\n",
       "  <thead>\n",
       "    <tr style=\"text-align: right;\">\n",
       "      <th></th>\n",
       "      <th>ID</th>\n",
       "      <th>Gamma</th>\n",
       "      <th>Location</th>\n",
       "      <th>Alpha</th>\n",
       "    </tr>\n",
       "  </thead>\n",
       "  <tbody>\n",
       "    <tr>\n",
       "      <th>40</th>\n",
       "      <td>13362.0</td>\n",
       "      <td>0.058621</td>\n",
       "      <td>1.874032</td>\n",
       "      <td>4.227547e-01</td>\n",
       "    </tr>\n",
       "    <tr>\n",
       "      <th>45</th>\n",
       "      <td>1364.0</td>\n",
       "      <td>0.278282</td>\n",
       "      <td>4.686833</td>\n",
       "      <td>8.645099e-02</td>\n",
       "    </tr>\n",
       "    <tr>\n",
       "      <th>53</th>\n",
       "      <td>1424.0</td>\n",
       "      <td>0.356004</td>\n",
       "      <td>4.091710</td>\n",
       "      <td>1.255441e+00</td>\n",
       "    </tr>\n",
       "    <tr>\n",
       "      <th>56</th>\n",
       "      <td>1449.0</td>\n",
       "      <td>0.856103</td>\n",
       "      <td>4.347785</td>\n",
       "      <td>9.457170e-01</td>\n",
       "    </tr>\n",
       "    <tr>\n",
       "      <th>62</th>\n",
       "      <td>1508.0</td>\n",
       "      <td>0.748105</td>\n",
       "      <td>4.173922</td>\n",
       "      <td>2.625615e-03</td>\n",
       "    </tr>\n",
       "    <tr>\n",
       "      <th>68</th>\n",
       "      <td>1601.0</td>\n",
       "      <td>0.890051</td>\n",
       "      <td>4.416612</td>\n",
       "      <td>3.363478e-02</td>\n",
       "    </tr>\n",
       "    <tr>\n",
       "      <th>104</th>\n",
       "      <td>1829.0</td>\n",
       "      <td>0.913575</td>\n",
       "      <td>5.110561</td>\n",
       "      <td>4.502986e-02</td>\n",
       "    </tr>\n",
       "    <tr>\n",
       "      <th>110</th>\n",
       "      <td>1848.0</td>\n",
       "      <td>0.650236</td>\n",
       "      <td>2.931098</td>\n",
       "      <td>5.483047e-01</td>\n",
       "    </tr>\n",
       "    <tr>\n",
       "      <th>118</th>\n",
       "      <td>1880.0</td>\n",
       "      <td>0.708941</td>\n",
       "      <td>4.461278</td>\n",
       "      <td>1.917586e-01</td>\n",
       "    </tr>\n",
       "    <tr>\n",
       "      <th>119</th>\n",
       "      <td>1886.0</td>\n",
       "      <td>0.356468</td>\n",
       "      <td>4.668548</td>\n",
       "      <td>1.209570e+00</td>\n",
       "    </tr>\n",
       "    <tr>\n",
       "      <th>128</th>\n",
       "      <td>1928.0</td>\n",
       "      <td>0.906376</td>\n",
       "      <td>4.290431</td>\n",
       "      <td>3.991787e-01</td>\n",
       "    </tr>\n",
       "    <tr>\n",
       "      <th>144</th>\n",
       "      <td>2010.0</td>\n",
       "      <td>0.995487</td>\n",
       "      <td>3.868726</td>\n",
       "      <td>1.005887e+00</td>\n",
       "    </tr>\n",
       "    <tr>\n",
       "      <th>149</th>\n",
       "      <td>2059.0</td>\n",
       "      <td>0.566927</td>\n",
       "      <td>2.649101</td>\n",
       "      <td>1.347232e+00</td>\n",
       "    </tr>\n",
       "    <tr>\n",
       "      <th>154</th>\n",
       "      <td>2077.0</td>\n",
       "      <td>0.975800</td>\n",
       "      <td>4.447399</td>\n",
       "      <td>1.851375e-01</td>\n",
       "    </tr>\n",
       "    <tr>\n",
       "      <th>162</th>\n",
       "      <td>2105.0</td>\n",
       "      <td>0.240015</td>\n",
       "      <td>2.154804</td>\n",
       "      <td>4.394111e-01</td>\n",
       "    </tr>\n",
       "    <tr>\n",
       "      <th>171</th>\n",
       "      <td>2128.0</td>\n",
       "      <td>0.060341</td>\n",
       "      <td>2.228722</td>\n",
       "      <td>6.011200e-05</td>\n",
       "    </tr>\n",
       "    <tr>\n",
       "      <th>187</th>\n",
       "      <td>22032.0</td>\n",
       "      <td>0.345481</td>\n",
       "      <td>1.899798</td>\n",
       "      <td>4.794139e-02</td>\n",
       "    </tr>\n",
       "    <tr>\n",
       "      <th>190</th>\n",
       "      <td>2215.0</td>\n",
       "      <td>0.993165</td>\n",
       "      <td>4.318516</td>\n",
       "      <td>1.504673e-01</td>\n",
       "    </tr>\n",
       "    <tr>\n",
       "      <th>204</th>\n",
       "      <td>2274.0</td>\n",
       "      <td>0.946483</td>\n",
       "      <td>5.351774</td>\n",
       "      <td>2.013193e-01</td>\n",
       "    </tr>\n",
       "    <tr>\n",
       "      <th>207</th>\n",
       "      <td>2288.0</td>\n",
       "      <td>0.983246</td>\n",
       "      <td>4.492616</td>\n",
       "      <td>2.604807e-01</td>\n",
       "    </tr>\n",
       "    <tr>\n",
       "      <th>229</th>\n",
       "      <td>24013.0</td>\n",
       "      <td>0.149301</td>\n",
       "      <td>1.964143</td>\n",
       "      <td>3.028809e-01</td>\n",
       "    </tr>\n",
       "    <tr>\n",
       "      <th>240</th>\n",
       "      <td>24930.0</td>\n",
       "      <td>0.794645</td>\n",
       "      <td>4.664790</td>\n",
       "      <td>4.619831e-01</td>\n",
       "    </tr>\n",
       "    <tr>\n",
       "      <th>244</th>\n",
       "      <td>2612.0</td>\n",
       "      <td>0.268627</td>\n",
       "      <td>2.759908</td>\n",
       "      <td>1.789391e-05</td>\n",
       "    </tr>\n",
       "    <tr>\n",
       "      <th>250</th>\n",
       "      <td>4641.0</td>\n",
       "      <td>0.382623</td>\n",
       "      <td>2.431071</td>\n",
       "      <td>1.473271e-01</td>\n",
       "    </tr>\n",
       "    <tr>\n",
       "      <th>251</th>\n",
       "      <td>4753.0</td>\n",
       "      <td>0.864944</td>\n",
       "      <td>5.899501</td>\n",
       "      <td>3.470904e-01</td>\n",
       "    </tr>\n",
       "    <tr>\n",
       "      <th>254</th>\n",
       "      <td>58.0</td>\n",
       "      <td>0.893387</td>\n",
       "      <td>2.293172</td>\n",
       "      <td>4.102146e-01</td>\n",
       "    </tr>\n",
       "    <tr>\n",
       "      <th>258</th>\n",
       "      <td>7341.0</td>\n",
       "      <td>0.379178</td>\n",
       "      <td>2.566083</td>\n",
       "      <td>1.848282e-01</td>\n",
       "    </tr>\n",
       "    <tr>\n",
       "      <th>262</th>\n",
       "      <td>8582.0</td>\n",
       "      <td>0.184163</td>\n",
       "      <td>1.996260</td>\n",
       "      <td>1.191003e+00</td>\n",
       "    </tr>\n",
       "    <tr>\n",
       "      <th>263</th>\n",
       "      <td>8744.0</td>\n",
       "      <td>0.833252</td>\n",
       "      <td>4.705257</td>\n",
       "      <td>1.546389e-01</td>\n",
       "    </tr>\n",
       "    <tr>\n",
       "      <th>265</th>\n",
       "      <td>99.0</td>\n",
       "      <td>0.999930</td>\n",
       "      <td>7.983125</td>\n",
       "      <td>8.810369e-16</td>\n",
       "    </tr>\n",
       "  </tbody>\n",
       "</table>\n",
       "</div>"
      ],
      "text/plain": [
       "          ID     Gamma  Location         Alpha\n",
       "40   13362.0  0.058621  1.874032  4.227547e-01\n",
       "45    1364.0  0.278282  4.686833  8.645099e-02\n",
       "53    1424.0  0.356004  4.091710  1.255441e+00\n",
       "56    1449.0  0.856103  4.347785  9.457170e-01\n",
       "62    1508.0  0.748105  4.173922  2.625615e-03\n",
       "68    1601.0  0.890051  4.416612  3.363478e-02\n",
       "104   1829.0  0.913575  5.110561  4.502986e-02\n",
       "110   1848.0  0.650236  2.931098  5.483047e-01\n",
       "118   1880.0  0.708941  4.461278  1.917586e-01\n",
       "119   1886.0  0.356468  4.668548  1.209570e+00\n",
       "128   1928.0  0.906376  4.290431  3.991787e-01\n",
       "144   2010.0  0.995487  3.868726  1.005887e+00\n",
       "149   2059.0  0.566927  2.649101  1.347232e+00\n",
       "154   2077.0  0.975800  4.447399  1.851375e-01\n",
       "162   2105.0  0.240015  2.154804  4.394111e-01\n",
       "171   2128.0  0.060341  2.228722  6.011200e-05\n",
       "187  22032.0  0.345481  1.899798  4.794139e-02\n",
       "190   2215.0  0.993165  4.318516  1.504673e-01\n",
       "204   2274.0  0.946483  5.351774  2.013193e-01\n",
       "207   2288.0  0.983246  4.492616  2.604807e-01\n",
       "229  24013.0  0.149301  1.964143  3.028809e-01\n",
       "240  24930.0  0.794645  4.664790  4.619831e-01\n",
       "244   2612.0  0.268627  2.759908  1.789391e-05\n",
       "250   4641.0  0.382623  2.431071  1.473271e-01\n",
       "251   4753.0  0.864944  5.899501  3.470904e-01\n",
       "254     58.0  0.893387  2.293172  4.102146e-01\n",
       "258   7341.0  0.379178  2.566083  1.848282e-01\n",
       "262   8582.0  0.184163  1.996260  1.191003e+00\n",
       "263   8744.0  0.833252  4.705257  1.546389e-01\n",
       "265     99.0  0.999930  7.983125  8.810369e-16"
      ]
     },
     "execution_count": 2,
     "metadata": {},
     "output_type": "execute_result"
    }
   ],
   "source": [
    "#load the parameters, and their short int feats?\n",
    "parameters = pd.read_csv(\"../../Figures/MCMCFigures/Weibull_Parameters_266.csv\", index_col =0 )\n",
    "#parameters.head(5)\n",
    "parameters[parameters[\"Gamma\"]<1]"
   ]
  },
  {
   "cell_type": "code",
   "execution_count": 3,
   "metadata": {
    "collapsed": false
   },
   "outputs": [
    {
     "data": {
      "text/html": [
       "<div>\n",
       "<style>\n",
       "    .dataframe thead tr:only-child th {\n",
       "        text-align: right;\n",
       "    }\n",
       "\n",
       "    .dataframe thead th {\n",
       "        text-align: left;\n",
       "    }\n",
       "\n",
       "    .dataframe tbody tr th {\n",
       "        vertical-align: top;\n",
       "    }\n",
       "</style>\n",
       "<table border=\"1\" class=\"dataframe\">\n",
       "  <thead>\n",
       "    <tr style=\"text-align: right;\">\n",
       "      <th></th>\n",
       "      <th>runstring</th>\n",
       "      <th>t_final_short</th>\n",
       "      <th>Rel_Eerr_short</th>\n",
       "      <th>avg_beta12</th>\n",
       "      <th>std_beta12</th>\n",
       "      <th>min_beta12</th>\n",
       "      <th>max_beta12</th>\n",
       "      <th>avg_beta23</th>\n",
       "      <th>std_beta23</th>\n",
       "      <th>min_beta23</th>\n",
       "      <th>...</th>\n",
       "      <th>min_iH3</th>\n",
       "      <th>avg_ecross3</th>\n",
       "      <th>std_ecross3</th>\n",
       "      <th>max_ecross3</th>\n",
       "      <th>min_ecross3</th>\n",
       "      <th>norm_a3_slope</th>\n",
       "      <th>wall_time</th>\n",
       "      <th>Stable</th>\n",
       "      <th>instability_time</th>\n",
       "      <th>Rel_Eerr</th>\n",
       "    </tr>\n",
       "  </thead>\n",
       "  <tbody>\n",
       "    <tr>\n",
       "      <th>0</th>\n",
       "      <td>0000000.bin</td>\n",
       "      <td>10000.0</td>\n",
       "      <td>1.346025e-08</td>\n",
       "      <td>8.488064</td>\n",
       "      <td>0.048209</td>\n",
       "      <td>8.344623</td>\n",
       "      <td>8.551727</td>\n",
       "      <td>15.791595</td>\n",
       "      <td>0.085995</td>\n",
       "      <td>15.576612</td>\n",
       "      <td>...</td>\n",
       "      <td>4.410404</td>\n",
       "      <td>0.297364</td>\n",
       "      <td>0.016641</td>\n",
       "      <td>0.339655</td>\n",
       "      <td>0.010871</td>\n",
       "      <td>2.681898e-11</td>\n",
       "      <td>0.395531</td>\n",
       "      <td>0.0</td>\n",
       "      <td>1.235644e+07</td>\n",
       "      <td>1.099985e-04</td>\n",
       "    </tr>\n",
       "    <tr>\n",
       "      <th>1</th>\n",
       "      <td>0000001.bin</td>\n",
       "      <td>10000.0</td>\n",
       "      <td>8.934681e-10</td>\n",
       "      <td>8.414875</td>\n",
       "      <td>0.039142</td>\n",
       "      <td>8.308582</td>\n",
       "      <td>8.495900</td>\n",
       "      <td>15.314101</td>\n",
       "      <td>0.037065</td>\n",
       "      <td>15.254833</td>\n",
       "      <td>...</td>\n",
       "      <td>0.588028</td>\n",
       "      <td>0.115674</td>\n",
       "      <td>0.039718</td>\n",
       "      <td>0.251880</td>\n",
       "      <td>0.137917</td>\n",
       "      <td>-9.314702e-11</td>\n",
       "      <td>0.403877</td>\n",
       "      <td>0.0</td>\n",
       "      <td>1.348749e+05</td>\n",
       "      <td>1.388587e-08</td>\n",
       "    </tr>\n",
       "    <tr>\n",
       "      <th>2</th>\n",
       "      <td>0000002.bin</td>\n",
       "      <td>10000.0</td>\n",
       "      <td>3.169983e-08</td>\n",
       "      <td>3.566625</td>\n",
       "      <td>0.132349</td>\n",
       "      <td>3.331239</td>\n",
       "      <td>3.773868</td>\n",
       "      <td>25.113282</td>\n",
       "      <td>0.137779</td>\n",
       "      <td>24.898424</td>\n",
       "      <td>...</td>\n",
       "      <td>0.875622</td>\n",
       "      <td>0.038930</td>\n",
       "      <td>0.002380</td>\n",
       "      <td>0.026117</td>\n",
       "      <td>0.007227</td>\n",
       "      <td>-4.095504e-11</td>\n",
       "      <td>0.397334</td>\n",
       "      <td>0.0</td>\n",
       "      <td>1.276381e+04</td>\n",
       "      <td>3.048261e-04</td>\n",
       "    </tr>\n",
       "    <tr>\n",
       "      <th>3</th>\n",
       "      <td>0000003.bin</td>\n",
       "      <td>10000.0</td>\n",
       "      <td>6.097589e-10</td>\n",
       "      <td>18.513867</td>\n",
       "      <td>0.003597</td>\n",
       "      <td>18.498104</td>\n",
       "      <td>18.521611</td>\n",
       "      <td>19.142029</td>\n",
       "      <td>0.008997</td>\n",
       "      <td>19.120348</td>\n",
       "      <td>...</td>\n",
       "      <td>9.650551</td>\n",
       "      <td>0.514386</td>\n",
       "      <td>0.003658</td>\n",
       "      <td>0.301072</td>\n",
       "      <td>0.279903</td>\n",
       "      <td>-7.257099e-12</td>\n",
       "      <td>0.391764</td>\n",
       "      <td>1.0</td>\n",
       "      <td>1.000000e+09</td>\n",
       "      <td>6.492574e-10</td>\n",
       "    </tr>\n",
       "    <tr>\n",
       "      <th>4</th>\n",
       "      <td>0000004.bin</td>\n",
       "      <td>10000.0</td>\n",
       "      <td>5.951220e-03</td>\n",
       "      <td>23.314674</td>\n",
       "      <td>6.756316</td>\n",
       "      <td>3.957209</td>\n",
       "      <td>38.942908</td>\n",
       "      <td>-19.036068</td>\n",
       "      <td>5.544896</td>\n",
       "      <td>-21.930247</td>\n",
       "      <td>...</td>\n",
       "      <td>0.154157</td>\n",
       "      <td>0.496372</td>\n",
       "      <td>0.248052</td>\n",
       "      <td>1.358604</td>\n",
       "      <td>0.261358</td>\n",
       "      <td>-2.610208e-08</td>\n",
       "      <td>0.402905</td>\n",
       "      <td>0.0</td>\n",
       "      <td>8.791888e+01</td>\n",
       "      <td>9.336734e-07</td>\n",
       "    </tr>\n",
       "  </tbody>\n",
       "</table>\n",
       "<p>5 rows × 126 columns</p>\n",
       "</div>"
      ],
      "text/plain": [
       "     runstring  t_final_short  Rel_Eerr_short  avg_beta12  std_beta12  \\\n",
       "0  0000000.bin        10000.0    1.346025e-08    8.488064    0.048209   \n",
       "1  0000001.bin        10000.0    8.934681e-10    8.414875    0.039142   \n",
       "2  0000002.bin        10000.0    3.169983e-08    3.566625    0.132349   \n",
       "3  0000003.bin        10000.0    6.097589e-10   18.513867    0.003597   \n",
       "4  0000004.bin        10000.0    5.951220e-03   23.314674    6.756316   \n",
       "\n",
       "   min_beta12  max_beta12  avg_beta23  std_beta23  min_beta23      ...       \\\n",
       "0    8.344623    8.551727   15.791595    0.085995   15.576612      ...        \n",
       "1    8.308582    8.495900   15.314101    0.037065   15.254833      ...        \n",
       "2    3.331239    3.773868   25.113282    0.137779   24.898424      ...        \n",
       "3   18.498104   18.521611   19.142029    0.008997   19.120348      ...        \n",
       "4    3.957209   38.942908  -19.036068    5.544896  -21.930247      ...        \n",
       "\n",
       "    min_iH3  avg_ecross3  std_ecross3  max_ecross3  min_ecross3  \\\n",
       "0  4.410404     0.297364     0.016641     0.339655     0.010871   \n",
       "1  0.588028     0.115674     0.039718     0.251880     0.137917   \n",
       "2  0.875622     0.038930     0.002380     0.026117     0.007227   \n",
       "3  9.650551     0.514386     0.003658     0.301072     0.279903   \n",
       "4  0.154157     0.496372     0.248052     1.358604     0.261358   \n",
       "\n",
       "   norm_a3_slope  wall_time  Stable  instability_time      Rel_Eerr  \n",
       "0   2.681898e-11   0.395531     0.0      1.235644e+07  1.099985e-04  \n",
       "1  -9.314702e-11   0.403877     0.0      1.348749e+05  1.388587e-08  \n",
       "2  -4.095504e-11   0.397334     0.0      1.276381e+04  3.048261e-04  \n",
       "3  -7.257099e-12   0.391764     1.0      1.000000e+09  6.492574e-10  \n",
       "4  -2.610208e-08   0.402905     0.0      8.791888e+01  9.336734e-07  \n",
       "\n",
       "[5 rows x 126 columns]"
      ]
     },
     "execution_count": 3,
     "metadata": {},
     "output_type": "execute_result"
    }
   ],
   "source": [
    "short_feats = pd.read_csv(\"../../csvs/BetaFeats/sifOrbsMore=10000.0Nout=100window=10.csv\", index_col =0 )\n",
    "short_feats.head()"
   ]
  },
  {
   "cell_type": "code",
   "execution_count": 4,
   "metadata": {
    "collapsed": false
   },
   "outputs": [
    {
     "data": {
      "text/html": [
       "<div>\n",
       "<style>\n",
       "    .dataframe thead tr:only-child th {\n",
       "        text-align: right;\n",
       "    }\n",
       "\n",
       "    .dataframe thead th {\n",
       "        text-align: left;\n",
       "    }\n",
       "\n",
       "    .dataframe tbody tr th {\n",
       "        vertical-align: top;\n",
       "    }\n",
       "</style>\n",
       "<table border=\"1\" class=\"dataframe\">\n",
       "  <thead>\n",
       "    <tr style=\"text-align: right;\">\n",
       "      <th></th>\n",
       "      <th>runstring</th>\n",
       "      <th>t_final_short</th>\n",
       "      <th>Rel_Eerr_short</th>\n",
       "      <th>avg_beta12</th>\n",
       "      <th>std_beta12</th>\n",
       "      <th>min_beta12</th>\n",
       "      <th>max_beta12</th>\n",
       "      <th>avg_beta23</th>\n",
       "      <th>std_beta23</th>\n",
       "      <th>min_beta23</th>\n",
       "      <th>...</th>\n",
       "      <th>min_iH3</th>\n",
       "      <th>avg_ecross3</th>\n",
       "      <th>std_ecross3</th>\n",
       "      <th>max_ecross3</th>\n",
       "      <th>min_ecross3</th>\n",
       "      <th>norm_a3_slope</th>\n",
       "      <th>wall_time</th>\n",
       "      <th>Stable</th>\n",
       "      <th>instability_time</th>\n",
       "      <th>Rel_Eerr</th>\n",
       "    </tr>\n",
       "  </thead>\n",
       "  <tbody>\n",
       "    <tr>\n",
       "      <th>1007</th>\n",
       "      <td>0001007.bin</td>\n",
       "      <td>10000.0</td>\n",
       "      <td>5.206029e-08</td>\n",
       "      <td>26.732355</td>\n",
       "      <td>0.043882</td>\n",
       "      <td>26.638832</td>\n",
       "      <td>26.835809</td>\n",
       "      <td>22.424908</td>\n",
       "      <td>0.341923</td>\n",
       "      <td>21.606912</td>\n",
       "      <td>...</td>\n",
       "      <td>0.499930</td>\n",
       "      <td>0.039808</td>\n",
       "      <td>0.016937</td>\n",
       "      <td>0.857421</td>\n",
       "      <td>0.714777</td>\n",
       "      <td>-1.082651e-08</td>\n",
       "      <td>0.388264</td>\n",
       "      <td>0.0</td>\n",
       "      <td>1.740364e+05</td>\n",
       "      <td>1.526402e-06</td>\n",
       "    </tr>\n",
       "    <tr>\n",
       "      <th>1021</th>\n",
       "      <td>0001021.bin</td>\n",
       "      <td>10000.0</td>\n",
       "      <td>4.398308e-09</td>\n",
       "      <td>8.336482</td>\n",
       "      <td>0.024231</td>\n",
       "      <td>8.275415</td>\n",
       "      <td>8.384433</td>\n",
       "      <td>12.815548</td>\n",
       "      <td>0.038202</td>\n",
       "      <td>12.731072</td>\n",
       "      <td>...</td>\n",
       "      <td>1.145887</td>\n",
       "      <td>0.367925</td>\n",
       "      <td>0.174110</td>\n",
       "      <td>0.029881</td>\n",
       "      <td>0.001526</td>\n",
       "      <td>-3.842643e-12</td>\n",
       "      <td>0.383372</td>\n",
       "      <td>0.0</td>\n",
       "      <td>2.689650e+06</td>\n",
       "      <td>1.961156e-07</td>\n",
       "    </tr>\n",
       "    <tr>\n",
       "      <th>1025</th>\n",
       "      <td>0001025.bin</td>\n",
       "      <td>10000.0</td>\n",
       "      <td>7.781939e-09</td>\n",
       "      <td>7.685149</td>\n",
       "      <td>0.040514</td>\n",
       "      <td>7.621851</td>\n",
       "      <td>7.766875</td>\n",
       "      <td>20.608268</td>\n",
       "      <td>0.027135</td>\n",
       "      <td>20.550142</td>\n",
       "      <td>...</td>\n",
       "      <td>0.214459</td>\n",
       "      <td>0.010761</td>\n",
       "      <td>0.000136</td>\n",
       "      <td>0.375722</td>\n",
       "      <td>0.365670</td>\n",
       "      <td>2.354612e-12</td>\n",
       "      <td>0.382403</td>\n",
       "      <td>0.0</td>\n",
       "      <td>6.744500e+05</td>\n",
       "      <td>9.745464e-10</td>\n",
       "    </tr>\n",
       "    <tr>\n",
       "      <th>1041</th>\n",
       "      <td>0001041.bin</td>\n",
       "      <td>10000.0</td>\n",
       "      <td>1.961802e-09</td>\n",
       "      <td>23.388121</td>\n",
       "      <td>0.004581</td>\n",
       "      <td>23.377418</td>\n",
       "      <td>23.395434</td>\n",
       "      <td>7.072915</td>\n",
       "      <td>0.105877</td>\n",
       "      <td>6.906414</td>\n",
       "      <td>...</td>\n",
       "      <td>9.175108</td>\n",
       "      <td>1.434662</td>\n",
       "      <td>0.050702</td>\n",
       "      <td>0.712976</td>\n",
       "      <td>0.578283</td>\n",
       "      <td>2.174409e-12</td>\n",
       "      <td>0.393527</td>\n",
       "      <td>0.0</td>\n",
       "      <td>7.144115e+05</td>\n",
       "      <td>1.061513e-07</td>\n",
       "    </tr>\n",
       "    <tr>\n",
       "      <th>10518</th>\n",
       "      <td>0010518.bin</td>\n",
       "      <td>10000.0</td>\n",
       "      <td>8.140560e-09</td>\n",
       "      <td>17.738335</td>\n",
       "      <td>0.016146</td>\n",
       "      <td>17.683682</td>\n",
       "      <td>17.771795</td>\n",
       "      <td>21.168231</td>\n",
       "      <td>0.009907</td>\n",
       "      <td>21.148539</td>\n",
       "      <td>...</td>\n",
       "      <td>3.865721</td>\n",
       "      <td>0.184720</td>\n",
       "      <td>0.000841</td>\n",
       "      <td>0.379382</td>\n",
       "      <td>0.373758</td>\n",
       "      <td>1.147297e-12</td>\n",
       "      <td>0.314230</td>\n",
       "      <td>0.0</td>\n",
       "      <td>9.271272e+06</td>\n",
       "      <td>4.160501e-07</td>\n",
       "    </tr>\n",
       "  </tbody>\n",
       "</table>\n",
       "<p>5 rows × 126 columns</p>\n",
       "</div>"
      ],
      "text/plain": [
       "         runstring  t_final_short  Rel_Eerr_short  avg_beta12  std_beta12  \\\n",
       "1007   0001007.bin        10000.0    5.206029e-08   26.732355    0.043882   \n",
       "1021   0001021.bin        10000.0    4.398308e-09    8.336482    0.024231   \n",
       "1025   0001025.bin        10000.0    7.781939e-09    7.685149    0.040514   \n",
       "1041   0001041.bin        10000.0    1.961802e-09   23.388121    0.004581   \n",
       "10518  0010518.bin        10000.0    8.140560e-09   17.738335    0.016146   \n",
       "\n",
       "       min_beta12  max_beta12  avg_beta23  std_beta23  min_beta23  \\\n",
       "1007    26.638832   26.835809   22.424908    0.341923   21.606912   \n",
       "1021     8.275415    8.384433   12.815548    0.038202   12.731072   \n",
       "1025     7.621851    7.766875   20.608268    0.027135   20.550142   \n",
       "1041    23.377418   23.395434    7.072915    0.105877    6.906414   \n",
       "10518   17.683682   17.771795   21.168231    0.009907   21.148539   \n",
       "\n",
       "           ...        min_iH3  avg_ecross3  std_ecross3  max_ecross3  \\\n",
       "1007       ...       0.499930     0.039808     0.016937     0.857421   \n",
       "1021       ...       1.145887     0.367925     0.174110     0.029881   \n",
       "1025       ...       0.214459     0.010761     0.000136     0.375722   \n",
       "1041       ...       9.175108     1.434662     0.050702     0.712976   \n",
       "10518      ...       3.865721     0.184720     0.000841     0.379382   \n",
       "\n",
       "       min_ecross3  norm_a3_slope  wall_time  Stable  instability_time  \\\n",
       "1007      0.714777  -1.082651e-08   0.388264     0.0      1.740364e+05   \n",
       "1021      0.001526  -3.842643e-12   0.383372     0.0      2.689650e+06   \n",
       "1025      0.365670   2.354612e-12   0.382403     0.0      6.744500e+05   \n",
       "1041      0.578283   2.174409e-12   0.393527     0.0      7.144115e+05   \n",
       "10518     0.373758   1.147297e-12   0.314230     0.0      9.271272e+06   \n",
       "\n",
       "           Rel_Eerr  \n",
       "1007   1.526402e-06  \n",
       "1021   1.961156e-07  \n",
       "1025   9.745464e-10  \n",
       "1041   1.061513e-07  \n",
       "10518  4.160501e-07  \n",
       "\n",
       "[5 rows x 126 columns]"
      ]
     },
     "execution_count": 4,
     "metadata": {},
     "output_type": "execute_result"
    }
   ],
   "source": [
    "subsystem = parameters[\"ID\"].values.astype(int)\n",
    "#print subsystem\n",
    "sub_short = short_feats.loc[subsystem]\n",
    "sub_short.head()"
   ]
  },
  {
   "cell_type": "code",
   "execution_count": 22,
   "metadata": {
    "collapsed": true
   },
   "outputs": [],
   "source": [
    "# need calculated params\n",
    "params = pd.read_csv(\"../../Figures/ConvolutedFigures/Convolved_ParamsNorm_266.csv\")"
   ]
  },
  {
   "cell_type": "code",
   "execution_count": 6,
   "metadata": {
    "collapsed": false
   },
   "outputs": [],
   "source": [
    "#need to do a double integral\n",
    "\n",
    "def weib(loc, loc_fixed, gamma, alpha, x):\n",
    "    #assume x is log t\n",
    "    prob = (gamma/alpha)* ((loc-loc_fixed)/alpha)**(gamma-1.) * np.exp(-((loc-loc_fixed)/alpha)**gamma)\n",
    "    dist = (gamma/alpha)* ((x-loc)/alpha)**(gamma-1.) * np.exp(-((x-loc)/alpha)**gamma)\n",
    "    return prob*dist"
   ]
  },
  {
   "cell_type": "code",
   "execution_count": 7,
   "metadata": {
    "collapsed": false
   },
   "outputs": [],
   "source": [
    "#need to do a double integral\n",
    "#x must be an ARRAY\n",
    "def weib_pdf(x, loc,  gamma, alpha):\n",
    "    #assume x is log t\n",
    "    problematic = np.where(x<loc)[0]\n",
    "    #print problematic\n",
    "    fine = np.where(x>loc)[0]\n",
    "    #print fine\n",
    "    prob = np.zeros_like(x)\n",
    "    #print x[fine]\n",
    "    \n",
    "    prob[fine] = (gamma/alpha)* ((x[fine]-loc)/alpha)**(gamma-1.) * np.exp(-((x[fine]-loc)/alpha)**gamma)\n",
    "    #print prob[fine]\n",
    "    prob[problematic]=0.\n",
    "    return prob"
   ]
  },
  {
   "cell_type": "code",
   "execution_count": 8,
   "metadata": {
    "collapsed": false
   },
   "outputs": [],
   "source": [
    "#need to do a double integral\n",
    "#x can be int or aray, but has poor error handling\n",
    "def weib_pdf_val(x, loc,  gamma, alpha):\n",
    "    #assume x is log t  \n",
    "    prob = (gamma/alpha)* ((x-loc)/alpha)**(gamma-1.) * np.exp(-((x-loc)/alpha)**gamma)\n",
    "    #print prob[fine]\n",
    "    return prob"
   ]
  },
  {
   "cell_type": "code",
   "execution_count": 9,
   "metadata": {
    "collapsed": false
   },
   "outputs": [
    {
     "data": {
      "text/plain": [
       "0.011692716127467438"
      ]
     },
     "execution_count": 9,
     "metadata": {},
     "output_type": "execute_result"
    }
   ],
   "source": [
    "#2.61402658322 1.28337089098 4.44752697372\n",
    "gamma = 2.61402658322\n",
    "alpha = 1.28337089098\n",
    "loc = 4.44752697372\n",
    "x = 4.5\n",
    "(gamma/alpha)* ((x-loc)/alpha)**(gamma-1.) * np.exp(-((x-loc)/alpha)**gamma)"
   ]
  },
  {
   "cell_type": "code",
   "execution_count": 10,
   "metadata": {
    "collapsed": true
   },
   "outputs": [],
   "source": [
    "# Define model function to be used to fit to the data above:\n",
    "def gauss(x, *p):\n",
    "    A, mu, sigma = p\n",
    "    return A*np.exp(-(x-mu)**2/(2.*sigma**2))"
   ]
  },
  {
   "cell_type": "code",
   "execution_count": 38,
   "metadata": {
    "collapsed": false
   },
   "outputs": [
    {
     "name": "stdout",
     "output_type": "stream",
     "text": [
      "2.19905841666 1.31076288663 5.20743859227 6.72684742238\n"
     ]
    },
    {
     "data": {
      "text/plain": [
       "[<matplotlib.lines.Line2D at 0x7fb2d23649d0>]"
      ]
     },
     "execution_count": 38,
     "metadata": {},
     "output_type": "execute_result"
    },
    {
     "data": {
      "image/png": "[encoded data removed]",
      "text/plain": [
       "<matplotlib.figure.Figure at 0x7fb2d0175810>"
      ]
     },
     "metadata": {},
     "output_type": "display_data"
    },
    {
     "data": {
      "image/png": "[encoded data removed]",
      "text/plain": [
       "<matplotlib.figure.Figure at 0x7fb2d04e7750>"
      ]
     },
     "metadata": {},
     "output_type": "display_data"
    }
   ],
   "source": [
    "index_val = 141\n",
    "gamma = parameters[\"Gamma\"][index_val]\n",
    "alpha = parameters[\"Alpha\"][index_val]\n",
    "loc = parameters[\"Location\"][index_val]\n",
    "x = np.log10(sub_short[\"instability_time\"].values[index_val])\n",
    "print gamma, alpha, loc, x \n",
    "from scipy.stats import norm\n",
    "plt.figure(figsize=(12,5))\n",
    "vals= np.linspace(loc+0.001, loc+alpha*5, 100)\n",
    "final_y  = np.zeros(100)\n",
    "for i in range(int(vals.shape[0])):\n",
    "    \n",
    "    #try manually adding three different functions\n",
    "    bins = np.linspace(loc , loc+5*alpha, 100)\n",
    "    val1 = vals[i]\n",
    "\n",
    "    #print val1, loc, gamma, alpha\n",
    "    prob = weib_pdf_val(val1, loc, gamma, alpha)\n",
    "    #print prob\n",
    "    y = prob*weib_pdf(bins, val1,gamma, alpha)\n",
    "    #print y\n",
    "    plt.plot(bins, y)\n",
    "    final_y = np.nansum(np.asarray([y, final_y]), axis = 0)  #np.nansum(a=[y, final_y], axis= 1)\n",
    "    #print y[:10]\n",
    "    #print final_y[:10]\n",
    "    #break\n",
    "    \n",
    "    \n",
    "    \n",
    "plt.figure()\n",
    "final_y \n",
    "#print final_y\n",
    "plt.plot(bins, final_y/params[\"Norm\"][index_val])\n",
    "\n",
    "\n",
    "\n"
   ]
  },
  {
   "cell_type": "code",
   "execution_count": 36,
   "metadata": {
    "collapsed": false
   },
   "outputs": [
    {
     "name": "stdout",
     "output_type": "stream",
     "text": [
      "0.93072997492\n",
      "KstestResult(statistic=0.5, pvalue=0.0)\n"
     ]
    },
    {
     "data": {
      "image/png": "[encoded data removed]",
      "text/plain": [
       "<matplotlib.figure.Figure at 0x7fb2d001db50>"
      ]
     },
     "metadata": {},
     "output_type": "display_data"
    },
    {
     "data": {
      "image/png": "[encoded data removed]",
      "text/plain": [
       "<matplotlib.figure.Figure at 0x7fb2d05f2d50>"
      ]
     },
     "metadata": {},
     "output_type": "display_data"
    }
   ],
   "source": [
    "#dont need a gaussian fit\n",
    "\n",
    "plt.plot(bins, final_y)\n",
    "plt.plot(bins, hist_fit)\n",
    "print rms_error(hist_fit, final_y)\n",
    "\n",
    "#create cdf?\n",
    "cdf_y = np.zeros_like(final_y)\n",
    "for i, val in enumerate(final_y):\n",
    "    cdf_y[i] = np.nansum(final_y[0:i])\n",
    "plt.figure()\n",
    "\n",
    "\n",
    "#correction factors\n",
    "cdf_y = cdf_y*1./cdf_y.max()\n",
    "\n",
    "plt.plot(bins[:-30], cdf_y[:-30])\n",
    "print scipy.stats.kstest(final_y/params[\"Norm\"][142], \"norm\")\n"
   ]
  },
  {
   "cell_type": "markdown",
   "metadata": {
    "collapsed": true
   },
   "source": [
    "#Try doing this for all 266 systems"
   ]
  },
  {
   "cell_type": "code",
   "execution_count": 19,
   "metadata": {
    "collapsed": true
   },
   "outputs": [],
   "source": [
    "import time"
   ]
  },
  {
   "cell_type": "code",
   "execution_count": 19,
   "metadata": {
    "collapsed": false
   },
   "outputs": [
    {
     "name": "stdout",
     "output_type": "stream",
     "text": [
      "0 1 2 3 4 5 6 7 8 9 10 11 12 13 14 15 16 17 18 19 20 21 22 23 24 25 26 27 28 29 30 31 32 33 34 35 36 37 38 39 40 Optimal parameters not found: Number of calls to function has reached maxfev = 800.\n",
      "41 42 43 44 45 Optimal parameters not found: Number of calls to function has reached maxfev = 800.\n",
      "46 47 48 49 50 51 52 53 Optimal parameters not found: Number of calls to function has reached maxfev = 800.\n",
      "54 55 56 57 58 59 60 61 62 Optimal parameters not found: Number of calls to function has reached maxfev = 800.\n",
      "63 64 65 66 67 68 69 70 71 72 73 74 75 76 77 78 79 80 81 82 83 84 85 86 87 88 89 90 91 92 93 94 95 96 97 98 99 100 101 102 103 104 105 106 107 108 109 110 111 112 113 114 115 116 117 118 119 Optimal parameters not found: Number of calls to function has reached maxfev = 800.\n",
      "120 121 122 123 124 125 126 127 128 129 130 131 132 133 134 135 136 137 138 139 140 141 142 143 144 145 146 147 148 149 Optimal parameters not found: Number of calls to function has reached maxfev = 800.\n",
      "150 151 152 153 154 155 156 157 158 159 160 161 162 Optimal parameters not found: Number of calls to function has reached maxfev = 800.\n",
      "163 164 165 166 167 168 169 170 171 172 173 174 175 176 177 178 179 180 181 182 183 184 185 186 187 Optimal parameters not found: Number of calls to function has reached maxfev = 800.\n",
      "188 189 190 191 192 193 194 195 196 197 198 199 200 201 202 203 204 205 206 207 208 209 210 211 212 213 214 215 216 217 218 219 220 221 222 223 224 225 226 227 228 229 Optimal parameters not found: Number of calls to function has reached maxfev = 800.\n",
      "230 231 232 233 234 235 236 237 238 239 240 241 242 243 244 245 246 247 248 249 250 Optimal parameters not found: Number of calls to function has reached maxfev = 800.\n",
      "251 252 253 254 255 256 257 258 Optimal parameters not found: Number of calls to function has reached maxfev = 800.\n",
      "259 260"
     ]
    },
    {
     "name": "stderr",
     "output_type": "stream",
     "text": [
      "/home/naireen/anaconda2/lib/python2.7/site-packages/ipykernel/__main__.py:12: RuntimeWarning: overflow encountered in power\n",
      "/home/naireen/anaconda2/lib/python2.7/site-packages/ipykernel/__main__.py:12: RuntimeWarning: invalid value encountered in multiply\n",
      "/home/naireen/anaconda2/lib/python2.7/site-packages/ipykernel/__main__.py:5: RuntimeWarning: overflow encountered in double_scalars\n",
      "/home/naireen/anaconda2/lib/python2.7/site-packages/ipykernel/__main__.py:5: RuntimeWarning: invalid value encountered in double_scalars\n"
     ]
    },
    {
     "name": "stdout",
     "output_type": "stream",
     "text": [
      " 261 262 Optimal parameters not found: Number of calls to function has reached maxfev = 800.\n",
      "263 264 265"
     ]
    },
    {
     "name": "stderr",
     "output_type": "stream",
     "text": [
      "/home/naireen/anaconda2/lib/python2.7/site-packages/scipy/optimize/minpack.py:779: OptimizeWarning: Covariance of the parameters could not be estimated\n",
      "  category=OptimizeWarning)\n"
     ]
    },
    {
     "name": "stdout",
     "output_type": "stream",
     "text": [
      " 378.643035889\n"
     ]
    }
   ],
   "source": [
    "start = time.time()\n",
    "info = np.zeros((parameters.shape[0], 7)) # add norm const, RMS\n",
    "corrupted = []\n",
    "for index_val in range(int(parameters.shape[0])):\n",
    "    fig = plt.figure(figsize=(15, 5))\n",
    "    ax = fig.add_subplot(\"121\")\n",
    "    ax2 = fig.add_subplot(\"122\")\n",
    "    print index_val, \n",
    "    gamma = parameters[\"Gamma\"][index_val]\n",
    "    alpha = parameters[\"Alpha\"][index_val]\n",
    "    loc = parameters[\"Location\"][index_val]\n",
    "    x = np.log10(sub_short[\"instability_time\"].values[index_val])\n",
    "    #print \"Spread\", alpha\n",
    "    #print gamma, alpha, loc, x \n",
    "    vals= np.linspace(loc+0.001, loc+alpha*5, 500)\n",
    "    final_y  = np.zeros(100)\n",
    "    for i in range(int(vals.shape[0])):\n",
    "        bins = np.linspace(loc , loc+5*alpha, 100)\n",
    "        val1 = vals[i]\n",
    "        #get the entire pdf\n",
    "        prob = weib_pdf_val(val1, loc, gamma, alpha)\n",
    "        #get the probability that time being drawn\n",
    "        y = prob*weib_pdf(bins, val1,gamma, alpha)\n",
    "        ax.plot(bins, y)#just to prevent any errors\n",
    "        final_y = np.nansum(np.asarray([y, final_y]), axis = 0)  #np.nansum(a=[y, final_y], axis= 1)\n",
    "    #plt.figure(figsize=(12, 8))\n",
    "    ax2.plot(bins, final_y)    \n",
    "    p0 = [1., loc+alpha*3, alpha] #norm, mean, sigma\n",
    "    #popt,pcov = curve_fit(gaus,x,y,p0=[1,mean,sigma])\n",
    "\n",
    "\n",
    "end = time.time()\n",
    "print end-start\n"
   ]
  },
  {
   "cell_type": "markdown",
   "metadata": {},
   "source": [
    "The ones that failed were the exp dists with very low values of gamma, because even after convoluting them, they remain an exponential (as expected)"
   ]
  },
  {
   "cell_type": "code",
   "execution_count": 15,
   "metadata": {
    "collapsed": false
   },
   "outputs": [
    {
     "name": "stdout",
     "output_type": "stream",
     "text": [
      "[13362, 1364, 1424, 1508, 1886, 2059, 2105, 22032, 24013, 4641, 7341, 8582]\n"
     ]
    }
   ],
   "source": [
    "print corrupted\n",
    "np.savetxt(\"../../../Corrupted.txt\", corrupted )"
   ]
  },
  {
   "cell_type": "code",
   "execution_count": 16,
   "metadata": {
    "collapsed": false
   },
   "outputs": [
    {
     "name": "stdout",
     "output_type": "stream",
     "text": [
      "(266, 5)\n"
     ]
    },
    {
     "data": {
      "text/html": [
       "<div>\n",
       "<style>\n",
       "    .dataframe thead tr:only-child th {\n",
       "        text-align: right;\n",
       "    }\n",
       "\n",
       "    .dataframe thead th {\n",
       "        text-align: left;\n",
       "    }\n",
       "\n",
       "    .dataframe tbody tr th {\n",
       "        vertical-align: top;\n",
       "    }\n",
       "</style>\n",
       "<table border=\"1\" class=\"dataframe\">\n",
       "  <thead>\n",
       "    <tr style=\"text-align: right;\">\n",
       "      <th></th>\n",
       "      <th>ID</th>\n",
       "      <th>Mean</th>\n",
       "      <th>Mean_Error</th>\n",
       "      <th>Sigma</th>\n",
       "      <th>Error</th>\n",
       "    </tr>\n",
       "  </thead>\n",
       "  <tbody>\n",
       "    <tr>\n",
       "      <th>0</th>\n",
       "      <td>1007.0</td>\n",
       "      <td>6.690395</td>\n",
       "      <td>0.003361</td>\n",
       "      <td>0.673699</td>\n",
       "      <td>0.003362</td>\n",
       "    </tr>\n",
       "    <tr>\n",
       "      <th>1</th>\n",
       "      <td>1021.0</td>\n",
       "      <td>7.008166</td>\n",
       "      <td>0.000794</td>\n",
       "      <td>0.491397</td>\n",
       "      <td>0.000794</td>\n",
       "    </tr>\n",
       "    <tr>\n",
       "      <th>2</th>\n",
       "      <td>1025.0</td>\n",
       "      <td>6.578721</td>\n",
       "      <td>0.004413</td>\n",
       "      <td>0.557288</td>\n",
       "      <td>0.004418</td>\n",
       "    </tr>\n",
       "    <tr>\n",
       "      <th>3</th>\n",
       "      <td>1041.0</td>\n",
       "      <td>6.496167</td>\n",
       "      <td>0.008348</td>\n",
       "      <td>0.674804</td>\n",
       "      <td>0.008426</td>\n",
       "    </tr>\n",
       "    <tr>\n",
       "      <th>4</th>\n",
       "      <td>10518.0</td>\n",
       "      <td>7.033292</td>\n",
       "      <td>0.009821</td>\n",
       "      <td>0.599368</td>\n",
       "      <td>0.010098</td>\n",
       "    </tr>\n",
       "  </tbody>\n",
       "</table>\n",
       "</div>"
      ],
      "text/plain": [
       "        ID      Mean  Mean_Error     Sigma     Error\n",
       "0   1007.0  6.690395    0.003361  0.673699  0.003362\n",
       "1   1021.0  7.008166    0.000794  0.491397  0.000794\n",
       "2   1025.0  6.578721    0.004413  0.557288  0.004418\n",
       "3   1041.0  6.496167    0.008348  0.674804  0.008426\n",
       "4  10518.0  7.033292    0.009821  0.599368  0.010098"
      ]
     },
     "execution_count": 16,
     "metadata": {},
     "output_type": "execute_result"
    }
   ],
   "source": [
    "info_frame = pd.DataFrame(info, columns=[\"ID\", \"Norm\",\"Mean\" , \"Mean_Error\", \"Sigma\", \"Error\"])\n",
    "print info_frame.shape\n",
    "#info_frame.to_csv(\"../../Figures/ConvolutedFigures/Convolved_Params_266.csv\")\n",
    "info_frame.head()"
   ]
  },
  {
   "cell_type": "code",
   "execution_count": 12,
   "metadata": {
    "collapsed": false
   },
   "outputs": [
    {
     "name": "stdout",
     "output_type": "stream",
     "text": [
      "1.64528002659\n",
      "253 out of 266\n"
     ]
    }
   ],
   "source": [
    "#reload csv\n",
    "info_frame = pd.read_csv(\"../../Figures/ConvolutedFigures/Convolved_Params_266.csv\")\n",
    "#system 787 is weird, high sigma value\n",
    "valid_info_frame= info_frame[(info_frame[\"Mean\"]!=np.inf) & (info_frame[\"Sigma\"]<10)] #need to see what causes this\n",
    "print valid_info_frame[\"Sigma\"].max()\n",
    "print valid_info_frame.shape[0], \"out of\", info_frame.shape[0]\n",
    "#info_frame.hist(\"Sigma\")\n",
    "ind =  np.where(valid_info_frame[\"Sigma\"] == valid_info_frame[\"Sigma\"].max())[0][0]\n",
    "#valid_info_frame[valid_info_frame[\"Sigma\"]>10]"
   ]
  },
  {
   "cell_type": "code",
   "execution_count": 13,
   "metadata": {
    "collapsed": false
   },
   "outputs": [
    {
     "name": "stderr",
     "output_type": "stream",
     "text": [
      "/home/naireen/anaconda2/lib/python2.7/site-packages/ipykernel/__main__.py:1: SettingWithCopyWarning: \n",
      "A value is trying to be set on a copy of a slice from a DataFrame.\n",
      "Try using .loc[row_indexer,col_indexer] = value instead\n",
      "\n",
      "See the caveats in the documentation: http://pandas.pydata.org/pandas-docs/stable/indexing.html#indexing-view-versus-copy\n",
      "  if __name__ == '__main__':\n"
     ]
    },
    {
     "data": {
      "text/plain": [
       "array([[<matplotlib.axes._subplots.AxesSubplot object at 0x7f8d25de0dd0>]], dtype=object)"
      ]
     },
     "execution_count": 13,
     "metadata": {},
     "output_type": "execute_result"
    },
    {
     "data": {
      "image/png": "[encoded data removed]",
      "text/plain": [
       "<matplotlib.figure.Figure at 0x7f8d25db06d0>"
      ]
     },
     "metadata": {},
     "output_type": "display_data"
    }
   ],
   "source": [
    "valid_info_frame[\"Sigma\"] = np.abs(valid_info_frame[\"Sigma\"])\n",
    "bins = np.linspace(0, 1.5, 20)\n",
    "valid_info_frame.hist(\"Sigma\",  normed = 1, bins = bins)"
   ]
  },
  {
   "cell_type": "code",
   "execution_count": 14,
   "metadata": {
    "collapsed": false
   },
   "outputs": [
    {
     "name": "stdout",
     "output_type": "stream",
     "text": [
      "Average Sigma 0.61418098208 Std in Sigma 0.268581953859\n",
      "(253, 6)\n"
     ]
    },
    {
     "data": {
      "image/png": "[encoded data removed]",
      "text/plain": [
       "<matplotlib.figure.Figure at 0x7f8d2601a690>"
      ]
     },
     "metadata": {},
     "output_type": "display_data"
    }
   ],
   "source": [
    "from scipy.stats import norm\n",
    "\n",
    "mu_fit, sig_fit =  norm.fit(valid_info_frame[\"Sigma\"].values)\n",
    "print \"Average Sigma\", mu_fit, \"Std in Sigma\", sig_fit\n",
    "#x, xmax = plt.xlim()\n",
    "fig = plt.figure()\n",
    "ax = fig.add_subplot(\"111\")\n",
    "x = np.linspace(0, 1.8, 100)\n",
    "p = norm.pdf(x, mu_fit, sig_fit)\n",
    "plt.plot(x, p)\n",
    "valid_info_frame.hist(\"Sigma\", normed = 1, ax = ax, bins = bins)\n",
    "print valid_info_frame.shape"
   ]
  },
  {
   "cell_type": "code",
   "execution_count": 24,
   "metadata": {
    "collapsed": false
   },
   "outputs": [
    {
     "name": "stdout",
     "output_type": "stream",
     "text": [
      "(253, 6)\n",
      "(266, 4)\n",
      "265\n",
      "0\n",
      "(1.0, 1.0)\n",
      "99.9251661301\n"
     ]
    }
   ],
   "source": [
    "print valid_info_frame.shape\n",
    "#print valid_info_frame.head(2)\n",
    "print parameters.shape\n",
    "start = time.time()\n",
    "summary = np.zeros((valid_info_frame.shape[0],3)) # ID score, p values, A mu sigma\n",
    "counter = -1\n",
    "for index_val in range(0,int(parameters.shape[0])):\n",
    "    index_val =265\n",
    "    print index_val\n",
    "\n",
    "    \n",
    "    if parameters[\"ID\"][index_val] in valid_info_frame[\"ID\"].values:\n",
    "        counter +=1\n",
    "        location = np.where(parameters[\"ID\"][index_val] == valid_info_frame[\"ID\"].values)[0][0]\n",
    "        #print location\n",
    "        gamma = parameters[\"Gamma\"][index_val]\n",
    "        alpha = parameters[\"Alpha\"][index_val]\n",
    "        loc = parameters[\"Location\"][index_val]\n",
    "        x = np.log10(sub_short[\"instability_time\"].values[index_val])\n",
    "        #print \"Spread\", alpha\n",
    "        #print gamma, alpha, loc, x \n",
    "        vals= np.linspace(loc+0.001, loc+alpha*5, 500)\n",
    "        final_y  = np.zeros(100)\n",
    "        for i in range(int(vals.shape[0])):\n",
    "            bins = np.linspace(loc , loc+5*alpha, 100)\n",
    "            val1 = vals[i]\n",
    "            #get the entire pdf\n",
    "            prob = weib_pdf_val(val1, loc, gamma, alpha)\n",
    "            #get the probability that time being drawn\n",
    "            y = prob*weib_pdf(bins, val1,gamma, alpha)\n",
    "            ax.plot(bins, y)#just to prevent any errors\n",
    "            final_y = np.nansum(np.asarray([y, final_y]), axis = 0)  \n",
    "\n",
    "        params = valid_info_frame.iloc[location, :]# row with teh correct params\n",
    "        p0 = [1., loc+alpha*3, alpha] #norm, mean, sigma\n",
    "\n",
    "        coeff, var_matrix = scipy.optimize.curve_fit(gauss, bins, final_y, p0 = p0)\n",
    "        # Get the fitted curve\n",
    "        hist_fit = gauss(bins, *coeff)\n",
    "        print counter#\n",
    "        score = scipy.stats.shapiro(final_y)\n",
    "        print score\n",
    "        summary[counter, 0] = parameters[\"ID\"][index_val]\n",
    "        summary[counter,1] = score[0]\n",
    "        summary[counter, 2] = score[1]\n",
    "\n",
    "        #print scipy.stats.anderson(final_y)\n",
    "\n",
    "    #break   \n",
    "end = time.time()\n",
    "print end-start\n"
   ]
  },
  {
   "cell_type": "code",
   "execution_count": 28,
   "metadata": {
    "collapsed": false
   },
   "outputs": [],
   "source": [
    "#save the info, so this doesn't need to be rerun\n",
    "#summary_frame = pd.DataFrame(summary, columns=[\"ID\", \"ShapiroScore\", \"P-value\"])\n",
    "#summary_frame.to_csv(\"../../../Goodness_0f_Fit_Test.csv\")\n",
    "#summary_frame.head()"
   ]
  },
  {
   "cell_type": "code",
   "execution_count": 3,
   "metadata": {
    "collapsed": false
   },
   "outputs": [
    {
     "data": {
      "text/html": [
       "<div>\n",
       "<style>\n",
       "    .dataframe thead tr:only-child th {\n",
       "        text-align: right;\n",
       "    }\n",
       "\n",
       "    .dataframe thead th {\n",
       "        text-align: left;\n",
       "    }\n",
       "\n",
       "    .dataframe tbody tr th {\n",
       "        vertical-align: top;\n",
       "    }\n",
       "</style>\n",
       "<table border=\"1\" class=\"dataframe\">\n",
       "  <thead>\n",
       "    <tr style=\"text-align: right;\">\n",
       "      <th></th>\n",
       "      <th>ID</th>\n",
       "      <th>ShapiroScore</th>\n",
       "      <th>P-value</th>\n",
       "    </tr>\n",
       "  </thead>\n",
       "  <tbody>\n",
       "    <tr>\n",
       "      <th>248</th>\n",
       "      <td>67.0</td>\n",
       "      <td>0.516483</td>\n",
       "      <td>1.431862e-16</td>\n",
       "    </tr>\n",
       "    <tr>\n",
       "      <th>249</th>\n",
       "      <td>7431.0</td>\n",
       "      <td>0.784115</td>\n",
       "      <td>8.285428e-11</td>\n",
       "    </tr>\n",
       "    <tr>\n",
       "      <th>250</th>\n",
       "      <td>8462.0</td>\n",
       "      <td>0.802557</td>\n",
       "      <td>2.968922e-10</td>\n",
       "    </tr>\n",
       "    <tr>\n",
       "      <th>251</th>\n",
       "      <td>8744.0</td>\n",
       "      <td>0.924164</td>\n",
       "      <td>2.357212e-05</td>\n",
       "    </tr>\n",
       "    <tr>\n",
       "      <th>252</th>\n",
       "      <td>91.0</td>\n",
       "      <td>0.856748</td>\n",
       "      <td>2.122787e-08</td>\n",
       "    </tr>\n",
       "  </tbody>\n",
       "</table>\n",
       "</div>"
      ],
      "text/plain": [
       "         ID  ShapiroScore       P-value\n",
       "248    67.0      0.516483  1.431862e-16\n",
       "249  7431.0      0.784115  8.285428e-11\n",
       "250  8462.0      0.802557  2.968922e-10\n",
       "251  8744.0      0.924164  2.357212e-05\n",
       "252    91.0      0.856748  2.122787e-08"
      ]
     },
     "execution_count": 3,
     "metadata": {},
     "output_type": "execute_result"
    }
   ],
   "source": [
    "summary_frame = pd.read_csv(\"../../csvs/Goodness_0f_Fit_Test.csv\", index_col =0 )\n",
    "summary_frame.tail()\n",
    "#dont worry about 99, that didnt have the gaussian fit converge, so that can be ignored."
   ]
  },
  {
   "cell_type": "code",
   "execution_count": 8,
   "metadata": {
    "collapsed": false
   },
   "outputs": [
    {
     "name": "stdout",
     "output_type": "stream",
     "text": [
      "2\n"
     ]
    },
    {
     "data": {
      "image/png": "[encoded data removed]",
      "text/plain": [
       "<matplotlib.figure.Figure at 0x7f31e54c57d0>"
      ]
     },
     "metadata": {},
     "output_type": "display_data"
    }
   ],
   "source": [
    "print len(np.where(summary_frame[\"P-value\"] >0.05)[0])\n",
    "bins = np.logspace(-14, 0, 15)\n",
    "summary_frame.hist(\"P-value\", bins = bins)\n",
    "plt.xscale(\"log\")"
   ]
  },
  {
   "cell_type": "code",
   "execution_count": 7,
   "metadata": {
    "collapsed": false
   },
   "outputs": [
    {
     "name": "stdout",
     "output_type": "stream",
     "text": [
      "2\n"
     ]
    },
    {
     "data": {
      "text/plain": [
       "array([[<matplotlib.axes._subplots.AxesSubplot object at 0x7f31b21ffe10>]], dtype=object)"
      ]
     },
     "execution_count": 7,
     "metadata": {},
     "output_type": "execute_result"
    },
    {
     "data": {
      "image/png": "[encoded data removed]",
      "text/plain": [
       "<matplotlib.figure.Figure at 0x7f31b58f6290>"
      ]
     },
     "metadata": {},
     "output_type": "display_data"
    }
   ],
   "source": [
    "print len(np.where(summary_frame[\"P-value\"] >0.05)[0])\n",
    "bins = np.logspace(-14, -4, 11)\n",
    "summary_frame.hist(\"ShapiroScore\")\n",
    "#plt.xscale(\"log\")"
   ]
  },
  {
   "cell_type": "code",
   "execution_count": null,
   "metadata": {
    "collapsed": true
   },
   "outputs": [],
   "source": []
  }
 ],
 "metadata": {
  "anaconda-cloud": {},
  "kernelspec": {
   "display_name": "Python [conda root]",
   "language": "python",
   "name": "conda-root-py"
  },
  "language_info": {
   "codemirror_mode": {
    "name": "ipython",
    "version": 2
   },
   "file_extension": ".py",
   "mimetype": "text/x-python",
   "name": "python",
   "nbconvert_exporter": "python",
   "pygments_lexer": "ipython2",
   "version": "2.7.12"
  }
 },
 "nbformat": 4,
 "nbformat_minor": 1
}
