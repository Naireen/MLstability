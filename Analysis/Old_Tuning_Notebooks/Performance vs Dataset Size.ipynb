{
 "cells": [
  {
   "cell_type": "code",
   "execution_count": 106,
   "metadata": {
    "collapsed": true
   },
   "outputs": [],
   "source": [
    "import numpy as np\n",
    "import pandas as pd\n",
    "import xgboost as xgb\n",
    "import time\n",
    "import matplotlib \n",
    "from matplotlib import pyplot as plt\n",
    "import rebound"
   ]
  },
  {
   "cell_type": "code",
   "execution_count": 107,
   "metadata": {
    "collapsed": false
   },
   "outputs": [],
   "source": [
    "params = {'x_learning_rate': 0.1,\n",
    " 'x_max_depth': 15,\n",
    " 'x_min_child': 10,\n",
    " 'x_pos_weight': 10,\n",
    " 'x_subsample': 0.95,\n",
    " 'x_tree_colsample': 0.9}"
   ]
  },
  {
   "cell_type": "code",
   "execution_count": 108,
   "metadata": {
    "collapsed": false
   },
   "outputs": [
    {
     "data": {
      "text/html": [
       "<div>\n",
       "<style>\n",
       "    .dataframe thead tr:only-child th {\n",
       "        text-align: right;\n",
       "    }\n",
       "\n",
       "    .dataframe thead th {\n",
       "        text-align: left;\n",
       "    }\n",
       "\n",
       "    .dataframe tbody tr th {\n",
       "        vertical-align: top;\n",
       "    }\n",
       "</style>\n",
       "<table border=\"1\" class=\"dataframe\">\n",
       "  <thead>\n",
       "    <tr style=\"text-align: right;\">\n",
       "      <th></th>\n",
       "      <th>avg_iH1</th>\n",
       "      <th>avg_iH2</th>\n",
       "      <th>norm_std_a1</th>\n",
       "      <th>norm_max_a1</th>\n",
       "      <th>norm_std_window10_a1</th>\n",
       "      <th>norm_max_window10_a1</th>\n",
       "      <th>norm_std_a2</th>\n",
       "      <th>norm_max_a2</th>\n",
       "      <th>norm_std_window10_a2</th>\n",
       "      <th>norm_max_window10_a2</th>\n",
       "      <th>...</th>\n",
       "      <th>norm_a2_slope</th>\n",
       "      <th>norm_a3_slope</th>\n",
       "      <th>avg_beta12</th>\n",
       "      <th>std_beta12</th>\n",
       "      <th>min_beta12</th>\n",
       "      <th>max_beta12</th>\n",
       "      <th>avg_beta23</th>\n",
       "      <th>std_beta23</th>\n",
       "      <th>min_beta23</th>\n",
       "      <th>max_beta23</th>\n",
       "    </tr>\n",
       "  </thead>\n",
       "  <tbody>\n",
       "    <tr>\n",
       "      <th>0</th>\n",
       "      <td>0.396282</td>\n",
       "      <td>0.481704</td>\n",
       "      <td>0.000329</td>\n",
       "      <td>0.001083</td>\n",
       "      <td>0.000214</td>\n",
       "      <td>0.000456</td>\n",
       "      <td>0.000701</td>\n",
       "      <td>0.001978</td>\n",
       "      <td>0.000446</td>\n",
       "      <td>0.000964</td>\n",
       "      <td>...</td>\n",
       "      <td>2.144832e-10</td>\n",
       "      <td>2.681898e-11</td>\n",
       "      <td>8.488064</td>\n",
       "      <td>0.048209</td>\n",
       "      <td>8.344623</td>\n",
       "      <td>8.551727</td>\n",
       "      <td>15.791595</td>\n",
       "      <td>0.085995</td>\n",
       "      <td>15.576612</td>\n",
       "      <td>16.019985</td>\n",
       "    </tr>\n",
       "    <tr>\n",
       "      <th>1</th>\n",
       "      <td>1.034575</td>\n",
       "      <td>0.823935</td>\n",
       "      <td>0.000739</td>\n",
       "      <td>0.002137</td>\n",
       "      <td>0.000202</td>\n",
       "      <td>0.000463</td>\n",
       "      <td>0.000200</td>\n",
       "      <td>0.000350</td>\n",
       "      <td>0.000226</td>\n",
       "      <td>0.000377</td>\n",
       "      <td>...</td>\n",
       "      <td>3.559377e-11</td>\n",
       "      <td>-9.314702e-11</td>\n",
       "      <td>8.414875</td>\n",
       "      <td>0.039142</td>\n",
       "      <td>8.308582</td>\n",
       "      <td>8.495900</td>\n",
       "      <td>15.314101</td>\n",
       "      <td>0.037065</td>\n",
       "      <td>15.254833</td>\n",
       "      <td>15.368196</td>\n",
       "    </tr>\n",
       "    <tr>\n",
       "      <th>2</th>\n",
       "      <td>0.440470</td>\n",
       "      <td>0.491261</td>\n",
       "      <td>0.001951</td>\n",
       "      <td>0.003550</td>\n",
       "      <td>0.001735</td>\n",
       "      <td>0.002860</td>\n",
       "      <td>0.002303</td>\n",
       "      <td>0.004034</td>\n",
       "      <td>0.002080</td>\n",
       "      <td>0.003409</td>\n",
       "      <td>...</td>\n",
       "      <td>-3.330088e-11</td>\n",
       "      <td>-4.095504e-11</td>\n",
       "      <td>3.566625</td>\n",
       "      <td>0.132349</td>\n",
       "      <td>3.331239</td>\n",
       "      <td>3.773868</td>\n",
       "      <td>25.113282</td>\n",
       "      <td>0.137779</td>\n",
       "      <td>24.898424</td>\n",
       "      <td>25.351948</td>\n",
       "    </tr>\n",
       "    <tr>\n",
       "      <th>3</th>\n",
       "      <td>0.432098</td>\n",
       "      <td>0.550624</td>\n",
       "      <td>0.000026</td>\n",
       "      <td>0.000120</td>\n",
       "      <td>0.000005</td>\n",
       "      <td>0.000009</td>\n",
       "      <td>0.000019</td>\n",
       "      <td>0.000050</td>\n",
       "      <td>0.000016</td>\n",
       "      <td>0.000041</td>\n",
       "      <td>...</td>\n",
       "      <td>7.816527e-13</td>\n",
       "      <td>-7.257099e-12</td>\n",
       "      <td>18.513867</td>\n",
       "      <td>0.003597</td>\n",
       "      <td>18.498104</td>\n",
       "      <td>18.521611</td>\n",
       "      <td>19.142029</td>\n",
       "      <td>0.008997</td>\n",
       "      <td>19.120348</td>\n",
       "      <td>19.156777</td>\n",
       "    </tr>\n",
       "    <tr>\n",
       "      <th>4</th>\n",
       "      <td>5.722053</td>\n",
       "      <td>17.442426</td>\n",
       "      <td>0.028284</td>\n",
       "      <td>0.063028</td>\n",
       "      <td>0.004313</td>\n",
       "      <td>0.010716</td>\n",
       "      <td>0.038832</td>\n",
       "      <td>0.160685</td>\n",
       "      <td>0.090892</td>\n",
       "      <td>0.112168</td>\n",
       "      <td>...</td>\n",
       "      <td>3.913858e-08</td>\n",
       "      <td>-2.610208e-08</td>\n",
       "      <td>23.314674</td>\n",
       "      <td>6.756316</td>\n",
       "      <td>3.957209</td>\n",
       "      <td>38.942908</td>\n",
       "      <td>-19.036068</td>\n",
       "      <td>5.544896</td>\n",
       "      <td>-21.930247</td>\n",
       "      <td>4.156005</td>\n",
       "    </tr>\n",
       "  </tbody>\n",
       "</table>\n",
       "<p>5 rows × 37 columns</p>\n",
       "</div>"
      ],
      "text/plain": [
       "    avg_iH1    avg_iH2  norm_std_a1  norm_max_a1  norm_std_window10_a1  \\\n",
       "0  0.396282   0.481704     0.000329     0.001083              0.000214   \n",
       "1  1.034575   0.823935     0.000739     0.002137              0.000202   \n",
       "2  0.440470   0.491261     0.001951     0.003550              0.001735   \n",
       "3  0.432098   0.550624     0.000026     0.000120              0.000005   \n",
       "4  5.722053  17.442426     0.028284     0.063028              0.004313   \n",
       "\n",
       "   norm_max_window10_a1  norm_std_a2  norm_max_a2  norm_std_window10_a2  \\\n",
       "0              0.000456     0.000701     0.001978              0.000446   \n",
       "1              0.000463     0.000200     0.000350              0.000226   \n",
       "2              0.002860     0.002303     0.004034              0.002080   \n",
       "3              0.000009     0.000019     0.000050              0.000016   \n",
       "4              0.010716     0.038832     0.160685              0.090892   \n",
       "\n",
       "   norm_max_window10_a2     ...      norm_a2_slope  norm_a3_slope  avg_beta12  \\\n",
       "0              0.000964     ...       2.144832e-10   2.681898e-11    8.488064   \n",
       "1              0.000377     ...       3.559377e-11  -9.314702e-11    8.414875   \n",
       "2              0.003409     ...      -3.330088e-11  -4.095504e-11    3.566625   \n",
       "3              0.000041     ...       7.816527e-13  -7.257099e-12   18.513867   \n",
       "4              0.112168     ...       3.913858e-08  -2.610208e-08   23.314674   \n",
       "\n",
       "   std_beta12  min_beta12  max_beta12  avg_beta23  std_beta23  min_beta23  \\\n",
       "0    0.048209    8.344623    8.551727   15.791595    0.085995   15.576612   \n",
       "1    0.039142    8.308582    8.495900   15.314101    0.037065   15.254833   \n",
       "2    0.132349    3.331239    3.773868   25.113282    0.137779   24.898424   \n",
       "3    0.003597   18.498104   18.521611   19.142029    0.008997   19.120348   \n",
       "4    6.756316    3.957209   38.942908  -19.036068    5.544896  -21.930247   \n",
       "\n",
       "   max_beta23  \n",
       "0   16.019985  \n",
       "1   15.368196  \n",
       "2   25.351948  \n",
       "3   19.156777  \n",
       "4    4.156005  \n",
       "\n",
       "[5 rows x 37 columns]"
      ]
     },
     "execution_count": 108,
     "metadata": {},
     "output_type": "execute_result"
    }
   ],
   "source": [
    "dataset = pd.read_csv(\"../../csvs/BetaFeats/sifOrbsMore=10000.0Nout=100window=10.csv\", index_col = 0)\n",
    "features = []\n",
    "features += ['avg_iH1', 'avg_iH2']\n",
    "features += ['norm_std_a1', 'norm_max_a1', 'norm_std_window10_a1', 'norm_max_window10_a1']\n",
    "features += ['norm_std_a2', 'norm_max_a2', 'norm_std_window10_a2', 'norm_max_window10_a2']\n",
    "features += ['norm_std_a3', 'norm_max_a3', 'norm_std_window10_a3', 'norm_max_window10_a3']\n",
    "features += ['avg_ecross1', 'std_ecross1', 'max_ecross1', 'min_ecross1']\n",
    "features += ['avg_ecross2', 'std_ecross2', 'max_ecross2', 'min_ecross2']\n",
    "features += ['avg_ecross3', 'std_ecross3', 'max_ecross3', 'min_ecross3']\n",
    "features += ['norm_a1_slope', 'norm_a2_slope', 'norm_a3_slope']\n",
    "features += ['avg_beta12','std_beta12','min_beta12','max_beta12','avg_beta23','std_beta23','min_beta23','max_beta23'] \n",
    "y = dataset['Stable']\n",
    "X = dataset[features]\n",
    "X.head()\n",
    "\n",
    "#bst = xgb.train(params, d_Train)"
   ]
  },
  {
   "cell_type": "code",
   "execution_count": 109,
   "metadata": {
    "collapsed": false
   },
   "outputs": [
    {
     "data": {
      "text/plain": [
       "0.39633585343413735"
      ]
     },
     "execution_count": 109,
     "metadata": {},
     "output_type": "execute_result"
    }
   ],
   "source": [
    "#stable percentage\n",
    "len(np.where(y==1)[0]) / float(X.shape[0])"
   ]
  },
  {
   "cell_type": "code",
   "execution_count": 110,
   "metadata": {
    "collapsed": true
   },
   "outputs": [],
   "source": [
    "# try 10 percentage increments\n",
    "# try with stratified k fold?\n",
    "from sklearn import metrics"
   ]
  },
  {
   "cell_type": "code",
   "execution_count": 115,
   "metadata": {
    "collapsed": false,
    "scrolled": true
   },
   "outputs": [
    {
     "name": "stdout",
     "output_type": "stream",
     "text": [
      "Iteration: 1\n",
      "Data size 2597\n",
      "Percent Stable 0.4046977281478629\n",
      "Average test score: 0.9474745658208499\n",
      "Iteration: 2\n",
      "Data size 5141\n",
      "Percent Stable 0.3977825325812099\n",
      "Average test score: 0.956443483873707\n",
      "Iteration: 3\n",
      "Data size 7654\n",
      "Percent Stable 0.3918212699242226\n",
      "Average test score: 0.9581569230837242\n",
      "Iteration: 4\n",
      "Data size 10106\n",
      "Percent Stable 0.3901642588561251\n",
      "Average test score: 0.960782330609321\n",
      "Iteration: 5\n",
      "Data size 12596\n",
      "Percent Stable 0.3929818990155605\n",
      "Average test score: 0.9641941302554814\n",
      "Iteration: 6\n",
      "Data size 15153\n",
      "Percent Stable 0.3951032798785719\n",
      "Average test score: 0.9657681232147853\n",
      "Iteration: 7\n",
      "Data size 17542\n",
      "Percent Stable 0.39499486945616236\n",
      "Average test score: 0.9667862903227897\n",
      "Iteration: 8\n",
      "Data size 19989\n",
      "Percent Stable 0.39681825003752064\n",
      "Average test score: 0.9621438757520014\n",
      "Iteration: 9\n",
      "Data size 22457\n",
      "Percent Stable 0.3973816627332235\n",
      "Average test score: 0.9681034434502812\n",
      "[0.1 0.2 0.3 0.4 0.5 0.6 0.7 0.8 0.9]\n"
     ]
    },
    {
     "data": {
      "image/png": "[encoded data removed]",
      "text/plain": [
       "<matplotlib.figure.Figure at 0x7f3fdef7a630>"
      ]
     },
     "metadata": {},
     "output_type": "display_data"
    }
   ],
   "source": [
    "def data_set_size(order_of_mag, yrange= None):\n",
    "    # use the first i splits for training, and remaining for testing\n",
    "    np.random.seed(0)\n",
    "    indices = np.random.random(size = X.shape[0])\n",
    "    #print(indices[:10])\n",
    "    hold_outscore = np.zeros(9)\n",
    "    for i in range(1, 10):\n",
    "        thresh =i*order_of_mag\n",
    "        slices = indices<thresh\n",
    "        train_data = X.loc[slices]\n",
    "        test_data = X.loc[~slices]\n",
    "        train_y = y[slices]\n",
    "        test_y = y[~slices]\n",
    "\n",
    "        # run cv on train data\n",
    "        train_data = xgb.DMatrix(train_data, label=train_y)    \n",
    "        test_data = xgb.DMatrix(test_data)\n",
    "        #vals = xgb.cv(params= params, dtrain=train_data, num_boost_round=10, nfold=5, stratified=True, metrics = \"auc\")\n",
    "        bst = xgb.train(params, dtrain=train_data)\n",
    "        preds = bst.predict(test_data)\n",
    "        print(\"Iteration: {}\".format(i))\n",
    "        print(\"Data size\", train_data.num_row())\n",
    "        print(\"Percent Stable\", len(np.where(train_y==1)[0])/train_data.num_row())\n",
    "        print(\"Average test score: {}\".format(metrics.average_precision_score(test_y ,preds)))\n",
    "        hold_outscore[i-1]= metrics.average_precision_score(test_y ,preds)\n",
    "\n",
    "    data_inc = np.arange(1, 10)*order_of_mag\n",
    "    print(data_inc)\n",
    "    plt.figure(figsize=(10, 7))\n",
    "    #plt.plot(data_inc, hold_outscore, label = \"Holdout score\")\n",
    "    plt.plot(data_inc, hold_outscore, label = \"Holdout Score\")\n",
    "    plt.xlabel(\"Fraction of Original Dataset\")\n",
    "    plt.ylabel(\"ROC score\") # not area under precision recall curve, thats slightly different, and isnt supported by xgb cv\n",
    "    if yrange ==None:\n",
    "        plt.ylim([0.9,1])\n",
    "    else:\n",
    "        plt.ylim(yrange)\n",
    "    plt.show() \n",
    "data_set_size(0.1)\n",
    "# two percentage increase from 0.1 to 0.9 of the original dataset size\n",
    "# looks significant only because of how zoomed in the scale is \n",
    "# is it worth it given the computation time for 0.8*25,000 = 20,000 systems?"
   ]
  },
  {
   "cell_type": "code",
   "execution_count": 116,
   "metadata": {
    "collapsed": false
   },
   "outputs": [
    {
     "name": "stdout",
     "output_type": "stream",
     "text": [
      "Iteration: 1\n",
      "Data size 275\n",
      "Percent Stable 0.41818181818181815\n",
      "Average test score: 0.9091361755382606\n",
      "Iteration: 2\n",
      "Data size 548\n",
      "Percent Stable 0.4032846715328467\n",
      "Average test score: 0.9041197684781807\n",
      "Iteration: 3\n",
      "Data size 815\n",
      "Percent Stable 0.40613496932515336\n",
      "Average test score: 0.9302224560310473\n",
      "Iteration: 4\n",
      "Data size 1088\n",
      "Percent Stable 0.40625\n",
      "Average test score: 0.9336920890893248\n",
      "Iteration: 5\n",
      "Data size 1333\n",
      "Percent Stable 0.4051012753188297\n",
      "Average test score: 0.9371296453269118\n",
      "Iteration: 6\n",
      "Data size 1598\n",
      "Percent Stable 0.40550688360450565\n",
      "Average test score: 0.9367345094329986\n",
      "Iteration: 7\n",
      "Data size 1869\n",
      "Percent Stable 0.40770465489566615\n",
      "Average test score: 0.9442136208162892\n",
      "Iteration: 8\n",
      "Data size 2105\n",
      "Percent Stable 0.4085510688836104\n",
      "Average test score: 0.943272792580685\n",
      "Iteration: 9\n",
      "Data size 2329\n",
      "Percent Stable 0.4027479604980678\n",
      "Average test score: 0.9488068104051639\n",
      "[0.01 0.02 0.03 0.04 0.05 0.06 0.07 0.08 0.09]\n"
     ]
    },
    {
     "data": {
      "image/png": "[encoded data removed]",
      "text/plain": [
       "<matplotlib.figure.Figure at 0x7f3fdf6a5be0>"
      ]
     },
     "metadata": {},
     "output_type": "display_data"
    }
   ],
   "source": [
    "data_set_size(0.01)"
   ]
  },
  {
   "cell_type": "code",
   "execution_count": 117,
   "metadata": {
    "collapsed": false
   },
   "outputs": [
    {
     "name": "stdout",
     "output_type": "stream",
     "text": [
      "Iteration: 1\n",
      "Data size 30\n",
      "Percent Stable 0.43333333333333335\n",
      "Average test score: 0.852814695777972\n",
      "Iteration: 2\n",
      "Data size 69\n",
      "Percent Stable 0.391304347826087\n",
      "Average test score: 0.8862818615447272\n",
      "Iteration: 3\n",
      "Data size 104\n",
      "Percent Stable 0.41346153846153844\n",
      "Average test score: 0.8767709323342936\n",
      "Iteration: 4\n",
      "Data size 121\n",
      "Percent Stable 0.39669421487603307\n",
      "Average test score: 0.9013988036509117\n",
      "Iteration: 5\n",
      "Data size 141\n",
      "Percent Stable 0.3971631205673759\n",
      "Average test score: 0.8910592505330769\n",
      "Iteration: 6\n",
      "Data size 175\n",
      "Percent Stable 0.4\n",
      "Average test score: 0.8865205857589948\n",
      "Iteration: 7\n",
      "Data size 200\n",
      "Percent Stable 0.41\n",
      "Average test score: 0.910923671185873\n",
      "Iteration: 8\n",
      "Data size 227\n",
      "Percent Stable 0.42290748898678415\n",
      "Average test score: 0.9055590977163523\n",
      "Iteration: 9\n",
      "Data size 249\n",
      "Percent Stable 0.42168674698795183\n",
      "Average test score: 0.9182837001311932\n",
      "[0.001 0.002 0.003 0.004 0.005 0.006 0.007 0.008 0.009]\n"
     ]
    },
    {
     "data": {
      "image/png": "[encoded data removed]",
      "text/plain": [
       "<matplotlib.figure.Figure at 0x7f3fded3b400>"
      ]
     },
     "metadata": {},
     "output_type": "display_data"
    }
   ],
   "source": [
    "data_set_size(0.001, [0.8, 1])"
   ]
  },
  {
   "cell_type": "code",
   "execution_count": 120,
   "metadata": {
    "collapsed": false,
    "scrolled": true
   },
   "outputs": [
    {
     "name": "stdout",
     "output_type": "stream",
     "text": [
      "Iteration: 1\n",
      "Data size 2597\n",
      "Average test score: 0.95602234\n",
      "Iteration: 2\n",
      "Data size 5141\n",
      "Average test score: 0.9637638\n",
      "Iteration: 3\n",
      "Data size 7654\n",
      "Average test score: 0.9682770000000002\n",
      "Iteration: 4\n",
      "Data size 10106\n",
      "Average test score: 0.9695618399999999\n",
      "Iteration: 5\n",
      "Data size 12596\n",
      "Average test score: 0.9690592\n",
      "Iteration: 6\n",
      "Data size 15153\n",
      "Average test score: 0.9704266399999998\n",
      "Iteration: 7\n",
      "Data size 17542\n",
      "Average test score: 0.9707376200000001\n",
      "Iteration: 8\n",
      "Data size 19989\n",
      "Average test score: 0.9716597800000002\n",
      "Iteration: 9\n",
      "Data size 22457\n",
      "Average test score: 0.9728320400000001\n",
      "[0.1 0.2 0.3 0.4 0.5 0.6 0.7 0.8 0.9]\n"
     ]
    },
    {
     "data": {
      "image/png": "[encoded data removed]",
      "text/plain": [
       "<matplotlib.figure.Figure at 0x7f3fdb74c898>"
      ]
     },
     "metadata": {},
     "output_type": "display_data"
    }
   ],
   "source": [
    "def data_set_size_cv(order_of_mag, yrange= None):\n",
    "    # use the first i splits for training, and remaining for testing\n",
    "    np.random.seed(0)\n",
    "    indices = np.random.random(size = X.shape[0])\n",
    "    #print(indices[:10])\n",
    "    cv_outscore = np.zeros(9)\n",
    "    for i in range(1, 10):\n",
    "        thresh =i*order_of_mag\n",
    "        slices = indices<thresh\n",
    "        train_data = X.loc[slices]\n",
    "        test_data = X.loc[~slices]\n",
    "        train_y = y[slices]\n",
    "        test_y = y[~slices]\n",
    "\n",
    "        # run cv on train data\n",
    "        train_data = xgb.DMatrix(train_data, label=train_y)    \n",
    "        test_data = xgb.DMatrix(test_data)\n",
    "        vals = xgb.cv(params= params, dtrain=train_data, num_boost_round=10, nfold=5, stratified=True, metrics = \"auc\")\n",
    "        #bst = xgb.train(params, dtrain=train_data)\n",
    "        preds = bst.predict(test_data)\n",
    "        print(\"Iteration: {}\".format(i))\n",
    "        print(\"Data size\", train_data.num_row())\n",
    "        #print(\"Percent Stable\", len(np.where(train_y==1)[0])/train_data.num_row())\n",
    "        print(\"Average test score: {}\".format(vals[\"test-auc-mean\"].mean()))\n",
    "        cv_outscore[i-1]= vals[\"test-auc-mean\"].mean()\n",
    "\n",
    "    data_inc = np.arange(1, 10)*order_of_mag\n",
    "    print(data_inc)\n",
    "    plt.figure(figsize=(10, 7))\n",
    "    #plt.plot(data_inc, hold_outscore, label = \"Holdout score\")\n",
    "    plt.plot(data_inc, cv_outscore, label = \"Holdout Score\")\n",
    "    plt.xlabel(\"Fraction of Original Dataset\")\n",
    "    plt.ylabel(\"ROC score\") # not area under precision recall curve, thats slightly different, and isnt supported by xgb cv\n",
    "    if yrange ==None:\n",
    "        plt.ylim([0.9,1])\n",
    "    else:\n",
    "        plt.ylim(yrange)\n",
    "    plt.show() \n",
    "data_set_size_cv(0.1)"
   ]
  },
  {
   "cell_type": "code",
   "execution_count": 122,
   "metadata": {
    "collapsed": false
   },
   "outputs": [
    {
     "name": "stdout",
     "output_type": "stream",
     "text": [
      "Iteration: 1\n",
      "Data size 275\n",
      "Average test score: 0.9266576599999998\n",
      "Iteration: 2\n",
      "Data size 548\n",
      "Average test score: 0.92654056\n",
      "Iteration: 3\n",
      "Data size 815\n",
      "Average test score: 0.95048308\n",
      "Iteration: 4\n",
      "Data size 1088\n",
      "Average test score: 0.9500921199999999\n",
      "Iteration: 5\n",
      "Data size 1333\n",
      "Average test score: 0.9460718\n",
      "Iteration: 6\n",
      "Data size 1598\n",
      "Average test score: 0.9502812399999998\n",
      "Iteration: 7\n",
      "Data size 1869\n",
      "Average test score: 0.9499730599999999\n",
      "Iteration: 8\n",
      "Data size 2105\n",
      "Average test score: 0.9566090199999999\n",
      "Iteration: 9\n",
      "Data size 2329\n",
      "Average test score: 0.9531215799999998\n",
      "[0.01 0.02 0.03 0.04 0.05 0.06 0.07 0.08 0.09]\n"
     ]
    },
    {
     "data": {
      "image/png": "[encoded data removed]",
      "text/plain": [
       "<matplotlib.figure.Figure at 0x7f3fd990ad30>"
      ]
     },
     "metadata": {},
     "output_type": "display_data"
    },
    {
     "name": "stdout",
     "output_type": "stream",
     "text": [
      "Iteration: 1\n",
      "Data size 30\n",
      "Average test score: 0.9383332799999999\n",
      "Iteration: 2\n",
      "Data size 69\n",
      "Average test score: 0.85501854\n",
      "Iteration: 3\n",
      "Data size 104\n",
      "Average test score: 0.8960220400000001\n",
      "Iteration: 4\n",
      "Data size 121\n",
      "Average test score: 0.9090952799999998\n",
      "Iteration: 5\n",
      "Data size 141\n",
      "Average test score: 0.8988814599999999\n",
      "Iteration: 6\n",
      "Data size 175\n",
      "Average test score: 0.9313945400000001\n",
      "Iteration: 7\n",
      "Data size 200\n",
      "Average test score: 0.9120779999999999\n",
      "Iteration: 8\n",
      "Data size 227\n",
      "Average test score: 0.91028044\n",
      "Iteration: 9\n",
      "Data size 249\n",
      "Average test score: 0.9271956400000001\n",
      "[0.001 0.002 0.003 0.004 0.005 0.006 0.007 0.008 0.009]\n"
     ]
    },
    {
     "data": {
      "image/png": "[encoded data removed]",
      "text/plain": [
       "<matplotlib.figure.Figure at 0x7f3fdf4cca90>"
      ]
     },
     "metadata": {},
     "output_type": "display_data"
    }
   ],
   "source": [
    "data_set_size_cv(0.01)\n",
    "data_set_size_cv(0.001, [0.8, 1])"
   ]
  },
  {
   "cell_type": "code",
   "execution_count": null,
   "metadata": {
    "collapsed": true
   },
   "outputs": [],
   "source": []
  }
 ],
 "metadata": {
  "anaconda-cloud": {},
  "kernelspec": {
   "display_name": "Python [conda env:CSC401]",
   "language": "python",
   "name": "conda-env-CSC401-py"
  },
  "language_info": {
   "codemirror_mode": {
    "name": "ipython",
    "version": 3
   },
   "file_extension": ".py",
   "mimetype": "text/x-python",
   "name": "python",
   "nbconvert_exporter": "python",
   "pygments_lexer": "ipython3",
   "version": "3.6.3"
  }
 },
 "nbformat": 4,
 "nbformat_minor": 1
}
