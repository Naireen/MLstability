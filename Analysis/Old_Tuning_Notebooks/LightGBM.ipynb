{
 "cells": [
  {
   "cell_type": "code",
   "execution_count": 2,
   "metadata": {
    "collapsed": false
   },
   "outputs": [],
   "source": [
    "import numpy as np\n",
    "import sklearn\n",
    "import matplotlib\n",
    "from matplotlib import pyplot as plt\n",
    "%matplotlib inline\n",
    "import pandas as pd\n",
    "from sklearn import metrics\n",
    "from sklearn.model_selection import cross_val_score\n",
    "from matplotlib import rc\n",
    "from matplotlib import cm\n",
    "from mpl_toolkits.mplot3d import axes3d\n",
    "from matplotlib.ticker import MaxNLocator\n",
    "import scipy.signal\n",
    "import xgboost as xgb\n",
    "from xgboost.sklearn import XGBClassifier\n",
    "import lightgbm as lgb"
   ]
  },
  {
   "cell_type": "code",
   "execution_count": 6,
   "metadata": {
    "collapsed": true
   },
   "outputs": [
    {
     "name": "stdout",
     "output_type": "stream",
     "text": [
      "['runstring' 't_final_short' 'Rel_Eerr_short' 'avg_beta12' 'std_beta12'\n",
      " 'min_beta12' 'max_beta12' 'avg_beta23' 'std_beta23' 'min_beta23'\n",
      " 'max_beta23' 'avg_a1' 'std_a1' 'max_a1' 'min_a1' 'norm_std_a1'\n",
      " 'norm_max_a1' 'norm_std_window10_a1' 'norm_max_window10_a1' 'avg_e1'\n",
      " 'std_e1' 'max_e1' 'min_e1' 'norm_std_e1' 'norm_max_e1'\n",
      " 'norm_std_window10_e1' 'norm_max_window10_e1' 'avg_inc1' 'std_inc1'\n",
      " 'max_inc1' 'min_inc1' 'norm_std_inc1' 'norm_max_inc1'\n",
      " 'norm_std_window10_inc1' 'norm_max_window10_inc1' 'avg_eH1' 'std_eH1'\n",
      " 'max_eH1' 'min_eH1' 'avg_iH1' 'std_iH1' 'max_iH1' 'min_iH1' 'avg_ecross1'\n",
      " 'std_ecross1' 'max_ecross1' 'min_ecross1' 'norm_a1_slope' 'avg_a2'\n",
      " 'std_a2' 'max_a2' 'min_a2' 'norm_std_a2' 'norm_max_a2'\n",
      " 'norm_std_window10_a2' 'norm_max_window10_a2' 'avg_e2' 'std_e2' 'max_e2'\n",
      " 'min_e2' 'norm_std_e2' 'norm_max_e2' 'norm_std_window10_e2'\n",
      " 'norm_max_window10_e2' 'avg_inc2' 'std_inc2' 'max_inc2' 'min_inc2'\n",
      " 'norm_std_inc2' 'norm_max_inc2' 'norm_std_window10_inc2'\n",
      " 'norm_max_window10_inc2' 'avg_eH2' 'std_eH2' 'max_eH2' 'min_eH2' 'avg_iH2'\n",
      " 'std_iH2' 'max_iH2' 'min_iH2' 'avg_ecross2' 'std_ecross2' 'max_ecross2'\n",
      " 'min_ecross2' 'norm_a2_slope' 'avg_a3' 'std_a3' 'max_a3' 'min_a3'\n",
      " 'norm_std_a3' 'norm_max_a3' 'norm_std_window10_a3' 'norm_max_window10_a3'\n",
      " 'avg_e3' 'std_e3' 'max_e3' 'min_e3' 'norm_std_e3' 'norm_max_e3'\n",
      " 'norm_std_window10_e3' 'norm_max_window10_e3' 'avg_inc3' 'std_inc3'\n",
      " 'max_inc3' 'min_inc3' 'norm_std_inc3' 'norm_max_inc3'\n",
      " 'norm_std_window10_inc3' 'norm_max_window10_inc3' 'avg_eH3' 'std_eH3'\n",
      " 'max_eH3' 'min_eH3' 'avg_iH3' 'std_iH3' 'max_iH3' 'min_iH3' 'avg_ecross3'\n",
      " 'std_ecross3' 'max_ecross3' 'min_ecross3' 'norm_a3_slope' 'wall_time'\n",
      " 'Stable' 'instability_time' 'Rel_Eerr']\n"
     ]
    }
   ],
   "source": [
    "dataset = pd.read_csv(\"../../csvs/BetaFeats/sifOrbsMore=10000.0Nout=100window=10.csv\", index_col = 0)\n",
    "print dataset.columns.values"
   ]
  },
  {
   "cell_type": "code",
   "execution_count": 7,
   "metadata": {
    "collapsed": false
   },
   "outputs": [
    {
     "data": {
      "text/html": [
       "<div>\n",
       "<style>\n",
       "    .dataframe thead tr:only-child th {\n",
       "        text-align: right;\n",
       "    }\n",
       "\n",
       "    .dataframe thead th {\n",
       "        text-align: left;\n",
       "    }\n",
       "\n",
       "    .dataframe tbody tr th {\n",
       "        vertical-align: top;\n",
       "    }\n",
       "</style>\n",
       "<table border=\"1\" class=\"dataframe\">\n",
       "  <thead>\n",
       "    <tr style=\"text-align: right;\">\n",
       "      <th></th>\n",
       "      <th>avg_iH1</th>\n",
       "      <th>avg_iH2</th>\n",
       "      <th>norm_std_a1</th>\n",
       "      <th>norm_max_a1</th>\n",
       "      <th>norm_std_window10_a1</th>\n",
       "      <th>norm_max_window10_a1</th>\n",
       "      <th>norm_std_a2</th>\n",
       "      <th>norm_max_a2</th>\n",
       "      <th>norm_std_window10_a2</th>\n",
       "      <th>norm_max_window10_a2</th>\n",
       "      <th>...</th>\n",
       "      <th>norm_a2_slope</th>\n",
       "      <th>norm_a3_slope</th>\n",
       "      <th>avg_beta12</th>\n",
       "      <th>std_beta12</th>\n",
       "      <th>min_beta12</th>\n",
       "      <th>max_beta12</th>\n",
       "      <th>avg_beta23</th>\n",
       "      <th>std_beta23</th>\n",
       "      <th>min_beta23</th>\n",
       "      <th>max_beta23</th>\n",
       "    </tr>\n",
       "  </thead>\n",
       "  <tbody>\n",
       "    <tr>\n",
       "      <th>0</th>\n",
       "      <td>0.396282</td>\n",
       "      <td>0.481704</td>\n",
       "      <td>0.000329</td>\n",
       "      <td>0.001083</td>\n",
       "      <td>0.000214</td>\n",
       "      <td>0.000456</td>\n",
       "      <td>0.000701</td>\n",
       "      <td>0.001978</td>\n",
       "      <td>0.000446</td>\n",
       "      <td>0.000964</td>\n",
       "      <td>...</td>\n",
       "      <td>2.144832e-10</td>\n",
       "      <td>2.681898e-11</td>\n",
       "      <td>8.488064</td>\n",
       "      <td>0.048209</td>\n",
       "      <td>8.344623</td>\n",
       "      <td>8.551727</td>\n",
       "      <td>15.791595</td>\n",
       "      <td>0.085995</td>\n",
       "      <td>15.576612</td>\n",
       "      <td>16.019985</td>\n",
       "    </tr>\n",
       "    <tr>\n",
       "      <th>1</th>\n",
       "      <td>1.034575</td>\n",
       "      <td>0.823935</td>\n",
       "      <td>0.000739</td>\n",
       "      <td>0.002137</td>\n",
       "      <td>0.000202</td>\n",
       "      <td>0.000463</td>\n",
       "      <td>0.000200</td>\n",
       "      <td>0.000350</td>\n",
       "      <td>0.000226</td>\n",
       "      <td>0.000377</td>\n",
       "      <td>...</td>\n",
       "      <td>3.559377e-11</td>\n",
       "      <td>-9.314702e-11</td>\n",
       "      <td>8.414875</td>\n",
       "      <td>0.039142</td>\n",
       "      <td>8.308582</td>\n",
       "      <td>8.495900</td>\n",
       "      <td>15.314101</td>\n",
       "      <td>0.037065</td>\n",
       "      <td>15.254833</td>\n",
       "      <td>15.368196</td>\n",
       "    </tr>\n",
       "    <tr>\n",
       "      <th>2</th>\n",
       "      <td>0.440470</td>\n",
       "      <td>0.491261</td>\n",
       "      <td>0.001951</td>\n",
       "      <td>0.003550</td>\n",
       "      <td>0.001735</td>\n",
       "      <td>0.002860</td>\n",
       "      <td>0.002303</td>\n",
       "      <td>0.004034</td>\n",
       "      <td>0.002080</td>\n",
       "      <td>0.003409</td>\n",
       "      <td>...</td>\n",
       "      <td>-3.330088e-11</td>\n",
       "      <td>-4.095504e-11</td>\n",
       "      <td>3.566625</td>\n",
       "      <td>0.132349</td>\n",
       "      <td>3.331239</td>\n",
       "      <td>3.773868</td>\n",
       "      <td>25.113282</td>\n",
       "      <td>0.137779</td>\n",
       "      <td>24.898424</td>\n",
       "      <td>25.351948</td>\n",
       "    </tr>\n",
       "    <tr>\n",
       "      <th>3</th>\n",
       "      <td>0.432098</td>\n",
       "      <td>0.550624</td>\n",
       "      <td>0.000026</td>\n",
       "      <td>0.000120</td>\n",
       "      <td>0.000005</td>\n",
       "      <td>0.000009</td>\n",
       "      <td>0.000019</td>\n",
       "      <td>0.000050</td>\n",
       "      <td>0.000016</td>\n",
       "      <td>0.000041</td>\n",
       "      <td>...</td>\n",
       "      <td>7.816527e-13</td>\n",
       "      <td>-7.257099e-12</td>\n",
       "      <td>18.513867</td>\n",
       "      <td>0.003597</td>\n",
       "      <td>18.498104</td>\n",
       "      <td>18.521611</td>\n",
       "      <td>19.142029</td>\n",
       "      <td>0.008997</td>\n",
       "      <td>19.120348</td>\n",
       "      <td>19.156777</td>\n",
       "    </tr>\n",
       "    <tr>\n",
       "      <th>4</th>\n",
       "      <td>5.722053</td>\n",
       "      <td>17.442426</td>\n",
       "      <td>0.028284</td>\n",
       "      <td>0.063028</td>\n",
       "      <td>0.004313</td>\n",
       "      <td>0.010716</td>\n",
       "      <td>0.038832</td>\n",
       "      <td>0.160685</td>\n",
       "      <td>0.090892</td>\n",
       "      <td>0.112168</td>\n",
       "      <td>...</td>\n",
       "      <td>3.913858e-08</td>\n",
       "      <td>-2.610208e-08</td>\n",
       "      <td>23.314674</td>\n",
       "      <td>6.756316</td>\n",
       "      <td>3.957209</td>\n",
       "      <td>38.942908</td>\n",
       "      <td>-19.036068</td>\n",
       "      <td>5.544896</td>\n",
       "      <td>-21.930247</td>\n",
       "      <td>4.156005</td>\n",
       "    </tr>\n",
       "  </tbody>\n",
       "</table>\n",
       "<p>5 rows × 37 columns</p>\n",
       "</div>"
      ],
      "text/plain": [
       "    avg_iH1    avg_iH2  norm_std_a1  norm_max_a1  norm_std_window10_a1  \\\n",
       "0  0.396282   0.481704     0.000329     0.001083              0.000214   \n",
       "1  1.034575   0.823935     0.000739     0.002137              0.000202   \n",
       "2  0.440470   0.491261     0.001951     0.003550              0.001735   \n",
       "3  0.432098   0.550624     0.000026     0.000120              0.000005   \n",
       "4  5.722053  17.442426     0.028284     0.063028              0.004313   \n",
       "\n",
       "   norm_max_window10_a1  norm_std_a2  norm_max_a2  norm_std_window10_a2  \\\n",
       "0              0.000456     0.000701     0.001978              0.000446   \n",
       "1              0.000463     0.000200     0.000350              0.000226   \n",
       "2              0.002860     0.002303     0.004034              0.002080   \n",
       "3              0.000009     0.000019     0.000050              0.000016   \n",
       "4              0.010716     0.038832     0.160685              0.090892   \n",
       "\n",
       "   norm_max_window10_a2     ...      norm_a2_slope  norm_a3_slope  avg_beta12  \\\n",
       "0              0.000964     ...       2.144832e-10   2.681898e-11    8.488064   \n",
       "1              0.000377     ...       3.559377e-11  -9.314702e-11    8.414875   \n",
       "2              0.003409     ...      -3.330088e-11  -4.095504e-11    3.566625   \n",
       "3              0.000041     ...       7.816527e-13  -7.257099e-12   18.513867   \n",
       "4              0.112168     ...       3.913858e-08  -2.610208e-08   23.314674   \n",
       "\n",
       "   std_beta12  min_beta12  max_beta12  avg_beta23  std_beta23  min_beta23  \\\n",
       "0    0.048209    8.344623    8.551727   15.791595    0.085995   15.576612   \n",
       "1    0.039142    8.308582    8.495900   15.314101    0.037065   15.254833   \n",
       "2    0.132349    3.331239    3.773868   25.113282    0.137779   24.898424   \n",
       "3    0.003597   18.498104   18.521611   19.142029    0.008997   19.120348   \n",
       "4    6.756316    3.957209   38.942908  -19.036068    5.544896  -21.930247   \n",
       "\n",
       "   max_beta23  \n",
       "0   16.019985  \n",
       "1   15.368196  \n",
       "2   25.351948  \n",
       "3   19.156777  \n",
       "4    4.156005  \n",
       "\n",
       "[5 rows x 37 columns]"
      ]
     },
     "execution_count": 7,
     "metadata": {},
     "output_type": "execute_result"
    }
   ],
   "source": [
    "features = []\n",
    "features += ['avg_iH1', 'avg_iH2']\n",
    "features += ['norm_std_a1', 'norm_max_a1', 'norm_std_window10_a1', 'norm_max_window10_a1']\n",
    "features += ['norm_std_a2', 'norm_max_a2', 'norm_std_window10_a2', 'norm_max_window10_a2']\n",
    "features += ['norm_std_a3', 'norm_max_a3', 'norm_std_window10_a3', 'norm_max_window10_a3']\n",
    "features += ['avg_ecross1', 'std_ecross1', 'max_ecross1', 'min_ecross1']\n",
    "features += ['avg_ecross2', 'std_ecross2', 'max_ecross2', 'min_ecross2']\n",
    "features += ['avg_ecross3', 'std_ecross3', 'max_ecross3', 'min_ecross3']\n",
    "features += ['norm_a1_slope', 'norm_a2_slope', 'norm_a3_slope']\n",
    "features += ['avg_beta12','std_beta12','min_beta12','max_beta12','avg_beta23','std_beta23','min_beta23','max_beta23'] \n",
    "y = dataset['Stable']\n",
    "X = dataset[features]\n",
    "X.head()"
   ]
  },
  {
   "cell_type": "code",
   "execution_count": 82,
   "metadata": {
    "collapsed": false
   },
   "outputs": [],
   "source": [
    "Nrows = int(0.8*X.shape[0])\n",
    "trainX = X.iloc[:Nrows, :]\n",
    "trainY = y.iloc[:Nrows]\n",
    "testX = X.iloc[Nrows:, :]\n",
    "testY = y.iloc[Nrows:]\n",
    "param = {'num_leaves':100, 'objective':'binary','max_depth':13,\n",
    "         'learning_rate':.05,'max_bin':200, \"bagging_fraction\":0.95}\n",
    "\n",
    "param['metric'] = ['auc']\n",
    "\n",
    "best_xgb={'x_pos_weight': 6.606175001822464, 'x_learning_rate': 0.16789058169707416,\n",
    "          'x_max_depth': 13, 'x_min_child': 7.0, 'x_tree_colsample': 0.7158073319959313,\n",
    "          'x_subsample': 0.9872987553651339}\n",
    "xgbc = XGBClassifier(seed = 0, n_estimators=100)\n",
    "xgbc.param = best_xgb"
   ]
  },
  {
   "cell_type": "code",
   "execution_count": 83,
   "metadata": {
    "collapsed": false
   },
   "outputs": [
    {
     "name": "stdout",
     "output_type": "stream",
     "text": [
      "0.966489098431\n",
      "XGB 0.529124975204\n",
      "0.97687100538\n",
      "LIGHT 1.37427806854\n"
     ]
    }
   ],
   "source": [
    "import time\n",
    "#XGB\n",
    "#print score\n",
    "d_Train = xgb.DMatrix(trainX, trainY)\n",
    "d_Test = xgb.DMatrix(testX)\n",
    "start = time.time()\n",
    "bst = xgb.train(best_xgb, d_Train)\n",
    "preds = bst.predict(d_Test)\n",
    "score = metrics.average_precision_score(testY, preds)\n",
    "print score\n",
    "end = time.time()\n",
    "print \"XGB\", end - start\n",
    "\n",
    "#LIGHTGBM\n",
    "train_data = lgb.Dataset(trainX, label=trainY)\n",
    "num_round=100\n",
    "start=time.time()\n",
    "lgbm=lgb.train(param,train_data,num_round)\n",
    "ypred2=lgbm.predict(testX)\n",
    "score = metrics.average_precision_score(testY, ypred2)\n",
    "print score\n",
    "stop=time.time()\n",
    "print \"LIGHT\", stop - start\n"
   ]
  },
  {
   "cell_type": "code",
   "execution_count": 84,
   "metadata": {
    "collapsed": false
   },
   "outputs": [
    {
     "data": {
      "text/plain": [
       "<matplotlib.text.Text at 0x7fc328893ad0>"
      ]
     },
     "execution_count": 84,
     "metadata": {},
     "output_type": "execute_result"
    },
    {
     "data": {
      "image/png": "[encoded data removed]",
      "text/plain": [
       "<matplotlib.figure.Figure at 0x7fc32898e650>"
      ]
     },
     "metadata": {},
     "output_type": "display_data"
    },
    {
     "data": {
      "image/png": "[encoded data removed]",
      "text/plain": [
       "<matplotlib.figure.Figure at 0x7fc328a0b0d0>"
      ]
     },
     "metadata": {},
     "output_type": "display_data"
    }
   ],
   "source": [
    "#the ROCAUC score is now 98.0 with the 2080 split compared to the 40 60 from before \n",
    "from sklearn.metrics import roc_curve\n",
    "fpr, tpr, thresholds = roc_curve(testY, preds)\n",
    "fig, ax = plt.subplots()\n",
    "ax.plot(fpr, tpr)\n",
    "ax.plot([0, 1], [0, 1], 'k--')\n",
    "ax.set_xlim([0.0, 1.0])\n",
    "ax.set_ylim([0.0, 1.0])\n",
    "ax.set_xlabel('False Positive Rate')\n",
    "ax.set_ylabel('True Positive Rate')\n",
    "ax.set_title('ROC curve (AUC = {0:.3f})'.format(metrics.roc_auc_score(testY, preds)))\n",
    "\n",
    "\n",
    "#the ROCAUC score is now 98.0 witht eh 2080 split compared to the 40 60 from before \n",
    "fpr, tpr, thresholds = roc_curve(testY, ypred2)\n",
    "fig, ax = plt.subplots()\n",
    "ax.plot(fpr, tpr)\n",
    "ax.plot([0, 1], [0, 1], 'k--')\n",
    "ax.set_xlim([0.0, 1.0])\n",
    "ax.set_ylim([0.0, 1.0])\n",
    "ax.set_xlabel('False Positive Rate')\n",
    "ax.set_ylabel('True Positive Rate')\n",
    "ax.set_title('ROC curve (AUC = {0:.3f})'.format(metrics.roc_auc_score(testY, ypred2)))"
   ]
  },
  {
   "cell_type": "code",
   "execution_count": 85,
   "metadata": {
    "collapsed": false,
    "scrolled": true
   },
   "outputs": [
    {
     "name": "stdout",
     "output_type": "stream",
     "text": [
      "Threshold 0.00728341937065, recall = 1.0, precision = 0.422895189003\n",
      "Threshold 0.00951665639877, recall = 0.999492127984, precision = 0.430446194226\n",
      "Threshold 0.0122666358948, recall = 0.999492127984, precision = 0.4440433213\n",
      "Threshold 0.0144209265709, recall = 0.999492127984, precision = 0.565679793044\n",
      "Threshold 0.0174534618855, recall = 0.999492127984, precision = 0.595101300272\n",
      "Threshold 0.020818144083, recall = 0.998984255967, precision = 0.614303560275\n",
      "Threshold 0.0247309803963, recall = 0.998984255967, precision = 0.625238397966\n",
      "Threshold 0.0286546945572, recall = 0.998476383951, precision = 0.633784655061\n",
      "Threshold 0.0328362286091, recall = 0.998476383951, precision = 0.643745907007\n",
      "Threshold 0.0373585522175, recall = 0.998476383951, precision = 0.652722443559\n",
      "Threshold 0.0435643494129, recall = 0.997968511935, precision = 0.663403106009\n",
      "Threshold 0.050700455904, recall = 0.997460639919, precision = 0.673756432247\n",
      "Threshold 0.0588156878948, recall = 0.996952767902, precision = 0.682782608696\n",
      "Threshold 0.0687908828259, recall = 0.996952767902, precision = 0.69241622575\n",
      "Threshold 0.0822822451591, recall = 0.99593702387, precision = 0.701861130995\n",
      "Threshold 0.0909460484982, recall = 0.994413407821, precision = 0.711224119143\n",
      "Threshold 0.099007755518, recall = 0.993397663789, precision = 0.720973092518\n",
      "Threshold 0.11173504591, recall = 0.992889791772, precision = 0.731661676647\n",
      "Threshold 0.122640013695, recall = 0.99187404774, precision = 0.742021276596\n",
      "Threshold 0.134035855532, recall = 0.991366175724, precision = 0.753086419753\n",
      "Threshold 0.146108478308, recall = 0.989334687659, precision = 0.763322884013\n",
      "Threshold 0.160573273897, recall = 0.986795327577, precision = 0.773795300677\n",
      "Threshold 0.177948415279, recall = 0.984763839512, precision = 0.784702549575\n",
      "Threshold 0.199027359486, recall = 0.981716607415, precision = 0.79514603044\n",
      "Threshold 0.22381490469, recall = 0.976637887252, precision = 0.804265997491\n",
      "Threshold 0.246913999319, recall = 0.972574911122, precision = 0.814893617021\n",
      "Threshold 0.2667298913, recall = 0.966988318944, precision = 0.824242424242\n",
      "Threshold 0.290477693081, recall = 0.962925342814, precision = 0.835242290749\n",
      "Threshold 0.320523738861, recall = 0.957846622651, precision = 0.845739910314\n",
      "Threshold 0.350015819073, recall = 0.952260030472, precision = 0.856164383562\n",
      "Threshold 0.382218122482, recall = 0.945657694261, precision = 0.866046511628\n",
      "Threshold 0.412117928267, recall = 0.937023869985, precision = 0.874407582938\n",
      "Threshold 0.430184483528, recall = 0.926358557643, precision = 0.88115942029\n",
      "Threshold 0.459327608347, recall = 0.918232605383, precision = 0.890640394089\n",
      "Threshold 0.492270976305, recall = 0.905027932961, precision = 0.895477386935\n",
      "Threshold 0.517918944359, recall = 0.89436262062, precision = 0.903076923077\n",
      "Threshold 0.545666098595, recall = 0.883697308278, precision = 0.910994764398\n",
      "Threshold 0.588227629662, recall = 0.873031995937, precision = 0.919251336898\n",
      "Threshold 0.613054513931, recall = 0.860335195531, precision = 0.925683060109\n",
      "Threshold 0.635624647141, recall = 0.848654139157, precision = 0.93404136389\n",
      "Threshold 0.664531886578, recall = 0.834433722702, precision = 0.939393939394\n",
      "Threshold 0.689761519432, recall = 0.819705434231, precision = 0.944964871194\n",
      "Threshold 0.712533771992, recall = 0.805485017776, precision = 0.951409718056\n",
      "Threshold 0.73870408535, recall = 0.789233113255, precision = 0.955132145052\n",
      "Threshold 0.762447237968, recall = 0.77094972067, precision = 0.957124842371\n",
      "Threshold 0.782819390297, recall = 0.753682072118, precision = 0.961762799741\n",
      "Threshold 0.801829338074, recall = 0.734890807517, precision = 0.963382157124\n",
      "Threshold 0.821978092194, recall = 0.716607414931, precision = 0.96511627907\n",
      "Threshold 0.838564395905, recall = 0.699339766379, precision = 0.96835443038\n",
      "Threshold 0.852636098862, recall = 0.680040629761, precision = 0.970289855072\n",
      "Threshold 0.865537643433, recall = 0.661757237176, precision = 0.973841554559\n",
      "Threshold 0.879428267479, recall = 0.641442356526, precision = 0.976798143852\n",
      "Threshold 0.894507169724, recall = 0.62468257999, precision = 0.983213429257\n",
      "Threshold 0.906096935272, recall = 0.605383443372, precision = 0.989211618257\n",
      "Threshold 0.916815757751, recall = 0.583544946673, precision = 0.990517241379\n",
      "Threshold 0.926671147346, recall = 0.560182833926, precision = 0.993693693694\n",
      "Threshold 0.93727517128, recall = 0.53529710513, precision = 0.994339622642\n",
      "Threshold 0.949858546257, recall = 0.501777552057, precision = 0.995967741935\n",
      "Threshold 0.960485339165, recall = 0.469781615033, precision = 0.995694294941\n",
      "Threshold 0.971287965775, recall = 0.421533773489, precision = 0.99520383693\n",
      "Threshold 0.98301923275, recall = 0.35093956323, precision = 0.997113997114\n",
      "Threshold 0.994879841805, recall = 0.0523108176739, precision = 0.980952380952\n",
      "Threshold 1.01553893089, recall = 0.0198070086338, precision = 0.975\n",
      "\n",
      "\n",
      "\n",
      "Threshold 0.0108040825356, recall = 1.0, precision = 0.623495883471\n",
      "Threshold 0.0116240076299, recall = 0.998984255967, precision = 0.630853110969\n",
      "Threshold 0.0128510792564, recall = 0.998984255967, precision = 0.639051332034\n",
      "Threshold 0.0144160878836, recall = 0.998476383951, precision = 0.647136273864\n",
      "Threshold 0.0159611611163, recall = 0.998476383951, precision = 0.655770513676\n",
      "Threshold 0.0175766825822, recall = 0.997968511935, precision = 0.66430020284\n",
      "Threshold 0.0200578014053, recall = 0.997968511935, precision = 0.673406442769\n",
      "Threshold 0.022773648428, recall = 0.997460639919, precision = 0.682418346074\n",
      "Threshold 0.0265892750588, recall = 0.997460639919, precision = 0.692036645525\n",
      "Threshold 0.0302801597206, recall = 0.997460639919, precision = 0.701929949964\n",
      "Threshold 0.0344468507898, recall = 0.996952767902, precision = 0.71174764322\n",
      "Threshold 0.0383378790654, recall = 0.996952767902, precision = 0.722222222222\n",
      "Threshold 0.0437282638278, recall = 0.996444895886, precision = 0.732636295743\n",
      "Threshold 0.049957480057, recall = 0.995429151854, precision = 0.742987111448\n",
      "Threshold 0.0579520379388, recall = 0.995429151854, precision = 0.754426481909\n",
      "Threshold 0.068764751606, recall = 0.993905535805, precision = 0.765050820954\n",
      "Threshold 0.0813319314579, recall = 0.993397663789, precision = 0.776806989674\n",
      "Threshold 0.0911848424308, recall = 0.990350431691, precision = 0.786924939467\n",
      "Threshold 0.108236360443, recall = 0.986287455561, precision = 0.796554552912\n",
      "Threshold 0.121331668966, recall = 0.984255967496, precision = 0.808173477898\n",
      "Threshold 0.139461121113, recall = 0.981716607415, precision = 0.819762510602\n",
      "Threshold 0.16443093214, recall = 0.979177247334, precision = 0.831751509922\n",
      "Threshold 0.189342492607, recall = 0.973590655155, precision = 0.841527655838\n",
      "Threshold 0.217891940756, recall = 0.97155916709, precision = 0.854781054513\n",
      "Threshold 0.260391231317, recall = 0.966480446927, precision = 0.865787079163\n",
      "Threshold 0.302059495561, recall = 0.9593702387, precision = 0.875347544022\n",
      "Threshold 0.354548724254, recall = 0.949212798375, precision = 0.882436260623\n",
      "Threshold 0.396774897638, recall = 0.94311833418, precision = 0.89364773821\n",
      "Threshold 0.441104448352, recall = 0.933468765871, precision = 0.901864573111\n",
      "Threshold 0.485564073117, recall = 0.923311325546, precision = 0.90990990991\n",
      "Threshold 0.537237189854, recall = 0.911630269172, precision = 0.916751787538\n",
      "Threshold 0.590210775083, recall = 0.897917724733, precision = 0.921793534932\n",
      "Threshold 0.624055475177, recall = 0.886744540376, precision = 0.929712460064\n",
      "Threshold 0.654459165284, recall = 0.874555611986, precision = 0.936887921654\n",
      "Threshold 0.689834995345, recall = 0.860843067547, precision = 0.942714126808\n",
      "Threshold 0.722400937697, recall = 0.847638395124, precision = 0.949374288965\n",
      "Threshold 0.756151639355, recall = 0.832402234637, precision = 0.954016298021\n",
      "Threshold 0.782344187657, recall = 0.815642458101, precision = 0.957091775924\n",
      "Threshold 0.812292364391, recall = 0.799898425597, precision = 0.961538461538\n",
      "Threshold 0.836574330227, recall = 0.784662265109, precision = 0.966833541927\n",
      "Threshold 0.851441069199, recall = 0.769933976638, precision = 0.973042362003\n",
      "Threshold 0.870655719827, recall = 0.752158456069, precision = 0.975625823452\n",
      "Threshold 0.888683562693, recall = 0.735398679533, precision = 0.979702300406\n",
      "Threshold 0.902075341762, recall = 0.717115286948, precision = 0.981919332406\n",
      "Threshold 0.912371248817, recall = 0.698831894363, precision = 0.98426323319\n",
      "Threshold 0.923226303671, recall = 0.682072117826, precision = 0.988954344624\n",
      "Threshold 0.931975317191, recall = 0.663280853225, precision = 0.990895295903\n",
      "Threshold 0.938947491508, recall = 0.643981716607, precision = 0.992175273865\n",
      "Threshold 0.947786671396, recall = 0.623666835957, precision = 0.991922455574\n",
      "Threshold 0.955316173355, recall = 0.60436769934, precision = 0.993322203673\n",
      "Threshold 0.96025469501, recall = 0.584560690706, precision = 0.993955094991\n",
      "Threshold 0.964742511959, recall = 0.564245810056, precision = 0.99373881932\n",
      "Threshold 0.96909498194, recall = 0.544946673438, precision = 0.995361781076\n",
      "Threshold 0.973096788109, recall = 0.525139664804, precision = 0.996146435453\n",
      "Threshold 0.976161124084, recall = 0.505332656171, precision = 0.996993987976\n",
      "Threshold 0.97834510821, recall = 0.485017775521, precision = 0.996868475992\n",
      "Threshold 0.980968307543, recall = 0.465210766887, precision = 0.997821350763\n",
      "Threshold 0.98265452909, recall = 0.444895886237, precision = 0.997722095672\n",
      "Threshold 0.984460841948, recall = 0.424581005587, precision = 0.997613365155\n",
      "Threshold 0.985840818447, recall = 0.404266124937, precision = 0.997493734336\n",
      "Threshold 0.986941597719, recall = 0.383951244286, precision = 0.997361477573\n",
      "Threshold 0.988094077497, recall = 0.364144235653, precision = 0.99860724234\n",
      "Threshold 0.988858445645, recall = 0.343829355003, precision = 0.998525073746\n",
      "Threshold 0.989712887435, recall = 0.323514474352, precision = 0.998432601881\n",
      "Threshold 0.99063348833, recall = 0.303707465719, precision = 1.0\n",
      "Threshold 0.991236386568, recall = 0.283392585069, precision = 1.0\n",
      "Threshold 0.991649145674, recall = 0.263077704418, precision = 1.0\n",
      "Threshold 0.992166826214, recall = 0.242762823768, precision = 1.0\n",
      "Threshold 0.992667457496, recall = 0.222447943118, precision = 1.0\n",
      "Threshold 0.993003275934, recall = 0.202133062468, precision = 1.0\n",
      "Threshold 0.993387772885, recall = 0.181818181818, precision = 1.0\n",
      "Threshold 0.993730998225, recall = 0.161503301168, precision = 1.0\n",
      "Threshold 0.993977326758, recall = 0.141188420518, precision = 1.0\n",
      "Threshold 0.994281396455, recall = 0.120873539868, precision = 1.0\n",
      "Threshold 0.994506152065, recall = 0.100558659218, precision = 1.0\n",
      "Threshold 0.994690657375, recall = 0.0802437785678, precision = 1.0\n",
      "Threshold 0.994887464282, recall = 0.0599288979177, precision = 1.0\n",
      "Threshold 0.995098154775, recall = 0.0396140172676, precision = 1.0\n"
     ]
    }
   ],
   "source": [
    "precision, recall, thresholds = sklearn.metrics.precision_recall_curve(testY, preds)\n",
    "for i in range(0,len(recall), 40):\n",
    "    print(\"Threshold {0}, recall = {1}, precision = {2}\".format(thresholds[i], recall[i], precision[i]))\n",
    "\n",
    "    \n",
    "print \"\\n\\n\"\n",
    "precision, recall, thresholds = sklearn.metrics.precision_recall_curve(testY, ypred2)\n",
    "for i in range(0,len(recall), 40):\n",
    "    print(\"Threshold {0}, recall = {1}, precision = {2}\".format(thresholds[i], recall[i], precision[i]))\n",
    "\n"
   ]
  },
  {
   "cell_type": "code",
   "execution_count": 86,
   "metadata": {
    "collapsed": false
   },
   "outputs": [
    {
     "name": "stdout",
     "output_type": "stream",
     "text": [
      "[0]\ttrain-auc:0.972264+0.000253329\ttest-auc:0.963151+0.0019248\n",
      "[1]\ttrain-auc:0.97842+0.000741807\ttest-auc:0.968992+0.00148877\n",
      "[2]\ttrain-auc:0.981337+0.000375226\ttest-auc:0.97151+0.00101539\n",
      "[3]\ttrain-auc:0.983107+0.000194697\ttest-auc:0.972978+0.00124902\n",
      "[4]\ttrain-auc:0.984493+0.000300991\ttest-auc:0.97399+0.00110106\n",
      "[5]\ttrain-auc:0.985542+0.00038857\ttest-auc:0.974542+0.00139667\n",
      "[6]\ttrain-auc:0.986527+0.000377342\ttest-auc:0.974913+0.00149338\n",
      "[7]\ttrain-auc:0.987607+0.000378842\ttest-auc:0.975512+0.00138221\n",
      "[8]\ttrain-auc:0.988459+0.000268013\ttest-auc:0.975874+0.00139486\n",
      "[9]\ttrain-auc:0.98917+0.000279941\ttest-auc:0.976168+0.00134456\n",
      "test-auc-mean     0.972763\n",
      "test-auc-std      0.001379\n",
      "train-auc-mean    0.983693\n",
      "train-auc-std     0.000356\n",
      "dtype: float64\n",
      "[1]\tcv_agg's auc: 0.964803 + 0.00192723\n",
      "[2]\tcv_agg's auc: 0.968346 + 0.00241543\n",
      "[3]\tcv_agg's auc: 0.970444 + 0.00182396\n",
      "[4]\tcv_agg's auc: 0.971232 + 0.0015626\n",
      "[5]\tcv_agg's auc: 0.972055 + 0.00135552\n",
      "[6]\tcv_agg's auc: 0.972495 + 0.0015377\n",
      "[7]\tcv_agg's auc: 0.973371 + 0.00136306\n",
      "[8]\tcv_agg's auc: 0.973762 + 0.00147309\n",
      "[9]\tcv_agg's auc: 0.97438 + 0.00149371\n",
      "[10]\tcv_agg's auc: 0.974667 + 0.00164755\n"
     ]
    }
   ],
   "source": [
    "#try running both cv\n",
    "d_train_cv = xgb.DMatrix(X, y)\n",
    "score = xgb.cv(best_xgb, d_train_cv, nfold = 5, metrics = \"auc\", verbose_eval=True)\n",
    "print np.mean(score)\n",
    "\n",
    "d_train_light = lgb.Dataset(X, label = y)\n",
    "score = lgb.cv(param, d_train_light, nfold=  5, metrics=\"auc\", verbose_eval=True)\n"
   ]
  },
  {
   "cell_type": "code",
   "execution_count": 89,
   "metadata": {
    "collapsed": false
   },
   "outputs": [
    {
     "name": "stdout",
     "output_type": "stream",
     "text": [
      "[ 0.92506522  0.92506522  0.11392444  0.9246667   0.92502618]\n",
      "1969 3031\n",
      "[ 1610.   248.   141.    97.    82.    60.    67.    41.    33.    31.\n",
      "    27.    38.    25.    24.    23.    17.    21.    12.     8.    19.\n",
      "    18.    10.    15.    20.    18.     9.     8.    11.    17.    12.\n",
      "     7.    11.     3.    11.    11.     9.    14.    14.    16.    16.\n",
      "    12.    10.    20.    11.    16.    14.    12.    20.    20.    22.]\n",
      "[   2    1    3    3    2    2    2    1    2    1    3    5    2    7    5\n",
      "    1    2    2    1    2    1    7    3    3    2    9    8   11    8    8\n",
      "    7   11   16   10    9   10   23   16   18   14   15   21   22   32   28\n",
      "   36   60   97  138 1264]\n"
     ]
    },
    {
     "data": {
      "text/plain": [
       "(0, 350)"
      ]
     },
     "execution_count": 89,
     "metadata": {},
     "output_type": "execute_result"
    },
    {
     "data": {
      "image/png": "[encoded data removed]",
      "text/plain": [
       "<matplotlib.figure.Figure at 0x7efbafa2ca90>"
      ]
     },
     "metadata": {},
     "output_type": "display_data"
    }
   ],
   "source": [
    "# Histogram:\n",
    "bins = 50\n",
    "Stable=preds[np.where(testY==1)]\n",
    "print Stable[:5][:]\n",
    "Unstable=preds[np.where(testY==0)]\n",
    "print Stable.size, Unstable.size\n",
    "\n",
    "\n",
    "fig, ax1 = plt.subplots()\n",
    "n, bins, pathces = ax1.hist(Unstable, bins, alpha=0.5, label='No', color='blue', edgecolor = \"black\")\n",
    "print n\n",
    "ax1.set_xlabel('Predicted Probability', fontsize=14)\n",
    "ax1.set_ylabel('Unstable',  fontsize=14, color='blue')\n",
    "for tl in ax1.get_yticklabels():\n",
    "    tl.set_color('blue')\n",
    "    \n",
    "\n",
    "\n",
    "ax2 = ax1.twinx()\n",
    "n, bins , patches = ax2.hist(Stable, bins, alpha=0.5, label='Yes',color='green', edgecolor = \"black\")\n",
    "print n.astype(int)\n",
    "ax2.set_ylabel('Stable', fontsize=14, color='green')\n",
    "for tl in ax2.get_yticklabels():\n",
    "    tl.set_color('green')\n",
    "    \n",
    "    \n",
    "#ax1.set_ylim(ax2.get_ylim())\n",
    "ax1.set_ylim([0,350]) # goes up to ~4300\n",
    "ax2.set_ylim([0,350]) # goes up to ~2100"
   ]
  },
  {
   "cell_type": "code",
   "execution_count": 90,
   "metadata": {
    "collapsed": false
   },
   "outputs": [
    {
     "ename": "AttributeError",
     "evalue": "'module' object has no attribute 'importance'",
     "output_type": "error",
     "traceback": [
      "\u001b[0;31m---------------------------------------------------------------------------\u001b[0m",
      "\u001b[0;31mAttributeError\u001b[0m                            Traceback (most recent call last)",
      "\u001b[0;32m<ipython-input-90-96271281565a>\u001b[0m in \u001b[0;36m<module>\u001b[0;34m()\u001b[0m\n\u001b[0;32m----> 1\u001b[0;31m \u001b[0mimportance\u001b[0m \u001b[0;34m=\u001b[0m \u001b[0mxgb\u001b[0m\u001b[0;34m.\u001b[0m\u001b[0mimportance\u001b[0m\u001b[0;34m(\u001b[0m\u001b[0mmodel\u001b[0m \u001b[0;34m=\u001b[0m \u001b[0mbst\u001b[0m\u001b[0;34m)\u001b[0m\u001b[0;34m\u001b[0m\u001b[0m\n\u001b[0m",
      "\u001b[0;31mAttributeError\u001b[0m: 'module' object has no attribute 'importance'"
     ]
    }
   ],
   "source": [
    "importance = xgb.importance(model = bst)"
   ]
  },
  {
   "cell_type": "code",
   "execution_count": 109,
   "metadata": {
    "collapsed": true
   },
   "outputs": [],
   "source": [
    "gains = bst.get_score(importance_type='gain')\n",
    "total_gains = np.sum(gains.values())\n",
    "#print gains.keys()\n",
    "#print gains.values()/total_gains*100.\n",
    "#print np.sum(gains.values()/total_gains*100.)\n",
    "a = {k: v / total_gains*100. for k, v in gains.iteritems()}"
   ]
  },
  {
   "cell_type": "code",
   "execution_count": 110,
   "metadata": {
    "collapsed": false
   },
   "outputs": [
    {
     "name": "stdout",
     "output_type": "stream",
     "text": [
      "{'avg_iH2': 0.97963810501501181, 'avg_iH1': 0.81447718229888089, 'std_ecross3': 1.958528465360253, 'norm_std_a3': 0.97451086285948829, 'norm_std_a2': 0.72176841274140713, 'norm_std_a1': 0.65652156381271587, 'max_beta23': 1.2888642351059547, 'std_beta12': 23.891420020762425, 'norm_std_window10_a1': 0.74565397018507007, 'norm_std_window10_a2': 0.79044247617299157, 'norm_std_window10_a3': 0.52826922906298424, 'avg_ecross3': 1.6323270991925019, 'avg_ecross2': 1.5036795135853147, 'avg_ecross1': 1.1557108089851915, 'avg_beta23': 0.61883539313626112, 'min_beta12': 1.4276587726164769, 'max_ecross1': 1.8352039262106816, 'max_ecross3': 1.7844399078685143, 'norm_max_a3': 0.69335567681281285, 'min_ecross1': 0.97919078994510822, 'norm_a3_slope': 0.70348033369519869, 'norm_a2_slope': 1.1212042743917019, 'avg_beta12': 1.2025890031466424, 'norm_max_a1': 1.0202917146698149, 'norm_max_a2': 3.315427743418399, 'std_beta23': 9.1707629861780191, 'max_beta12': 1.4134596062297353, 'max_ecross2': 27.623101499558718, 'min_ecross3': 0.97811885361095718, 'min_ecross2': 0.99980200370914407, 'norm_a1_slope': 0.72127891814221579, 'std_ecross1': 0.74564830376228963, 'std_ecross2': 1.8872840216568394, 'min_beta23': 1.339622861979501, 'norm_max_window10_a1': 1.1996923052538875, 'norm_max_window10_a3': 0.78710508713137994, 'norm_max_window10_a2': 0.79063407173549372}\n"
     ]
    }
   ],
   "source": [
    "print a"
   ]
  },
  {
   "cell_type": "code",
   "execution_count": null,
   "metadata": {
    "collapsed": false
   },
   "outputs": [
    {
     "name": "stdout",
     "output_type": "stream",
     "text": [
      "SCORE: 0.97331414 ERROR 0.000886488656628\n",
      "SCORE: 0.95724136 ERROR 0.00262090761482\n",
      "SCORE: 0.97136388 ERROR 0.00116820196876\n",
      "SCORE: 0.97507142 ERROR 0.000974611790626\n",
      "SCORE: 0.97448168 ERROR 0.000804047904296\n",
      "SCORE: 0.9746183 ERROR 0.0013837909964\n",
      "SCORE: 0.97443708 ERROR 0.00106909434615\n",
      "SCORE: 0.97428098 ERROR 0.00114211843062\n",
      "SCORE: 0.5 ERROR 0.0\n",
      "SCORE: 0.97301578 ERROR 0.00102494437422\n",
      "SCORE: 0.97415178 ERROR 0.000865024171197\n",
      "SCORE: 0.97422086 ERROR 0.00129155599583\n",
      "SCORE: 0.97475342 ERROR 0.00111020512814\n",
      "SCORE: 0.97401936 ERROR 0.000868232441742\n",
      "SCORE: 0.97426986 ERROR 0.00133174242857\n",
      "SCORE: 0.97331194 ERROR 0.00131697601969\n",
      "SCORE: 0.9750278 ERROR 0.0012486901108\n",
      "SCORE: 0.97480522 ERROR 0.00099811530029\n",
      "SCORE: 0.9747807 ERROR 0.0014703158719\n",
      "SCORE: 0.9741 ERROR 0.00158535028003\n",
      "SCORE: 0.5 ERROR 0.0\n",
      "SCORE: 0.97275844 ERROR 0.00157192825032\n",
      "SCORE: 0.95226618 ERROR 0.00215073451529\n",
      "SCORE: 0.93160138 ERROR 0.00451365463469\n",
      "SCORE: 0.97252748 ERROR 0.00141746814872\n",
      "SCORE: 0.97460502 ERROR 0.00108553233597\n",
      "SCORE: 0.97466928 ERROR 0.00130175232486\n",
      "SCORE: 0.97376574 ERROR 0.00145314681998\n",
      "SCORE: 0.97351718 ERROR 0.00151036979769\n",
      "SCORE: 0.97431574 ERROR 0.0013917800838\n",
      "SCORE: 0.97374604 ERROR 0.00109899201164\n",
      "SCORE: 0.9743016 ERROR 0.00137897516754\n",
      "SCORE: 0.9709402 ERROR 0.00107791989369\n",
      "SCORE: 0.96740988 ERROR 0.00146377484041\n",
      "SCORE: 0.9619979 ERROR 0.00232264737243\n",
      "SCORE: 0.9740528 ERROR 0.00169341122141\n"
     ]
    }
   ],
   "source": [
    "#continue optimization from where we left off\n",
    "#trials = Trials()\n",
    "import time\n",
    "start = time.time()\n",
    "best = fmin(fn=objective, space = space, algo = tpe.suggest, max_evals = 200, trials = trials)\n",
    "end = time.time()\n",
    "print(\"Optimization Time: %f seconds\", (end  -start))"
   ]
  },
  {
   "cell_type": "code",
   "execution_count": 113,
   "metadata": {
    "collapsed": false
   },
   "outputs": [
    {
     "data": {
      "text/plain": [
       "{'x_learning_rate': 0.16789058169707416,\n",
       " 'x_max_depth': 13,\n",
       " 'x_min_child': 7.0,\n",
       " 'x_pos_weight': 6.606175001822464,\n",
       " 'x_subsample': 0.9872987553651339,\n",
       " 'x_tree_colsample': 0.7158073319959313}"
      ]
     },
     "execution_count": 113,
     "metadata": {},
     "output_type": "execute_result"
    }
   ],
   "source": [
    "best"
   ]
  },
  {
   "cell_type": "code",
   "execution_count": 115,
   "metadata": {
    "collapsed": false
   },
   "outputs": [
    {
     "name": "stdout",
     "output_type": "stream",
     "text": [
      "0.969734432679\n"
     ]
    }
   ],
   "source": [
    "#switch to the traditional 80 20 slipt, dont know why i did the 40 60 split before\n",
    "Nrows = int(0.8*X.shape[0])\n",
    "trainX = X.iloc[:Nrows, :]\n",
    "trainY = y.iloc[:Nrows]\n",
    "testX = X.iloc[Nrows:, :]\n",
    "testY = y.iloc[Nrows:]\n",
    "\n",
    "\n",
    "\n",
    "best_xgbc = XGBClassifier(n_estimators=100, scale_pos_weight=best[\"x_pos_weight\"],\n",
    "                         learning_rate = best[\"x_learning_rate\"], \n",
    "                         max_depth = int(best[\"x_max_depth\"]), \n",
    "                         min_child_weight = best[\"x_min_child\"],\n",
    "                         subsample = best[\"x_subsample\"], \n",
    "                         colsample_bytree = best[\"x_tree_colsample\"], seed = 0)\n",
    "params = best_xgbc.get_xgb_params()\n",
    "#score = xgb.cv(params, dtrain, nfold = 5, metrics = \"auc\", verbose_eval=True)\n",
    "#print score\n",
    "d_Train = xgb.DMatrix(trainX, trainY)\n",
    "d_Test = xgb.DMatrix(testX)\n",
    "bst = xgb.train(params, d_Train)\n",
    "preds = bst.predict(d_Test)\n",
    "score = metrics.average_precision_score(testY, preds)\n",
    "print score"
   ]
  },
  {
   "cell_type": "code",
   "execution_count": 116,
   "metadata": {
    "collapsed": false
   },
   "outputs": [
    {
     "data": {
      "text/plain": [
       "<matplotlib.text.Text at 0x7efbb00c3690>"
      ]
     },
     "execution_count": 116,
     "metadata": {},
     "output_type": "execute_result"
    },
    {
     "data": {
      "image/png": "[encoded data removed]",
      "text/plain": [
       "<matplotlib.figure.Figure at 0x7efc50eb4050>"
      ]
     },
     "metadata": {},
     "output_type": "display_data"
    }
   ],
   "source": [
    "#the ROCAUC score is now 98.0 witht eh 2080 split compared to the 40 60 from before \n",
    "from sklearn.metrics import roc_curve\n",
    "fpr, tpr, thresholds = roc_curve(testY, preds)\n",
    "fig, ax = plt.subplots()\n",
    "ax.plot(fpr, tpr)\n",
    "ax.plot([0, 1], [0, 1], 'k--')\n",
    "ax.set_xlim([0.0, 1.0])\n",
    "ax.set_ylim([0.0, 1.0])\n",
    "ax.set_xlabel('False Positive Rate')\n",
    "ax.set_ylabel('True Positive Rate')\n",
    "ax.set_title('ROC curve (AUC = {0:.3f})'.format(metrics.roc_auc_score(testY, preds)))"
   ]
  },
  {
   "cell_type": "code",
   "execution_count": 120,
   "metadata": {
    "collapsed": false
   },
   "outputs": [
    {
     "name": "stdout",
     "output_type": "stream",
     "text": [
      "('Optimization Time: %f seconds', 0.0055751800537109375)\n"
     ]
    }
   ],
   "source": [
    "#continue optimization from where we left off\n",
    "#trials = Trials()\n",
    "#import time\n",
    "start = time.time()\n",
    "best = fmin(fn=objective, space = space, algo = tpe.suggest, max_evals = 200, trials = trials)\n",
    "end = time.time()\n",
    "print(\"Optimization Time: %f seconds\", (end  -start))"
   ]
  },
  {
   "cell_type": "code",
   "execution_count": 140,
   "metadata": {
    "collapsed": false
   },
   "outputs": [
    {
     "name": "stdout",
     "output_type": "stream",
     "text": [
      "200\n",
      "0.97541326\n"
     ]
    }
   ],
   "source": [
    "print len(trials.trials)\n",
    "#for i in range(200)\n",
    "complete_results = [x[\"result\"][\"cv_score\"] for x in trials]\n",
    "print np.max(complete_results)\n",
    "#print trials.trials[\"result\"][\"cv_score\"]"
   ]
  },
  {
   "cell_type": "code",
   "execution_count": 141,
   "metadata": {
    "collapsed": true
   },
   "outputs": [
    {
     "name": "stdout",
     "output_type": "stream",
     "text": [
      "SCORE: 0.9269651 ERROR 0.00678952568796\n",
      "SCORE: 0.97408176 ERROR 0.00160176232786\n",
      "SCORE: 0.97511756 ERROR 0.00123192780877\n",
      "SCORE: 0.5 ERROR 0.0\n",
      "SCORE: 0.97485946 ERROR 0.00128539964654\n",
      "SCORE: 0.9700167 ERROR 0.00137175452017\n",
      "SCORE: 0.97305084 ERROR 0.00108860302281\n",
      "SCORE: 0.9740227 ERROR 0.00128834768004\n",
      "SCORE: 0.97479606 ERROR 0.0013248604006\n",
      "SCORE: 0.96201404 ERROR 0.00155782262506\n",
      "SCORE: 0.96769782 ERROR 0.00171577170606\n",
      "SCORE: 0.97471986 ERROR 0.0013136699023\n",
      "SCORE: 0.97434234 ERROR 0.00148134137247\n",
      "SCORE: 0.9749406 ERROR 0.00116824414528\n",
      "SCORE: 0.9744768 ERROR 0.000903588123843\n",
      "SCORE: 0.9742705 ERROR 0.00164122840827\n",
      "SCORE: 0.97510988 ERROR 0.0011779854415\n",
      "SCORE: 0.97492142 ERROR 0.00148560132292\n",
      "SCORE: 0.97490962 ERROR 0.00126819452943\n",
      "SCORE: 0.97345802 ERROR 0.0012726414642\n",
      "SCORE: 0.92626202 ERROR 0.00828981552525\n",
      "SCORE: 0.97416154 ERROR 0.00146972483697\n",
      "SCORE: 0.9743872 ERROR 0.001777053101\n",
      "SCORE: 0.97500462 ERROR 0.00156167856715\n",
      "SCORE: 0.95046256 ERROR 0.00203990513305\n",
      "SCORE: 0.97442224 ERROR 0.00119638101672\n",
      "SCORE: 0.5 ERROR 0.0\n",
      "SCORE: 0.97482988 ERROR 0.00137162926114\n",
      "SCORE: 0.97230134 ERROR 0.00120616777926\n",
      "SCORE: 0.97449436 ERROR 0.00131159136024\n",
      "SCORE: 0.97119252 ERROR 0.000990765744493\n",
      "SCORE: 0.96805864 ERROR 0.00145516839627\n",
      "SCORE: 0.96250088 ERROR 0.00165150540604\n",
      "SCORE: 0.97441384 ERROR 0.00130604523284\n",
      "SCORE: 0.974502 ERROR 0.00137085771832\n",
      "SCORE: 0.9748424 ERROR 0.00157528476646\n",
      "SCORE: 0.97536414 ERROR 0.000662827319774\n",
      "SCORE: 0.97361588 ERROR 0.00161475968829\n",
      "SCORE: 0.97423138 ERROR 0.00157298068149\n",
      "SCORE: 0.9745219 ERROR 0.00188476521379\n",
      "('Optimization Time: %f seconds', 4504.230911970139)\n"
     ]
    }
   ],
   "source": [
    "#continue optimization from where we left off\n",
    "#trials = Trials()\n",
    "#import time\n",
    "start = time.time()\n",
    "best = fmin(fn=objective, space = space, algo = tpe.suggest, max_evals = 240, trials = trials)\n",
    "end = time.time()\n",
    "print(\"Optimization Time: %f seconds\", (end  -start))"
   ]
  },
  {
   "cell_type": "code",
   "execution_count": 142,
   "metadata": {
    "collapsed": true
   },
   "outputs": [],
   "source": [
    "best_xgbc = XGBClassifier(n_estimators=100, scale_pos_weight=best[\"x_pos_weight\"],\n",
    "                         learning_rate = best[\"x_learning_rate\"], \n",
    "                         max_depth = int(best[\"x_max_depth\"]), \n",
    "                         min_child_weight = best[\"x_min_child\"],\n",
    "                         subsample = best[\"x_subsample\"], \n",
    "                         colsample_bytree = best[\"x_tree_colsample\"], seed = 0)\n",
    "params = best_xgbc.get_xgb_params()"
   ]
  },
  {
   "cell_type": "code",
   "execution_count": 143,
   "metadata": {
    "collapsed": false
   },
   "outputs": [
    {
     "name": "stdout",
     "output_type": "stream",
     "text": [
      "0.969734432679\n"
     ]
    },
    {
     "data": {
      "text/plain": [
       "<matplotlib.text.Text at 0x7efbb01c47d0>"
      ]
     },
     "execution_count": 143,
     "metadata": {},
     "output_type": "execute_result"
    },
    {
     "data": {
      "image/png": "[encoded data removed]",
      "text/plain": [
       "<matplotlib.figure.Figure at 0x7efbc9000050>"
      ]
     },
     "metadata": {},
     "output_type": "display_data"
    }
   ],
   "source": [
    "bst = xgb.train(params, d_Train)\n",
    "preds = bst.predict(d_Test)\n",
    "score = metrics.average_precision_score(testY, preds)\n",
    "print score\n",
    "#the ROCAUC score is now 98.0 witht eh 2080 split compared to the 40 60 from before \n",
    "from sklearn.metrics import roc_curve\n",
    "fpr, tpr, thresholds = roc_curve(testY, preds)\n",
    "fig, ax = plt.subplots()\n",
    "ax.plot(fpr, tpr)\n",
    "ax.plot([0, 1], [0, 1], 'k--')\n",
    "ax.set_xlim([0.0, 1.0])\n",
    "ax.set_ylim([0.0, 1.0])\n",
    "ax.set_xlabel('False Positive Rate')\n",
    "ax.set_ylabel('True Positive Rate')\n",
    "ax.set_title('ROC curve (AUC = {0:.3f})'.format(metrics.roc_auc_score(testY, preds)))"
   ]
  },
  {
   "cell_type": "code",
   "execution_count": 144,
   "metadata": {
    "collapsed": false
   },
   "outputs": [
    {
     "name": "stdout",
     "output_type": "stream",
     "text": [
      "{'x_pos_weight': 6.606175001822464, 'x_learning_rate': 0.16789058169707416, 'x_max_depth': 13, 'x_min_child': 7.0, 'x_tree_colsample': 0.7158073319959313, 'x_subsample': 0.9872987553651339}\n"
     ]
    }
   ],
   "source": [
    "print best"
   ]
  },
  {
   "cell_type": "code",
   "execution_count": null,
   "metadata": {
    "collapsed": true
   },
   "outputs": [],
   "source": []
  }
 ],
 "metadata": {
  "anaconda-cloud": {},
  "kernelspec": {
   "display_name": "Python [default]",
   "language": "python",
   "name": "python2"
  },
  "language_info": {
   "codemirror_mode": {
    "name": "ipython",
    "version": 2
   },
   "file_extension": ".py",
   "mimetype": "text/x-python",
   "name": "python",
   "nbconvert_exporter": "python",
   "pygments_lexer": "ipython2",
   "version": "2.7.12"
  }
 },
 "nbformat": 4,
 "nbformat_minor": 2
}
