{
 "cells": [
  {
   "cell_type": "code",
   "execution_count": 111,
   "metadata": {
    "collapsed": true
   },
   "outputs": [],
   "source": [
    "import numpy as np\n",
    "import sklearn\n",
    "import matplotlib\n",
    "from matplotlib import pyplot as plt\n",
    "%matplotlib inline\n",
    "import pandas as pd\n",
    "from sklearn import metrics\n",
    "from sklearn.model_selection import cross_val_score\n",
    "from matplotlib import rc\n",
    "from matplotlib import cm\n",
    "from mpl_toolkits.mplot3d import axes3d\n",
    "from matplotlib.ticker import MaxNLocator\n",
    "import scipy.signal\n",
    "import xgboost as xgb\n",
    "from xgboost.sklearn import XGBClassifier\n"
   ]
  },
  {
   "cell_type": "code",
   "execution_count": 3,
   "metadata": {
    "collapsed": true
   },
   "outputs": [
    {
     "name": "stdout",
     "output_type": "stream",
     "text": [
      "['runstring' 't_final_short' 'Rel_Eerr_short' 'avg_beta12' 'std_beta12'\n",
      " 'min_beta12' 'max_beta12' 'avg_beta23' 'std_beta23' 'min_beta23'\n",
      " 'max_beta23' 'avg_a1' 'std_a1' 'max_a1' 'min_a1' 'norm_std_a1'\n",
      " 'norm_max_a1' 'norm_std_window10_a1' 'norm_max_window10_a1' 'avg_e1'\n",
      " 'std_e1' 'max_e1' 'min_e1' 'norm_std_e1' 'norm_max_e1'\n",
      " 'norm_std_window10_e1' 'norm_max_window10_e1' 'avg_inc1' 'std_inc1'\n",
      " 'max_inc1' 'min_inc1' 'norm_std_inc1' 'norm_max_inc1'\n",
      " 'norm_std_window10_inc1' 'norm_max_window10_inc1' 'avg_eH1' 'std_eH1'\n",
      " 'max_eH1' 'min_eH1' 'avg_iH1' 'std_iH1' 'max_iH1' 'min_iH1' 'avg_ecross1'\n",
      " 'std_ecross1' 'max_ecross1' 'min_ecross1' 'norm_a1_slope' 'avg_a2'\n",
      " 'std_a2' 'max_a2' 'min_a2' 'norm_std_a2' 'norm_max_a2'\n",
      " 'norm_std_window10_a2' 'norm_max_window10_a2' 'avg_e2' 'std_e2' 'max_e2'\n",
      " 'min_e2' 'norm_std_e2' 'norm_max_e2' 'norm_std_window10_e2'\n",
      " 'norm_max_window10_e2' 'avg_inc2' 'std_inc2' 'max_inc2' 'min_inc2'\n",
      " 'norm_std_inc2' 'norm_max_inc2' 'norm_std_window10_inc2'\n",
      " 'norm_max_window10_inc2' 'avg_eH2' 'std_eH2' 'max_eH2' 'min_eH2' 'avg_iH2'\n",
      " 'std_iH2' 'max_iH2' 'min_iH2' 'avg_ecross2' 'std_ecross2' 'max_ecross2'\n",
      " 'min_ecross2' 'norm_a2_slope' 'avg_a3' 'std_a3' 'max_a3' 'min_a3'\n",
      " 'norm_std_a3' 'norm_max_a3' 'norm_std_window10_a3' 'norm_max_window10_a3'\n",
      " 'avg_e3' 'std_e3' 'max_e3' 'min_e3' 'norm_std_e3' 'norm_max_e3'\n",
      " 'norm_std_window10_e3' 'norm_max_window10_e3' 'avg_inc3' 'std_inc3'\n",
      " 'max_inc3' 'min_inc3' 'norm_std_inc3' 'norm_max_inc3'\n",
      " 'norm_std_window10_inc3' 'norm_max_window10_inc3' 'avg_eH3' 'std_eH3'\n",
      " 'max_eH3' 'min_eH3' 'avg_iH3' 'std_iH3' 'max_iH3' 'min_iH3' 'avg_ecross3'\n",
      " 'std_ecross3' 'max_ecross3' 'min_ecross3' 'norm_a3_slope' 'wall_time'\n",
      " 'Stable' 'instability_time' 'Rel_Eerr']\n"
     ]
    }
   ],
   "source": [
    "dataset = pd.read_csv(\"../csvs/NoLyapanovTime/sifOrbsMore=10000.0Nout=100window=10.csv\", index_col = 0)\n",
    "print dataset.columns.values"
   ]
  },
  {
   "cell_type": "code",
   "execution_count": 7,
   "metadata": {},
   "outputs": [
    {
     "data": {
      "text/html": [
       "<div>\n",
       "<table border=\"1\" class=\"dataframe\">\n",
       "  <thead>\n",
       "    <tr style=\"text-align: right;\">\n",
       "      <th></th>\n",
       "      <th>avg_iH1</th>\n",
       "      <th>avg_iH2</th>\n",
       "      <th>norm_std_a1</th>\n",
       "      <th>norm_max_a1</th>\n",
       "      <th>norm_std_window10_a1</th>\n",
       "      <th>norm_max_window10_a1</th>\n",
       "      <th>norm_std_a2</th>\n",
       "      <th>norm_max_a2</th>\n",
       "      <th>norm_std_window10_a2</th>\n",
       "      <th>norm_max_window10_a2</th>\n",
       "      <th>...</th>\n",
       "      <th>norm_a2_slope</th>\n",
       "      <th>norm_a3_slope</th>\n",
       "      <th>avg_beta12</th>\n",
       "      <th>std_beta12</th>\n",
       "      <th>min_beta12</th>\n",
       "      <th>max_beta12</th>\n",
       "      <th>avg_beta23</th>\n",
       "      <th>std_beta23</th>\n",
       "      <th>min_beta23</th>\n",
       "      <th>max_beta23</th>\n",
       "    </tr>\n",
       "  </thead>\n",
       "  <tbody>\n",
       "    <tr>\n",
       "      <th>0</th>\n",
       "      <td>0.396282</td>\n",
       "      <td>0.481704</td>\n",
       "      <td>0.000329</td>\n",
       "      <td>0.001083</td>\n",
       "      <td>0.000214</td>\n",
       "      <td>0.000456</td>\n",
       "      <td>0.000701</td>\n",
       "      <td>0.001978</td>\n",
       "      <td>0.000446</td>\n",
       "      <td>0.000964</td>\n",
       "      <td>...</td>\n",
       "      <td>2.144832e-10</td>\n",
       "      <td>2.681898e-11</td>\n",
       "      <td>8.488064</td>\n",
       "      <td>0.048209</td>\n",
       "      <td>8.344623</td>\n",
       "      <td>8.551727</td>\n",
       "      <td>15.791595</td>\n",
       "      <td>0.085995</td>\n",
       "      <td>15.576612</td>\n",
       "      <td>16.019985</td>\n",
       "    </tr>\n",
       "    <tr>\n",
       "      <th>1</th>\n",
       "      <td>1.034575</td>\n",
       "      <td>0.823935</td>\n",
       "      <td>0.000739</td>\n",
       "      <td>0.002137</td>\n",
       "      <td>0.000202</td>\n",
       "      <td>0.000463</td>\n",
       "      <td>0.000200</td>\n",
       "      <td>0.000350</td>\n",
       "      <td>0.000226</td>\n",
       "      <td>0.000377</td>\n",
       "      <td>...</td>\n",
       "      <td>3.559377e-11</td>\n",
       "      <td>-9.314702e-11</td>\n",
       "      <td>8.414875</td>\n",
       "      <td>0.039142</td>\n",
       "      <td>8.308582</td>\n",
       "      <td>8.495900</td>\n",
       "      <td>15.314101</td>\n",
       "      <td>0.037065</td>\n",
       "      <td>15.254833</td>\n",
       "      <td>15.368196</td>\n",
       "    </tr>\n",
       "    <tr>\n",
       "      <th>2</th>\n",
       "      <td>0.440470</td>\n",
       "      <td>0.491261</td>\n",
       "      <td>0.001951</td>\n",
       "      <td>0.003550</td>\n",
       "      <td>0.001735</td>\n",
       "      <td>0.002860</td>\n",
       "      <td>0.002303</td>\n",
       "      <td>0.004034</td>\n",
       "      <td>0.002080</td>\n",
       "      <td>0.003409</td>\n",
       "      <td>...</td>\n",
       "      <td>-3.330088e-11</td>\n",
       "      <td>-4.095504e-11</td>\n",
       "      <td>3.566625</td>\n",
       "      <td>0.132349</td>\n",
       "      <td>3.331239</td>\n",
       "      <td>3.773868</td>\n",
       "      <td>25.113282</td>\n",
       "      <td>0.137779</td>\n",
       "      <td>24.898424</td>\n",
       "      <td>25.351948</td>\n",
       "    </tr>\n",
       "    <tr>\n",
       "      <th>3</th>\n",
       "      <td>0.432098</td>\n",
       "      <td>0.550624</td>\n",
       "      <td>0.000026</td>\n",
       "      <td>0.000120</td>\n",
       "      <td>0.000005</td>\n",
       "      <td>0.000009</td>\n",
       "      <td>0.000019</td>\n",
       "      <td>0.000050</td>\n",
       "      <td>0.000016</td>\n",
       "      <td>0.000041</td>\n",
       "      <td>...</td>\n",
       "      <td>7.816527e-13</td>\n",
       "      <td>-7.257099e-12</td>\n",
       "      <td>18.513867</td>\n",
       "      <td>0.003597</td>\n",
       "      <td>18.498104</td>\n",
       "      <td>18.521611</td>\n",
       "      <td>19.142029</td>\n",
       "      <td>0.008997</td>\n",
       "      <td>19.120348</td>\n",
       "      <td>19.156777</td>\n",
       "    </tr>\n",
       "    <tr>\n",
       "      <th>4</th>\n",
       "      <td>5.722053</td>\n",
       "      <td>17.442426</td>\n",
       "      <td>0.028284</td>\n",
       "      <td>0.063028</td>\n",
       "      <td>0.004313</td>\n",
       "      <td>0.010716</td>\n",
       "      <td>0.038832</td>\n",
       "      <td>0.160685</td>\n",
       "      <td>0.090892</td>\n",
       "      <td>0.112168</td>\n",
       "      <td>...</td>\n",
       "      <td>3.913858e-08</td>\n",
       "      <td>-2.610208e-08</td>\n",
       "      <td>23.314674</td>\n",
       "      <td>6.756316</td>\n",
       "      <td>3.957209</td>\n",
       "      <td>38.942908</td>\n",
       "      <td>-19.036068</td>\n",
       "      <td>5.544896</td>\n",
       "      <td>-21.930247</td>\n",
       "      <td>4.156005</td>\n",
       "    </tr>\n",
       "  </tbody>\n",
       "</table>\n",
       "<p>5 rows × 37 columns</p>\n",
       "</div>"
      ],
      "text/plain": [
       "    avg_iH1    avg_iH2  norm_std_a1  norm_max_a1  norm_std_window10_a1  \\\n",
       "0  0.396282   0.481704     0.000329     0.001083              0.000214   \n",
       "1  1.034575   0.823935     0.000739     0.002137              0.000202   \n",
       "2  0.440470   0.491261     0.001951     0.003550              0.001735   \n",
       "3  0.432098   0.550624     0.000026     0.000120              0.000005   \n",
       "4  5.722053  17.442426     0.028284     0.063028              0.004313   \n",
       "\n",
       "   norm_max_window10_a1  norm_std_a2  norm_max_a2  norm_std_window10_a2  \\\n",
       "0              0.000456     0.000701     0.001978              0.000446   \n",
       "1              0.000463     0.000200     0.000350              0.000226   \n",
       "2              0.002860     0.002303     0.004034              0.002080   \n",
       "3              0.000009     0.000019     0.000050              0.000016   \n",
       "4              0.010716     0.038832     0.160685              0.090892   \n",
       "\n",
       "   norm_max_window10_a2     ...      norm_a2_slope  norm_a3_slope  avg_beta12  \\\n",
       "0              0.000964     ...       2.144832e-10   2.681898e-11    8.488064   \n",
       "1              0.000377     ...       3.559377e-11  -9.314702e-11    8.414875   \n",
       "2              0.003409     ...      -3.330088e-11  -4.095504e-11    3.566625   \n",
       "3              0.000041     ...       7.816527e-13  -7.257099e-12   18.513867   \n",
       "4              0.112168     ...       3.913858e-08  -2.610208e-08   23.314674   \n",
       "\n",
       "   std_beta12  min_beta12  max_beta12  avg_beta23  std_beta23  min_beta23  \\\n",
       "0    0.048209    8.344623    8.551727   15.791595    0.085995   15.576612   \n",
       "1    0.039142    8.308582    8.495900   15.314101    0.037065   15.254833   \n",
       "2    0.132349    3.331239    3.773868   25.113282    0.137779   24.898424   \n",
       "3    0.003597   18.498104   18.521611   19.142029    0.008997   19.120348   \n",
       "4    6.756316    3.957209   38.942908  -19.036068    5.544896  -21.930247   \n",
       "\n",
       "   max_beta23  \n",
       "0   16.019985  \n",
       "1   15.368196  \n",
       "2   25.351948  \n",
       "3   19.156777  \n",
       "4    4.156005  \n",
       "\n",
       "[5 rows x 37 columns]"
      ]
     },
     "execution_count": 7,
     "metadata": {},
     "output_type": "execute_result"
    }
   ],
   "source": [
    "features = []\n",
    "features += ['avg_iH1', 'avg_iH2']\n",
    "features += ['norm_std_a1', 'norm_max_a1', 'norm_std_window10_a1', 'norm_max_window10_a1']\n",
    "features += ['norm_std_a2', 'norm_max_a2', 'norm_std_window10_a2', 'norm_max_window10_a2']\n",
    "features += ['norm_std_a3', 'norm_max_a3', 'norm_std_window10_a3', 'norm_max_window10_a3']\n",
    "features += ['avg_ecross1', 'std_ecross1', 'max_ecross1', 'min_ecross1']\n",
    "features += ['avg_ecross2', 'std_ecross2', 'max_ecross2', 'min_ecross2']\n",
    "features += ['avg_ecross3', 'std_ecross3', 'max_ecross3', 'min_ecross3']\n",
    "features += ['norm_a1_slope', 'norm_a2_slope', 'norm_a3_slope']\n",
    "features += ['avg_beta12','std_beta12','min_beta12','max_beta12','avg_beta23','std_beta23','min_beta23','max_beta23'] \n",
    "y = dataset['Stable']\n",
    "X = dataset[features]\n",
    "X.head()"
   ]
  },
  {
   "cell_type": "code",
   "execution_count": 8,
   "metadata": {
    "collapsed": true
   },
   "outputs": [],
   "source": [
    "Nrows = int(0.4*X.shape[0])\n",
    "trainX = X.iloc[:Nrows, :]\n",
    "trainY = y.iloc[:Nrows]\n",
    "testX = X.iloc[Nrows:, :]\n",
    "testY = y.iloc[Nrows:]\n",
    "xgbc = XGBClassifier(scale_pos_weight=)"
   ]
  },
  {
   "cell_type": "code",
   "execution_count": null,
   "metadata": {
    "collapsed": true
   },
   "outputs": [],
   "source": [
    "from hyperopt import hp, fmin, tpe, STATUS_OK, Trials"
   ]
  },
  {
   "cell_type": "code",
   "execution_count": 60,
   "metadata": {
    "collapsed": true
   },
   "outputs": [],
   "source": [
    "space ={\n",
    "        'max_depth': hp.randint('x_max_depth',  20),\n",
    "        'min_child_weight': hp.quniform ('x_min_child', 1, 10, 1),\n",
    "        'subsample': hp.uniform ('x_subsample', 0.8, 1),\n",
    "        'scale_pos_weight': hp.uniform(\"x_pos_weight\", 1, 15),\n",
    "        \"learning_rate\":hp.uniform(\"x_learning_rate\",0.01,0.2),\n",
    "        'colsample_bytree': hp.uniform ('x_tree_colsample', 0.5,1),\n",
    "}\n",
    "\n",
    "dtrain = xgb.DMatrix(X, y)\n",
    "def objective(space):\n",
    "\n",
    "    clf = XGBClassifier(n_estimators = 100, \n",
    "                            max_depth = space['max_depth'], \n",
    "                            min_child_weight =space['min_child_weight'],\n",
    "                            subsample = space['subsample'],\n",
    "                            colsample_bytree =space['colsample_bytree'],\n",
    "                            learning_rate = space['learning_rate'])\n",
    "    \n",
    "    params = clf.get_xgb_params()\n",
    "    score = xgb.cv(params, dtrain, nfold = 5, metrics = \"auc\", early_stopping_rounds=10)\n",
    "    #print score\n",
    "    #score = cross_val_score(clf, trainX, trainY, cv = 5, scoring=\"average_precision\")\n",
    "    avg_score =  np.mean(score[\"test-auc-mean\"])\n",
    "    error = np.mean(score[\"test-auc-std\"])\n",
    "    print \"SCORE:\", avg_score, \"ERROR\", error\n",
    "\n",
    "    return{'loss':1-avg_score, 'status': STATUS_OK, \"cv_score\":avg_score , \"cv_error\":error }"
   ]
  },
  {
   "cell_type": "code",
   "execution_count": 62,
   "metadata": {},
   "outputs": [
    {
     "name": "stdout",
     "output_type": "stream",
     "text": [
      "SCORE: 0.97413286 ERROR 0.00107205532345\n",
      "SCORE: 0.97470818 ERROR 0.000902183636475\n",
      "SCORE: 0.97356786 ERROR 0.000972594728848\n",
      "SCORE: 0.97461188 ERROR 0.000994954922168\n",
      "SCORE: 0.97358828 ERROR 0.00178638497029\n",
      "SCORE: 0.97492162 ERROR 0.00109026429064\n",
      "SCORE: 0.97300476 ERROR 0.00111978443784\n",
      "SCORE: 0.92078506 ERROR 0.00990478905693\n",
      "SCORE: 0.9499736 ERROR 0.00231713634996\n",
      "SCORE: 0.9719146 ERROR 0.0020267621029\n",
      "SCORE: 0.97381512 ERROR 0.00180887122377\n",
      "SCORE: 0.97349592 ERROR 0.00147171797508\n",
      "SCORE: 0.93304166 ERROR 0.00425814498023\n",
      "SCORE: 0.92579846 ERROR 0.00835225020701\n",
      "SCORE: 0.95096044 ERROR 0.00247250322728\n",
      "SCORE: 0.97398358 ERROR 0.00128423702745\n",
      "SCORE: 0.92973644 ERROR 0.00632298985838\n",
      "SCORE: 0.97227924 ERROR 0.0019632072863\n",
      "SCORE: 0.5 ERROR 0.0\n",
      "SCORE: 0.95155908 ERROR 0.00276223622759\n",
      "SCORE: 0.97460998 ERROR 0.000819366112618\n",
      "SCORE: 0.97477114 ERROR 0.00106172685815\n",
      "SCORE: 0.97322062 ERROR 0.00127598784182\n",
      "SCORE: 0.97514328 ERROR 0.000904271536119\n",
      "SCORE: 0.97495812 ERROR 0.00125077877235\n",
      "SCORE: 0.9750128 ERROR 0.000871401197631\n",
      "SCORE: 0.97478548 ERROR 0.00112104045835\n",
      "SCORE: 0.97386262 ERROR 0.00102659685428\n",
      "SCORE: 0.97189486 ERROR 0.0024303137631\n",
      "SCORE: 0.9704913 ERROR 0.00107846014256\n",
      "SCORE: 0.96233374 ERROR 0.00175437914125\n",
      "SCORE: 0.97442064 ERROR 0.000898759466277\n",
      "SCORE: 0.9671838 ERROR 0.00161741109439\n",
      "SCORE: 0.97476628 ERROR 0.00162780187427\n",
      "SCORE: 0.97400374 ERROR 0.00141106203069\n",
      "SCORE: 0.9747279 ERROR 0.000951156046089\n",
      "SCORE: 0.97472564 ERROR 0.001340150818\n",
      "SCORE: 0.97446732 ERROR 0.000825172930485\n",
      "SCORE: 0.97377452 ERROR 0.00124265792858\n",
      "SCORE: 0.96730812 ERROR 0.00113890788568\n",
      "('Optimization Time: %f seconds', 2685.8312001228333)\n"
     ]
    }
   ],
   "source": [
    "trials = Trials()\n",
    "import time\n",
    "start = time.time()\n",
    "best = fmin(fn=objective, space = space, algo = tpe.suggest, max_evals = 40, trials = trials)\n",
    "end = time.time()\n",
    "print(\"Optimization Time: %f seconds\", (end  -start))"
   ]
  },
  {
   "cell_type": "code",
   "execution_count": 63,
   "metadata": {},
   "outputs": [
    {
     "data": {
      "text/plain": [
       "{'x_learning_rate': 0.18583963071918821,\n",
       " 'x_max_depth': 19,\n",
       " 'x_min_child': 5.0,\n",
       " 'x_pos_weight': 5.432757477557094,\n",
       " 'x_subsample': 0.9240900737077349,\n",
       " 'x_tree_colsample': 0.8203255474481522}"
      ]
     },
     "execution_count": 63,
     "metadata": {},
     "output_type": "execute_result"
    }
   ],
   "source": [
    "#fit the smaller rage \n",
    "#{'x_learning_rate': 0.07419653015127085,\n",
    "# 'x_max_depth': 8,\n",
    "# 'x_min_child': 4.0,\n",
    "# 'x_pos_weight': 8.889472764333366,\n",
    "# 'x_subsample': 0.9380315392096068,\n",
    "# 'x_tree_colsample': 0.734517699234413}\n",
    "best"
   ]
  },
  {
   "cell_type": "code",
   "execution_count": 83,
   "metadata": {},
   "outputs": [
    {
     "name": "stdout",
     "output_type": "stream",
     "text": [
      "0.968871117399\n"
     ]
    }
   ],
   "source": [
    "#switch to the traditional 80 20 slipt, dont know why i did the 40 60 split before\n",
    "Nrows = int(0.8*X.shape[0])\n",
    "trainX = X.iloc[:Nrows, :]\n",
    "trainY = y.iloc[:Nrows]\n",
    "testX = X.iloc[Nrows:, :]\n",
    "testY = y.iloc[Nrows:]\n",
    "\n",
    "\n",
    "\n",
    "best_xgbc = XGBClassifier(n_estimators=100, scale_pos_weight=best[\"x_pos_weight\"],\n",
    "                         learning_rate = best[\"x_learning_rate\"], \n",
    "                         max_depth = int(best[\"x_max_depth\"]), \n",
    "                         min_child_weight = best[\"x_min_child\"],\n",
    "                         subsample = best[\"x_subsample\"], \n",
    "                         colsample_bytree = best[\"x_tree_colsample\"])\n",
    "params = best_xgbc.get_xgb_params()\n",
    "#score = xgb.cv(params, dtrain, nfold = 5, metrics = \"auc\", verbose_eval=True)\n",
    "#print score\n",
    "d_Train = xgb.DMatrix(trainX, trainY)\n",
    "d_Test = xgb.DMatrix(testX)\n",
    "bst = xgb.train(params, d_Train)\n",
    "preds = bst.predict(d_Test)\n",
    "score = metrics.average_precision_score(testY, preds)\n",
    "print score"
   ]
  },
  {
   "cell_type": "code",
   "execution_count": 84,
   "metadata": {},
   "outputs": [
    {
     "name": "stdout",
     "output_type": "stream",
     "text": [
      "{'x_pos_weight': 5.432757477557094, 'x_learning_rate': 0.18583963071918821, 'x_max_depth': 19, 'x_min_child': 5.0, 'x_tree_colsample': 0.8203255474481522, 'x_subsample': 0.9240900737077349}\n"
     ]
    }
   ],
   "source": [
    "print best"
   ]
  },
  {
   "cell_type": "code",
   "execution_count": 85,
   "metadata": {},
   "outputs": [
    {
     "data": {
      "text/plain": [
       "<matplotlib.text.Text at 0x7efbafccd990>"
      ]
     },
     "execution_count": 85,
     "metadata": {},
     "output_type": "execute_result"
    },
    {
     "data": {
      "image/png": "[encoded data removed]",
      "text/plain": [
       "<matplotlib.figure.Figure at 0x7efbc64d6890>"
      ]
     },
     "metadata": {},
     "output_type": "display_data"
    }
   ],
   "source": [
    "#the ROCAUC score is now 98.0 witht eh 2080 split compared to the 40 60 from before \n",
    "from sklearn.metrics import roc_curve\n",
    "fpr, tpr, thresholds = roc_curve(testY, preds)\n",
    "fig, ax = plt.subplots()\n",
    "ax.plot(fpr, tpr)\n",
    "ax.plot([0, 1], [0, 1], 'k--')\n",
    "ax.set_xlim([0.0, 1.0])\n",
    "ax.set_ylim([0.0, 1.0])\n",
    "ax.set_xlabel('False Positive Rate')\n",
    "ax.set_ylabel('True Positive Rate')\n",
    "ax.set_title('ROC curve (AUC = {0:.3f})'.format(metrics.roc_auc_score(testY, preds)))"
   ]
  },
  {
   "cell_type": "code",
   "execution_count": 86,
   "metadata": {
    "collapsed": true
   },
   "outputs": [
    {
     "name": "stdout",
     "output_type": "stream",
     "text": [
      "Threshold 0.0699266865849, recall = 1.0, precision = 0.398260517799\n",
      "Threshold 0.0702611654997, recall = 0.999492127984, precision = 0.398945874721\n",
      "Threshold 0.0704542696476, recall = 0.999492127984, precision = 0.399756246191\n",
      "Threshold 0.0709354951978, recall = 0.999492127984, precision = 0.400569916548\n",
      "Threshold 0.0712060034275, recall = 0.999492127984, precision = 0.401386905976\n",
      "Threshold 0.071446634829, recall = 0.999492127984, precision = 0.402207234825\n",
      "Threshold 0.0716766640544, recall = 0.999492127984, precision = 0.403692307692\n",
      "Threshold 0.071909211576, recall = 0.999492127984, precision = 0.405689548547\n",
      "Threshold 0.0722314491868, recall = 0.999492127984, precision = 0.406611570248\n",
      "Threshold 0.072383210063, recall = 0.999492127984, precision = 0.408044785403\n",
      "Threshold 0.0726305097342, recall = 0.999492127984, precision = 0.40897755611\n",
      "Threshold 0.0728014111519, recall = 0.999492127984, precision = 0.412405699916\n",
      "Threshold 0.0731219053268, recall = 0.999492127984, precision = 0.416419805332\n",
      "Threshold 0.0734519660473, recall = 0.999492127984, precision = 0.56698357822\n",
      "Threshold 0.0736389458179, recall = 0.999492127984, precision = 0.57093124456\n",
      "Threshold 0.0741948410869, recall = 0.999492127984, precision = 0.573092603378\n",
      "Threshold 0.0747997686267, recall = 0.999492127984, precision = 0.57476635514\n",
      "Threshold 0.075236082077, recall = 0.999492127984, precision = 0.576618810431\n",
      "Threshold 0.0758730024099, recall = 0.998984255967, precision = 0.578359306086\n",
      "Threshold 0.0766577199101, recall = 0.998984255967, precision = 0.580407199764\n",
      "Threshold 0.077524498105, recall = 0.998984255967, precision = 0.58212488902\n",
      "Threshold 0.0782429277897, recall = 0.998984255967, precision = 0.583852775304\n",
      "Threshold 0.0790607854724, recall = 0.998984255967, precision = 0.585590949687\n",
      "Threshold 0.0796107128263, recall = 0.998984255967, precision = 0.58733950433\n",
      "Threshold 0.0803352370858, recall = 0.998984255967, precision = 0.589098532495\n",
      "Threshold 0.0807192847133, recall = 0.998984255967, precision = 0.591045673077\n",
      "Threshold 0.0811463519931, recall = 0.998984255967, precision = 0.593363499246\n",
      "Threshold 0.0816474109888, recall = 0.998984255967, precision = 0.595519224947\n",
      "Threshold 0.0823270976543, recall = 0.998984255967, precision = 0.597509113001\n",
      "Threshold 0.082893371582, recall = 0.998984255967, precision = 0.599329677026\n",
      "Threshold 0.0835195034742, recall = 0.998984255967, precision = 0.601161369193\n",
      "Threshold 0.0844618678093, recall = 0.998984255967, precision = 0.603004291845\n",
      "Threshold 0.0849896818399, recall = 0.998984255967, precision = 0.604858548585\n",
      "Threshold 0.0859862715006, recall = 0.998984255967, precision = 0.606724244294\n",
      "Threshold 0.0866376161575, recall = 0.998984255967, precision = 0.609166924745\n",
      "Threshold 0.0875453650951, recall = 0.998984255967, precision = 0.611059335197\n",
      "Threshold 0.0882186293602, recall = 0.998984255967, precision = 0.614495470166\n",
      "Threshold 0.0888961926103, recall = 0.998984255967, precision = 0.616614420063\n",
      "Threshold 0.0893387272954, recall = 0.998476383951, precision = 0.618238993711\n",
      "Threshold 0.090107165277, recall = 0.998476383951, precision = 0.620189274448\n",
      "Threshold 0.0912033393979, recall = 0.998476383951, precision = 0.622545915136\n",
      "Threshold 0.093036942184, recall = 0.998476383951, precision = 0.624523506989\n",
      "Threshold 0.09438226372, recall = 0.998476383951, precision = 0.626513702996\n",
      "Threshold 0.0954342037439, recall = 0.997968511935, precision = 0.628196930946\n",
      "Threshold 0.0968818739057, recall = 0.997968511935, precision = 0.63021167415\n",
      "Threshold 0.0978781506419, recall = 0.997968511935, precision = 0.632239382239\n",
      "Threshold 0.098959185183, recall = 0.997968511935, precision = 0.634280180762\n",
      "Threshold 0.0998500660062, recall = 0.997968511935, precision = 0.636334196891\n",
      "Threshold 0.100923940539, recall = 0.997968511935, precision = 0.638816644993\n",
      "Threshold 0.101923011243, recall = 0.997968511935, precision = 0.641947076119\n",
      "Threshold 0.104117304087, recall = 0.997968511935, precision = 0.644262295082\n",
      "Threshold 0.105782777071, recall = 0.997968511935, precision = 0.646381578947\n",
      "Threshold 0.107299730182, recall = 0.997968511935, precision = 0.648514851485\n",
      "Threshold 0.108553081751, recall = 0.997968511935, precision = 0.650662251656\n",
      "Threshold 0.110058642924, recall = 0.997460639919, precision = 0.653359946773\n",
      "Threshold 0.111435756087, recall = 0.996952767902, precision = 0.65520694259\n",
      "Threshold 0.113864533603, recall = 0.996952767902, precision = 0.657401205626\n",
      "Threshold 0.115189827979, recall = 0.996444895886, precision = 0.659274193548\n",
      "Threshold 0.116586372256, recall = 0.996444895886, precision = 0.66149696561\n",
      "Threshold 0.117998026311, recall = 0.996444895886, precision = 0.663734776725\n",
      "Threshold 0.118988804519, recall = 0.996444895886, precision = 0.665987780041\n",
      "Threshold 0.121339015663, recall = 0.99593702387, precision = 0.667915531335\n",
      "Threshold 0.123002685606, recall = 0.99593702387, precision = 0.67019822283\n",
      "Threshold 0.125107437372, recall = 0.99593702387, precision = 0.672496570645\n",
      "Threshold 0.126619145274, recall = 0.99593702387, precision = 0.674810736407\n",
      "Threshold 0.128723710775, recall = 0.995429151854, precision = 0.67679558011\n",
      "Threshold 0.131254121661, recall = 0.995429151854, precision = 0.679140679141\n",
      "Threshold 0.133738934994, recall = 0.995429151854, precision = 0.681502086231\n",
      "Threshold 0.135470747948, recall = 0.995429151854, precision = 0.683879972087\n",
      "Threshold 0.13697206974, recall = 0.995429151854, precision = 0.686274509804\n",
      "Threshold 0.138313740492, recall = 0.994921279837, precision = 0.688334504568\n",
      "Threshold 0.14075756073, recall = 0.994921279837, precision = 0.690761636107\n",
      "Threshold 0.142686858773, recall = 0.994921279837, precision = 0.693205944798\n",
      "Threshold 0.144645288587, recall = 0.994921279837, precision = 0.695667613636\n",
      "Threshold 0.147609636188, recall = 0.994413407821, precision = 0.697790449038\n",
      "Threshold 0.149521231651, recall = 0.994413407821, precision = 0.70053667263\n",
      "Threshold 0.15235054493, recall = 0.994413407821, precision = 0.703052064632\n",
      "Threshold 0.155209243298, recall = 0.993905535805, precision = 0.705225225225\n",
      "Threshold 0.158306449652, recall = 0.993397663789, precision = 0.707414104882\n",
      "Threshold 0.162437900901, recall = 0.993397663789, precision = 0.70998185118\n",
      "Threshold 0.164875894785, recall = 0.992889791772, precision = 0.712204007286\n",
      "Threshold 0.167515143752, recall = 0.992889791772, precision = 0.714808043876\n",
      "Threshold 0.169078916311, recall = 0.992889791772, precision = 0.717431192661\n",
      "Threshold 0.1706905514, recall = 0.992889791772, precision = 0.720073664825\n",
      "Threshold 0.174386337399, recall = 0.992889791772, precision = 0.722735674677\n",
      "Threshold 0.177421286702, recall = 0.992889791772, precision = 0.725417439703\n",
      "Threshold 0.179940745234, recall = 0.992381919756, precision = 0.727746741155\n",
      "Threshold 0.182776302099, recall = 0.992381919756, precision = 0.73046728972\n",
      "Threshold 0.186110973358, recall = 0.99187404774, precision = 0.732833020638\n",
      "Threshold 0.190607592463, recall = 0.99187404774, precision = 0.735593220339\n",
      "Threshold 0.195550918579, recall = 0.99187404774, precision = 0.738374291115\n",
      "Threshold 0.198336809874, recall = 0.99187404774, precision = 0.741176470588\n",
      "Threshold 0.2051512748, recall = 0.991366175724, precision = 0.743619047619\n",
      "Threshold 0.211550012231, recall = 0.990858303707, precision = 0.746080305927\n",
      "Threshold 0.21449123323, recall = 0.990858303707, precision = 0.748944337812\n",
      "Threshold 0.220740556717, recall = 0.990858303707, precision = 0.75183044316\n",
      "Threshold 0.227056160569, recall = 0.990858303707, precision = 0.754738878143\n",
      "Threshold 0.231001988053, recall = 0.990858303707, precision = 0.757669902913\n",
      "Threshold 0.236328780651, recall = 0.989842559675, precision = 0.759844054581\n",
      "Threshold 0.240645512938, recall = 0.989334687659, precision = 0.762426614481\n",
      "Threshold 0.248126938939, recall = 0.989334687659, precision = 0.765422396857\n",
      "Threshold 0.251821786165, recall = 0.988826815642, precision = 0.768047337278\n",
      "Threshold 0.257172971964, recall = 0.987303199594, precision = 0.769900990099\n",
      "Threshold 0.262510865927, recall = 0.987303199594, precision = 0.77296222664\n",
      "Threshold 0.266022354364, recall = 0.986795327577, precision = 0.775648702595\n",
      "Threshold 0.269588977098, recall = 0.986287455561, precision = 0.778356713427\n",
      "Threshold 0.274725198746, recall = 0.985779583545, precision = 0.781086519115\n",
      "Threshold 0.281462788582, recall = 0.985779583545, precision = 0.784242424242\n",
      "Threshold 0.286947071552, recall = 0.984255967496, precision = 0.786206896552\n",
      "Threshold 0.293027579784, recall = 0.98374809548, precision = 0.78900203666\n",
      "Threshold 0.298771500587, recall = 0.982732351447, precision = 0.791411042945\n",
      "Threshold 0.303939014673, recall = 0.981208735399, precision = 0.793429158111\n",
      "Threshold 0.308669745922, recall = 0.981208735399, precision = 0.796701030928\n",
      "Threshold 0.315058946609, recall = 0.979177247334, precision = 0.7983436853\n",
      "Threshold 0.330656349659, recall = 0.979177247334, precision = 0.801663201663\n",
      "Threshold 0.336265593767, recall = 0.978669375317, precision = 0.804592901879\n",
      "Threshold 0.34706017375, recall = 0.978669375317, precision = 0.807966457023\n",
      "Threshold 0.351892858744, recall = 0.977653631285, precision = 0.810526315789\n",
      "Threshold 0.361398905516, recall = 0.977145759269, precision = 0.813530655391\n",
      "Threshold 0.38302719593, recall = 0.976637887252, precision = 0.816560509554\n",
      "Threshold 0.391747266054, recall = 0.97562214322, precision = 0.819189765458\n",
      "Threshold 0.399170875549, recall = 0.975114271204, precision = 0.822269807281\n",
      "Threshold 0.407274842262, recall = 0.975114271204, precision = 0.825806451613\n",
      "Threshold 0.417087465525, recall = 0.974606399187, precision = 0.828941684665\n",
      "Threshold 0.42524549365, recall = 0.974606399187, precision = 0.832537960954\n",
      "Threshold 0.4358920753, recall = 0.972067039106, precision = 0.833986928105\n",
      "Threshold 0.447441786528, recall = 0.970035551041, precision = 0.835886214442\n",
      "Threshold 0.455180853605, recall = 0.969527679025, precision = 0.839120879121\n",
      "Threshold 0.465650290251, recall = 0.968511934992, precision = 0.841942604857\n",
      "Threshold 0.473502606153, recall = 0.968004062976, precision = 0.845232815965\n",
      "Threshold 0.478939831257, recall = 0.968004062976, precision = 0.848997772829\n",
      "Threshold 0.486675411463, recall = 0.966988318944, precision = 0.851901565996\n",
      "Threshold 0.497917056084, recall = 0.965464702895, precision = 0.854382022472\n",
      "Threshold 0.504964530468, recall = 0.962925342814, precision = 0.855981941309\n",
      "Threshold 0.517024695873, recall = 0.961401726765, precision = 0.858503401361\n",
      "Threshold 0.529205203056, recall = 0.958354494667, precision = 0.859681093394\n",
      "Threshold 0.540686905384, recall = 0.956323006602, precision = 0.861784897025\n",
      "Threshold 0.544165194035, recall = 0.953275774505, precision = 0.862988505747\n",
      "Threshold 0.552295327187, recall = 0.951752158456, precision = 0.86558891455\n",
      "Threshold 0.555018186569, recall = 0.949720670391, precision = 0.867749419954\n",
      "Threshold 0.564263224602, recall = 0.948704926359, precision = 0.870862470862\n",
      "Threshold 0.576222956181, recall = 0.946673438294, precision = 0.873067915691\n",
      "Threshold 0.584889471531, recall = 0.944134078212, precision = 0.874823529412\n",
      "Threshold 0.598786234856, recall = 0.941086846115, precision = 0.876122931442\n",
      "Threshold 0.603047788143, recall = 0.939563230066, precision = 0.878859857482\n",
      "Threshold 0.612063109875, recall = 0.936008125952, precision = 0.879713603819\n",
      "Threshold 0.622401297092, recall = 0.932453021838, precision = 0.880575539568\n",
      "Threshold 0.626653373241, recall = 0.927882173692, precision = 0.880481927711\n",
      "Threshold 0.637648046017, recall = 0.924834941595, precision = 0.881840193705\n",
      "Threshold 0.64736187458, recall = 0.92280345353, precision = 0.884184914842\n",
      "Threshold 0.65390086174, recall = 0.920771965465, precision = 0.886552567237\n",
      "Threshold 0.662669360638, recall = 0.9187404774, precision = 0.888943488943\n",
      "Threshold 0.671979427338, recall = 0.916201117318, precision = 0.890864197531\n",
      "Threshold 0.68211555481, recall = 0.912646013205, precision = 0.891811414392\n",
      "Threshold 0.687952756882, recall = 0.909598781107, precision = 0.893266832918\n",
      "Threshold 0.691626489162, recall = 0.905535804977, precision = 0.89373433584\n",
      "Threshold 0.696084201336, recall = 0.902996444896, precision = 0.895717884131\n",
      "Threshold 0.700792551041, recall = 0.899949212798, precision = 0.897215189873\n",
      "Threshold 0.708288371563, recall = 0.897917724733, precision = 0.899745547074\n",
      "Threshold 0.713660478592, recall = 0.894870492636, precision = 0.901278772379\n",
      "Threshold 0.719034850597, recall = 0.891823260538, precision = 0.902827763496\n",
      "Threshold 0.723216235638, recall = 0.889791772473, precision = 0.905426356589\n",
      "Threshold 0.728997886181, recall = 0.887252412392, precision = 0.907532467532\n",
      "Threshold 0.73334389925, recall = 0.884713052311, precision = 0.909660574413\n",
      "Threshold 0.738336741924, recall = 0.881665820213, precision = 0.911286089239\n",
      "Threshold 0.743615806103, recall = 0.879126460132, precision = 0.91345646438\n",
      "Threshold 0.751097083092, recall = 0.877094972067, precision = 0.916180371353\n",
      "Threshold 0.757912814617, recall = 0.874555611986, precision = 0.9184\n",
      "Threshold 0.761798918247, recall = 0.872016251905, precision = 0.920643431635\n",
      "Threshold 0.770577311516, recall = 0.868461147791, precision = 0.921832884097\n",
      "Threshold 0.775198340416, recall = 0.864906043677, precision = 0.923035230352\n",
      "Threshold 0.782029747963, recall = 0.862366683596, precision = 0.925340599455\n",
      "Threshold 0.787625908852, recall = 0.858303707466, precision = 0.92602739726\n",
      "Threshold 0.791585147381, recall = 0.855256475368, precision = 0.92782369146\n",
      "Threshold 0.796279430389, recall = 0.852717115287, precision = 0.930193905817\n",
      "Threshold 0.800461709499, recall = 0.850177755206, precision = 0.932590529248\n",
      "Threshold 0.803557753563, recall = 0.847638395124, precision = 0.935014005602\n",
      "Threshold 0.807603776455, recall = 0.843067546978, precision = 0.935211267606\n",
      "Threshold 0.813844680786, recall = 0.838496698832, precision = 0.935410764873\n",
      "Threshold 0.817105293274, recall = 0.834433722702, precision = 0.936182336182\n",
      "Threshold 0.820468902588, recall = 0.831894362621, precision = 0.938681948424\n",
      "Threshold 0.822738170624, recall = 0.828847130523, precision = 0.940634005764\n",
      "Threshold 0.828049063683, recall = 0.825799898426, precision = 0.942608695652\n",
      "Threshold 0.83198595047, recall = 0.823260538344, precision = 0.945189504373\n",
      "Threshold 0.834806203842, recall = 0.820213306247, precision = 0.947214076246\n",
      "Threshold 0.839666903019, recall = 0.816150330117, precision = 0.94808259587\n",
      "Threshold 0.843310296535, recall = 0.811579481971, precision = 0.948367952522\n",
      "Threshold 0.847209811211, recall = 0.808024377857, precision = 0.949850746269\n",
      "Threshold 0.850333333015, recall = 0.804469273743, precision = 0.951351351351\n",
      "Threshold 0.853344023228, recall = 0.800406297613, precision = 0.952265861027\n",
      "Threshold 0.857095479965, recall = 0.797866937532, precision = 0.955015197568\n",
      "Threshold 0.859882354736, recall = 0.794311833418, precision = 0.956574923547\n",
      "Threshold 0.861472904682, recall = 0.790248857288, precision = 0.957538461538\n",
      "Threshold 0.864278197289, recall = 0.785170137125, precision = 0.957275541796\n",
      "Threshold 0.866286814213, recall = 0.780599288979, precision = 0.957632398754\n",
      "Threshold 0.868504226208, recall = 0.776536312849, precision = 0.958620689655\n",
      "Threshold 0.871201634407, recall = 0.772473336719, precision = 0.959621451104\n",
      "Threshold 0.873081207275, recall = 0.768410360589, precision = 0.960634920635\n",
      "Threshold 0.875564455986, recall = 0.763331640427, precision = 0.960383386581\n",
      "Threshold 0.876050531864, recall = 0.75876079228, precision = 0.96077170418\n",
      "Threshold 0.87775427103, recall = 0.755205688167, precision = 0.962459546926\n",
      "Threshold 0.879218697548, recall = 0.750126968004, precision = 0.962214983713\n",
      "Threshold 0.88095921278, recall = 0.74657186389, precision = 0.96393442623\n",
      "Threshold 0.881880402565, recall = 0.743016759777, precision = 0.965676567657\n",
      "Threshold 0.883877754211, recall = 0.73844591163, precision = 0.966112956811\n",
      "Threshold 0.885423541069, recall = 0.733367191468, precision = 0.965886287625\n",
      "Threshold 0.887320935726, recall = 0.729304215338, precision = 0.967003367003\n",
      "Threshold 0.888338685036, recall = 0.724733367191, precision = 0.967457627119\n",
      "Threshold 0.889536738396, recall = 0.72219400711, precision = 0.970648464164\n",
      "Threshold 0.890851974487, recall = 0.717623158964, precision = 0.971134020619\n",
      "Threshold 0.891735553741, recall = 0.713560182834, precision = 0.9723183391\n",
      "Threshold 0.893628716469, recall = 0.708989334688, precision = 0.972822299652\n",
      "Threshold 0.894296467304, recall = 0.703910614525, precision = 0.972631578947\n",
      "Threshold 0.895827531815, recall = 0.700355510411, precision = 0.974558303887\n",
      "Threshold 0.897165596485, recall = 0.696292534281, precision = 0.975800711744\n",
      "Threshold 0.898520231247, recall = 0.692737430168, precision = 0.977777777778\n",
      "Threshold 0.899276077747, recall = 0.68969019807, precision = 0.980505415162\n",
      "Threshold 0.900964736938, recall = 0.68562722194, precision = 0.981818181818\n",
      "Threshold 0.902022480965, recall = 0.680548501778, precision = 0.981684981685\n",
      "Threshold 0.903048396111, recall = 0.675977653631, precision = 0.982287822878\n",
      "Threshold 0.904456019402, recall = 0.671406805485, precision = 0.982899628253\n",
      "Threshold 0.905318617821, recall = 0.666328085322, precision = 0.982771535581\n",
      "Threshold 0.906508266926, recall = 0.661757237176, precision = 0.983396226415\n",
      "Threshold 0.906819701195, recall = 0.656678517014, precision = 0.983269961977\n",
      "Threshold 0.907375454903, recall = 0.651599796851, precision = 0.983141762452\n",
      "Threshold 0.90797752142, recall = 0.647536820721, precision = 0.984555984556\n",
      "Threshold 0.908927261829, recall = 0.641442356526, precision = 0.984411535464\n",
      "Threshold 0.90977036953, recall = 0.636363636364, precision = 0.984289080911\n",
      "Threshold 0.910652279854, recall = 0.632300660234, precision = 0.985748218527\n",
      "Threshold 0.911201477051, recall = 0.627221940071, precision = 0.985634477255\n",
      "Threshold 0.911772191525, recall = 0.622143219909, precision = 0.986312399356\n",
      "Threshold 0.912135243416, recall = 0.617064499746, precision = 0.986201298701\n",
      "Threshold 0.912623524666, recall = 0.610970035551, precision = 0.98606557377\n",
      "Threshold 0.913965344429, recall = 0.605891315389, precision = 0.985950413223\n",
      "Threshold 0.914702832699, recall = 0.600812595226, precision = 0.985833333333\n",
      "Threshold 0.915654063225, recall = 0.59624174708, precision = 0.986554621849\n",
      "Threshold 0.916327774525, recall = 0.591163026917, precision = 0.98727735369\n",
      "Threshold 0.91744852066, recall = 0.585068562722, precision = 0.987146529563\n",
      "Threshold 0.91816842556, recall = 0.57998984256, precision = 0.987889273356\n",
      "Threshold 0.918809533119, recall = 0.576434738446, precision = 0.990401396161\n",
      "Threshold 0.919503748417, recall = 0.568308786186, precision = 0.990265486726\n",
      "Threshold 0.919989526272, recall = 0.563230066023, precision = 0.991063449508\n",
      "Threshold 0.920364320278, recall = 0.558151345861, precision = 0.990982867448\n",
      "Threshold 0.920678675175, recall = 0.552564753682, precision = 0.990892531876\n",
      "Threshold 0.921071410179, recall = 0.546470289487, precision = 0.991705069124\n",
      "Threshold 0.921197652817, recall = 0.540375825292, precision = 0.991612301957\n",
      "Threshold 0.921495437622, recall = 0.531234128999, precision = 0.991469194313\n",
      "Threshold 0.921791851521, recall = 0.526155408837, precision = 0.992337164751\n",
      "Threshold 0.922145068645, recall = 0.520060944642, precision = 0.993210475267\n",
      "Threshold 0.922272384167, recall = 0.514982224479, precision = 0.993143976494\n",
      "Threshold 0.922372996807, recall = 0.507872016252, precision = 0.993048659384\n",
      "Threshold 0.922528803349, recall = 0.501269680041, precision = 0.992957746479\n",
      "Threshold 0.92275005579, recall = 0.493143727781, precision = 0.992842535787\n",
      "Threshold 0.922878146172, recall = 0.484509903504, precision = 0.992715920916\n",
      "Threshold 0.923028051853, recall = 0.477399695277, precision = 0.992608236536\n",
      "Threshold 0.923276603222, recall = 0.46470289487, precision = 0.992407809111\n",
      "Threshold 0.923432528973, recall = 0.455561198578, precision = 0.993355481728\n",
      "Threshold 0.923646748066, recall = 0.449466734383, precision = 0.993265993266\n",
      "Threshold 0.923926651478, recall = 0.429151853733, precision = 0.994117647059\n",
      "Threshold 0.924103617668, recall = 0.417978669375, precision = 0.993961352657\n",
      "Threshold 0.924298226833, recall = 0.398171660741, precision = 0.994923857868\n",
      "Threshold 0.924450814724, recall = 0.386490604368, precision = 0.99477124183\n",
      "Threshold 0.924720942974, recall = 0.351955307263, precision = 0.994261119082\n",
      "Threshold 0.925284683704, recall = 0.00609446419502, precision = 1.0\n"
     ]
    }
   ],
   "source": [
    "precision, recall, thresholds = sklearn.metrics.precision_recall_curve(testY, preds)\n",
    "for i in range(0,len(recall), 10):\n",
    "    print(\"Threshold {0}, recall = {1}, precision = {2}\".format(thresholds[i], recall[i], precision[i]))\n",
    "\n"
   ]
  },
  {
   "cell_type": "code",
   "execution_count": 89,
   "metadata": {},
   "outputs": [
    {
     "name": "stdout",
     "output_type": "stream",
     "text": [
      "[ 0.92506522  0.92506522  0.11392444  0.9246667   0.92502618]\n",
      "1969 3031\n",
      "[ 1610.   248.   141.    97.    82.    60.    67.    41.    33.    31.\n",
      "    27.    38.    25.    24.    23.    17.    21.    12.     8.    19.\n",
      "    18.    10.    15.    20.    18.     9.     8.    11.    17.    12.\n",
      "     7.    11.     3.    11.    11.     9.    14.    14.    16.    16.\n",
      "    12.    10.    20.    11.    16.    14.    12.    20.    20.    22.]\n",
      "[   2    1    3    3    2    2    2    1    2    1    3    5    2    7    5\n",
      "    1    2    2    1    2    1    7    3    3    2    9    8   11    8    8\n",
      "    7   11   16   10    9   10   23   16   18   14   15   21   22   32   28\n",
      "   36   60   97  138 1264]\n"
     ]
    },
    {
     "data": {
      "text/plain": [
       "(0, 350)"
      ]
     },
     "execution_count": 89,
     "metadata": {},
     "output_type": "execute_result"
    },
    {
     "data": {
      "image/png": "[encoded data removed]",
      "text/plain": [
       "<matplotlib.figure.Figure at 0x7efbafa2ca90>"
      ]
     },
     "metadata": {},
     "output_type": "display_data"
    }
   ],
   "source": [
    "# Histogram:\n",
    "bins = 50\n",
    "Stable=preds[np.where(testY==1)]\n",
    "print Stable[:5][:]\n",
    "Unstable=preds[np.where(testY==0)]\n",
    "print Stable.size, Unstable.size\n",
    "\n",
    "\n",
    "fig, ax1 = plt.subplots()\n",
    "n, bins, pathces = ax1.hist(Unstable, bins, alpha=0.5, label='No', color='blue', edgecolor = \"black\")\n",
    "print n\n",
    "ax1.set_xlabel('Predicted Probability', fontsize=14)\n",
    "ax1.set_ylabel('Unstable',  fontsize=14, color='blue')\n",
    "for tl in ax1.get_yticklabels():\n",
    "    tl.set_color('blue')\n",
    "    \n",
    "\n",
    "\n",
    "ax2 = ax1.twinx()\n",
    "n, bins , patches = ax2.hist(Stable, bins, alpha=0.5, label='Yes',color='green', edgecolor = \"black\")\n",
    "print n.astype(int)\n",
    "ax2.set_ylabel('Stable', fontsize=14, color='green')\n",
    "for tl in ax2.get_yticklabels():\n",
    "    tl.set_color('green')\n",
    "    \n",
    "    \n",
    "#ax1.set_ylim(ax2.get_ylim())\n",
    "ax1.set_ylim([0,350]) # goes up to ~4300\n",
    "ax2.set_ylim([0,350]) # goes up to ~2100"
   ]
  },
  {
   "cell_type": "code",
   "execution_count": 90,
   "metadata": {},
   "outputs": [
    {
     "ename": "AttributeError",
     "evalue": "'module' object has no attribute 'importance'",
     "output_type": "error",
     "traceback": [
      "\u001b[0;31m---------------------------------------------------------------------------\u001b[0m",
      "\u001b[0;31mAttributeError\u001b[0m                            Traceback (most recent call last)",
      "\u001b[0;32m<ipython-input-90-96271281565a>\u001b[0m in \u001b[0;36m<module>\u001b[0;34m()\u001b[0m\n\u001b[0;32m----> 1\u001b[0;31m \u001b[0mimportance\u001b[0m \u001b[0;34m=\u001b[0m \u001b[0mxgb\u001b[0m\u001b[0;34m.\u001b[0m\u001b[0mimportance\u001b[0m\u001b[0;34m(\u001b[0m\u001b[0mmodel\u001b[0m \u001b[0;34m=\u001b[0m \u001b[0mbst\u001b[0m\u001b[0;34m)\u001b[0m\u001b[0;34m\u001b[0m\u001b[0m\n\u001b[0m",
      "\u001b[0;31mAttributeError\u001b[0m: 'module' object has no attribute 'importance'"
     ]
    }
   ],
   "source": [
    "importance = xgb.importance(model = bst)"
   ]
  },
  {
   "cell_type": "code",
   "execution_count": 109,
   "metadata": {
    "collapsed": true
   },
   "outputs": [],
   "source": [
    "gains = bst.get_score(importance_type='gain')\n",
    "total_gains = np.sum(gains.values())\n",
    "#print gains.keys()\n",
    "#print gains.values()/total_gains*100.\n",
    "#print np.sum(gains.values()/total_gains*100.)\n",
    "a = {k: v / total_gains*100. for k, v in gains.iteritems()}"
   ]
  },
  {
   "cell_type": "code",
   "execution_count": 110,
   "metadata": {},
   "outputs": [
    {
     "name": "stdout",
     "output_type": "stream",
     "text": [
      "{'avg_iH2': 0.97963810501501181, 'avg_iH1': 0.81447718229888089, 'std_ecross3': 1.958528465360253, 'norm_std_a3': 0.97451086285948829, 'norm_std_a2': 0.72176841274140713, 'norm_std_a1': 0.65652156381271587, 'max_beta23': 1.2888642351059547, 'std_beta12': 23.891420020762425, 'norm_std_window10_a1': 0.74565397018507007, 'norm_std_window10_a2': 0.79044247617299157, 'norm_std_window10_a3': 0.52826922906298424, 'avg_ecross3': 1.6323270991925019, 'avg_ecross2': 1.5036795135853147, 'avg_ecross1': 1.1557108089851915, 'avg_beta23': 0.61883539313626112, 'min_beta12': 1.4276587726164769, 'max_ecross1': 1.8352039262106816, 'max_ecross3': 1.7844399078685143, 'norm_max_a3': 0.69335567681281285, 'min_ecross1': 0.97919078994510822, 'norm_a3_slope': 0.70348033369519869, 'norm_a2_slope': 1.1212042743917019, 'avg_beta12': 1.2025890031466424, 'norm_max_a1': 1.0202917146698149, 'norm_max_a2': 3.315427743418399, 'std_beta23': 9.1707629861780191, 'max_beta12': 1.4134596062297353, 'max_ecross2': 27.623101499558718, 'min_ecross3': 0.97811885361095718, 'min_ecross2': 0.99980200370914407, 'norm_a1_slope': 0.72127891814221579, 'std_ecross1': 0.74564830376228963, 'std_ecross2': 1.8872840216568394, 'min_beta23': 1.339622861979501, 'norm_max_window10_a1': 1.1996923052538875, 'norm_max_window10_a3': 0.78710508713137994, 'norm_max_window10_a2': 0.79063407173549372}\n"
     ]
    }
   ],
   "source": [
    "print a"
   ]
  },
  {
   "cell_type": "code",
   "execution_count": null,
   "metadata": {},
   "outputs": [
    {
     "name": "stdout",
     "output_type": "stream",
     "text": [
      "SCORE: 0.97331414 ERROR 0.000886488656628\n",
      "SCORE: 0.95724136 ERROR 0.00262090761482\n",
      "SCORE: 0.97136388 ERROR 0.00116820196876\n",
      "SCORE: 0.97507142 ERROR 0.000974611790626\n",
      "SCORE: 0.97448168 ERROR 0.000804047904296\n",
      "SCORE: 0.9746183 ERROR 0.0013837909964\n",
      "SCORE: 0.97443708 ERROR 0.00106909434615\n",
      "SCORE: 0.97428098 ERROR 0.00114211843062\n",
      "SCORE: 0.5 ERROR 0.0\n",
      "SCORE: 0.97301578 ERROR 0.00102494437422\n",
      "SCORE: 0.97415178 ERROR 0.000865024171197\n",
      "SCORE: 0.97422086 ERROR 0.00129155599583\n",
      "SCORE: 0.97475342 ERROR 0.00111020512814\n",
      "SCORE: 0.97401936 ERROR 0.000868232441742\n",
      "SCORE: 0.97426986 ERROR 0.00133174242857\n",
      "SCORE: 0.97331194 ERROR 0.00131697601969\n",
      "SCORE: 0.9750278 ERROR 0.0012486901108\n",
      "SCORE: 0.97480522 ERROR 0.00099811530029\n",
      "SCORE: 0.9747807 ERROR 0.0014703158719\n",
      "SCORE: 0.9741 ERROR 0.00158535028003\n",
      "SCORE: 0.5 ERROR 0.0\n",
      "SCORE: 0.97275844 ERROR 0.00157192825032\n",
      "SCORE: 0.95226618 ERROR 0.00215073451529\n",
      "SCORE: 0.93160138 ERROR 0.00451365463469\n",
      "SCORE: 0.97252748 ERROR 0.00141746814872\n",
      "SCORE: 0.97460502 ERROR 0.00108553233597\n",
      "SCORE: 0.97466928 ERROR 0.00130175232486\n",
      "SCORE: 0.97376574 ERROR 0.00145314681998\n",
      "SCORE: 0.97351718 ERROR 0.00151036979769\n",
      "SCORE: 0.97431574 ERROR 0.0013917800838\n",
      "SCORE: 0.97374604 ERROR 0.00109899201164\n",
      "SCORE: 0.9743016 ERROR 0.00137897516754\n",
      "SCORE: 0.9709402 ERROR 0.00107791989369\n",
      "SCORE: 0.96740988 ERROR 0.00146377484041\n",
      "SCORE: 0.9619979 ERROR 0.00232264737243\n",
      "SCORE: 0.9740528 ERROR 0.00169341122141\n"
     ]
    }
   ],
   "source": [
    "#continue optimization from where we left off\n",
    "#trials = Trials()\n",
    "import time\n",
    "start = time.time()\n",
    "best = fmin(fn=objective, space = space, algo = tpe.suggest, max_evals = 200, trials = trials)\n",
    "end = time.time()\n",
    "print(\"Optimization Time: %f seconds\", (end  -start))"
   ]
  },
  {
   "cell_type": "code",
   "execution_count": 113,
   "metadata": {},
   "outputs": [
    {
     "data": {
      "text/plain": [
       "{'x_learning_rate': 0.16789058169707416,\n",
       " 'x_max_depth': 13,\n",
       " 'x_min_child': 7.0,\n",
       " 'x_pos_weight': 6.606175001822464,\n",
       " 'x_subsample': 0.9872987553651339,\n",
       " 'x_tree_colsample': 0.7158073319959313}"
      ]
     },
     "execution_count": 113,
     "metadata": {},
     "output_type": "execute_result"
    }
   ],
   "source": [
    "best"
   ]
  },
  {
   "cell_type": "code",
   "execution_count": 115,
   "metadata": {},
   "outputs": [
    {
     "name": "stdout",
     "output_type": "stream",
     "text": [
      "0.969734432679\n"
     ]
    }
   ],
   "source": [
    "#switch to the traditional 80 20 slipt, dont know why i did the 40 60 split before\n",
    "Nrows = int(0.8*X.shape[0])\n",
    "trainX = X.iloc[:Nrows, :]\n",
    "trainY = y.iloc[:Nrows]\n",
    "testX = X.iloc[Nrows:, :]\n",
    "testY = y.iloc[Nrows:]\n",
    "\n",
    "\n",
    "\n",
    "best_xgbc = XGBClassifier(n_estimators=100, scale_pos_weight=best[\"x_pos_weight\"],\n",
    "                         learning_rate = best[\"x_learning_rate\"], \n",
    "                         max_depth = int(best[\"x_max_depth\"]), \n",
    "                         min_child_weight = best[\"x_min_child\"],\n",
    "                         subsample = best[\"x_subsample\"], \n",
    "                         colsample_bytree = best[\"x_tree_colsample\"], seed = 0)\n",
    "params = best_xgbc.get_xgb_params()\n",
    "#score = xgb.cv(params, dtrain, nfold = 5, metrics = \"auc\", verbose_eval=True)\n",
    "#print score\n",
    "d_Train = xgb.DMatrix(trainX, trainY)\n",
    "d_Test = xgb.DMatrix(testX)\n",
    "bst = xgb.train(params, d_Train)\n",
    "preds = bst.predict(d_Test)\n",
    "score = metrics.average_precision_score(testY, preds)\n",
    "print score"
   ]
  },
  {
   "cell_type": "code",
   "execution_count": 116,
   "metadata": {},
   "outputs": [
    {
     "data": {
      "text/plain": [
       "<matplotlib.text.Text at 0x7efbb00c3690>"
      ]
     },
     "execution_count": 116,
     "metadata": {},
     "output_type": "execute_result"
    },
    {
     "data": {
      "image/png": "[encoded data removed]",
      "text/plain": [
       "<matplotlib.figure.Figure at 0x7efc50eb4050>"
      ]
     },
     "metadata": {},
     "output_type": "display_data"
    }
   ],
   "source": [
    "#the ROCAUC score is now 98.0 witht eh 2080 split compared to the 40 60 from before \n",
    "from sklearn.metrics import roc_curve\n",
    "fpr, tpr, thresholds = roc_curve(testY, preds)\n",
    "fig, ax = plt.subplots()\n",
    "ax.plot(fpr, tpr)\n",
    "ax.plot([0, 1], [0, 1], 'k--')\n",
    "ax.set_xlim([0.0, 1.0])\n",
    "ax.set_ylim([0.0, 1.0])\n",
    "ax.set_xlabel('False Positive Rate')\n",
    "ax.set_ylabel('True Positive Rate')\n",
    "ax.set_title('ROC curve (AUC = {0:.3f})'.format(metrics.roc_auc_score(testY, preds)))"
   ]
  },
  {
   "cell_type": "code",
   "execution_count": 120,
   "metadata": {},
   "outputs": [
    {
     "name": "stdout",
     "output_type": "stream",
     "text": [
      "('Optimization Time: %f seconds', 0.0055751800537109375)\n"
     ]
    }
   ],
   "source": [
    "#continue optimization from where we left off\n",
    "#trials = Trials()\n",
    "#import time\n",
    "start = time.time()\n",
    "best = fmin(fn=objective, space = space, algo = tpe.suggest, max_evals = 200, trials = trials)\n",
    "end = time.time()\n",
    "print(\"Optimization Time: %f seconds\", (end  -start))"
   ]
  },
  {
   "cell_type": "code",
   "execution_count": 140,
   "metadata": {},
   "outputs": [
    {
     "name": "stdout",
     "output_type": "stream",
     "text": [
      "200\n",
      "0.97541326\n"
     ]
    }
   ],
   "source": [
    "print len(trials.trials)\n",
    "#for i in range(200)\n",
    "complete_results = [x[\"result\"][\"cv_score\"] for x in trials]\n",
    "print np.max(complete_results)\n",
    "#print trials.trials[\"result\"][\"cv_score\"]"
   ]
  },
  {
   "cell_type": "code",
   "execution_count": 141,
   "metadata": {
    "collapsed": true
   },
   "outputs": [
    {
     "name": "stdout",
     "output_type": "stream",
     "text": [
      "SCORE: 0.9269651 ERROR 0.00678952568796\n",
      "SCORE: 0.97408176 ERROR 0.00160176232786\n",
      "SCORE: 0.97511756 ERROR 0.00123192780877\n",
      "SCORE: 0.5 ERROR 0.0\n",
      "SCORE: 0.97485946 ERROR 0.00128539964654\n",
      "SCORE: 0.9700167 ERROR 0.00137175452017\n",
      "SCORE: 0.97305084 ERROR 0.00108860302281\n",
      "SCORE: 0.9740227 ERROR 0.00128834768004\n",
      "SCORE: 0.97479606 ERROR 0.0013248604006\n",
      "SCORE: 0.96201404 ERROR 0.00155782262506\n",
      "SCORE: 0.96769782 ERROR 0.00171577170606\n",
      "SCORE: 0.97471986 ERROR 0.0013136699023\n",
      "SCORE: 0.97434234 ERROR 0.00148134137247\n",
      "SCORE: 0.9749406 ERROR 0.00116824414528\n",
      "SCORE: 0.9744768 ERROR 0.000903588123843\n",
      "SCORE: 0.9742705 ERROR 0.00164122840827\n",
      "SCORE: 0.97510988 ERROR 0.0011779854415\n",
      "SCORE: 0.97492142 ERROR 0.00148560132292\n",
      "SCORE: 0.97490962 ERROR 0.00126819452943\n",
      "SCORE: 0.97345802 ERROR 0.0012726414642\n",
      "SCORE: 0.92626202 ERROR 0.00828981552525\n",
      "SCORE: 0.97416154 ERROR 0.00146972483697\n",
      "SCORE: 0.9743872 ERROR 0.001777053101\n",
      "SCORE: 0.97500462 ERROR 0.00156167856715\n",
      "SCORE: 0.95046256 ERROR 0.00203990513305\n",
      "SCORE: 0.97442224 ERROR 0.00119638101672\n",
      "SCORE: 0.5 ERROR 0.0\n",
      "SCORE: 0.97482988 ERROR 0.00137162926114\n",
      "SCORE: 0.97230134 ERROR 0.00120616777926\n",
      "SCORE: 0.97449436 ERROR 0.00131159136024\n",
      "SCORE: 0.97119252 ERROR 0.000990765744493\n",
      "SCORE: 0.96805864 ERROR 0.00145516839627\n",
      "SCORE: 0.96250088 ERROR 0.00165150540604\n",
      "SCORE: 0.97441384 ERROR 0.00130604523284\n",
      "SCORE: 0.974502 ERROR 0.00137085771832\n",
      "SCORE: 0.9748424 ERROR 0.00157528476646\n",
      "SCORE: 0.97536414 ERROR 0.000662827319774\n",
      "SCORE: 0.97361588 ERROR 0.00161475968829\n",
      "SCORE: 0.97423138 ERROR 0.00157298068149\n",
      "SCORE: 0.9745219 ERROR 0.00188476521379\n",
      "('Optimization Time: %f seconds', 4504.230911970139)\n"
     ]
    }
   ],
   "source": [
    "#continue optimization from where we left off\n",
    "#trials = Trials()\n",
    "#import time\n",
    "start = time.time()\n",
    "best = fmin(fn=objective, space = space, algo = tpe.suggest, max_evals = 240, trials = trials)\n",
    "end = time.time()\n",
    "print(\"Optimization Time: %f seconds\", (end  -start))"
   ]
  },
  {
   "cell_type": "code",
   "execution_count": 142,
   "metadata": {
    "collapsed": true
   },
   "outputs": [],
   "source": [
    "best_xgbc = XGBClassifier(n_estimators=100, scale_pos_weight=best[\"x_pos_weight\"],\n",
    "                         learning_rate = best[\"x_learning_rate\"], \n",
    "                         max_depth = int(best[\"x_max_depth\"]), \n",
    "                         min_child_weight = best[\"x_min_child\"],\n",
    "                         subsample = best[\"x_subsample\"], \n",
    "                         colsample_bytree = best[\"x_tree_colsample\"], seed = 0)\n",
    "params = best_xgbc.get_xgb_params()"
   ]
  },
  {
   "cell_type": "code",
   "execution_count": 143,
   "metadata": {},
   "outputs": [
    {
     "name": "stdout",
     "output_type": "stream",
     "text": [
      "0.969734432679\n"
     ]
    },
    {
     "data": {
      "text/plain": [
       "<matplotlib.text.Text at 0x7efbb01c47d0>"
      ]
     },
     "execution_count": 143,
     "metadata": {},
     "output_type": "execute_result"
    },
    {
     "data": {
      "image/png": "[encoded data removed]",
      "text/plain": [
       "<matplotlib.figure.Figure at 0x7efbc9000050>"
      ]
     },
     "metadata": {},
     "output_type": "display_data"
    }
   ],
   "source": [
    "bst = xgb.train(params, d_Train)\n",
    "preds = bst.predict(d_Test)\n",
    "score = metrics.average_precision_score(testY, preds)\n",
    "print score\n",
    "#the ROCAUC score is now 98.0 witht eh 2080 split compared to the 40 60 from before \n",
    "from sklearn.metrics import roc_curve\n",
    "fpr, tpr, thresholds = roc_curve(testY, preds)\n",
    "fig, ax = plt.subplots()\n",
    "ax.plot(fpr, tpr)\n",
    "ax.plot([0, 1], [0, 1], 'k--')\n",
    "ax.set_xlim([0.0, 1.0])\n",
    "ax.set_ylim([0.0, 1.0])\n",
    "ax.set_xlabel('False Positive Rate')\n",
    "ax.set_ylabel('True Positive Rate')\n",
    "ax.set_title('ROC curve (AUC = {0:.3f})'.format(metrics.roc_auc_score(testY, preds)))"
   ]
  },
  {
   "cell_type": "code",
   "execution_count": 144,
   "metadata": {},
   "outputs": [
    {
     "name": "stdout",
     "output_type": "stream",
     "text": [
      "{'x_pos_weight': 6.606175001822464, 'x_learning_rate': 0.16789058169707416, 'x_max_depth': 13, 'x_min_child': 7.0, 'x_tree_colsample': 0.7158073319959313, 'x_subsample': 0.9872987553651339}\n"
     ]
    }
   ],
   "source": [
    "print best"
   ]
  },
  {
   "cell_type": "code",
   "execution_count": null,
   "metadata": {
    "collapsed": true
   },
   "outputs": [],
   "source": []
  }
 ],
 "metadata": {
  "kernelspec": {
   "display_name": "Python 2",
   "language": "python",
   "name": "python2"
  },
  "language_info": {
   "codemirror_mode": {
    "name": "ipython",
    "version": 2
   },
   "file_extension": ".py",
   "mimetype": "text/x-python",
   "name": "python",
   "nbconvert_exporter": "python",
   "pygments_lexer": "ipython2",
   "version": "2.7.13"
  }
 },
 "nbformat": 4,
 "nbformat_minor": 2
}
