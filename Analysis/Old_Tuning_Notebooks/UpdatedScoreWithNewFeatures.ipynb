{
 "cells": [
  {
   "cell_type": "code",
   "execution_count": 1,
   "metadata": {
    "collapsed": false
   },
   "outputs": [
    {
     "name": "stderr",
     "output_type": "stream",
     "text": [
      "/home/naireen/anaconda2/lib/python2.7/site-packages/sklearn/cross_validation.py:44: DeprecationWarning: This module was deprecated in version 0.18 in favor of the model_selection module into which all the refactored classes and functions are moved. Also note that the interface of the new CV iterators are different from that of this module. This module will be removed in 0.20.\n",
      "  \"This module will be removed in 0.20.\", DeprecationWarning)\n"
     ]
    }
   ],
   "source": [
    "import numpy as np\n",
    "import sklearn\n",
    "import matplotlib\n",
    "from matplotlib import pyplot as plt\n",
    "%matplotlib inline\n",
    "import pandas as pd\n",
    "from sklearn import metrics\n",
    "from sklearn.model_selection import cross_val_score\n",
    "from matplotlib import rc\n",
    "from matplotlib import cm\n",
    "from mpl_toolkits.mplot3d import axes3d\n",
    "from matplotlib.ticker import MaxNLocator\n",
    "import scipy.signal\n",
    "import xgboost as xgb\n",
    "from xgboost.sklearn import XGBClassifier\n"
   ]
  },
  {
   "cell_type": "code",
   "execution_count": 2,
   "metadata": {
    "collapsed": false,
    "scrolled": true
   },
   "outputs": [
    {
     "name": "stdout",
     "output_type": "stream",
     "text": [
      "['runstring' 't_final_short' 'Rel_Eerr_short' 'avg_beta12' 'std_beta12'\n",
      " 'min_beta12' 'max_beta12' 'avg_beta23' 'std_beta23' 'min_beta23'\n",
      " 'max_beta23' 'avg_a1' 'std_a1' 'max_a1' 'min_a1' 'norm_std_a1'\n",
      " 'norm_max_a1' 'norm_std_window10_a1' 'norm_max_window10_a1' 'avg_e1'\n",
      " 'std_e1' 'max_e1' 'min_e1' 'norm_std_e1' 'norm_max_e1'\n",
      " 'norm_std_window10_e1' 'norm_max_window10_e1' 'avg_inc1' 'std_inc1'\n",
      " 'max_inc1' 'min_inc1' 'norm_std_inc1' 'norm_max_inc1'\n",
      " 'norm_std_window10_inc1' 'norm_max_window10_inc1' 'avg_eH1' 'std_eH1'\n",
      " 'max_eH1' 'min_eH1' 'avg_iH1' 'std_iH1' 'max_iH1' 'min_iH1' 'avg_ecross1'\n",
      " 'std_ecross1' 'max_ecross1' 'min_ecross1' 'norm_a1_slope' 'avg_a2'\n",
      " 'std_a2' 'max_a2' 'min_a2' 'norm_std_a2' 'norm_max_a2'\n",
      " 'norm_std_window10_a2' 'norm_max_window10_a2' 'avg_e2' 'std_e2' 'max_e2'\n",
      " 'min_e2' 'norm_std_e2' 'norm_max_e2' 'norm_std_window10_e2'\n",
      " 'norm_max_window10_e2' 'avg_inc2' 'std_inc2' 'max_inc2' 'min_inc2'\n",
      " 'norm_std_inc2' 'norm_max_inc2' 'norm_std_window10_inc2'\n",
      " 'norm_max_window10_inc2' 'avg_eH2' 'std_eH2' 'max_eH2' 'min_eH2'\n",
      " 'avg_iH2' 'std_iH2' 'max_iH2' 'min_iH2' 'avg_ecross2' 'std_ecross2'\n",
      " 'max_ecross2' 'min_ecross2' 'norm_a2_slope' 'avg_a3' 'std_a3' 'max_a3'\n",
      " 'min_a3' 'norm_std_a3' 'norm_max_a3' 'norm_std_window10_a3'\n",
      " 'norm_max_window10_a3' 'avg_e3' 'std_e3' 'max_e3' 'min_e3' 'norm_std_e3'\n",
      " 'norm_max_e3' 'norm_std_window10_e3' 'norm_max_window10_e3' 'avg_inc3'\n",
      " 'std_inc3' 'max_inc3' 'min_inc3' 'norm_std_inc3' 'norm_max_inc3'\n",
      " 'norm_std_window10_inc3' 'norm_max_window10_inc3' 'avg_eH3' 'std_eH3'\n",
      " 'max_eH3' 'min_eH3' 'avg_iH3' 'std_iH3' 'max_iH3' 'min_iH3' 'avg_ecross3'\n",
      " 'std_ecross3' 'max_ecross3' 'min_ecross3' 'norm_a3_slope' 'wall_time'\n",
      " 'Stable' 'instability_time' 'Rel_Eerr']\n"
     ]
    }
   ],
   "source": [
    "dataset = pd.read_csv(\"../../csvs/BetaFeats/sifOrbsMore=10000.0Nout=100window=10.csv\", index_col = 0)\n",
    "print dataset.columns.values"
   ]
  },
  {
   "cell_type": "code",
   "execution_count": 3,
   "metadata": {
    "collapsed": false
   },
   "outputs": [
    {
     "data": {
      "text/html": [
       "<div>\n",
       "<style>\n",
       "    .dataframe thead tr:only-child th {\n",
       "        text-align: right;\n",
       "    }\n",
       "\n",
       "    .dataframe thead th {\n",
       "        text-align: left;\n",
       "    }\n",
       "\n",
       "    .dataframe tbody tr th {\n",
       "        vertical-align: top;\n",
       "    }\n",
       "</style>\n",
       "<table border=\"1\" class=\"dataframe\">\n",
       "  <thead>\n",
       "    <tr style=\"text-align: right;\">\n",
       "      <th></th>\n",
       "      <th>avg_iH1</th>\n",
       "      <th>avg_iH2</th>\n",
       "      <th>norm_std_a1</th>\n",
       "      <th>norm_max_a1</th>\n",
       "      <th>norm_std_window10_a1</th>\n",
       "      <th>norm_max_window10_a1</th>\n",
       "      <th>norm_std_a2</th>\n",
       "      <th>norm_max_a2</th>\n",
       "      <th>norm_std_window10_a2</th>\n",
       "      <th>norm_max_window10_a2</th>\n",
       "      <th>...</th>\n",
       "      <th>norm_a2_slope</th>\n",
       "      <th>norm_a3_slope</th>\n",
       "      <th>avg_beta12</th>\n",
       "      <th>std_beta12</th>\n",
       "      <th>min_beta12</th>\n",
       "      <th>max_beta12</th>\n",
       "      <th>avg_beta23</th>\n",
       "      <th>std_beta23</th>\n",
       "      <th>min_beta23</th>\n",
       "      <th>max_beta23</th>\n",
       "    </tr>\n",
       "  </thead>\n",
       "  <tbody>\n",
       "    <tr>\n",
       "      <th>0</th>\n",
       "      <td>0.396282</td>\n",
       "      <td>0.481704</td>\n",
       "      <td>0.000329</td>\n",
       "      <td>0.001083</td>\n",
       "      <td>0.000214</td>\n",
       "      <td>0.000456</td>\n",
       "      <td>0.000701</td>\n",
       "      <td>0.001978</td>\n",
       "      <td>0.000446</td>\n",
       "      <td>0.000964</td>\n",
       "      <td>...</td>\n",
       "      <td>2.144832e-10</td>\n",
       "      <td>2.681898e-11</td>\n",
       "      <td>8.488064</td>\n",
       "      <td>0.048209</td>\n",
       "      <td>8.344623</td>\n",
       "      <td>8.551727</td>\n",
       "      <td>15.791595</td>\n",
       "      <td>0.085995</td>\n",
       "      <td>15.576612</td>\n",
       "      <td>16.019985</td>\n",
       "    </tr>\n",
       "    <tr>\n",
       "      <th>1</th>\n",
       "      <td>1.034575</td>\n",
       "      <td>0.823935</td>\n",
       "      <td>0.000739</td>\n",
       "      <td>0.002137</td>\n",
       "      <td>0.000202</td>\n",
       "      <td>0.000463</td>\n",
       "      <td>0.000200</td>\n",
       "      <td>0.000350</td>\n",
       "      <td>0.000226</td>\n",
       "      <td>0.000377</td>\n",
       "      <td>...</td>\n",
       "      <td>3.559377e-11</td>\n",
       "      <td>-9.314702e-11</td>\n",
       "      <td>8.414875</td>\n",
       "      <td>0.039142</td>\n",
       "      <td>8.308582</td>\n",
       "      <td>8.495900</td>\n",
       "      <td>15.314101</td>\n",
       "      <td>0.037065</td>\n",
       "      <td>15.254833</td>\n",
       "      <td>15.368196</td>\n",
       "    </tr>\n",
       "    <tr>\n",
       "      <th>2</th>\n",
       "      <td>0.440470</td>\n",
       "      <td>0.491261</td>\n",
       "      <td>0.001951</td>\n",
       "      <td>0.003550</td>\n",
       "      <td>0.001735</td>\n",
       "      <td>0.002860</td>\n",
       "      <td>0.002303</td>\n",
       "      <td>0.004034</td>\n",
       "      <td>0.002080</td>\n",
       "      <td>0.003409</td>\n",
       "      <td>...</td>\n",
       "      <td>-3.330088e-11</td>\n",
       "      <td>-4.095504e-11</td>\n",
       "      <td>3.566625</td>\n",
       "      <td>0.132349</td>\n",
       "      <td>3.331239</td>\n",
       "      <td>3.773868</td>\n",
       "      <td>25.113282</td>\n",
       "      <td>0.137779</td>\n",
       "      <td>24.898424</td>\n",
       "      <td>25.351948</td>\n",
       "    </tr>\n",
       "    <tr>\n",
       "      <th>3</th>\n",
       "      <td>0.432098</td>\n",
       "      <td>0.550624</td>\n",
       "      <td>0.000026</td>\n",
       "      <td>0.000120</td>\n",
       "      <td>0.000005</td>\n",
       "      <td>0.000009</td>\n",
       "      <td>0.000019</td>\n",
       "      <td>0.000050</td>\n",
       "      <td>0.000016</td>\n",
       "      <td>0.000041</td>\n",
       "      <td>...</td>\n",
       "      <td>7.816527e-13</td>\n",
       "      <td>-7.257099e-12</td>\n",
       "      <td>18.513867</td>\n",
       "      <td>0.003597</td>\n",
       "      <td>18.498104</td>\n",
       "      <td>18.521611</td>\n",
       "      <td>19.142029</td>\n",
       "      <td>0.008997</td>\n",
       "      <td>19.120348</td>\n",
       "      <td>19.156777</td>\n",
       "    </tr>\n",
       "    <tr>\n",
       "      <th>4</th>\n",
       "      <td>5.722053</td>\n",
       "      <td>17.442426</td>\n",
       "      <td>0.028284</td>\n",
       "      <td>0.063028</td>\n",
       "      <td>0.004313</td>\n",
       "      <td>0.010716</td>\n",
       "      <td>0.038832</td>\n",
       "      <td>0.160685</td>\n",
       "      <td>0.090892</td>\n",
       "      <td>0.112168</td>\n",
       "      <td>...</td>\n",
       "      <td>3.913858e-08</td>\n",
       "      <td>-2.610208e-08</td>\n",
       "      <td>23.314674</td>\n",
       "      <td>6.756316</td>\n",
       "      <td>3.957209</td>\n",
       "      <td>38.942908</td>\n",
       "      <td>-19.036068</td>\n",
       "      <td>5.544896</td>\n",
       "      <td>-21.930247</td>\n",
       "      <td>4.156005</td>\n",
       "    </tr>\n",
       "  </tbody>\n",
       "</table>\n",
       "<p>5 rows × 37 columns</p>\n",
       "</div>"
      ],
      "text/plain": [
       "    avg_iH1    avg_iH2  norm_std_a1  norm_max_a1  norm_std_window10_a1  \\\n",
       "0  0.396282   0.481704     0.000329     0.001083              0.000214   \n",
       "1  1.034575   0.823935     0.000739     0.002137              0.000202   \n",
       "2  0.440470   0.491261     0.001951     0.003550              0.001735   \n",
       "3  0.432098   0.550624     0.000026     0.000120              0.000005   \n",
       "4  5.722053  17.442426     0.028284     0.063028              0.004313   \n",
       "\n",
       "   norm_max_window10_a1  norm_std_a2  norm_max_a2  norm_std_window10_a2  \\\n",
       "0              0.000456     0.000701     0.001978              0.000446   \n",
       "1              0.000463     0.000200     0.000350              0.000226   \n",
       "2              0.002860     0.002303     0.004034              0.002080   \n",
       "3              0.000009     0.000019     0.000050              0.000016   \n",
       "4              0.010716     0.038832     0.160685              0.090892   \n",
       "\n",
       "   norm_max_window10_a2     ...      norm_a2_slope  norm_a3_slope  avg_beta12  \\\n",
       "0              0.000964     ...       2.144832e-10   2.681898e-11    8.488064   \n",
       "1              0.000377     ...       3.559377e-11  -9.314702e-11    8.414875   \n",
       "2              0.003409     ...      -3.330088e-11  -4.095504e-11    3.566625   \n",
       "3              0.000041     ...       7.816527e-13  -7.257099e-12   18.513867   \n",
       "4              0.112168     ...       3.913858e-08  -2.610208e-08   23.314674   \n",
       "\n",
       "   std_beta12  min_beta12  max_beta12  avg_beta23  std_beta23  min_beta23  \\\n",
       "0    0.048209    8.344623    8.551727   15.791595    0.085995   15.576612   \n",
       "1    0.039142    8.308582    8.495900   15.314101    0.037065   15.254833   \n",
       "2    0.132349    3.331239    3.773868   25.113282    0.137779   24.898424   \n",
       "3    0.003597   18.498104   18.521611   19.142029    0.008997   19.120348   \n",
       "4    6.756316    3.957209   38.942908  -19.036068    5.544896  -21.930247   \n",
       "\n",
       "   max_beta23  \n",
       "0   16.019985  \n",
       "1   15.368196  \n",
       "2   25.351948  \n",
       "3   19.156777  \n",
       "4    4.156005  \n",
       "\n",
       "[5 rows x 37 columns]"
      ]
     },
     "execution_count": 3,
     "metadata": {},
     "output_type": "execute_result"
    }
   ],
   "source": [
    "features = []\n",
    "features += ['avg_iH1', 'avg_iH2']\n",
    "features += ['norm_std_a1', 'norm_max_a1', 'norm_std_window10_a1', 'norm_max_window10_a1']\n",
    "features += ['norm_std_a2', 'norm_max_a2', 'norm_std_window10_a2', 'norm_max_window10_a2']\n",
    "features += ['norm_std_a3', 'norm_max_a3', 'norm_std_window10_a3', 'norm_max_window10_a3']\n",
    "features += ['avg_ecross1', 'std_ecross1', 'max_ecross1', 'min_ecross1']\n",
    "features += ['avg_ecross2', 'std_ecross2', 'max_ecross2', 'min_ecross2']\n",
    "features += ['avg_ecross3', 'std_ecross3', 'max_ecross3', 'min_ecross3']\n",
    "features += ['norm_a1_slope', 'norm_a2_slope', 'norm_a3_slope']\n",
    "features += ['avg_beta12','std_beta12','min_beta12','max_beta12','avg_beta23','std_beta23','min_beta23','max_beta23'] \n",
    "y = dataset['Stable']\n",
    "X = dataset[features]\n",
    "X.head()"
   ]
  },
  {
   "cell_type": "code",
   "execution_count": 4,
   "metadata": {
    "collapsed": false
   },
   "outputs": [],
   "source": [
    "Nrows = int(0.8*X.shape[0])\n",
    "trainX = X.iloc[:Nrows, :]\n",
    "trainY = y.iloc[:Nrows]\n",
    "testX = X.iloc[Nrows:, :]\n",
    "testY = y.iloc[Nrows:]\n",
    "xgbc = XGBClassifier(seed = 0)"
   ]
  },
  {
   "cell_type": "code",
   "execution_count": 5,
   "metadata": {
    "collapsed": true
   },
   "outputs": [],
   "source": [
    "from hyperopt import hp, fmin, tpe, STATUS_OK, Trials"
   ]
  },
  {
   "cell_type": "code",
   "execution_count": 6,
   "metadata": {
    "collapsed": true
   },
   "outputs": [],
   "source": [
    "space ={\n",
    "        'max_depth': hp.randint('x_max_depth',  20),\n",
    "        'min_child_weight': hp.quniform ('x_min_child', 1, 10, 1),\n",
    "        'subsample': hp.uniform ('x_subsample', 0.8, 1),\n",
    "        'scale_pos_weight': hp.uniform(\"x_pos_weight\", 1, 15),\n",
    "        \"learning_rate\":hp.uniform(\"x_learning_rate\",0.01,0.2),\n",
    "        'colsample_bytree': hp.uniform ('x_tree_colsample', 0.5,1),\n",
    "}\n",
    "\n",
    "dtrain = xgb.DMatrix(trainX, trainY)\n",
    "dtest = xgb.DMatrix(testX, testY)\n",
    "def objective(space):\n",
    "\n",
    "    clf = XGBClassifier(n_estimators = 100, \n",
    "                            max_depth = space['max_depth'], \n",
    "                            min_child_weight =space['min_child_weight'],\n",
    "                            subsample = space['subsample'],\n",
    "                            colsample_bytree =space['colsample_bytree'],\n",
    "                            learning_rate = space['learning_rate'], seed = 0)\n",
    "    \n",
    "    params = clf.get_xgb_params()\n",
    "    #dtest\n",
    "    score = xgb.cv(params, dtrain, nfold = 5, metrics = \"auc\", early_stopping_rounds=10)\n",
    "    #print score\n",
    "    #score = cross_val_score(clf, trainX, trainY, cv = 5, scoring=\"average_precision\")\n",
    "    avg_score =  np.mean(score[\"test-auc-mean\"])\n",
    "    error = np.mean(score[\"test-auc-std\"])\n",
    "    \n",
    "    bst = xgb.train(params, dtrain)\n",
    "    preds = bst.predict(dtest)\n",
    "    test_score = metrics.roc_auc_score(testY, preds)\n",
    "    \n",
    "    print \"SCORE:\", avg_score, \"ERROR\", error, \"HOLDOUT SCORE\", test_score\n",
    "\n",
    "    return{'loss':1-test_score, 'status': STATUS_OK, \"cv_score\":avg_score , \"cv_error\":error, \"holdout\":test_score }"
   ]
  },
  {
   "cell_type": "code",
   "execution_count": 7,
   "metadata": {
    "collapsed": false,
    "scrolled": true
   },
   "outputs": [
    {
     "name": "stdout",
     "output_type": "stream",
     "text": [
      "SCORE: 0.97338118 ERROR 0.0014157355216 HOLDOUT SCORE 0.9824637540069695\n",
      "SCORE: 0.5 ERROR 0.0 HOLDOUT SCORE 0.5\n",
      "SCORE: 0.97242822 ERROR 0.00110203331022 HOLDOUT SCORE 0.9814924131695519\n",
      "SCORE: 0.97125484 ERROR 0.00161885718133 HOLDOUT SCORE 0.9790514941340028\n",
      "SCORE: 0.96234858 ERROR 0.00162096841523 HOLDOUT SCORE 0.9724803239389018\n",
      "SCORE: 0.97143778 ERROR 0.0013637613975 HOLDOUT SCORE 0.980016886618871\n",
      "SCORE: 0.97272706 ERROR 0.000977741539856 HOLDOUT SCORE 0.981245682208176\n",
      "SCORE: 0.97147748 ERROR 0.000999577767547 HOLDOUT SCORE 0.9808008962407919\n",
      "SCORE: 0.5 ERROR 0.0 HOLDOUT SCORE 0.5\n",
      "SCORE: 0.97185136 ERROR 0.000835782959831 HOLDOUT SCORE 0.9799498629281747\n",
      "SCORE: 0.97006712 ERROR 0.00133237261235 HOLDOUT SCORE 0.9795945535878704\n",
      "SCORE: 0.9717443 ERROR 0.000796409746859 HOLDOUT SCORE 0.9798251988634793\n",
      "SCORE: 0.97315274 ERROR 0.000740546651461 HOLDOUT SCORE 0.9818812343552044\n",
      "SCORE: 0.9571967 ERROR 0.00252262846494 HOLDOUT SCORE 0.9723187130647102\n",
      "SCORE: 0.96788612 ERROR 0.001284594201 HOLDOUT SCORE 0.9779623591601865\n",
      "SCORE: 0.97085276 ERROR 0.00101934737257 HOLDOUT SCORE 0.9800228349714204\n",
      "SCORE: 0.9717759 ERROR 0.000713650838561 HOLDOUT SCORE 0.981180585448587\n",
      "SCORE: 0.97156414 ERROR 0.00139069119025 HOLDOUT SCORE 0.9807538120980778\n",
      "SCORE: 0.95847028 ERROR 0.00198661814117 HOLDOUT SCORE 0.9713287731531245\n",
      "SCORE: 0.97291434 ERROR 0.000944200787857 HOLDOUT SCORE 0.9800219133956732\n",
      "SCORE: 0.97336568 ERROR 0.00122496207559 HOLDOUT SCORE 0.9818554302342863\n",
      "SCORE: 0.9735723 ERROR 0.001134358658 HOLDOUT SCORE 0.9820124332297425\n",
      "SCORE: 0.97348198 ERROR 0.000939489583212 HOLDOUT SCORE 0.981940801660311\n",
      "SCORE: 0.95113524 ERROR 0.00241973797701 HOLDOUT SCORE 0.9652392519552905\n",
      "SCORE: 0.9728878 ERROR 0.00102767514854 HOLDOUT SCORE 0.9810795472348623\n",
      "SCORE: 0.93368058 ERROR 0.00244046778965 HOLDOUT SCORE 0.956620759348255\n",
      "SCORE: 0.97156624 ERROR 0.00087896210575 HOLDOUT SCORE 0.9808246896509892\n",
      "SCORE: 0.9738833 ERROR 0.000837092743143 HOLDOUT SCORE 0.9817813690560667\n",
      "SCORE: 0.97371572 ERROR 0.00089624061255 HOLDOUT SCORE 0.9829237040843735\n",
      "SCORE: 0.97388974 ERROR 0.0009501813494 HOLDOUT SCORE 0.9824058622941305\n",
      "SCORE: 0.97137736 ERROR 0.00104260411812 HOLDOUT SCORE 0.9804963573461903\n",
      "SCORE: 0.97215834 ERROR 0.000868322425655 HOLDOUT SCORE 0.9812592545055419\n",
      "SCORE: 0.9723287 ERROR 0.00101100119816 HOLDOUT SCORE 0.9820766084135845\n",
      "SCORE: 0.96561516 ERROR 0.00127193886049 HOLDOUT SCORE 0.9754619565991443\n",
      "SCORE: 0.97145984 ERROR 0.000946240435826 HOLDOUT SCORE 0.9795490612578102\n",
      "SCORE: 0.97226186 ERROR 0.000840289856389 HOLDOUT SCORE 0.9808095255409692\n",
      "SCORE: 0.5 ERROR 0.0 HOLDOUT SCORE 0.5\n",
      "SCORE: 0.97199792 ERROR 0.00100766748774 HOLDOUT SCORE 0.981498947979395\n",
      "SCORE: 0.97081026 ERROR 0.00131682856308 HOLDOUT SCORE 0.9799853854842436\n",
      "SCORE: 0.96871702 ERROR 0.00106147972108 HOLDOUT SCORE 0.9769027983898899\n",
      "SCORE: 0.9729696 ERROR 0.000951984547905 HOLDOUT SCORE 0.9801928238069489\n",
      "SCORE: 0.97169726 ERROR 0.000809601720537 HOLDOUT SCORE 0.9807923507202283\n",
      "SCORE: 0.9322423 ERROR 0.00266784554006 HOLDOUT SCORE 0.9567091468403609\n",
      "SCORE: 0.97222506 ERROR 0.00119770649538 HOLDOUT SCORE 0.9799961930543685\n",
      "SCORE: 0.97258246 ERROR 0.00129545972527 HOLDOUT SCORE 0.980086088579515\n",
      "SCORE: 0.97188408 ERROR 0.00126352319171 HOLDOUT SCORE 0.980451283914197\n",
      "SCORE: 0.9712476 ERROR 0.00140393146642 HOLDOUT SCORE 0.9807412451560722\n",
      "SCORE: 0.97177526 ERROR 0.000805865231554 HOLDOUT SCORE 0.9814986966405548\n",
      "SCORE: 0.97295272 ERROR 0.000953395870668 HOLDOUT SCORE 0.9804435761897667\n",
      "SCORE: 0.94633894 ERROR 0.00338879011295 HOLDOUT SCORE 0.9630276377215363\n",
      "('Optimization Time: %f seconds', 133.0035638809204)\n"
     ]
    }
   ],
   "source": [
    "trials = Trials()\n",
    "import time\n",
    "start = time.time()\n",
    "best = fmin(fn=objective, space = space, algo = tpe.suggest, max_evals = 50, trials = trials)\n",
    "end = time.time()\n",
    "print(\"Optimization Time: %f seconds\", (end  -start))"
   ]
  },
  {
   "cell_type": "code",
   "execution_count": 8,
   "metadata": {
    "collapsed": false
   },
   "outputs": [
    {
     "data": {
      "text/plain": [
       "{'x_learning_rate': 0.19760869359307348,\n",
       " 'x_max_depth': 12,\n",
       " 'x_min_child': 9.0,\n",
       " 'x_pos_weight': 12.732752383933038,\n",
       " 'x_subsample': 0.8996552766808443,\n",
       " 'x_tree_colsample': 0.8268499874403428}"
      ]
     },
     "execution_count": 8,
     "metadata": {},
     "output_type": "execute_result"
    }
   ],
   "source": [
    "#fit the smaller rage \n",
    "#{'x_learning_rate': 0.07419653015127085,\n",
    "# 'x_max_depth': 8,\n",
    "# 'x_min_child': 4.0,\n",
    "# 'x_pos_weight': 8.889472764333366,\n",
    "# 'x_subsample': 0.9380315392096068,\n",
    "# 'x_tree_colsample': 0.734517699234413}\n",
    "\n",
    "#{'x_learning_rate': 0.19890696372714528,\n",
    "# 'x_max_depth': 17,\n",
    "# 'x_min_child': 8.0,\n",
    "# 'x_pos_weight': 12.505309968632893,\n",
    "# 'x_subsample': 0.9409498631912948,\n",
    "# 'x_tree_colsample': 0.7528946858805113}\n",
    "\n",
    "best"
   ]
  },
  {
   "cell_type": "code",
   "execution_count": 9,
   "metadata": {
    "collapsed": false
   },
   "outputs": [
    {
     "name": "stdout",
     "output_type": "stream",
     "text": [
      "0.9705742186655211\n"
     ]
    }
   ],
   "source": [
    "#switch to the traditional 80 20 slipt, dont know why i did the 40 60 split before\n",
    "Nrows = int(0.8*X.shape[0])\n",
    "trainX = X.iloc[:Nrows, :]\n",
    "trainY = y.iloc[:Nrows]\n",
    "testX = X.iloc[Nrows:, :]\n",
    "testY = y.iloc[Nrows:]\n",
    "\n",
    "\n",
    "\n",
    "best_xgbc = XGBClassifier(n_estimators=100, scale_pos_weight=best[\"x_pos_weight\"],\n",
    "                         learning_rate = best[\"x_learning_rate\"], \n",
    "                         max_depth = int(best[\"x_max_depth\"]), \n",
    "                         min_child_weight = best[\"x_min_child\"],\n",
    "                         subsample = best[\"x_subsample\"], \n",
    "                         colsample_bytree = best[\"x_tree_colsample\"])\n",
    "params = best_xgbc.get_xgb_params()\n",
    "#score = xgb.cv(params, dtrain, nfold = 5, metrics = \"auc\", verbose_eval=True)\n",
    "#print score\n",
    "d_Train = xgb.DMatrix(trainX, trainY)\n",
    "d_Test = xgb.DMatrix(testX)\n",
    "bst = xgb.train(params, d_Train)\n",
    "preds = bst.predict(d_Test)\n",
    "score = metrics.average_precision_score(testY, preds)\n",
    "print score"
   ]
  },
  {
   "cell_type": "code",
   "execution_count": 10,
   "metadata": {
    "collapsed": false
   },
   "outputs": [
    {
     "name": "stdout",
     "output_type": "stream",
     "text": [
      "{'x_pos_weight': 12.732752383933038, 'x_learning_rate': 0.19760869359307348, 'x_max_depth': 12, 'x_min_child': 9.0, 'x_tree_colsample': 0.8268499874403428, 'x_subsample': 0.8996552766808443}\n"
     ]
    }
   ],
   "source": [
    "print best"
   ]
  },
  {
   "cell_type": "code",
   "execution_count": 11,
   "metadata": {
    "collapsed": false
   },
   "outputs": [
    {
     "data": {
      "text/plain": [
       "Text(0.5,1,u'ROC curve (AUC = 0.981)')"
      ]
     },
     "execution_count": 11,
     "metadata": {},
     "output_type": "execute_result"
    },
    {
     "data": {
      "image/png": "[encoded data removed]",
      "text/plain": [
       "<matplotlib.figure.Figure at 0x7febb1334690>"
      ]
     },
     "metadata": {},
     "output_type": "display_data"
    }
   ],
   "source": [
    "#the ROCAUC score is now 98.0 witht eh 2080 split compared to the 40 60 from before \n",
    "from sklearn.metrics import roc_curve\n",
    "fpr, tpr, thresholds = roc_curve(testY, preds)\n",
    "fig, ax = plt.subplots()\n",
    "ax.plot(fpr, tpr)\n",
    "ax.plot([0, 1], [0, 1], 'k--')\n",
    "ax.set_xlim([0.0, 1.0])\n",
    "ax.set_ylim([0.0, 1.0])\n",
    "ax.set_xlabel('False Positive Rate')\n",
    "ax.set_ylabel('True Positive Rate')\n",
    "ax.set_title('ROC curve (AUC = {0:.3f})'.format(metrics.roc_auc_score(testY, preds)))"
   ]
  },
  {
   "cell_type": "code",
   "execution_count": 13,
   "metadata": {
    "collapsed": false
   },
   "outputs": [
    {
     "name": "stdout",
     "output_type": "stream",
     "text": [
      "Threshold 0.0854968652129, recall = 1.0, precision = 0.60959752322\n",
      "Threshold 0.0867432281375, recall = 0.999492127984, precision = 0.612321095208\n",
      "Threshold 0.0882349535823, recall = 0.999492127984, precision = 0.615192247577\n",
      "Threshold 0.0906180664897, recall = 0.999492127984, precision = 0.618090452261\n",
      "Threshold 0.0922724157572, recall = 0.998984255967, precision = 0.621288692356\n",
      "Threshold 0.0942688137293, recall = 0.998984255967, precision = 0.624246271025\n",
      "Threshold 0.095736220479, recall = 0.998476383951, precision = 0.62711323764\n",
      "Threshold 0.0981476083398, recall = 0.998476383951, precision = 0.630128205128\n",
      "Threshold 0.0998231321573, recall = 0.998476383951, precision = 0.633172302738\n",
      "Threshold 0.101570516825, recall = 0.998476383951, precision = 0.636245954693\n",
      "Threshold 0.104107901454, recall = 0.998476383951, precision = 0.639349593496\n",
      "Threshold 0.105950862169, recall = 0.998476383951, precision = 0.642483660131\n",
      "Threshold 0.108821772039, recall = 0.998476383951, precision = 0.646285338593\n",
      "Threshold 0.113480135798, recall = 0.998476383951, precision = 0.649487941857\n",
      "Threshold 0.116338305175, recall = 0.998476383951, precision = 0.652722443559\n",
      "Threshold 0.117909841239, recall = 0.998476383951, precision = 0.656208277704\n",
      "Threshold 0.120341174304, recall = 0.997968511935, precision = 0.659174773566\n",
      "Threshold 0.124373450875, recall = 0.997460639919, precision = 0.66239460371\n",
      "Threshold 0.128177180886, recall = 0.997460639919, precision = 0.665762711864\n",
      "Threshold 0.131717294455, recall = 0.997460639919, precision = 0.669165247019\n",
      "Threshold 0.13683898747, recall = 0.997460639919, precision = 0.672602739726\n",
      "Threshold 0.140544384718, recall = 0.997460639919, precision = 0.676075731497\n",
      "Threshold 0.14401961863, recall = 0.997460639919, precision = 0.679584775087\n",
      "Threshold 0.148598104715, recall = 0.996952767902, precision = 0.682782608696\n",
      "Threshold 0.15414057672, recall = 0.996952767902, precision = 0.686363636364\n",
      "Threshold 0.163767203689, recall = 0.996444895886, precision = 0.689630931459\n",
      "Threshold 0.170552685857, recall = 0.996444895886, precision = 0.693286219081\n",
      "Threshold 0.175428137183, recall = 0.996444895886, precision = 0.696980461812\n",
      "Threshold 0.183050587773, recall = 0.996444895886, precision = 0.700714285714\n",
      "Threshold 0.190402463078, recall = 0.996444895886, precision = 0.704488330341\n",
      "Threshold 0.197050958872, recall = 0.99593702387, precision = 0.707942238267\n",
      "Threshold 0.205246075988, recall = 0.995429151854, precision = 0.711433756806\n",
      "Threshold 0.212204962969, recall = 0.995429151854, precision = 0.715328467153\n",
      "Threshold 0.219009026885, recall = 0.995429151854, precision = 0.719266055046\n",
      "Threshold 0.228131234646, recall = 0.994413407821, precision = 0.722509225092\n",
      "Threshold 0.240329638124, recall = 0.994413407821, precision = 0.726530612245\n",
      "Threshold 0.250205278397, recall = 0.994413407821, precision = 0.730597014925\n",
      "Threshold 0.255256474018, recall = 0.993905535805, precision = 0.734333958724\n",
      "Threshold 0.264571934938, recall = 0.993905535805, precision = 0.738490566038\n",
      "Threshold 0.275630682707, recall = 0.993397663789, precision = 0.742314990512\n",
      "Threshold 0.291612714529, recall = 0.993397663789, precision = 0.746564885496\n",
      "Threshold 0.303415000439, recall = 0.993397663789, precision = 0.750863723608\n",
      "Threshold 0.314352989197, recall = 0.993397663789, precision = 0.755212355212\n",
      "Threshold 0.3260178864, recall = 0.992381919756, precision = 0.758834951456\n",
      "Threshold 0.336923807859, recall = 0.990858303707, precision = 0.762109375\n",
      "Threshold 0.351541548967, recall = 0.989842559675, precision = 0.765815324165\n",
      "Threshold 0.366226732731, recall = 0.989334687659, precision = 0.769960474308\n",
      "Threshold 0.381946951151, recall = 0.98781107161, precision = 0.773359840954\n",
      "Threshold 0.393167853355, recall = 0.986795327577, precision = 0.7772\n",
      "Threshold 0.405983179808, recall = 0.986287455561, precision = 0.781488933602\n",
      "Threshold 0.418549984694, recall = 0.986287455561, precision = 0.786234817814\n",
      "Threshold 0.434568226337, recall = 0.985779583545, precision = 0.790631364562\n",
      "Threshold 0.453161269426, recall = 0.984255967496, precision = 0.794262295082\n",
      "Threshold 0.471411049366, recall = 0.983240223464, precision = 0.798350515464\n",
      "Threshold 0.482341319323, recall = 0.981208735399, precision = 0.801659751037\n",
      "Threshold 0.494959890842, recall = 0.980192991366, precision = 0.805845511482\n",
      "Threshold 0.512968361378, recall = 0.978161503301, precision = 0.809243697479\n",
      "Threshold 0.534264564514, recall = 0.977653631285, precision = 0.813953488372\n",
      "Threshold 0.548959314823, recall = 0.977145759269, precision = 0.818723404255\n",
      "Threshold 0.565729737282, recall = 0.975114271204, precision = 0.822269807281\n",
      "Threshold 0.57876598835, recall = 0.973082783139, precision = 0.825862068966\n",
      "Threshold 0.591202497482, recall = 0.972067039106, precision = 0.830368763557\n",
      "Threshold 0.609619379044, recall = 0.970543423057, precision = 0.834497816594\n",
      "Threshold 0.62888532877, recall = 0.969019807009, precision = 0.838681318681\n",
      "Threshold 0.642555892467, recall = 0.966988318944, precision = 0.842477876106\n",
      "Threshold 0.658342540264, recall = 0.964448958862, precision = 0.845879732739\n",
      "Threshold 0.671850025654, recall = 0.962417470797, precision = 0.849775784753\n",
      "Threshold 0.688037395477, recall = 0.960385982732, precision = 0.853724604966\n",
      "Threshold 0.700131416321, recall = 0.957338750635, precision = 0.856818181818\n",
      "Threshold 0.713031291962, recall = 0.954799390554, precision = 0.860411899314\n",
      "Threshold 0.725068509579, recall = 0.951752158456, precision = 0.863594470046\n",
      "Threshold 0.736299514771, recall = 0.949212798375, precision = 0.867285382831\n",
      "Threshold 0.741942822933, recall = 0.948197054342, precision = 0.872429906542\n",
      "Threshold 0.750184953213, recall = 0.944641950229, precision = 0.875294117647\n",
      "Threshold 0.760497927666, recall = 0.94311833418, precision = 0.88009478673\n",
      "Threshold 0.766663789749, recall = 0.939563230066, precision = 0.883054892601\n",
      "Threshold 0.783861100674, recall = 0.93499238192, precision = 0.885096153846\n",
      "Threshold 0.795461237431, recall = 0.931437277806, precision = 0.88813559322\n",
      "Threshold 0.804026126862, recall = 0.92686642966, precision = 0.890243902439\n",
      "Threshold 0.808764636517, recall = 0.925342813611, precision = 0.895331695332\n",
      "Threshold 0.82065320015, recall = 0.921279837481, precision = 0.89801980198\n",
      "Threshold 0.825662016869, recall = 0.917216861351, precision = 0.900748129676\n",
      "Threshold 0.829384446144, recall = 0.911122397156, precision = 0.901507537688\n",
      "Threshold 0.834087312222, recall = 0.90655154901, precision = 0.903797468354\n",
      "Threshold 0.839523494244, recall = 0.903504316912, precision = 0.907653061224\n",
      "Threshold 0.844673871994, recall = 0.89842559675, precision = 0.909511568123\n",
      "Threshold 0.849110007286, recall = 0.895378364652, precision = 0.913471502591\n",
      "Threshold 0.852773308754, recall = 0.889283900457, precision = 0.914360313316\n",
      "Threshold 0.857583045959, recall = 0.885220924327, precision = 0.917368421053\n",
      "Threshold 0.862704455853, recall = 0.881665820213, precision = 0.920954907162\n",
      "Threshold 0.866249263287, recall = 0.874555611986, precision = 0.920855614973\n",
      "Threshold 0.870396852493, recall = 0.868461147791, precision = 0.921832884097\n",
      "Threshold 0.872917115688, recall = 0.863382427628, precision = 0.923913043478\n",
      "Threshold 0.875916719437, recall = 0.857287963433, precision = 0.924931506849\n",
      "Threshold 0.87890201807, recall = 0.853224987303, precision = 0.92817679558\n",
      "Threshold 0.881699025631, recall = 0.849162011173, precision = 0.93147632312\n",
      "Threshold 0.884873151779, recall = 0.845099035043, precision = 0.934831460674\n",
      "Threshold 0.886761784554, recall = 0.840020314881, precision = 0.937110481586\n",
      "Threshold 0.889408826828, recall = 0.833925850686, precision = 0.938285714286\n",
      "Threshold 0.891554057598, recall = 0.829862874556, precision = 0.941786743516\n",
      "Threshold 0.893795073032, recall = 0.824276282377, precision = 0.943604651163\n",
      "Threshold 0.895777702332, recall = 0.819197562214, precision = 0.946041055718\n",
      "Threshold 0.89816826582, recall = 0.813103098019, precision = 0.947337278107\n",
      "Threshold 0.900466263294, recall = 0.807516505841, precision = 0.949253731343\n",
      "Threshold 0.902262926102, recall = 0.800914169629, precision = 0.95\n",
      "Threshold 0.904205203056, recall = 0.795835449467, precision = 0.952583586626\n",
      "Threshold 0.905884385109, recall = 0.789233113255, precision = 0.953959484346\n",
      "Threshold 0.907197833061, recall = 0.782630777044, precision = 0.954770755886\n",
      "Threshold 0.908480286598, recall = 0.776536312849, precision = 0.956222639149\n",
      "Threshold 0.90983235836, recall = 0.77094972067, precision = 0.958333333333\n",
      "Threshold 0.911273419857, recall = 0.764347384459, precision = 0.959209687699\n",
      "Threshold 0.912574648857, recall = 0.757745048248, precision = 0.960102960103\n",
      "Threshold 0.914023816586, recall = 0.751142712037, precision = 0.961638491547\n",
      "Threshold 0.914895176888, recall = 0.745048247842, precision = 0.963230466185\n",
      "Threshold 0.916166067123, recall = 0.738953783647, precision = 0.965494359655\n",
      "Threshold 0.917230010033, recall = 0.731843575419, precision = 0.966465459423\n",
      "Threshold 0.917916834354, recall = 0.725241239208, precision = 0.967479674797\n",
      "Threshold 0.918917655945, recall = 0.719146775013, precision = 0.969199178645\n",
      "Threshold 0.919547080994, recall = 0.712036566785, precision = 0.970242214533\n",
      "Threshold 0.920328378677, recall = 0.704926358558, precision = 0.971988795518\n",
      "Threshold 0.921135127544, recall = 0.698831894363, precision = 0.97381457891\n",
      "Threshold 0.921807944775, recall = 0.692229558151, precision = 0.974964234621\n",
      "Threshold 0.922443807125, recall = 0.685119349924, precision = 0.976121562952\n",
      "Threshold 0.923204302788, recall = 0.67750126968, precision = 0.975859546452\n",
      "Threshold 0.923809230328, recall = 0.669883189436, precision = 0.975591715976\n",
      "Threshold 0.924325823784, recall = 0.662265109192, precision = 0.976047904192\n",
      "Threshold 0.925280749798, recall = 0.656678517014, precision = 0.978803936412\n",
      "Threshold 0.925774335861, recall = 0.650076180802, precision = 0.980091883614\n",
      "Threshold 0.926275253296, recall = 0.642965972575, precision = 0.980635166538\n",
      "Threshold 0.926927149296, recall = 0.635347892331, precision = 0.980407523511\n",
      "Threshold 0.927516043186, recall = 0.62874555612, precision = 0.98253968254\n",
      "Threshold 0.927893698215, recall = 0.621127475876, precision = 0.983118971061\n",
      "Threshold 0.928366184235, recall = 0.614017267649, precision = 0.984527687296\n",
      "Threshold 0.928767740726, recall = 0.606907059421, precision = 0.98516075845\n",
      "Threshold 0.929182827473, recall = 0.598781107161, precision = 0.988264878458\n",
      "Threshold 0.929568886757, recall = 0.590655154901, precision = 0.988105352591\n",
      "Threshold 0.929871797562, recall = 0.582529202641, precision = 0.989646246764\n",
      "Threshold 0.93009853363, recall = 0.573895378365, precision = 0.99209833187\n",
      "Threshold 0.930353343487, recall = 0.564245810056, precision = 0.991964285714\n",
      "Threshold 0.930660188198, recall = 0.553580497715, precision = 0.993618960802\n",
      "Threshold 0.930861771107, recall = 0.538344337227, precision = 0.994371482176\n",
      "Threshold 0.931151092052, recall = 0.527171152869, precision = 0.994252873563\n",
      "Threshold 0.931552410126, recall = 0.513966480447, precision = 0.994106090373\n",
      "Threshold 0.9317497015, recall = 0.499746063992, precision = 0.994944388271\n",
      "Threshold 0.932058155537, recall = 0.474860335196, precision = 0.995740149095\n",
      "Threshold 0.93245524168, recall = 0.46063991874, precision = 0.995609220637\n",
      "Threshold 0.932953834534, recall = 0.438801422042, precision = 0.995391705069\n",
      "Threshold 0.933412492275, recall = 0.397155916709, precision = 0.997448979592\n",
      "Threshold 0.93369114399, recall = 0.372778059929, precision = 0.997282608696\n",
      "Threshold 0.934167027473, recall = 0.305738953784, precision = 0.998341625207\n"
     ]
    }
   ],
   "source": [
    "precision, recall, thresholds = sklearn.metrics.precision_recall_curve(testY, preds)\n",
    "for i in range(0,len(recall), 15):\n",
    "    print(\"Threshold {0}, recall = {1}, precision = {2}\".format(thresholds[i], recall[i], precision[i]))\n",
    "\n"
   ]
  },
  {
   "cell_type": "code",
   "execution_count": 14,
   "metadata": {
    "collapsed": false
   },
   "outputs": [
    {
     "name": "stdout",
     "output_type": "stream",
     "text": [
      "[0.9342688  0.9342688  0.3692601  0.93390214 0.9342688 ]\n",
      "1969 3031\n",
      "[  49. 1583.  215.  118.   87.   65.   37.   40.   36.   37.   24.   31.\n",
      "   27.   16.   28.   18.   19.   13.   17.   20.   21.   13.   15.   13.\n",
      "   16.   14.   10.   15.   14.   15.   15.   13.   12.   12.   13.   14.\n",
      "   16.   10.   17.   26.   13.   12.   19.   16.   22.   26.   24.   37.\n",
      "   36.   52.]\n",
      "[   0    0    2    1    2    1    1    0    2    1    1    1    1    0\n",
      "    0    3    4    1    3    2    1    1    3    2    6    3    1    2\n",
      "    3    4    4    2    4    7    3    4    8    5   12    9   11   11\n",
      "   17   16   35   34   59   77  145 1421]\n"
     ]
    },
    {
     "data": {
      "text/plain": [
       "(0, 350)"
      ]
     },
     "execution_count": 14,
     "metadata": {},
     "output_type": "execute_result"
    },
    {
     "data": {
      "image/png": "[encoded data removed]",
      "text/plain": [
       "<matplotlib.figure.Figure at 0x7feb73540e90>"
      ]
     },
     "metadata": {},
     "output_type": "display_data"
    }
   ],
   "source": [
    "# Histogram:\n",
    "bins = 50\n",
    "Stable=preds[np.where(testY==1)]\n",
    "print Stable[:5][:]\n",
    "Unstable=preds[np.where(testY==0)]\n",
    "print Stable.size, Unstable.size\n",
    "\n",
    "\n",
    "fig, ax1 = plt.subplots()\n",
    "n, bins, pathces = ax1.hist(Unstable, bins, alpha=0.5, label='No', color='blue', edgecolor = \"black\")\n",
    "print n\n",
    "ax1.set_xlabel('Predicted Probability', fontsize=14)\n",
    "ax1.set_ylabel('Unstable',  fontsize=14, color='blue')\n",
    "for tl in ax1.get_yticklabels():\n",
    "    tl.set_color('blue')\n",
    "    \n",
    "\n",
    "\n",
    "ax2 = ax1.twinx()\n",
    "n, bins , patches = ax2.hist(Stable, bins, alpha=0.5, label='Yes',color='green', edgecolor = \"black\")\n",
    "print n.astype(int)\n",
    "ax2.set_ylabel('Stable', fontsize=14, color='green')\n",
    "for tl in ax2.get_yticklabels():\n",
    "    tl.set_color('green')\n",
    "    \n",
    "    \n",
    "#ax1.set_ylim(ax2.get_ylim())\n",
    "ax1.set_ylim([0,350]) # goes up to ~4300\n",
    "ax2.set_ylim([0,350]) # goes up to ~2100"
   ]
  },
  {
   "cell_type": "code",
   "execution_count": 15,
   "metadata": {
    "collapsed": true
   },
   "outputs": [],
   "source": [
    "gains = bst.get_score(importance_type='gain')\n",
    "total_gains = np.sum(gains.values())\n",
    "#print gains.keys()\n",
    "#print gains.values()/total_gains*100.\n",
    "#print np.sum(gains.values()/total_gains*100.)\n",
    "a = {k: v / total_gains*100. for k, v in gains.iteritems()}"
   ]
  },
  {
   "cell_type": "code",
   "execution_count": 16,
   "metadata": {
    "collapsed": false
   },
   "outputs": [
    {
     "name": "stdout",
     "output_type": "stream",
     "text": [
      "{'avg_iH2': 0.6647482226600516, 'avg_iH1': 0.7068346652276927, 'std_ecross3': 1.272927962927712, 'norm_std_a3': 0.7500232655551147, 'norm_std_a2': 0.7776664171276642, 'norm_std_a1': 0.9140952612961093, 'max_beta23': 1.0702332919399484, 'std_beta12': 33.62456028730671, 'norm_std_window10_a1': 0.8746978150080518, 'norm_std_window10_a2': 0.8076950979796139, 'norm_std_window10_a3': 1.139049706242679, 'avg_ecross3': 2.858541017915359, 'avg_ecross2': 1.4049002134382367, 'avg_ecross1': 1.3556437700692834, 'avg_beta23': 0.7810204059049021, 'min_beta12': 1.654145222542038, 'max_ecross1': 1.5356580642219029, 'max_ecross3': 1.7161898627965042, 'max_ecross2': 12.798008769676716, 'min_ecross1': 0.7321638277872881, 'norm_a3_slope': 0.7430220426337476, 'norm_a2_slope': 1.5476498842123578, 'avg_beta12': 0.5820922981380633, 'norm_max_a1': 1.0808932852511541, 'norm_max_a2': 10.42555084087877, 'std_beta23': 8.12769177327976, 'max_beta12': 0.7587385003601631, 'min_ecross3': 1.0879591756496487, 'min_ecross2': 0.9155480372412964, 'norm_a1_slope': 0.9670746171264004, 'std_ecross1': 1.068998645078893, 'std_ecross2': 1.2572883323152788, 'min_beta23': 1.0541368534388742, 'norm_max_a3': 0.61657096648202, 'norm_max_window10_a1': 1.0105551203781074, 'norm_max_window10_a3': 0.6872472998948841, 'norm_max_window10_a2': 0.6301791800169907}\n"
     ]
    }
   ],
   "source": [
    "print a"
   ]
  },
  {
   "cell_type": "markdown",
   "metadata": {},
   "source": [
    "IGNORE THE REST, THIS IS FOR FURTHER OPTIMIZATION"
   ]
  },
  {
   "cell_type": "markdown",
   "metadata": {
    "collapsed": false
   },
   "source": [
    "#continue optimization from where we left off\n",
    "#trials = Trials()\n",
    "import time\n",
    "start = time.time()\n",
    "best = fmin(fn=objective, space = space, algo = tpe.suggest, max_evals = 200, trials = trials)\n",
    "end = time.time()\n",
    "print(\"Optimization Time: %f seconds\", (end  -start))"
   ]
  },
  {
   "cell_type": "markdown",
   "metadata": {
    "collapsed": false
   },
   "source": [
    "best"
   ]
  },
  {
   "cell_type": "markdown",
   "metadata": {
    "collapsed": false
   },
   "source": [
    "#switch to the traditional 80 20 slipt, dont know why i did the 40 60 split before\n",
    "Nrows = int(0.8*X.shape[0])\n",
    "trainX = X.iloc[:Nrows, :]\n",
    "trainY = y.iloc[:Nrows]\n",
    "testX = X.iloc[Nrows:, :]\n",
    "testY = y.iloc[Nrows:]\n",
    "\n",
    "\n",
    "\n",
    "best_xgbc = XGBClassifier(n_estimators=100, scale_pos_weight=best[\"x_pos_weight\"],\n",
    "                         learning_rate = best[\"x_learning_rate\"], \n",
    "                         max_depth = int(best[\"x_max_depth\"]), \n",
    "                         min_child_weight = best[\"x_min_child\"],\n",
    "                         subsample = best[\"x_subsample\"], \n",
    "                         colsample_bytree = best[\"x_tree_colsample\"], seed = 0)\n",
    "params = best_xgbc.get_xgb_params()\n",
    "#score = xgb.cv(params, dtrain, nfold = 5, metrics = \"auc\", verbose_eval=True)\n",
    "#print score\n",
    "d_Train = xgb.DMatrix(trainX, trainY)\n",
    "d_Test = xgb.DMatrix(testX)\n",
    "bst = xgb.train(params, d_Train)\n",
    "preds = bst.predict(d_Test)\n",
    "score = metrics.average_precision_score(testY, preds)\n",
    "print score"
   ]
  },
  {
   "cell_type": "markdown",
   "metadata": {
    "collapsed": false
   },
   "source": [
    "#the ROCAUC score is now 98.0 witht eh 2080 split compared to the 40 60 from before \n",
    "from sklearn.metrics import roc_curve\n",
    "fpr, tpr, thresholds = roc_curve(testY, preds)\n",
    "fig, ax = plt.subplots()\n",
    "ax.plot(fpr, tpr)\n",
    "ax.plot([0, 1], [0, 1], 'k--')\n",
    "ax.set_xlim([0.0, 1.0])\n",
    "ax.set_ylim([0.0, 1.0])\n",
    "ax.set_xlabel('False Positive Rate')\n",
    "ax.set_ylabel('True Positive Rate')\n",
    "ax.set_title('ROC curve (AUC = {0:.3f})'.format(metrics.roc_auc_score(testY, preds)))"
   ]
  },
  {
   "cell_type": "markdown",
   "metadata": {
    "collapsed": false
   },
   "source": [
    "#continue optimization from where we left off\n",
    "#trials = Trials()\n",
    "#import time\n",
    "start = time.time()\n",
    "best = fmin(fn=objective, space = space, algo = tpe.suggest, max_evals = 200, trials = trials)\n",
    "end = time.time()\n",
    "print(\"Optimization Time: %f seconds\", (end  -start))"
   ]
  },
  {
   "cell_type": "markdown",
   "metadata": {
    "collapsed": false
   },
   "source": [
    "print len(trials.trials)\n",
    "#for i in range(200)\n",
    "complete_results = [x[\"result\"][\"cv_score\"] for x in trials]\n",
    "print np.max(complete_results)\n",
    "#print trials.trials[\"result\"][\"cv_score\"]"
   ]
  },
  {
   "cell_type": "markdown",
   "metadata": {
    "collapsed": true
   },
   "source": [
    "#continue optimization from where we left off\n",
    "#trials = Trials()\n",
    "#import time\n",
    "start = time.time()\n",
    "best = fmin(fn=objective, space = space, algo = tpe.suggest, max_evals = 240, trials = trials)\n",
    "end = time.time()\n",
    "print(\"Optimization Time: %f seconds\", (end  -start))"
   ]
  },
  {
   "cell_type": "markdown",
   "metadata": {
    "collapsed": true
   },
   "source": [
    "best_xgbc = XGBClassifier(n_estimators=100, scale_pos_weight=best[\"x_pos_weight\"],\n",
    "                         learning_rate = best[\"x_learning_rate\"], \n",
    "                         max_depth = int(best[\"x_max_depth\"]), \n",
    "                         min_child_weight = best[\"x_min_child\"],\n",
    "                         subsample = best[\"x_subsample\"], \n",
    "                         colsample_bytree = best[\"x_tree_colsample\"], seed = 0)\n",
    "params = best_xgbc.get_xgb_params()"
   ]
  },
  {
   "cell_type": "markdown",
   "metadata": {
    "collapsed": false
   },
   "source": [
    "bst = xgb.train(params, d_Train)\n",
    "preds = bst.predict(d_Test)\n",
    "score = metrics.average_precision_score(testY, preds)\n",
    "print score\n",
    "#the ROCAUC score is now 98.0 witht eh 2080 split compared to the 40 60 from before \n",
    "from sklearn.metrics import roc_curve\n",
    "fpr, tpr, thresholds = roc_curve(testY, preds)\n",
    "fig, ax = plt.subplots()\n",
    "ax.plot(fpr, tpr)\n",
    "ax.plot([0, 1], [0, 1], 'k--')\n",
    "ax.set_xlim([0.0, 1.0])\n",
    "ax.set_ylim([0.0, 1.0])\n",
    "ax.set_xlabel('False Positive Rate')\n",
    "ax.set_ylabel('True Positive Rate')\n",
    "ax.set_title('ROC curve (AUC = {0:.3f})'.format(metrics.roc_auc_score(testY, preds)))"
   ]
  },
  {
   "cell_type": "markdown",
   "metadata": {
    "collapsed": false
   },
   "source": [
    "print best"
   ]
  },
  {
   "cell_type": "code",
   "execution_count": 25,
   "metadata": {
    "collapsed": false
   },
   "outputs": [],
   "source": [
    "import pickle\n",
    "pickle.dump(bst, open(\"../../Analysis/Testing/final.pkl\", \"wb\"))\n"
   ]
  },
  {
   "cell_type": "code",
   "execution_count": null,
   "metadata": {
    "collapsed": true
   },
   "outputs": [],
   "source": []
  }
 ],
 "metadata": {
  "anaconda-cloud": {},
  "kernelspec": {
   "display_name": "Python [default]",
   "language": "python",
   "name": "python2"
  },
  "language_info": {
   "codemirror_mode": {
    "name": "ipython",
    "version": 2
   },
   "file_extension": ".py",
   "mimetype": "text/x-python",
   "name": "python",
   "nbconvert_exporter": "python",
   "pygments_lexer": "ipython2",
   "version": "2.7.12"
  }
 },
 "nbformat": 4,
 "nbformat_minor": 2
}
