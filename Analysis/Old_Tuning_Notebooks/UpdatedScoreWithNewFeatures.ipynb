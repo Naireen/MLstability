{
 "cells": [
  {
   "cell_type": "code",
   "execution_count": 1,
   "metadata": {
    "collapsed": false
   },
   "outputs": [
    {
     "name": "stderr",
     "output_type": "stream",
     "text": [
      "/home/naireen/anaconda2/lib/python2.7/site-packages/sklearn/cross_validation.py:44: DeprecationWarning: This module was deprecated in version 0.18 in favor of the model_selection module into which all the refactored classes and functions are moved. Also note that the interface of the new CV iterators are different from that of this module. This module will be removed in 0.20.\n",
      "  \"This module will be removed in 0.20.\", DeprecationWarning)\n"
     ]
    }
   ],
   "source": [
    "import numpy as np\n",
    "import sklearn\n",
    "import matplotlib\n",
    "from matplotlib import pyplot as plt\n",
    "%matplotlib inline\n",
    "import pandas as pd\n",
    "from sklearn import metrics\n",
    "from sklearn.model_selection import cross_val_score\n",
    "from matplotlib import rc\n",
    "from matplotlib import cm\n",
    "from mpl_toolkits.mplot3d import axes3d\n",
    "from matplotlib.ticker import MaxNLocator\n",
    "import scipy.signal\n",
    "import xgboost as xgb\n",
    "from xgboost.sklearn import XGBClassifier\n"
   ]
  },
  {
   "cell_type": "code",
   "execution_count": 3,
   "metadata": {
    "collapsed": false,
    "scrolled": true
   },
   "outputs": [
    {
     "name": "stdout",
     "output_type": "stream",
     "text": [
      "['runstring' 't_final_short' 'Rel_Eerr_short' 'avg_beta12' 'std_beta12'\n",
      " 'min_beta12' 'max_beta12' 'avg_beta23' 'std_beta23' 'min_beta23'\n",
      " 'max_beta23' 'avg_a1' 'std_a1' 'max_a1' 'min_a1' 'norm_std_a1'\n",
      " 'norm_max_a1' 'norm_std_window10_a1' 'norm_max_window10_a1' 'avg_e1'\n",
      " 'std_e1' 'max_e1' 'min_e1' 'norm_std_e1' 'norm_max_e1'\n",
      " 'norm_std_window10_e1' 'norm_max_window10_e1' 'avg_inc1' 'std_inc1'\n",
      " 'max_inc1' 'min_inc1' 'norm_std_inc1' 'norm_max_inc1'\n",
      " 'norm_std_window10_inc1' 'norm_max_window10_inc1' 'avg_eH1' 'std_eH1'\n",
      " 'max_eH1' 'min_eH1' 'avg_iH1' 'std_iH1' 'max_iH1' 'min_iH1' 'avg_ecross1'\n",
      " 'std_ecross1' 'max_ecross1' 'min_ecross1' 'norm_a1_slope' 'avg_a2'\n",
      " 'std_a2' 'max_a2' 'min_a2' 'norm_std_a2' 'norm_max_a2'\n",
      " 'norm_std_window10_a2' 'norm_max_window10_a2' 'avg_e2' 'std_e2' 'max_e2'\n",
      " 'min_e2' 'norm_std_e2' 'norm_max_e2' 'norm_std_window10_e2'\n",
      " 'norm_max_window10_e2' 'avg_inc2' 'std_inc2' 'max_inc2' 'min_inc2'\n",
      " 'norm_std_inc2' 'norm_max_inc2' 'norm_std_window10_inc2'\n",
      " 'norm_max_window10_inc2' 'avg_eH2' 'std_eH2' 'max_eH2' 'min_eH2' 'avg_iH2'\n",
      " 'std_iH2' 'max_iH2' 'min_iH2' 'avg_ecross2' 'std_ecross2' 'max_ecross2'\n",
      " 'min_ecross2' 'norm_a2_slope' 'avg_a3' 'std_a3' 'max_a3' 'min_a3'\n",
      " 'norm_std_a3' 'norm_max_a3' 'norm_std_window10_a3' 'norm_max_window10_a3'\n",
      " 'avg_e3' 'std_e3' 'max_e3' 'min_e3' 'norm_std_e3' 'norm_max_e3'\n",
      " 'norm_std_window10_e3' 'norm_max_window10_e3' 'avg_inc3' 'std_inc3'\n",
      " 'max_inc3' 'min_inc3' 'norm_std_inc3' 'norm_max_inc3'\n",
      " 'norm_std_window10_inc3' 'norm_max_window10_inc3' 'avg_eH3' 'std_eH3'\n",
      " 'max_eH3' 'min_eH3' 'avg_iH3' 'std_iH3' 'max_iH3' 'min_iH3' 'avg_ecross3'\n",
      " 'std_ecross3' 'max_ecross3' 'min_ecross3' 'norm_a3_slope' 'wall_time'\n",
      " 'Stable' 'instability_time' 'Rel_Eerr']\n"
     ]
    }
   ],
   "source": [
    "dataset = pd.read_csv(\"../../csvs/BetaFeats/sifOrbsMore=10000.0Nout=100window=10.csv\", index_col = 0)\n",
    "print dataset.columns.values"
   ]
  },
  {
   "cell_type": "code",
   "execution_count": 4,
   "metadata": {
    "collapsed": false
   },
   "outputs": [
    {
     "data": {
      "text/html": [
       "<div>\n",
       "<style>\n",
       "    .dataframe thead tr:only-child th {\n",
       "        text-align: right;\n",
       "    }\n",
       "\n",
       "    .dataframe thead th {\n",
       "        text-align: left;\n",
       "    }\n",
       "\n",
       "    .dataframe tbody tr th {\n",
       "        vertical-align: top;\n",
       "    }\n",
       "</style>\n",
       "<table border=\"1\" class=\"dataframe\">\n",
       "  <thead>\n",
       "    <tr style=\"text-align: right;\">\n",
       "      <th></th>\n",
       "      <th>avg_iH1</th>\n",
       "      <th>avg_iH2</th>\n",
       "      <th>norm_std_a1</th>\n",
       "      <th>norm_max_a1</th>\n",
       "      <th>norm_std_window10_a1</th>\n",
       "      <th>norm_max_window10_a1</th>\n",
       "      <th>norm_std_a2</th>\n",
       "      <th>norm_max_a2</th>\n",
       "      <th>norm_std_window10_a2</th>\n",
       "      <th>norm_max_window10_a2</th>\n",
       "      <th>...</th>\n",
       "      <th>norm_a2_slope</th>\n",
       "      <th>norm_a3_slope</th>\n",
       "      <th>avg_beta12</th>\n",
       "      <th>std_beta12</th>\n",
       "      <th>min_beta12</th>\n",
       "      <th>max_beta12</th>\n",
       "      <th>avg_beta23</th>\n",
       "      <th>std_beta23</th>\n",
       "      <th>min_beta23</th>\n",
       "      <th>max_beta23</th>\n",
       "    </tr>\n",
       "  </thead>\n",
       "  <tbody>\n",
       "    <tr>\n",
       "      <th>0</th>\n",
       "      <td>0.396282</td>\n",
       "      <td>0.481704</td>\n",
       "      <td>0.000329</td>\n",
       "      <td>0.001083</td>\n",
       "      <td>0.000214</td>\n",
       "      <td>0.000456</td>\n",
       "      <td>0.000701</td>\n",
       "      <td>0.001978</td>\n",
       "      <td>0.000446</td>\n",
       "      <td>0.000964</td>\n",
       "      <td>...</td>\n",
       "      <td>2.144832e-10</td>\n",
       "      <td>2.681898e-11</td>\n",
       "      <td>8.488064</td>\n",
       "      <td>0.048209</td>\n",
       "      <td>8.344623</td>\n",
       "      <td>8.551727</td>\n",
       "      <td>15.791595</td>\n",
       "      <td>0.085995</td>\n",
       "      <td>15.576612</td>\n",
       "      <td>16.019985</td>\n",
       "    </tr>\n",
       "    <tr>\n",
       "      <th>1</th>\n",
       "      <td>1.034575</td>\n",
       "      <td>0.823935</td>\n",
       "      <td>0.000739</td>\n",
       "      <td>0.002137</td>\n",
       "      <td>0.000202</td>\n",
       "      <td>0.000463</td>\n",
       "      <td>0.000200</td>\n",
       "      <td>0.000350</td>\n",
       "      <td>0.000226</td>\n",
       "      <td>0.000377</td>\n",
       "      <td>...</td>\n",
       "      <td>3.559377e-11</td>\n",
       "      <td>-9.314702e-11</td>\n",
       "      <td>8.414875</td>\n",
       "      <td>0.039142</td>\n",
       "      <td>8.308582</td>\n",
       "      <td>8.495900</td>\n",
       "      <td>15.314101</td>\n",
       "      <td>0.037065</td>\n",
       "      <td>15.254833</td>\n",
       "      <td>15.368196</td>\n",
       "    </tr>\n",
       "    <tr>\n",
       "      <th>2</th>\n",
       "      <td>0.440470</td>\n",
       "      <td>0.491261</td>\n",
       "      <td>0.001951</td>\n",
       "      <td>0.003550</td>\n",
       "      <td>0.001735</td>\n",
       "      <td>0.002860</td>\n",
       "      <td>0.002303</td>\n",
       "      <td>0.004034</td>\n",
       "      <td>0.002080</td>\n",
       "      <td>0.003409</td>\n",
       "      <td>...</td>\n",
       "      <td>-3.330088e-11</td>\n",
       "      <td>-4.095504e-11</td>\n",
       "      <td>3.566625</td>\n",
       "      <td>0.132349</td>\n",
       "      <td>3.331239</td>\n",
       "      <td>3.773868</td>\n",
       "      <td>25.113282</td>\n",
       "      <td>0.137779</td>\n",
       "      <td>24.898424</td>\n",
       "      <td>25.351948</td>\n",
       "    </tr>\n",
       "    <tr>\n",
       "      <th>3</th>\n",
       "      <td>0.432098</td>\n",
       "      <td>0.550624</td>\n",
       "      <td>0.000026</td>\n",
       "      <td>0.000120</td>\n",
       "      <td>0.000005</td>\n",
       "      <td>0.000009</td>\n",
       "      <td>0.000019</td>\n",
       "      <td>0.000050</td>\n",
       "      <td>0.000016</td>\n",
       "      <td>0.000041</td>\n",
       "      <td>...</td>\n",
       "      <td>7.816527e-13</td>\n",
       "      <td>-7.257099e-12</td>\n",
       "      <td>18.513867</td>\n",
       "      <td>0.003597</td>\n",
       "      <td>18.498104</td>\n",
       "      <td>18.521611</td>\n",
       "      <td>19.142029</td>\n",
       "      <td>0.008997</td>\n",
       "      <td>19.120348</td>\n",
       "      <td>19.156777</td>\n",
       "    </tr>\n",
       "    <tr>\n",
       "      <th>4</th>\n",
       "      <td>5.722053</td>\n",
       "      <td>17.442426</td>\n",
       "      <td>0.028284</td>\n",
       "      <td>0.063028</td>\n",
       "      <td>0.004313</td>\n",
       "      <td>0.010716</td>\n",
       "      <td>0.038832</td>\n",
       "      <td>0.160685</td>\n",
       "      <td>0.090892</td>\n",
       "      <td>0.112168</td>\n",
       "      <td>...</td>\n",
       "      <td>3.913858e-08</td>\n",
       "      <td>-2.610208e-08</td>\n",
       "      <td>23.314674</td>\n",
       "      <td>6.756316</td>\n",
       "      <td>3.957209</td>\n",
       "      <td>38.942908</td>\n",
       "      <td>-19.036068</td>\n",
       "      <td>5.544896</td>\n",
       "      <td>-21.930247</td>\n",
       "      <td>4.156005</td>\n",
       "    </tr>\n",
       "  </tbody>\n",
       "</table>\n",
       "<p>5 rows × 37 columns</p>\n",
       "</div>"
      ],
      "text/plain": [
       "    avg_iH1    avg_iH2  norm_std_a1  norm_max_a1  norm_std_window10_a1  \\\n",
       "0  0.396282   0.481704     0.000329     0.001083              0.000214   \n",
       "1  1.034575   0.823935     0.000739     0.002137              0.000202   \n",
       "2  0.440470   0.491261     0.001951     0.003550              0.001735   \n",
       "3  0.432098   0.550624     0.000026     0.000120              0.000005   \n",
       "4  5.722053  17.442426     0.028284     0.063028              0.004313   \n",
       "\n",
       "   norm_max_window10_a1  norm_std_a2  norm_max_a2  norm_std_window10_a2  \\\n",
       "0              0.000456     0.000701     0.001978              0.000446   \n",
       "1              0.000463     0.000200     0.000350              0.000226   \n",
       "2              0.002860     0.002303     0.004034              0.002080   \n",
       "3              0.000009     0.000019     0.000050              0.000016   \n",
       "4              0.010716     0.038832     0.160685              0.090892   \n",
       "\n",
       "   norm_max_window10_a2     ...      norm_a2_slope  norm_a3_slope  avg_beta12  \\\n",
       "0              0.000964     ...       2.144832e-10   2.681898e-11    8.488064   \n",
       "1              0.000377     ...       3.559377e-11  -9.314702e-11    8.414875   \n",
       "2              0.003409     ...      -3.330088e-11  -4.095504e-11    3.566625   \n",
       "3              0.000041     ...       7.816527e-13  -7.257099e-12   18.513867   \n",
       "4              0.112168     ...       3.913858e-08  -2.610208e-08   23.314674   \n",
       "\n",
       "   std_beta12  min_beta12  max_beta12  avg_beta23  std_beta23  min_beta23  \\\n",
       "0    0.048209    8.344623    8.551727   15.791595    0.085995   15.576612   \n",
       "1    0.039142    8.308582    8.495900   15.314101    0.037065   15.254833   \n",
       "2    0.132349    3.331239    3.773868   25.113282    0.137779   24.898424   \n",
       "3    0.003597   18.498104   18.521611   19.142029    0.008997   19.120348   \n",
       "4    6.756316    3.957209   38.942908  -19.036068    5.544896  -21.930247   \n",
       "\n",
       "   max_beta23  \n",
       "0   16.019985  \n",
       "1   15.368196  \n",
       "2   25.351948  \n",
       "3   19.156777  \n",
       "4    4.156005  \n",
       "\n",
       "[5 rows x 37 columns]"
      ]
     },
     "execution_count": 4,
     "metadata": {},
     "output_type": "execute_result"
    }
   ],
   "source": [
    "features = []\n",
    "features += ['avg_iH1', 'avg_iH2']\n",
    "features += ['norm_std_a1', 'norm_max_a1', 'norm_std_window10_a1', 'norm_max_window10_a1']\n",
    "features += ['norm_std_a2', 'norm_max_a2', 'norm_std_window10_a2', 'norm_max_window10_a2']\n",
    "features += ['norm_std_a3', 'norm_max_a3', 'norm_std_window10_a3', 'norm_max_window10_a3']\n",
    "features += ['avg_ecross1', 'std_ecross1', 'max_ecross1', 'min_ecross1']\n",
    "features += ['avg_ecross2', 'std_ecross2', 'max_ecross2', 'min_ecross2']\n",
    "features += ['avg_ecross3', 'std_ecross3', 'max_ecross3', 'min_ecross3']\n",
    "features += ['norm_a1_slope', 'norm_a2_slope', 'norm_a3_slope']\n",
    "features += ['avg_beta12','std_beta12','min_beta12','max_beta12','avg_beta23','std_beta23','min_beta23','max_beta23'] \n",
    "y = dataset['Stable']\n",
    "X = dataset[features]\n",
    "X.head()"
   ]
  },
  {
   "cell_type": "code",
   "execution_count": 9,
   "metadata": {
    "collapsed": false
   },
   "outputs": [],
   "source": [
    "Nrows = int(0.8*X.shape[0])\n",
    "trainX = X.iloc[:Nrows, :]\n",
    "trainY = y.iloc[:Nrows]\n",
    "testX = X.iloc[Nrows:, :]\n",
    "testY = y.iloc[Nrows:]\n",
    "xgbc = XGBClassifier(seed = 0)"
   ]
  },
  {
   "cell_type": "code",
   "execution_count": 8,
   "metadata": {
    "collapsed": true
   },
   "outputs": [],
   "source": [
    "from hyperopt import hp, fmin, tpe, STATUS_OK, Trials"
   ]
  },
  {
   "cell_type": "code",
   "execution_count": 16,
   "metadata": {
    "collapsed": true
   },
   "outputs": [],
   "source": [
    "space ={\n",
    "        'max_depth': hp.randint('x_max_depth',  20),\n",
    "        'min_child_weight': hp.quniform ('x_min_child', 1, 10, 1),\n",
    "        'subsample': hp.uniform ('x_subsample', 0.8, 1),\n",
    "        'scale_pos_weight': hp.uniform(\"x_pos_weight\", 1, 15),\n",
    "        \"learning_rate\":hp.uniform(\"x_learning_rate\",0.01,0.2),\n",
    "        'colsample_bytree': hp.uniform ('x_tree_colsample', 0.5,1),\n",
    "}\n",
    "\n",
    "dtrain = xgb.DMatrix(trainX, trainY)\n",
    "dtest = xgb.DMatrix(testX, testY)\n",
    "def objective(space):\n",
    "\n",
    "    clf = XGBClassifier(n_estimators = 100, \n",
    "                            max_depth = space['max_depth'], \n",
    "                            min_child_weight =space['min_child_weight'],\n",
    "                            subsample = space['subsample'],\n",
    "                            colsample_bytree =space['colsample_bytree'],\n",
    "                            learning_rate = space['learning_rate'], seed = 0)\n",
    "    \n",
    "    params = clf.get_xgb_params()\n",
    "    score = xgb.cv(params, dtest, nfold = 5, metrics = \"auc\", early_stopping_rounds=10)\n",
    "    #print score\n",
    "    #score = cross_val_score(clf, trainX, trainY, cv = 5, scoring=\"average_precision\")\n",
    "    avg_score =  np.mean(score[\"test-auc-mean\"])\n",
    "    error = np.mean(score[\"test-auc-std\"])\n",
    "    \n",
    "    bst = xgb.train(params, dtrain)\n",
    "    preds = bst.predict(dtest)\n",
    "    test_score = metrics.roc_auc_score(testY, preds)\n",
    "    \n",
    "    print \"SCORE:\", avg_score, \"ERROR\", error, \"HOLDOUT SCORE\", test_score\n",
    "\n",
    "    return{'loss':1-test_score, 'status': STATUS_OK, \"cv_score\":avg_score , \"cv_error\":error, \"holdout\":test_score }"
   ]
  },
  {
   "cell_type": "code",
   "execution_count": 17,
   "metadata": {
    "collapsed": false
   },
   "outputs": [
    {
     "name": "stdout",
     "output_type": "stream",
     "text": [
      "SCORE: 0.97280504 ERROR 0.00362785063322 HOLDOUT SCORE 0.980295370054\n",
      "SCORE: 0.95556264 ERROR 0.00604584298846 HOLDOUT SCORE 0.966202885068\n",
      "SCORE: 0.97109546 ERROR 0.00264882096975 HOLDOUT SCORE 0.980646071515\n",
      "SCORE: 0.97114524 ERROR 0.00217561255556 HOLDOUT SCORE 0.977473002438\n",
      "SCORE: 0.9719926 ERROR 0.00317156439297 HOLDOUT SCORE 0.97852787155\n",
      "SCORE: 0.5 ERROR 0.0 HOLDOUT SCORE 0.5\n",
      "SCORE: 0.9721471 ERROR 0.00279388139557 HOLDOUT SCORE 0.980457818724\n",
      "SCORE: 0.9695086 ERROR 0.00391472160892 HOLDOUT SCORE 0.979064731313\n",
      "SCORE: 0.92198232 ERROR 0.0134045106806 HOLDOUT SCORE 0.942333235423\n",
      "SCORE: 0.97244172 ERROR 0.00296630595751 HOLDOUT SCORE 0.980628645356\n",
      "SCORE: 0.97233324 ERROR 0.00213593651055 HOLDOUT SCORE 0.981047543423\n",
      "SCORE: 0.96976066 ERROR 0.00244294016622 HOLDOUT SCORE 0.979000975027\n",
      "SCORE: 0.97287732 ERROR 0.00311374568934 HOLDOUT SCORE 0.981341944984\n",
      "SCORE: 0.97069592 ERROR 0.00342897029766 HOLDOUT SCORE 0.978828640362\n",
      "SCORE: 0.96914718 ERROR 0.00349501114256 HOLDOUT SCORE 0.980282803112\n",
      "SCORE: 0.9727434 ERROR 0.00312331890039 HOLDOUT SCORE 0.981935355985\n",
      "SCORE: 0.97103248 ERROR 0.00263613985186 HOLDOUT SCORE 0.980226335652\n",
      "SCORE: 0.97226088 ERROR 0.00229362457805 HOLDOUT SCORE 0.981263275927\n",
      "SCORE: 0.97152346 ERROR 0.00204107379338 HOLDOUT SCORE 0.979531718878\n",
      "SCORE: 0.97308536 ERROR 0.00337047988217 HOLDOUT SCORE 0.98195177679\n",
      "SCORE: 0.97250168 ERROR 0.00385543838069 HOLDOUT SCORE 0.98059747934\n",
      "SCORE: 0.97128264 ERROR 0.00402994203482 HOLDOUT SCORE 0.980526099109\n",
      "SCORE: 0.97320552 ERROR 0.00259801892226 HOLDOUT SCORE 0.981770477706\n",
      "SCORE: 0.97378926 ERROR 0.00278124498482 HOLDOUT SCORE 0.980410902141\n",
      "SCORE: 0.9725021 ERROR 0.00323719053118 HOLDOUT SCORE 0.978055689649\n",
      "SCORE: 0.97108652 ERROR 0.00268533732137 HOLDOUT SCORE 0.980688799118\n",
      "SCORE: 0.97168342 ERROR 0.0033018240319 HOLDOUT SCORE 0.979566906315\n",
      "SCORE: 0.97092072 ERROR 0.00307453229908 HOLDOUT SCORE 0.980845299436\n",
      "SCORE: 0.96665754 ERROR 0.00463479901004 HOLDOUT SCORE 0.972258559302\n",
      "SCORE: 0.97081424 ERROR 0.00347746389772 HOLDOUT SCORE 0.976657743021\n",
      "SCORE: 0.97293602 ERROR 0.00381928391096 HOLDOUT SCORE 0.982172452291\n",
      "SCORE: 0.9727463 ERROR 0.00392310172334 HOLDOUT SCORE 0.982486793401\n",
      "SCORE: 0.95657938 ERROR 0.00404783185661 HOLDOUT SCORE 0.966710170627\n",
      "SCORE: 0.9730509 ERROR 0.00294808680567 HOLDOUT SCORE 0.98206002005\n",
      "SCORE: 0.972463 ERROR 0.00337199577749 HOLDOUT SCORE 0.981701778423\n",
      "SCORE: 0.93418492 ERROR 0.00735990492782 HOLDOUT SCORE 0.953983628458\n",
      "SCORE: 0.5 ERROR 0.0 HOLDOUT SCORE 0.5\n",
      "SCORE: 0.9720233 ERROR 0.00292999401263 HOLDOUT SCORE 0.980981692646\n",
      "SCORE: 0.97170684 ERROR 0.00243903894896 HOLDOUT SCORE 0.977737494678\n",
      "SCORE: 0.97322948 ERROR 0.00289545504474 HOLDOUT SCORE 0.980001890068\n",
      "SCORE: 0.9714483 ERROR 0.00325972348178 HOLDOUT SCORE 0.981609704628\n",
      "SCORE: 0.97279788 ERROR 0.0029400455946 HOLDOUT SCORE 0.9818107757\n",
      "SCORE: 0.97218192 ERROR 0.00250770517253 HOLDOUT SCORE 0.980806928373\n",
      "SCORE: 0.97307534 ERROR 0.00285857536377 HOLDOUT SCORE 0.980854850312\n",
      "SCORE: 0.97298518 ERROR 0.00324277796947 HOLDOUT SCORE 0.981535140772\n",
      "SCORE: 0.97156778 ERROR 0.00364306018536 HOLDOUT SCORE 0.981678068793\n",
      "SCORE: 0.97102538 ERROR 0.00431493717678 HOLDOUT SCORE 0.980056095478\n",
      "SCORE: 0.96992478 ERROR 0.00269368074488 HOLDOUT SCORE 0.973491124974\n",
      "SCORE: 0.9666021 ERROR 0.00436675750148 HOLDOUT SCORE 0.973774718965\n",
      "SCORE: 0.97242158 ERROR 0.00324220363593 HOLDOUT SCORE 0.980348318769\n",
      "('Optimization Time: %f seconds', 43.24224495887756)\n"
     ]
    }
   ],
   "source": [
    "trials = Trials()\n",
    "import time\n",
    "start = time.time()\n",
    "best = fmin(fn=objective, space = space, algo = tpe.suggest, max_evals = 50, trials = trials)\n",
    "end = time.time()\n",
    "print(\"Optimization Time: %f seconds\", (end  -start))"
   ]
  },
  {
   "cell_type": "code",
   "execution_count": 18,
   "metadata": {
    "collapsed": false
   },
   "outputs": [
    {
     "data": {
      "text/plain": [
       "{'x_learning_rate': 0.19890696372714528,\n",
       " 'x_max_depth': 17,\n",
       " 'x_min_child': 8.0,\n",
       " 'x_pos_weight': 12.505309968632893,\n",
       " 'x_subsample': 0.9409498631912948,\n",
       " 'x_tree_colsample': 0.7528946858805113}"
      ]
     },
     "execution_count": 18,
     "metadata": {},
     "output_type": "execute_result"
    }
   ],
   "source": [
    "#fit the smaller rage \n",
    "#{'x_learning_rate': 0.07419653015127085,\n",
    "# 'x_max_depth': 8,\n",
    "# 'x_min_child': 4.0,\n",
    "# 'x_pos_weight': 8.889472764333366,\n",
    "# 'x_subsample': 0.9380315392096068,\n",
    "# 'x_tree_colsample': 0.734517699234413}\n",
    "best"
   ]
  },
  {
   "cell_type": "code",
   "execution_count": 20,
   "metadata": {
    "collapsed": false
   },
   "outputs": [
    {
     "name": "stdout",
     "output_type": "stream",
     "text": [
      "0.969305937233\n"
     ]
    }
   ],
   "source": [
    "#switch to the traditional 80 20 slipt, dont know why i did the 40 60 split before\n",
    "Nrows = int(0.8*X.shape[0])\n",
    "trainX = X.iloc[:Nrows, :]\n",
    "trainY = y.iloc[:Nrows]\n",
    "testX = X.iloc[Nrows:, :]\n",
    "testY = y.iloc[Nrows:]\n",
    "\n",
    "\n",
    "\n",
    "best_xgbc = XGBClassifier(n_estimators=100, scale_pos_weight=best[\"x_pos_weight\"],\n",
    "                         learning_rate = best[\"x_learning_rate\"], \n",
    "                         max_depth = int(best[\"x_max_depth\"]), \n",
    "                         min_child_weight = best[\"x_min_child\"],\n",
    "                         subsample = best[\"x_subsample\"], \n",
    "                         colsample_bytree = best[\"x_tree_colsample\"])\n",
    "params = best_xgbc.get_xgb_params()\n",
    "#score = xgb.cv(params, dtrain, nfold = 5, metrics = \"auc\", verbose_eval=True)\n",
    "#print score\n",
    "d_Train = xgb.DMatrix(trainX, trainY)\n",
    "d_Test = xgb.DMatrix(testX)\n",
    "bst = xgb.train(params, d_Train)\n",
    "preds = bst.predict(d_Test)\n",
    "score = metrics.average_precision_score(testY, preds)\n",
    "print score"
   ]
  },
  {
   "cell_type": "code",
   "execution_count": 21,
   "metadata": {
    "collapsed": false
   },
   "outputs": [
    {
     "name": "stdout",
     "output_type": "stream",
     "text": [
      "{'x_pos_weight': 12.505309968632893, 'x_learning_rate': 0.19890696372714528, 'x_max_depth': 17, 'x_min_child': 8.0, 'x_tree_colsample': 0.7528946858805113, 'x_subsample': 0.9409498631912948}\n"
     ]
    }
   ],
   "source": [
    "print best"
   ]
  },
  {
   "cell_type": "code",
   "execution_count": 22,
   "metadata": {
    "collapsed": false
   },
   "outputs": [
    {
     "data": {
      "text/plain": [
       "<matplotlib.text.Text at 0x7feaa04d6210>"
      ]
     },
     "execution_count": 22,
     "metadata": {},
     "output_type": "execute_result"
    },
    {
     "data": {
      "image/png": "[encoded data removed]",
      "text/plain": [
       "<matplotlib.figure.Figure at 0x7feaa13df810>"
      ]
     },
     "metadata": {},
     "output_type": "display_data"
    }
   ],
   "source": [
    "#the ROCAUC score is now 98.0 witht eh 2080 split compared to the 40 60 from before \n",
    "from sklearn.metrics import roc_curve\n",
    "fpr, tpr, thresholds = roc_curve(testY, preds)\n",
    "fig, ax = plt.subplots()\n",
    "ax.plot(fpr, tpr)\n",
    "ax.plot([0, 1], [0, 1], 'k--')\n",
    "ax.set_xlim([0.0, 1.0])\n",
    "ax.set_ylim([0.0, 1.0])\n",
    "ax.set_xlabel('False Positive Rate')\n",
    "ax.set_ylabel('True Positive Rate')\n",
    "ax.set_title('ROC curve (AUC = {0:.3f})'.format(metrics.roc_auc_score(testY, preds)))"
   ]
  },
  {
   "cell_type": "code",
   "execution_count": 23,
   "metadata": {
    "collapsed": false
   },
   "outputs": [
    {
     "name": "stdout",
     "output_type": "stream",
     "text": [
      "Threshold 0.067848816514, recall = 1.0, precision = 0.570890113076\n",
      "Threshold 0.0686691477895, recall = 0.999492127984, precision = 0.572259377726\n",
      "Threshold 0.0695178881288, recall = 0.999492127984, precision = 0.573928258968\n",
      "Threshold 0.0701859593391, recall = 0.999492127984, precision = 0.575775307197\n",
      "Threshold 0.0714560523629, recall = 0.999492127984, precision = 0.577464788732\n",
      "Threshold 0.0722047388554, recall = 0.999492127984, precision = 0.579164214244\n",
      "Threshold 0.0731065347791, recall = 0.999492127984, precision = 0.580873671783\n",
      "Threshold 0.0739812552929, recall = 0.999492127984, precision = 0.582593250444\n",
      "Threshold 0.0746115297079, recall = 0.999492127984, precision = 0.58432304038\n",
      "Threshold 0.0750596746802, recall = 0.999492127984, precision = 0.587112171838\n",
      "Threshold 0.075786024332, recall = 0.999492127984, precision = 0.589221556886\n",
      "Threshold 0.0763995274901, recall = 0.999492127984, precision = 0.591168519075\n",
      "Threshold 0.0771703869104, recall = 0.999492127984, precision = 0.593128390597\n",
      "Threshold 0.078382179141, recall = 0.999492127984, precision = 0.595641646489\n",
      "Threshold 0.0792180448771, recall = 0.999492127984, precision = 0.598358163576\n",
      "Threshold 0.080007404089, recall = 0.999492127984, precision = 0.600916030534\n",
      "Threshold 0.0811601355672, recall = 0.999492127984, precision = 0.603495860166\n",
      "Threshold 0.0821059942245, recall = 0.999492127984, precision = 0.605352199323\n",
      "Threshold 0.082907654345, recall = 0.999492127984, precision = 0.607219993829\n",
      "Threshold 0.0839350521564, recall = 0.999492127984, precision = 0.609099350046\n",
      "Threshold 0.0853093713522, recall = 0.999492127984, precision = 0.61099037566\n",
      "Threshold 0.0860652700067, recall = 0.999492127984, precision = 0.612893179695\n",
      "Threshold 0.0869435146451, recall = 0.999492127984, precision = 0.61480787254\n",
      "Threshold 0.0878387987614, recall = 0.999492127984, precision = 0.616734565967\n",
      "Threshold 0.0890487059951, recall = 0.999492127984, precision = 0.618673373153\n",
      "Threshold 0.0901241526008, recall = 0.999492127984, precision = 0.620624408704\n",
      "Threshold 0.0906962901354, recall = 0.999492127984, precision = 0.622587788674\n",
      "Threshold 0.0918492153287, recall = 0.999492127984, precision = 0.624563630593\n",
      "Threshold 0.0924869254231, recall = 0.998984255967, precision = 0.62623368354\n",
      "Threshold 0.0936513021588, recall = 0.998984255967, precision = 0.628233791121\n",
      "Threshold 0.0950358882546, recall = 0.998984255967, precision = 0.630246715796\n",
      "Threshold 0.0968592092395, recall = 0.998984255967, precision = 0.632475884244\n",
      "Threshold 0.0983600318432, recall = 0.998984255967, precision = 0.634516129032\n",
      "Threshold 0.0995586663485, recall = 0.998984255967, precision = 0.636569579288\n",
      "Threshold 0.100152425468, recall = 0.998984255967, precision = 0.639051332034\n",
      "Threshold 0.101894319057, recall = 0.998984255967, precision = 0.641134289439\n",
      "Threshold 0.103119447827, recall = 0.998984255967, precision = 0.643651832461\n",
      "Threshold 0.104316860437, recall = 0.998984255967, precision = 0.645764937623\n",
      "Threshold 0.105592235923, recall = 0.998984255967, precision = 0.647891963109\n",
      "Threshold 0.107446707785, recall = 0.998984255967, precision = 0.650033046927\n",
      "Threshold 0.109828837216, recall = 0.998984255967, precision = 0.652188328912\n",
      "Threshold 0.112776130438, recall = 0.998984255967, precision = 0.654575707155\n",
      "Threshold 0.114415004849, recall = 0.998984255967, precision = 0.656761268781\n",
      "Threshold 0.11492202431, recall = 0.998984255967, precision = 0.658961474037\n",
      "Threshold 0.116124086082, recall = 0.998984255967, precision = 0.661843876178\n",
      "Threshold 0.116989508271, recall = 0.998984255967, precision = 0.664078325456\n",
      "Threshold 0.118816561997, recall = 0.998984255967, precision = 0.666327913279\n",
      "Threshold 0.121629141271, recall = 0.998984255967, precision = 0.668592794018\n",
      "Threshold 0.124654404819, recall = 0.998984255967, precision = 0.670873124147\n",
      "Threshold 0.127661123872, recall = 0.998984255967, precision = 0.673169062286\n",
      "Threshold 0.130879878998, recall = 0.998984255967, precision = 0.675480769231\n",
      "Threshold 0.133891448379, recall = 0.998984255967, precision = 0.677808407994\n",
      "Threshold 0.136491596699, recall = 0.998984255967, precision = 0.680152143845\n",
      "Threshold 0.137691095471, recall = 0.998984255967, precision = 0.682512144344\n",
      "Threshold 0.140996947885, recall = 0.998476383951, precision = 0.684540389972\n",
      "Threshold 0.143247172236, recall = 0.998476383951, precision = 0.686932215234\n",
      "Threshold 0.145796582103, recall = 0.998476383951, precision = 0.689340813464\n",
      "Threshold 0.14875292778, recall = 0.998476383951, precision = 0.691766361717\n",
      "Threshold 0.150908842683, recall = 0.998476383951, precision = 0.694454256446\n",
      "Threshold 0.155968785286, recall = 0.998476383951, precision = 0.696915987239\n",
      "Threshold 0.158410266042, recall = 0.997968511935, precision = 0.699039487727\n",
      "Threshold 0.162283703685, recall = 0.997460639919, precision = 0.70117815066\n",
      "Threshold 0.165496915579, recall = 0.997460639919, precision = 0.703690433536\n",
      "Threshold 0.168269693851, recall = 0.997460639919, precision = 0.706220783891\n",
      "Threshold 0.17166300118, recall = 0.997460639919, precision = 0.708769397329\n",
      "Threshold 0.174831822515, recall = 0.996952767902, precision = 0.710974284679\n",
      "Threshold 0.178871795535, recall = 0.996952767902, precision = 0.713558705925\n",
      "Threshold 0.183323338628, recall = 0.996952767902, precision = 0.716161984677\n",
      "Threshold 0.186963647604, recall = 0.996444895886, precision = 0.718418161845\n",
      "Threshold 0.192118525505, recall = 0.99593702387, precision = 0.720690922455\n",
      "Threshold 0.196479648352, recall = 0.995429151854, precision = 0.722980450018\n",
      "Threshold 0.201353803277, recall = 0.995429151854, precision = 0.725657164013\n",
      "Threshold 0.204095870256, recall = 0.994921279837, precision = 0.727982162765\n",
      "Threshold 0.210207417607, recall = 0.994921279837, precision = 0.730697500932\n",
      "Threshold 0.215072482824, recall = 0.994921279837, precision = 0.733433171097\n",
      "Threshold 0.220950603485, recall = 0.994413407821, precision = 0.735813603908\n",
      "Threshold 0.227675914764, recall = 0.993905535805, precision = 0.738211995473\n",
      "Threshold 0.231395825744, recall = 0.992889791772, precision = 0.740249905339\n",
      "Threshold 0.244275212288, recall = 0.992889791772, precision = 0.743063473964\n",
      "Threshold 0.252906680107, recall = 0.992889791772, precision = 0.745898512018\n",
      "Threshold 0.261193215847, recall = 0.992381919756, precision = 0.74837227116\n",
      "Threshold 0.268363982439, recall = 0.992381919756, precision = 0.751249519416\n",
      "Threshold 0.274634629488, recall = 0.99187404774, precision = 0.753763025859\n",
      "Threshold 0.279561668634, recall = 0.99187404774, precision = 0.756683456025\n",
      "Threshold 0.28856831789, recall = 0.99187404774, precision = 0.759626604434\n",
      "Threshold 0.294039726257, recall = 0.991366175724, precision = 0.76220226474\n",
      "Threshold 0.302887320518, recall = 0.990350431691, precision = 0.764406115249\n",
      "Threshold 0.307423174381, recall = 0.989842559675, precision = 0.76702085793\n",
      "Threshold 0.316245436668, recall = 0.989842559675, precision = 0.770051363098\n",
      "Threshold 0.322450250387, recall = 0.989334687659, precision = 0.772709242364\n",
      "Threshold 0.33181142807, recall = 0.988826815642, precision = 0.775388291517\n",
      "Threshold 0.341796725988, recall = 0.987303199594, precision = 0.777289084366\n",
      "Threshold 0.349826574326, recall = 0.986795327577, precision = 0.780008028904\n",
      "Threshold 0.354914069176, recall = 0.986795327577, precision = 0.783151954857\n",
      "Threshold 0.366666644812, recall = 0.985779583545, precision = 0.785511938486\n",
      "Threshold 0.377636343241, recall = 0.985779583545, precision = 0.788703778952\n",
      "Threshold 0.384593456984, recall = 0.985271711529, precision = 0.791513667891\n",
      "Threshold 0.389200419188, recall = 0.984763839512, precision = 0.794346579271\n",
      "Threshold 0.401633739471, recall = 0.984255967496, precision = 0.797202797203\n",
      "Threshold 0.412880390882, recall = 0.982732351447, precision = 0.799256505576\n",
      "Threshold 0.425231307745, recall = 0.982224479431, precision = 0.802156781418\n",
      "Threshold 0.442092329264, recall = 0.981208735399, precision = 0.804664723032\n",
      "Threshold 0.45248311758, recall = 0.980192991366, precision = 0.807193642827\n",
      "Threshold 0.464954346418, recall = 0.97968511935, precision = 0.810163796724\n",
      "Threshold 0.477879673243, recall = 0.978161503301, precision = 0.812315478701\n",
      "Threshold 0.484312027693, recall = 0.977653631285, precision = 0.815332486235\n",
      "Threshold 0.494155853987, recall = 0.976130015236, precision = 0.817524457678\n",
      "Threshold 0.506513535976, recall = 0.97562214322, precision = 0.82058949167\n",
      "Threshold 0.515709102154, recall = 0.974606399187, precision = 0.823251823252\n",
      "Threshold 0.520824670792, recall = 0.973082783139, precision = 0.825506247307\n",
      "Threshold 0.529124140739, recall = 0.972574911122, precision = 0.828645607962\n",
      "Threshold 0.538998186588, recall = 0.971051295074, precision = 0.830943068231\n",
      "Threshold 0.552388966084, recall = 0.969019807009, precision = 0.832824094282\n",
      "Threshold 0.558757483959, recall = 0.966988318944, precision = 0.834721613327\n",
      "Threshold 0.567738413811, recall = 0.966480446927, precision = 0.837956847204\n",
      "Threshold 0.579002559185, recall = 0.965464702895, precision = 0.84077841663\n",
      "Threshold 0.591035544872, recall = 0.964448958862, precision = 0.843625055531\n",
      "Threshold 0.605690300465, recall = 0.963941086846, precision = 0.846943328871\n",
      "Threshold 0.617374360561, recall = 0.961909598781, precision = 0.84894666069\n",
      "Threshold 0.624038100243, recall = 0.961909598781, precision = 0.852769022963\n",
      "Threshold 0.632083654404, recall = 0.959878110716, precision = 0.854816824966\n",
      "Threshold 0.636776685715, recall = 0.958862366684, precision = 0.857791912767\n",
      "Threshold 0.645498394966, recall = 0.957338750635, precision = 0.860337745322\n",
      "Threshold 0.658936798573, recall = 0.95530726257, precision = 0.862448418157\n",
      "Threshold 0.672303259373, recall = 0.953275774505, precision = 0.864578535237\n",
      "Threshold 0.684363484383, recall = 0.950736414424, precision = 0.86626561777\n",
      "Threshold 0.692749738693, recall = 0.949212798375, precision = 0.86889818689\n",
      "Threshold 0.701113641262, recall = 0.94718131031, precision = 0.871088276506\n",
      "Threshold 0.708518922329, recall = 0.945149822245, precision = 0.873298920695\n",
      "Threshold 0.719391107559, recall = 0.942610462164, precision = 0.875058934465\n",
      "Threshold 0.726767539978, recall = 0.941594718131, precision = 0.878256750355\n",
      "Threshold 0.731660664082, recall = 0.939563230066, precision = 0.880533079486\n",
      "Threshold 0.74253898859, recall = 0.938039614017, precision = 0.88330942133\n",
      "Threshold 0.75097745657, recall = 0.936515997969, precision = 0.886112445939\n",
      "Threshold 0.756899952888, recall = 0.933976637887, precision = 0.887976822791\n",
      "Threshold 0.761767148972, recall = 0.930421533773, precision = 0.888888888889\n",
      "Threshold 0.769911468029, recall = 0.928390045708, precision = 0.891272549976\n",
      "Threshold 0.772669732571, recall = 0.926358557643, precision = 0.893679568839\n",
      "Threshold 0.778613090515, recall = 0.922295581513, precision = 0.894140817331\n",
      "Threshold 0.782987296581, recall = 0.919756221432, precision = 0.896091044038\n",
      "Threshold 0.787635505199, recall = 0.915693245302, precision = 0.896568871208\n",
      "Threshold 0.793547570705, recall = 0.914169629253, precision = 0.899550224888\n",
      "Threshold 0.798910617828, recall = 0.91061452514, precision = 0.900552486188\n",
      "Threshold 0.803792178631, recall = 0.908075165058, precision = 0.902574457345\n",
      "Threshold 0.809743463993, recall = 0.90655154901, precision = 0.905631659056\n",
      "Threshold 0.812640011311, recall = 0.903504316912, precision = 0.907190209077\n",
      "Threshold 0.815926074982, recall = 0.900457084815, precision = 0.908764736033\n",
      "Threshold 0.822430610657, recall = 0.897917724733, precision = 0.910870685214\n",
      "Threshold 0.826484680176, recall = 0.89436262062, precision = 0.91196271362\n",
      "Threshold 0.828647136688, recall = 0.891315388522, precision = 0.913586673607\n",
      "Threshold 0.832486927509, recall = 0.888268156425, precision = 0.915227629513\n",
      "Threshold 0.835310876369, recall = 0.885220924327, precision = 0.916885849553\n",
      "Threshold 0.83995205164, recall = 0.883189436262, precision = 0.919619249075\n",
      "Threshold 0.843618631363, recall = 0.880650076181, precision = 0.921850079745\n",
      "Threshold 0.846397995949, recall = 0.876587100051, precision = 0.922501336184\n",
      "Threshold 0.850364863873, recall = 0.873539867953, precision = 0.924234282644\n",
      "Threshold 0.852846086025, recall = 0.871000507872, precision = 0.926526202053\n",
      "Threshold 0.856132268906, recall = 0.867953275775, precision = 0.928299837045\n",
      "Threshold 0.857832729816, recall = 0.864906043677, precision = 0.93009284544\n",
      "Threshold 0.860592484474, recall = 0.861350939563, precision = 0.931356397584\n",
      "Threshold 0.8640589118, recall = 0.858811579482, precision = 0.933738266151\n",
      "Threshold 0.865441977978, recall = 0.854748603352, precision = 0.934480843976\n",
      "Threshold 0.867120623589, recall = 0.850177755206, precision = 0.934673366834\n",
      "Threshold 0.870475590229, recall = 0.847130523108, precision = 0.936552498596\n",
      "Threshold 0.872561752796, recall = 0.843067546978, precision = 0.937323546019\n",
      "Threshold 0.874863445759, recall = 0.841543930929, precision = 0.940942646224\n",
      "Threshold 0.877170860767, recall = 0.837480954799, precision = 0.941747572816\n",
      "Threshold 0.87864613533, recall = 0.832910106653, precision = 0.941987363584\n",
      "Threshold 0.880040168762, recall = 0.829355002539, precision = 0.943930635838\n",
      "Threshold 0.882514357567, recall = 0.825292026409, precision = 0.94476744186\n",
      "Threshold 0.884907782078, recall = 0.821229050279, precision = 0.945614035088\n",
      "Threshold 0.886551499367, recall = 0.818181818182, precision = 0.947647058824\n",
      "Threshold 0.888823628426, recall = 0.815642458101, precision = 0.950295857988\n",
      "Threshold 0.889887869358, recall = 0.812595226003, precision = 0.952380952381\n",
      "Threshold 0.891846656799, recall = 0.808532249873, precision = 0.953293413174\n",
      "Threshold 0.894045472145, recall = 0.805992889792, precision = 0.956024096386\n",
      "Threshold 0.895372331142, recall = 0.802437785678, precision = 0.957575757576\n",
      "Threshold 0.896715044975, recall = 0.798882681564, precision = 0.959146341463\n",
      "Threshold 0.897829115391, recall = 0.794819705434, precision = 0.960122699387\n",
      "Threshold 0.899481058121, recall = 0.790248857288, precision = 0.96049382716\n",
      "Threshold 0.900314927101, recall = 0.785678009142, precision = 0.960869565217\n",
      "Threshold 0.901796460152, recall = 0.782122905028, precision = 0.9625\n",
      "Threshold 0.903128027916, recall = 0.777552056882, precision = 0.962893081761\n",
      "Threshold 0.903926789761, recall = 0.774504824784, precision = 0.965189873418\n",
      "Threshold 0.905144751072, recall = 0.77094972067, precision = 0.966878980892\n",
      "Threshold 0.90671479702, recall = 0.76688674454, precision = 0.967948717949\n",
      "Threshold 0.907538771629, recall = 0.762315896394, precision = 0.968387096774\n",
      "Threshold 0.9085983634, recall = 0.758252920264, precision = 0.969480519481\n",
      "Threshold 0.909683585167, recall = 0.752666328085, precision = 0.969260954872\n",
      "Threshold 0.911074101925, recall = 0.747587607923, precision = 0.969058591178\n",
      "Threshold 0.912108182907, recall = 0.744540375825, precision = 0.971504307488\n",
      "Threshold 0.913612663746, recall = 0.739969527679, precision = 0.971981320881\n",
      "Threshold 0.914769589901, recall = 0.734890807517, precision = 0.971793149765\n",
      "Threshold 0.915778815746, recall = 0.729812087354, precision = 0.971602434077\n",
      "Threshold 0.916568875313, recall = 0.724733367191, precision = 0.971409121852\n",
      "Threshold 0.917462348938, recall = 0.720162519045, precision = 0.971898560658\n",
      "Threshold 0.918007135391, recall = 0.716607414931, precision = 0.973775017253\n",
      "Threshold 0.918749272823, recall = 0.712036566785, precision = 0.974287699792\n",
      "Threshold 0.919182538986, recall = 0.707973590655, precision = 0.975507347796\n",
      "Threshold 0.919808864594, recall = 0.703402742509, precision = 0.976039464412\n",
      "Threshold 0.920665323734, recall = 0.69781615033, precision = 0.975852272727\n",
      "Threshold 0.921413064003, recall = 0.693245302184, precision = 0.976394849785\n",
      "Threshold 0.922145247459, recall = 0.689182326054, precision = 0.977665706052\n",
      "Threshold 0.922945976257, recall = 0.684611477908, precision = 0.978229317852\n",
      "Threshold 0.923502087593, recall = 0.679532757745, precision = 0.978070175439\n",
      "Threshold 0.923753976822, recall = 0.674454037583, precision = 0.978629329403\n",
      "Threshold 0.924074828625, recall = 0.670391061453, precision = 0.980683506686\n",
      "Threshold 0.924322366714, recall = 0.665820213306, precision = 0.98128742515\n",
      "Threshold 0.924675822258, recall = 0.66124936516, precision = 0.981900452489\n",
      "Threshold 0.925025343895, recall = 0.657694261046, precision = 0.984042553191\n",
      "Threshold 0.925373911858, recall = 0.652615540884, precision = 0.983920367534\n",
      "Threshold 0.92594397068, recall = 0.647536820721, precision = 0.983796296296\n",
      "Threshold 0.926628172398, recall = 0.642965972575, precision = 0.984447900467\n",
      "Threshold 0.927182555199, recall = 0.638395124429, precision = 0.985109717868\n",
      "Threshold 0.927395641804, recall = 0.633316404266, precision = 0.984992101106\n",
      "Threshold 0.927853524685, recall = 0.628237684104, precision = 0.984872611465\n",
      "Threshold 0.928373456001, recall = 0.622651091925, precision = 0.984738955823\n",
      "Threshold 0.92883348465, recall = 0.618080243779, precision = 0.985425101215\n",
      "Threshold 0.929348170757, recall = 0.613509395632, precision = 0.98612244898\n",
      "Threshold 0.929624199867, recall = 0.60843067547, precision = 0.986008230453\n",
      "Threshold 0.930184662342, recall = 0.603859827324, precision = 0.986721991701\n",
      "Threshold 0.930504918098, recall = 0.598273235145, precision = 0.986599664992\n",
      "Threshold 0.930737733841, recall = 0.59217877095, precision = 0.986463620981\n",
      "Threshold 0.931080698967, recall = 0.586592178771, precision = 0.987179487179\n",
      "Threshold 0.931251764297, recall = 0.581513458608, precision = 0.987068965517\n",
      "Threshold 0.931491672993, recall = 0.57592686643, precision = 0.986945169713\n",
      "Threshold 0.931696712971, recall = 0.570848146267, precision = 0.986830553117\n",
      "Threshold 0.931899487972, recall = 0.564753682072, precision = 0.986690328305\n",
      "Threshold 0.932072341442, recall = 0.55967496191, precision = 0.987455197133\n",
      "Threshold 0.932276308537, recall = 0.554088369731, precision = 0.987330316742\n",
      "Threshold 0.932363510132, recall = 0.549009649568, precision = 0.987214611872\n",
      "Threshold 0.932429432869, recall = 0.542407313357, precision = 0.987060998152\n",
      "Threshold 0.932513833046, recall = 0.536312849162, precision = 0.987839101964\n",
      "Threshold 0.932621002197, recall = 0.530218384967, precision = 0.989573459716\n",
      "Threshold 0.932728469372, recall = 0.523616048756, precision = 0.989443378119\n",
      "Threshold 0.932808816433, recall = 0.518537328593, precision = 0.989341085271\n",
      "Threshold 0.932920575142, recall = 0.511427120366, precision = 0.989194499018\n",
      "Threshold 0.933007538319, recall = 0.506348400203, precision = 0.992039800995\n",
      "Threshold 0.933087527752, recall = 0.498730319959, precision = 0.991919191919\n",
      "Threshold 0.933180212975, recall = 0.490604367699, precision = 0.991786447639\n",
      "Threshold 0.933278620243, recall = 0.484002031488, precision = 0.991675338189\n",
      "Threshold 0.933362543583, recall = 0.474860335196, precision = 0.991516436903\n",
      "Threshold 0.93347877264, recall = 0.466226510919, precision = 0.991360691145\n",
      "Threshold 0.933667778969, recall = 0.458100558659, precision = 0.991208791209\n",
      "Threshold 0.93380934, recall = 0.45251396648, precision = 0.991101223582\n",
      "Threshold 0.93399220705, recall = 0.44438801422, precision = 0.99093997735\n",
      "Threshold 0.934100568295, recall = 0.434230573895, precision = 0.991879350348\n",
      "Threshold 0.93420034647, recall = 0.412899949213, precision = 0.992673992674\n",
      "Threshold 0.934358298779, recall = 0.403250380904, precision = 0.9925\n",
      "Threshold 0.934531509876, recall = 0.388014220416, precision = 0.992207792208\n",
      "Threshold 0.934650957584, recall = 0.377856780091, precision = 0.992\n",
      "Threshold 0.934790492058, recall = 0.344337227019, precision = 0.992679355783\n",
      "Threshold 0.935157716274, recall = 0.00660233621127, precision = 1.0\n"
     ]
    }
   ],
   "source": [
    "precision, recall, thresholds = sklearn.metrics.precision_recall_curve(testY, preds)\n",
    "for i in range(0,len(recall), 10):\n",
    "    print(\"Threshold {0}, recall = {1}, precision = {2}\".format(thresholds[i], recall[i], precision[i]))\n",
    "\n"
   ]
  },
  {
   "cell_type": "code",
   "execution_count": 24,
   "metadata": {
    "collapsed": false
   },
   "outputs": [
    {
     "name": "stdout",
     "output_type": "stream",
     "text": [
      "[ 0.93492424  0.93492424  0.28963953  0.93511927  0.93479049]\n",
      "1969 3031\n",
      "[ 1528.   242.   160.   121.    61.    62.    54.    40.    38.    29.\n",
      "    20.    20.    28.    26.    17.    22.    16.    18.    21.    15.\n",
      "    12.    11.    12.    11.    18.    12.    17.    13.    14.    15.\n",
      "    10.    11.    18.    17.     8.     8.    11.    12.    19.    12.\n",
      "    16.    15.    18.    17.    22.    24.    25.    31.    23.    41.]\n",
      "[   0    1    1    0    0    1    2    3    2    2    2    1    1    1    3\n",
      "    2    4    2    1    4    2    2    2    4    3    4    4    5    7    2\n",
      "    2    3    6    8    4    7    8    8    7   10   18   20   18   28   28\n",
      "   36   64   74  133 1406]\n"
     ]
    },
    {
     "data": {
      "text/plain": [
       "(0, 350)"
      ]
     },
     "execution_count": 24,
     "metadata": {},
     "output_type": "execute_result"
    },
    {
     "data": {
      "image/png": "[encoded data removed]",
      "text/plain": [
       "<matplotlib.figure.Figure at 0x7feaa03f74d0>"
      ]
     },
     "metadata": {},
     "output_type": "display_data"
    }
   ],
   "source": [
    "# Histogram:\n",
    "bins = 50\n",
    "Stable=preds[np.where(testY==1)]\n",
    "print Stable[:5][:]\n",
    "Unstable=preds[np.where(testY==0)]\n",
    "print Stable.size, Unstable.size\n",
    "\n",
    "\n",
    "fig, ax1 = plt.subplots()\n",
    "n, bins, pathces = ax1.hist(Unstable, bins, alpha=0.5, label='No', color='blue', edgecolor = \"black\")\n",
    "print n\n",
    "ax1.set_xlabel('Predicted Probability', fontsize=14)\n",
    "ax1.set_ylabel('Unstable',  fontsize=14, color='blue')\n",
    "for tl in ax1.get_yticklabels():\n",
    "    tl.set_color('blue')\n",
    "    \n",
    "\n",
    "\n",
    "ax2 = ax1.twinx()\n",
    "n, bins , patches = ax2.hist(Stable, bins, alpha=0.5, label='Yes',color='green', edgecolor = \"black\")\n",
    "print n.astype(int)\n",
    "ax2.set_ylabel('Stable', fontsize=14, color='green')\n",
    "for tl in ax2.get_yticklabels():\n",
    "    tl.set_color('green')\n",
    "    \n",
    "    \n",
    "#ax1.set_ylim(ax2.get_ylim())\n",
    "ax1.set_ylim([0,350]) # goes up to ~4300\n",
    "ax2.set_ylim([0,350]) # goes up to ~2100"
   ]
  },
  {
   "cell_type": "code",
   "execution_count": 25,
   "metadata": {
    "collapsed": true
   },
   "outputs": [],
   "source": [
    "gains = bst.get_score(importance_type='gain')\n",
    "total_gains = np.sum(gains.values())\n",
    "#print gains.keys()\n",
    "#print gains.values()/total_gains*100.\n",
    "#print np.sum(gains.values()/total_gains*100.)\n",
    "a = {k: v / total_gains*100. for k, v in gains.iteritems()}"
   ]
  },
  {
   "cell_type": "code",
   "execution_count": 26,
   "metadata": {
    "collapsed": false
   },
   "outputs": [
    {
     "name": "stdout",
     "output_type": "stream",
     "text": [
      "{'norm_a1_slope': 0.97611038164275388, 'avg_iH2': 0.79760242478138688, 'avg_iH1': 0.80787570853163948, 'std_ecross3': 2.1869551665694495, 'norm_std_a3': 0.66908786677762322, 'norm_std_a2': 0.43957099421477619, 'norm_std_a1': 0.88441831313319696, 'max_beta23': 1.4321359545391008, 'std_beta12': 33.256554776790367, 'norm_std_window10_a1': 0.7187608467352502, 'norm_std_window10_a2': 0.62322454042953013, 'norm_std_window10_a3': 0.86414300019839363, 'avg_ecross3': 2.4697844600942789, 'avg_ecross2': 1.4733526520196181, 'avg_ecross1': 1.5953122791272021, 'avg_beta23': 0.78524026995665541, 'min_beta12': 1.1627994270480309, 'max_ecross1': 2.0245122132431908, 'max_ecross3': 1.9277089217245289, 'norm_max_a3': 0.89266974395685628, 'norm_a3_slope': 0.89816122168971058, 'norm_a2_slope': 1.3669854953447211, 'avg_beta12': 0.83324752297744553, 'norm_max_a1': 0.69960378349125363, 'norm_max_a2': 8.7139015472822514, 'std_beta23': 7.0485059971215627, 'max_beta12': 0.75704451496895209, 'max_ecross2': 15.06712526189119, 'min_ecross3': 0.94082303665608913, 'min_ecross2': 1.0193255901170328, 'min_ecross1': 0.8373636603897523, 'std_ecross1': 0.71960223352372643, 'std_ecross2': 1.4334313275171526, 'min_beta23': 1.1405642944863283, 'norm_max_window10_a1': 0.88498913053522177, 'norm_max_window10_a3': 0.72436672989923778, 'norm_max_window10_a2': 0.92713871059456643}\n"
     ]
    }
   ],
   "source": [
    "print a"
   ]
  },
  {
   "cell_type": "markdown",
   "metadata": {},
   "source": [
    "IGNORE THE REST, THIS IS FOR FURTHER OPTIMIZATION"
   ]
  },
  {
   "cell_type": "markdown",
   "metadata": {
    "collapsed": false
   },
   "source": [
    "#continue optimization from where we left off\n",
    "#trials = Trials()\n",
    "import time\n",
    "start = time.time()\n",
    "best = fmin(fn=objective, space = space, algo = tpe.suggest, max_evals = 200, trials = trials)\n",
    "end = time.time()\n",
    "print(\"Optimization Time: %f seconds\", (end  -start))"
   ]
  },
  {
   "cell_type": "markdown",
   "metadata": {
    "collapsed": false
   },
   "source": [
    "best"
   ]
  },
  {
   "cell_type": "markdown",
   "metadata": {
    "collapsed": false
   },
   "source": [
    "#switch to the traditional 80 20 slipt, dont know why i did the 40 60 split before\n",
    "Nrows = int(0.8*X.shape[0])\n",
    "trainX = X.iloc[:Nrows, :]\n",
    "trainY = y.iloc[:Nrows]\n",
    "testX = X.iloc[Nrows:, :]\n",
    "testY = y.iloc[Nrows:]\n",
    "\n",
    "\n",
    "\n",
    "best_xgbc = XGBClassifier(n_estimators=100, scale_pos_weight=best[\"x_pos_weight\"],\n",
    "                         learning_rate = best[\"x_learning_rate\"], \n",
    "                         max_depth = int(best[\"x_max_depth\"]), \n",
    "                         min_child_weight = best[\"x_min_child\"],\n",
    "                         subsample = best[\"x_subsample\"], \n",
    "                         colsample_bytree = best[\"x_tree_colsample\"], seed = 0)\n",
    "params = best_xgbc.get_xgb_params()\n",
    "#score = xgb.cv(params, dtrain, nfold = 5, metrics = \"auc\", verbose_eval=True)\n",
    "#print score\n",
    "d_Train = xgb.DMatrix(trainX, trainY)\n",
    "d_Test = xgb.DMatrix(testX)\n",
    "bst = xgb.train(params, d_Train)\n",
    "preds = bst.predict(d_Test)\n",
    "score = metrics.average_precision_score(testY, preds)\n",
    "print score"
   ]
  },
  {
   "cell_type": "markdown",
   "metadata": {
    "collapsed": false
   },
   "source": [
    "#the ROCAUC score is now 98.0 witht eh 2080 split compared to the 40 60 from before \n",
    "from sklearn.metrics import roc_curve\n",
    "fpr, tpr, thresholds = roc_curve(testY, preds)\n",
    "fig, ax = plt.subplots()\n",
    "ax.plot(fpr, tpr)\n",
    "ax.plot([0, 1], [0, 1], 'k--')\n",
    "ax.set_xlim([0.0, 1.0])\n",
    "ax.set_ylim([0.0, 1.0])\n",
    "ax.set_xlabel('False Positive Rate')\n",
    "ax.set_ylabel('True Positive Rate')\n",
    "ax.set_title('ROC curve (AUC = {0:.3f})'.format(metrics.roc_auc_score(testY, preds)))"
   ]
  },
  {
   "cell_type": "markdown",
   "metadata": {
    "collapsed": false
   },
   "source": [
    "#continue optimization from where we left off\n",
    "#trials = Trials()\n",
    "#import time\n",
    "start = time.time()\n",
    "best = fmin(fn=objective, space = space, algo = tpe.suggest, max_evals = 200, trials = trials)\n",
    "end = time.time()\n",
    "print(\"Optimization Time: %f seconds\", (end  -start))"
   ]
  },
  {
   "cell_type": "markdown",
   "metadata": {
    "collapsed": false
   },
   "source": [
    "print len(trials.trials)\n",
    "#for i in range(200)\n",
    "complete_results = [x[\"result\"][\"cv_score\"] for x in trials]\n",
    "print np.max(complete_results)\n",
    "#print trials.trials[\"result\"][\"cv_score\"]"
   ]
  },
  {
   "cell_type": "markdown",
   "metadata": {
    "collapsed": true
   },
   "source": [
    "#continue optimization from where we left off\n",
    "#trials = Trials()\n",
    "#import time\n",
    "start = time.time()\n",
    "best = fmin(fn=objective, space = space, algo = tpe.suggest, max_evals = 240, trials = trials)\n",
    "end = time.time()\n",
    "print(\"Optimization Time: %f seconds\", (end  -start))"
   ]
  },
  {
   "cell_type": "markdown",
   "metadata": {
    "collapsed": true
   },
   "source": [
    "best_xgbc = XGBClassifier(n_estimators=100, scale_pos_weight=best[\"x_pos_weight\"],\n",
    "                         learning_rate = best[\"x_learning_rate\"], \n",
    "                         max_depth = int(best[\"x_max_depth\"]), \n",
    "                         min_child_weight = best[\"x_min_child\"],\n",
    "                         subsample = best[\"x_subsample\"], \n",
    "                         colsample_bytree = best[\"x_tree_colsample\"], seed = 0)\n",
    "params = best_xgbc.get_xgb_params()"
   ]
  },
  {
   "cell_type": "markdown",
   "metadata": {
    "collapsed": false
   },
   "source": [
    "bst = xgb.train(params, d_Train)\n",
    "preds = bst.predict(d_Test)\n",
    "score = metrics.average_precision_score(testY, preds)\n",
    "print score\n",
    "#the ROCAUC score is now 98.0 witht eh 2080 split compared to the 40 60 from before \n",
    "from sklearn.metrics import roc_curve\n",
    "fpr, tpr, thresholds = roc_curve(testY, preds)\n",
    "fig, ax = plt.subplots()\n",
    "ax.plot(fpr, tpr)\n",
    "ax.plot([0, 1], [0, 1], 'k--')\n",
    "ax.set_xlim([0.0, 1.0])\n",
    "ax.set_ylim([0.0, 1.0])\n",
    "ax.set_xlabel('False Positive Rate')\n",
    "ax.set_ylabel('True Positive Rate')\n",
    "ax.set_title('ROC curve (AUC = {0:.3f})'.format(metrics.roc_auc_score(testY, preds)))"
   ]
  },
  {
   "cell_type": "markdown",
   "metadata": {
    "collapsed": false
   },
   "source": [
    "print best"
   ]
  },
  {
   "cell_type": "code",
   "execution_count": null,
   "metadata": {
    "collapsed": true
   },
   "outputs": [],
   "source": []
  }
 ],
 "metadata": {
  "anaconda-cloud": {},
  "kernelspec": {
   "display_name": "Python [default]",
   "language": "python",
   "name": "python2"
  },
  "language_info": {
   "codemirror_mode": {
    "name": "ipython",
    "version": 2
   },
   "file_extension": ".py",
   "mimetype": "text/x-python",
   "name": "python",
   "nbconvert_exporter": "python",
   "pygments_lexer": "ipython2",
   "version": "2.7.12"
  }
 },
 "nbformat": 4,
 "nbformat_minor": 2
}
