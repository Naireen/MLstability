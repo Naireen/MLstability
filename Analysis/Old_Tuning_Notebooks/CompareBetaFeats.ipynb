{
 "cells": [
  {
   "cell_type": "markdown",
   "metadata": {},
   "source": [
    "This can be used to take a model, with parameters copied from the UpdatedScoresNewFeatures after using Hyperopt (for 40 and 200 iterations). Theres also another set of parameters. Use the other set to regenerate presentation plot. "
   ]
  },
  {
   "cell_type": "code",
   "execution_count": 66,
   "metadata": {
    "collapsed": true
   },
   "outputs": [],
   "source": [
    "import numpy as np\n",
    "import sklearn\n",
    "import matplotlib\n",
    "from matplotlib import pyplot as plt\n",
    "%matplotlib inline\n",
    "import pandas as pd\n",
    "from sklearn import metrics\n",
    "from sklearn.model_selection import cross_val_score\n",
    "from matplotlib import rc\n",
    "from matplotlib import cm\n",
    "from mpl_toolkits.mplot3d import axes3d\n",
    "from matplotlib.ticker import MaxNLocator\n",
    "import scipy.signal\n",
    "import xgboost as xgb\n",
    "from xgboost.sklearn import XGBClassifier\n"
   ]
  },
  {
   "cell_type": "code",
   "execution_count": 103,
   "metadata": {},
   "outputs": [],
   "source": [
    "#params taken form UpdatseScore notebook after tuning\n",
    "#first 40 iterations\n",
    "best = {'x_pos_weight': 5.432757477557094, 'x_learning_rate': 0.18583963071918821,\n",
    "        'x_max_depth': 19, 'x_min_child': 5.0, 'x_tree_colsample': 0.8203255474481522, \n",
    "        'x_subsample': 0.9240900737077349}\n",
    "\n",
    "\n",
    "#after a total of 200 iterations\n",
    "best = {'x_pos_weight': 6.606175001822464, 'x_learning_rate': 0.16789058169707416, \n",
    "         'x_max_depth': 13, 'x_min_child': 7.0, 'x_tree_colsample': 0.7158073319959313,\n",
    "         'x_subsample': 0.9872987553651339}\n",
    "\n",
    "\n",
    "xgbc = XGBClassifier(n_estimators=100, scale_pos_weight=best2[\"x_pos_weight\"], seed = 0, \n",
    "                    learning_rate = best2[\"x_learning_rate\"], max_depth = best2[\"x_max_depth\"], \n",
    "                     min_child_weight = best2[\"x_min_child\"], colsample_bytree= best2[\"x_tree_colsample\"],\n",
    "                     subsample = best2[\"x_subsample\"]\n",
    "                    ) \n",
    "\n",
    "\n",
    "#params used for plot in presentation\n",
    "xgbc = XGBClassifier(n_estimators=100, scale_pos_weight=10, seed = 0, \n",
    "                    learning_rate = 0.05, max_depth = 10, \n",
    "                     min_child_weight = 3, colsample_bytree= 0.8,\n",
    "                     subsample = 0.95\n",
    "                    ) \n",
    "\n",
    "params = xgbc.get_xgb_params()"
   ]
  },
  {
   "cell_type": "code",
   "execution_count": 97,
   "metadata": {},
   "outputs": [
    {
     "name": "stdout",
     "output_type": "stream",
     "text": [
      "['sifOrbs=100000.0Nout=100window=10.csv'\n",
      " 'sifOrbs=10000.0Nout=100window=10.csv'\n",
      " 'sifOrbs=100.0Nout=100window=10.csv' 'sifOrbs=10.0Nout=100window=10.csv'\n",
      " 'sifOrbs=32000.0Nout=100window=10.csv'\n",
      " 'sifOrbs=3200.0Nout=100window=10.csv']\n",
      "['sifOrbsMore=1000.0Nout=100window=10.csv'\n",
      " 'sifOrbsMore=100.0Nout=100window=10.csv'\n",
      " 'sifOrbsMore=10.0Nout=100window=10.csv'\n",
      " 'sifOrbsMore=32000.0Nout=100window=10.csv'\n",
      " 'sifOrbsMore=3200.0Nout=100window=10.csv'\n",
      " 'sifOrbsMore=320.0Nout=100window=10.csv'\n",
      " 'sifOrbsMore=32.0Nout=100window=10.csv']\n"
     ]
    }
   ],
   "source": [
    "data_order2 = np.loadtxt(\"../csvs/BetaFeats/Order.txt\", dtype= str)\n",
    "#print data_order\n",
    "data_order = np.loadtxt(\"../csvs/NoLyapanovTime/Order.txt\", dtype=str)\n",
    "print data_order\n",
    "print data_order2[1:]"
   ]
  },
  {
   "cell_type": "code",
   "execution_count": 98,
   "metadata": {
    "collapsed": true
   },
   "outputs": [],
   "source": [
    "features = []\n",
    "features += ['avg_iH1', 'avg_iH2']\n",
    "features += ['norm_std_a1', 'norm_max_a1', 'norm_std_window10_a1', 'norm_max_window10_a1']\n",
    "features += ['norm_std_a2', 'norm_max_a2', 'norm_std_window10_a2', 'norm_max_window10_a2']\n",
    "features += ['norm_std_a3', 'norm_max_a3', 'norm_std_window10_a3', 'norm_max_window10_a3']\n",
    "features += ['avg_ecross1', 'std_ecross1', 'max_ecross1', 'min_ecross1']\n",
    "features += ['avg_ecross2', 'std_ecross2', 'max_ecross2', 'min_ecross2']\n",
    "features += ['avg_ecross3', 'std_ecross3', 'max_ecross3', 'min_ecross3']\n",
    "features += ['norm_a1_slope', 'norm_a2_slope', 'norm_a3_slope']\n",
    "\n",
    "features2  = features[:]+ ['avg_beta12','std_beta12','min_beta12','max_beta12','avg_beta23','std_beta23','min_beta23','max_beta23'] \n"
   ]
  },
  {
   "cell_type": "code",
   "execution_count": 99,
   "metadata": {},
   "outputs": [
    {
     "name": "stdout",
     "output_type": "stream",
     "text": [
      "time: 0.185106992722\n",
      "0.969605778749\n",
      "[ 10000.      0.      0.      0.      0.      0.      0.      0.]\n",
      "time: 0.196925163269\n",
      "0.9652255807\n",
      "[ 10000.   1000.      0.      0.      0.      0.      0.      0.]\n",
      "time: 0.19228720665\n",
      "0.961754672763\n",
      "[ 10000.   1000.    100.      0.      0.      0.      0.      0.]\n",
      "time: 0.182945966721\n",
      "0.954569594233\n",
      "[ 10000.   1000.    100.     10.      0.      0.      0.      0.]\n",
      "time: 0.157865047455\n",
      "0.974467913083\n",
      "[  1.00000000e+04   1.00000000e+03   1.00000000e+02   1.00000000e+01\n",
      "   3.20000000e+04   0.00000000e+00   0.00000000e+00   0.00000000e+00]\n",
      "time: 0.169247150421\n",
      "0.96744868529\n",
      "[  1.00000000e+04   1.00000000e+03   1.00000000e+02   1.00000000e+01\n",
      "   3.20000000e+04   3.20000000e+03   0.00000000e+00   0.00000000e+00]\n",
      "time: 0.190459012985\n",
      "0.962397086175\n",
      "[  1.00000000e+04   1.00000000e+03   1.00000000e+02   1.00000000e+01\n",
      "   3.20000000e+04   3.20000000e+03   3.20000000e+02   0.00000000e+00]\n",
      "time: 0.180280923843\n",
      "0.959509814866\n",
      "[  1.00000000e+04   1.00000000e+03   1.00000000e+02   1.00000000e+01\n",
      "   3.20000000e+04   3.20000000e+03   3.20000000e+02   3.20000000e+01]\n"
     ]
    }
   ],
   "source": [
    "import time\n",
    "#without beta feats\n",
    "\n",
    "\n",
    "#with beta feats\n",
    "long_walltime = np.zeros(len(data_order2)) # time for just lyafeat\n",
    "long_score = np.zeros_like(long_walltime)#avg time for the rest of feats\n",
    "long_orbits = np.zeros_like(long_walltime)\n",
    "#cv_score\n",
    "#total_length = max(len(data_order), len(data_order2))\n",
    "\n",
    "\n",
    "for i in range(len(data_order2)):\n",
    "    long_orbits[i] = float(data_order2[i].split(\"=\")[1].split(\".\")[0])\n",
    "    data = pd.read_csv(\"../csvs/BetaFeats/\"+data_order2[i], index_col =0)\n",
    "    X = data[features2]\n",
    "    Y = data[\"Stable\"]\n",
    "    trainX, testX, trainY, testY= sklearn.model_selection.train_test_split(X, Y, test_size = 0.2, random_state = 0, stratify = Y)\n",
    "\n",
    "    long_walltime[i] = np.average(data[\"wall_time\"])\n",
    "    dtrain = xgb.DMatrix(trainX, trainY)\n",
    "    dtest = xgb.DMatrix(testX)\n",
    "    start = time.time()\n",
    "    #score = xgb.cv(params, dtrain, nfold = 5, metrics = \"auc\")\n",
    "    bst = xgb.train(params, dtrain)\n",
    "    end = time.time()\n",
    "    print \"time:\", end - start\n",
    "    preds = bst.predict(dtest)\n",
    "    long_score[i] = metrics.average_precision_score(testY, preds)\n",
    "    print long_score[i]\n",
    "    print long_orbits"
   ]
  },
  {
   "cell_type": "code",
   "execution_count": 100,
   "metadata": {},
   "outputs": [
    {
     "name": "stdout",
     "output_type": "stream",
     "text": [
      "time: 0.202546834946\n",
      "0.97211359353\n",
      "[ 100000.       0.       0.       0.       0.       0.]\n",
      "time: 0.179147958755\n",
      "0.962803916365\n",
      "[ 100000.   10000.       0.       0.       0.       0.]\n",
      "time: 0.181427001953\n",
      "0.95281593142\n",
      "[ 100000.   10000.     100.       0.       0.       0.]\n",
      "time: 1.80860900879\n",
      "0.942500689837\n",
      "[  1.00000000e+05   1.00000000e+04   1.00000000e+02   1.00000000e+01\n",
      "   0.00000000e+00   0.00000000e+00]\n",
      "time: 7.11826992035\n",
      "0.967404409923\n",
      "[  1.00000000e+05   1.00000000e+04   1.00000000e+02   1.00000000e+01\n",
      "   3.20000000e+04   0.00000000e+00]\n",
      "time: 0.176981925964\n",
      "0.892449832648\n",
      "[  1.00000000e+05   1.00000000e+04   1.00000000e+02   1.00000000e+01\n",
      "   3.20000000e+04   3.20000000e+03]\n"
     ]
    }
   ],
   "source": [
    "short_walltime = np.zeros(len(data_order))\n",
    "short_score = np.zeros_like(short_walltime)\n",
    "short_orbits = np.zeros_like(short_walltime)\n",
    "\n",
    "for i in range(len(short_walltime)):\n",
    "    short_orbits[i] = float(data_order[i].split(\"=\")[1].split(\".\")[0])\n",
    "    data = pd.read_csv(\"../csvs/NoLyapanovTime/\"+data_order[i], index_col =0)\n",
    "    X = data[features]\n",
    "    Y = data[\"Stable\"]\n",
    "    trainX, testX, trainY, testY= sklearn.model_selection.train_test_split(X, Y, test_size = 0.2, random_state = 0, stratify = Y)\n",
    "\n",
    "    short_walltime[i] = np.average(data[\"wall_time\"])\n",
    "    dtrain = xgb.DMatrix(trainX, trainY)\n",
    "    dtest = xgb.DMatrix(testX)\n",
    "    start = time.time()\n",
    "    #score = xgb.cv(params, dtrain, nfold = 5, metrics = \"auc\")\n",
    "    bst = xgb.train(params, dtrain)\n",
    "    end = time.time()\n",
    "    print \"time:\", end - start\n",
    "    preds = bst.predict(dtest)\n",
    "    short_score[i] = metrics.average_precision_score(testY, preds)\n",
    "    print short_score[i]\n",
    "    print short_orbits"
   ]
  },
  {
   "cell_type": "code",
   "execution_count": 101,
   "metadata": {},
   "outputs": [
    {
     "data": {
      "image/png": "[encoded data removed]",
      "text/plain": [
       "<matplotlib.figure.Figure at 0x7f94d8095790>"
      ]
     },
     "metadata": {},
     "output_type": "display_data"
    }
   ],
   "source": [
    "fig = plt.figure(figsize=(12, 8))\n",
    "ax = fig.add_subplot(\"111\")\n",
    "ax.scatter(short_orbits, short_score, color  = \"green\", label= \"Scores without Beta Features\")\n",
    "ax.scatter(long_orbits, long_score, color  = \"purple\", label= \"Scores with Beta Features\")\n",
    "\n",
    "ax.legend(loc = 4)\n",
    "ax.set_xscale(\"log\")\n",
    "ax2 = ax.twinx()\n",
    "ax2.scatter(long_orbits, long_walltime, color = \"purple\",marker = \"x\", label= \"Wall time with Beta Features\")\n",
    "ax2.scatter(short_orbits, short_walltime, color = \"green\",marker = \"x\", label= \"Wall time without Beta Features\")\n",
    "ax2.legend(loc = 2)\n",
    "ax.set_xlabel(\"Orbital Integration Length\")\n",
    "ax.set_ylabel(\"AUC Score\")\n",
    "ax2.set_ylabel(\"Wall time (s) per System\")\n",
    "ax2.set_yscale(\"log\")\n",
    "fig.show()\n"
   ]
  },
  {
   "cell_type": "code",
   "execution_count": 102,
   "metadata": {
    "collapsed": true
   },
   "outputs": [],
   "source": [
    "#import pickle\n",
    "#pickle.dump(bst ,open(\"Testing/XGBmodel_SepFile.pkl\", 'wb'))\n"
   ]
  },
  {
   "cell_type": "code",
   "execution_count": null,
   "metadata": {},
   "outputs": [],
   "source": []
  },
  {
   "cell_type": "code",
   "execution_count": null,
   "metadata": {
    "collapsed": true
   },
   "outputs": [],
   "source": []
  }
 ],
 "metadata": {
  "kernelspec": {
   "display_name": "Python 2",
   "language": "python",
   "name": "python2"
  },
  "language_info": {
   "codemirror_mode": {
    "name": "ipython",
    "version": 2
   },
   "file_extension": ".py",
   "mimetype": "text/x-python",
   "name": "python",
   "nbconvert_exporter": "python",
   "pygments_lexer": "ipython2",
   "version": "2.7.13"
  }
 },
 "nbformat": 4,
 "nbformat_minor": 2
}
