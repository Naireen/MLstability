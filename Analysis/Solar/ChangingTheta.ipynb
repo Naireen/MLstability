{
 "cells": [
  {
   "cell_type": "code",
   "execution_count": 1,
   "metadata": {
    "collapsed": true
   },
   "outputs": [],
   "source": [
    "from scipy import stats\n",
    "import pandas as pd\n",
    "import numpy as np\n",
    "import matplotlib\n",
    "from matplotlib import pyplot as plt\n",
    "import time\n",
    "%matplotlib inline\n",
    "import scipy"
   ]
  },
  {
   "cell_type": "code",
   "execution_count": 2,
   "metadata": {
    "collapsed": false
   },
   "outputs": [
    {
     "name": "stdout",
     "output_type": "stream",
     "text": [
      "(1000,)\n"
     ]
    },
    {
     "data": {
      "image/png": "[encoded data removed]",
      "text/plain": [
       "<matplotlib.figure.Figure at 0x7fbb32eeac18>"
      ]
     },
     "metadata": {},
     "output_type": "display_data"
    }
   ],
   "source": [
    "times = pd.read_csv(\"../../csvs/Solar_feats/solar_4_1e9_1000.csv\", index_col=0)\n",
    "del times[\"Unnamed: 0.1\"]\n",
    "#times = times[times[\"t\"]!= np.nan]\n",
    "vals = times[\"t\"].values\n",
    "vals = np.nan_to_num(vals)\n",
    "vals = vals[np.where(vals !=0)[0]]\n",
    "vals = vals/2./np.pi\n",
    "vals = np.log10(vals)\n",
    "fig, ax = plt.subplots(1, figsize  = (8, 5))\n",
    "#ax.set_title(name)\n",
    "ax.set_xlabel(\"time t\")\n",
    "bins = np.linspace(2, 5, 30)\n",
    "n, bins, patches =  ax.hist(vals, bins = bins, alpha=0.7)\n",
    "\n",
    "times = pd.read_csv(\"../../csvs/Solar_feats/solar_4_1e9_omega_1000.csv\", index_col=0)\n",
    "del times[\"Unnamed: 0.1\"]\n",
    "#times = times[times[\"t\"]!= np.nan]\n",
    "vals2 = times[\"t\"].values\n",
    "print(vals2.shape)\n",
    "vals2 = np.nan_to_num(vals2)\n",
    "vals2 = vals2[np.where(vals2 !=0)[0]]\n",
    "vals2 = vals2/2./np.pi\n",
    "vals2 = np.log10(vals2)\n",
    "#fig, ax = plt.subplots(1, figsize  = (8, 5))\n",
    "#ax.set_title(name)\n",
    "ax.set_xlabel(\"time t\")\n",
    "ax.hist(vals2, bins = bins, alpha  = 0.7)\n",
    "plt.show()"
   ]
  },
  {
   "cell_type": "code",
   "execution_count": 3,
   "metadata": {
    "collapsed": false
   },
   "outputs": [
    {
     "name": "stdout",
     "output_type": "stream",
     "text": [
      "[ 11097.02202831   6906.69530628   8495.07503648   7817.69921415\n",
      "   7836.07601423   8528.36131816   7716.73082709   9575.49224756\n",
      "   8917.94949916   9011.42847448]\n",
      "[  7554.25216788  14503.66486933   8534.81053488   8975.09094941\n",
      "   7249.7520438   20410.66219423   8027.81886499   6821.46855338\n",
      "   9010.73500957   8787.57822806]\n"
     ]
    },
    {
     "data": {
      "image/png": "[encoded data removed]",
      "text/plain": [
       "<matplotlib.figure.Figure at 0x7fbb2b072518>"
      ]
     },
     "metadata": {},
     "output_type": "display_data"
    }
   ],
   "source": [
    "times = pd.read_csv(\"../../csvs/Solar_feats/solar_3.5_1e9_1000.csv\", index_col=0)\n",
    "del times[\"Unnamed: 0.1\"]\n",
    "#times = times[times[\"t\"]!= np.nan]\n",
    "vals = times[\"t\"].values\n",
    "print(vals[:10])\n",
    "vals = np.nan_to_num(vals)\n",
    "vals = vals[np.where(vals !=0)[0]]\n",
    "vals = vals/2./np.pi\n",
    "vals = np.log10(vals)\n",
    "fig, ax = plt.subplots(1, figsize  = (8, 5))\n",
    "#ax.set_title(name)\n",
    "ax.set_xlabel(\"time t\")\n",
    "bins = np.linspace(2, 5, 30)\n",
    "n, bins, patches =  ax.hist(vals, bins = bins, alpha=0.7)\n",
    "\n",
    "times = pd.read_csv(\"../../csvs/Solar_feats/solar_3.5_1e9_omega_1000.csv\", index_col=0)\n",
    "del times[\"Unnamed: 0.1\"]\n",
    "#times = times[times[\"t\"]!= np.nan]\n",
    "vals2 = times[\"t\"].values\n",
    "print(vals2[:10])\n",
    "vals2 = np.nan_to_num(vals2)\n",
    "vals2 = vals2[np.where(vals2 !=0)[0]]\n",
    "vals2 = vals2/2./np.pi\n",
    "vals2 = np.log10(vals2)\n",
    "#fig, ax = plt.subplots(1, figsize  = (8, 5))\n",
    "#ax.set_title(name)\n",
    "ax.set_xlabel(\"time t\")\n",
    "ax.hist(vals2, bins = bins, alpha  = 0.7)\n",
    "plt.show()"
   ]
  },
  {
   "cell_type": "code",
   "execution_count": 13,
   "metadata": {
    "collapsed": false
   },
   "outputs": [
    {
     "name": "stdout",
     "output_type": "stream",
     "text": [
      "[ 5148143.9054209   5175636.08503795  5188029.26089236  4839877.78537448\n",
      "  5465699.74060706  5221643.20365276  5053980.20616394  5204420.74321392\n",
      "  5207929.04742616  5169756.20221461]\n",
      "[ 1688117.84080183  5051536.23077678  1706929.44390533  1501280.21102642\n",
      "  4841246.54502599   527287.91062696  4965500.55633975  5032007.37730769\n",
      "  3902307.33663059  4121318.16917295]\n"
     ]
    },
    {
     "data": {
      "image/png": "[encoded data removed]",
      "text/plain": [
       "<matplotlib.figure.Figure at 0x7fbb2ab8ecc0>"
      ]
     },
     "metadata": {},
     "output_type": "display_data"
    }
   ],
   "source": [
    "times = pd.read_csv(\"../../csvs/Solar_feats/solar_3_1e9_1000.csv\", index_col=0)\n",
    "del times[\"Unnamed: 0.1\"]\n",
    "#times = times[times[\"t\"]!= np.nan]\n",
    "vals = times[\"t\"].values\n",
    "print(vals[:10])\n",
    "vals = np.nan_to_num(vals)\n",
    "vals = vals[np.where(vals !=0)[0]]\n",
    "vals = vals/2./np.pi\n",
    "vals = np.log10(vals)\n",
    "fig, ax = plt.subplots(1, figsize  = (8, 5))\n",
    "#ax.set_title(name)\n",
    "ax.set_xlabel(\"time t\")\n",
    "bins = np.linspace(4, 6.5, 30)\n",
    "ax.hist(vals, bins = bins, alpha=0.7)\n",
    "\n",
    "times = pd.read_csv(\"../../csvs/Solar_feats/solar_3_1e9_omega_1000.csv\", index_col=0)\n",
    "del times[\"Unnamed: 0.1\"]\n",
    "#times = times[times[\"t\"]!= np.nan]\n",
    "vals2 = times[\"t\"].values\n",
    "print(vals2[:10])\n",
    "vals2 = np.nan_to_num(vals2)\n",
    "vals2 = vals2[np.where(vals2 !=0)[0]]\n",
    "vals2 = vals2/2./np.pi\n",
    "vals2 = np.log10(vals2)\n",
    "#fig, ax = plt.subplots(1, figsize  = (8, 5))\n",
    "#ax.set_title(name)\n",
    "ax.set_xlabel(\"time t\")\n",
    "ax.hist(vals2, bins = bins, alpha  = 0.7)\n",
    "plt.show()"
   ]
  },
  {
   "cell_type": "code",
   "execution_count": null,
   "metadata": {
    "collapsed": true
   },
   "outputs": [],
   "source": []
  }
 ],
 "metadata": {
  "anaconda-cloud": {},
  "kernelspec": {
   "display_name": "Python [conda env:CSC401]",
   "language": "python",
   "name": "conda-env-CSC401-py"
  },
  "language_info": {
   "codemirror_mode": {
    "name": "ipython",
    "version": 3
   },
   "file_extension": ".py",
   "mimetype": "text/x-python",
   "name": "python",
   "nbconvert_exporter": "python",
   "pygments_lexer": "ipython3",
   "version": "3.6.3"
  }
 },
 "nbformat": 4,
 "nbformat_minor": 1
}
