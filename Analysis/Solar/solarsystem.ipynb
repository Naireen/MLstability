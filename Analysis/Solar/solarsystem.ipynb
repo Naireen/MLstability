{
 "cells": [
  {
   "cell_type": "code",
   "execution_count": 1,
   "metadata": {
    "collapsed": true
   },
   "outputs": [],
   "source": [
    "import rebound\n",
    "import reboundx\n",
    "import numpy as np\n",
    "import matplotlib.pyplot as plt\n",
    "%matplotlib inline"
   ]
  },
  {
   "cell_type": "code",
   "execution_count": 23,
   "metadata": {
    "collapsed": false
   },
   "outputs": [
    {
     "name": "stdout",
     "output_type": "stream",
     "text": [
      "Searching NASA Horizons for 'Sun'... Found: Sun (10).\n",
      "Searching NASA Horizons for 'Mercury'... Found: Mercury Barycenter (199).\n",
      "Searching NASA Horizons for 'Venus'... Found: Venus Barycenter (299).\n",
      "Searching NASA Horizons for 'Earth'... Found: Earth-Moon Barycenter (3).\n",
      "Searching NASA Horizons for 'Mars'... Found: Mars Barycenter (4).\n",
      "Searching NASA Horizons for 'Jupiter'... Found: Jupiter Barycenter (5).\n",
      "Searching NASA Horizons for 'Saturn'... Found: Saturn Barycenter (6).\n",
      "Searching NASA Horizons for 'Uranus'... Found: Uranus Barycenter (7).\n",
      "Searching NASA Horizons for 'Neptune'... Found: Neptune Barycenter (8).\n"
     ]
    }
   ],
   "source": [
    "try:\n",
    "    sim = rebound.Simulation.from_file(\"solarsystem.bin\")\n",
    "    rebx = reboundx.Extras.from_file(sim, \"solarsystemrebx.bin\")\n",
    "    sim.collision = \"direct\"\n",
    "    \n",
    "except:\n",
    "    sim = rebound.Simulation()\n",
    "    date = \"2017-04-15 12:00\"\n",
    "    sim.add(\"Sun\", date=date)\n",
    "    sim.add(\"Mercury\", date=date)\n",
    "    sim.add(\"Venus\", date=date)\n",
    "    sim.add(\"Earth\", date=date)\n",
    "    sim.add(\"Mars\", date=date)\n",
    "    sim.add(\"Jupiter\", date=date)\n",
    "    sim.add(\"Saturn\", date=date)\n",
    "    sim.add(\"Uranus\", date=date)\n",
    "    sim.add(\"Neptune\", date=date)\n",
    "    sim.move_to_com()\n",
    "    \n",
    "    ps = sim.particles\n",
    "    ps[0].r = 0.00465\n",
    "    for p in ps[1:]:\n",
    "        p.r = p.a*(p.m/3./ps[0].m)**(1./3.) # set to hill radius\n",
    "        \n",
    "    sim.integrator=\"whfast\"\n",
    "    sim.dt = sim.particles[1].P*np.sqrt(21)/100 # choose irrational number ~5%\n",
    "    rebx = reboundx.Extras(sim)\n",
    "    gr = rebx.add(\"gr_potential\")\n",
    "    gr.params[\"c\"] = 10058.24\n",
    "    sim.collision = \"direct\"\n",
    "    \n",
    "    sim.save(\"solarsystem.bin\")\n",
    "    rebx.save(\"solarsystemrebx.bin\")"
   ]
  },
  {
   "cell_type": "code",
   "execution_count": 58,
   "metadata": {
    "collapsed": true
   },
   "outputs": [],
   "source": [
    "ps = sim.particles\n",
    "efac = 3\n",
    "esim = rebound.Simulation()\n",
    "esim.add(m=ps[0].m, x=ps[0].x, y=ps[0].y, z=ps[0].z, vx=ps[0].vx, vy=ps[0].vy, vz=ps[0].vz, r=ps[0].r)\n",
    "for p in ps[1:]:\n",
    "    esim.add(m=p.m, a=p.a, e=p.e*efac, inc=p.inc, Omega=p.Omega, pomega=p.pomega, f=p.f, r=p.r)\n",
    "esim.move_to_com()\n",
    "\n",
    "esim.integrator=\"whfast\"\n",
    "esim.dt = esim.particles[1].P*np.sqrt(21)/100 # choose irrational number ~5%\n",
    "rebx = reboundx.Extras(esim)\n",
    "gr = rebx.add(\"gr_potential\")\n",
    "gr.params[\"c\"] = 10058.24\n",
    "esim.collision = \"direct\""
   ]
  },
  {
   "cell_type": "code",
   "execution_count": 59,
   "metadata": {
    "collapsed": false
   },
   "outputs": [
    {
     "ename": "Collision",
     "evalue": "Two particles collided (d < r1+r2)",
     "output_type": "error",
     "traceback": [
      "\u001b[0;31m---------------------------------------------------------------------------\u001b[0m",
      "\u001b[0;31mCollision\u001b[0m                                 Traceback (most recent call last)",
      "\u001b[0;32m<timed exec>\u001b[0m in \u001b[0;36m<module>\u001b[0;34m()\u001b[0m\n",
      "\u001b[0;32m~/Documents/workspace/rebound/rebound/simulation.py\u001b[0m in \u001b[0;36mintegrate\u001b[0;34m(self, tmax, exact_finish_time)\u001b[0m\n\u001b[1;32m   1388\u001b[0m                 \u001b[0;32mraise\u001b[0m \u001b[0mKeyboardInterrupt\u001b[0m\u001b[0;34m\u001b[0m\u001b[0m\n\u001b[1;32m   1389\u001b[0m             \u001b[0;32mif\u001b[0m \u001b[0mret_value\u001b[0m \u001b[0;34m==\u001b[0m \u001b[0;36m7\u001b[0m\u001b[0;34m:\u001b[0m\u001b[0;34m\u001b[0m\u001b[0m\n\u001b[0;32m-> 1390\u001b[0;31m                 \u001b[0;32mraise\u001b[0m \u001b[0mCollision\u001b[0m\u001b[0;34m(\u001b[0m\u001b[0;34m\"Two particles collided (d < r1+r2)\"\u001b[0m\u001b[0;34m)\u001b[0m\u001b[0;34m\u001b[0m\u001b[0m\n\u001b[0m\u001b[1;32m   1391\u001b[0m         \u001b[0;32melse\u001b[0m\u001b[0;34m:\u001b[0m\u001b[0;34m\u001b[0m\u001b[0m\n\u001b[1;32m   1392\u001b[0m             \u001b[0mdebug\u001b[0m\u001b[0;34m.\u001b[0m\u001b[0mintegrate_other_package\u001b[0m\u001b[0;34m(\u001b[0m\u001b[0mtmax\u001b[0m\u001b[0;34m,\u001b[0m\u001b[0mexact_finish_time\u001b[0m\u001b[0;34m)\u001b[0m\u001b[0;34m\u001b[0m\u001b[0m\n",
      "\u001b[0;31mCollision\u001b[0m: Two particles collided (d < r1+r2)"
     ]
    }
   ],
   "source": [
    "%%time\n",
    "yr = 2*np.pi # one year is 2pi in these units\n",
    "esim.integrate(1.e6*yr) # integrate for a million years"
   ]
  },
  {
   "cell_type": "code",
   "execution_count": 60,
   "metadata": {
    "collapsed": false
   },
   "outputs": [
    {
     "data": {
      "image/png": "[encoded data removed]",
      "text/plain": [
       "<matplotlib.figure.Figure at 0x10e41b550>"
      ]
     },
     "metadata": {},
     "output_type": "display_data"
    }
   ],
   "source": [
    "fig = rebound.OrbitPlot(esim)"
   ]
  },
  {
   "cell_type": "code",
   "execution_count": 61,
   "metadata": {
    "collapsed": false
   },
   "outputs": [
    {
     "data": {
      "text/plain": [
       "0.839159943659376"
      ]
     },
     "execution_count": 61,
     "metadata": {},
     "output_type": "execute_result"
    }
   ],
   "source": [
    "esim.particles[1].e"
   ]
  },
  {
   "cell_type": "code",
   "execution_count": 62,
   "metadata": {
    "collapsed": false
   },
   "outputs": [
    {
     "data": {
      "text/plain": [
       "0.20562539033062593"
      ]
     },
     "execution_count": 62,
     "metadata": {},
     "output_type": "execute_result"
    }
   ],
   "source": [
    "sim.particles[1].e"
   ]
  },
  {
   "cell_type": "code",
   "execution_count": 64,
   "metadata": {
    "collapsed": false
   },
   "outputs": [
    {
     "data": {
      "text/plain": [
       "787480.8586856998"
      ]
     },
     "execution_count": 64,
     "metadata": {},
     "output_type": "execute_result"
    }
   ],
   "source": [
    "esim.t/yr"
   ]
  },
  {
   "cell_type": "code",
   "execution_count": null,
   "metadata": {
    "collapsed": true
   },
   "outputs": [],
   "source": []
  }
 ],
 "metadata": {
  "anaconda-cloud": {},
  "kernelspec": {
   "display_name": "Python [conda env:CSC401]",
   "language": "python",
   "name": "conda-env-CSC401-py"
  },
  "language_info": {
   "codemirror_mode": {
    "name": "ipython",
    "version": 3
   },
   "file_extension": ".py",
   "mimetype": "text/x-python",
   "name": "python",
   "nbconvert_exporter": "python",
   "pygments_lexer": "ipython3",
   "version": "3.6.3"
  }
 },
 "nbformat": 4,
 "nbformat_minor": 2
}
