{
 "cells": [
  {
   "cell_type": "code",
   "execution_count": 1,
   "metadata": {},
   "outputs": [
    {
     "name": "stderr",
     "output_type": "stream",
     "text": [
      "/mnt/raid-cita/nhussain/venv-2.7.13/lib/python2.7/site-packages/sklearn/cross_validation.py:44: DeprecationWarning: This module was deprecated in version 0.18 in favor of the model_selection module into which all the refactored classes and functions are moved. Also note that the interface of the new CV iterators are different from that of this module. This module will be removed in 0.20.\n",
      "  \"This module will be removed in 0.20.\", DeprecationWarning)\n"
     ]
    }
   ],
   "source": [
    "import pandas as pd\n",
    "import numpy as np\n",
    "import sklearn\n",
    "from sklearn.metrics import roc_auc_score\n",
    "from xgboost.sklearn import XGBClassifier \n",
    "import xgboost as xgb\n",
    "from hyperopt import hp, fmin, tpe, STATUS_OK, Trials\n",
    "import matplotlib\n",
    "from matplotlib import pyplot as plt\n",
    "from sklearn.model_selection import cross_val_score\n"
   ]
  },
  {
   "cell_type": "code",
   "execution_count": 2,
   "metadata": {},
   "outputs": [
    {
     "name": "stdout",
     "output_type": "stream",
     "text": [
      "(14999, 114)\n"
     ]
    },
    {
     "data": {
      "text/html": [
       "<div>\n",
       "<table border=\"1\" class=\"dataframe\">\n",
       "  <thead>\n",
       "    <tr style=\"text-align: right;\">\n",
       "      <th></th>\n",
       "      <th>Stable</th>\n",
       "      <th>t_final_short</th>\n",
       "      <th>avg_a1</th>\n",
       "      <th>std_a1</th>\n",
       "      <th>max_a1</th>\n",
       "      <th>min_a1</th>\n",
       "      <th>norm_std_a1</th>\n",
       "      <th>norm_max_a1</th>\n",
       "      <th>norm_std_window10_a1</th>\n",
       "      <th>norm_max_window10_a1</th>\n",
       "      <th>...</th>\n",
       "      <th>avg_iH3</th>\n",
       "      <th>std_iH3</th>\n",
       "      <th>max_iH3</th>\n",
       "      <th>min_iH3</th>\n",
       "      <th>avg_ecross3</th>\n",
       "      <th>std_ecross3</th>\n",
       "      <th>max_ecross3</th>\n",
       "      <th>min_ecross3</th>\n",
       "      <th>norm_a3_slope</th>\n",
       "      <th>Lyapunov_time</th>\n",
       "    </tr>\n",
       "  </thead>\n",
       "  <tbody>\n",
       "    <tr>\n",
       "      <th>0</th>\n",
       "      <td>0.0</td>\n",
       "      <td>10000.0</td>\n",
       "      <td>1.000165</td>\n",
       "      <td>0.000329</td>\n",
       "      <td>1.001248</td>\n",
       "      <td>0.999691</td>\n",
       "      <td>0.000329</td>\n",
       "      <td>0.001083</td>\n",
       "      <td>0.000214</td>\n",
       "      <td>0.000456</td>\n",
       "      <td>...</td>\n",
       "      <td>4.706365</td>\n",
       "      <td>0.263380</td>\n",
       "      <td>5.264568</td>\n",
       "      <td>4.410404</td>\n",
       "      <td>0.297364</td>\n",
       "      <td>0.016641</td>\n",
       "      <td>0.339655</td>\n",
       "      <td>0.010871</td>\n",
       "      <td>2.681898e-11</td>\n",
       "      <td>9041.175397</td>\n",
       "    </tr>\n",
       "    <tr>\n",
       "      <th>1</th>\n",
       "      <td>0.0</td>\n",
       "      <td>10000.0</td>\n",
       "      <td>0.999952</td>\n",
       "      <td>0.000739</td>\n",
       "      <td>1.002089</td>\n",
       "      <td>0.998309</td>\n",
       "      <td>0.000739</td>\n",
       "      <td>0.002137</td>\n",
       "      <td>0.000202</td>\n",
       "      <td>0.000463</td>\n",
       "      <td>...</td>\n",
       "      <td>1.777638</td>\n",
       "      <td>0.610370</td>\n",
       "      <td>2.507803</td>\n",
       "      <td>0.588028</td>\n",
       "      <td>0.115674</td>\n",
       "      <td>0.039718</td>\n",
       "      <td>0.251880</td>\n",
       "      <td>0.137917</td>\n",
       "      <td>-9.314702e-11</td>\n",
       "      <td>2192.382019</td>\n",
       "    </tr>\n",
       "    <tr>\n",
       "      <th>2</th>\n",
       "      <td>0.0</td>\n",
       "      <td>10000.0</td>\n",
       "      <td>0.998498</td>\n",
       "      <td>0.001948</td>\n",
       "      <td>1.002043</td>\n",
       "      <td>0.995446</td>\n",
       "      <td>0.001951</td>\n",
       "      <td>0.003550</td>\n",
       "      <td>0.001735</td>\n",
       "      <td>0.002860</td>\n",
       "      <td>...</td>\n",
       "      <td>0.982187</td>\n",
       "      <td>0.060058</td>\n",
       "      <td>1.060480</td>\n",
       "      <td>0.875622</td>\n",
       "      <td>0.038930</td>\n",
       "      <td>0.002380</td>\n",
       "      <td>0.026117</td>\n",
       "      <td>0.007227</td>\n",
       "      <td>-4.095504e-11</td>\n",
       "      <td>2191.525922</td>\n",
       "    </tr>\n",
       "    <tr>\n",
       "      <th>3</th>\n",
       "      <td>1.0</td>\n",
       "      <td>10000.0</td>\n",
       "      <td>1.000006</td>\n",
       "      <td>0.000026</td>\n",
       "      <td>1.000126</td>\n",
       "      <td>0.999973</td>\n",
       "      <td>0.000026</td>\n",
       "      <td>0.000120</td>\n",
       "      <td>0.000005</td>\n",
       "      <td>0.000009</td>\n",
       "      <td>...</td>\n",
       "      <td>9.848375</td>\n",
       "      <td>0.070031</td>\n",
       "      <td>9.914136</td>\n",
       "      <td>9.650551</td>\n",
       "      <td>0.514386</td>\n",
       "      <td>0.003658</td>\n",
       "      <td>0.301072</td>\n",
       "      <td>0.279903</td>\n",
       "      <td>-7.257099e-12</td>\n",
       "      <td>58599.215966</td>\n",
       "    </tr>\n",
       "    <tr>\n",
       "      <th>4</th>\n",
       "      <td>0.0</td>\n",
       "      <td>10000.0</td>\n",
       "      <td>1.067267</td>\n",
       "      <td>0.030186</td>\n",
       "      <td>1.121364</td>\n",
       "      <td>1.000000</td>\n",
       "      <td>0.028284</td>\n",
       "      <td>0.063028</td>\n",
       "      <td>0.004313</td>\n",
       "      <td>0.010716</td>\n",
       "      <td>...</td>\n",
       "      <td>1.453843</td>\n",
       "      <td>0.726529</td>\n",
       "      <td>2.660701</td>\n",
       "      <td>0.154157</td>\n",
       "      <td>0.496372</td>\n",
       "      <td>0.248052</td>\n",
       "      <td>1.358604</td>\n",
       "      <td>0.261358</td>\n",
       "      <td>-2.610208e-08</td>\n",
       "      <td>43524.152375</td>\n",
       "    </tr>\n",
       "  </tbody>\n",
       "</table>\n",
       "<p>5 rows × 114 columns</p>\n",
       "</div>"
      ],
      "text/plain": [
       "   Stable  t_final_short    avg_a1    std_a1    max_a1    min_a1  norm_std_a1  \\\n",
       "0     0.0        10000.0  1.000165  0.000329  1.001248  0.999691     0.000329   \n",
       "1     0.0        10000.0  0.999952  0.000739  1.002089  0.998309     0.000739   \n",
       "2     0.0        10000.0  0.998498  0.001948  1.002043  0.995446     0.001951   \n",
       "3     1.0        10000.0  1.000006  0.000026  1.000126  0.999973     0.000026   \n",
       "4     0.0        10000.0  1.067267  0.030186  1.121364  1.000000     0.028284   \n",
       "\n",
       "   norm_max_a1  norm_std_window10_a1  norm_max_window10_a1      ...        \\\n",
       "0     0.001083              0.000214              0.000456      ...         \n",
       "1     0.002137              0.000202              0.000463      ...         \n",
       "2     0.003550              0.001735              0.002860      ...         \n",
       "3     0.000120              0.000005              0.000009      ...         \n",
       "4     0.063028              0.004313              0.010716      ...         \n",
       "\n",
       "    avg_iH3   std_iH3   max_iH3   min_iH3  avg_ecross3  std_ecross3  \\\n",
       "0  4.706365  0.263380  5.264568  4.410404     0.297364     0.016641   \n",
       "1  1.777638  0.610370  2.507803  0.588028     0.115674     0.039718   \n",
       "2  0.982187  0.060058  1.060480  0.875622     0.038930     0.002380   \n",
       "3  9.848375  0.070031  9.914136  9.650551     0.514386     0.003658   \n",
       "4  1.453843  0.726529  2.660701  0.154157     0.496372     0.248052   \n",
       "\n",
       "   max_ecross3  min_ecross3  norm_a3_slope  Lyapunov_time  \n",
       "0     0.339655     0.010871   2.681898e-11    9041.175397  \n",
       "1     0.251880     0.137917  -9.314702e-11    2192.382019  \n",
       "2     0.026117     0.007227  -4.095504e-11    2191.525922  \n",
       "3     0.301072     0.279903  -7.257099e-12   58599.215966  \n",
       "4     1.358604     0.261358  -2.610208e-08   43524.152375  \n",
       "\n",
       "[5 rows x 114 columns]"
      ]
     },
     "execution_count": 2,
     "metadata": {},
     "output_type": "execute_result"
    }
   ],
   "source": [
    "df = pd.read_csv('../csvs/short_integration_features.csv', index_col=0)\n",
    "del df['instability_time']\n",
    "del df['Rel_Eerr']\n",
    "del df['Rel_Eerr_short']\n",
    "del df[\"runstring\"]\n",
    "#Nrows = df.shape[0]\n",
    "#print Nrows, len(np.where(df['Stable']==0)[0])\n",
    "print df.shape\n",
    "df.head()"
   ]
  },
  {
   "cell_type": "code",
   "execution_count": 3,
   "metadata": {},
   "outputs": [
    {
     "data": {
      "text/html": [
       "<div>\n",
       "<table border=\"1\" class=\"dataframe\">\n",
       "  <thead>\n",
       "    <tr style=\"text-align: right;\">\n",
       "      <th></th>\n",
       "      <th>avg_iH1</th>\n",
       "      <th>avg_iH2</th>\n",
       "      <th>norm_std_a1</th>\n",
       "      <th>norm_max_a1</th>\n",
       "      <th>norm_std_window10_a1</th>\n",
       "      <th>norm_max_window10_a1</th>\n",
       "      <th>norm_std_a2</th>\n",
       "      <th>norm_max_a2</th>\n",
       "      <th>norm_std_window10_a2</th>\n",
       "      <th>norm_max_window10_a2</th>\n",
       "      <th>...</th>\n",
       "      <th>max_ecross2</th>\n",
       "      <th>min_ecross2</th>\n",
       "      <th>avg_ecross3</th>\n",
       "      <th>std_ecross3</th>\n",
       "      <th>max_ecross3</th>\n",
       "      <th>min_ecross3</th>\n",
       "      <th>norm_a1_slope</th>\n",
       "      <th>norm_a2_slope</th>\n",
       "      <th>norm_a3_slope</th>\n",
       "      <th>Lyapunov_time</th>\n",
       "    </tr>\n",
       "  </thead>\n",
       "  <tbody>\n",
       "    <tr>\n",
       "      <th>0</th>\n",
       "      <td>0.396282</td>\n",
       "      <td>0.481704</td>\n",
       "      <td>0.000329</td>\n",
       "      <td>0.001083</td>\n",
       "      <td>0.000214</td>\n",
       "      <td>0.000456</td>\n",
       "      <td>0.000701</td>\n",
       "      <td>0.001978</td>\n",
       "      <td>0.000446</td>\n",
       "      <td>0.000964</td>\n",
       "      <td>...</td>\n",
       "      <td>0.333921</td>\n",
       "      <td>0.077775</td>\n",
       "      <td>0.297364</td>\n",
       "      <td>0.016641</td>\n",
       "      <td>0.339655</td>\n",
       "      <td>0.010871</td>\n",
       "      <td>-9.963524e-11</td>\n",
       "      <td>2.144832e-10</td>\n",
       "      <td>2.681898e-11</td>\n",
       "      <td>9041.175397</td>\n",
       "    </tr>\n",
       "    <tr>\n",
       "      <th>1</th>\n",
       "      <td>1.034575</td>\n",
       "      <td>0.823935</td>\n",
       "      <td>0.000739</td>\n",
       "      <td>0.002137</td>\n",
       "      <td>0.000202</td>\n",
       "      <td>0.000463</td>\n",
       "      <td>0.000200</td>\n",
       "      <td>0.000350</td>\n",
       "      <td>0.000226</td>\n",
       "      <td>0.000377</td>\n",
       "      <td>...</td>\n",
       "      <td>0.307149</td>\n",
       "      <td>0.075092</td>\n",
       "      <td>0.115674</td>\n",
       "      <td>0.039718</td>\n",
       "      <td>0.251880</td>\n",
       "      <td>0.137917</td>\n",
       "      <td>-4.938423e-11</td>\n",
       "      <td>3.559377e-11</td>\n",
       "      <td>-9.314702e-11</td>\n",
       "      <td>2192.382019</td>\n",
       "    </tr>\n",
       "    <tr>\n",
       "      <th>2</th>\n",
       "      <td>0.440470</td>\n",
       "      <td>0.491261</td>\n",
       "      <td>0.001951</td>\n",
       "      <td>0.003550</td>\n",
       "      <td>0.001735</td>\n",
       "      <td>0.002860</td>\n",
       "      <td>0.002303</td>\n",
       "      <td>0.004034</td>\n",
       "      <td>0.002080</td>\n",
       "      <td>0.003409</td>\n",
       "      <td>...</td>\n",
       "      <td>0.583040</td>\n",
       "      <td>0.328325</td>\n",
       "      <td>0.038930</td>\n",
       "      <td>0.002380</td>\n",
       "      <td>0.026117</td>\n",
       "      <td>0.007227</td>\n",
       "      <td>6.451005e-11</td>\n",
       "      <td>-3.330088e-11</td>\n",
       "      <td>-4.095504e-11</td>\n",
       "      <td>2191.525922</td>\n",
       "    </tr>\n",
       "    <tr>\n",
       "      <th>3</th>\n",
       "      <td>0.432098</td>\n",
       "      <td>0.550624</td>\n",
       "      <td>0.000026</td>\n",
       "      <td>0.000120</td>\n",
       "      <td>0.000005</td>\n",
       "      <td>0.000009</td>\n",
       "      <td>0.000019</td>\n",
       "      <td>0.000050</td>\n",
       "      <td>0.000016</td>\n",
       "      <td>0.000041</td>\n",
       "      <td>...</td>\n",
       "      <td>0.048402</td>\n",
       "      <td>0.000124</td>\n",
       "      <td>0.514386</td>\n",
       "      <td>0.003658</td>\n",
       "      <td>0.301072</td>\n",
       "      <td>0.279903</td>\n",
       "      <td>8.676076e-12</td>\n",
       "      <td>7.816527e-13</td>\n",
       "      <td>-7.257099e-12</td>\n",
       "      <td>58599.215966</td>\n",
       "    </tr>\n",
       "    <tr>\n",
       "      <th>4</th>\n",
       "      <td>5.722053</td>\n",
       "      <td>17.442426</td>\n",
       "      <td>0.028284</td>\n",
       "      <td>0.063028</td>\n",
       "      <td>0.004313</td>\n",
       "      <td>0.010716</td>\n",
       "      <td>0.038832</td>\n",
       "      <td>0.160685</td>\n",
       "      <td>0.090892</td>\n",
       "      <td>0.112168</td>\n",
       "      <td>...</td>\n",
       "      <td>9.321252</td>\n",
       "      <td>0.823132</td>\n",
       "      <td>0.496372</td>\n",
       "      <td>0.248052</td>\n",
       "      <td>1.358604</td>\n",
       "      <td>0.261358</td>\n",
       "      <td>6.816926e-08</td>\n",
       "      <td>3.913858e-08</td>\n",
       "      <td>-2.610208e-08</td>\n",
       "      <td>43524.152375</td>\n",
       "    </tr>\n",
       "  </tbody>\n",
       "</table>\n",
       "<p>5 rows × 30 columns</p>\n",
       "</div>"
      ],
      "text/plain": [
       "    avg_iH1    avg_iH2  norm_std_a1  norm_max_a1  norm_std_window10_a1  \\\n",
       "0  0.396282   0.481704     0.000329     0.001083              0.000214   \n",
       "1  1.034575   0.823935     0.000739     0.002137              0.000202   \n",
       "2  0.440470   0.491261     0.001951     0.003550              0.001735   \n",
       "3  0.432098   0.550624     0.000026     0.000120              0.000005   \n",
       "4  5.722053  17.442426     0.028284     0.063028              0.004313   \n",
       "\n",
       "   norm_max_window10_a1  norm_std_a2  norm_max_a2  norm_std_window10_a2  \\\n",
       "0              0.000456     0.000701     0.001978              0.000446   \n",
       "1              0.000463     0.000200     0.000350              0.000226   \n",
       "2              0.002860     0.002303     0.004034              0.002080   \n",
       "3              0.000009     0.000019     0.000050              0.000016   \n",
       "4              0.010716     0.038832     0.160685              0.090892   \n",
       "\n",
       "   norm_max_window10_a2      ...        max_ecross2  min_ecross2  avg_ecross3  \\\n",
       "0              0.000964      ...           0.333921     0.077775     0.297364   \n",
       "1              0.000377      ...           0.307149     0.075092     0.115674   \n",
       "2              0.003409      ...           0.583040     0.328325     0.038930   \n",
       "3              0.000041      ...           0.048402     0.000124     0.514386   \n",
       "4              0.112168      ...           9.321252     0.823132     0.496372   \n",
       "\n",
       "   std_ecross3  max_ecross3  min_ecross3  norm_a1_slope  norm_a2_slope  \\\n",
       "0     0.016641     0.339655     0.010871  -9.963524e-11   2.144832e-10   \n",
       "1     0.039718     0.251880     0.137917  -4.938423e-11   3.559377e-11   \n",
       "2     0.002380     0.026117     0.007227   6.451005e-11  -3.330088e-11   \n",
       "3     0.003658     0.301072     0.279903   8.676076e-12   7.816527e-13   \n",
       "4     0.248052     1.358604     0.261358   6.816926e-08   3.913858e-08   \n",
       "\n",
       "   norm_a3_slope  Lyapunov_time  \n",
       "0   2.681898e-11    9041.175397  \n",
       "1  -9.314702e-11    2192.382019  \n",
       "2  -4.095504e-11    2191.525922  \n",
       "3  -7.257099e-12   58599.215966  \n",
       "4  -2.610208e-08   43524.152375  \n",
       "\n",
       "[5 rows x 30 columns]"
      ]
     },
     "execution_count": 3,
     "metadata": {},
     "output_type": "execute_result"
    }
   ],
   "source": [
    "#\"['daOverRH1' 'daOverRH2' 'mindaOverRH' 'maxdaOverRH' 'norm_LyapunovTime']\"\n",
    "features = []\n",
    "features += ['avg_iH1', 'avg_iH2']\n",
    "features += ['norm_std_a1', 'norm_max_a1', 'norm_std_window10_a1', 'norm_max_window10_a1']\n",
    "features += ['norm_std_a2', 'norm_max_a2', 'norm_std_window10_a2', 'norm_max_window10_a2']\n",
    "features += ['norm_std_a3', 'norm_max_a3', 'norm_std_window10_a3', 'norm_max_window10_a3']\n",
    "features += ['avg_ecross1', 'std_ecross1', 'max_ecross1', 'min_ecross1']\n",
    "features += ['avg_ecross2', 'std_ecross2', 'max_ecross2', 'min_ecross2']\n",
    "features += ['avg_ecross3', 'std_ecross3', 'max_ecross3', 'min_ecross3']\n",
    "features += ['norm_a1_slope', 'norm_a2_slope', 'norm_a3_slope']\n",
    "features += ['Lyapunov_time']\n",
    "\n",
    "y = df['Stable']\n",
    "X = df[features]\n",
    "X.head()"
   ]
  },
  {
   "cell_type": "code",
   "execution_count": 4,
   "metadata": {
    "collapsed": true
   },
   "outputs": [],
   "source": [
    "Nrows = int(X.shape[0] * 0.5)\n",
    "trainX = X.iloc[:Nrows,:]\n",
    "trainY = y.iloc[:Nrows]\n",
    "testX = X.iloc[Nrows:, :]\n",
    "testY = y.iloc[Nrows:]"
   ]
  },
  {
   "cell_type": "markdown",
   "metadata": {},
   "source": [
    "Don't worry about number of estimators, learning rate, or colsample_by_tree for now, come back to it afterwards"
   ]
  },
  {
   "cell_type": "code",
   "execution_count": 199,
   "metadata": {
    "collapsed": true
   },
   "outputs": [],
   "source": [
    "space ={\n",
    "        'max_depth': hp.randint('x_max_depth',  10),\n",
    "        'min_child_weight': hp.quniform ('x_min_child', 1, 10, 1),\n",
    "        'subsample': hp.uniform ('x_subsample', 0.8, 1)\n",
    "}"
   ]
  },
  {
   "cell_type": "code",
   "execution_count": 200,
   "metadata": {
    "collapsed": true
   },
   "outputs": [],
   "source": [
    "def objective(space):\n",
    "\n",
    "    clf = XGBClassifier(n_estimators = 100, \n",
    "                            max_depth = space['max_depth'],\n",
    "                            min_child_weight = space['min_child_weight'],\n",
    "                            subsample = space['subsample'])\n",
    "    #initial method of using cv\n",
    "    #eval_set  = [( testX, testY)]\n",
    "    #clf.fit(trainX, trainY,\n",
    "    #        eval_set=eval_set, eval_metric=\"auc\", \n",
    "    #        early_stopping_rounds=10)\n",
    "    #pred = clf.predict_proba(testX)[:,1]\n",
    "    #auc = roc_auc_score(testY, pred)\n",
    "    score = cross_val_score(clf, trainX, trainY, cv = 5, scoring=\"average_precision\")\n",
    "    avg_score = score.mean()\n",
    "    print \"SCORE:\", score.mean()\n",
    "\n",
    "    return{'loss':1-avg_score, 'status': STATUS_OK, \"cv_score\":avg_score  }"
   ]
  },
  {
   "cell_type": "code",
   "execution_count": 201,
   "metadata": {
    "scrolled": true
   },
   "outputs": [
    {
     "name": "stdout",
     "output_type": "stream",
     "text": [
      "SCORE: 0.965517873892\n",
      "SCORE: 0.965602290662\n",
      "SCORE: 0.965462222454\n",
      "SCORE: 0.965335250703\n",
      "SCORE: 0.964487622318\n",
      "SCORE: 0.965206576792\n",
      "SCORE: 0.958454504579\n",
      "SCORE: 0.96609685274\n",
      "SCORE: 0.697026284189\n",
      "SCORE: 0.965801555015\n"
     ]
    }
   ],
   "source": [
    "trials = Trials()\n",
    "best = fmin(fn=objective, space = space, algo = tpe.suggest, max_evals = 10, trials = trials)"
   ]
  },
  {
   "cell_type": "code",
   "execution_count": 202,
   "metadata": {},
   "outputs": [
    {
     "name": "stdout",
     "output_type": "stream",
     "text": [
      "{'x_min_child': 6.0, 'x_max_depth': 8, 'x_subsample': 0.9205722376589776}\n"
     ]
    }
   ],
   "source": [
    "#print parameters that give the best values\n",
    "print best"
   ]
  },
  {
   "cell_type": "code",
   "execution_count": 205,
   "metadata": {},
   "outputs": [
    {
     "name": "stdout",
     "output_type": "stream",
     "text": [
      "0.976727850408\n"
     ]
    }
   ],
   "source": [
    "#try testing on the holdout set with these parameters\n",
    "test_best = XGBClassifier(seed = 0, min_child_weight=best[\"x_min_child\"],\n",
    "                         max_depth = best[\"x_max_depth\"],\n",
    "                         subsample = best[\"x_subsample\"])\n",
    "test_best.fit(trainX, trainY)\n",
    "preds = test_best.predict_proba(testX)[:,1]\n",
    "auc_Score = roc_auc_score(testY,preds)\n",
    "print auc_Score"
   ]
  },
  {
   "cell_type": "code",
   "execution_count": 206,
   "metadata": {
    "collapsed": true
   },
   "outputs": [],
   "source": [
    "#trying optimizing the next two parameters\n",
    "space2 ={\n",
    "        'colsample_bytree': hp.uniform ('x_tree_colsample', 0.5,1),\n",
    "        'learning_rate': hp.uniform ('x_learning_rate', 0.001, 0.1),\n",
    "}"
   ]
  },
  {
   "cell_type": "code",
   "execution_count": 207,
   "metadata": {
    "collapsed": true
   },
   "outputs": [],
   "source": [
    "def objective2(space2):\n",
    "\n",
    "    clf = XGBClassifier(n_estimators = 100, \n",
    "                            min_child_weight=best[\"x_min_child\"],\n",
    "                            max_depth = best[\"x_max_depth\"],\n",
    "                            subsample = best[\"x_subsample\"],\n",
    "                            colsample_bytree =space2['colsample_bytree'],\n",
    "                            learning_rate = space2['learning_rate'])\n",
    "\n",
    "    score = cross_val_score(clf, trainX, trainY, cv = 5, scoring=\"average_precision\")\n",
    "    avg_score = score.mean()\n",
    "    print \"SCORE:\", score.mean()\n",
    "    return{'loss':1-avg_score, 'status': STATUS_OK, \"cv_score\":avg_score  }"
   ]
  },
  {
   "cell_type": "code",
   "execution_count": 208,
   "metadata": {
    "scrolled": false
   },
   "outputs": [
    {
     "name": "stdout",
     "output_type": "stream",
     "text": [
      "SCORE: 0.966191006574\n",
      "SCORE: 0.965496735583\n",
      "SCORE: 0.966666653122\n",
      "SCORE: 0.965136182586\n",
      "SCORE: 0.966183870946\n",
      "SCORE: 0.964480188054\n",
      "SCORE: 0.96510633213\n",
      "SCORE: 0.961183954974\n",
      "SCORE: 0.96628152536\n",
      "SCORE: 0.966282417224\n",
      "SCORE: 0.964769894643\n",
      "SCORE: 0.96446306637\n",
      "SCORE: 0.963748009246\n",
      "SCORE: 0.966126045672\n",
      "SCORE: 0.966334784875\n",
      "SCORE: 0.96430597207\n",
      "SCORE: 0.966211649697\n",
      "SCORE: 0.96549139652\n",
      "SCORE: 0.965240885808\n",
      "SCORE: 0.965830186084\n"
     ]
    }
   ],
   "source": [
    "trials2 = Trials()\n",
    "best2 = fmin(fn=objective2, space = space2, algo = tpe.suggest, max_evals = 20, trials = trials2)"
   ]
  },
  {
   "cell_type": "code",
   "execution_count": 209,
   "metadata": {},
   "outputs": [
    {
     "name": "stdout",
     "output_type": "stream",
     "text": [
      "{'x_min_child': 6.0, 'x_max_depth': 8, 'x_subsample': 0.9205722376589776}\n",
      "{'x_tree_colsample': 0.9766575927226975, 'x_learning_rate': 0.05630431364712837}\n"
     ]
    }
   ],
   "source": [
    "#With both optimizations, we can now see the all the selected parameters we are interested in\n",
    "print best\n",
    "print best2"
   ]
  },
  {
   "cell_type": "code",
   "execution_count": 212,
   "metadata": {},
   "outputs": [
    {
     "name": "stdout",
     "output_type": "stream",
     "text": [
      "0.976818242266\n"
     ]
    }
   ],
   "source": [
    "#try testing on the holdout set with ALL of the selected parameters\n",
    "test_best = XGBClassifier(seed = 0, min_child_weight=best[\"x_min_child\"],\n",
    "                         max_depth = best[\"x_max_depth\"],\n",
    "                         subsample = best[\"x_subsample\"],\n",
    "                         colsample_bytree = best2[\"x_tree_colsample\"],\n",
    "                         learning_rate = best2[\"x_learning_rate\"])\n",
    "#print trainX.shape, trainY.shape, testX.shape, testY.shape\n",
    "test_best.fit(trainX, trainY)\n",
    "preds = test_best.predict_proba(testX)[:,1]\n",
    "auc_Score = roc_auc_score(testY,preds)\n",
    "print auc_Score\n",
    "#score only increases marginally from before"
   ]
  },
  {
   "cell_type": "code",
   "execution_count": 213,
   "metadata": {},
   "outputs": [
    {
     "data": {
      "text/plain": [
       "array([ 0.02237569,  0.0140884 ,  0.01823204,  0.02292818,  0.0140884 ,\n",
       "        0.01243094,  0.0461326 ,  0.04696133,  0.01933702,  0.01436464,\n",
       "        0.01961326,  0.01381215,  0.01740332,  0.01187845,  0.04558011,\n",
       "        0.0198895 ,  0.06657459,  0.03176796,  0.05911602,  0.03950276,\n",
       "        0.08646408,  0.0301105 ,  0.04751381,  0.02265193,  0.06767956,\n",
       "        0.02569061,  0.0281768 ,  0.03729282,  0.0301105 ,  0.06823204], dtype=float32)"
      ]
     },
     "execution_count": 213,
     "metadata": {},
     "output_type": "execute_result"
    }
   ],
   "source": [
    "test_best.feature_importances_"
   ]
  },
  {
   "cell_type": "code",
   "execution_count": 215,
   "metadata": {
    "collapsed": true
   },
   "outputs": [
    {
     "data": {
      "image/png": "[encoded data removed]",
      "text/plain": [
       "<matplotlib.figure.Figure at 0x7f5df0ce3790>"
      ]
     },
     "metadata": {},
     "output_type": "display_data"
    }
   ],
   "source": [
    "# feature importances\n",
    "feat_imp = pd.Series(test_best.booster().get_fscore()).sort_values(ascending=False)\n",
    "feat_imp.plot(kind='bar', title='Feature Importances', figsize=(12,8))\n",
    "plt.ylabel('Feature Importance Score')\n",
    "plt.show()\n"
   ]
  },
  {
   "cell_type": "code",
   "execution_count": 216,
   "metadata": {
    "collapsed": true
   },
   "outputs": [
    {
     "data": {
      "image/png": "[encoded data removed]",
      "text/plain": [
       "<matplotlib.figure.Figure at 0x7f5df116b110>"
      ]
     },
     "metadata": {},
     "output_type": "display_data"
    }
   ],
   "source": [
    "#try drawing a normalized version of the plot\n",
    "feat_imp_norm = pd.Series(test_best.booster().get_fscore()).sort_values(ascending=False)\n",
    "feat_imp_norm = feat_imp_norm/np.sum(feat_imp_norm)\n",
    "#print feat_imp_norm\n",
    "feat_imp_norm.plot(kind='bar', title='Feature Importances', figsize=(12,8))\n",
    "plt.ylabel('Feature Importance Normalized Score')\n",
    "plt.show()"
   ]
  },
  {
   "cell_type": "markdown",
   "metadata": {},
   "source": [
    "Try running the parameters together, and see if they change due to partial dependencies between any of them. Also increase number of iterations to ensure it has reached the optimal parameter space"
   ]
  },
  {
   "cell_type": "code",
   "execution_count": 5,
   "metadata": {
    "collapsed": true
   },
   "outputs": [],
   "source": [
    "space3 ={\n",
    "        'max_depth': hp.quniform('x_max_depth', 1, 10,1),\n",
    "        'min_child_weight': hp.quniform ('x_min_child', 1, 10, 1),\n",
    "        'subsample': hp.uniform ('x_subsample', 0.8, 1),\n",
    "        'colsample_bytree': hp.uniform ('x_tree_colsample', 0.5,1),\n",
    "        'learning_rate': hp.uniform ('x_learning_rate', 0.001, 0.1)\n",
    "}"
   ]
  },
  {
   "cell_type": "code",
   "execution_count": 220,
   "metadata": {
    "collapsed": true
   },
   "outputs": [],
   "source": [
    "def objective3(space3):\n",
    "\n",
    "    clf = XGBClassifier(n_estimators = 100, \n",
    "                            max_depth = space3['max_depth'], \n",
    "                            min_child_weight =space3['min_child_weight'],\n",
    "                            subsample = space3['subsample'],\n",
    "                            colsample_bytree =space3['colsample_bytree'],\n",
    "                            learning_rate = space3['learning_rate'])\n",
    "\n",
    "    score = cross_val_score(clf, trainX, trainY, cv = 5, scoring=\"average_precision\")\n",
    "    avg_score = score.mean()\n",
    "    print \"SCORE:\", score.mean()\n",
    "\n",
    "    return{'loss':1-avg_score, 'status': STATUS_OK, \"cv_score\":avg_score  }"
   ]
  },
  {
   "cell_type": "code",
   "execution_count": 221,
   "metadata": {
    "scrolled": false
   },
   "outputs": [
    {
     "name": "stdout",
     "output_type": "stream",
     "text": [
      "SCORE: 0.965821173051\n",
      "SCORE: 0.962177380211\n",
      "SCORE: 0.96013244117\n",
      "SCORE: 0.966260754133\n",
      "SCORE: 0.957763767447\n",
      "SCORE: 0.96628126038\n",
      "SCORE: 0.965775828571\n",
      "SCORE: 0.961776336339\n",
      "SCORE: 0.960834396182\n",
      "SCORE: 0.965478879385\n",
      "SCORE: 0.963330428138\n",
      "SCORE: 0.962426304292\n",
      "SCORE: 0.966284505667\n",
      "SCORE: 0.936319023971\n",
      "SCORE: 0.966019042442\n",
      "SCORE: 0.955467452278\n",
      "SCORE: 0.965373778168\n",
      "SCORE: 0.965432516807\n",
      "SCORE: 0.962745015726\n",
      "SCORE: 0.965158233263\n",
      "('Optimization Time: %f seconds', 1700.054902791977)\n"
     ]
    }
   ],
   "source": [
    "trials3 = Trials()\n",
    "import time\n",
    "start = time.time()\n",
    "best3 = fmin(fn=objective3, space = space3, algo = tpe.suggest, max_evals = 20, trials = trials3)\n",
    "end = time.time()\n",
    "print(\"Optimization Time: %f seconds\", (end  -start))"
   ]
  },
  {
   "cell_type": "code",
   "execution_count": 223,
   "metadata": {
    "collapsed": true
   },
   "outputs": [],
   "source": [
    "scores = [val[\"result\"]['cv_score'] for val in trials3]\n",
    "losses = [val[\"result\"]['loss'] for val in trials3]"
   ]
  },
  {
   "cell_type": "code",
   "execution_count": 224,
   "metadata": {},
   "outputs": [
    {
     "name": "stdout",
     "output_type": "stream",
     "text": [
      "0.962042925881 0.00660538789678\n"
     ]
    }
   ],
   "source": [
    "print np.mean(scores), np.std(scores)"
   ]
  },
  {
   "cell_type": "code",
   "execution_count": 228,
   "metadata": {},
   "outputs": [
    {
     "name": "stdout",
     "output_type": "stream",
     "text": [
      "{'x_min_child': 4.0, 'x_tree_colsample': 0.58953601238089, 'x_max_depth': 7.0, 'x_subsample': 0.9656894973700625, 'x_learning_rate': 0.07078850869231385}\n"
     ]
    }
   ],
   "source": [
    "print best3"
   ]
  },
  {
   "cell_type": "code",
   "execution_count": 257,
   "metadata": {},
   "outputs": [
    {
     "name": "stdout",
     "output_type": "stream",
     "text": [
      "0.977047306832\n"
     ]
    }
   ],
   "source": [
    "#combine the two spaces\n",
    "best_model2 = XGBClassifier(seed = 0, learning_rate=best3[\"x_learning_rate\"],\n",
    "                            min_child_weight=best3[\"x_min_child\"],\n",
    "                            max_depth= int(best3[\"x_max_depth\"]), \n",
    "                            subsample = best3[\"x_subsample\"],\n",
    "                            colsample_bytree = best3[\"x_tree_colsample\"])\n",
    "\n",
    "best_model2.fit(trainX, trainY)\n",
    "pred = best_model2.predict_proba(testX)[:,1]\n",
    "score = roc_auc_score(testY, pred)\n",
    "print score"
   ]
  },
  {
   "cell_type": "code",
   "execution_count": 264,
   "metadata": {
    "collapsed": true
   },
   "outputs": [],
   "source": [
    "from xgboost import DMatrix\n",
    "\n",
    "xgb_param = best_model2.get_xgb_params()\n",
    "xgtrain = DMatrix(X.values, label=df['Stable'].values)\n",
    "cvresult = xgb.cv(xgb_param, xgtrain, num_boost_round=20, nfold=5, metrics='auc', early_stopping_rounds=10)"
   ]
  },
  {
   "cell_type": "code",
   "execution_count": 323,
   "metadata": {},
   "outputs": [
    {
     "name": "stdout",
     "output_type": "stream",
     "text": [
      "<class 'pandas.core.frame.DataFrame'>\n",
      "(20, 4)\n",
      "0.974803\n",
      "test-auc-mean     0.974803\n",
      "test-auc-std      0.001876\n",
      "train-auc-mean    0.988308\n",
      "train-auc-std     0.000149\n",
      "Name: 19, dtype: float64\n"
     ]
    }
   ],
   "source": [
    "print type(cvresult)\n",
    "print cvresult.shape\n",
    "print cvresult.iloc[-1][\"test-auc-mean\"]\n",
    "print  cvresult.iloc[-1]"
   ]
  },
  {
   "cell_type": "code",
   "execution_count": 7,
   "metadata": {},
   "outputs": [],
   "source": [
    "from xgboost import DMatrix\n",
    "\n",
    "#implemented with xgb cv\n",
    "xgtrain = DMatrix(X.values, label=df['Stable'].values)\n",
    "\n",
    "def objective4(space3):\n",
    "\n",
    "    clf = XGBClassifier(n_estimators = 100, \n",
    "                            max_depth = space3['max_depth'], \n",
    "                            min_child_weight =space3['min_child_weight'],\n",
    "                            subsample = space3['subsample'],\n",
    "                            colsample_bytree =space3['colsample_bytree'],\n",
    "                            learning_rate = space3['learning_rate'])\n",
    "    start = time.time()\n",
    "    cv_result = xgb.cv(clf.get_xgb_params(),xgtrain, num_boost_round=10, nfold=5, metrics='auc', early_stopping_rounds=5 )\n",
    "    end = time.time()\n",
    "    #score = cross_val_score(clf, trainX, trainY, cv = 5, scoring=\"average_precision\")\n",
    "    score =  cv_result.iloc[-1][\"test-auc-mean\"]\n",
    "    score_std =  cv_result.iloc[-1][\"test-auc-std\"]\n",
    "    print (\"SCORE %f, in : %f s:\" % (score, (end-start)))\n",
    "\n",
    "    return{'loss':1-score, 'status': STATUS_OK, \"cv_score\":score, \"test_avg\": score_std }"
   ]
  },
  {
   "cell_type": "code",
   "execution_count": 332,
   "metadata": {},
   "outputs": [
    {
     "name": "stdout",
     "output_type": "stream",
     "text": [
      "SCORE %f, in : %f s: (0.96810759999999996, 90.31143617630005)\n",
      "SCORE %f, in : %f s: (0.96624160000000003, 49.9987998008728)\n",
      "SCORE %f, in : %f s: (0.94791659999999989, 32.73367691040039)\n",
      "SCORE %f, in : %f s: (0.97172119999999995, 102.43022513389587)\n",
      "SCORE %f, in : %f s: (0.94604719999999998, 43.02915382385254)\n",
      "SCORE %f, in : %f s: (0.94892480000000001, 46.01954698562622)\n",
      "SCORE %f, in : %f s: (0.9722016, 150.62837290763855)\n",
      "SCORE %f, in : %f s: (0.97191819999999995, 158.68804907798767)\n",
      "SCORE %f, in : %f s: (0.97223939999999998, 96.7362151145935)\n",
      "SCORE %f, in : %f s: (0.95743359999999988, 38.94356393814087)\n",
      "SCORE %f, in : %f s: (0.96024080000000001, 54.78683590888977)\n",
      "SCORE %f, in : %f s: (0.95342899999999986, 57.16151714324951)\n",
      "SCORE %f, in : %f s: (0.95553679999999996, 56.36310601234436)\n",
      "SCORE %f, in : %f s: (0.96796579999999999, 80.83302307128906)\n",
      "SCORE %f, in : %f s: (0.96258819999999989, 44.407516956329346)\n",
      "SCORE %f, in : %f s: (0.96555780000000002, 26.518529176712036)\n",
      "SCORE %f, in : %f s: (0.96821800000000002, 17.338675022125244)\n",
      "SCORE %f, in : %f s: (0.96016279999999998, 45.630228996276855)\n",
      "SCORE %f, in : %f s: (0.97340800000000005, 41.856998920440674)\n",
      "SCORE %f, in : %f s: (0.97251519999999991, 35.85829496383667)\n",
      "('Optimization Time: %f seconds', 1270.8673288822174)\n"
     ]
    }
   ],
   "source": [
    "trials4= Trials()\n",
    "import time\n",
    "start = time.time()\n",
    "best4 = fmin(fn=objective4, space = space3, algo = tpe.suggest, max_evals = 20, trials = trials4)\n",
    "end = time.time()\n",
    "print(\"Optimization Time: %f seconds\", (end  -start))"
   ]
  },
  {
   "cell_type": "code",
   "execution_count": 333,
   "metadata": {},
   "outputs": [
    {
     "name": "stdout",
     "output_type": "stream",
     "text": [
      "{'x_min_child': 7.0, 'x_tree_colsample': 0.6514176031386798, 'x_max_depth': 9.0, 'x_subsample': 0.8961238654534123, 'x_learning_rate': 0.09755862056202982}\n"
     ]
    }
   ],
   "source": [
    "print best4"
   ]
  },
  {
   "cell_type": "code",
   "execution_count": 8,
   "metadata": {},
   "outputs": [
    {
     "name": "stdout",
     "output_type": "stream",
     "text": [
      "SCORE 0.943065, in : 0.680347 s:\n",
      "SCORE 0.971156, in : 1.068611 s:\n",
      "SCORE 0.960183, in : 0.788777 s:\n",
      "SCORE 0.965015, in : 1.598737 s:\n",
      "SCORE 0.948870, in : 0.466467 s:\n",
      "SCORE 0.944642, in : 0.624894 s:\n",
      "SCORE 0.971269, in : 1.021956 s:\n",
      "SCORE 0.968989, in : 1.398300 s:\n",
      "SCORE 0.948207, in : 0.522194 s:\n",
      "SCORE 0.969835, in : 1.024922 s:\n",
      "SCORE 0.966912, in : 1.605399 s:\n",
      "SCORE 0.969156, in : 0.959453 s:\n",
      "SCORE 0.962388, in : 0.942199 s:\n",
      "SCORE 0.960445, in : 1.420642 s:\n",
      "SCORE 0.970502, in : 1.035590 s:\n",
      "SCORE 0.912762, in : 0.343881 s:\n",
      "SCORE 0.969746, in : 1.428965 s:\n",
      "SCORE 0.967728, in : 2.000438 s:\n",
      "SCORE 0.967426, in : 1.000620 s:\n",
      "SCORE 0.969794, in : 1.604430 s:\n",
      "('Optimization Time: %f seconds', 21.89854598045349)\n"
     ]
    }
   ],
   "source": [
    "#implemented with xgb cv\n",
    "# try now on a slightly smaller set of the data, and have a separate hold out set.\n",
    "xgtrain = DMatrix(trainX.values, label=trainY.values)\n",
    "trials5= Trials()\n",
    "import time\n",
    "start = time.time()\n",
    "best5 = fmin(fn=objective4, space = space3, algo = tpe.suggest, max_evals = 20, trials = trials5)\n",
    "end = time.time()\n",
    "print(\"Optimization Time: %f seconds\", (end  -start))"
   ]
  },
  {
   "cell_type": "code",
   "execution_count": 159,
   "metadata": {},
   "outputs": [
    {
     "data": {
      "text/plain": [
       "'/mnt/raid-cita/nhussain/venv-2.7.13/lib/python2.7/site-packages/hyperopt/__init__.pyc'"
      ]
     },
     "execution_count": 159,
     "metadata": {},
     "output_type": "execute_result"
    }
   ],
   "source": [
    "import hyperopt\n",
    "hyperopt.__file__"
   ]
  },
  {
   "cell_type": "code",
   "execution_count": 15,
   "metadata": {},
   "outputs": [
    {
     "name": "stdout",
     "output_type": "stream",
     "text": [
      "0.977388357692\n",
      "0.965115859285\n"
     ]
    }
   ],
   "source": [
    "#try testing on the holdout set with ALL of the selected parameters\n",
    "test_best = XGBClassifier(seed = 0, min_child_weight=best5[\"x_min_child\"],\n",
    "                         max_depth = int(best5[\"x_max_depth\"]),\n",
    "                         subsample = best5[\"x_subsample\"],\n",
    "                         colsample_bytree = best5[\"x_tree_colsample\"],\n",
    "                         learning_rate = best5[\"x_learning_rate\"])\n",
    "#print trainX.shape, trainY.shape, testX.shape, testY.shape\n",
    "test_best.fit(trainX, trainY)\n",
    "preds = test_best.predict_proba(testX)[:,1]\n",
    "auc_Score = roc_auc_score(testY,preds)\n",
    "print auc_Score\n",
    "print metrics.average_precision_score(testY, preds)\n",
    "#score only increases marginally from before"
   ]
  },
  {
   "cell_type": "markdown",
   "metadata": {},
   "source": [
    "Ignore all cells below"
   ]
  },
  {
   "cell_type": "code",
   "execution_count": 16,
   "metadata": {},
   "outputs": [
    {
     "name": "stdout",
     "output_type": "stream",
     "text": [
      "AUC Score (Test): 0.965116\n"
     ]
    },
    {
     "data": {
      "image/png": "[encoded data removed]",
      "text/plain": [
       "<matplotlib.figure.Figure at 0x7f9ab0ca4810>"
      ]
     },
     "metadata": {},
     "output_type": "display_data"
    }
   ],
   "source": [
    "#draw precison recall curve\n",
    "from sklearn import metrics\n",
    "from sklearn.metrics import precision_recall_curve\n",
    "precision, recall, thresholds = precision_recall_curve(testY, preds)\n",
    "fig, ax = plt.subplots()\n",
    "ax.plot(recall, precision)\n",
    "ax.set_xlim([0.0, 1.0])\n",
    "ax.set_ylim([0.0, 1.0])\n",
    "ax.set_xlabel('Recall')\n",
    "ax.set_ylabel('Precision')\n",
    "ax.set_title('Precision Recall Curve')\n",
    "print \"AUC Score (Test): %f\" % metrics.average_precision_score(testY, preds)\n",
    "plt.show()\n"
   ]
  },
  {
   "cell_type": "markdown",
   "metadata": {},
   "source": [
    "The result is still very good, so then these parameters generate a model that generalizes fairly well"
   ]
  },
  {
   "cell_type": "code",
   "execution_count": 342,
   "metadata": {
    "scrolled": true
   },
   "outputs": [
    {
     "name": "stdout",
     "output_type": "stream",
     "text": [
      "SCORE 0.966605, in : 10.950023 s:\n",
      "SCORE 0.971638, in : 21.362376 s:\n",
      "SCORE 0.971486, in : 21.143568 s:\n",
      "SCORE 0.969013, in : 13.201152 s:\n",
      "SCORE 0.971001, in : 20.184471 s:\n",
      "SCORE 0.970713, in : 20.187382 s:\n",
      "SCORE 0.967807, in : 23.148881 s:\n",
      "SCORE 0.970733, in : 33.916977 s:\n",
      "SCORE 0.971024, in : 40.373488 s:\n",
      "SCORE 0.971082, in : 50.323619 s:\n",
      "SCORE 0.967850, in : 15.972994 s:\n",
      "SCORE 0.971105, in : 27.917770 s:\n",
      "SCORE 0.970609, in : 18.797427 s:\n",
      "SCORE 0.971776, in : 26.747977 s:\n",
      "SCORE 0.971542, in : 26.796972 s:\n",
      "SCORE 0.914274, in : 6.401008 s:\n",
      "SCORE 0.969348, in : 26.813246 s:\n",
      "SCORE 0.970613, in : 21.555802 s:\n",
      "SCORE 0.950217, in : 6.693871 s:\n",
      "SCORE 0.970160, in : 16.343722 s:\n",
      "('Optimization Time: %f seconds', 449.968092918396)\n"
     ]
    }
   ],
   "source": [
    "#Try again with 40 trials, to see if there is an improvement\n",
    "import time\n",
    "start = time.time()\n",
    "best5_more = fmin(fn=objective4, space = space3, algo = tpe.suggest, max_evals = 40, trials = trials5)\n",
    "end = time.time()\n",
    "print(\"Optimization Time: %f seconds\", (end  -start))"
   ]
  },
  {
   "cell_type": "code",
   "execution_count": 343,
   "metadata": {},
   "outputs": [
    {
     "name": "stdout",
     "output_type": "stream",
     "text": [
      "0.976681353609\n"
     ]
    }
   ],
   "source": [
    "#try testing on the holdout set with ALL of the selected parameters\n",
    "test_best = XGBClassifier(seed = 0, min_child_weight=best5_more[\"x_min_child\"],\n",
    "                         max_depth = int(best5_more[\"x_max_depth\"]),\n",
    "                         subsample = best5_more[\"x_subsample\"],\n",
    "                         colsample_bytree = best5_more[\"x_tree_colsample\"],\n",
    "                         learning_rate = best5_more[\"x_learning_rate\"])\n",
    "#print trainX.shape, trainY.shape, testX.shape, testY.shape\n",
    "test_best.fit(trainX, trainY)\n",
    "preds = test_best.predict_proba(testX)[:,1]\n",
    "auc_Score = roc_auc_score(testY,preds)\n",
    "print auc_Score\n",
    "#cv score on holdout set does not increase as you move from 20 trials to 40\n",
    "#this means there is no need to run many trials, a small amount will be fine."
   ]
  },
  {
   "cell_type": "code",
   "execution_count": null,
   "metadata": {
    "collapsed": true
   },
   "outputs": [],
   "source": []
  }
 ],
 "metadata": {
  "kernelspec": {
   "display_name": "Python 2",
   "language": "python",
   "name": "python2"
  },
  "language_info": {
   "codemirror_mode": {
    "name": "ipython",
    "version": 2
   },
   "file_extension": ".py",
   "mimetype": "text/x-python",
   "name": "python",
   "nbconvert_exporter": "python",
   "pygments_lexer": "ipython2",
   "version": "2.7.13"
  }
 },
 "nbformat": 4,
 "nbformat_minor": 2
}
