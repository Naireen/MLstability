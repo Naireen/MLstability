{
 "cells": [
  {
   "cell_type": "code",
   "execution_count": 1,
   "metadata": {},
   "outputs": [],
   "source": [
    "import numpy as np\n",
    "import emcee\n",
    "import matplotlib\n",
    "import matplotlib.pyplot as plt\n",
    "#%matplotlib inline\n",
    "import pandas as pd\n",
    "import corner\n",
    "import time \n",
    "from scipy.stats import norm, laplace\n",
    "\n",
    "from scipy.stats import anderson_ksamp, ks_2samp, shapiro\n",
    "from scipy.optimize import curve_fit\n"
   ]
  },
  {
   "cell_type": "code",
   "execution_count": 36,
   "metadata": {},
   "outputs": [],
   "source": [
    "start_time_cut = 4\n",
    "end_time_cut = 6"
   ]
  },
  {
   "cell_type": "code",
   "execution_count": 37,
   "metadata": {},
   "outputs": [
    {
     "data": {
      "text/html": [
       "<div>\n",
       "<style scoped>\n",
       "    .dataframe tbody tr th:only-of-type {\n",
       "        vertical-align: middle;\n",
       "    }\n",
       "\n",
       "    .dataframe tbody tr th {\n",
       "        vertical-align: top;\n",
       "    }\n",
       "\n",
       "    .dataframe thead th {\n",
       "        text-align: right;\n",
       "    }\n",
       "</style>\n",
       "<table border=\"1\" class=\"dataframe\">\n",
       "  <thead>\n",
       "    <tr style=\"text-align: right;\">\n",
       "      <th></th>\n",
       "      <th>runstring</th>\n",
       "      <th>seed</th>\n",
       "      <th>pairindex</th>\n",
       "      <th>j</th>\n",
       "      <th>k</th>\n",
       "      <th>Zstar</th>\n",
       "      <th>libfac</th>\n",
       "      <th>Zcom</th>\n",
       "      <th>instability_time</th>\n",
       "      <th>shadow_instability_time</th>\n",
       "    </tr>\n",
       "  </thead>\n",
       "  <tbody>\n",
       "    <tr>\n",
       "      <td>0</td>\n",
       "      <td>0000000.bin</td>\n",
       "      <td>3500000</td>\n",
       "      <td>1</td>\n",
       "      <td>12</td>\n",
       "      <td>1</td>\n",
       "      <td>0.021650</td>\n",
       "      <td>0.007181</td>\n",
       "      <td>0.041669</td>\n",
       "      <td>1.545872e+06</td>\n",
       "      <td>3.063700e+06</td>\n",
       "    </tr>\n",
       "    <tr>\n",
       "      <td>1</td>\n",
       "      <td>0000001.bin</td>\n",
       "      <td>700001</td>\n",
       "      <td>1</td>\n",
       "      <td>19</td>\n",
       "      <td>2</td>\n",
       "      <td>0.060291</td>\n",
       "      <td>0.523204</td>\n",
       "      <td>0.010656</td>\n",
       "      <td>9.990000e+08</td>\n",
       "      <td>9.990000e+08</td>\n",
       "    </tr>\n",
       "    <tr>\n",
       "      <td>2</td>\n",
       "      <td>0000002.bin</td>\n",
       "      <td>2</td>\n",
       "      <td>0</td>\n",
       "      <td>6</td>\n",
       "      <td>1</td>\n",
       "      <td>0.026353</td>\n",
       "      <td>0.012995</td>\n",
       "      <td>0.050319</td>\n",
       "      <td>9.990000e+08</td>\n",
       "      <td>9.990000e+08</td>\n",
       "    </tr>\n",
       "    <tr>\n",
       "      <td>3</td>\n",
       "      <td>0000003.bin</td>\n",
       "      <td>2100003</td>\n",
       "      <td>0</td>\n",
       "      <td>5</td>\n",
       "      <td>2</td>\n",
       "      <td>0.023511</td>\n",
       "      <td>0.713415</td>\n",
       "      <td>0.102200</td>\n",
       "      <td>2.287671e+06</td>\n",
       "      <td>8.392234e+06</td>\n",
       "    </tr>\n",
       "    <tr>\n",
       "      <td>4</td>\n",
       "      <td>0000004.bin</td>\n",
       "      <td>700004</td>\n",
       "      <td>0</td>\n",
       "      <td>12</td>\n",
       "      <td>1</td>\n",
       "      <td>0.017473</td>\n",
       "      <td>0.003612</td>\n",
       "      <td>0.039803</td>\n",
       "      <td>9.668931e+05</td>\n",
       "      <td>3.380350e+05</td>\n",
       "    </tr>\n",
       "  </tbody>\n",
       "</table>\n",
       "</div>"
      ],
      "text/plain": [
       "     runstring     seed  pairindex   j  k     Zstar    libfac      Zcom  \\\n",
       "0  0000000.bin  3500000          1  12  1  0.021650  0.007181  0.041669   \n",
       "1  0000001.bin   700001          1  19  2  0.060291  0.523204  0.010656   \n",
       "2  0000002.bin        2          0   6  1  0.026353  0.012995  0.050319   \n",
       "3  0000003.bin  2100003          0   5  2  0.023511  0.713415  0.102200   \n",
       "4  0000004.bin   700004          0  12  1  0.017473  0.003612  0.039803   \n",
       "\n",
       "   instability_time  shadow_instability_time  \n",
       "0      1.545872e+06             3.063700e+06  \n",
       "1      9.990000e+08             9.990000e+08  \n",
       "2      9.990000e+08             9.990000e+08  \n",
       "3      2.287671e+06             8.392234e+06  \n",
       "4      9.668931e+05             3.380350e+05  "
      ]
     },
     "execution_count": 37,
     "metadata": {},
     "output_type": "execute_result"
    }
   ],
   "source": [
    "#try testing with the resonant dataset\n",
    "res_test = pd.read_csv(\"../../csvs/resonant_data.csv\", index_col=0)\n",
    "res_test.head()"
   ]
  },
  {
   "cell_type": "code",
   "execution_count": 38,
   "metadata": {},
   "outputs": [
    {
     "name": "stdout",
     "output_type": "stream",
     "text": [
      "(3633, 10)\n"
     ]
    }
   ],
   "source": [
    "test_samples = res_test[ (np.log10(res_test[\"instability_time\"])<end_time_cut ) &\n",
    "                       (np.log10(res_test[\"shadow_instability_time\"])<end_time_cut ) &\n",
    "                       (np.log10(res_test[\"instability_time\"])>start_time_cut ) &\n",
    "                       (np.log10(res_test[\"shadow_instability_time\"])>start_time_cut ) ]\n",
    "\n",
    "\n",
    "print(test_samples.shape)\n",
    "diff_data = np.log10(test_samples[\"instability_time\"]) - np.log10(test_samples[\"shadow_instability_time\"])\n"
   ]
  },
  {
   "cell_type": "code",
   "execution_count": 39,
   "metadata": {},
   "outputs": [
    {
     "name": "stdout",
     "output_type": "stream",
     "text": [
      "(3230, 4)\n"
     ]
    },
    {
     "name": "stderr",
     "output_type": "stream",
     "text": [
      "/home/naireen/Documents/pythonVirtualEnvs/ROB501/lib/python3.7/site-packages/ipykernel_launcher.py:8: SettingWithCopyWarning: \n",
      "A value is trying to be set on a copy of a slice from a DataFrame.\n",
      "Try using .loc[row_indexer,col_indexer] = value instead\n",
      "\n",
      "See the caveats in the documentation: http://pandas.pydata.org/pandas-docs/stable/user_guide/indexing.html#returning-a-view-versus-a-copy\n",
      "  \n"
     ]
    },
    {
     "data": {
      "text/html": [
       "<div>\n",
       "<style scoped>\n",
       "    .dataframe tbody tr th:only-of-type {\n",
       "        vertical-align: middle;\n",
       "    }\n",
       "\n",
       "    .dataframe tbody tr th {\n",
       "        vertical-align: top;\n",
       "    }\n",
       "\n",
       "    .dataframe thead th {\n",
       "        text-align: right;\n",
       "    }\n",
       "</style>\n",
       "<table border=\"1\" class=\"dataframe\">\n",
       "  <thead>\n",
       "    <tr style=\"text-align: right;\">\n",
       "      <th></th>\n",
       "      <th>runstring</th>\n",
       "      <th>t</th>\n",
       "      <th>t_shadow</th>\n",
       "      <th>diff</th>\n",
       "    </tr>\n",
       "  </thead>\n",
       "  <tbody>\n",
       "    <tr>\n",
       "      <td>1</td>\n",
       "      <td>0000001.bin</td>\n",
       "      <td>134874.883234</td>\n",
       "      <td>213307.156880</td>\n",
       "      <td>-0.199074</td>\n",
       "    </tr>\n",
       "    <tr>\n",
       "      <td>21</td>\n",
       "      <td>0000021.bin</td>\n",
       "      <td>359024.215651</td>\n",
       "      <td>646731.388681</td>\n",
       "      <td>-0.255600</td>\n",
       "    </tr>\n",
       "    <tr>\n",
       "      <td>25</td>\n",
       "      <td>0000025.bin</td>\n",
       "      <td>370834.044418</td>\n",
       "      <td>671974.880182</td>\n",
       "      <td>-0.258173</td>\n",
       "    </tr>\n",
       "    <tr>\n",
       "      <td>28</td>\n",
       "      <td>0000028.bin</td>\n",
       "      <td>33746.408229</td>\n",
       "      <td>41949.192113</td>\n",
       "      <td>-0.094496</td>\n",
       "    </tr>\n",
       "    <tr>\n",
       "      <td>31</td>\n",
       "      <td>0000031.bin</td>\n",
       "      <td>26710.958640</td>\n",
       "      <td>52379.153468</td>\n",
       "      <td>-0.292469</td>\n",
       "    </tr>\n",
       "  </tbody>\n",
       "</table>\n",
       "</div>"
      ],
      "text/plain": [
       "      runstring              t       t_shadow      diff\n",
       "1   0000001.bin  134874.883234  213307.156880 -0.199074\n",
       "21  0000021.bin  359024.215651  646731.388681 -0.255600\n",
       "25  0000025.bin  370834.044418  671974.880182 -0.258173\n",
       "28  0000028.bin   33746.408229   41949.192113 -0.094496\n",
       "31  0000031.bin   26710.958640   52379.153468 -0.292469"
      ]
     },
     "execution_count": 39,
     "metadata": {},
     "output_type": "execute_result"
    }
   ],
   "source": [
    "# load the differences for random systems\n",
    "random_test_systems = pd.read_csv(\"../../csvs/deltatimes.csv\", index_col =0)\n",
    "\n",
    "random_reduced_systems = random_test_systems[(np.log10(random_test_systems[\"t\"]) > start_time_cut)  &\n",
    "                               (np.log10(random_test_systems[\"t\"]) < end_time_cut) &\n",
    "                               (np.log10(random_test_systems[\"t_shadow\"]) > start_time_cut) &\n",
    "                               (np.log10(random_test_systems[\"t_shadow\"])< end_time_cut) ]\n",
    "random_reduced_systems[\"diff\"] = np.log10(random_reduced_systems[\"t\"]) -np.log10(random_reduced_systems[\"t_shadow\"])\n",
    "print(random_reduced_systems.shape)\n",
    "random_reduced_systems.head()"
   ]
  },
  {
   "cell_type": "code",
   "execution_count": 40,
   "metadata": {},
   "outputs": [
    {
     "data": {
      "text/plain": [
       "Ks_2sampResult(statistic=0.013011617789799217, pvalue=1.0)"
      ]
     },
     "execution_count": 40,
     "metadata": {},
     "output_type": "execute_result"
    }
   ],
   "source": [
    "ks_2samp(random_reduced_systems[\"diff\"].values, diff_data)"
   ]
  },
  {
   "cell_type": "code",
   "execution_count": 41,
   "metadata": {},
   "outputs": [
    {
     "data": {
      "text/plain": [
       "'1.3.1'"
      ]
     },
     "execution_count": 41,
     "metadata": {},
     "output_type": "execute_result"
    }
   ],
   "source": [
    "import scipy\n",
    "scipy.__version__"
   ]
  },
  {
   "cell_type": "code",
   "execution_count": 42,
   "metadata": {},
   "outputs": [
    {
     "data": {
      "text/plain": [
       "<matplotlib.legend.Legend at 0x7f265cf0f7f0>"
      ]
     },
     "execution_count": 42,
     "metadata": {},
     "output_type": "execute_result"
    },
    {
     "data": {
      "image/png": "[encoded data removed]",
      "text/plain": [
       "<Figure size 432x288 with 1 Axes>"
      ]
     },
     "metadata": {
      "needs_background": "light"
     },
     "output_type": "display_data"
    }
   ],
   "source": [
    "bins = np.linspace(-4, 4, 100)\n",
    "plt.hist(diff_data, bins = bins, label = \"resonant\", alpha = 0.5)\n",
    "plt.hist(random_reduced_systems[\"diff\"].values, bins = bins, label = \"random\", alpha = 0.5)\n",
    "plt.legend()"
   ]
  },
  {
   "cell_type": "code",
   "execution_count": 44,
   "metadata": {},
   "outputs": [
    {
     "data": {
      "text/html": [
       "<div>\n",
       "<style scoped>\n",
       "    .dataframe tbody tr th:only-of-type {\n",
       "        vertical-align: middle;\n",
       "    }\n",
       "\n",
       "    .dataframe tbody tr th {\n",
       "        vertical-align: top;\n",
       "    }\n",
       "\n",
       "    .dataframe thead th {\n",
       "        text-align: right;\n",
       "    }\n",
       "</style>\n",
       "<table border=\"1\" class=\"dataframe\">\n",
       "  <thead>\n",
       "    <tr style=\"text-align: right;\">\n",
       "      <th></th>\n",
       "      <th>ID</th>\n",
       "      <th>Probability</th>\n",
       "      <th>Mean</th>\n",
       "      <th>Sigma</th>\n",
       "      <th>Mean_Error</th>\n",
       "      <th>Sigma_Error</th>\n",
       "      <th>Determinant</th>\n",
       "    </tr>\n",
       "  </thead>\n",
       "  <tbody>\n",
       "    <tr>\n",
       "      <td>312</td>\n",
       "      <td>391.0</td>\n",
       "      <td>0.380109</td>\n",
       "      <td>4.832709</td>\n",
       "      <td>0.479577</td>\n",
       "      <td>0.021807</td>\n",
       "      <td>0.015415</td>\n",
       "      <td>1.130073e-07</td>\n",
       "    </tr>\n",
       "    <tr>\n",
       "      <td>313</td>\n",
       "      <td>393.0</td>\n",
       "      <td>0.181957</td>\n",
       "      <td>5.364817</td>\n",
       "      <td>1.022106</td>\n",
       "      <td>0.046608</td>\n",
       "      <td>0.033712</td>\n",
       "      <td>2.467449e-06</td>\n",
       "    </tr>\n",
       "    <tr>\n",
       "      <td>314</td>\n",
       "      <td>394.0</td>\n",
       "      <td>0.598461</td>\n",
       "      <td>6.614040</td>\n",
       "      <td>0.297937</td>\n",
       "      <td>0.013410</td>\n",
       "      <td>0.009552</td>\n",
       "      <td>1.640262e-08</td>\n",
       "    </tr>\n",
       "    <tr>\n",
       "      <td>315</td>\n",
       "      <td>395.0</td>\n",
       "      <td>0.409190</td>\n",
       "      <td>4.146248</td>\n",
       "      <td>0.439739</td>\n",
       "      <td>0.019946</td>\n",
       "      <td>0.013836</td>\n",
       "      <td>7.615377e-08</td>\n",
       "    </tr>\n",
       "    <tr>\n",
       "      <td>316</td>\n",
       "      <td>399.0</td>\n",
       "      <td>0.502488</td>\n",
       "      <td>6.190145</td>\n",
       "      <td>0.358946</td>\n",
       "      <td>0.016343</td>\n",
       "      <td>0.011388</td>\n",
       "      <td>3.460652e-08</td>\n",
       "    </tr>\n",
       "  </tbody>\n",
       "</table>\n",
       "</div>"
      ],
      "text/plain": [
       "        ID  Probability      Mean     Sigma  Mean_Error  Sigma_Error  \\\n",
       "312  391.0     0.380109  4.832709  0.479577    0.021807     0.015415   \n",
       "313  393.0     0.181957  5.364817  1.022106    0.046608     0.033712   \n",
       "314  394.0     0.598461  6.614040  0.297937    0.013410     0.009552   \n",
       "315  395.0     0.409190  4.146248  0.439739    0.019946     0.013836   \n",
       "316  399.0     0.502488  6.190145  0.358946    0.016343     0.011388   \n",
       "\n",
       "      Determinant  \n",
       "312  1.130073e-07  \n",
       "313  2.467449e-06  \n",
       "314  1.640262e-08  \n",
       "315  7.615377e-08  \n",
       "316  3.460652e-08  "
      ]
     },
     "execution_count": 44,
     "metadata": {},
     "output_type": "execute_result"
    }
   ],
   "source": [
    "# Resonant Data\n",
    "\n",
    "file_path = \"../../csvs/Res_3_feats/\"\n",
    "resonant_shadow_systems = pd.read_csv(file_path + \"Gaussian_Fits_317.csv\")\n",
    "resonant_shadow_systems.tail()"
   ]
  },
  {
   "cell_type": "code",
   "execution_count": 56,
   "metadata": {},
   "outputs": [
    {
     "data": {
      "text/plain": [
       "4      0.456417\n",
       "5      1.022938\n",
       "9     -0.437143\n",
       "13    -0.178312\n",
       "14    -0.024130\n",
       "         ...   \n",
       "377    0.089201\n",
       "382   -0.448704\n",
       "391   -0.406665\n",
       "393    1.480145\n",
       "395    0.197466\n",
       "Length: 134, dtype: float64"
      ]
     },
     "execution_count": 56,
     "metadata": {},
     "output_type": "execute_result"
    }
   ],
   "source": [
    "res_test_shadow_system = res_test[ np.isin(res_test.index.values, resonant_shadow_systems[\"ID\"])]\n",
    "res_test_shadow_system_diff_data = res_test_shadow_system[ (np.log10(res_test_shadow_system[\"instability_time\"])<end_time_cut ) &\n",
    "                       (np.log10(res_test_shadow_system[\"shadow_instability_time\"])<end_time_cut ) &\n",
    "                       (np.log10(res_test_shadow_system[\"instability_time\"])>start_time_cut ) &\n",
    "                       (np.log10(res_test_shadow_system[\"shadow_instability_time\"])>start_time_cut ) ]\n",
    "\n",
    "\n",
    "# print(res_test_shadow_system_diff_data)\n",
    "res_diff_data = np.log10(res_test_shadow_system_diff_data[\"instability_time\"]) - np.log10(res_test_shadow_system_diff_data[\"shadow_instability_time\"])\n",
    "res_diff_data"
   ]
  },
  {
   "cell_type": "code",
   "execution_count": 62,
   "metadata": {},
   "outputs": [],
   "source": [
    "# plt.hist(res_diff_data, bins = bins)"
   ]
  },
  {
   "cell_type": "code",
   "execution_count": 64,
   "metadata": {},
   "outputs": [],
   "source": [
    "# random_data\n",
    "file_path = \"../../../Long300/\"\n",
    "random_shadow_systems = pd.read_csv(\"../../Figures/MCMCFigures/ProbabilityTable_Fixed_Covariences_266.csv\", index_col=0)\n",
    "\n",
    "\n",
    "random_test_shadow_system = random_test_systems[ np.isin(random_test_systems.index.values, random_shadow_systems[\"ID\"])]\n",
    "random_test_shadow_system_diff_data = random_test_shadow_system[ (np.log10(random_test_shadow_system[\"t\"])<end_time_cut ) &\n",
    "                       (np.log10(random_test_shadow_system[\"t_shadow\"])<end_time_cut ) &\n",
    "                       (np.log10(random_test_shadow_system[\"t\"])>start_time_cut ) &\n",
    "                       (np.log10(random_test_shadow_system[\"t_shadow\"])>start_time_cut ) ]"
   ]
  },
  {
   "cell_type": "code",
   "execution_count": 68,
   "metadata": {},
   "outputs": [
    {
     "data": {
      "text/plain": [
       "(array([ 2.,  0.,  7., 20., 23., 52., 39., 22.,  9.,  6.]),\n",
       " array([-1.42341384, -1.17845726, -0.93350067, -0.68854409, -0.4435875 ,\n",
       "        -0.19863092,  0.04632566,  0.29128225,  0.53623883,  0.78119541,\n",
       "         1.026152  ]),\n",
       " <a list of 10 Patch objects>)"
      ]
     },
     "execution_count": 68,
     "metadata": {},
     "output_type": "execute_result"
    },
    {
     "data": {
      "image/png": "[encoded data removed]",
      "text/plain": [
       "<Figure size 432x288 with 1 Axes>"
      ]
     },
     "metadata": {
      "needs_background": "light"
     },
     "output_type": "display_data"
    }
   ],
   "source": [
    "random_diff_data = np.log10(random_test_shadow_system_diff_data[\"t\"]) - np.log10(random_test_shadow_system_diff_data[\"t_shadow\"])"
   ]
  },
  {
   "cell_type": "code",
   "execution_count": 74,
   "metadata": {},
   "outputs": [
    {
     "name": "stderr",
     "output_type": "stream",
     "text": [
      "/home/naireen/Documents/pythonVirtualEnvs/ROB501/lib/python3.7/site-packages/ipykernel_launcher.py:2: MatplotlibDeprecationWarning: \n",
      "The 'normed' kwarg was deprecated in Matplotlib 2.1 and will be removed in 3.1. Use 'density' instead.\n",
      "  \n",
      "/home/naireen/Documents/pythonVirtualEnvs/ROB501/lib/python3.7/site-packages/ipykernel_launcher.py:3: MatplotlibDeprecationWarning: \n",
      "The 'normed' kwarg was deprecated in Matplotlib 2.1 and will be removed in 3.1. Use 'density' instead.\n",
      "  This is separate from the ipykernel package so we can avoid doing imports until\n"
     ]
    },
    {
     "data": {
      "text/plain": [
       "<matplotlib.legend.Legend at 0x7f265c21d828>"
      ]
     },
     "execution_count": 74,
     "metadata": {},
     "output_type": "execute_result"
    },
    {
     "data": {
      "image/png": "[encoded data removed]",
      "text/plain": [
       "<Figure size 432x288 with 1 Axes>"
      ]
     },
     "metadata": {
      "needs_background": "light"
     },
     "output_type": "display_data"
    }
   ],
   "source": [
    "bins = np.linspace(-2, 2, 30)\n",
    "plt.hist(res_diff_data, bins = bins, label = \"resonant\", alpha = 0.5, normed = 1)\n",
    "plt.hist(random_diff_data, bins = bins, label = \"random\", alpha = 0.5, normed = 2)\n",
    "plt.legend()"
   ]
  },
  {
   "cell_type": "code",
   "execution_count": 71,
   "metadata": {},
   "outputs": [
    {
     "data": {
      "text/plain": [
       "Ks_2sampResult(statistic=0.06791044776119402, pvalue=0.8391424019063207)"
      ]
     },
     "execution_count": 71,
     "metadata": {},
     "output_type": "execute_result"
    }
   ],
   "source": [
    "ks_2samp(res_diff_data, random_diff_data)"
   ]
  },
  {
   "cell_type": "code",
   "execution_count": null,
   "metadata": {},
   "outputs": [],
   "source": []
  }
 ],
 "metadata": {
  "kernelspec": {
   "display_name": "Python 3",
   "language": "python",
   "name": "python3"
  },
  "language_info": {
   "codemirror_mode": {
    "name": "ipython",
    "version": 3
   },
   "file_extension": ".py",
   "mimetype": "text/x-python",
   "name": "python",
   "nbconvert_exporter": "python",
   "pygments_lexer": "ipython3",
   "version": "3.7.3"
  }
 },
 "nbformat": 4,
 "nbformat_minor": 2
}
