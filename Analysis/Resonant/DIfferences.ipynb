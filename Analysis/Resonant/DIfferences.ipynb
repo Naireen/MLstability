{
 "cells": [
  {
   "cell_type": "code",
   "execution_count": 1,
   "metadata": {},
   "outputs": [],
   "source": [
    "import numpy as np\n",
    "import emcee\n",
    "import matplotlib\n",
    "import matplotlib.pyplot as plt\n",
    "#%matplotlib inline\n",
    "import pandas as pd\n",
    "import corner\n",
    "import time \n",
    "from scipy.stats import norm, laplace\n",
    "\n",
    "from scipy.stats import anderson_ksamp, ks_2samp, shapiro\n",
    "from scipy.optimize import curve_fit\n"
   ]
  },
  {
   "cell_type": "code",
   "execution_count": 23,
   "metadata": {},
   "outputs": [],
   "source": [
    "start_time_cut = 4\n",
    "end_time_cut = 7"
   ]
  },
  {
   "cell_type": "code",
   "execution_count": 24,
   "metadata": {},
   "outputs": [
    {
     "data": {
      "text/html": [
       "<div>\n",
       "<style scoped>\n",
       "    .dataframe tbody tr th:only-of-type {\n",
       "        vertical-align: middle;\n",
       "    }\n",
       "\n",
       "    .dataframe tbody tr th {\n",
       "        vertical-align: top;\n",
       "    }\n",
       "\n",
       "    .dataframe thead th {\n",
       "        text-align: right;\n",
       "    }\n",
       "</style>\n",
       "<table border=\"1\" class=\"dataframe\">\n",
       "  <thead>\n",
       "    <tr style=\"text-align: right;\">\n",
       "      <th></th>\n",
       "      <th>runstring</th>\n",
       "      <th>seed</th>\n",
       "      <th>pairindex</th>\n",
       "      <th>j</th>\n",
       "      <th>k</th>\n",
       "      <th>Zstar</th>\n",
       "      <th>libfac</th>\n",
       "      <th>Zcom</th>\n",
       "      <th>instability_time</th>\n",
       "      <th>shadow_instability_time</th>\n",
       "    </tr>\n",
       "  </thead>\n",
       "  <tbody>\n",
       "    <tr>\n",
       "      <td>0</td>\n",
       "      <td>0000000.bin</td>\n",
       "      <td>3500000</td>\n",
       "      <td>1</td>\n",
       "      <td>12</td>\n",
       "      <td>1</td>\n",
       "      <td>0.021650</td>\n",
       "      <td>0.007181</td>\n",
       "      <td>0.041669</td>\n",
       "      <td>1.545872e+06</td>\n",
       "      <td>3.063700e+06</td>\n",
       "    </tr>\n",
       "    <tr>\n",
       "      <td>1</td>\n",
       "      <td>0000001.bin</td>\n",
       "      <td>700001</td>\n",
       "      <td>1</td>\n",
       "      <td>19</td>\n",
       "      <td>2</td>\n",
       "      <td>0.060291</td>\n",
       "      <td>0.523204</td>\n",
       "      <td>0.010656</td>\n",
       "      <td>9.990000e+08</td>\n",
       "      <td>9.990000e+08</td>\n",
       "    </tr>\n",
       "    <tr>\n",
       "      <td>2</td>\n",
       "      <td>0000002.bin</td>\n",
       "      <td>2</td>\n",
       "      <td>0</td>\n",
       "      <td>6</td>\n",
       "      <td>1</td>\n",
       "      <td>0.026353</td>\n",
       "      <td>0.012995</td>\n",
       "      <td>0.050319</td>\n",
       "      <td>9.990000e+08</td>\n",
       "      <td>9.990000e+08</td>\n",
       "    </tr>\n",
       "    <tr>\n",
       "      <td>3</td>\n",
       "      <td>0000003.bin</td>\n",
       "      <td>2100003</td>\n",
       "      <td>0</td>\n",
       "      <td>5</td>\n",
       "      <td>2</td>\n",
       "      <td>0.023511</td>\n",
       "      <td>0.713415</td>\n",
       "      <td>0.102200</td>\n",
       "      <td>2.287671e+06</td>\n",
       "      <td>8.392234e+06</td>\n",
       "    </tr>\n",
       "    <tr>\n",
       "      <td>4</td>\n",
       "      <td>0000004.bin</td>\n",
       "      <td>700004</td>\n",
       "      <td>0</td>\n",
       "      <td>12</td>\n",
       "      <td>1</td>\n",
       "      <td>0.017473</td>\n",
       "      <td>0.003612</td>\n",
       "      <td>0.039803</td>\n",
       "      <td>9.668931e+05</td>\n",
       "      <td>3.380350e+05</td>\n",
       "    </tr>\n",
       "  </tbody>\n",
       "</table>\n",
       "</div>"
      ],
      "text/plain": [
       "     runstring     seed  pairindex   j  k     Zstar    libfac      Zcom  \\\n",
       "0  0000000.bin  3500000          1  12  1  0.021650  0.007181  0.041669   \n",
       "1  0000001.bin   700001          1  19  2  0.060291  0.523204  0.010656   \n",
       "2  0000002.bin        2          0   6  1  0.026353  0.012995  0.050319   \n",
       "3  0000003.bin  2100003          0   5  2  0.023511  0.713415  0.102200   \n",
       "4  0000004.bin   700004          0  12  1  0.017473  0.003612  0.039803   \n",
       "\n",
       "   instability_time  shadow_instability_time  \n",
       "0      1.545872e+06             3.063700e+06  \n",
       "1      9.990000e+08             9.990000e+08  \n",
       "2      9.990000e+08             9.990000e+08  \n",
       "3      2.287671e+06             8.392234e+06  \n",
       "4      9.668931e+05             3.380350e+05  "
      ]
     },
     "execution_count": 24,
     "metadata": {},
     "output_type": "execute_result"
    }
   ],
   "source": [
    "#try testing with the resonant dataset\n",
    "res_test = pd.read_csv(\"../../csvs/resonant_data.csv\", index_col=0)\n",
    "res_test.head()"
   ]
  },
  {
   "cell_type": "code",
   "execution_count": 25,
   "metadata": {},
   "outputs": [
    {
     "name": "stdout",
     "output_type": "stream",
     "text": [
      "(5039, 10)\n"
     ]
    }
   ],
   "source": [
    "test_samples = res_test[ (np.log10(res_test[\"instability_time\"])<end_time_cut ) &\n",
    "                       (np.log10(res_test[\"shadow_instability_time\"])<end_time_cut ) &\n",
    "                       (np.log10(res_test[\"instability_time\"])>start_time_cut ) &\n",
    "                       (np.log10(res_test[\"shadow_instability_time\"])>start_time_cut ) ]\n",
    "\n",
    "\n",
    "print(test_samples.shape)\n",
    "diff_data = np.log10(test_samples[\"instability_time\"]) - np.log10(test_samples[\"shadow_instability_time\"])\n"
   ]
  },
  {
   "cell_type": "code",
   "execution_count": 26,
   "metadata": {},
   "outputs": [
    {
     "name": "stdout",
     "output_type": "stream",
     "text": [
      "(4825, 4)\n"
     ]
    },
    {
     "name": "stderr",
     "output_type": "stream",
     "text": [
      "/home/naireen/Documents/pythonVirtualEnvs/ROB501/lib/python3.7/site-packages/ipykernel_launcher.py:8: SettingWithCopyWarning: \n",
      "A value is trying to be set on a copy of a slice from a DataFrame.\n",
      "Try using .loc[row_indexer,col_indexer] = value instead\n",
      "\n",
      "See the caveats in the documentation: http://pandas.pydata.org/pandas-docs/stable/user_guide/indexing.html#returning-a-view-versus-a-copy\n",
      "  \n"
     ]
    },
    {
     "data": {
      "text/html": [
       "<div>\n",
       "<style scoped>\n",
       "    .dataframe tbody tr th:only-of-type {\n",
       "        vertical-align: middle;\n",
       "    }\n",
       "\n",
       "    .dataframe tbody tr th {\n",
       "        vertical-align: top;\n",
       "    }\n",
       "\n",
       "    .dataframe thead th {\n",
       "        text-align: right;\n",
       "    }\n",
       "</style>\n",
       "<table border=\"1\" class=\"dataframe\">\n",
       "  <thead>\n",
       "    <tr style=\"text-align: right;\">\n",
       "      <th></th>\n",
       "      <th>runstring</th>\n",
       "      <th>t</th>\n",
       "      <th>t_shadow</th>\n",
       "      <th>diff</th>\n",
       "    </tr>\n",
       "  </thead>\n",
       "  <tbody>\n",
       "    <tr>\n",
       "      <td>1</td>\n",
       "      <td>0000001.bin</td>\n",
       "      <td>1.348749e+05</td>\n",
       "      <td>213307.156880</td>\n",
       "      <td>-0.199074</td>\n",
       "    </tr>\n",
       "    <tr>\n",
       "      <td>21</td>\n",
       "      <td>0000021.bin</td>\n",
       "      <td>3.590242e+05</td>\n",
       "      <td>646731.388681</td>\n",
       "      <td>-0.255600</td>\n",
       "    </tr>\n",
       "    <tr>\n",
       "      <td>22</td>\n",
       "      <td>0000022.bin</td>\n",
       "      <td>2.025537e+06</td>\n",
       "      <td>311291.666001</td>\n",
       "      <td>0.813373</td>\n",
       "    </tr>\n",
       "    <tr>\n",
       "      <td>25</td>\n",
       "      <td>0000025.bin</td>\n",
       "      <td>3.708340e+05</td>\n",
       "      <td>671974.880182</td>\n",
       "      <td>-0.258173</td>\n",
       "    </tr>\n",
       "    <tr>\n",
       "      <td>28</td>\n",
       "      <td>0000028.bin</td>\n",
       "      <td>3.374641e+04</td>\n",
       "      <td>41949.192113</td>\n",
       "      <td>-0.094496</td>\n",
       "    </tr>\n",
       "  </tbody>\n",
       "</table>\n",
       "</div>"
      ],
      "text/plain": [
       "      runstring             t       t_shadow      diff\n",
       "1   0000001.bin  1.348749e+05  213307.156880 -0.199074\n",
       "21  0000021.bin  3.590242e+05  646731.388681 -0.255600\n",
       "22  0000022.bin  2.025537e+06  311291.666001  0.813373\n",
       "25  0000025.bin  3.708340e+05  671974.880182 -0.258173\n",
       "28  0000028.bin  3.374641e+04   41949.192113 -0.094496"
      ]
     },
     "execution_count": 26,
     "metadata": {},
     "output_type": "execute_result"
    }
   ],
   "source": [
    "# load the differences for random systems\n",
    "random_test_systems = pd.read_csv(\"../../csvs/deltatimes.csv\", index_col =0)\n",
    "\n",
    "random_reduced_systems = random_test_systems[(np.log10(random_test_systems[\"t\"]) > start_time_cut)  &\n",
    "                               (np.log10(random_test_systems[\"t\"]) < end_time_cut) &\n",
    "                               (np.log10(random_test_systems[\"t_shadow\"]) > start_time_cut) &\n",
    "                               (np.log10(random_test_systems[\"t_shadow\"])< end_time_cut) ]\n",
    "random_reduced_systems[\"diff\"] = np.log10(random_reduced_systems[\"t\"]) -np.log10(random_reduced_systems[\"t_shadow\"])\n",
    "print(random_reduced_systems.shape)\n",
    "random_reduced_systems.head()"
   ]
  },
  {
   "cell_type": "code",
   "execution_count": 27,
   "metadata": {},
   "outputs": [
    {
     "data": {
      "text/plain": [
       "Ks_2sampResult(statistic=0.013605504011713813, pvalue=1.0)"
      ]
     },
     "execution_count": 27,
     "metadata": {},
     "output_type": "execute_result"
    }
   ],
   "source": [
    "ks_2samp(random_reduced_systems[\"diff\"].values, diff_data)"
   ]
  },
  {
   "cell_type": "code",
   "execution_count": 28,
   "metadata": {},
   "outputs": [
    {
     "data": {
      "text/plain": [
       "'1.3.1'"
      ]
     },
     "execution_count": 28,
     "metadata": {},
     "output_type": "execute_result"
    }
   ],
   "source": [
    "import scipy\n",
    "scipy.__version__"
   ]
  },
  {
   "cell_type": "code",
   "execution_count": null,
   "metadata": {},
   "outputs": [],
   "source": []
  }
 ],
 "metadata": {
  "kernelspec": {
   "display_name": "Python 3",
   "language": "python",
   "name": "python3"
  },
  "language_info": {
   "codemirror_mode": {
    "name": "ipython",
    "version": 3
   },
   "file_extension": ".py",
   "mimetype": "text/x-python",
   "name": "python",
   "nbconvert_exporter": "python",
   "pygments_lexer": "ipython3",
   "version": "3.7.3"
  }
 },
 "nbformat": 4,
 "nbformat_minor": 2
}
