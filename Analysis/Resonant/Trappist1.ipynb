{
 "cells": [
  {
   "cell_type": "code",
   "execution_count": 13,
   "metadata": {},
   "outputs": [],
   "source": [
    "import numpy as np\n",
    "import emcee\n",
    "import matplotlib\n",
    "import matplotlib.pyplot as plt\n",
    "%matplotlib inline\n",
    "import pandas as pd\n",
    "import corner\n",
    "import corner\n",
    "import time \n",
    "from scipy.stats import norm, laplace\n",
    "\n",
    "from scipy.stats import anderson_ksamp, ks_2samp, shapiro\n",
    "from scipy.optimize import curve_fit\n"
   ]
  },
  {
   "cell_type": "code",
   "execution_count": 14,
   "metadata": {},
   "outputs": [
    {
     "data": {
      "text/html": [
       "<div>\n",
       "<style scoped>\n",
       "    .dataframe tbody tr th:only-of-type {\n",
       "        vertical-align: middle;\n",
       "    }\n",
       "\n",
       "    .dataframe tbody tr th {\n",
       "        vertical-align: top;\n",
       "    }\n",
       "\n",
       "    .dataframe thead th {\n",
       "        text-align: right;\n",
       "    }\n",
       "</style>\n",
       "<table border=\"1\" class=\"dataframe\">\n",
       "  <thead>\n",
       "    <tr style=\"text-align: right;\">\n",
       "      <th></th>\n",
       "      <th>runstring</th>\n",
       "      <th>t</th>\n",
       "    </tr>\n",
       "    <tr>\n",
       "      <th>Unnamed: 0</th>\n",
       "      <th></th>\n",
       "      <th></th>\n",
       "    </tr>\n",
       "  </thead>\n",
       "  <tbody>\n",
       "    <tr>\n",
       "      <td>0</td>\n",
       "      <td>0000000.bin</td>\n",
       "      <td>1.196862e+06</td>\n",
       "    </tr>\n",
       "    <tr>\n",
       "      <td>1</td>\n",
       "      <td>0000001.bin</td>\n",
       "      <td>1.396064e+05</td>\n",
       "    </tr>\n",
       "    <tr>\n",
       "      <td>2</td>\n",
       "      <td>0000002.bin</td>\n",
       "      <td>1.180004e+07</td>\n",
       "    </tr>\n",
       "    <tr>\n",
       "      <td>3</td>\n",
       "      <td>0000003.bin</td>\n",
       "      <td>6.899055e+05</td>\n",
       "    </tr>\n",
       "    <tr>\n",
       "      <td>4</td>\n",
       "      <td>0000004.bin</td>\n",
       "      <td>8.482093e+04</td>\n",
       "    </tr>\n",
       "  </tbody>\n",
       "</table>\n",
       "</div>"
      ],
      "text/plain": [
       "              runstring             t\n",
       "Unnamed: 0                           \n",
       "0           0000000.bin  1.196862e+06\n",
       "1           0000001.bin  1.396064e+05\n",
       "2           0000002.bin  1.180004e+07\n",
       "3           0000003.bin  6.899055e+05\n",
       "4           0000004.bin  8.482093e+04"
      ]
     },
     "execution_count": 14,
     "metadata": {},
     "output_type": "execute_result"
    }
   ],
   "source": [
    "data = pd.read_csv(\"../../csvs/trap_ic4_1e8.csv\", index_col=0)\n",
    "#divide time by period of innermost to get the time in terms of orbits\n",
    "data[\"t\"] /=0.0041\n",
    "data.head()"
   ]
  },
  {
   "cell_type": "code",
   "execution_count": 15,
   "metadata": {},
   "outputs": [
    {
     "data": {
      "text/plain": [
       "(array([ 3.,  4.,  8.,  6., 16., 16., 25., 48., 69., 85., 76., 60., 36.,\n",
       "        25.,  8.,  6.,  3.,  2.,  2.,  2.]),\n",
       " array([4.28251828, 4.44113743, 4.59975659, 4.75837574, 4.9169949 ,\n",
       "        5.07561405, 5.2342332 , 5.39285236, 5.55147151, 5.71009066,\n",
       "        5.86870982, 6.02732897, 6.18594813, 6.34456728, 6.50318643,\n",
       "        6.66180559, 6.82042474, 6.9790439 , 7.13766305, 7.2962822 ,\n",
       "        7.45490136]),\n",
       " <a list of 20 Patch objects>)"
      ]
     },
     "execution_count": 15,
     "metadata": {},
     "output_type": "execute_result"
    },
    {
     "data": {
      "image/png": "[encoded data removed]",
      "text/plain": [
       "<Figure size 432x288 with 1 Axes>"
      ]
     },
     "metadata": {
      "needs_background": "light"
     },
     "output_type": "display_data"
    }
   ],
   "source": [
    "times = np.log10(data[\"t\"])\n",
    "plt.hist(times, bins = 20)"
   ]
  },
  {
   "cell_type": "code",
   "execution_count": 16,
   "metadata": {},
   "outputs": [],
   "source": [
    "# Then, define the probability distribution that you would like to sample.\n",
    "def lnprob(p, vec):\n",
    "    diff = vec-p[0]\n",
    "    N = len(vec)\n",
    "    #probs = \n",
    "    if p[1] <=0:\n",
    "        return -np.inf#0\n",
    "    try:\n",
    "        probs = -0.5 * N * np.log(2. * np.pi) - N/2. * np.log(np.abs(p[1])**2) - 0.5 \\\n",
    "                                    * np.sum(( (vec - p[0]) / p[1] ) ** 2)\n",
    "    except:\n",
    "        probs = 0.00\n",
    "    return probs\n",
    "       \n",
    "def log_prob_normed(mu, sigma, info):\n",
    "    prob = -np.log(2*np.pi)/2. - np.log(sigma**2.)/2.-(1./(sigma**2.)/2./info.shape[0])*np.nansum((info-mu)**2.)\n",
    "    #print \n",
    "    return prob"
   ]
  },
  {
   "cell_type": "code",
   "execution_count": 44,
   "metadata": {},
   "outputs": [
    {
     "name": "stdout",
     "output_type": "stream",
     "text": [
      "Running MCMC ...\n",
      "Done at ... 8.131702899932861 seconds.\n",
      "5.794908510965622\n"
     ]
    }
   ],
   "source": [
    "nwalkers = 20\n",
    "ndim = 2\n",
    "iterations = 1000\n",
    "np.random.seed(0)\n",
    "\n",
    "# Choose an initial set of positions for the walkers.\n",
    "p0 = [np.random.rand(ndim) for i in range(nwalkers)]\n",
    "sampler = emcee.EnsembleSampler(nwalkers, ndim, lnprob, args=[times], a=5)\n",
    "\n",
    "# Run 200 steps as a burn-in.\n",
    "#print \"Burning in ...\"\n",
    "pos, prob, state = sampler.run_mcmc(p0, 200)\n",
    "\n",
    "# Reset the chain to remove the burn-in samples.\n",
    "sampler.reset()\n",
    "\n",
    "print(\"Running MCMC ...\")\n",
    "start = time.time()\n",
    "pos, prob, state = sampler.run_mcmc(pos, iterations, rstate0=0)\n",
    "end = time.time()\n",
    "print(\"Done at ...\", (end - start), \"seconds.\" )\n",
    "#af = sampler.acceptance_fraction\n",
    "#print \"Mean acceptance fraction:\", np.mean(af)\n",
    "\n",
    "\n",
    "#Determine the best mean and sigma\n",
    "maxprob_indice = np.argmax(prob)\n",
    "mean_fit, sigma_fit = pos[maxprob_indice]\n",
    "sigma_fit = np.abs(sigma_fit)\n",
    "print(mean_fit)"
   ]
  },
  {
   "cell_type": "code",
   "execution_count": 45,
   "metadata": {},
   "outputs": [
    {
     "name": "stdout",
     "output_type": "stream",
     "text": [
      "5.794908510965622 0.4744400797355664\n"
     ]
    }
   ],
   "source": [
    "print(mean_fit, sigma_fit) #5.789547239842309 #5.7904733832579245"
   ]
  },
  {
   "cell_type": "code",
   "execution_count": 26,
   "metadata": {},
   "outputs": [
    {
     "name": "stdout",
     "output_type": "stream",
     "text": [
      "0.11136835555551457\n"
     ]
    },
    {
     "data": {
      "image/png": "[encoded data removed]",
      "text/plain": [
       "<Figure size 432x288 with 1 Axes>"
      ]
     },
     "metadata": {
      "needs_background": "light"
     },
     "output_type": "display_data"
    }
   ],
   "source": [
    "np.random.seed(0)\n",
    "test = np.random.normal(loc=mean_fit, scale=sigma_fit, size = data.shape[0])\n",
    "plt.figure()\n",
    "plt.hist(test)\n",
    "plt.hist(times)\n",
    "\n",
    "try:\n",
    "    statistic, p_val = ks_2samp(times, test)\n",
    "except:\n",
    "    statistic, p_val = 0,0\n",
    "print (p_val)"
   ]
  },
  {
   "cell_type": "code",
   "execution_count": 47,
   "metadata": {},
   "outputs": [
    {
     "name": "stderr",
     "output_type": "stream",
     "text": [
      "/home/naireen/Documents/pythonVirtualEnvs/ROB501/lib/python3.7/site-packages/ipykernel_launcher.py:20: MatplotlibDeprecationWarning: \n",
      "The 'normed' kwarg was deprecated in Matplotlib 2.1 and will be removed in 3.1. Use 'density' instead.\n"
     ]
    },
    {
     "data": {
      "text/plain": [
       "<matplotlib.legend.Legend at 0x7fbf61e524a8>"
      ]
     },
     "execution_count": 47,
     "metadata": {},
     "output_type": "execute_result"
    },
    {
     "data": {
      "image/png": "[encoded data removed]",
      "text/plain": [
       "<Figure size 792x504 with 1 Axes>"
      ]
     },
     "metadata": {
      "needs_background": "light"
     },
     "output_type": "display_data"
    }
   ],
   "source": [
    "plt.rc('lines', linewidth=3)\n",
    "plt.rc('font', size = 20, family = 'monospace')\n",
    "# plt.rc('font', size=48, family='serif', weight=500)\n",
    "plt.rc('mathtext', fontset = 'dejavuserif')\n",
    "plt.rc('axes', linewidth=3)\n",
    "plt.rc('patch', linewidth=3)\n",
    "plt.rc('xtick.major', width=5, size=10)\n",
    "plt.rc('xtick.minor', width=4, size=10)\n",
    "plt.rc('ytick.major', width=5, size=10)\n",
    "plt.rc('ytick.minor', width=4, size=10)\n",
    "\n",
    "x = np.linspace(4, 8, 200)\n",
    "\n",
    "#compare with the sigma parameters found from the resonant gaussian fit. \n",
    "avg_sigma = 0.410\n",
    "\n",
    "rv = norm(loc = mean_fit, scale = avg_sigma)\n",
    "fig, ax1 = plt.subplots(figsize=(11, 7))\n",
    "ax1.plot(x, rv.pdf(x), linewidth = 4, color = \"black\", label=\"Resonant Gassian Fit\")\n",
    "ax1.hist(times, normed=1, bins  =20)        \n",
    "ax1.set_xlabel(\"Log Instability Time (Orbits)\")\n",
    "ax1.set_ylabel(\"Normalized Counts of \\n Unstable Systems\")\n",
    "ax1.legend()\n"
   ]
  },
  {
   "cell_type": "code",
   "execution_count": null,
   "metadata": {
    "collapsed": true
   },
   "outputs": [],
   "source": []
  }
 ],
 "metadata": {
  "anaconda-cloud": {},
  "kernelspec": {
   "display_name": "Python 3",
   "language": "python",
   "name": "python3"
  },
  "language_info": {
   "codemirror_mode": {
    "name": "ipython",
    "version": 3
   },
   "file_extension": ".py",
   "mimetype": "text/x-python",
   "name": "python",
   "nbconvert_exporter": "python",
   "pygments_lexer": "ipython3",
   "version": "3.7.3"
  }
 },
 "nbformat": 4,
 "nbformat_minor": 1
}
